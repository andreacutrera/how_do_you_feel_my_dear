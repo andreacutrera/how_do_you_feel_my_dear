{
  "cells": [
    {
      "cell_type": "markdown",
      "id": "276fbc01",
      "metadata": {
        "id": "276fbc01"
      },
      "source": [
        "# How do you feel my dear? (P8)"
      ]
    },
    {
      "cell_type": "markdown",
      "id": "caa40ff8",
      "metadata": {
        "id": "caa40ff8"
      },
      "source": [
        "## Andrea Pio Cutrera - 965591\n",
        "### Università degli Studi di Milano - _Data Science and Economics_"
      ]
    },
    {
      "cell_type": "markdown",
      "id": "48d1ff10",
      "metadata": {
        "id": "48d1ff10"
      },
      "source": [
        "**Text Mining and Sentiment Analysis**\n",
        "\n",
        "Recently, **emotion detection in text** has received attention in the literature on **sentiment analysis**. Detecting emotions is important for studying human communication in different domains, including fictional scripts for TV series and movies. The project aims at studying fictional scripts of several movies and TV series under the emotional profile. In particular, the task of the project is threefold:\n",
        "\n",
        "1. Create a **model to predict emotions in text** using available datasets as EmoBank or WASSA-2017 or Emotion Detection from Text as training sets (see below);\n",
        "2. Emotions may be represented either as **categorical classes** or in a continuous space such as Valence-Arousal-Dominance (see for example Warriner, A. B., Kuperman, V., & Brysbaert, M. (2013). Norms of valence, arousal, and dominance for 13,915 English lemmas. Behavior research methods, 45(4), 1191-1207.)\n",
        "3. Exploit the model to **study an emotional profile** of the **main characters** in **one of the movies** included in the Cornell Movie--Dialogs Corpus;\n",
        "4. Study how this **emotional profile changes in time along** the evolution of the movie story and how it is affected by the various relations among the different characters."
      ]
    },
    {
      "cell_type": "markdown",
      "id": "cd913b95",
      "metadata": {
        "id": "cd913b95"
      },
      "source": [
        "### Import all the libraries we need"
      ]
    },
    {
      "cell_type": "code",
      "execution_count": 1,
      "id": "2b148f22",
      "metadata": {
        "colab": {
          "base_uri": "https://localhost:8080/"
        },
        "id": "2b148f22",
        "outputId": "2cba2e12-7609-4c99-d0b2-5af5a18bd6d0"
      },
      "outputs": [
        {
          "output_type": "stream",
          "name": "stdout",
          "text": [
            "Collecting neattext\n",
            "  Downloading neattext-0.1.3-py3-none-any.whl (114 kB)\n",
            "\u001b[?25l\r\u001b[K     |██▉                             | 10 kB 17.4 MB/s eta 0:00:01\r\u001b[K     |█████▊                          | 20 kB 10.3 MB/s eta 0:00:01\r\u001b[K     |████████▋                       | 30 kB 9.0 MB/s eta 0:00:01\r\u001b[K     |███████████▍                    | 40 kB 8.3 MB/s eta 0:00:01\r\u001b[K     |██████████████▎                 | 51 kB 4.4 MB/s eta 0:00:01\r\u001b[K     |█████████████████▏              | 61 kB 5.2 MB/s eta 0:00:01\r\u001b[K     |████████████████████            | 71 kB 5.6 MB/s eta 0:00:01\r\u001b[K     |██████████████████████▉         | 81 kB 5.8 MB/s eta 0:00:01\r\u001b[K     |█████████████████████████▊      | 92 kB 6.4 MB/s eta 0:00:01\r\u001b[K     |████████████████████████████▋   | 102 kB 5.4 MB/s eta 0:00:01\r\u001b[K     |███████████████████████████████▍| 112 kB 5.4 MB/s eta 0:00:01\r\u001b[K     |████████████████████████████████| 114 kB 5.4 MB/s \n",
            "\u001b[?25hInstalling collected packages: neattext\n",
            "Successfully installed neattext-0.1.3\n",
            "Collecting demoji\n",
            "  Downloading demoji-1.1.0-py3-none-any.whl (42 kB)\n",
            "\u001b[K     |████████████████████████████████| 42 kB 802 kB/s \n",
            "\u001b[?25hInstalling collected packages: demoji\n",
            "Successfully installed demoji-1.1.0\n"
          ]
        },
        {
          "output_type": "stream",
          "name": "stderr",
          "text": [
            "/usr/local/lib/python3.7/dist-packages/ipykernel_launcher.py:19: FutureWarning: The demoji.download_codes attribute is deprecated and will be removed from demoji in a future version. It is an unused attribute as emoji codes are now distributed directly with the demoji package.\n"
          ]
        },
        {
          "output_type": "stream",
          "name": "stdout",
          "text": [
            "[nltk_data] Downloading package wordnet to /root/nltk_data...\n",
            "[nltk_data]   Unzipping corpora/wordnet.zip.\n",
            "Collecting keras-tuner\n",
            "  Downloading keras_tuner-1.1.2-py3-none-any.whl (133 kB)\n",
            "\u001b[K     |████████████████████████████████| 133 kB 5.2 MB/s \n",
            "\u001b[?25hCollecting kt-legacy\n",
            "  Downloading kt_legacy-1.0.4-py3-none-any.whl (9.6 kB)\n",
            "Requirement already satisfied: ipython in /usr/local/lib/python3.7/dist-packages (from keras-tuner) (5.5.0)\n",
            "Requirement already satisfied: numpy in /usr/local/lib/python3.7/dist-packages (from keras-tuner) (1.21.6)\n",
            "Requirement already satisfied: requests in /usr/local/lib/python3.7/dist-packages (from keras-tuner) (2.23.0)\n",
            "Requirement already satisfied: packaging in /usr/local/lib/python3.7/dist-packages (from keras-tuner) (21.3)\n",
            "Requirement already satisfied: tensorboard in /usr/local/lib/python3.7/dist-packages (from keras-tuner) (2.8.0)\n",
            "Requirement already satisfied: pickleshare in /usr/local/lib/python3.7/dist-packages (from ipython->keras-tuner) (0.7.5)\n",
            "Requirement already satisfied: decorator in /usr/local/lib/python3.7/dist-packages (from ipython->keras-tuner) (4.4.2)\n",
            "Requirement already satisfied: simplegeneric>0.8 in /usr/local/lib/python3.7/dist-packages (from ipython->keras-tuner) (0.8.1)\n",
            "Requirement already satisfied: pygments in /usr/local/lib/python3.7/dist-packages (from ipython->keras-tuner) (2.6.1)\n",
            "Requirement already satisfied: pexpect in /usr/local/lib/python3.7/dist-packages (from ipython->keras-tuner) (4.8.0)\n",
            "Requirement already satisfied: traitlets>=4.2 in /usr/local/lib/python3.7/dist-packages (from ipython->keras-tuner) (5.1.1)\n",
            "Requirement already satisfied: setuptools>=18.5 in /usr/local/lib/python3.7/dist-packages (from ipython->keras-tuner) (57.4.0)\n",
            "Requirement already satisfied: prompt-toolkit<2.0.0,>=1.0.4 in /usr/local/lib/python3.7/dist-packages (from ipython->keras-tuner) (1.0.18)\n",
            "Requirement already satisfied: six>=1.9.0 in /usr/local/lib/python3.7/dist-packages (from prompt-toolkit<2.0.0,>=1.0.4->ipython->keras-tuner) (1.15.0)\n",
            "Requirement already satisfied: wcwidth in /usr/local/lib/python3.7/dist-packages (from prompt-toolkit<2.0.0,>=1.0.4->ipython->keras-tuner) (0.2.5)\n",
            "Requirement already satisfied: pyparsing!=3.0.5,>=2.0.2 in /usr/local/lib/python3.7/dist-packages (from packaging->keras-tuner) (3.0.8)\n",
            "Requirement already satisfied: ptyprocess>=0.5 in /usr/local/lib/python3.7/dist-packages (from pexpect->ipython->keras-tuner) (0.7.0)\n",
            "Requirement already satisfied: idna<3,>=2.5 in /usr/local/lib/python3.7/dist-packages (from requests->keras-tuner) (2.10)\n",
            "Requirement already satisfied: certifi>=2017.4.17 in /usr/local/lib/python3.7/dist-packages (from requests->keras-tuner) (2021.10.8)\n",
            "Requirement already satisfied: chardet<4,>=3.0.2 in /usr/local/lib/python3.7/dist-packages (from requests->keras-tuner) (3.0.4)\n",
            "Requirement already satisfied: urllib3!=1.25.0,!=1.25.1,<1.26,>=1.21.1 in /usr/local/lib/python3.7/dist-packages (from requests->keras-tuner) (1.24.3)\n",
            "Requirement already satisfied: grpcio>=1.24.3 in /usr/local/lib/python3.7/dist-packages (from tensorboard->keras-tuner) (1.44.0)\n",
            "Requirement already satisfied: tensorboard-plugin-wit>=1.6.0 in /usr/local/lib/python3.7/dist-packages (from tensorboard->keras-tuner) (1.8.1)\n",
            "Requirement already satisfied: wheel>=0.26 in /usr/local/lib/python3.7/dist-packages (from tensorboard->keras-tuner) (0.37.1)\n",
            "Requirement already satisfied: google-auth-oauthlib<0.5,>=0.4.1 in /usr/local/lib/python3.7/dist-packages (from tensorboard->keras-tuner) (0.4.6)\n",
            "Requirement already satisfied: absl-py>=0.4 in /usr/local/lib/python3.7/dist-packages (from tensorboard->keras-tuner) (1.0.0)\n",
            "Requirement already satisfied: markdown>=2.6.8 in /usr/local/lib/python3.7/dist-packages (from tensorboard->keras-tuner) (3.3.6)\n",
            "Requirement already satisfied: protobuf>=3.6.0 in /usr/local/lib/python3.7/dist-packages (from tensorboard->keras-tuner) (3.17.3)\n",
            "Requirement already satisfied: google-auth<3,>=1.6.3 in /usr/local/lib/python3.7/dist-packages (from tensorboard->keras-tuner) (1.35.0)\n",
            "Requirement already satisfied: tensorboard-data-server<0.7.0,>=0.6.0 in /usr/local/lib/python3.7/dist-packages (from tensorboard->keras-tuner) (0.6.1)\n",
            "Requirement already satisfied: werkzeug>=0.11.15 in /usr/local/lib/python3.7/dist-packages (from tensorboard->keras-tuner) (1.0.1)\n",
            "Requirement already satisfied: pyasn1-modules>=0.2.1 in /usr/local/lib/python3.7/dist-packages (from google-auth<3,>=1.6.3->tensorboard->keras-tuner) (0.2.8)\n",
            "Requirement already satisfied: rsa<5,>=3.1.4 in /usr/local/lib/python3.7/dist-packages (from google-auth<3,>=1.6.3->tensorboard->keras-tuner) (4.8)\n",
            "Requirement already satisfied: cachetools<5.0,>=2.0.0 in /usr/local/lib/python3.7/dist-packages (from google-auth<3,>=1.6.3->tensorboard->keras-tuner) (4.2.4)\n",
            "Requirement already satisfied: requests-oauthlib>=0.7.0 in /usr/local/lib/python3.7/dist-packages (from google-auth-oauthlib<0.5,>=0.4.1->tensorboard->keras-tuner) (1.3.1)\n",
            "Requirement already satisfied: importlib-metadata>=4.4 in /usr/local/lib/python3.7/dist-packages (from markdown>=2.6.8->tensorboard->keras-tuner) (4.11.3)\n",
            "Requirement already satisfied: typing-extensions>=3.6.4 in /usr/local/lib/python3.7/dist-packages (from importlib-metadata>=4.4->markdown>=2.6.8->tensorboard->keras-tuner) (4.1.1)\n",
            "Requirement already satisfied: zipp>=0.5 in /usr/local/lib/python3.7/dist-packages (from importlib-metadata>=4.4->markdown>=2.6.8->tensorboard->keras-tuner) (3.8.0)\n",
            "Requirement already satisfied: pyasn1<0.5.0,>=0.4.6 in /usr/local/lib/python3.7/dist-packages (from pyasn1-modules>=0.2.1->google-auth<3,>=1.6.3->tensorboard->keras-tuner) (0.4.8)\n",
            "Requirement already satisfied: oauthlib>=3.0.0 in /usr/local/lib/python3.7/dist-packages (from requests-oauthlib>=0.7.0->google-auth-oauthlib<0.5,>=0.4.1->tensorboard->keras-tuner) (3.2.0)\n",
            "Installing collected packages: kt-legacy, keras-tuner\n",
            "Successfully installed keras-tuner-1.1.2 kt-legacy-1.0.4\n"
          ]
        },
        {
          "output_type": "stream",
          "name": "stderr",
          "text": [
            "/usr/local/lib/python3.7/dist-packages/ipykernel_launcher.py:34: DeprecationWarning: `import kerastuner` is deprecated, please use `import keras_tuner`.\n"
          ]
        }
      ],
      "source": [
        "import os\n",
        "import re\n",
        "import numpy as np\n",
        "import pandas as pd\n",
        "import matplotlib.pyplot as plt\n",
        "from google.colab import drive\n",
        "\n",
        "!pip install neattext\n",
        "import neattext.functions as nfx\n",
        "\n",
        "from sklearn.utils import shuffle\n",
        "from sklearn.model_selection import train_test_split, KFold\n",
        "from sklearn.preprocessing import LabelEncoder\n",
        "from sklearn import metrics\n",
        "from sklearn.metrics import confusion_matrix, ConfusionMatrixDisplay\n",
        "\n",
        "!pip install demoji\n",
        "import demoji\n",
        "demoji.download_codes()\n",
        "\n",
        "import nltk\n",
        "nltk.download('wordnet')\n",
        "from nltk.tokenize import TweetTokenizer\n",
        "from nltk.stem import WordNetLemmatizer\n",
        "from nltk.tokenize.treebank import TreebankWordDetokenizer\n",
        "\n",
        "from keras.preprocessing.text import Tokenizer\n",
        "from keras.preprocessing.sequence import pad_sequences\n",
        "from tensorflow.keras.utils import to_categorical\n",
        "\n",
        "from tensorflow.keras.models import Sequential, model_from_json\n",
        "from tensorflow.keras.layers import Dense, LSTM, Embedding, Bidirectional, Dropout, Input, Conv1D, MaxPooling1D, Flatten, GlobalMaxPooling1D\n",
        "!pip install keras-tuner --upgrade\n",
        "from kerastuner.tuners import RandomSearch, Hyperband\n",
        "from kerastuner.engine.hyperparameters import HyperParameters\n",
        "import tensorflow as tf\n",
        "\n",
        "from tensorflow.compat.v1.keras.layers import CuDNNLSTM\n",
        "\n",
        "import warnings \n",
        "warnings.filterwarnings(\"ignore\")\n",
        "\n",
        "# to plot accuracy of neural nets training\n",
        "def plot_history():\n",
        "    # summarize history for accuracy\n",
        "    plt.plot(history.history['accuracy'])\n",
        "    plt.plot(history.history['val_accuracy'])\n",
        "    plt.title('model accuracy')\n",
        "    plt.ylabel('accuracy')\n",
        "    plt.xlabel('epoch')\n",
        "    plt.legend(['train', 'test'], loc='upper left')\n",
        "    plt.show()\n",
        "    # summarize history for loss\n",
        "    plt.plot(history.history['loss'])\n",
        "    plt.plot(history.history['val_loss'])\n",
        "    plt.title('model loss')\n",
        "    plt.ylabel('loss')\n",
        "    plt.xlabel('epoch')\n",
        "    plt.legend(['train', 'test'], loc='upper left')\n",
        "    plt.show()"
      ]
    },
    {
      "cell_type": "markdown",
      "id": "49567a89",
      "metadata": {
        "id": "49567a89"
      },
      "source": [
        "### Dataset: WASSA-2017 Shared Task on Emotion Intensity (EmoInt)\n",
        "link: http://saifmohammad.com/WebPages/EmotionIntensity-SharedTask.html\n",
        "\n",
        "- With the commands below you can get a folder with all the data they provide\n",
        "1. Train, Development and Test data for each of the 4 emotions\n",
        "2. Emotions are: **anger**, **fear**, **joy** and **sadness**"
      ]
    },
    {
      "cell_type": "code",
      "execution_count": 5,
      "id": "295dc5fb",
      "metadata": {
        "colab": {
          "base_uri": "https://localhost:8080/"
        },
        "id": "295dc5fb",
        "outputId": "ca9561d7-9604-4e3e-e1d1-e462f276ebd3"
      },
      "outputs": [
        {
          "output_type": "stream",
          "name": "stdout",
          "text": [
            "  % Total    % Received % Xferd  Average Speed   Time    Time     Time  Current\n",
            "                                 Dload  Upload   Total   Spent    Left  Speed\n",
            "100 95686  100 95686    0     0   343k      0 --:--:-- --:--:-- --:--:--  344k\n",
            "  % Total    % Received % Xferd  Average Speed   Time    Time     Time  Current\n",
            "                                 Dload  Upload   Total   Spent    Left  Speed\n",
            "100  130k  100  130k    0     0   769k      0 --:--:-- --:--:-- --:--:--  769k\n",
            "  % Total    % Received % Xferd  Average Speed   Time    Time     Time  Current\n",
            "                                 Dload  Upload   Total   Spent    Left  Speed\n",
            "100 92266  100 92266    0     0   617k      0 --:--:-- --:--:-- --:--:--  612k\n",
            "  % Total    % Received % Xferd  Average Speed   Time    Time     Time  Current\n",
            "                                 Dload  Upload   Total   Spent    Left  Speed\n",
            "100 92977  100 92977    0     0   667k      0 --:--:-- --:--:-- --:--:--  667k\n",
            "  % Total    % Received % Xferd  Average Speed   Time    Time     Time  Current\n",
            "                                 Dload  Upload   Total   Spent    Left  Speed\n",
            "100  9687  100  9687    0     0  79401      0 --:--:-- --:--:-- --:--:-- 79401\n",
            "  % Total    % Received % Xferd  Average Speed   Time    Time     Time  Current\n",
            "                                 Dload  Upload   Total   Spent    Left  Speed\n",
            "100 12903  100 12903    0     0   136k      0 --:--:-- --:--:-- --:--:--  135k\n",
            "  % Total    % Received % Xferd  Average Speed   Time    Time     Time  Current\n",
            "                                 Dload  Upload   Total   Spent    Left  Speed\n",
            "100  8744  100  8744    0     0  68850      0 --:--:-- --:--:-- --:--:-- 68850\n",
            "  % Total    % Received % Xferd  Average Speed   Time    Time     Time  Current\n",
            "                                 Dload  Upload   Total   Spent    Left  Speed\n",
            "100  9043  100  9043    0     0  83731      0 --:--:-- --:--:-- --:--:-- 83731\n",
            "  % Total    % Received % Xferd  Average Speed   Time    Time     Time  Current\n",
            "                                 Dload  Upload   Total   Spent    Left  Speed\n",
            "100 87266  100 87266    0     0   587k      0 --:--:-- --:--:-- --:--:--  583k\n",
            "  % Total    % Received % Xferd  Average Speed   Time    Time     Time  Current\n",
            "                                 Dload  Upload   Total   Spent    Left  Speed\n",
            "100  111k  100  111k    0     0   656k      0 --:--:-- --:--:-- --:--:--  656k\n",
            "  % Total    % Received % Xferd  Average Speed   Time    Time     Time  Current\n",
            "                                 Dload  Upload   Total   Spent    Left  Speed\n",
            "100 80025  100 80025    0     0   562k      0 --:--:-- --:--:-- --:--:--  562k\n",
            "  % Total    % Received % Xferd  Average Speed   Time    Time     Time  Current\n",
            "                                 Dload  Upload   Total   Spent    Left  Speed\n",
            "100 78906  100 78906    0     0   606k      0 --:--:-- --:--:-- --:--:--  606k\n"
          ]
        }
      ],
      "source": [
        "!mkdir emotions # create a folder called emotions\n",
        "\n",
        "# training data\n",
        "!curl -O http://saifmohammad.com/WebDocs/EmoInt%20Train%20Data/anger-ratings-0to1.train.txt\n",
        "!mv anger-ratings-0to1.train.txt emotions/anger_train # move and change name\n",
        "\n",
        "!curl -O http://saifmohammad.com/WebDocs/EmoInt%20Train%20Data/fear-ratings-0to1.train.txt\n",
        "!mv fear-ratings-0to1.train.txt emotions/fear_train # move and change name\n",
        "\n",
        "!curl -O http://saifmohammad.com/WebDocs/EmoInt%20Train%20Data/joy-ratings-0to1.train.txt\n",
        "!mv joy-ratings-0to1.train.txt emotions/joy_train # move and change name\n",
        "\n",
        "!curl -O http://saifmohammad.com/WebDocs/EmoInt%20Train%20Data/sadness-ratings-0to1.train.txt\n",
        "!mv sadness-ratings-0to1.train.txt emotions/sadness_train # move and change name\n",
        "\n",
        "# validation data\n",
        "!curl -O http://saifmohammad.com/WebDocs/EmoInt%20Dev%20Data%20With%20Gold/anger-ratings-0to1.dev.gold.txt\n",
        "!mv anger-ratings-0to1.dev.gold.txt emotions/anger_val # move and change name\n",
        "\n",
        "!curl -O http://saifmohammad.com/WebDocs/EmoInt%20Dev%20Data%20With%20Gold/fear-ratings-0to1.dev.gold.txt\n",
        "!mv fear-ratings-0to1.dev.gold.txt emotions/fear_val # move and change name\n",
        "\n",
        "!curl -O http://saifmohammad.com/WebDocs/EmoInt%20Dev%20Data%20With%20Gold/joy-ratings-0to1.dev.gold.txt\n",
        "!mv joy-ratings-0to1.dev.gold.txt emotions/joy_val # move and change name\n",
        "\n",
        "!curl -O http://saifmohammad.com/WebDocs/EmoInt%20Dev%20Data%20With%20Gold/sadness-ratings-0to1.dev.gold.txt\n",
        "!mv sadness-ratings-0to1.dev.gold.txt emotions/sadness_val # move and change name\n",
        "\n",
        "# testing data\n",
        "!curl -O http://saifmohammad.com/WebDocs/EmoInt%20Test%20Gold%20Data/anger-ratings-0to1.test.gold.txt\n",
        "!mv anger-ratings-0to1.test.gold.txt emotions/anger_test # move and change name\n",
        "\n",
        "!curl -O http://saifmohammad.com/WebDocs/EmoInt%20Test%20Gold%20Data/fear-ratings-0to1.test.gold.txt\n",
        "!mv fear-ratings-0to1.test.gold.txt emotions/fear_test # move and change name\n",
        "\n",
        "!curl -O http://saifmohammad.com/WebDocs/EmoInt%20Test%20Gold%20Data/joy-ratings-0to1.test.gold.txt\n",
        "!mv joy-ratings-0to1.test.gold.txt emotions/joy_test # move and change name\n",
        "\n",
        "!curl -O http://saifmohammad.com/WebDocs/EmoInt%20Test%20Gold%20Data/sadness-ratings-0to1.test.gold.txt\n",
        "!mv sadness-ratings-0to1.test.gold.txt emotions/sadness_test # move and change name"
      ]
    },
    {
      "cell_type": "code",
      "execution_count": 6,
      "id": "b78929c3",
      "metadata": {
        "colab": {
          "base_uri": "https://localhost:8080/",
          "height": 37
        },
        "id": "b78929c3",
        "outputId": "762dfaf3-d2fc-4b6e-f9b3-b1284f83794b"
      },
      "outputs": [
        {
          "output_type": "execute_result",
          "data": {
            "text/plain": [
              "'/content'"
            ],
            "application/vnd.google.colaboratory.intrinsic+json": {
              "type": "string"
            }
          },
          "metadata": {},
          "execution_count": 6
        }
      ],
      "source": [
        "working_directory = !pwd                 # get present working directory\n",
        "working_directory = working_directory[0] # get the full string \n",
        "working_directory"
      ]
    },
    {
      "cell_type": "code",
      "execution_count": 7,
      "id": "0c4f01e7",
      "metadata": {
        "id": "0c4f01e7",
        "colab": {
          "base_uri": "https://localhost:8080/",
          "height": 37
        },
        "outputId": "ce4a8f93-1068-404d-db64-712372ce054a"
      },
      "outputs": [
        {
          "output_type": "execute_result",
          "data": {
            "text/plain": [
              "'/content/emotions'"
            ],
            "application/vnd.google.colaboratory.intrinsic+json": {
              "type": "string"
            }
          },
          "metadata": {},
          "execution_count": 7
        }
      ],
      "source": [
        "DIR = working_directory + \"/emotions\"    # go inside the folder created\n",
        "#CATEGORIES = [\"joy\", \"sadness\", \"fear\", \"anger\"]\n",
        "DIR"
      ]
    },
    {
      "cell_type": "code",
      "execution_count": 8,
      "id": "6101bb19",
      "metadata": {
        "id": "6101bb19"
      },
      "outputs": [],
      "source": [
        "# load in variables the data just downloaded\n",
        "\n",
        "joy_train = pd.read_csv(os.path.join(DIR, \"joy_train\"), sep=\"\\t\", header=None)\n",
        "sadness_train = pd.read_csv(os.path.join(DIR, \"sadness_train\"), sep=\"\\t\", header=None)\n",
        "fear_train = pd.read_csv(os.path.join(DIR, \"fear_train\"), sep=\"\\t\", header=None)\n",
        "anger_train = pd.read_csv(os.path.join(DIR, \"anger_train\"), sep=\"\\t\", header=None)\n",
        "\n",
        "joy_val = pd.read_csv(os.path.join(DIR, \"joy_val\"), sep=\"\\t\", header=None)\n",
        "sadness_val = pd.read_csv(os.path.join(DIR, \"sadness_val\"), sep=\"\\t\", header=None)\n",
        "fear_val = pd.read_csv(os.path.join(DIR, \"fear_val\"), sep=\"\\t\", header=None)\n",
        "anger_val = pd.read_csv(os.path.join(DIR, \"anger_val\"), sep=\"\\t\", header=None)\n",
        "\n",
        "joy_test = pd.read_csv(os.path.join(DIR, \"joy_test\"), sep=\"\\t\", header=None)\n",
        "sadness_test = pd.read_csv(os.path.join(DIR, \"sadness_test\"), sep=\"\\t\", header=None)\n",
        "fear_test = pd.read_csv(os.path.join(DIR, \"fear_test\"), sep=\"\\t\", header=None)\n",
        "anger_test = pd.read_csv(os.path.join(DIR, \"anger_test\"), sep=\"\\t\", header=None)"
      ]
    },
    {
      "cell_type": "code",
      "execution_count": 9,
      "id": "34043d16",
      "metadata": {
        "colab": {
          "base_uri": "https://localhost:8080/"
        },
        "id": "34043d16",
        "outputId": "9192b409-90da-4145-ece7-acf3e5183c89"
      },
      "outputs": [
        {
          "output_type": "stream",
          "name": "stdout",
          "text": [
            "(823, 4) (786, 4) (1147, 4) (857, 4)\n"
          ]
        }
      ],
      "source": [
        "print(joy_train.shape, sadness_train.shape, fear_train.shape, anger_train.shape)"
      ]
    },
    {
      "cell_type": "code",
      "execution_count": 10,
      "id": "7e3ebd77",
      "metadata": {
        "colab": {
          "base_uri": "https://localhost:8080/"
        },
        "id": "7e3ebd77",
        "outputId": "0ea1ddfe-efda-468a-b5c4-d4c3fbda2a47"
      },
      "outputs": [
        {
          "output_type": "stream",
          "name": "stdout",
          "text": [
            "(79, 4) (74, 4) (110, 4) (84, 4)\n"
          ]
        }
      ],
      "source": [
        "print(joy_val.shape, sadness_val.shape, fear_val.shape, anger_val.shape)"
      ]
    },
    {
      "cell_type": "code",
      "execution_count": 11,
      "id": "c423eb09",
      "metadata": {
        "colab": {
          "base_uri": "https://localhost:8080/"
        },
        "id": "c423eb09",
        "outputId": "a2711e7f-4d4f-49db-8eb8-1638bd91c65d"
      },
      "outputs": [
        {
          "output_type": "stream",
          "name": "stdout",
          "text": [
            "(714, 4) (673, 4) (995, 4) (760, 4)\n"
          ]
        }
      ],
      "source": [
        "print(joy_test.shape, sadness_test.shape, fear_test.shape, anger_test.shape)"
      ]
    },
    {
      "cell_type": "code",
      "execution_count": 12,
      "id": "034b1303",
      "metadata": {
        "id": "034b1303"
      },
      "outputs": [],
      "source": [
        "# rename columns all in the same way to get homogeneous datasets which could be concatenated\n",
        "\n",
        "joy_train.rename(columns={0: 'id', 1: 'text', 2: 'sentiment', 3: 'j'}, inplace=True)\n",
        "joy_train['s'] = 0\n",
        "joy_train['a'] = 0\n",
        "joy_train['f'] = 0\n",
        "joy_train = joy_train[['id', 'text', 'sentiment', 'j', 's', 'f', 'a']]\n",
        "\n",
        "joy_val.rename(columns={0: 'id', 1: 'text', 2: 'sentiment', 3: 'j'}, inplace=True)\n",
        "joy_val['s'] = 0\n",
        "joy_val['a'] = 0\n",
        "joy_val['f'] = 0\n",
        "joy_val = joy_val[['id', 'text', 'sentiment', 'j', 's', 'f', 'a']]\n",
        "\n",
        "joy_test.rename(columns={0: 'id', 1: 'text', 2: 'sentiment', 3: 'j'}, inplace=True)\n",
        "joy_test['s'] = 0\n",
        "joy_test['a'] = 0\n",
        "joy_test['f'] = 0\n",
        "joy_test = joy_test[['id', 'text', 'sentiment', 'j', 's', 'f', 'a']]\n",
        "\n",
        "sadness_train.rename(columns={0: 'id', 1: 'text', 2: 'sentiment', 3: 's'}, inplace=True)\n",
        "sadness_train['j'] = 0\n",
        "sadness_train['a'] = 0\n",
        "sadness_train['f'] = 0\n",
        "sadness_train = sadness_train[['id', 'text', 'sentiment', 'j', 's', 'f', 'a']]\n",
        "\n",
        "sadness_val.rename(columns={0: 'id', 1: 'text', 2: 'sentiment', 3: 's'}, inplace=True)\n",
        "sadness_val['j'] = 0\n",
        "sadness_val['a'] = 0\n",
        "sadness_val['f'] = 0\n",
        "sadness_val = sadness_val[['id', 'text', 'sentiment', 'j', 's', 'f', 'a']]\n",
        "\n",
        "sadness_test.rename(columns={0: 'id', 1: 'text', 2: 'sentiment', 3: 's'}, inplace=True)\n",
        "sadness_test['j'] = 0\n",
        "sadness_test['a'] = 0\n",
        "sadness_test['f'] = 0\n",
        "sadness_test = sadness_test[['id', 'text', 'sentiment', 'j', 's', 'f', 'a']]\n",
        "\n",
        "anger_train.rename(columns={0: 'id', 1: 'text', 2: 'sentiment', 3: 'a'}, inplace=True)\n",
        "anger_train['j'] = 0\n",
        "anger_train['s'] = 0\n",
        "anger_train['f'] = 0\n",
        "anger_train = anger_train[['id', 'text', 'sentiment', 'j', 's', 'f', 'a']]\n",
        "\n",
        "anger_val.rename(columns={0: 'id', 1: 'text', 2: 'sentiment', 3: 'a'}, inplace=True)\n",
        "anger_val['j'] = 0\n",
        "anger_val['s'] = 0\n",
        "anger_val['f'] = 0\n",
        "anger_val = anger_val[['id', 'text', 'sentiment', 'j', 's', 'f', 'a']]\n",
        "\n",
        "anger_test.rename(columns={0: 'id', 1: 'text', 2: 'sentiment', 3: 'a'}, inplace=True)\n",
        "anger_test['j'] = 0\n",
        "anger_test['s'] = 0\n",
        "anger_test['f'] = 0\n",
        "anger_test = anger_test[['id', 'text', 'sentiment', 'j', 's', 'f', 'a']]\n",
        "\n",
        "fear_train.rename(columns={0: 'id', 1: 'text', 2: 'sentiment', 3: 'f'}, inplace=True)\n",
        "fear_train['j'] = 0\n",
        "fear_train['s'] = 0\n",
        "fear_train['a'] = 0\n",
        "fear_train = fear_train[['id', 'text', 'sentiment', 'j', 's', 'f', 'a']]\n",
        "\n",
        "fear_val.rename(columns={0: 'id', 1: 'text', 2: 'sentiment', 3: 'f'}, inplace=True)\n",
        "fear_val['j'] = 0\n",
        "fear_val['s'] = 0\n",
        "fear_val['a'] = 0\n",
        "fear_val = fear_val[['id', 'text', 'sentiment', 'j', 's', 'f', 'a']]\n",
        "\n",
        "fear_test.rename(columns={0: 'id', 1: 'text', 2: 'sentiment', 3: 'f'}, inplace=True)\n",
        "fear_test['j'] = 0\n",
        "fear_test['s'] = 0\n",
        "fear_test['a'] = 0\n",
        "fear_test = fear_test[['id', 'text', 'sentiment', 'j', 's', 'f', 'a']]"
      ]
    },
    {
      "cell_type": "code",
      "execution_count": 13,
      "id": "7776c527",
      "metadata": {
        "id": "7776c527"
      },
      "outputs": [],
      "source": [
        "# concatenate the datasets in order to get 3 separated datasets: train, test, validation\n",
        "\n",
        "data = pd.concat([joy_train,\n",
        "                  sadness_train,\n",
        "                  fear_train,\n",
        "                  anger_train,\n",
        "                  joy_test,\n",
        "                  sadness_test,\n",
        "                  fear_test,\n",
        "                  anger_test,\n",
        "                  joy_val,\n",
        "                  sadness_val,\n",
        "                  fear_val,\n",
        "                  anger_val])"
      ]
    },
    {
      "cell_type": "code",
      "execution_count": 14,
      "id": "41423893",
      "metadata": {
        "colab": {
          "base_uri": "https://localhost:8080/",
          "height": 111
        },
        "id": "41423893",
        "outputId": "03a79aef-1852-4de7-b6dd-8c12b398e2e9"
      },
      "outputs": [
        {
          "output_type": "execute_result",
          "data": {
            "text/plain": [
              "      id                                               text sentiment      j  \\\n",
              "0  30000  Just got back from seeing @GaryDelaney in Burs...       joy  0.980   \n",
              "1  30001  Oh dear an evening of absolute hilarity I don'...       joy  0.958   \n",
              "\n",
              "     s    f    a  \n",
              "0  0.0  0.0  0.0  \n",
              "1  0.0  0.0  0.0  "
            ],
            "text/html": [
              "\n",
              "  <div id=\"df-ed7c83e1-37b4-4ed5-aa8a-d2cfd02727e4\">\n",
              "    <div class=\"colab-df-container\">\n",
              "      <div>\n",
              "<style scoped>\n",
              "    .dataframe tbody tr th:only-of-type {\n",
              "        vertical-align: middle;\n",
              "    }\n",
              "\n",
              "    .dataframe tbody tr th {\n",
              "        vertical-align: top;\n",
              "    }\n",
              "\n",
              "    .dataframe thead th {\n",
              "        text-align: right;\n",
              "    }\n",
              "</style>\n",
              "<table border=\"1\" class=\"dataframe\">\n",
              "  <thead>\n",
              "    <tr style=\"text-align: right;\">\n",
              "      <th></th>\n",
              "      <th>id</th>\n",
              "      <th>text</th>\n",
              "      <th>sentiment</th>\n",
              "      <th>j</th>\n",
              "      <th>s</th>\n",
              "      <th>f</th>\n",
              "      <th>a</th>\n",
              "    </tr>\n",
              "  </thead>\n",
              "  <tbody>\n",
              "    <tr>\n",
              "      <th>0</th>\n",
              "      <td>30000</td>\n",
              "      <td>Just got back from seeing @GaryDelaney in Burs...</td>\n",
              "      <td>joy</td>\n",
              "      <td>0.980</td>\n",
              "      <td>0.0</td>\n",
              "      <td>0.0</td>\n",
              "      <td>0.0</td>\n",
              "    </tr>\n",
              "    <tr>\n",
              "      <th>1</th>\n",
              "      <td>30001</td>\n",
              "      <td>Oh dear an evening of absolute hilarity I don'...</td>\n",
              "      <td>joy</td>\n",
              "      <td>0.958</td>\n",
              "      <td>0.0</td>\n",
              "      <td>0.0</td>\n",
              "      <td>0.0</td>\n",
              "    </tr>\n",
              "  </tbody>\n",
              "</table>\n",
              "</div>\n",
              "      <button class=\"colab-df-convert\" onclick=\"convertToInteractive('df-ed7c83e1-37b4-4ed5-aa8a-d2cfd02727e4')\"\n",
              "              title=\"Convert this dataframe to an interactive table.\"\n",
              "              style=\"display:none;\">\n",
              "        \n",
              "  <svg xmlns=\"http://www.w3.org/2000/svg\" height=\"24px\"viewBox=\"0 0 24 24\"\n",
              "       width=\"24px\">\n",
              "    <path d=\"M0 0h24v24H0V0z\" fill=\"none\"/>\n",
              "    <path d=\"M18.56 5.44l.94 2.06.94-2.06 2.06-.94-2.06-.94-.94-2.06-.94 2.06-2.06.94zm-11 1L8.5 8.5l.94-2.06 2.06-.94-2.06-.94L8.5 2.5l-.94 2.06-2.06.94zm10 10l.94 2.06.94-2.06 2.06-.94-2.06-.94-.94-2.06-.94 2.06-2.06.94z\"/><path d=\"M17.41 7.96l-1.37-1.37c-.4-.4-.92-.59-1.43-.59-.52 0-1.04.2-1.43.59L10.3 9.45l-7.72 7.72c-.78.78-.78 2.05 0 2.83L4 21.41c.39.39.9.59 1.41.59.51 0 1.02-.2 1.41-.59l7.78-7.78 2.81-2.81c.8-.78.8-2.07 0-2.86zM5.41 20L4 18.59l7.72-7.72 1.47 1.35L5.41 20z\"/>\n",
              "  </svg>\n",
              "      </button>\n",
              "      \n",
              "  <style>\n",
              "    .colab-df-container {\n",
              "      display:flex;\n",
              "      flex-wrap:wrap;\n",
              "      gap: 12px;\n",
              "    }\n",
              "\n",
              "    .colab-df-convert {\n",
              "      background-color: #E8F0FE;\n",
              "      border: none;\n",
              "      border-radius: 50%;\n",
              "      cursor: pointer;\n",
              "      display: none;\n",
              "      fill: #1967D2;\n",
              "      height: 32px;\n",
              "      padding: 0 0 0 0;\n",
              "      width: 32px;\n",
              "    }\n",
              "\n",
              "    .colab-df-convert:hover {\n",
              "      background-color: #E2EBFA;\n",
              "      box-shadow: 0px 1px 2px rgba(60, 64, 67, 0.3), 0px 1px 3px 1px rgba(60, 64, 67, 0.15);\n",
              "      fill: #174EA6;\n",
              "    }\n",
              "\n",
              "    [theme=dark] .colab-df-convert {\n",
              "      background-color: #3B4455;\n",
              "      fill: #D2E3FC;\n",
              "    }\n",
              "\n",
              "    [theme=dark] .colab-df-convert:hover {\n",
              "      background-color: #434B5C;\n",
              "      box-shadow: 0px 1px 3px 1px rgba(0, 0, 0, 0.15);\n",
              "      filter: drop-shadow(0px 1px 2px rgba(0, 0, 0, 0.3));\n",
              "      fill: #FFFFFF;\n",
              "    }\n",
              "  </style>\n",
              "\n",
              "      <script>\n",
              "        const buttonEl =\n",
              "          document.querySelector('#df-ed7c83e1-37b4-4ed5-aa8a-d2cfd02727e4 button.colab-df-convert');\n",
              "        buttonEl.style.display =\n",
              "          google.colab.kernel.accessAllowed ? 'block' : 'none';\n",
              "\n",
              "        async function convertToInteractive(key) {\n",
              "          const element = document.querySelector('#df-ed7c83e1-37b4-4ed5-aa8a-d2cfd02727e4');\n",
              "          const dataTable =\n",
              "            await google.colab.kernel.invokeFunction('convertToInteractive',\n",
              "                                                     [key], {});\n",
              "          if (!dataTable) return;\n",
              "\n",
              "          const docLinkHtml = 'Like what you see? Visit the ' +\n",
              "            '<a target=\"_blank\" href=https://colab.research.google.com/notebooks/data_table.ipynb>data table notebook</a>'\n",
              "            + ' to learn more about interactive tables.';\n",
              "          element.innerHTML = '';\n",
              "          dataTable['output_type'] = 'display_data';\n",
              "          await google.colab.output.renderOutput(dataTable, element);\n",
              "          const docLink = document.createElement('div');\n",
              "          docLink.innerHTML = docLinkHtml;\n",
              "          element.appendChild(docLink);\n",
              "        }\n",
              "      </script>\n",
              "    </div>\n",
              "  </div>\n",
              "  "
            ]
          },
          "metadata": {},
          "execution_count": 14
        }
      ],
      "source": [
        "data.head(2)"
      ]
    },
    {
      "cell_type": "code",
      "execution_count": 15,
      "id": "81455368",
      "metadata": {
        "colab": {
          "base_uri": "https://localhost:8080/"
        },
        "id": "81455368",
        "outputId": "e01a6c9e-4ed6-4050-a88f-114544f31bf4"
      },
      "outputs": [
        {
          "output_type": "execute_result",
          "data": {
            "text/plain": [
              "(7102, 7)"
            ]
          },
          "metadata": {},
          "execution_count": 15
        }
      ],
      "source": [
        "data.shape"
      ]
    },
    {
      "cell_type": "markdown",
      "id": "292f76c9",
      "metadata": {
        "id": "292f76c9"
      },
      "source": [
        "### Now we start to clean up our texts"
      ]
    },
    {
      "cell_type": "code",
      "execution_count": 16,
      "id": "6c2cfcbe",
      "metadata": {
        "id": "6c2cfcbe"
      },
      "outputs": [],
      "source": [
        "# clean text functions\n",
        "# https://github.com/Jcharis/neattext/blob/master/neattext/functions/functions.py\n",
        "\n",
        "def clean_emoji_output(text):\n",
        "    return re.sub(\":\", \" \", text)\n",
        "\n",
        "def strip_lowercase(text):\n",
        "    return text.strip().lower()\n",
        "\n",
        "\n",
        "def clean_text(data):\n",
        "    data['clean_text'] = data['text'].apply(nfx.remove_emails)\n",
        "    data['clean_text'] = data['clean_text'].apply(nfx.remove_numbers)\n",
        "    data['clean_text'] = data['clean_text'].apply(nfx.remove_urls)\n",
        "    data['clean_text'] = data['clean_text'].apply(nfx.remove_userhandles)\n",
        "    data['clean_text'] = data['clean_text'].apply(demoji.replace_with_desc)\n",
        "    data['clean_text'] = data['clean_text'].apply(clean_emoji_output)\n",
        "    data['clean_text'] = data['clean_text'].apply(nfx.remove_special_characters)\n",
        "    data['clean_text'] = data['clean_text'].apply(nfx.remove_bad_quotes)\n",
        "    data['clean_text'] = data['clean_text'].apply(nfx.remove_html_tags)\n",
        "    data['clean_text'] = data['clean_text'].apply(nfx.remove_punctuations)\n",
        "    data['clean_text'] = data['clean_text'].apply(nfx.remove_stopwords)\n",
        "    data['clean_text'] = data['clean_text'].apply(nfx.remove_multiple_spaces)\n",
        "    data['clean_text'] = data['clean_text'].apply(strip_lowercase)"
      ]
    },
    {
      "cell_type": "code",
      "execution_count": 17,
      "id": "e1dc9fdb",
      "metadata": {
        "id": "e1dc9fdb"
      },
      "outputs": [],
      "source": [
        "# apply the functions above defined\n",
        "\n",
        "clean_text(data)"
      ]
    },
    {
      "cell_type": "code",
      "execution_count": 18,
      "id": "1f129671",
      "metadata": {
        "id": "1f129671"
      },
      "outputs": [],
      "source": [
        "# shuffle our data\n",
        "\n",
        "data = shuffle(data, random_state=42)"
      ]
    },
    {
      "cell_type": "markdown",
      "id": "2b22f6f6",
      "metadata": {
        "id": "2b22f6f6"
      },
      "source": [
        "### Tokenize the text we have cleaned in order to make a further normalization on words with the Lemmatizer"
      ]
    },
    {
      "cell_type": "code",
      "execution_count": 19,
      "id": "b5d5423c",
      "metadata": {
        "id": "b5d5423c"
      },
      "outputs": [],
      "source": [
        "# tokenize\n",
        "tt = TweetTokenizer()\n",
        "\n",
        "data['tokenize'] = data.clean_text.str.lower().apply(tt.tokenize)\n",
        "\n",
        "# lemmatize\n",
        "def lemmatize_text(text):\n",
        "    lemmatizer = WordNetLemmatizer()\n",
        "    return [lemmatizer.lemmatize(w) for w in text]\n",
        "    \n",
        "data['tokenize_lemmatized'] = data['tokenize'].apply(lemmatize_text)"
      ]
    },
    {
      "cell_type": "code",
      "execution_count": 20,
      "id": "5cf9b513",
      "metadata": {
        "colab": {
          "base_uri": "https://localhost:8080/",
          "height": 401
        },
        "id": "5cf9b513",
        "outputId": "1d251211-a321-4668-f055-f89088fea3a0"
      },
      "outputs": [
        {
          "output_type": "execute_result",
          "data": {
            "text/plain": [
              "        id                                               text sentiment  \\\n",
              "100  11041  Nothing is more relentless than a dog begging ...     anger   \n",
              "120  40980  Ok it really just sunk in that I'm seeing the ...   sadness   \n",
              "350  41210  @MariamVeiszadeh #depressing it's so freaking ...   sadness   \n",
              "505  41365  I feel like a burden every day that I waste bu...   sadness   \n",
              "183  31085  @partydelightsUK it's 5679787. Cannot DM you a...       joy   \n",
              "\n",
              "         j      s    f      a  \\\n",
              "100  0.000  0.000  0.0  0.479   \n",
              "120  0.000  0.417  0.0  0.000   \n",
              "350  0.000  0.679  0.0  0.000   \n",
              "505  0.000  0.896  0.0  0.000   \n",
              "183  0.164  0.000  0.0  0.000   \n",
              "\n",
              "                                            clean_text  \\\n",
              "100                        relentless dog begging food   \n",
              "120  ok sunk im seeing goat hours wow face rolling ...   \n",
              "350                          depressing freaking close   \n",
              "505  feel like burden day waste dont know bc discou...   \n",
              "183          dm dont follow delight party fail letdown   \n",
              "\n",
              "                                              tokenize  \\\n",
              "100                   [relentless, dog, begging, food]   \n",
              "120  [ok, sunk, im, seeing, goat, hours, wow, face,...   \n",
              "350                      [depressing, freaking, close]   \n",
              "505  [feel, like, burden, day, waste, dont, know, b...   \n",
              "183  [dm, dont, follow, delight, party, fail, letdown]   \n",
              "\n",
              "                                   tokenize_lemmatized  \n",
              "100                   [relentless, dog, begging, food]  \n",
              "120  [ok, sunk, im, seeing, goat, hour, wow, face, ...  \n",
              "350                      [depressing, freaking, close]  \n",
              "505  [feel, like, burden, day, waste, dont, know, b...  \n",
              "183  [dm, dont, follow, delight, party, fail, letdown]  "
            ],
            "text/html": [
              "\n",
              "  <div id=\"df-23afeeef-9d05-4605-87ec-b9bac9e63cf8\">\n",
              "    <div class=\"colab-df-container\">\n",
              "      <div>\n",
              "<style scoped>\n",
              "    .dataframe tbody tr th:only-of-type {\n",
              "        vertical-align: middle;\n",
              "    }\n",
              "\n",
              "    .dataframe tbody tr th {\n",
              "        vertical-align: top;\n",
              "    }\n",
              "\n",
              "    .dataframe thead th {\n",
              "        text-align: right;\n",
              "    }\n",
              "</style>\n",
              "<table border=\"1\" class=\"dataframe\">\n",
              "  <thead>\n",
              "    <tr style=\"text-align: right;\">\n",
              "      <th></th>\n",
              "      <th>id</th>\n",
              "      <th>text</th>\n",
              "      <th>sentiment</th>\n",
              "      <th>j</th>\n",
              "      <th>s</th>\n",
              "      <th>f</th>\n",
              "      <th>a</th>\n",
              "      <th>clean_text</th>\n",
              "      <th>tokenize</th>\n",
              "      <th>tokenize_lemmatized</th>\n",
              "    </tr>\n",
              "  </thead>\n",
              "  <tbody>\n",
              "    <tr>\n",
              "      <th>100</th>\n",
              "      <td>11041</td>\n",
              "      <td>Nothing is more relentless than a dog begging ...</td>\n",
              "      <td>anger</td>\n",
              "      <td>0.000</td>\n",
              "      <td>0.000</td>\n",
              "      <td>0.0</td>\n",
              "      <td>0.479</td>\n",
              "      <td>relentless dog begging food</td>\n",
              "      <td>[relentless, dog, begging, food]</td>\n",
              "      <td>[relentless, dog, begging, food]</td>\n",
              "    </tr>\n",
              "    <tr>\n",
              "      <th>120</th>\n",
              "      <td>40980</td>\n",
              "      <td>Ok it really just sunk in that I'm seeing the ...</td>\n",
              "      <td>sadness</td>\n",
              "      <td>0.000</td>\n",
              "      <td>0.417</td>\n",
              "      <td>0.0</td>\n",
              "      <td>0.000</td>\n",
              "      <td>ok sunk im seeing goat hours wow face rolling ...</td>\n",
              "      <td>[ok, sunk, im, seeing, goat, hours, wow, face,...</td>\n",
              "      <td>[ok, sunk, im, seeing, goat, hour, wow, face, ...</td>\n",
              "    </tr>\n",
              "    <tr>\n",
              "      <th>350</th>\n",
              "      <td>41210</td>\n",
              "      <td>@MariamVeiszadeh #depressing it's so freaking ...</td>\n",
              "      <td>sadness</td>\n",
              "      <td>0.000</td>\n",
              "      <td>0.679</td>\n",
              "      <td>0.0</td>\n",
              "      <td>0.000</td>\n",
              "      <td>depressing freaking close</td>\n",
              "      <td>[depressing, freaking, close]</td>\n",
              "      <td>[depressing, freaking, close]</td>\n",
              "    </tr>\n",
              "    <tr>\n",
              "      <th>505</th>\n",
              "      <td>41365</td>\n",
              "      <td>I feel like a burden every day that I waste bu...</td>\n",
              "      <td>sadness</td>\n",
              "      <td>0.000</td>\n",
              "      <td>0.896</td>\n",
              "      <td>0.0</td>\n",
              "      <td>0.000</td>\n",
              "      <td>feel like burden day waste dont know bc discou...</td>\n",
              "      <td>[feel, like, burden, day, waste, dont, know, b...</td>\n",
              "      <td>[feel, like, burden, day, waste, dont, know, b...</td>\n",
              "    </tr>\n",
              "    <tr>\n",
              "      <th>183</th>\n",
              "      <td>31085</td>\n",
              "      <td>@partydelightsUK it's 5679787. Cannot DM you a...</td>\n",
              "      <td>joy</td>\n",
              "      <td>0.164</td>\n",
              "      <td>0.000</td>\n",
              "      <td>0.0</td>\n",
              "      <td>0.000</td>\n",
              "      <td>dm dont follow delight party fail letdown</td>\n",
              "      <td>[dm, dont, follow, delight, party, fail, letdown]</td>\n",
              "      <td>[dm, dont, follow, delight, party, fail, letdown]</td>\n",
              "    </tr>\n",
              "  </tbody>\n",
              "</table>\n",
              "</div>\n",
              "      <button class=\"colab-df-convert\" onclick=\"convertToInteractive('df-23afeeef-9d05-4605-87ec-b9bac9e63cf8')\"\n",
              "              title=\"Convert this dataframe to an interactive table.\"\n",
              "              style=\"display:none;\">\n",
              "        \n",
              "  <svg xmlns=\"http://www.w3.org/2000/svg\" height=\"24px\"viewBox=\"0 0 24 24\"\n",
              "       width=\"24px\">\n",
              "    <path d=\"M0 0h24v24H0V0z\" fill=\"none\"/>\n",
              "    <path d=\"M18.56 5.44l.94 2.06.94-2.06 2.06-.94-2.06-.94-.94-2.06-.94 2.06-2.06.94zm-11 1L8.5 8.5l.94-2.06 2.06-.94-2.06-.94L8.5 2.5l-.94 2.06-2.06.94zm10 10l.94 2.06.94-2.06 2.06-.94-2.06-.94-.94-2.06-.94 2.06-2.06.94z\"/><path d=\"M17.41 7.96l-1.37-1.37c-.4-.4-.92-.59-1.43-.59-.52 0-1.04.2-1.43.59L10.3 9.45l-7.72 7.72c-.78.78-.78 2.05 0 2.83L4 21.41c.39.39.9.59 1.41.59.51 0 1.02-.2 1.41-.59l7.78-7.78 2.81-2.81c.8-.78.8-2.07 0-2.86zM5.41 20L4 18.59l7.72-7.72 1.47 1.35L5.41 20z\"/>\n",
              "  </svg>\n",
              "      </button>\n",
              "      \n",
              "  <style>\n",
              "    .colab-df-container {\n",
              "      display:flex;\n",
              "      flex-wrap:wrap;\n",
              "      gap: 12px;\n",
              "    }\n",
              "\n",
              "    .colab-df-convert {\n",
              "      background-color: #E8F0FE;\n",
              "      border: none;\n",
              "      border-radius: 50%;\n",
              "      cursor: pointer;\n",
              "      display: none;\n",
              "      fill: #1967D2;\n",
              "      height: 32px;\n",
              "      padding: 0 0 0 0;\n",
              "      width: 32px;\n",
              "    }\n",
              "\n",
              "    .colab-df-convert:hover {\n",
              "      background-color: #E2EBFA;\n",
              "      box-shadow: 0px 1px 2px rgba(60, 64, 67, 0.3), 0px 1px 3px 1px rgba(60, 64, 67, 0.15);\n",
              "      fill: #174EA6;\n",
              "    }\n",
              "\n",
              "    [theme=dark] .colab-df-convert {\n",
              "      background-color: #3B4455;\n",
              "      fill: #D2E3FC;\n",
              "    }\n",
              "\n",
              "    [theme=dark] .colab-df-convert:hover {\n",
              "      background-color: #434B5C;\n",
              "      box-shadow: 0px 1px 3px 1px rgba(0, 0, 0, 0.15);\n",
              "      filter: drop-shadow(0px 1px 2px rgba(0, 0, 0, 0.3));\n",
              "      fill: #FFFFFF;\n",
              "    }\n",
              "  </style>\n",
              "\n",
              "      <script>\n",
              "        const buttonEl =\n",
              "          document.querySelector('#df-23afeeef-9d05-4605-87ec-b9bac9e63cf8 button.colab-df-convert');\n",
              "        buttonEl.style.display =\n",
              "          google.colab.kernel.accessAllowed ? 'block' : 'none';\n",
              "\n",
              "        async function convertToInteractive(key) {\n",
              "          const element = document.querySelector('#df-23afeeef-9d05-4605-87ec-b9bac9e63cf8');\n",
              "          const dataTable =\n",
              "            await google.colab.kernel.invokeFunction('convertToInteractive',\n",
              "                                                     [key], {});\n",
              "          if (!dataTable) return;\n",
              "\n",
              "          const docLinkHtml = 'Like what you see? Visit the ' +\n",
              "            '<a target=\"_blank\" href=https://colab.research.google.com/notebooks/data_table.ipynb>data table notebook</a>'\n",
              "            + ' to learn more about interactive tables.';\n",
              "          element.innerHTML = '';\n",
              "          dataTable['output_type'] = 'display_data';\n",
              "          await google.colab.output.renderOutput(dataTable, element);\n",
              "          const docLink = document.createElement('div');\n",
              "          docLink.innerHTML = docLinkHtml;\n",
              "          element.appendChild(docLink);\n",
              "        }\n",
              "      </script>\n",
              "    </div>\n",
              "  </div>\n",
              "  "
            ]
          },
          "metadata": {},
          "execution_count": 20
        }
      ],
      "source": [
        "data.head()"
      ]
    },
    {
      "cell_type": "markdown",
      "id": "72b27c08",
      "metadata": {
        "id": "72b27c08"
      },
      "source": [
        "### DeTokenize to get again a sequence of words as they were written, but with all our preprocessing applied"
      ]
    },
    {
      "cell_type": "code",
      "execution_count": 21,
      "id": "c0e250c3",
      "metadata": {
        "id": "c0e250c3"
      },
      "outputs": [],
      "source": [
        "# detokenize\n",
        "\n",
        "data['final_text'] = data.tokenize_lemmatized.apply(TreebankWordDetokenizer().detokenize)"
      ]
    },
    {
      "cell_type": "code",
      "execution_count": 22,
      "id": "95856b49",
      "metadata": {
        "colab": {
          "base_uri": "https://localhost:8080/",
          "height": 503
        },
        "id": "95856b49",
        "outputId": "a182518b-7f9a-4021-9222-7e542db93624"
      },
      "outputs": [
        {
          "output_type": "execute_result",
          "data": {
            "text/plain": [
              "        id                                               text sentiment  \\\n",
              "159  31061                Be content .... Life is too short.        joy   \n",
              "191  21448  @bt_uk appointment booked between 1-6 today, w...      fear   \n",
              "226  21483  @Darren32895836 @FatimaFatwa it would be a gre...      fear   \n",
              "390  21647    quentin i sait aps dire eastpak i dit aspak msk      fear   \n",
              "37   40037  @Markgatiss I'm surrounded by those Trump vote...   sadness   \n",
              "\n",
              "         j      s      f    a  \\\n",
              "159  0.354  0.000  0.000  0.0   \n",
              "191  0.000  0.000  0.417  0.0   \n",
              "226  0.000  0.000  0.500  0.0   \n",
              "390  0.000  0.000  0.312  0.0   \n",
              "37   0.000  0.833  0.000  0.0   \n",
              "\n",
              "                                            clean_text  \\\n",
              "159                                 content life short   \n",
              "191  appointment booked today waited day showed req...   \n",
              "226        great opportunity settle globe fear wonders   \n",
              "390        quentin sait aps dire eastpak dit aspak msk   \n",
              "37   im surrounded trump voters youre right fucking...   \n",
              "\n",
              "                                              tokenize  \\\n",
              "159                             [content, life, short]   \n",
              "191  [appointment, booked, today, waited, day, show...   \n",
              "226  [great, opportunity, settle, globe, fear, wond...   \n",
              "390  [quentin, sait, aps, dire, eastpak, dit, aspak...   \n",
              "37   [im, surrounded, trump, voters, youre, right, ...   \n",
              "\n",
              "                                   tokenize_lemmatized  \\\n",
              "159                             [content, life, short]   \n",
              "191  [appointment, booked, today, waited, day, show...   \n",
              "226  [great, opportunity, settle, globe, fear, wonder]   \n",
              "390  [quentin, sait, aps, dire, eastpak, dit, aspak...   \n",
              "37   [im, surrounded, trump, voter, youre, right, f...   \n",
              "\n",
              "                                            final_text  \n",
              "159                                 content life short  \n",
              "191  appointment booked today waited day showed req...  \n",
              "226         great opportunity settle globe fear wonder  \n",
              "390        quentin sait aps dire eastpak dit aspak msk  \n",
              "37   im surrounded trump voter youre right fucking ...  "
            ],
            "text/html": [
              "\n",
              "  <div id=\"df-dddb57f9-8323-4888-88b2-07b85fd692bd\">\n",
              "    <div class=\"colab-df-container\">\n",
              "      <div>\n",
              "<style scoped>\n",
              "    .dataframe tbody tr th:only-of-type {\n",
              "        vertical-align: middle;\n",
              "    }\n",
              "\n",
              "    .dataframe tbody tr th {\n",
              "        vertical-align: top;\n",
              "    }\n",
              "\n",
              "    .dataframe thead th {\n",
              "        text-align: right;\n",
              "    }\n",
              "</style>\n",
              "<table border=\"1\" class=\"dataframe\">\n",
              "  <thead>\n",
              "    <tr style=\"text-align: right;\">\n",
              "      <th></th>\n",
              "      <th>id</th>\n",
              "      <th>text</th>\n",
              "      <th>sentiment</th>\n",
              "      <th>j</th>\n",
              "      <th>s</th>\n",
              "      <th>f</th>\n",
              "      <th>a</th>\n",
              "      <th>clean_text</th>\n",
              "      <th>tokenize</th>\n",
              "      <th>tokenize_lemmatized</th>\n",
              "      <th>final_text</th>\n",
              "    </tr>\n",
              "  </thead>\n",
              "  <tbody>\n",
              "    <tr>\n",
              "      <th>159</th>\n",
              "      <td>31061</td>\n",
              "      <td>Be content .... Life is too short.</td>\n",
              "      <td>joy</td>\n",
              "      <td>0.354</td>\n",
              "      <td>0.000</td>\n",
              "      <td>0.000</td>\n",
              "      <td>0.0</td>\n",
              "      <td>content life short</td>\n",
              "      <td>[content, life, short]</td>\n",
              "      <td>[content, life, short]</td>\n",
              "      <td>content life short</td>\n",
              "    </tr>\n",
              "    <tr>\n",
              "      <th>191</th>\n",
              "      <td>21448</td>\n",
              "      <td>@bt_uk appointment booked between 1-6 today, w...</td>\n",
              "      <td>fear</td>\n",
              "      <td>0.000</td>\n",
              "      <td>0.000</td>\n",
              "      <td>0.417</td>\n",
              "      <td>0.0</td>\n",
              "      <td>appointment booked today waited day showed req...</td>\n",
              "      <td>[appointment, booked, today, waited, day, show...</td>\n",
              "      <td>[appointment, booked, today, waited, day, show...</td>\n",
              "      <td>appointment booked today waited day showed req...</td>\n",
              "    </tr>\n",
              "    <tr>\n",
              "      <th>226</th>\n",
              "      <td>21483</td>\n",
              "      <td>@Darren32895836 @FatimaFatwa it would be a gre...</td>\n",
              "      <td>fear</td>\n",
              "      <td>0.000</td>\n",
              "      <td>0.000</td>\n",
              "      <td>0.500</td>\n",
              "      <td>0.0</td>\n",
              "      <td>great opportunity settle globe fear wonders</td>\n",
              "      <td>[great, opportunity, settle, globe, fear, wond...</td>\n",
              "      <td>[great, opportunity, settle, globe, fear, wonder]</td>\n",
              "      <td>great opportunity settle globe fear wonder</td>\n",
              "    </tr>\n",
              "    <tr>\n",
              "      <th>390</th>\n",
              "      <td>21647</td>\n",
              "      <td>quentin i sait aps dire eastpak i dit aspak msk</td>\n",
              "      <td>fear</td>\n",
              "      <td>0.000</td>\n",
              "      <td>0.000</td>\n",
              "      <td>0.312</td>\n",
              "      <td>0.0</td>\n",
              "      <td>quentin sait aps dire eastpak dit aspak msk</td>\n",
              "      <td>[quentin, sait, aps, dire, eastpak, dit, aspak...</td>\n",
              "      <td>[quentin, sait, aps, dire, eastpak, dit, aspak...</td>\n",
              "      <td>quentin sait aps dire eastpak dit aspak msk</td>\n",
              "    </tr>\n",
              "    <tr>\n",
              "      <th>37</th>\n",
              "      <td>40037</td>\n",
              "      <td>@Markgatiss I'm surrounded by those Trump vote...</td>\n",
              "      <td>sadness</td>\n",
              "      <td>0.000</td>\n",
              "      <td>0.833</td>\n",
              "      <td>0.000</td>\n",
              "      <td>0.0</td>\n",
              "      <td>im surrounded trump voters youre right fucking...</td>\n",
              "      <td>[im, surrounded, trump, voters, youre, right, ...</td>\n",
              "      <td>[im, surrounded, trump, voter, youre, right, f...</td>\n",
              "      <td>im surrounded trump voter youre right fucking ...</td>\n",
              "    </tr>\n",
              "  </tbody>\n",
              "</table>\n",
              "</div>\n",
              "      <button class=\"colab-df-convert\" onclick=\"convertToInteractive('df-dddb57f9-8323-4888-88b2-07b85fd692bd')\"\n",
              "              title=\"Convert this dataframe to an interactive table.\"\n",
              "              style=\"display:none;\">\n",
              "        \n",
              "  <svg xmlns=\"http://www.w3.org/2000/svg\" height=\"24px\"viewBox=\"0 0 24 24\"\n",
              "       width=\"24px\">\n",
              "    <path d=\"M0 0h24v24H0V0z\" fill=\"none\"/>\n",
              "    <path d=\"M18.56 5.44l.94 2.06.94-2.06 2.06-.94-2.06-.94-.94-2.06-.94 2.06-2.06.94zm-11 1L8.5 8.5l.94-2.06 2.06-.94-2.06-.94L8.5 2.5l-.94 2.06-2.06.94zm10 10l.94 2.06.94-2.06 2.06-.94-2.06-.94-.94-2.06-.94 2.06-2.06.94z\"/><path d=\"M17.41 7.96l-1.37-1.37c-.4-.4-.92-.59-1.43-.59-.52 0-1.04.2-1.43.59L10.3 9.45l-7.72 7.72c-.78.78-.78 2.05 0 2.83L4 21.41c.39.39.9.59 1.41.59.51 0 1.02-.2 1.41-.59l7.78-7.78 2.81-2.81c.8-.78.8-2.07 0-2.86zM5.41 20L4 18.59l7.72-7.72 1.47 1.35L5.41 20z\"/>\n",
              "  </svg>\n",
              "      </button>\n",
              "      \n",
              "  <style>\n",
              "    .colab-df-container {\n",
              "      display:flex;\n",
              "      flex-wrap:wrap;\n",
              "      gap: 12px;\n",
              "    }\n",
              "\n",
              "    .colab-df-convert {\n",
              "      background-color: #E8F0FE;\n",
              "      border: none;\n",
              "      border-radius: 50%;\n",
              "      cursor: pointer;\n",
              "      display: none;\n",
              "      fill: #1967D2;\n",
              "      height: 32px;\n",
              "      padding: 0 0 0 0;\n",
              "      width: 32px;\n",
              "    }\n",
              "\n",
              "    .colab-df-convert:hover {\n",
              "      background-color: #E2EBFA;\n",
              "      box-shadow: 0px 1px 2px rgba(60, 64, 67, 0.3), 0px 1px 3px 1px rgba(60, 64, 67, 0.15);\n",
              "      fill: #174EA6;\n",
              "    }\n",
              "\n",
              "    [theme=dark] .colab-df-convert {\n",
              "      background-color: #3B4455;\n",
              "      fill: #D2E3FC;\n",
              "    }\n",
              "\n",
              "    [theme=dark] .colab-df-convert:hover {\n",
              "      background-color: #434B5C;\n",
              "      box-shadow: 0px 1px 3px 1px rgba(0, 0, 0, 0.15);\n",
              "      filter: drop-shadow(0px 1px 2px rgba(0, 0, 0, 0.3));\n",
              "      fill: #FFFFFF;\n",
              "    }\n",
              "  </style>\n",
              "\n",
              "      <script>\n",
              "        const buttonEl =\n",
              "          document.querySelector('#df-dddb57f9-8323-4888-88b2-07b85fd692bd button.colab-df-convert');\n",
              "        buttonEl.style.display =\n",
              "          google.colab.kernel.accessAllowed ? 'block' : 'none';\n",
              "\n",
              "        async function convertToInteractive(key) {\n",
              "          const element = document.querySelector('#df-dddb57f9-8323-4888-88b2-07b85fd692bd');\n",
              "          const dataTable =\n",
              "            await google.colab.kernel.invokeFunction('convertToInteractive',\n",
              "                                                     [key], {});\n",
              "          if (!dataTable) return;\n",
              "\n",
              "          const docLinkHtml = 'Like what you see? Visit the ' +\n",
              "            '<a target=\"_blank\" href=https://colab.research.google.com/notebooks/data_table.ipynb>data table notebook</a>'\n",
              "            + ' to learn more about interactive tables.';\n",
              "          element.innerHTML = '';\n",
              "          dataTable['output_type'] = 'display_data';\n",
              "          await google.colab.output.renderOutput(dataTable, element);\n",
              "          const docLink = document.createElement('div');\n",
              "          docLink.innerHTML = docLinkHtml;\n",
              "          element.appendChild(docLink);\n",
              "        }\n",
              "      </script>\n",
              "    </div>\n",
              "  </div>\n",
              "  "
            ]
          },
          "metadata": {},
          "execution_count": 22
        }
      ],
      "source": [
        "data.tail()"
      ]
    },
    {
      "cell_type": "code",
      "execution_count": 23,
      "id": "9e3fd762",
      "metadata": {
        "colab": {
          "base_uri": "https://localhost:8080/",
          "height": 37
        },
        "id": "9e3fd762",
        "outputId": "ca3d3539-9889-442d-fb80-2d0d8cf749dd"
      },
      "outputs": [
        {
          "output_type": "execute_result",
          "data": {
            "text/plain": [
              "'english pundit afraid criticise'"
            ],
            "application/vnd.google.colaboratory.intrinsic+json": {
              "type": "string"
            }
          },
          "metadata": {},
          "execution_count": 23
        }
      ],
      "source": [
        "data.final_text.values[100]"
      ]
    },
    {
      "cell_type": "markdown",
      "id": "0342822c",
      "metadata": {
        "id": "0342822c"
      },
      "source": [
        "### Once we have cleaned our text, we can split our training texts from labels"
      ]
    },
    {
      "cell_type": "code",
      "execution_count": 24,
      "id": "05151678",
      "metadata": {
        "id": "05151678"
      },
      "outputs": [],
      "source": [
        "# train-validation-test split has been already done\n",
        "\n",
        "X_train, X_test, y_train, y_test = train_test_split(data.final_text,\n",
        "                                                    data.sentiment,\n",
        "                                                    test_size = 0.13,\n",
        "                                                    random_state = 42,\n",
        "                                                    stratify = data.sentiment)\n",
        "\n",
        "X_train, X_val, y_train, y_val = train_test_split(X_train,\n",
        "                                                  y_train,\n",
        "                                                  test_size = 0.14,\n",
        "                                                  random_state = 42,\n",
        "                                                  stratify = y_train)"
      ]
    },
    {
      "cell_type": "code",
      "execution_count": 25,
      "id": "ec6fd95a",
      "metadata": {
        "colab": {
          "base_uri": "https://localhost:8080/"
        },
        "id": "ec6fd95a",
        "outputId": "5d359410-3bc0-4490-df80-6981c9da6e34"
      },
      "outputs": [
        {
          "output_type": "stream",
          "name": "stdout",
          "text": [
            "(5313,) (5313,) (924,) (924,) (865,) (865,)\n"
          ]
        }
      ],
      "source": [
        "print(X_train.shape,y_train.shape,X_test.shape,y_test.shape,X_val.shape,y_val.shape)"
      ]
    },
    {
      "cell_type": "code",
      "execution_count": 26,
      "id": "23f8d334",
      "metadata": {
        "colab": {
          "base_uri": "https://localhost:8080/"
        },
        "id": "23f8d334",
        "outputId": "67f99915-e020-4316-c1cb-327cdaf34bce"
      },
      "outputs": [
        {
          "output_type": "execute_result",
          "data": {
            "text/plain": [
              "172    dear future big brother player chase dick seas...\n",
              "61                       rooney shocking attempted cross\n",
              "482    good thing sick coughing like ab workout maybe...\n",
              "718    learning trust god quiet troubled amp restless...\n",
              "56     cant wait listen new single mystery new album ...\n",
              "Name: final_text, dtype: object"
            ]
          },
          "metadata": {},
          "execution_count": 26
        }
      ],
      "source": [
        "X_train.head()"
      ]
    },
    {
      "cell_type": "code",
      "execution_count": 27,
      "id": "da0e1229",
      "metadata": {
        "colab": {
          "base_uri": "https://localhost:8080/"
        },
        "id": "da0e1229",
        "outputId": "d4298811-35e0-4d35-8213-2235978a9d56"
      },
      "outputs": [
        {
          "output_type": "execute_result",
          "data": {
            "text/plain": [
              "172      anger\n",
              "61        fear\n",
              "482        joy\n",
              "718    sadness\n",
              "56     sadness\n",
              "Name: sentiment, dtype: object"
            ]
          },
          "metadata": {},
          "execution_count": 27
        }
      ],
      "source": [
        "y_train.head()"
      ]
    },
    {
      "cell_type": "markdown",
      "id": "5d38c029",
      "metadata": {
        "id": "5d38c029"
      },
      "source": [
        "### Now encode our labels into numbers from 0 to 3, this would allow us to one-hot-encode them"
      ]
    },
    {
      "cell_type": "code",
      "execution_count": 28,
      "id": "ce1a7821",
      "metadata": {
        "id": "ce1a7821"
      },
      "outputs": [],
      "source": [
        "# numerical encoding of our labels\n",
        "\n",
        "label_encoder = LabelEncoder()\n",
        "\n",
        "y_train_enc = label_encoder.fit_transform(y_train)\n",
        "y_test_enc = label_encoder.fit_transform(y_test)\n",
        "y_val_enc = label_encoder.fit_transform(y_val)"
      ]
    },
    {
      "cell_type": "code",
      "execution_count": 29,
      "id": "73b6454e",
      "metadata": {
        "colab": {
          "base_uri": "https://localhost:8080/"
        },
        "id": "73b6454e",
        "outputId": "fbb8f26e-6381-4326-effd-b3573cc9987d"
      },
      "outputs": [
        {
          "output_type": "stream",
          "name": "stdout",
          "text": [
            "599       fear\n",
            "528        joy\n",
            "131    sadness\n",
            "445      anger\n",
            "Name: sentiment, dtype: object\n",
            "[1 2 3 0]\n"
          ]
        }
      ],
      "source": [
        "# alphabetical order\n",
        "# 0: anger\n",
        "# 1: fear\n",
        "# 2: joy\n",
        "# 3: sadness\n",
        "\n",
        "print(y_train[29:33])\n",
        "print(y_train_enc[29:33])"
      ]
    },
    {
      "cell_type": "code",
      "execution_count": 30,
      "id": "993a2f91",
      "metadata": {
        "colab": {
          "base_uri": "https://localhost:8080/"
        },
        "id": "993a2f91",
        "outputId": "32bfb075-82bb-46f7-aff5-2f2d07c87e59"
      },
      "outputs": [
        {
          "output_type": "execute_result",
          "data": {
            "text/plain": [
              "array([[0., 1., 0., 0.],\n",
              "       [0., 0., 1., 0.],\n",
              "       [0., 0., 0., 1.],\n",
              "       [1., 0., 0., 0.]], dtype=float32)"
            ]
          },
          "metadata": {},
          "execution_count": 30
        }
      ],
      "source": [
        "# one-hot-encode them\n",
        "\n",
        "y_train = to_categorical(y_train_enc)\n",
        "y_val = to_categorical(y_val_enc)\n",
        "y_test = to_categorical(y_test_enc)\n",
        "\n",
        "y_train[29:33]"
      ]
    },
    {
      "cell_type": "code",
      "execution_count": 31,
      "id": "6d776c29",
      "metadata": {
        "colab": {
          "base_uri": "https://localhost:8080/"
        },
        "id": "6d776c29",
        "outputId": "7aeb43c2-b7b7-4661-df7d-5af83aefb7c6"
      },
      "outputs": [
        {
          "output_type": "execute_result",
          "data": {
            "text/plain": [
              "172    dear future big brother player chase dick seas...\n",
              "61                       rooney shocking attempted cross\n",
              "482    good thing sick coughing like ab workout maybe...\n",
              "718    learning trust god quiet troubled amp restless...\n",
              "56     cant wait listen new single mystery new album ...\n",
              "                             ...                        \n",
              "214    amazing get stuck head cant shake memory miss ...\n",
              "273    ok movie good time whilst young face tear joy ...\n",
              "555             dont discouraged simple mind dont vision\n",
              "371    traditionalist bored bored bored rule cheerful...\n",
              "153    conversion random fellow passenger melbourne y...\n",
              "Name: final_text, Length: 6178, dtype: object"
            ]
          },
          "metadata": {},
          "execution_count": 31
        }
      ],
      "source": [
        "pd.concat([X_train, X_val])"
      ]
    },
    {
      "cell_type": "code",
      "execution_count": 32,
      "id": "eb760bc3",
      "metadata": {
        "colab": {
          "base_uri": "https://localhost:8080/"
        },
        "id": "eb760bc3",
        "outputId": "5a13af2e-e013-46f3-b764-b15bb4a0228f"
      },
      "outputs": [
        {
          "output_type": "stream",
          "name": "stdout",
          "text": [
            "Found 10899 unique tokens.\n"
          ]
        }
      ],
      "source": [
        "# here we use the Tokenizer of keras, fitting it on all our training and validation data, \n",
        "# getting the sequences and the words with the corresponding index (unique words)\n",
        "\n",
        "num_words = 10000\n",
        "\n",
        "tokenizer = Tokenizer(nb_words=num_words)\n",
        "tokenizer.fit_on_texts(pd.concat([X_train, X_val]))\n",
        "\n",
        "sequences = tokenizer.texts_to_sequences(pd.concat([X_train, X_val]))\n",
        "word_index = tokenizer.word_index\n",
        "\n",
        "print('Found %s unique tokens.' % len(word_index))\n",
        "data = pad_sequences(sequences, maxlen=50)"
      ]
    },
    {
      "cell_type": "code",
      "execution_count": 33,
      "id": "NgammNzcMvVY",
      "metadata": {
        "id": "NgammNzcMvVY"
      },
      "outputs": [],
      "source": [
        "# from these commands you can download the pre-trained word embeddings\n",
        "\n",
        "# !curl -O http://nlp.stanford.edu/data/glove.6B.zip\n",
        "# !unzip -q glove.6B.zip"
      ]
    },
    {
      "cell_type": "markdown",
      "id": "91fa3c14",
      "metadata": {
        "id": "91fa3c14"
      },
      "source": [
        "### Use the embedding with 200 features for each unique word\n",
        "Put the file of the pretrained embedding of 400K vectors with 200 features into your drive.\n",
        "\n",
        "Grant access to the following command which woul bring your drive folder into colab environment"
      ]
    },
    {
      "cell_type": "code",
      "source": [
        "# get the drive folder into the environment\n",
        "drive.mount('/content/drive')"
      ],
      "metadata": {
        "colab": {
          "base_uri": "https://localhost:8080/"
        },
        "id": "pqte8gdKyx_O",
        "outputId": "42ea5976-b35b-48c1-f8e7-336f83bc8e8a"
      },
      "id": "pqte8gdKyx_O",
      "execution_count": 34,
      "outputs": [
        {
          "output_type": "stream",
          "name": "stdout",
          "text": [
            "Mounted at /content/drive\n"
          ]
        }
      ]
    },
    {
      "cell_type": "code",
      "execution_count": 35,
      "id": "f8ddddff",
      "metadata": {
        "colab": {
          "base_uri": "https://localhost:8080/"
        },
        "id": "f8ddddff",
        "outputId": "8215344b-2a0b-4e26-99a6-cf4d9e8b267d"
      },
      "outputs": [
        {
          "output_type": "stream",
          "name": "stdout",
          "text": [
            "Found 400000 word vectors.\n"
          ]
        }
      ],
      "source": [
        "#GLOVE_DIR = os.getcwd()\n",
        "embeddings_index = {}\n",
        "\n",
        "f = open(\"/content/drive/MyDrive/glove.6B.200d.txt\")\n",
        "for line in f:\n",
        "    values = line.split()\n",
        "    word = values[0]\n",
        "    coefs = np.asarray(values[1:], dtype='float32')\n",
        "    embeddings_index[word] = coefs\n",
        "f.close()\n",
        "\n",
        "print('Found %s word vectors.' % len(embeddings_index))"
      ]
    },
    {
      "cell_type": "code",
      "execution_count": 36,
      "id": "6c98d9eb",
      "metadata": {
        "id": "6c98d9eb"
      },
      "outputs": [],
      "source": [
        "# Get the embedding matrix which is going to be put in the Embedding layer of the neural network architecture\n",
        "\n",
        "embedding_matrix = np.zeros((len(word_index) + 1, 200))\n",
        "for word, i in word_index.items():\n",
        "    embedding_vector = embeddings_index.get(word)\n",
        "    if embedding_vector is not None:\n",
        "        # words not found in embedding index will be all-zeros.\n",
        "        embedding_matrix[i] = embedding_vector"
      ]
    },
    {
      "cell_type": "code",
      "execution_count": 37,
      "id": "c80377ce",
      "metadata": {
        "id": "c80377ce"
      },
      "outputs": [],
      "source": [
        "# Create the keras Embedding layer with 10K words specifying that the weights here are not trainable\n",
        "# because we are using a pre-trained model (glove twitter words with 200 features)\n",
        "\n",
        "embedding_layer = Embedding(len(word_index) + 1,\n",
        "                            200,\n",
        "                            weights=[embedding_matrix],\n",
        "                            input_length=50,\n",
        "                            trainable=False)"
      ]
    },
    {
      "cell_type": "code",
      "execution_count": 38,
      "id": "14393354",
      "metadata": {
        "id": "14393354"
      },
      "outputs": [],
      "source": [
        "# Convert texts into some numeric sequences and make the length of all numeric sequences equal \n",
        "\n",
        "X_train_seq = tokenizer.texts_to_sequences(X_train) \n",
        "X_train_pad = pad_sequences(X_train_seq, maxlen = 50, padding = 'post') \n",
        "\n",
        "X_test_seq = tokenizer.texts_to_sequences(X_test)\n",
        "X_test_pad = pad_sequences(X_test_seq, maxlen = 50, padding = 'post')\n",
        "\n",
        "X_val_seq = tokenizer.texts_to_sequences(X_val)\n",
        "X_val_pad = pad_sequences(X_val_seq, maxlen = 50, padding = 'post')\n",
        "\n",
        "X_train_pad = np.array(X_train_pad)\n",
        "X_test_pad = np.array(X_test_pad)\n",
        "X_val_pad = np.array(X_val_pad)"
      ]
    },
    {
      "cell_type": "markdown",
      "id": "254b5fee",
      "metadata": {
        "id": "254b5fee"
      },
      "source": [
        "## 1. Model with Embedding and 3 LSTMs\n",
        "Note that if you have a GPU available, just specify **CuDNNLSTM** instead of **LSTM**. It does the same things but **5x** faster."
      ]
    },
    {
      "cell_type": "code",
      "execution_count": 39,
      "id": "c90c58f3",
      "metadata": {
        "id": "c90c58f3"
      },
      "outputs": [],
      "source": [
        "# number of classes\n",
        "\n",
        "class_num = 4"
      ]
    },
    {
      "cell_type": "code",
      "execution_count": null,
      "id": "a31c8ef9",
      "metadata": {
        "id": "a31c8ef9"
      },
      "outputs": [],
      "source": [
        "def build_model(hp):\n",
        "    model = tf.keras.Sequential(\n",
        "        [\n",
        "            embedding_layer,\n",
        "            Dropout(hp.Choice('dropout_rate_1', values=[0.2, 0.4])),\n",
        "            Bidirectional(CuDNNLSTM(hp.Choice('lstm_1', values=[50, 100, 150]), \n",
        "                               return_sequences=True)),\n",
        "            Dropout(0.2),\n",
        "            Bidirectional(CuDNNLSTM(hp.Choice('lstm_2', values=[50, 100, 150]), \n",
        "                               return_sequences=True)),\n",
        "            Dropout(0.2),\n",
        "            Bidirectional(CuDNNLSTM(hp.Choice('lstm_3', values=[25, 50, 100]), \n",
        "                               return_sequences=False)),\n",
        "            Dense(class_num, \n",
        "                  activation = 'softmax')\n",
        "        ])\n",
        "\n",
        "    \n",
        "    model.compile(loss='categorical_crossentropy', optimizer='adam', metrics='accuracy')\n",
        "        \n",
        "    return model"
      ]
    },
    {
      "cell_type": "code",
      "execution_count": null,
      "id": "7051141e",
      "metadata": {
        "id": "7051141e"
      },
      "outputs": [],
      "source": [
        "tuner = Hyperband(build_model, \n",
        "                  objective='val_accuracy', \n",
        "                  max_epochs=30,\n",
        "                  hyperband_iterations=1,\n",
        "                  directory=DIR,\n",
        "                  project_name='deep-learning-experiment')"
      ]
    },
    {
      "cell_type": "code",
      "execution_count": null,
      "id": "d38aa188",
      "metadata": {
        "id": "d38aa188"
      },
      "outputs": [],
      "source": [
        "early_stop = tf.keras.callbacks.EarlyStopping(monitor='val_loss', \n",
        "                                              patience=3, \n",
        "                                              min_delta=0.0001)"
      ]
    },
    {
      "cell_type": "code",
      "execution_count": null,
      "id": "c71ddb3e",
      "metadata": {
        "colab": {
          "base_uri": "https://localhost:8080/"
        },
        "id": "c71ddb3e",
        "outputId": "0e3c002d-132a-4ba0-c333-4e4d15796d35"
      },
      "outputs": [
        {
          "output_type": "stream",
          "name": "stdout",
          "text": [
            "Trial 77 Complete [00h 02m 27s]\n",
            "val_accuracy: 0.8381502628326416\n",
            "\n",
            "Best val_accuracy So Far: 0.8566473722457886\n",
            "Total elapsed time: 00h 58m 15s\n",
            "INFO:tensorflow:Oracle triggered exit\n"
          ]
        }
      ],
      "source": [
        "tuner.search(x=X_train_pad,\n",
        "             y=y_train,\n",
        "             epochs=30,\n",
        "             batch_size=64,\n",
        "             use_multiprocessing=True,\n",
        "             validation_data=(X_val_pad, y_val),\n",
        "             callbacks=[early_stop])"
      ]
    },
    {
      "cell_type": "code",
      "execution_count": null,
      "id": "06a34570",
      "metadata": {
        "colab": {
          "base_uri": "https://localhost:8080/"
        },
        "id": "06a34570",
        "outputId": "39f8821e-c16c-4d7f-c71f-b1897ecfcf69"
      },
      "outputs": [
        {
          "output_type": "stream",
          "name": "stdout",
          "text": [
            "Hyperparameter for LSTM 1: 150\n",
            "Hyperparameter for LSTM 2: 100\n",
            "Hyperparameter for LSTM 3: 100\n",
            "Hyperparameter for Dropout rate 1: 0.2\n"
          ]
        }
      ],
      "source": [
        "# Get the optimal hyperparameters\n",
        "best_hps=tuner.get_best_hyperparameters(num_trials=1)[0]\n",
        "\n",
        "print(\"Hyperparameter for LSTM 1:\", best_hps.get('lstm_1'))\n",
        "print(\"Hyperparameter for LSTM 2:\", best_hps.get('lstm_2'))\n",
        "print(\"Hyperparameter for LSTM 3:\", best_hps.get('lstm_3'))\n",
        "\n",
        "print(\"Hyperparameter for Dropout rate 1:\", best_hps.get('dropout_rate_1'))\n",
        "#print(\"Hyperparameter for Dropout rate 2:\", best_hps.get('dropout_rate_2'))\n",
        "#print(\"Hyperparameter for Dropout rate 3:\", best_hps.get('dropout_rate_3'))"
      ]
    },
    {
      "cell_type": "code",
      "execution_count": null,
      "id": "6eb27914",
      "metadata": {
        "colab": {
          "base_uri": "https://localhost:8080/"
        },
        "id": "6eb27914",
        "outputId": "8353dcfe-5394-43ea-830d-fafd95159bcb"
      },
      "outputs": [
        {
          "output_type": "stream",
          "name": "stdout",
          "text": [
            "Epoch 1/20\n",
            "167/167 [==============================] - 23s 112ms/step - loss: 1.0415 - accuracy: 0.5667 - val_loss: 0.7541 - val_accuracy: 0.7064\n",
            "Epoch 2/20\n",
            "167/167 [==============================] - 18s 106ms/step - loss: 0.7261 - accuracy: 0.7278 - val_loss: 0.6187 - val_accuracy: 0.7711\n",
            "Epoch 3/20\n",
            "167/167 [==============================] - 18s 106ms/step - loss: 0.5620 - accuracy: 0.7922 - val_loss: 0.5298 - val_accuracy: 0.7942\n",
            "Epoch 4/20\n",
            "167/167 [==============================] - 18s 106ms/step - loss: 0.4645 - accuracy: 0.8265 - val_loss: 0.5553 - val_accuracy: 0.7931\n",
            "Epoch 5/20\n",
            "167/167 [==============================] - 18s 106ms/step - loss: 0.4000 - accuracy: 0.8545 - val_loss: 0.4484 - val_accuracy: 0.8301\n",
            "Epoch 6/20\n",
            "167/167 [==============================] - 18s 106ms/step - loss: 0.3340 - accuracy: 0.8746 - val_loss: 0.4433 - val_accuracy: 0.8277\n",
            "Epoch 7/20\n",
            "167/167 [==============================] - 18s 106ms/step - loss: 0.2925 - accuracy: 0.8869 - val_loss: 0.4009 - val_accuracy: 0.8370\n",
            "Epoch 8/20\n",
            "167/167 [==============================] - 18s 107ms/step - loss: 0.2436 - accuracy: 0.9089 - val_loss: 0.4221 - val_accuracy: 0.8451\n",
            "Epoch 9/20\n",
            "167/167 [==============================] - 18s 106ms/step - loss: 0.2118 - accuracy: 0.9162 - val_loss: 0.4705 - val_accuracy: 0.8393\n",
            "Epoch 10/20\n",
            "167/167 [==============================] - 18s 106ms/step - loss: 0.1861 - accuracy: 0.9258 - val_loss: 0.4518 - val_accuracy: 0.8370\n",
            "Epoch 11/20\n",
            "167/167 [==============================] - 18s 106ms/step - loss: 0.1714 - accuracy: 0.9317 - val_loss: 0.4634 - val_accuracy: 0.8428\n",
            "Epoch 12/20\n",
            "167/167 [==============================] - 18s 106ms/step - loss: 0.1513 - accuracy: 0.9392 - val_loss: 0.5084 - val_accuracy: 0.8451\n",
            "Epoch 13/20\n",
            "167/167 [==============================] - 18s 106ms/step - loss: 0.1352 - accuracy: 0.9432 - val_loss: 0.5468 - val_accuracy: 0.8370\n",
            "Epoch 14/20\n",
            "167/167 [==============================] - 18s 107ms/step - loss: 0.1233 - accuracy: 0.9509 - val_loss: 0.4772 - val_accuracy: 0.8439\n",
            "Epoch 15/20\n",
            "167/167 [==============================] - 18s 106ms/step - loss: 0.1174 - accuracy: 0.9528 - val_loss: 0.5551 - val_accuracy: 0.8405\n",
            "Epoch 16/20\n",
            "167/167 [==============================] - 18s 106ms/step - loss: 0.1100 - accuracy: 0.9522 - val_loss: 0.5169 - val_accuracy: 0.8462\n",
            "Epoch 17/20\n",
            "167/167 [==============================] - 18s 106ms/step - loss: 0.1058 - accuracy: 0.9513 - val_loss: 0.5278 - val_accuracy: 0.8393\n",
            "Epoch 18/20\n",
            "167/167 [==============================] - 18s 106ms/step - loss: 0.0907 - accuracy: 0.9580 - val_loss: 0.5460 - val_accuracy: 0.8462\n",
            "Epoch 19/20\n",
            "167/167 [==============================] - 18s 106ms/step - loss: 0.0840 - accuracy: 0.9595 - val_loss: 0.5719 - val_accuracy: 0.8509\n",
            "Epoch 20/20\n",
            "167/167 [==============================] - 18s 107ms/step - loss: 0.1193 - accuracy: 0.9484 - val_loss: 0.5472 - val_accuracy: 0.8555\n"
          ]
        }
      ],
      "source": [
        "model = tuner.hypermodel.build(best_hps)\n",
        "history = model.fit(X_train_pad, y_train, epochs=20, validation_data=(X_val_pad, y_val))"
      ]
    },
    {
      "cell_type": "code",
      "execution_count": null,
      "id": "54d4f732",
      "metadata": {
        "colab": {
          "base_uri": "https://localhost:8080/",
          "height": 573
        },
        "id": "54d4f732",
        "outputId": "f1cdbce3-bd3c-4ee8-cad3-b68876087a51"
      },
      "outputs": [
        {
          "output_type": "display_data",
          "data": {
            "text/plain": [
              "<Figure size 432x288 with 1 Axes>"
            ],
            "image/png": "[encoded data removed]"
          },
          "metadata": {
            "needs_background": "light"
          }
        },
        {
          "output_type": "display_data",
          "data": {
            "text/plain": [
              "<Figure size 432x288 with 1 Axes>"
            ],
            "image/png": "[encoded data removed]"
          },
          "metadata": {
            "needs_background": "light"
          }
        }
      ],
      "source": [
        "plot_history()"
      ]
    },
    {
      "cell_type": "code",
      "execution_count": null,
      "id": "b7d5c7e7",
      "metadata": {
        "colab": {
          "base_uri": "https://localhost:8080/"
        },
        "id": "b7d5c7e7",
        "outputId": "56795a95-99c0-40d9-e19f-55686f3bbc7c"
      },
      "outputs": [
        {
          "output_type": "stream",
          "name": "stdout",
          "text": [
            "Best epoch: 20\n"
          ]
        }
      ],
      "source": [
        "val_acc_per_epoch = history.history['val_accuracy']\n",
        "best_number_of_epoch = val_acc_per_epoch.index(max(val_acc_per_epoch)) + 1\n",
        "print('Best epoch: %d' % (best_number_of_epoch,))"
      ]
    },
    {
      "cell_type": "code",
      "execution_count": null,
      "id": "db3cc8f2",
      "metadata": {
        "colab": {
          "base_uri": "https://localhost:8080/"
        },
        "id": "db3cc8f2",
        "outputId": "ebfdd0ad-2a1f-48d6-8555-81f6ac1836a2"
      },
      "outputs": [
        {
          "output_type": "stream",
          "name": "stdout",
          "text": [
            "Epoch 1/20\n",
            "167/167 [==============================] - 23s 113ms/step - loss: 1.0341 - accuracy: 0.5699 - val_loss: 0.8268 - val_accuracy: 0.6636\n",
            "Epoch 2/20\n",
            "167/167 [==============================] - 18s 106ms/step - loss: 0.7462 - accuracy: 0.7158 - val_loss: 0.6298 - val_accuracy: 0.7699\n",
            "Epoch 3/20\n",
            "167/167 [==============================] - 18s 106ms/step - loss: 0.5926 - accuracy: 0.7832 - val_loss: 0.5534 - val_accuracy: 0.7919\n",
            "Epoch 4/20\n",
            "167/167 [==============================] - 18s 106ms/step - loss: 0.4756 - accuracy: 0.8231 - val_loss: 0.4622 - val_accuracy: 0.8185\n",
            "Epoch 5/20\n",
            "167/167 [==============================] - 18s 106ms/step - loss: 0.4047 - accuracy: 0.8468 - val_loss: 0.4526 - val_accuracy: 0.8243\n",
            "Epoch 6/20\n",
            "167/167 [==============================] - 18s 106ms/step - loss: 0.3300 - accuracy: 0.8733 - val_loss: 0.4992 - val_accuracy: 0.8277\n",
            "Epoch 7/20\n",
            "167/167 [==============================] - 18s 106ms/step - loss: 0.2812 - accuracy: 0.8916 - val_loss: 0.4311 - val_accuracy: 0.8335\n",
            "Epoch 8/20\n",
            "167/167 [==============================] - 18s 106ms/step - loss: 0.2453 - accuracy: 0.9025 - val_loss: 0.5014 - val_accuracy: 0.8243\n",
            "Epoch 9/20\n",
            "167/167 [==============================] - 18s 107ms/step - loss: 0.2122 - accuracy: 0.9145 - val_loss: 0.4709 - val_accuracy: 0.8416\n",
            "Epoch 10/20\n",
            "167/167 [==============================] - 18s 107ms/step - loss: 0.1630 - accuracy: 0.9334 - val_loss: 0.4676 - val_accuracy: 0.8486\n",
            "Epoch 11/20\n",
            "167/167 [==============================] - 19s 113ms/step - loss: 0.1618 - accuracy: 0.9309 - val_loss: 0.4720 - val_accuracy: 0.8474\n",
            "Epoch 12/20\n",
            "167/167 [==============================] - 18s 106ms/step - loss: 0.1397 - accuracy: 0.9413 - val_loss: 0.4730 - val_accuracy: 0.8428\n",
            "Epoch 13/20\n",
            "167/167 [==============================] - 18s 106ms/step - loss: 0.1395 - accuracy: 0.9403 - val_loss: 0.4464 - val_accuracy: 0.8474\n",
            "Epoch 14/20\n",
            "167/167 [==============================] - 18s 106ms/step - loss: 0.1200 - accuracy: 0.9490 - val_loss: 0.5323 - val_accuracy: 0.8532\n",
            "Epoch 15/20\n",
            "167/167 [==============================] - 18s 106ms/step - loss: 0.1096 - accuracy: 0.9537 - val_loss: 0.4990 - val_accuracy: 0.8497\n",
            "Epoch 16/20\n",
            "167/167 [==============================] - 18s 105ms/step - loss: 0.1024 - accuracy: 0.9522 - val_loss: 0.5465 - val_accuracy: 0.8405\n",
            "Epoch 17/20\n",
            "167/167 [==============================] - 18s 106ms/step - loss: 0.0975 - accuracy: 0.9543 - val_loss: 0.5445 - val_accuracy: 0.8497\n",
            "Epoch 18/20\n",
            "167/167 [==============================] - 18s 106ms/step - loss: 0.0936 - accuracy: 0.9592 - val_loss: 0.6296 - val_accuracy: 0.8439\n",
            "Epoch 19/20\n",
            "167/167 [==============================] - 18s 106ms/step - loss: 0.1017 - accuracy: 0.9556 - val_loss: 0.5099 - val_accuracy: 0.8543\n",
            "Epoch 20/20\n",
            "167/167 [==============================] - 18s 106ms/step - loss: 0.0877 - accuracy: 0.9575 - val_loss: 0.5684 - val_accuracy: 0.8462\n"
          ]
        }
      ],
      "source": [
        "hypermodel = tuner.hypermodel.build(best_hps)\n",
        "\n",
        "# re-train the model\n",
        "hystory = hypermodel.fit(X_train_pad, y_train, epochs=best_number_of_epoch, validation_data=(X_val_pad, y_val))"
      ]
    },
    {
      "cell_type": "code",
      "execution_count": null,
      "id": "51a9a73a",
      "metadata": {
        "colab": {
          "base_uri": "https://localhost:8080/"
        },
        "id": "51a9a73a",
        "outputId": "2d6618fa-c95f-43f6-9510-f83205311812"
      },
      "outputs": [
        {
          "output_type": "stream",
          "name": "stdout",
          "text": [
            "Test loss: 0.6075975298881531\n",
            "Test accuracy: 0.838744580745697\n"
          ]
        }
      ],
      "source": [
        "# check external validity on the test set\n",
        "score = hypermodel.evaluate(X_test_pad, y_test, verbose=0)\n",
        "print(\"Test loss:\", score[0])\n",
        "print(\"Test accuracy:\", score[1])"
      ]
    },
    {
      "cell_type": "code",
      "execution_count": null,
      "id": "3712990f",
      "metadata": {
        "colab": {
          "base_uri": "https://localhost:8080/"
        },
        "id": "3712990f",
        "outputId": "dfb96525-8968-469b-b014-7c3c855fbd3b"
      },
      "outputs": [
        {
          "output_type": "stream",
          "name": "stdout",
          "text": [
            "              precision    recall  f1-score   support\n",
            "\n",
            "           0       0.86      0.80      0.83       236\n",
            "           1       0.85      0.84      0.85       296\n",
            "           2       0.88      0.89      0.88       206\n",
            "           3       0.76      0.82      0.79       186\n",
            "\n",
            "    accuracy                           0.84       924\n",
            "   macro avg       0.84      0.84      0.84       924\n",
            "weighted avg       0.84      0.84      0.84       924\n",
            "\n"
          ]
        }
      ],
      "source": [
        "y_pred = np.argmax(hypermodel.predict(X_test_pad), axis=1)\n",
        "y_true = np.argmax(y_test, axis=1)\n",
        "print(metrics.classification_report(y_pred, y_true))"
      ]
    },
    {
      "cell_type": "code",
      "execution_count": null,
      "id": "6f9e30cf",
      "metadata": {
        "colab": {
          "base_uri": "https://localhost:8080/",
          "height": 300
        },
        "id": "6f9e30cf",
        "outputId": "04d671e7-a917-4033-94be-3da43e4bfb88"
      },
      "outputs": [
        {
          "output_type": "execute_result",
          "data": {
            "text/plain": [
              "<sklearn.metrics._plot.confusion_matrix.ConfusionMatrixDisplay at 0x7f7428a94e10>"
            ]
          },
          "metadata": {},
          "execution_count": 50
        },
        {
          "output_type": "display_data",
          "data": {
            "text/plain": [
              "<Figure size 432x288 with 2 Axes>"
            ],
            "image/png": "[encoded data removed]"
          },
          "metadata": {
            "needs_background": "light"
          }
        }
      ],
      "source": [
        "cm = ConfusionMatrixDisplay(confusion_matrix(y_pred, y_true))\n",
        "cm.plot()"
      ]
    },
    {
      "cell_type": "code",
      "source": [
        "def build_model():\n",
        "    model = Sequential()\n",
        "    model.add(embedding_layer)\n",
        "    model.add(Dropout(best_hps.get('dropout_rate_1'))\n",
        "    model.add(Bidirectional(CuDNNLSTM(best_hps.get('lstm_1'), \n",
        "                                 return_sequences=True)))\n",
        "    model.add(Dropout(0.2))\n",
        "    model.add(Bidirectional(CuDNNLSTM(best_hps.get('lstm_2'), \n",
        "                                 return_sequences=True)))\n",
        "    model.add(Dropout(0.2))\n",
        "    model.add(Bidirectional(CuDNNLSTM(best_hps.get('lstm_3'), \n",
        "                                 return_sequences=False)))\n",
        "    model.add(Dense(class_num, \n",
        "                    activation = 'softmax'))\n",
        "    \n",
        "    model.compile(loss='categorical_crossentropy', optimizer='adam', metrics='accuracy')\n",
        "    return model"
      ],
      "metadata": {
        "id": "_L5iULDq9ui4"
      },
      "id": "_L5iULDq9ui4",
      "execution_count": null,
      "outputs": []
    },
    {
      "cell_type": "code",
      "source": [
        "# set up the 3-fold cross validation to get a more accurate estimate of the accuracy of the model\n",
        "\n",
        "num_folds = 5\n",
        "\n",
        "# Define per-fold score containers\n",
        "acc_per_fold = []\n",
        "loss_per_fold = []\n",
        "\n",
        "# Merge inputs and targets\n",
        "inputs = np.concatenate((X_train_pad, X_val_pad), axis=0)\n",
        "targets = np.concatenate((y_train, y_val), axis=0)\n",
        "\n",
        "# Define the K-fold Cross Validator\n",
        "kfold = KFold(n_splits=num_folds, shuffle=True)\n",
        "fold_no = 1\n",
        "\n",
        "for train, test in kfold.split(inputs, targets):\n",
        "    model = build_model()\n",
        "    # Generate a print\n",
        "    print('------------------------------------------------------------------------')\n",
        "    print(f'Training for fold {fold_no} ...')\n",
        "    # Fit data to model\n",
        "    history = model.fit(inputs[train], targets[train],\n",
        "              batch_size=128,\n",
        "              epochs=best_number_of_epoch)\n",
        "    # Generate generalization metrics\n",
        "    scores = model.evaluate(inputs[test], targets[test], verbose=0)\n",
        "    print(f'Score for fold {fold_no}: {model.metrics_names[0]} of {scores[0]}; {model.metrics_names[1]} of {scores[1]*100}%')\n",
        "    acc_per_fold.append(scores[1] * 100)\n",
        "    loss_per_fold.append(scores[0])\n",
        "    \n",
        "    # Increase fold number\n",
        "    fold_no = fold_no + 1"
      ],
      "metadata": {
        "colab": {
          "base_uri": "https://localhost:8080/"
        },
        "id": "a5SVTBZ81YEw",
        "outputId": "f7638ff5-a7e7-4f4c-98a7-f3d6371d4c44"
      },
      "id": "a5SVTBZ81YEw",
      "execution_count": 47,
      "outputs": [
        {
          "output_type": "stream",
          "name": "stdout",
          "text": [
            "------------------------------------------------------------------------\n",
            "Training for fold 1 ...\n",
            "Epoch 1/20\n",
            "39/39 [==============================] - 12s 102ms/step - loss: 1.1652 - accuracy: 0.4958\n",
            "Epoch 2/20\n",
            "39/39 [==============================] - 4s 93ms/step - loss: 0.8652 - accuracy: 0.6617\n",
            "Epoch 3/20\n",
            "39/39 [==============================] - 4s 94ms/step - loss: 0.7334 - accuracy: 0.7216\n",
            "Epoch 4/20\n",
            "39/39 [==============================] - 4s 93ms/step - loss: 0.6241 - accuracy: 0.7675\n",
            "Epoch 5/20\n",
            "39/39 [==============================] - 4s 94ms/step - loss: 0.5249 - accuracy: 0.8072\n",
            "Epoch 6/20\n",
            "39/39 [==============================] - 4s 94ms/step - loss: 0.4623 - accuracy: 0.8236\n",
            "Epoch 7/20\n",
            "39/39 [==============================] - 4s 94ms/step - loss: 0.3965 - accuracy: 0.8517\n",
            "Epoch 8/20\n",
            "39/39 [==============================] - 4s 94ms/step - loss: 0.3486 - accuracy: 0.8715\n",
            "Epoch 9/20\n",
            "39/39 [==============================] - 4s 93ms/step - loss: 0.3113 - accuracy: 0.8830\n",
            "Epoch 10/20\n",
            "39/39 [==============================] - 4s 93ms/step - loss: 0.2570 - accuracy: 0.9071\n",
            "Epoch 11/20\n",
            "39/39 [==============================] - 4s 93ms/step - loss: 0.2371 - accuracy: 0.9087\n",
            "Epoch 12/20\n",
            "39/39 [==============================] - 4s 93ms/step - loss: 0.2013 - accuracy: 0.9235\n",
            "Epoch 13/20\n",
            "39/39 [==============================] - 4s 94ms/step - loss: 0.1907 - accuracy: 0.9286\n",
            "Epoch 14/20\n",
            "39/39 [==============================] - 4s 93ms/step - loss: 0.1676 - accuracy: 0.9336\n",
            "Epoch 15/20\n",
            "39/39 [==============================] - 4s 93ms/step - loss: 0.1596 - accuracy: 0.9373\n",
            "Epoch 16/20\n",
            "39/39 [==============================] - 4s 94ms/step - loss: 0.1500 - accuracy: 0.9391\n",
            "Epoch 17/20\n",
            "39/39 [==============================] - 4s 94ms/step - loss: 0.1340 - accuracy: 0.9450\n",
            "Epoch 18/20\n",
            "39/39 [==============================] - 4s 93ms/step - loss: 0.1221 - accuracy: 0.9500\n",
            "Epoch 19/20\n",
            "39/39 [==============================] - 4s 94ms/step - loss: 0.1071 - accuracy: 0.9541\n",
            "Epoch 20/20\n",
            "39/39 [==============================] - 4s 94ms/step - loss: 0.1069 - accuracy: 0.9520\n",
            "Score for fold 1: loss of 0.7513535618782043; accuracy of 81.87702298164368%\n",
            "------------------------------------------------------------------------\n",
            "Training for fold 2 ...\n",
            "Epoch 1/20\n",
            "39/39 [==============================] - 8s 100ms/step - loss: 1.1538 - accuracy: 0.4864\n",
            "Epoch 2/20\n",
            "39/39 [==============================] - 4s 93ms/step - loss: 0.8792 - accuracy: 0.6507\n",
            "Epoch 3/20\n",
            "39/39 [==============================] - 4s 94ms/step - loss: 0.7430 - accuracy: 0.7125\n",
            "Epoch 4/20\n",
            "39/39 [==============================] - 4s 93ms/step - loss: 0.6307 - accuracy: 0.7643\n",
            "Epoch 5/20\n",
            "39/39 [==============================] - 4s 93ms/step - loss: 0.5464 - accuracy: 0.7970\n",
            "Epoch 6/20\n",
            "39/39 [==============================] - 4s 94ms/step - loss: 0.4816 - accuracy: 0.8234\n",
            "Epoch 7/20\n",
            "39/39 [==============================] - 4s 93ms/step - loss: 0.4003 - accuracy: 0.8549\n",
            "Epoch 8/20\n",
            "39/39 [==============================] - 4s 93ms/step - loss: 0.3485 - accuracy: 0.8673\n",
            "Epoch 9/20\n",
            "39/39 [==============================] - 4s 93ms/step - loss: 0.2843 - accuracy: 0.8938\n",
            "Epoch 10/20\n",
            "39/39 [==============================] - 4s 93ms/step - loss: 0.2647 - accuracy: 0.8972\n",
            "Epoch 11/20\n",
            "39/39 [==============================] - 4s 93ms/step - loss: 0.2263 - accuracy: 0.9134\n",
            "Epoch 12/20\n",
            "39/39 [==============================] - 4s 94ms/step - loss: 0.2065 - accuracy: 0.9219\n",
            "Epoch 13/20\n",
            "39/39 [==============================] - 4s 93ms/step - loss: 0.1836 - accuracy: 0.9290\n",
            "Epoch 14/20\n",
            "39/39 [==============================] - 4s 93ms/step - loss: 0.1662 - accuracy: 0.9336\n",
            "Epoch 15/20\n",
            "39/39 [==============================] - 4s 94ms/step - loss: 0.1505 - accuracy: 0.9411\n",
            "Epoch 16/20\n",
            "39/39 [==============================] - 4s 93ms/step - loss: 0.1436 - accuracy: 0.9437\n",
            "Epoch 17/20\n",
            "39/39 [==============================] - 4s 94ms/step - loss: 0.1325 - accuracy: 0.9482\n",
            "Epoch 18/20\n",
            "39/39 [==============================] - 4s 94ms/step - loss: 0.1309 - accuracy: 0.9435\n",
            "Epoch 19/20\n",
            "39/39 [==============================] - 4s 94ms/step - loss: 0.1412 - accuracy: 0.9437\n",
            "Epoch 20/20\n",
            "39/39 [==============================] - 4s 94ms/step - loss: 0.1069 - accuracy: 0.9553\n",
            "Score for fold 2: loss of 0.5874983668327332; accuracy of 83.17152261734009%\n",
            "------------------------------------------------------------------------\n",
            "Training for fold 3 ...\n",
            "Epoch 1/20\n",
            "39/39 [==============================] - 9s 97ms/step - loss: 1.1400 - accuracy: 0.5004\n",
            "Epoch 2/20\n",
            "39/39 [==============================] - 4s 93ms/step - loss: 0.8626 - accuracy: 0.6643\n",
            "Epoch 3/20\n",
            "39/39 [==============================] - 4s 93ms/step - loss: 0.7290 - accuracy: 0.7187\n",
            "Epoch 4/20\n",
            "39/39 [==============================] - 4s 94ms/step - loss: 0.6196 - accuracy: 0.7681\n",
            "Epoch 5/20\n",
            "39/39 [==============================] - 4s 93ms/step - loss: 0.5385 - accuracy: 0.8025\n",
            "Epoch 6/20\n",
            "39/39 [==============================] - 4s 93ms/step - loss: 0.4655 - accuracy: 0.8248\n",
            "Epoch 7/20\n",
            "39/39 [==============================] - 4s 94ms/step - loss: 0.3955 - accuracy: 0.8543\n",
            "Epoch 8/20\n",
            "39/39 [==============================] - 4s 94ms/step - loss: 0.3439 - accuracy: 0.8737\n",
            "Epoch 9/20\n",
            "39/39 [==============================] - 4s 94ms/step - loss: 0.3002 - accuracy: 0.8903\n",
            "Epoch 10/20\n",
            "39/39 [==============================] - 4s 93ms/step - loss: 0.2704 - accuracy: 0.9017\n",
            "Epoch 11/20\n",
            "39/39 [==============================] - 4s 94ms/step - loss: 0.2321 - accuracy: 0.9134\n",
            "Epoch 12/20\n",
            "39/39 [==============================] - 4s 94ms/step - loss: 0.1985 - accuracy: 0.9219\n",
            "Epoch 13/20\n",
            "39/39 [==============================] - 4s 95ms/step - loss: 0.1855 - accuracy: 0.9302\n",
            "Epoch 14/20\n",
            "39/39 [==============================] - 4s 94ms/step - loss: 0.1632 - accuracy: 0.9330\n",
            "Epoch 15/20\n",
            "39/39 [==============================] - 4s 94ms/step - loss: 0.1557 - accuracy: 0.9373\n",
            "Epoch 16/20\n",
            "39/39 [==============================] - 4s 94ms/step - loss: 0.1387 - accuracy: 0.9437\n",
            "Epoch 17/20\n",
            "39/39 [==============================] - 4s 93ms/step - loss: 0.1321 - accuracy: 0.9476\n",
            "Epoch 18/20\n",
            "39/39 [==============================] - 4s 97ms/step - loss: 0.1300 - accuracy: 0.9480\n",
            "Epoch 19/20\n",
            "39/39 [==============================] - 4s 103ms/step - loss: 0.1100 - accuracy: 0.9557\n",
            "Epoch 20/20\n",
            "39/39 [==============================] - 4s 103ms/step - loss: 0.1112 - accuracy: 0.9567\n",
            "Score for fold 3: loss of 0.6536248922348022; accuracy of 80.58252334594727%\n",
            "------------------------------------------------------------------------\n",
            "Training for fold 4 ...\n",
            "Epoch 1/20\n",
            "39/39 [==============================] - 8s 99ms/step - loss: 1.1520 - accuracy: 0.4961\n",
            "Epoch 2/20\n",
            "39/39 [==============================] - 4s 94ms/step - loss: 0.8434 - accuracy: 0.6700\n",
            "Epoch 3/20\n",
            "39/39 [==============================] - 4s 93ms/step - loss: 0.7074 - accuracy: 0.7261\n",
            "Epoch 4/20\n",
            "39/39 [==============================] - 4s 93ms/step - loss: 0.6111 - accuracy: 0.7667\n",
            "Epoch 5/20\n",
            "39/39 [==============================] - 4s 94ms/step - loss: 0.5221 - accuracy: 0.8074\n",
            "Epoch 6/20\n",
            "39/39 [==============================] - 4s 94ms/step - loss: 0.4495 - accuracy: 0.8293\n",
            "Epoch 7/20\n",
            "39/39 [==============================] - 4s 94ms/step - loss: 0.3897 - accuracy: 0.8537\n",
            "Epoch 8/20\n",
            "39/39 [==============================] - 4s 94ms/step - loss: 0.3409 - accuracy: 0.8693\n",
            "Epoch 9/20\n",
            "39/39 [==============================] - 4s 93ms/step - loss: 0.2923 - accuracy: 0.8863\n",
            "Epoch 10/20\n",
            "39/39 [==============================] - 4s 93ms/step - loss: 0.2582 - accuracy: 0.9013\n",
            "Epoch 11/20\n",
            "39/39 [==============================] - 4s 93ms/step - loss: 0.2053 - accuracy: 0.9205\n",
            "Epoch 12/20\n",
            "39/39 [==============================] - 4s 94ms/step - loss: 0.2304 - accuracy: 0.9124\n",
            "Epoch 13/20\n",
            "39/39 [==============================] - 4s 93ms/step - loss: 0.1983 - accuracy: 0.9237\n",
            "Epoch 14/20\n",
            "39/39 [==============================] - 4s 94ms/step - loss: 0.1640 - accuracy: 0.9347\n",
            "Epoch 15/20\n",
            "39/39 [==============================] - 4s 94ms/step - loss: 0.1546 - accuracy: 0.9411\n",
            "Epoch 16/20\n",
            "39/39 [==============================] - 4s 94ms/step - loss: 0.1378 - accuracy: 0.9460\n",
            "Epoch 17/20\n",
            "39/39 [==============================] - 4s 93ms/step - loss: 0.1295 - accuracy: 0.9421\n",
            "Epoch 18/20\n",
            "39/39 [==============================] - 4s 93ms/step - loss: 0.1231 - accuracy: 0.9510\n",
            "Epoch 19/20\n",
            "39/39 [==============================] - 4s 93ms/step - loss: 0.1052 - accuracy: 0.9579\n",
            "Epoch 20/20\n",
            "39/39 [==============================] - 4s 93ms/step - loss: 0.1019 - accuracy: 0.9567\n",
            "Score for fold 4: loss of 0.6965312957763672; accuracy of 79.75708246231079%\n",
            "------------------------------------------------------------------------\n",
            "Training for fold 5 ...\n",
            "Epoch 1/20\n",
            "39/39 [==============================] - 8s 97ms/step - loss: 1.1433 - accuracy: 0.4940\n",
            "Epoch 2/20\n",
            "39/39 [==============================] - 4s 94ms/step - loss: 0.8546 - accuracy: 0.6688\n",
            "Epoch 3/20\n",
            "39/39 [==============================] - 4s 94ms/step - loss: 0.7159 - accuracy: 0.7277\n",
            "Epoch 4/20\n",
            "39/39 [==============================] - 4s 94ms/step - loss: 0.6188 - accuracy: 0.7645\n",
            "Epoch 5/20\n",
            "39/39 [==============================] - 4s 94ms/step - loss: 0.5291 - accuracy: 0.8009\n",
            "Epoch 6/20\n",
            "39/39 [==============================] - 4s 94ms/step - loss: 0.4558 - accuracy: 0.8272\n",
            "Epoch 7/20\n",
            "39/39 [==============================] - 4s 93ms/step - loss: 0.4077 - accuracy: 0.8469\n",
            "Epoch 8/20\n",
            "39/39 [==============================] - 4s 94ms/step - loss: 0.3410 - accuracy: 0.8780\n",
            "Epoch 9/20\n",
            "39/39 [==============================] - 4s 94ms/step - loss: 0.3041 - accuracy: 0.8861\n",
            "Epoch 10/20\n",
            "39/39 [==============================] - 4s 93ms/step - loss: 0.2683 - accuracy: 0.9027\n",
            "Epoch 11/20\n",
            "39/39 [==============================] - 4s 93ms/step - loss: 0.2332 - accuracy: 0.9112\n",
            "Epoch 12/20\n",
            "39/39 [==============================] - 4s 94ms/step - loss: 0.1999 - accuracy: 0.9258\n",
            "Epoch 13/20\n",
            "39/39 [==============================] - 4s 94ms/step - loss: 0.1843 - accuracy: 0.9282\n",
            "Epoch 14/20\n",
            "39/39 [==============================] - 4s 94ms/step - loss: 0.1672 - accuracy: 0.9326\n",
            "Epoch 15/20\n",
            "39/39 [==============================] - 4s 94ms/step - loss: 0.1534 - accuracy: 0.9413\n",
            "Epoch 16/20\n",
            "39/39 [==============================] - 4s 94ms/step - loss: 0.1621 - accuracy: 0.9397\n",
            "Epoch 17/20\n",
            "39/39 [==============================] - 4s 94ms/step - loss: 0.1280 - accuracy: 0.9521\n",
            "Epoch 18/20\n",
            "39/39 [==============================] - 4s 94ms/step - loss: 0.1384 - accuracy: 0.9456\n",
            "Epoch 19/20\n",
            "39/39 [==============================] - 4s 94ms/step - loss: 0.1013 - accuracy: 0.9537\n",
            "Epoch 20/20\n",
            "39/39 [==============================] - 4s 94ms/step - loss: 0.1143 - accuracy: 0.9527\n",
            "Score for fold 5: loss of 0.7316595315933228; accuracy of 80.16194105148315%\n"
          ]
        }
      ]
    },
    {
      "cell_type": "code",
      "source": [
        "# == Provide average scores ==\n",
        "print('------------------------------------------------------------------------')\n",
        "print('Score per fold')\n",
        "for i in range(0, len(acc_per_fold)):\n",
        "    print('------------------------------------------------------------------------')\n",
        "    print(f'> Fold {i+1} - Loss: {loss_per_fold[i]} - Accuracy: {acc_per_fold[i]}%')\n",
        "print('------------------------------------------------------------------------')\n",
        "print('Average scores for all folds:')\n",
        "print(f'> Accuracy: {np.mean(acc_per_fold)} (+- {np.std(acc_per_fold)})')\n",
        "print(f'> Loss: {np.mean(loss_per_fold)}')\n",
        "print('------------------------------------------------------------------------')"
      ],
      "metadata": {
        "colab": {
          "base_uri": "https://localhost:8080/"
        },
        "id": "sxDyo25b1X7Z",
        "outputId": "a2a9fdb6-01c3-4758-dc31-213821118a15"
      },
      "id": "sxDyo25b1X7Z",
      "execution_count": 48,
      "outputs": [
        {
          "output_type": "stream",
          "name": "stdout",
          "text": [
            "------------------------------------------------------------------------\n",
            "Score per fold\n",
            "------------------------------------------------------------------------\n",
            "> Fold 1 - Loss: 0.7513535618782043 - Accuracy: 81.87702298164368%\n",
            "------------------------------------------------------------------------\n",
            "> Fold 2 - Loss: 0.5874983668327332 - Accuracy: 83.17152261734009%\n",
            "------------------------------------------------------------------------\n",
            "> Fold 3 - Loss: 0.6536248922348022 - Accuracy: 80.58252334594727%\n",
            "------------------------------------------------------------------------\n",
            "> Fold 4 - Loss: 0.6965312957763672 - Accuracy: 79.75708246231079%\n",
            "------------------------------------------------------------------------\n",
            "> Fold 5 - Loss: 0.7316595315933228 - Accuracy: 80.16194105148315%\n",
            "------------------------------------------------------------------------\n",
            "Average scores for all folds:\n",
            "> Accuracy: 81.110018491745 (+- 1.2526478362800237)\n",
            "> Loss: 0.6841335296630859\n",
            "------------------------------------------------------------------------\n"
          ]
        }
      ]
    },
    {
      "cell_type": "code",
      "source": [
        "# serialize model to JSON\n",
        "model_json = hypermodel.to_json()\n",
        "with open(\"model.json\", \"w\") as json_file:\n",
        "    json_file.write(model_json)"
      ],
      "metadata": {
        "id": "qn9uFII21Xzj"
      },
      "id": "qn9uFII21Xzj",
      "execution_count": null,
      "outputs": []
    },
    {
      "cell_type": "code",
      "source": [
        "# serialize weights to HDF5\n",
        "hypermodel.save_weights(\"model.h5\")\n",
        "print(\"Saved model to disk\")"
      ],
      "metadata": {
        "colab": {
          "base_uri": "https://localhost:8080/"
        },
        "id": "iLKzdE3l1Xpn",
        "outputId": "c0b4997d-b735-47cb-e67a-a8fab6843ded"
      },
      "id": "iLKzdE3l1Xpn",
      "execution_count": null,
      "outputs": [
        {
          "output_type": "stream",
          "name": "stdout",
          "text": [
            "Saved model to disk\n"
          ]
        }
      ]
    },
    {
      "cell_type": "code",
      "source": [
        "# load json and create model\n",
        "json_file = open('model.json', 'r')\n",
        "loaded_model_json = json_file.read()\n",
        "json_file.close()\n",
        "loaded_model = model_from_json(loaded_model_json)"
      ],
      "metadata": {
        "id": "5QJFz3tF5VM3"
      },
      "id": "5QJFz3tF5VM3",
      "execution_count": null,
      "outputs": []
    },
    {
      "cell_type": "code",
      "source": [
        "# load weights into new model\n",
        "loaded_model.load_weights(\"model.h5\")\n",
        "print(\"Loaded model from disk\")"
      ],
      "metadata": {
        "colab": {
          "base_uri": "https://localhost:8080/"
        },
        "id": "XSK8n3nT5ccx",
        "outputId": "63e87406-f201-419b-ab52-f64e6cceb24b"
      },
      "id": "XSK8n3nT5ccx",
      "execution_count": null,
      "outputs": [
        {
          "output_type": "stream",
          "name": "stdout",
          "text": [
            "Loaded model from disk\n"
          ]
        }
      ]
    },
    {
      "cell_type": "code",
      "source": [
        "# evaluate loaded model on test data\n",
        "loaded_model.compile(loss='binary_crossentropy', optimizer='adam', metrics=['accuracy'])\n",
        "score = loaded_model.evaluate(X_test_pad, y_test, verbose=0)\n",
        "print(\"%s: %.2f%%\" % (loaded_model.metrics_names[1], score[1]*100))"
      ],
      "metadata": {
        "colab": {
          "base_uri": "https://localhost:8080/"
        },
        "id": "gogOJnmP5xdj",
        "outputId": "8136fb76-ce27-4cf2-a208-cd07c0bc6562"
      },
      "id": "gogOJnmP5xdj",
      "execution_count": null,
      "outputs": [
        {
          "output_type": "stream",
          "name": "stdout",
          "text": [
            "accuracy: 83.87%\n"
          ]
        }
      ]
    },
    {
      "cell_type": "code",
      "source": [
        ""
      ],
      "metadata": {
        "id": "1okGg39A5yPN"
      },
      "id": "1okGg39A5yPN",
      "execution_count": null,
      "outputs": []
    }
  ],
  "metadata": {
    "accelerator": "GPU",
    "colab": {
      "collapsed_sections": [],
      "name": "text_mining_model_selection.ipynb",
      "provenance": []
    },
    "kernelspec": {
      "display_name": "Python 3 (ipykernel)",
      "language": "python",
      "name": "python3"
    },
    "language_info": {
      "codemirror_mode": {
        "name": "ipython",
        "version": 3
      },
      "file_extension": ".py",
      "mimetype": "text/x-python",
      "name": "python",
      "nbconvert_exporter": "python",
      "pygments_lexer": "ipython3",
      "version": "3.8.5"
    },
    "latex_envs": {
      "LaTeX_envs_menu_present": true,
      "autoclose": false,
      "autocomplete": true,
      "bibliofile": "biblio.bib",
      "cite_by": "apalike",
      "current_citInitial": 1,
      "eqLabelWithNumbers": true,
      "eqNumInitial": 1,
      "hotkeys": {
        "equation": "Ctrl-E",
        "itemize": "Ctrl-I"
      },
      "labels_anchors": false,
      "latex_user_defs": false,
      "report_style_numbering": false,
      "user_envs_cfg": false
    }
  },
  "nbformat": 4,
  "nbformat_minor": 5
}