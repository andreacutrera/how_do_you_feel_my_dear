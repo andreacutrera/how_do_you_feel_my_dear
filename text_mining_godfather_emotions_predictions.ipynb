{
 "cells": [
  {
   "cell_type": "code",
   "execution_count": 1,
   "id": "e0efe725",
   "metadata": {},
   "outputs": [
    {
     "name": "stderr",
     "output_type": "stream",
     "text": [
      "/var/folders/24/nqjd68556n7_t8xcfyl1lvpc0000gn/T/ipykernel_48746/2035162933.py:18: FutureWarning: The demoji.download_codes attribute is deprecated and will be removed from demoji in a future version. It is an unused attribute as emoji codes are now distributed directly with the demoji package.\n",
      "  demoji.download_codes()\n"
     ]
    }
   ],
   "source": [
    "import os\n",
    "import re\n",
    "import json\n",
    "import numpy as np\n",
    "import pandas as pd\n",
    "import matplotlib.pyplot as plt\n",
    "\n",
    "#!pip install neattext\n",
    "import neattext.functions as nfx\n",
    "\n",
    "from sklearn.utils import shuffle\n",
    "from sklearn.model_selection import train_test_split, KFold\n",
    "from sklearn.preprocessing import LabelEncoder\n",
    "from sklearn import metrics\n",
    "from sklearn.metrics import confusion_matrix, ConfusionMatrixDisplay\n",
    "\n",
    "import demoji\n",
    "demoji.download_codes()\n",
    "\n",
    "import nltk\n",
    "# nltk.download('wordnet')\n",
    "from nltk.tokenize import TweetTokenizer\n",
    "from nltk.stem import WordNetLemmatizer\n",
    "from nltk.tokenize.treebank import TreebankWordDetokenizer\n",
    "\n",
    "from keras.preprocessing.text import Tokenizer, tokenizer_from_json\n",
    "from keras.preprocessing.sequence import pad_sequences\n",
    "from tensorflow.keras.utils import to_categorical\n",
    "\n",
    "from tensorflow.keras.models import Sequential, model_from_json\n",
    "from tensorflow.keras.layers import Dense, LSTM, Embedding, Bidirectional, Dropout, Input, Conv1D, MaxPooling1D, Flatten, GlobalMaxPooling1D\n",
    "from keras.models import load_model\n",
    "import tensorflow as tf"
   ]
  },
  {
   "cell_type": "markdown",
   "id": "e49a1ace",
   "metadata": {},
   "source": [
    "## Load the model trained for the emotions prediction"
   ]
  },
  {
   "cell_type": "code",
   "execution_count": 2,
   "id": "3e2a5cce",
   "metadata": {},
   "outputs": [
    {
     "name": "stderr",
     "output_type": "stream",
     "text": [
      "2022-04-23 09:25:50.066257: I tensorflow/core/platform/cpu_feature_guard.cc:151] This TensorFlow binary is optimized with oneAPI Deep Neural Network Library (oneDNN) to use the following CPU instructions in performance-critical operations:  AVX2 AVX512F FMA\n",
      "To enable them in other operations, rebuild TensorFlow with the appropriate compiler flags.\n"
     ]
    },
    {
     "name": "stdout",
     "output_type": "stream",
     "text": [
      "Model: \"sequential_9\"\n",
      "_________________________________________________________________\n",
      " Layer (type)                Output Shape              Param #   \n",
      "=================================================================\n",
      " embedding (Embedding)       (None, 50, 200)           2180000   \n",
      "                                                                 \n",
      " dropout_27 (Dropout)        (None, 50, 200)           0         \n",
      "                                                                 \n",
      " bidirectional_27 (Bidirecti  (None, 50, 100)          100400    \n",
      " onal)                                                           \n",
      "                                                                 \n",
      " dropout_28 (Dropout)        (None, 50, 100)           0         \n",
      "                                                                 \n",
      " bidirectional_28 (Bidirecti  (None, 50, 300)          301200    \n",
      " onal)                                                           \n",
      "                                                                 \n",
      " dropout_29 (Dropout)        (None, 50, 300)           0         \n",
      "                                                                 \n",
      " bidirectional_29 (Bidirecti  (None, 100)              140400    \n",
      " onal)                                                           \n",
      "                                                                 \n",
      " dense_9 (Dense)             (None, 4)                 404       \n",
      "                                                                 \n",
      "=================================================================\n",
      "Total params: 2,722,404\n",
      "Trainable params: 542,404\n",
      "Non-trainable params: 2,180,000\n",
      "_________________________________________________________________\n"
     ]
    }
   ],
   "source": [
    "# load model\n",
    "model = load_model('how_do_you_feel_my_dear/final_model/model.h5')\n",
    "# summarize model\n",
    "model.summary()"
   ]
  },
  {
   "cell_type": "code",
   "execution_count": 3,
   "id": "803a1cc1",
   "metadata": {},
   "outputs": [
    {
     "data": {
      "text/html": [
       "<div>\n",
       "<style scoped>\n",
       "    .dataframe tbody tr th:only-of-type {\n",
       "        vertical-align: middle;\n",
       "    }\n",
       "\n",
       "    .dataframe tbody tr th {\n",
       "        vertical-align: top;\n",
       "    }\n",
       "\n",
       "    .dataframe thead th {\n",
       "        text-align: right;\n",
       "    }\n",
       "</style>\n",
       "<table border=\"1\" class=\"dataframe\">\n",
       "  <thead>\n",
       "    <tr style=\"text-align: right;\">\n",
       "      <th></th>\n",
       "      <th>id</th>\n",
       "      <th>text</th>\n",
       "      <th>character</th>\n",
       "      <th>conversation_id</th>\n",
       "      <th>reply_to</th>\n",
       "    </tr>\n",
       "  </thead>\n",
       "  <tbody>\n",
       "    <tr>\n",
       "      <th>0</th>\n",
       "      <td>L593445</td>\n",
       "      <td>You owe the Don a service.  He has no doubt th...</td>\n",
       "      <td>HAGEN</td>\n",
       "      <td>L593443</td>\n",
       "      <td>L593444</td>\n",
       "    </tr>\n",
       "    <tr>\n",
       "      <th>1</th>\n",
       "      <td>L593443</td>\n",
       "      <td>This is Tom Hagen; I'm calling for Don Corleon...</td>\n",
       "      <td>HAGEN</td>\n",
       "      <td>L593443</td>\n",
       "      <td>NaN</td>\n",
       "    </tr>\n",
       "    <tr>\n",
       "      <th>2</th>\n",
       "      <td>L593425</td>\n",
       "      <td>Yes.</td>\n",
       "      <td>HAGEN</td>\n",
       "      <td>L593422</td>\n",
       "      <td>L593424</td>\n",
       "    </tr>\n",
       "    <tr>\n",
       "      <th>3</th>\n",
       "      <td>L593423</td>\n",
       "      <td>Good.  He never doubted you.</td>\n",
       "      <td>HAGEN</td>\n",
       "      <td>L593422</td>\n",
       "      <td>L593422</td>\n",
       "    </tr>\n",
       "    <tr>\n",
       "      <th>4</th>\n",
       "      <td>L593421</td>\n",
       "      <td>You owe the Don a service.  In one hour, not b...</td>\n",
       "      <td>HAGEN</td>\n",
       "      <td>L593420</td>\n",
       "      <td>L593420</td>\n",
       "    </tr>\n",
       "  </tbody>\n",
       "</table>\n",
       "</div>"
      ],
      "text/plain": [
       "        id                                               text character  \\\n",
       "0  L593445  You owe the Don a service.  He has no doubt th...     HAGEN   \n",
       "1  L593443  This is Tom Hagen; I'm calling for Don Corleon...     HAGEN   \n",
       "2  L593425                                               Yes.     HAGEN   \n",
       "3  L593423                       Good.  He never doubted you.     HAGEN   \n",
       "4  L593421  You owe the Don a service.  In one hour, not b...     HAGEN   \n",
       "\n",
       "  conversation_id reply_to  \n",
       "0         L593443  L593444  \n",
       "1         L593443      NaN  \n",
       "2         L593422  L593424  \n",
       "3         L593422  L593422  \n",
       "4         L593420  L593420  "
      ]
     },
     "execution_count": 3,
     "metadata": {},
     "output_type": "execute_result"
    }
   ],
   "source": [
    "# load the data just downloaded\n",
    "\n",
    "data = pd.read_csv(\"how_do_you_feel_my_dear/the_godfather_utterances.csv\")\n",
    "data.head()"
   ]
  },
  {
   "cell_type": "code",
   "execution_count": 4,
   "id": "5c7ea636",
   "metadata": {},
   "outputs": [],
   "source": [
    "def clean_emoji_output(text):\n",
    "    return re.sub(\":\", \" \", text)\n",
    "\n",
    "def strip_lowercase(text):\n",
    "    return text.strip().lower()\n",
    "\n",
    "# tokenize\n",
    "tt = TweetTokenizer()\n",
    "\n",
    "# lemmatize\n",
    "def lemmatize_text(text):\n",
    "    lemmatizer = WordNetLemmatizer()\n",
    "    return [lemmatizer.lemmatize(w) for w in text]\n",
    "\n",
    "# function which cleans texts\n",
    "def clean_text(data):\n",
    "    data['clean_text'] = data['text'].apply(nfx.remove_emails)\n",
    "    data['clean_text'] = data['clean_text'].apply(nfx.remove_numbers)\n",
    "    data['clean_text'] = data['clean_text'].apply(nfx.remove_urls)\n",
    "    data['clean_text'] = data['clean_text'].apply(nfx.remove_userhandles)\n",
    "    data['clean_text'] = data['clean_text'].apply(demoji.replace_with_desc)\n",
    "    data['clean_text'] = data['clean_text'].apply(clean_emoji_output)\n",
    "    data['clean_text'] = data['clean_text'].apply(nfx.remove_special_characters)\n",
    "    data['clean_text'] = data['clean_text'].apply(nfx.remove_bad_quotes)\n",
    "    data['clean_text'] = data['clean_text'].apply(nfx.remove_html_tags)\n",
    "    data['clean_text'] = data['clean_text'].apply(nfx.remove_punctuations)\n",
    "    data['clean_text'] = data['clean_text'].apply(nfx.remove_stopwords)\n",
    "    data['clean_text'] = data['clean_text'].apply(nfx.remove_multiple_spaces)\n",
    "    data['clean_text'] = data['clean_text'].apply(strip_lowercase)\n",
    "    \n",
    "    data['tokenize'] = data.clean_text.str.lower().apply(tt.tokenize)\n",
    "    data['tokenize_lemmatized'] = data['tokenize'].apply(lemmatize_text)\n",
    "    \n",
    "    # detokenize\n",
    "    data['final_text'] = data.tokenize_lemmatized.apply(TreebankWordDetokenizer().detokenize)"
   ]
  },
  {
   "cell_type": "code",
   "execution_count": 5,
   "id": "0d154749",
   "metadata": {},
   "outputs": [],
   "source": [
    "# clean and shuffle\n",
    "\n",
    "clean_text(data)\n",
    "data = shuffle(data, random_state=42)"
   ]
  },
  {
   "cell_type": "code",
   "execution_count": 6,
   "id": "19b86d95",
   "metadata": {},
   "outputs": [
    {
     "data": {
      "text/html": [
       "<div>\n",
       "<style scoped>\n",
       "    .dataframe tbody tr th:only-of-type {\n",
       "        vertical-align: middle;\n",
       "    }\n",
       "\n",
       "    .dataframe tbody tr th {\n",
       "        vertical-align: top;\n",
       "    }\n",
       "\n",
       "    .dataframe thead th {\n",
       "        text-align: right;\n",
       "    }\n",
       "</style>\n",
       "<table border=\"1\" class=\"dataframe\">\n",
       "  <thead>\n",
       "    <tr style=\"text-align: right;\">\n",
       "      <th></th>\n",
       "      <th>id</th>\n",
       "      <th>text</th>\n",
       "      <th>character</th>\n",
       "      <th>conversation_id</th>\n",
       "      <th>reply_to</th>\n",
       "      <th>clean_text</th>\n",
       "      <th>tokenize</th>\n",
       "      <th>tokenize_lemmatized</th>\n",
       "      <th>final_text</th>\n",
       "    </tr>\n",
       "  </thead>\n",
       "  <tbody>\n",
       "    <tr>\n",
       "      <th>71</th>\n",
       "      <td>L593460</td>\n",
       "      <td>He was the one behind Sollozzo?</td>\n",
       "      <td>HAGEN</td>\n",
       "      <td>L593456</td>\n",
       "      <td>L593459</td>\n",
       "      <td>sollozzo</td>\n",
       "      <td>[sollozzo]</td>\n",
       "      <td>[sollozzo]</td>\n",
       "      <td>sollozzo</td>\n",
       "    </tr>\n",
       "    <tr>\n",
       "      <th>106</th>\n",
       "      <td>L593657</td>\n",
       "      <td>Barzini will move against you first.</td>\n",
       "      <td>DON CORLEONE</td>\n",
       "      <td>L593657</td>\n",
       "      <td>NaN</td>\n",
       "      <td>barzini</td>\n",
       "      <td>[barzini]</td>\n",
       "      <td>[barzini]</td>\n",
       "      <td>barzini</td>\n",
       "    </tr>\n",
       "    <tr>\n",
       "      <th>270</th>\n",
       "      <td>L592927</td>\n",
       "      <td>My brother, Tom Hagen.</td>\n",
       "      <td>MICHAEL</td>\n",
       "      <td>L592925</td>\n",
       "      <td>L592926</td>\n",
       "      <td>brother tom hagen</td>\n",
       "      <td>[brother, tom, hagen]</td>\n",
       "      <td>[brother, tom, hagen]</td>\n",
       "      <td>brother tom hagen</td>\n",
       "    </tr>\n",
       "    <tr>\n",
       "      <th>348</th>\n",
       "      <td>L593591</td>\n",
       "      <td>Is that why you thought you could slap Freddie...</td>\n",
       "      <td>MICHAEL</td>\n",
       "      <td>L593584</td>\n",
       "      <td>L593590</td>\n",
       "      <td>thought slap freddie public</td>\n",
       "      <td>[thought, slap, freddie, public]</td>\n",
       "      <td>[thought, slap, freddie, public]</td>\n",
       "      <td>thought slap freddie public</td>\n",
       "    </tr>\n",
       "    <tr>\n",
       "      <th>102</th>\n",
       "      <td>L593662</td>\n",
       "      <td>Yes.</td>\n",
       "      <td>MICHAEL</td>\n",
       "      <td>L593661</td>\n",
       "      <td>L593661</td>\n",
       "      <td>yes</td>\n",
       "      <td>[yes]</td>\n",
       "      <td>[yes]</td>\n",
       "      <td>yes</td>\n",
       "    </tr>\n",
       "  </tbody>\n",
       "</table>\n",
       "</div>"
      ],
      "text/plain": [
       "          id                                               text     character  \\\n",
       "71   L593460                    He was the one behind Sollozzo?         HAGEN   \n",
       "106  L593657               Barzini will move against you first.  DON CORLEONE   \n",
       "270  L592927                             My brother, Tom Hagen.       MICHAEL   \n",
       "348  L593591  Is that why you thought you could slap Freddie...       MICHAEL   \n",
       "102  L593662                                               Yes.       MICHAEL   \n",
       "\n",
       "    conversation_id reply_to                   clean_text  \\\n",
       "71          L593456  L593459                     sollozzo   \n",
       "106         L593657      NaN                      barzini   \n",
       "270         L592925  L592926            brother tom hagen   \n",
       "348         L593584  L593590  thought slap freddie public   \n",
       "102         L593661  L593661                          yes   \n",
       "\n",
       "                             tokenize               tokenize_lemmatized  \\\n",
       "71                         [sollozzo]                        [sollozzo]   \n",
       "106                         [barzini]                         [barzini]   \n",
       "270             [brother, tom, hagen]             [brother, tom, hagen]   \n",
       "348  [thought, slap, freddie, public]  [thought, slap, freddie, public]   \n",
       "102                             [yes]                             [yes]   \n",
       "\n",
       "                      final_text  \n",
       "71                      sollozzo  \n",
       "106                      barzini  \n",
       "270            brother tom hagen  \n",
       "348  thought slap freddie public  \n",
       "102                          yes  "
      ]
     },
     "execution_count": 6,
     "metadata": {},
     "output_type": "execute_result"
    }
   ],
   "source": [
    "data.tail()"
   ]
  },
  {
   "cell_type": "code",
   "execution_count": 7,
   "id": "566f1794",
   "metadata": {},
   "outputs": [],
   "source": [
    "# alphabetical order\n",
    "# 0: anger\n",
    "# 1: fear\n",
    "# 2: joy\n",
    "# 3: sadness"
   ]
  },
  {
   "cell_type": "markdown",
   "id": "495c4015",
   "metadata": {},
   "source": [
    "## Load the tokenizer on which we trained our model\n",
    "If you use another tokenizer it is not going to work"
   ]
  },
  {
   "cell_type": "code",
   "execution_count": 8,
   "id": "f97b8504",
   "metadata": {},
   "outputs": [],
   "source": [
    "with open('how_do_you_feel_my_dear/tokenizer/tokenizer.json') as f:\n",
    "    data_json = json.load(f)\n",
    "\n",
    "tokenizer = tokenizer_from_json(data_json)"
   ]
  },
  {
   "cell_type": "code",
   "execution_count": 9,
   "id": "e3512e70",
   "metadata": {},
   "outputs": [
    {
     "data": {
      "text/plain": [
       "array([[1748, 7593, 1138,    7, 1138,    0,    0,    0,    0,    0,    0,\n",
       "           0,    0,    0,    0,    0,    0,    0,    0,    0,    0,    0,\n",
       "           0,    0,    0,    0,    0,    0,    0,    0,    0,    0,    0,\n",
       "           0,    0,    0,    0,    0,    0,    0,    0,    0,    0,    0,\n",
       "           0,    0,    0,    0,    0,    0],\n",
       "       [ 585,  915,    0,    0,    0,    0,    0,    0,    0,    0,    0,\n",
       "           0,    0,    0,    0,    0,    0,    0,    0,    0,    0,    0,\n",
       "           0,    0,    0,    0,    0,    0,    0,    0,    0,    0,    0,\n",
       "           0,    0,    0,    0,    0,    0,    0,    0,    0,    0,    0,\n",
       "           0,    0,    0,    0,    0,    0],\n",
       "       [ 212,  525,  915,    0,    0,    0,    0,    0,    0,    0,    0,\n",
       "           0,    0,    0,    0,    0,    0,    0,    0,    0,    0,    0,\n",
       "           0,    0,    0,    0,    0,    0,    0,    0,    0,    0,    0,\n",
       "           0,    0,    0,    0,    0,    0,    0,    0,    0,    0,    0,\n",
       "           0,    0,    0,    0,    0,    0]], dtype=int32)"
      ]
     },
     "execution_count": 9,
     "metadata": {},
     "output_type": "execute_result"
    }
   ],
   "source": [
    "# Convert texts into some numeric sequences and make the length of all numeric sequences equal \n",
    "\n",
    "X_seq = tokenizer.texts_to_sequences(data.final_text) \n",
    "X_pad = pad_sequences(X_seq, maxlen = 50, padding = 'post') \n",
    "\n",
    "X_pad = np.array(X_pad)\n",
    "X_pad[:3]"
   ]
  },
  {
   "cell_type": "code",
   "execution_count": 10,
   "id": "01c84fca",
   "metadata": {},
   "outputs": [
    {
     "data": {
      "text/plain": [
       "224    christ tom needed time needed\n",
       "42                      heard father\n",
       "285            theyre waiting father\n",
       "Name: final_text, dtype: object"
      ]
     },
     "execution_count": 10,
     "metadata": {},
     "output_type": "execute_result"
    }
   ],
   "source": [
    "data.final_text[:3]"
   ]
  },
  {
   "cell_type": "code",
   "execution_count": 11,
   "id": "4e23d9ed",
   "metadata": {},
   "outputs": [
    {
     "data": {
      "text/plain": [
       "array([[0.07530686, 0.64207655, 0.24416837, 0.03844821],\n",
       "       [0.0457202 , 0.5290419 , 0.36335048, 0.06188745],\n",
       "       [0.05299313, 0.14316204, 0.5568054 , 0.24703944],\n",
       "       ...,\n",
       "       [0.0365193 , 0.833903  , 0.10705694, 0.02252079],\n",
       "       [0.6778832 , 0.20148484, 0.07819594, 0.0424361 ],\n",
       "       [0.30471897, 0.5035038 , 0.07883872, 0.11293846]], dtype=float32)"
      ]
     },
     "execution_count": 11,
     "metadata": {},
     "output_type": "execute_result"
    }
   ],
   "source": [
    "model.predict(X_pad)"
   ]
  },
  {
   "cell_type": "code",
   "execution_count": 12,
   "id": "14ca1f3a",
   "metadata": {},
   "outputs": [
    {
     "data": {
      "text/html": [
       "<div>\n",
       "<style scoped>\n",
       "    .dataframe tbody tr th:only-of-type {\n",
       "        vertical-align: middle;\n",
       "    }\n",
       "\n",
       "    .dataframe tbody tr th {\n",
       "        vertical-align: top;\n",
       "    }\n",
       "\n",
       "    .dataframe thead th {\n",
       "        text-align: right;\n",
       "    }\n",
       "</style>\n",
       "<table border=\"1\" class=\"dataframe\">\n",
       "  <thead>\n",
       "    <tr style=\"text-align: right;\">\n",
       "      <th></th>\n",
       "      <th>id</th>\n",
       "      <th>text</th>\n",
       "      <th>character</th>\n",
       "      <th>conversation_id</th>\n",
       "      <th>reply_to</th>\n",
       "      <th>clean_text</th>\n",
       "      <th>tokenize</th>\n",
       "      <th>tokenize_lemmatized</th>\n",
       "      <th>final_text</th>\n",
       "      <th>prediction</th>\n",
       "    </tr>\n",
       "  </thead>\n",
       "  <tbody>\n",
       "    <tr>\n",
       "      <th>224</th>\n",
       "      <td>L593678</td>\n",
       "      <td>Christ, Tom; I needed more time with him.  I r...</td>\n",
       "      <td>MICHAEL</td>\n",
       "      <td>L593678</td>\n",
       "      <td>NaN</td>\n",
       "      <td>christ tom needed time needed</td>\n",
       "      <td>[christ, tom, needed, time, needed]</td>\n",
       "      <td>[christ, tom, needed, time, needed]</td>\n",
       "      <td>christ tom needed time needed</td>\n",
       "      <td>fear</td>\n",
       "    </tr>\n",
       "    <tr>\n",
       "      <th>42</th>\n",
       "      <td>L593090</td>\n",
       "      <td>You heard about your father?</td>\n",
       "      <td>CLEMENZA</td>\n",
       "      <td>L593090</td>\n",
       "      <td>NaN</td>\n",
       "      <td>heard father</td>\n",
       "      <td>[heard, father]</td>\n",
       "      <td>[heard, father]</td>\n",
       "      <td>heard father</td>\n",
       "      <td>fear</td>\n",
       "    </tr>\n",
       "    <tr>\n",
       "      <th>285</th>\n",
       "      <td>L592894</td>\n",
       "      <td>They're waiting to see my father.</td>\n",
       "      <td>MICHAEL</td>\n",
       "      <td>L592893</td>\n",
       "      <td>L592893</td>\n",
       "      <td>theyre waiting father</td>\n",
       "      <td>[theyre, waiting, father]</td>\n",
       "      <td>[theyre, waiting, father]</td>\n",
       "      <td>theyre waiting father</td>\n",
       "      <td>joy</td>\n",
       "    </tr>\n",
       "    <tr>\n",
       "      <th>302</th>\n",
       "      <td>L593284</td>\n",
       "      <td>Cut it out.</td>\n",
       "      <td>MICHAEL</td>\n",
       "      <td>L593283</td>\n",
       "      <td>L593283</td>\n",
       "      <td>cut</td>\n",
       "      <td>[cut]</td>\n",
       "      <td>[cut]</td>\n",
       "      <td>cut</td>\n",
       "      <td>fear</td>\n",
       "    </tr>\n",
       "    <tr>\n",
       "      <th>56</th>\n",
       "      <td>L592872</td>\n",
       "      <td>What are you, a dance judge?  Go do your job; ...</td>\n",
       "      <td>CLEMENZA</td>\n",
       "      <td>L592871</td>\n",
       "      <td>L592871</td>\n",
       "      <td>dance judge job walk neighborhood okay</td>\n",
       "      <td>[dance, judge, job, walk, neighborhood, okay]</td>\n",
       "      <td>[dance, judge, job, walk, neighborhood, okay]</td>\n",
       "      <td>dance judge job walk neighborhood okay</td>\n",
       "      <td>fear</td>\n",
       "    </tr>\n",
       "  </tbody>\n",
       "</table>\n",
       "</div>"
      ],
      "text/plain": [
       "          id                                               text character  \\\n",
       "224  L593678  Christ, Tom; I needed more time with him.  I r...   MICHAEL   \n",
       "42   L593090                       You heard about your father?  CLEMENZA   \n",
       "285  L592894                  They're waiting to see my father.   MICHAEL   \n",
       "302  L593284                                        Cut it out.   MICHAEL   \n",
       "56   L592872  What are you, a dance judge?  Go do your job; ...  CLEMENZA   \n",
       "\n",
       "    conversation_id reply_to                              clean_text  \\\n",
       "224         L593678      NaN           christ tom needed time needed   \n",
       "42          L593090      NaN                            heard father   \n",
       "285         L592893  L592893                   theyre waiting father   \n",
       "302         L593283  L593283                                     cut   \n",
       "56          L592871  L592871  dance judge job walk neighborhood okay   \n",
       "\n",
       "                                          tokenize  \\\n",
       "224            [christ, tom, needed, time, needed]   \n",
       "42                                 [heard, father]   \n",
       "285                      [theyre, waiting, father]   \n",
       "302                                          [cut]   \n",
       "56   [dance, judge, job, walk, neighborhood, okay]   \n",
       "\n",
       "                               tokenize_lemmatized  \\\n",
       "224            [christ, tom, needed, time, needed]   \n",
       "42                                 [heard, father]   \n",
       "285                      [theyre, waiting, father]   \n",
       "302                                          [cut]   \n",
       "56   [dance, judge, job, walk, neighborhood, okay]   \n",
       "\n",
       "                                 final_text prediction  \n",
       "224           christ tom needed time needed       fear  \n",
       "42                             heard father       fear  \n",
       "285                   theyre waiting father        joy  \n",
       "302                                     cut       fear  \n",
       "56   dance judge job walk neighborhood okay       fear  "
      ]
     },
     "execution_count": 12,
     "metadata": {},
     "output_type": "execute_result"
    }
   ],
   "source": [
    "data['prediction'] = np.argmax(model.predict(X_pad), axis=1)\n",
    "\n",
    "# alphabetical order\n",
    "# 0: anger\n",
    "# 1: fear\n",
    "# 2: joy\n",
    "# 3: sadness\n",
    "\n",
    "code_to_strings = {0: \"anger\",\n",
    "                   1: \"fear\",\n",
    "                   2: \"joy\",\n",
    "                   3: \"sadness\"}\n",
    "\n",
    "data[\"prediction\"] = data[\"prediction\"].map(code_to_strings)\n",
    "data.head()"
   ]
  },
  {
   "cell_type": "code",
   "execution_count": 13,
   "id": "b981882b",
   "metadata": {},
   "outputs": [
    {
     "data": {
      "text/plain": [
       "<AxesSubplot:>"
      ]
     },
     "execution_count": 13,
     "metadata": {},
     "output_type": "execute_result"
    },
    {
     "data": {
      "image/png": "[encoded data removed]",
      "text/plain": [
       "<Figure size 432x288 with 1 Axes>"
      ]
     },
     "metadata": {
      "needs_background": "light"
     },
     "output_type": "display_data"
    }
   ],
   "source": [
    "data.prediction.value_counts().sort_index(ascending=True).plot(kind='barh')"
   ]
  },
  {
   "cell_type": "code",
   "execution_count": 14,
   "id": "fbc8ebc1",
   "metadata": {},
   "outputs": [
    {
     "data": {
      "text/html": [
       "<div>\n",
       "<style scoped>\n",
       "    .dataframe tbody tr th:only-of-type {\n",
       "        vertical-align: middle;\n",
       "    }\n",
       "\n",
       "    .dataframe tbody tr th {\n",
       "        vertical-align: top;\n",
       "    }\n",
       "\n",
       "    .dataframe thead th {\n",
       "        text-align: right;\n",
       "    }\n",
       "</style>\n",
       "<table border=\"1\" class=\"dataframe\">\n",
       "  <thead>\n",
       "    <tr style=\"text-align: right;\">\n",
       "      <th>prediction</th>\n",
       "      <th>anger</th>\n",
       "      <th>fear</th>\n",
       "      <th>joy</th>\n",
       "      <th>sadness</th>\n",
       "    </tr>\n",
       "    <tr>\n",
       "      <th>character</th>\n",
       "      <th></th>\n",
       "      <th></th>\n",
       "      <th></th>\n",
       "      <th></th>\n",
       "    </tr>\n",
       "  </thead>\n",
       "  <tbody>\n",
       "    <tr>\n",
       "      <th>CLEMENZA</th>\n",
       "      <td>15.0</td>\n",
       "      <td>50.0</td>\n",
       "      <td>25.0</td>\n",
       "      <td>10.0</td>\n",
       "    </tr>\n",
       "    <tr>\n",
       "      <th>DON CORLEONE</th>\n",
       "      <td>16.0</td>\n",
       "      <td>57.0</td>\n",
       "      <td>26.0</td>\n",
       "      <td>NaN</td>\n",
       "    </tr>\n",
       "    <tr>\n",
       "      <th>HAGEN</th>\n",
       "      <td>20.0</td>\n",
       "      <td>55.0</td>\n",
       "      <td>18.0</td>\n",
       "      <td>6.0</td>\n",
       "    </tr>\n",
       "    <tr>\n",
       "      <th>MICHAEL</th>\n",
       "      <td>22.0</td>\n",
       "      <td>49.0</td>\n",
       "      <td>22.0</td>\n",
       "      <td>6.0</td>\n",
       "    </tr>\n",
       "    <tr>\n",
       "      <th>SONNY</th>\n",
       "      <td>25.0</td>\n",
       "      <td>51.0</td>\n",
       "      <td>19.0</td>\n",
       "      <td>5.0</td>\n",
       "    </tr>\n",
       "  </tbody>\n",
       "</table>\n",
       "</div>"
      ],
      "text/plain": [
       "prediction    anger  fear   joy  sadness\n",
       "character                               \n",
       "CLEMENZA       15.0  50.0  25.0     10.0\n",
       "DON CORLEONE   16.0  57.0  26.0      NaN\n",
       "HAGEN          20.0  55.0  18.0      6.0\n",
       "MICHAEL        22.0  49.0  22.0      6.0\n",
       "SONNY          25.0  51.0  19.0      5.0"
      ]
     },
     "execution_count": 14,
     "metadata": {},
     "output_type": "execute_result"
    }
   ],
   "source": [
    "# to get the dataframe in the correct shape, unstack the groupby result\n",
    "df = data.groupby(['character']).prediction.value_counts().unstack()\n",
    "df['tot'] = data.groupby(['character']).prediction.size()\n",
    "df['anger'] = round(df['anger']/df['tot']*100)\n",
    "df['fear'] = round(df['fear']/df['tot']*100)\n",
    "df['joy'] = round(df['joy']/df['tot']*100)\n",
    "df['sadness'] = round(df['sadness']/df['tot']*100)\n",
    "del df['tot']\n",
    "df"
   ]
  },
  {
   "cell_type": "code",
   "execution_count": 15,
   "id": "02916ae5",
   "metadata": {},
   "outputs": [
    {
     "data": {
      "image/png": "[encoded data removed]",
      "text/plain": [
       "<Figure size 936x576 with 1 Axes>"
      ]
     },
     "metadata": {
      "needs_background": "light"
     },
     "output_type": "display_data"
    }
   ],
   "source": [
    "# plot\n",
    "ax = df.plot(kind='bar', figsize=(13, 8), xlabel='Characters', ylabel='Count', rot=0)\n",
    "ax.legend(title='Sentiments', bbox_to_anchor=(1, 1), loc='upper left')\n",
    "plt.grid()"
   ]
  },
  {
   "cell_type": "code",
   "execution_count": 16,
   "id": "0ca51721",
   "metadata": {},
   "outputs": [
    {
     "data": {
      "text/html": [
       "<div>\n",
       "<style scoped>\n",
       "    .dataframe tbody tr th:only-of-type {\n",
       "        vertical-align: middle;\n",
       "    }\n",
       "\n",
       "    .dataframe tbody tr th {\n",
       "        vertical-align: top;\n",
       "    }\n",
       "\n",
       "    .dataframe thead th {\n",
       "        text-align: right;\n",
       "    }\n",
       "</style>\n",
       "<table border=\"1\" class=\"dataframe\">\n",
       "  <thead>\n",
       "    <tr style=\"text-align: right;\">\n",
       "      <th>character</th>\n",
       "      <th>CLEMENZA</th>\n",
       "      <th>DON CORLEONE</th>\n",
       "      <th>HAGEN</th>\n",
       "      <th>MICHAEL</th>\n",
       "      <th>SONNY</th>\n",
       "    </tr>\n",
       "    <tr>\n",
       "      <th>prediction</th>\n",
       "      <th></th>\n",
       "      <th></th>\n",
       "      <th></th>\n",
       "      <th></th>\n",
       "      <th></th>\n",
       "    </tr>\n",
       "  </thead>\n",
       "  <tbody>\n",
       "    <tr>\n",
       "      <th>anger</th>\n",
       "      <td>4.0</td>\n",
       "      <td>13.0</td>\n",
       "      <td>17.0</td>\n",
       "      <td>45.0</td>\n",
       "      <td>20.0</td>\n",
       "    </tr>\n",
       "    <tr>\n",
       "      <th>fear</th>\n",
       "      <td>5.0</td>\n",
       "      <td>19.0</td>\n",
       "      <td>19.0</td>\n",
       "      <td>41.0</td>\n",
       "      <td>16.0</td>\n",
       "    </tr>\n",
       "    <tr>\n",
       "      <th>joy</th>\n",
       "      <td>6.0</td>\n",
       "      <td>21.0</td>\n",
       "      <td>15.0</td>\n",
       "      <td>44.0</td>\n",
       "      <td>14.0</td>\n",
       "    </tr>\n",
       "    <tr>\n",
       "      <th>sadness</th>\n",
       "      <td>11.0</td>\n",
       "      <td>NaN</td>\n",
       "      <td>21.0</td>\n",
       "      <td>53.0</td>\n",
       "      <td>16.0</td>\n",
       "    </tr>\n",
       "  </tbody>\n",
       "</table>\n",
       "</div>"
      ],
      "text/plain": [
       "character   CLEMENZA  DON CORLEONE  HAGEN  MICHAEL  SONNY\n",
       "prediction                                               \n",
       "anger            4.0          13.0   17.0     45.0   20.0\n",
       "fear             5.0          19.0   19.0     41.0   16.0\n",
       "joy              6.0          21.0   15.0     44.0   14.0\n",
       "sadness         11.0           NaN   21.0     53.0   16.0"
      ]
     },
     "execution_count": 16,
     "metadata": {},
     "output_type": "execute_result"
    }
   ],
   "source": [
    "# to get the dataframe in the correct shape, unstack the groupby result\n",
    "df = data.groupby(['prediction']).character.value_counts().unstack()\n",
    "df['tot'] = data.groupby(['prediction']).character.size()\n",
    "df['DON CORLEONE'] = round(df['DON CORLEONE']/df['tot']*100)\n",
    "df['CLEMENZA'] = round(df['CLEMENZA']/df['tot']*100)\n",
    "df['HAGEN'] = round(df['HAGEN']/df['tot']*100)\n",
    "df['MICHAEL'] = round(df['MICHAEL']/df['tot']*100)\n",
    "df['SONNY'] = round(df['SONNY']/df['tot']*100)\n",
    "del df['tot']\n",
    "df"
   ]
  },
  {
   "cell_type": "code",
   "execution_count": 17,
   "id": "ef8028b8",
   "metadata": {},
   "outputs": [
    {
     "data": {
      "image/png": "[encoded data removed]",
      "text/plain": [
       "<Figure size 936x576 with 1 Axes>"
      ]
     },
     "metadata": {
      "needs_background": "light"
     },
     "output_type": "display_data"
    }
   ],
   "source": [
    "# plot\n",
    "ax = df.plot(kind='bar', figsize=(13, 8), xlabel='Sentiments', ylabel='Count', rot=0)\n",
    "ax.legend(title='Characters', bbox_to_anchor=(1, 1), loc='upper left')\n",
    "plt.grid()"
   ]
  },
  {
   "cell_type": "code",
   "execution_count": 18,
   "id": "5e848a96",
   "metadata": {},
   "outputs": [],
   "source": [
    "data.to_csv(\"godfather_emotions.csv\")"
   ]
  },
  {
   "cell_type": "code",
   "execution_count": null,
   "id": "efb2f0a5",
   "metadata": {},
   "outputs": [],
   "source": []
  }
 ],
 "metadata": {
  "kernelspec": {
   "display_name": "Python 3 (ipykernel)",
   "language": "python",
   "name": "python3"
  },
  "language_info": {
   "codemirror_mode": {
    "name": "ipython",
    "version": 3
   },
   "file_extension": ".py",
   "mimetype": "text/x-python",
   "name": "python",
   "nbconvert_exporter": "python",
   "pygments_lexer": "ipython3",
   "version": "3.8.5"
  },
  "latex_envs": {
   "LaTeX_envs_menu_present": true,
   "autoclose": false,
   "autocomplete": true,
   "bibliofile": "biblio.bib",
   "cite_by": "apalike",
   "current_citInitial": 1,
   "eqLabelWithNumbers": true,
   "eqNumInitial": 1,
   "hotkeys": {
    "equation": "Ctrl-E",
    "itemize": "Ctrl-I"
   },
   "labels_anchors": false,
   "latex_user_defs": false,
   "report_style_numbering": false,
   "user_envs_cfg": false
  }
 },
 "nbformat": 4,
 "nbformat_minor": 5
}
