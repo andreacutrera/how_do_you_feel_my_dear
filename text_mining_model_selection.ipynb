{
 "cells": [
  {
   "cell_type": "markdown",
   "id": "276fbc01",
   "metadata": {
    "id": "2db7863b"
   },
   "source": [
    "# How do you feel my dear? (P8)"
   ]
  },
  {
   "cell_type": "markdown",
   "id": "caa40ff8",
   "metadata": {},
   "source": [
    "## Andrea Pio Cutrera - 965591\n",
    "### Università degli Studi di Milano - _Data Science and Economics_"
   ]
  },
  {
   "cell_type": "markdown",
   "id": "48d1ff10",
   "metadata": {},
   "source": [
    "**Text Mining and Sentiment Analysis**\n",
    "\n",
    "Recently, **emotion detection in text** has received attention in the literature on **sentiment analysis**. Detecting emotions is important for studying human communication in different domains, including fictional scripts for TV series and movies. The project aims at studying fictional scripts of several movies and TV series under the emotional profile. In particular, the task of the project is threefold:\n",
    "\n",
    "1. Create a **model to predict emotions in text** using available datasets as EmoBank or WASSA-2017 or Emotion Detection from Text as training sets (see below);\n",
    "2. Emotions may be represented either as **categorical classes** or in a continuous space such as Valence-Arousal-Dominance (see for example Warriner, A. B., Kuperman, V., & Brysbaert, M. (2013). Norms of valence, arousal, and dominance for 13,915 English lemmas. Behavior research methods, 45(4), 1191-1207.)\n",
    "3. Exploit the model to **study an emotional profile** of the **main characters** in **one of the movies** included in the Cornell Movie--Dialogs Corpus;\n",
    "4. Study how this **emotional profile changes in time along** the evolution of the movie story and how it is affected by the various relations among the different characters."
   ]
  },
  {
   "cell_type": "markdown",
   "id": "cd913b95",
   "metadata": {},
   "source": [
    "### Import all the libraries we need"
   ]
  },
  {
   "cell_type": "code",
   "execution_count": 2,
   "id": "2b148f22",
   "metadata": {},
   "outputs": [],
   "source": [
    "import os\n",
    "import re\n",
    "import numpy as np\n",
    "import pandas as pd\n",
    "import matplotlib.pyplot as plt\n",
    "\n",
    "#!pip install neattext\n",
    "import neattext.functions as nfx\n",
    "\n",
    "from sklearn.utils import shuffle\n",
    "from sklearn.model_selection import train_test_split, KFold\n",
    "from sklearn.preprocessing import LabelEncoder\n",
    "from sklearn import metrics\n",
    "from sklearn.metrics import confusion_matrix, ConfusionMatrixDisplay\n",
    "\n",
    "import demoji\n",
    "demoji.download_codes()\n",
    "\n",
    "import nltk\n",
    "# nltk.download('wordnet')\n",
    "from nltk.tokenize import TweetTokenizer\n",
    "from nltk.stem import WordNetLemmatizer\n",
    "from nltk.tokenize.treebank import TreebankWordDetokenizer\n",
    "\n",
    "from keras.preprocessing.text import Tokenizer\n",
    "from keras.preprocessing.sequence import pad_sequences\n",
    "from tensorflow.keras.utils import to_categorical\n",
    "\n",
    "from tensorflow.keras.models import Sequential, model_from_json\n",
    "from tensorflow.keras.layers import Dense, LSTM, Embedding, Bidirectional, Dropout, Input, Conv1D, MaxPooling1D, Flatten, GlobalMaxPooling1D\n",
    "from kerastuner.tuners import RandomSearch, Hyperband\n",
    "from kerastuner.engine.hyperparameters import HyperParameters\n",
    "import tensorflow as tf\n",
    "\n",
    "from tensorflow.compat.v1.keras.layers import CuDNNLSTM\n",
    "\n",
    "import warnings \n",
    "warnings.filterwarnings(\"ignore\")\n",
    "\n",
    "# to plot accuracy of neural nets training\n",
    "def plot_history():\n",
    "    # summarize history for accuracy\n",
    "    plt.plot(history.history['accuracy'])\n",
    "    plt.plot(history.history['val_accuracy'])\n",
    "    plt.title('model accuracy')\n",
    "    plt.ylabel('accuracy')\n",
    "    plt.xlabel('epoch')\n",
    "    plt.legend(['train', 'test'], loc='upper left')\n",
    "    plt.show()\n",
    "    # summarize history for loss\n",
    "    plt.plot(history.history['loss'])\n",
    "    plt.plot(history.history['val_loss'])\n",
    "    plt.title('model loss')\n",
    "    plt.ylabel('loss')\n",
    "    plt.xlabel('epoch')\n",
    "    plt.legend(['train', 'test'], loc='upper left')\n",
    "    plt.show()"
   ]
  },
  {
   "cell_type": "markdown",
   "id": "49567a89",
   "metadata": {
    "id": "49567a89"
   },
   "source": [
    "### Dataset: WASSA-2017 Shared Task on Emotion Intensity (EmoInt)\n",
    "link: http://saifmohammad.com/WebPages/EmotionIntensity-SharedTask.html\n",
    "\n",
    "- With the commands below you can get a folder with all the data they provide\n",
    "1. Train, Development and Test data for each of the 4 emotions\n",
    "2. Emotions are: **anger**, **fear**, **joy** and **sadness**"
   ]
  },
  {
   "cell_type": "code",
   "execution_count": 3,
   "id": "295dc5fb",
   "metadata": {},
   "outputs": [
    {
     "name": "stdout",
     "output_type": "stream",
     "text": [
      "mkdir: emotions: File exists\n",
      "  % Total    % Received % Xferd  Average Speed   Time    Time     Time  Current\n",
      "                                 Dload  Upload   Total   Spent    Left  Speed\n",
      "100 95686  100 95686    0     0  53959      0  0:00:01  0:00:01 --:--:-- 53937\n",
      "  % Total    % Received % Xferd  Average Speed   Time    Time     Time  Current\n",
      "                                 Dload  Upload   Total   Spent    Left  Speed\n",
      "100  130k  100  130k    0     0   176k      0 --:--:-- --:--:-- --:--:--  176k\n",
      "  % Total    % Received % Xferd  Average Speed   Time    Time     Time  Current\n",
      "                                 Dload  Upload   Total   Spent    Left  Speed\n",
      "100 92266  100 92266    0     0   154k      0 --:--:-- --:--:-- --:--:--  154k\n",
      "  % Total    % Received % Xferd  Average Speed   Time    Time     Time  Current\n",
      "                                 Dload  Upload   Total   Spent    Left  Speed\n",
      "100 92977  100 92977    0     0   154k      0 --:--:-- --:--:-- --:--:--  154k\n",
      "  % Total    % Received % Xferd  Average Speed   Time    Time     Time  Current\n",
      "                                 Dload  Upload   Total   Spent    Left  Speed\n",
      "100  9687  100  9687    0     0  21695      0 --:--:-- --:--:-- --:--:-- 21719\n",
      "  % Total    % Received % Xferd  Average Speed   Time    Time     Time  Current\n",
      "                                 Dload  Upload   Total   Spent    Left  Speed\n",
      "100 12903  100 12903    0     0  32560      0 --:--:-- --:--:-- --:--:-- 32501     0\n",
      "  % Total    % Received % Xferd  Average Speed   Time    Time     Time  Current\n",
      "                                 Dload  Upload   Total   Spent    Left  Speed\n",
      "100  8744  100  8744    0     0  24165      0 --:--:-- --:--:-- --:--:-- 24221\n",
      "  % Total    % Received % Xferd  Average Speed   Time    Time     Time  Current\n",
      "                                 Dload  Upload   Total   Spent    Left  Speed\n",
      "100  9043  100  9043    0     0  31129      0 --:--:-- --:--:-- --:--:-- 31182\n",
      "  % Total    % Received % Xferd  Average Speed   Time    Time     Time  Current\n",
      "                                 Dload  Upload   Total   Spent    Left  Speed\n",
      "100 87266  100 87266    0     0   147k      0 --:--:-- --:--:-- --:--:--  147k\n",
      "  % Total    % Received % Xferd  Average Speed   Time    Time     Time  Current\n",
      "                                 Dload  Upload   Total   Spent    Left  Speed\n",
      "100  111k  100  111k    0     0   157k      0 --:--:-- --:--:-- --:--:--  157k-:--:--  0:00:02 49870\n",
      "  % Total    % Received % Xferd  Average Speed   Time    Time     Time  Current\n",
      "                                 Dload  Upload   Total   Spent    Left  Speed\n",
      "100 80025  100 80025    0     0   134k      0 --:--:-- --:--:-- --:--:--  134k\n",
      "  % Total    % Received % Xferd  Average Speed   Time    Time     Time  Current\n",
      "                                 Dload  Upload   Total   Spent    Left  Speed\n",
      "100 78906  100 78906    0     0  50611      0  0:00:01  0:00:01 --:--:-- 50613\n"
     ]
    }
   ],
   "source": [
    "!mkdir emotions # create a folder called emotions\n",
    "\n",
    "# training data\n",
    "!curl -O http://saifmohammad.com/WebDocs/EmoInt%20Train%20Data/anger-ratings-0to1.train.txt\n",
    "!mv anger-ratings-0to1.train.txt emotions/anger_train # move and change name\n",
    "\n",
    "!curl -O http://saifmohammad.com/WebDocs/EmoInt%20Train%20Data/fear-ratings-0to1.train.txt\n",
    "!mv fear-ratings-0to1.train.txt emotions/fear_train # move and change name\n",
    "\n",
    "!curl -O http://saifmohammad.com/WebDocs/EmoInt%20Train%20Data/joy-ratings-0to1.train.txt\n",
    "!mv joy-ratings-0to1.train.txt emotions/joy_train # move and change name\n",
    "\n",
    "!curl -O http://saifmohammad.com/WebDocs/EmoInt%20Train%20Data/sadness-ratings-0to1.train.txt\n",
    "!mv sadness-ratings-0to1.train.txt emotions/sadness_train # move and change name\n",
    "\n",
    "# validation data\n",
    "!curl -O http://saifmohammad.com/WebDocs/EmoInt%20Dev%20Data%20With%20Gold/anger-ratings-0to1.dev.gold.txt\n",
    "!mv anger-ratings-0to1.dev.gold.txt emotions/anger_val # move and change name\n",
    "\n",
    "!curl -O http://saifmohammad.com/WebDocs/EmoInt%20Dev%20Data%20With%20Gold/fear-ratings-0to1.dev.gold.txt\n",
    "!mv fear-ratings-0to1.dev.gold.txt emotions/fear_val # move and change name\n",
    "\n",
    "!curl -O http://saifmohammad.com/WebDocs/EmoInt%20Dev%20Data%20With%20Gold/joy-ratings-0to1.dev.gold.txt\n",
    "!mv joy-ratings-0to1.dev.gold.txt emotions/joy_val # move and change name\n",
    "\n",
    "!curl -O http://saifmohammad.com/WebDocs/EmoInt%20Dev%20Data%20With%20Gold/sadness-ratings-0to1.dev.gold.txt\n",
    "!mv sadness-ratings-0to1.dev.gold.txt emotions/sadness_val # move and change name\n",
    "\n",
    "# testing data\n",
    "!curl -O http://saifmohammad.com/WebDocs/EmoInt%20Test%20Gold%20Data/anger-ratings-0to1.test.gold.txt\n",
    "!mv anger-ratings-0to1.test.gold.txt emotions/anger_test # move and change name\n",
    "\n",
    "!curl -O http://saifmohammad.com/WebDocs/EmoInt%20Test%20Gold%20Data/fear-ratings-0to1.test.gold.txt\n",
    "!mv fear-ratings-0to1.test.gold.txt emotions/fear_test # move and change name\n",
    "\n",
    "!curl -O http://saifmohammad.com/WebDocs/EmoInt%20Test%20Gold%20Data/joy-ratings-0to1.test.gold.txt\n",
    "!mv joy-ratings-0to1.test.gold.txt emotions/joy_test # move and change name\n",
    "\n",
    "!curl -O http://saifmohammad.com/WebDocs/EmoInt%20Test%20Gold%20Data/sadness-ratings-0to1.test.gold.txt\n",
    "!mv sadness-ratings-0to1.test.gold.txt emotions/sadness_test # move and change name"
   ]
  },
  {
   "cell_type": "code",
   "execution_count": 4,
   "id": "b78929c3",
   "metadata": {},
   "outputs": [
    {
     "data": {
      "text/plain": [
       "'/Users/andreacutrera/Desktop'"
      ]
     },
     "execution_count": 4,
     "metadata": {},
     "output_type": "execute_result"
    }
   ],
   "source": [
    "working_directory = !pwd                 # get present working directory\n",
    "working_directory = working_directory[0] # get the full string \n",
    "working_directory"
   ]
  },
  {
   "cell_type": "code",
   "execution_count": 5,
   "id": "0c4f01e7",
   "metadata": {},
   "outputs": [],
   "source": [
    "DIR = working_directory + \"/emotions\"    # go inside the folder created\n",
    "CATEGORIES = [\"joy\", \"sadness\", \"fear\", \"anger\"]"
   ]
  },
  {
   "cell_type": "code",
   "execution_count": 6,
   "id": "6101bb19",
   "metadata": {},
   "outputs": [],
   "source": [
    "# load in variables the data just downloaded\n",
    "\n",
    "joy_train = pd.read_csv(os.path.join(DIR, \"joy_train\"), sep=\"\\t\", header=None)\n",
    "sadness_train = pd.read_csv(os.path.join(DIR, \"sadness_train\"), sep=\"\\t\", header=None)\n",
    "fear_train = pd.read_csv(os.path.join(DIR, \"fear_train\"), sep=\"\\t\", header=None)\n",
    "anger_train = pd.read_csv(os.path.join(DIR, \"anger_train\"), sep=\"\\t\", header=None)\n",
    "\n",
    "joy_val = pd.read_csv(os.path.join(DIR, \"joy_val\"), sep=\"\\t\", header=None)\n",
    "sadness_val = pd.read_csv(os.path.join(DIR, \"sadness_val\"), sep=\"\\t\", header=None)\n",
    "fear_val = pd.read_csv(os.path.join(DIR, \"fear_val\"), sep=\"\\t\", header=None)\n",
    "anger_val = pd.read_csv(os.path.join(DIR, \"anger_val\"), sep=\"\\t\", header=None)\n",
    "\n",
    "joy_test = pd.read_csv(os.path.join(DIR, \"joy_test\"), sep=\"\\t\", header=None)\n",
    "sadness_test = pd.read_csv(os.path.join(DIR, \"sadness_test\"), sep=\"\\t\", header=None)\n",
    "fear_test = pd.read_csv(os.path.join(DIR, \"fear_test\"), sep=\"\\t\", header=None)\n",
    "anger_test = pd.read_csv(os.path.join(DIR, \"anger_test\"), sep=\"\\t\", header=None)"
   ]
  },
  {
   "cell_type": "code",
   "execution_count": 7,
   "id": "34043d16",
   "metadata": {},
   "outputs": [
    {
     "name": "stdout",
     "output_type": "stream",
     "text": [
      "(823, 4) (786, 4) (1147, 4) (857, 4)\n"
     ]
    }
   ],
   "source": [
    "print(joy_train.shape, sadness_train.shape, fear_train.shape, anger_train.shape)"
   ]
  },
  {
   "cell_type": "code",
   "execution_count": 8,
   "id": "7e3ebd77",
   "metadata": {},
   "outputs": [
    {
     "name": "stdout",
     "output_type": "stream",
     "text": [
      "(79, 4) (74, 4) (110, 4) (84, 4)\n"
     ]
    }
   ],
   "source": [
    "print(joy_val.shape, sadness_val.shape, fear_val.shape, anger_val.shape)"
   ]
  },
  {
   "cell_type": "code",
   "execution_count": 9,
   "id": "c423eb09",
   "metadata": {},
   "outputs": [
    {
     "name": "stdout",
     "output_type": "stream",
     "text": [
      "(714, 4) (673, 4) (995, 4) (760, 4)\n"
     ]
    }
   ],
   "source": [
    "print(joy_test.shape, sadness_test.shape, fear_test.shape, anger_test.shape)"
   ]
  },
  {
   "cell_type": "code",
   "execution_count": 10,
   "id": "034b1303",
   "metadata": {},
   "outputs": [],
   "source": [
    "# rename columns all in the same way to get homogeneous datasets which could be concatenated\n",
    "\n",
    "joy_train.rename(columns={0: 'id', 1: 'text', 2: 'sentiment', 3: 'j'}, inplace=True)\n",
    "joy_train['s'] = 0\n",
    "joy_train['a'] = 0\n",
    "joy_train['f'] = 0\n",
    "joy_train = joy_train[['id', 'text', 'sentiment', 'j', 's', 'f', 'a']]\n",
    "\n",
    "joy_val.rename(columns={0: 'id', 1: 'text', 2: 'sentiment', 3: 'j'}, inplace=True)\n",
    "joy_val['s'] = 0\n",
    "joy_val['a'] = 0\n",
    "joy_val['f'] = 0\n",
    "joy_val = joy_val[['id', 'text', 'sentiment', 'j', 's', 'f', 'a']]\n",
    "\n",
    "joy_test.rename(columns={0: 'id', 1: 'text', 2: 'sentiment', 3: 'j'}, inplace=True)\n",
    "joy_test['s'] = 0\n",
    "joy_test['a'] = 0\n",
    "joy_test['f'] = 0\n",
    "joy_test = joy_test[['id', 'text', 'sentiment', 'j', 's', 'f', 'a']]\n",
    "\n",
    "sadness_train.rename(columns={0: 'id', 1: 'text', 2: 'sentiment', 3: 's'}, inplace=True)\n",
    "sadness_train['j'] = 0\n",
    "sadness_train['a'] = 0\n",
    "sadness_train['f'] = 0\n",
    "sadness_train = sadness_train[['id', 'text', 'sentiment', 'j', 's', 'f', 'a']]\n",
    "\n",
    "sadness_val.rename(columns={0: 'id', 1: 'text', 2: 'sentiment', 3: 's'}, inplace=True)\n",
    "sadness_val['j'] = 0\n",
    "sadness_val['a'] = 0\n",
    "sadness_val['f'] = 0\n",
    "sadness_val = sadness_val[['id', 'text', 'sentiment', 'j', 's', 'f', 'a']]\n",
    "\n",
    "sadness_test.rename(columns={0: 'id', 1: 'text', 2: 'sentiment', 3: 's'}, inplace=True)\n",
    "sadness_test['j'] = 0\n",
    "sadness_test['a'] = 0\n",
    "sadness_test['f'] = 0\n",
    "sadness_test = sadness_test[['id', 'text', 'sentiment', 'j', 's', 'f', 'a']]\n",
    "\n",
    "anger_train.rename(columns={0: 'id', 1: 'text', 2: 'sentiment', 3: 'a'}, inplace=True)\n",
    "anger_train['j'] = 0\n",
    "anger_train['s'] = 0\n",
    "anger_train['f'] = 0\n",
    "anger_train = anger_train[['id', 'text', 'sentiment', 'j', 's', 'f', 'a']]\n",
    "\n",
    "anger_val.rename(columns={0: 'id', 1: 'text', 2: 'sentiment', 3: 'a'}, inplace=True)\n",
    "anger_val['j'] = 0\n",
    "anger_val['s'] = 0\n",
    "anger_val['f'] = 0\n",
    "anger_val = anger_val[['id', 'text', 'sentiment', 'j', 's', 'f', 'a']]\n",
    "\n",
    "anger_test.rename(columns={0: 'id', 1: 'text', 2: 'sentiment', 3: 'a'}, inplace=True)\n",
    "anger_test['j'] = 0\n",
    "anger_test['s'] = 0\n",
    "anger_test['f'] = 0\n",
    "anger_test = anger_test[['id', 'text', 'sentiment', 'j', 's', 'f', 'a']]\n",
    "\n",
    "fear_train.rename(columns={0: 'id', 1: 'text', 2: 'sentiment', 3: 'f'}, inplace=True)\n",
    "fear_train['j'] = 0\n",
    "fear_train['s'] = 0\n",
    "fear_train['a'] = 0\n",
    "fear_train = fear_train[['id', 'text', 'sentiment', 'j', 's', 'f', 'a']]\n",
    "\n",
    "fear_val.rename(columns={0: 'id', 1: 'text', 2: 'sentiment', 3: 'f'}, inplace=True)\n",
    "fear_val['j'] = 0\n",
    "fear_val['s'] = 0\n",
    "fear_val['a'] = 0\n",
    "fear_val = fear_val[['id', 'text', 'sentiment', 'j', 's', 'f', 'a']]\n",
    "\n",
    "fear_test.rename(columns={0: 'id', 1: 'text', 2: 'sentiment', 3: 'f'}, inplace=True)\n",
    "fear_test['j'] = 0\n",
    "fear_test['s'] = 0\n",
    "fear_test['a'] = 0\n",
    "fear_test = fear_test[['id', 'text', 'sentiment', 'j', 's', 'f', 'a']]"
   ]
  },
  {
   "cell_type": "code",
   "execution_count": 11,
   "id": "7776c527",
   "metadata": {},
   "outputs": [],
   "source": [
    "# concatenate the datasets in order to get 3 separated datasets: train, test, validation\n",
    "\n",
    "data = pd.concat([joy_train,\n",
    "                  sadness_train,\n",
    "                  fear_train,\n",
    "                  anger_train,\n",
    "                  joy_test,\n",
    "                  sadness_test,\n",
    "                  fear_test,\n",
    "                  anger_test,\n",
    "                  joy_val,\n",
    "                  sadness_val,\n",
    "                  fear_val,\n",
    "                  anger_val])"
   ]
  },
  {
   "cell_type": "code",
   "execution_count": 12,
   "id": "41423893",
   "metadata": {},
   "outputs": [
    {
     "data": {
      "text/html": [
       "<div>\n",
       "<style scoped>\n",
       "    .dataframe tbody tr th:only-of-type {\n",
       "        vertical-align: middle;\n",
       "    }\n",
       "\n",
       "    .dataframe tbody tr th {\n",
       "        vertical-align: top;\n",
       "    }\n",
       "\n",
       "    .dataframe thead th {\n",
       "        text-align: right;\n",
       "    }\n",
       "</style>\n",
       "<table border=\"1\" class=\"dataframe\">\n",
       "  <thead>\n",
       "    <tr style=\"text-align: right;\">\n",
       "      <th></th>\n",
       "      <th>id</th>\n",
       "      <th>text</th>\n",
       "      <th>sentiment</th>\n",
       "      <th>j</th>\n",
       "      <th>s</th>\n",
       "      <th>f</th>\n",
       "      <th>a</th>\n",
       "    </tr>\n",
       "  </thead>\n",
       "  <tbody>\n",
       "    <tr>\n",
       "      <th>0</th>\n",
       "      <td>30000</td>\n",
       "      <td>Just got back from seeing @GaryDelaney in Burs...</td>\n",
       "      <td>joy</td>\n",
       "      <td>0.980</td>\n",
       "      <td>0.0</td>\n",
       "      <td>0.0</td>\n",
       "      <td>0.0</td>\n",
       "    </tr>\n",
       "    <tr>\n",
       "      <th>1</th>\n",
       "      <td>30001</td>\n",
       "      <td>Oh dear an evening of absolute hilarity I don'...</td>\n",
       "      <td>joy</td>\n",
       "      <td>0.958</td>\n",
       "      <td>0.0</td>\n",
       "      <td>0.0</td>\n",
       "      <td>0.0</td>\n",
       "    </tr>\n",
       "  </tbody>\n",
       "</table>\n",
       "</div>"
      ],
      "text/plain": [
       "      id                                               text sentiment      j  \\\n",
       "0  30000  Just got back from seeing @GaryDelaney in Burs...       joy  0.980   \n",
       "1  30001  Oh dear an evening of absolute hilarity I don'...       joy  0.958   \n",
       "\n",
       "     s    f    a  \n",
       "0  0.0  0.0  0.0  \n",
       "1  0.0  0.0  0.0  "
      ]
     },
     "execution_count": 12,
     "metadata": {},
     "output_type": "execute_result"
    }
   ],
   "source": [
    "data.head(2)"
   ]
  },
  {
   "cell_type": "code",
   "execution_count": 13,
   "id": "81455368",
   "metadata": {
    "colab": {
     "base_uri": "https://localhost:8080/",
     "height": 232
    },
    "id": "81455368",
    "outputId": "fe6463c2-0494-4de3-e6d2-572dfc267e13"
   },
   "outputs": [
    {
     "data": {
      "text/plain": [
       "(7102, 7)"
      ]
     },
     "execution_count": 13,
     "metadata": {},
     "output_type": "execute_result"
    }
   ],
   "source": [
    "data.shape"
   ]
  },
  {
   "cell_type": "markdown",
   "id": "292f76c9",
   "metadata": {
    "id": "1ad5af60"
   },
   "source": [
    "### Now we start to clean up our texts"
   ]
  },
  {
   "cell_type": "code",
   "execution_count": 14,
   "id": "6c2cfcbe",
   "metadata": {
    "id": "6c2cfcbe"
   },
   "outputs": [],
   "source": [
    "# clean text functions\n",
    "# https://github.com/Jcharis/neattext/blob/master/neattext/functions/functions.py\n",
    "\n",
    "def clean_emoji_output(text):\n",
    "    return re.sub(\":\", \" \", text)\n",
    "\n",
    "def strip_lowercase(text):\n",
    "    return text.strip().lower()\n",
    "\n",
    "\n",
    "def clean_text(data):\n",
    "    data['clean_text'] = data['text'].apply(nfx.remove_emails)\n",
    "    data['clean_text'] = data['clean_text'].apply(nfx.remove_numbers)\n",
    "    data['clean_text'] = data['clean_text'].apply(nfx.remove_urls)\n",
    "    data['clean_text'] = data['clean_text'].apply(nfx.remove_userhandles)\n",
    "    data['clean_text'] = data['clean_text'].apply(demoji.replace_with_desc)\n",
    "    data['clean_text'] = data['clean_text'].apply(clean_emoji_output)\n",
    "    data['clean_text'] = data['clean_text'].apply(nfx.remove_special_characters)\n",
    "    data['clean_text'] = data['clean_text'].apply(nfx.remove_bad_quotes)\n",
    "    data['clean_text'] = data['clean_text'].apply(nfx.remove_html_tags)\n",
    "    data['clean_text'] = data['clean_text'].apply(nfx.remove_punctuations)\n",
    "    data['clean_text'] = data['clean_text'].apply(nfx.remove_stopwords)\n",
    "    data['clean_text'] = data['clean_text'].apply(nfx.remove_multiple_spaces)\n",
    "    data['clean_text'] = data['clean_text'].apply(strip_lowercase)"
   ]
  },
  {
   "cell_type": "code",
   "execution_count": 15,
   "id": "e1dc9fdb",
   "metadata": {},
   "outputs": [],
   "source": [
    "# apply the functions above defined\n",
    "\n",
    "clean_text(data)"
   ]
  },
  {
   "cell_type": "code",
   "execution_count": 16,
   "id": "1f129671",
   "metadata": {
    "colab": {
     "base_uri": "https://localhost:8080/",
     "height": 204
    },
    "id": "1f129671",
    "outputId": "0febe9b9-eedb-4504-9d6f-3a3c6351f3c3"
   },
   "outputs": [],
   "source": [
    "# shuffle our data\n",
    "\n",
    "data = shuffle(data, random_state=42)"
   ]
  },
  {
   "cell_type": "markdown",
   "id": "2b22f6f6",
   "metadata": {},
   "source": [
    "### Tokenize the text we have cleaned in order to make a further normalization on words with the Lemmatizer"
   ]
  },
  {
   "cell_type": "code",
   "execution_count": 17,
   "id": "b5d5423c",
   "metadata": {
    "id": "b5d5423c"
   },
   "outputs": [],
   "source": [
    "# tokenize\n",
    "tt = TweetTokenizer()\n",
    "\n",
    "data['tokenize'] = data.clean_text.str.lower().apply(tt.tokenize)\n",
    "\n",
    "# lemmatize\n",
    "def lemmatize_text(text):\n",
    "    lemmatizer = WordNetLemmatizer()\n",
    "    return [lemmatizer.lemmatize(w) for w in text]\n",
    "    \n",
    "data['tokenize_lemmatized'] = data['tokenize'].apply(lemmatize_text)"
   ]
  },
  {
   "cell_type": "code",
   "execution_count": 18,
   "id": "5cf9b513",
   "metadata": {
    "colab": {
     "base_uri": "https://localhost:8080/",
     "height": 204
    },
    "id": "5cf9b513",
    "outputId": "f69e58c8-bf38-47cf-d68e-679ae2d7d9d9"
   },
   "outputs": [
    {
     "data": {
      "text/html": [
       "<div>\n",
       "<style scoped>\n",
       "    .dataframe tbody tr th:only-of-type {\n",
       "        vertical-align: middle;\n",
       "    }\n",
       "\n",
       "    .dataframe tbody tr th {\n",
       "        vertical-align: top;\n",
       "    }\n",
       "\n",
       "    .dataframe thead th {\n",
       "        text-align: right;\n",
       "    }\n",
       "</style>\n",
       "<table border=\"1\" class=\"dataframe\">\n",
       "  <thead>\n",
       "    <tr style=\"text-align: right;\">\n",
       "      <th></th>\n",
       "      <th>id</th>\n",
       "      <th>text</th>\n",
       "      <th>sentiment</th>\n",
       "      <th>j</th>\n",
       "      <th>s</th>\n",
       "      <th>f</th>\n",
       "      <th>a</th>\n",
       "      <th>clean_text</th>\n",
       "      <th>tokenize</th>\n",
       "      <th>tokenize_lemmatized</th>\n",
       "    </tr>\n",
       "  </thead>\n",
       "  <tbody>\n",
       "    <tr>\n",
       "      <th>100</th>\n",
       "      <td>11041</td>\n",
       "      <td>Nothing is more relentless than a dog begging ...</td>\n",
       "      <td>anger</td>\n",
       "      <td>0.000</td>\n",
       "      <td>0.000</td>\n",
       "      <td>0.0</td>\n",
       "      <td>0.479</td>\n",
       "      <td>relentless dog begging food</td>\n",
       "      <td>[relentless, dog, begging, food]</td>\n",
       "      <td>[relentless, dog, begging, food]</td>\n",
       "    </tr>\n",
       "    <tr>\n",
       "      <th>120</th>\n",
       "      <td>40980</td>\n",
       "      <td>Ok it really just sunk in that I'm seeing the ...</td>\n",
       "      <td>sadness</td>\n",
       "      <td>0.000</td>\n",
       "      <td>0.417</td>\n",
       "      <td>0.0</td>\n",
       "      <td>0.000</td>\n",
       "      <td>ok sunk im seeing goat hours wow face rolling ...</td>\n",
       "      <td>[ok, sunk, im, seeing, goat, hours, wow, face,...</td>\n",
       "      <td>[ok, sunk, im, seeing, goat, hour, wow, face, ...</td>\n",
       "    </tr>\n",
       "    <tr>\n",
       "      <th>350</th>\n",
       "      <td>41210</td>\n",
       "      <td>@MariamVeiszadeh #depressing it's so freaking ...</td>\n",
       "      <td>sadness</td>\n",
       "      <td>0.000</td>\n",
       "      <td>0.679</td>\n",
       "      <td>0.0</td>\n",
       "      <td>0.000</td>\n",
       "      <td>depressing freaking close</td>\n",
       "      <td>[depressing, freaking, close]</td>\n",
       "      <td>[depressing, freaking, close]</td>\n",
       "    </tr>\n",
       "    <tr>\n",
       "      <th>505</th>\n",
       "      <td>41365</td>\n",
       "      <td>I feel like a burden every day that I waste bu...</td>\n",
       "      <td>sadness</td>\n",
       "      <td>0.000</td>\n",
       "      <td>0.896</td>\n",
       "      <td>0.0</td>\n",
       "      <td>0.000</td>\n",
       "      <td>feel like burden day waste dont know bc discou...</td>\n",
       "      <td>[feel, like, burden, day, waste, dont, know, b...</td>\n",
       "      <td>[feel, like, burden, day, waste, dont, know, b...</td>\n",
       "    </tr>\n",
       "    <tr>\n",
       "      <th>183</th>\n",
       "      <td>31085</td>\n",
       "      <td>@partydelightsUK it's 5679787. Cannot DM you a...</td>\n",
       "      <td>joy</td>\n",
       "      <td>0.164</td>\n",
       "      <td>0.000</td>\n",
       "      <td>0.0</td>\n",
       "      <td>0.000</td>\n",
       "      <td>dm dont follow delight party fail letdown</td>\n",
       "      <td>[dm, dont, follow, delight, party, fail, letdown]</td>\n",
       "      <td>[dm, dont, follow, delight, party, fail, letdown]</td>\n",
       "    </tr>\n",
       "  </tbody>\n",
       "</table>\n",
       "</div>"
      ],
      "text/plain": [
       "        id                                               text sentiment  \\\n",
       "100  11041  Nothing is more relentless than a dog begging ...     anger   \n",
       "120  40980  Ok it really just sunk in that I'm seeing the ...   sadness   \n",
       "350  41210  @MariamVeiszadeh #depressing it's so freaking ...   sadness   \n",
       "505  41365  I feel like a burden every day that I waste bu...   sadness   \n",
       "183  31085  @partydelightsUK it's 5679787. Cannot DM you a...       joy   \n",
       "\n",
       "         j      s    f      a  \\\n",
       "100  0.000  0.000  0.0  0.479   \n",
       "120  0.000  0.417  0.0  0.000   \n",
       "350  0.000  0.679  0.0  0.000   \n",
       "505  0.000  0.896  0.0  0.000   \n",
       "183  0.164  0.000  0.0  0.000   \n",
       "\n",
       "                                            clean_text  \\\n",
       "100                        relentless dog begging food   \n",
       "120  ok sunk im seeing goat hours wow face rolling ...   \n",
       "350                          depressing freaking close   \n",
       "505  feel like burden day waste dont know bc discou...   \n",
       "183          dm dont follow delight party fail letdown   \n",
       "\n",
       "                                              tokenize  \\\n",
       "100                   [relentless, dog, begging, food]   \n",
       "120  [ok, sunk, im, seeing, goat, hours, wow, face,...   \n",
       "350                      [depressing, freaking, close]   \n",
       "505  [feel, like, burden, day, waste, dont, know, b...   \n",
       "183  [dm, dont, follow, delight, party, fail, letdown]   \n",
       "\n",
       "                                   tokenize_lemmatized  \n",
       "100                   [relentless, dog, begging, food]  \n",
       "120  [ok, sunk, im, seeing, goat, hour, wow, face, ...  \n",
       "350                      [depressing, freaking, close]  \n",
       "505  [feel, like, burden, day, waste, dont, know, b...  \n",
       "183  [dm, dont, follow, delight, party, fail, letdown]  "
      ]
     },
     "execution_count": 18,
     "metadata": {},
     "output_type": "execute_result"
    }
   ],
   "source": [
    "data.head()"
   ]
  },
  {
   "cell_type": "markdown",
   "id": "72b27c08",
   "metadata": {},
   "source": [
    "### DeTokenize to get again a sequence of words as they were written, but with all our preprocessing applied"
   ]
  },
  {
   "cell_type": "code",
   "execution_count": 19,
   "id": "c0e250c3",
   "metadata": {
    "id": "c0e250c3"
   },
   "outputs": [],
   "source": [
    "# detokenize\n",
    "\n",
    "data['final_text'] = data.tokenize_lemmatized.apply(TreebankWordDetokenizer().detokenize)"
   ]
  },
  {
   "cell_type": "code",
   "execution_count": 20,
   "id": "95856b49",
   "metadata": {
    "colab": {
     "base_uri": "https://localhost:8080/",
     "height": 333
    },
    "id": "95856b49",
    "outputId": "02c744cb-57c9-4d77-b283-215992ff2f65"
   },
   "outputs": [
    {
     "data": {
      "text/html": [
       "<div>\n",
       "<style scoped>\n",
       "    .dataframe tbody tr th:only-of-type {\n",
       "        vertical-align: middle;\n",
       "    }\n",
       "\n",
       "    .dataframe tbody tr th {\n",
       "        vertical-align: top;\n",
       "    }\n",
       "\n",
       "    .dataframe thead th {\n",
       "        text-align: right;\n",
       "    }\n",
       "</style>\n",
       "<table border=\"1\" class=\"dataframe\">\n",
       "  <thead>\n",
       "    <tr style=\"text-align: right;\">\n",
       "      <th></th>\n",
       "      <th>id</th>\n",
       "      <th>text</th>\n",
       "      <th>sentiment</th>\n",
       "      <th>j</th>\n",
       "      <th>s</th>\n",
       "      <th>f</th>\n",
       "      <th>a</th>\n",
       "      <th>clean_text</th>\n",
       "      <th>tokenize</th>\n",
       "      <th>tokenize_lemmatized</th>\n",
       "      <th>final_text</th>\n",
       "    </tr>\n",
       "  </thead>\n",
       "  <tbody>\n",
       "    <tr>\n",
       "      <th>159</th>\n",
       "      <td>31061</td>\n",
       "      <td>Be content .... Life is too short.</td>\n",
       "      <td>joy</td>\n",
       "      <td>0.354</td>\n",
       "      <td>0.000</td>\n",
       "      <td>0.000</td>\n",
       "      <td>0.0</td>\n",
       "      <td>content life short</td>\n",
       "      <td>[content, life, short]</td>\n",
       "      <td>[content, life, short]</td>\n",
       "      <td>content life short</td>\n",
       "    </tr>\n",
       "    <tr>\n",
       "      <th>191</th>\n",
       "      <td>21448</td>\n",
       "      <td>@bt_uk appointment booked between 1-6 today, w...</td>\n",
       "      <td>fear</td>\n",
       "      <td>0.000</td>\n",
       "      <td>0.000</td>\n",
       "      <td>0.417</td>\n",
       "      <td>0.0</td>\n",
       "      <td>appointment booked today waited day showed req...</td>\n",
       "      <td>[appointment, booked, today, waited, day, show...</td>\n",
       "      <td>[appointment, booked, today, waited, day, show...</td>\n",
       "      <td>appointment booked today waited day showed req...</td>\n",
       "    </tr>\n",
       "    <tr>\n",
       "      <th>226</th>\n",
       "      <td>21483</td>\n",
       "      <td>@Darren32895836 @FatimaFatwa it would be a gre...</td>\n",
       "      <td>fear</td>\n",
       "      <td>0.000</td>\n",
       "      <td>0.000</td>\n",
       "      <td>0.500</td>\n",
       "      <td>0.0</td>\n",
       "      <td>great opportunity settle globe fear wonders</td>\n",
       "      <td>[great, opportunity, settle, globe, fear, wond...</td>\n",
       "      <td>[great, opportunity, settle, globe, fear, wonder]</td>\n",
       "      <td>great opportunity settle globe fear wonder</td>\n",
       "    </tr>\n",
       "    <tr>\n",
       "      <th>390</th>\n",
       "      <td>21647</td>\n",
       "      <td>quentin i sait aps dire eastpak i dit aspak msk</td>\n",
       "      <td>fear</td>\n",
       "      <td>0.000</td>\n",
       "      <td>0.000</td>\n",
       "      <td>0.312</td>\n",
       "      <td>0.0</td>\n",
       "      <td>quentin sait aps dire eastpak dit aspak msk</td>\n",
       "      <td>[quentin, sait, aps, dire, eastpak, dit, aspak...</td>\n",
       "      <td>[quentin, sait, aps, dire, eastpak, dit, aspak...</td>\n",
       "      <td>quentin sait aps dire eastpak dit aspak msk</td>\n",
       "    </tr>\n",
       "    <tr>\n",
       "      <th>37</th>\n",
       "      <td>40037</td>\n",
       "      <td>@Markgatiss I'm surrounded by those Trump vote...</td>\n",
       "      <td>sadness</td>\n",
       "      <td>0.000</td>\n",
       "      <td>0.833</td>\n",
       "      <td>0.000</td>\n",
       "      <td>0.0</td>\n",
       "      <td>im surrounded trump voters youre right fucking...</td>\n",
       "      <td>[im, surrounded, trump, voters, youre, right, ...</td>\n",
       "      <td>[im, surrounded, trump, voter, youre, right, f...</td>\n",
       "      <td>im surrounded trump voter youre right fucking ...</td>\n",
       "    </tr>\n",
       "  </tbody>\n",
       "</table>\n",
       "</div>"
      ],
      "text/plain": [
       "        id                                               text sentiment  \\\n",
       "159  31061                Be content .... Life is too short.        joy   \n",
       "191  21448  @bt_uk appointment booked between 1-6 today, w...      fear   \n",
       "226  21483  @Darren32895836 @FatimaFatwa it would be a gre...      fear   \n",
       "390  21647    quentin i sait aps dire eastpak i dit aspak msk      fear   \n",
       "37   40037  @Markgatiss I'm surrounded by those Trump vote...   sadness   \n",
       "\n",
       "         j      s      f    a  \\\n",
       "159  0.354  0.000  0.000  0.0   \n",
       "191  0.000  0.000  0.417  0.0   \n",
       "226  0.000  0.000  0.500  0.0   \n",
       "390  0.000  0.000  0.312  0.0   \n",
       "37   0.000  0.833  0.000  0.0   \n",
       "\n",
       "                                            clean_text  \\\n",
       "159                                 content life short   \n",
       "191  appointment booked today waited day showed req...   \n",
       "226        great opportunity settle globe fear wonders   \n",
       "390        quentin sait aps dire eastpak dit aspak msk   \n",
       "37   im surrounded trump voters youre right fucking...   \n",
       "\n",
       "                                              tokenize  \\\n",
       "159                             [content, life, short]   \n",
       "191  [appointment, booked, today, waited, day, show...   \n",
       "226  [great, opportunity, settle, globe, fear, wond...   \n",
       "390  [quentin, sait, aps, dire, eastpak, dit, aspak...   \n",
       "37   [im, surrounded, trump, voters, youre, right, ...   \n",
       "\n",
       "                                   tokenize_lemmatized  \\\n",
       "159                             [content, life, short]   \n",
       "191  [appointment, booked, today, waited, day, show...   \n",
       "226  [great, opportunity, settle, globe, fear, wonder]   \n",
       "390  [quentin, sait, aps, dire, eastpak, dit, aspak...   \n",
       "37   [im, surrounded, trump, voter, youre, right, f...   \n",
       "\n",
       "                                            final_text  \n",
       "159                                 content life short  \n",
       "191  appointment booked today waited day showed req...  \n",
       "226         great opportunity settle globe fear wonder  \n",
       "390        quentin sait aps dire eastpak dit aspak msk  \n",
       "37   im surrounded trump voter youre right fucking ...  "
      ]
     },
     "execution_count": 20,
     "metadata": {},
     "output_type": "execute_result"
    }
   ],
   "source": [
    "data.tail()"
   ]
  },
  {
   "cell_type": "code",
   "execution_count": 21,
   "id": "9e3fd762",
   "metadata": {},
   "outputs": [
    {
     "data": {
      "text/plain": [
       "'english pundit afraid criticise'"
      ]
     },
     "execution_count": 21,
     "metadata": {},
     "output_type": "execute_result"
    }
   ],
   "source": [
    "data.final_text.values[100]"
   ]
  },
  {
   "cell_type": "markdown",
   "id": "0342822c",
   "metadata": {
    "id": "0342822c"
   },
   "source": [
    "### Once we have cleaned our text, we can split our training texts from labels"
   ]
  },
  {
   "cell_type": "code",
   "execution_count": 22,
   "id": "05151678",
   "metadata": {
    "id": "05151678"
   },
   "outputs": [],
   "source": [
    "# train-validation-test split has been already done\n",
    "\n",
    "X_train, X_test, y_train, y_test = train_test_split(data.final_text,\n",
    "                                                    data.sentiment,\n",
    "                                                    test_size = 0.13,\n",
    "                                                    random_state = 42,\n",
    "                                                    stratify = data.sentiment)\n",
    "\n",
    "X_train, X_val, y_train, y_val = train_test_split(X_train,\n",
    "                                                  y_train,\n",
    "                                                  test_size = 0.14,\n",
    "                                                  random_state = 42,\n",
    "                                                  stratify = y_train)"
   ]
  },
  {
   "cell_type": "code",
   "execution_count": 23,
   "id": "ec6fd95a",
   "metadata": {},
   "outputs": [
    {
     "name": "stdout",
     "output_type": "stream",
     "text": [
      "(5313,) (5313,) (924,) (924,) (865,) (865,)\n"
     ]
    }
   ],
   "source": [
    "print(X_train.shape,y_train.shape,X_test.shape,y_test.shape,X_val.shape,y_val.shape)"
   ]
  },
  {
   "cell_type": "code",
   "execution_count": 24,
   "id": "23f8d334",
   "metadata": {
    "colab": {
     "base_uri": "https://localhost:8080/"
    },
    "id": "23f8d334",
    "outputId": "8137ce5e-1ee7-4ff0-a53e-43dffadd4212"
   },
   "outputs": [
    {
     "data": {
      "text/plain": [
       "172    dear future big brother player chase dick seas...\n",
       "61                       rooney shocking attempted cross\n",
       "482    good thing sick coughing like ab workout maybe...\n",
       "718    learning trust god quiet troubled amp restless...\n",
       "56     cant wait listen new single mystery new album ...\n",
       "Name: final_text, dtype: object"
      ]
     },
     "execution_count": 24,
     "metadata": {},
     "output_type": "execute_result"
    }
   ],
   "source": [
    "X_train.head()"
   ]
  },
  {
   "cell_type": "code",
   "execution_count": 25,
   "id": "da0e1229",
   "metadata": {
    "colab": {
     "base_uri": "https://localhost:8080/"
    },
    "id": "da0e1229",
    "outputId": "750b0a4a-15d2-4e1c-f0e4-66ddee0bbacb"
   },
   "outputs": [
    {
     "data": {
      "text/plain": [
       "172      anger\n",
       "61        fear\n",
       "482        joy\n",
       "718    sadness\n",
       "56     sadness\n",
       "Name: sentiment, dtype: object"
      ]
     },
     "execution_count": 25,
     "metadata": {},
     "output_type": "execute_result"
    }
   ],
   "source": [
    "y_train.head()"
   ]
  },
  {
   "cell_type": "markdown",
   "id": "5d38c029",
   "metadata": {},
   "source": [
    "### Now encode our labels into numbers from 0 to 3, this would allow us to one-hot-encode them"
   ]
  },
  {
   "cell_type": "code",
   "execution_count": 26,
   "id": "ce1a7821",
   "metadata": {
    "id": "ce1a7821"
   },
   "outputs": [],
   "source": [
    "# numerical encoding of our labels\n",
    "\n",
    "label_encoder = LabelEncoder()\n",
    "\n",
    "y_train_enc = label_encoder.fit_transform(y_train)\n",
    "y_test_enc = label_encoder.fit_transform(y_test)\n",
    "y_val_enc = label_encoder.fit_transform(y_val)"
   ]
  },
  {
   "cell_type": "code",
   "execution_count": 27,
   "id": "73b6454e",
   "metadata": {
    "colab": {
     "base_uri": "https://localhost:8080/"
    },
    "id": "73b6454e",
    "outputId": "1934f210-cdbe-404b-dbaf-fd840f781769"
   },
   "outputs": [
    {
     "name": "stdout",
     "output_type": "stream",
     "text": [
      "599       fear\n",
      "528        joy\n",
      "131    sadness\n",
      "445      anger\n",
      "Name: sentiment, dtype: object\n",
      "[1 2 3 0]\n"
     ]
    }
   ],
   "source": [
    "# alphabetical order\n",
    "# 0: anger\n",
    "# 1: fear\n",
    "# 2: joy\n",
    "# 3: sadness\n",
    "\n",
    "print(y_train[29:33])\n",
    "print(y_train_enc[29:33])"
   ]
  },
  {
   "cell_type": "code",
   "execution_count": 28,
   "id": "993a2f91",
   "metadata": {},
   "outputs": [
    {
     "data": {
      "text/plain": [
       "array([[0., 1., 0., 0.],\n",
       "       [0., 0., 1., 0.],\n",
       "       [0., 0., 0., 1.],\n",
       "       [1., 0., 0., 0.]], dtype=float32)"
      ]
     },
     "execution_count": 28,
     "metadata": {},
     "output_type": "execute_result"
    }
   ],
   "source": [
    "# one-hot-encode them\n",
    "\n",
    "y_train = to_categorical(y_train_enc)\n",
    "y_val = to_categorical(y_val_enc)\n",
    "y_test = to_categorical(y_test_enc)\n",
    "\n",
    "y_train[29:33]"
   ]
  },
  {
   "cell_type": "code",
   "execution_count": 29,
   "id": "6d776c29",
   "metadata": {},
   "outputs": [
    {
     "data": {
      "text/plain": [
       "172    dear future big brother player chase dick seas...\n",
       "61                       rooney shocking attempted cross\n",
       "482    good thing sick coughing like ab workout maybe...\n",
       "718    learning trust god quiet troubled amp restless...\n",
       "56     cant wait listen new single mystery new album ...\n",
       "                             ...                        \n",
       "214    amazing get stuck head cant shake memory miss ...\n",
       "273    ok movie good time whilst young face tear joy ...\n",
       "555             dont discouraged simple mind dont vision\n",
       "371    traditionalist bored bored bored rule cheerful...\n",
       "153    conversion random fellow passenger melbourne y...\n",
       "Name: final_text, Length: 6178, dtype: object"
      ]
     },
     "execution_count": 29,
     "metadata": {},
     "output_type": "execute_result"
    }
   ],
   "source": [
    "pd.concat([X_train, X_val])"
   ]
  },
  {
   "cell_type": "code",
   "execution_count": 30,
   "id": "eb760bc3",
   "metadata": {
    "colab": {
     "base_uri": "https://localhost:8080/"
    },
    "id": "eb760bc3",
    "outputId": "685c8040-8829-4efc-ce64-366178f8a1d1"
   },
   "outputs": [
    {
     "name": "stdout",
     "output_type": "stream",
     "text": [
      "Found 10899 unique tokens.\n"
     ]
    }
   ],
   "source": [
    "# here we use the Tokenizer of keras, fitting it on all our training and validation data, \n",
    "# getting the sequences and the words with the corresponding index (unique words)\n",
    "\n",
    "num_words = 10000\n",
    "\n",
    "tokenizer = Tokenizer(nb_words=num_words)\n",
    "tokenizer.fit_on_texts(pd.concat([X_train, X_val]))\n",
    "\n",
    "sequences = tokenizer.texts_to_sequences(pd.concat([X_train, X_val]))\n",
    "word_index = tokenizer.word_index\n",
    "\n",
    "print('Found %s unique tokens.' % len(word_index))\n",
    "data = pad_sequences(sequences, maxlen=50)"
   ]
  },
  {
   "cell_type": "code",
   "execution_count": 31,
   "id": "NgammNzcMvVY",
   "metadata": {
    "id": "NgammNzcMvVY"
   },
   "outputs": [],
   "source": [
    "# from these commands you can download the pre-trained word embeddings\n",
    "\n",
    "# !curl -O http://nlp.stanford.edu/data/glove.6B.zip\n",
    "# !unzip -q glove.6B.zip"
   ]
  },
  {
   "cell_type": "markdown",
   "id": "91fa3c14",
   "metadata": {},
   "source": [
    "### Use the embedding with 200 features for each unique word"
   ]
  },
  {
   "cell_type": "code",
   "execution_count": 32,
   "id": "f8ddddff",
   "metadata": {
    "colab": {
     "base_uri": "https://localhost:8080/"
    },
    "id": "f8ddddff",
    "outputId": "c8fdfb96-fa84-45cd-f128-6e859c9adfa9"
   },
   "outputs": [
    {
     "name": "stdout",
     "output_type": "stream",
     "text": [
      "Found 400000 word vectors.\n"
     ]
    }
   ],
   "source": [
    "GLOVE_DIR = os.getcwd()\n",
    "embeddings_index = {}\n",
    "\n",
    "f = open(os.path.join(GLOVE_DIR, 'glove/glove.6B.200d.txt'))\n",
    "for line in f:\n",
    "    values = line.split()\n",
    "    word = values[0]\n",
    "    coefs = np.asarray(values[1:], dtype='float32')\n",
    "    embeddings_index[word] = coefs\n",
    "f.close()\n",
    "\n",
    "print('Found %s word vectors.' % len(embeddings_index))"
   ]
  },
  {
   "cell_type": "code",
   "execution_count": 33,
   "id": "6c98d9eb",
   "metadata": {
    "id": "6c98d9eb"
   },
   "outputs": [],
   "source": [
    "# Get the embedding matrix which is going to be put in the Embedding layer of the neural network architecture\n",
    "\n",
    "embedding_matrix = np.zeros((len(word_index) + 1, 200))\n",
    "for word, i in word_index.items():\n",
    "    embedding_vector = embeddings_index.get(word)\n",
    "    if embedding_vector is not None:\n",
    "        # words not found in embedding index will be all-zeros.\n",
    "        embedding_matrix[i] = embedding_vector"
   ]
  },
  {
   "cell_type": "code",
   "execution_count": 34,
   "id": "c80377ce",
   "metadata": {
    "id": "c80377ce"
   },
   "outputs": [],
   "source": [
    "# Create the keras Embedding layer with 10K words specifying that the weights here are not trainable\n",
    "# because we are using a pre-trained model (glove twitter words with 200 features)\n",
    "\n",
    "embedding_layer = Embedding(len(word_index) + 1,\n",
    "                            200,\n",
    "                            weights=[embedding_matrix],\n",
    "                            input_length=50,\n",
    "                            trainable=False)"
   ]
  },
  {
   "cell_type": "code",
   "execution_count": 35,
   "id": "14393354",
   "metadata": {},
   "outputs": [],
   "source": [
    "# Convert texts into some numeric sequences and make the length of all numeric sequences equal \n",
    "\n",
    "X_train_seq = tokenizer.texts_to_sequences(X_train) \n",
    "X_train_pad = pad_sequences(X_train_seq, maxlen = 50, padding = 'post') \n",
    "\n",
    "X_test_seq = tokenizer.texts_to_sequences(X_test)\n",
    "X_test_pad = pad_sequences(X_test_seq, maxlen = 50, padding = 'post')\n",
    "\n",
    "X_val_seq = tokenizer.texts_to_sequences(X_val)\n",
    "X_val_pad = pad_sequences(X_val_seq, maxlen = 50, padding = 'post')\n",
    "\n",
    "X_train_pad = np.array(X_train_pad)\n",
    "X_test_pad = np.array(X_test_pad)\n",
    "X_val_pad = np.array(X_val_pad)"
   ]
  },
  {
   "cell_type": "markdown",
   "id": "254b5fee",
   "metadata": {
    "id": "e39781ab"
   },
   "source": [
    "## 1. Model with pre-trained glove Embedding and 3 LSTMs regularized by 3 dropouts\n",
    "Note that if you have a GPU available, just specify **CuDNNLSTM** instead of **LSTM**. It does the same things but **5x** faster."
   ]
  },
  {
   "cell_type": "code",
   "execution_count": 36,
   "id": "c90c58f3",
   "metadata": {},
   "outputs": [],
   "source": [
    "# number of classes\n",
    "\n",
    "class_num = 4"
   ]
  },
  {
   "cell_type": "markdown",
   "id": "1175a8ff",
   "metadata": {},
   "source": [
    "### Build the model for the hyperparameter tuning, which will allow us to make a correct model selection"
   ]
  },
  {
   "cell_type": "code",
   "execution_count": 39,
   "id": "a31c8ef9",
   "metadata": {
    "colab": {
     "base_uri": "https://localhost:8080/"
    },
    "id": "a31c8ef9",
    "outputId": "7b3d6298-c371-4c52-aa18-95cfb20d41ce"
   },
   "outputs": [],
   "source": [
    "# Build the model\n",
    "def build_model(hp):\n",
    "    model = tf.keras.Sequential(\n",
    "        [\n",
    "            embedding_layer,\n",
    "            Dropout(0.2),\n",
    "            Bidirectional(LSTM(hp.Choice('lstm_1', values=[50, 100]), \n",
    "                               return_sequences=True)),\n",
    "            Dropout(0.2),\n",
    "            Bidirectional(LSTM(hp.Choice('lstm_2', values=[100, 150]), \n",
    "                               return_sequences=True)),\n",
    "            Dropout(0.2),\n",
    "            Bidirectional(LSTM(hp.Choice('lstm_3', values=[50, 25]), \n",
    "                               return_sequences=False)),\n",
    "            Dense(class_num, \n",
    "                  activation = 'softmax')\n",
    "        ])\n",
    "\n",
    "    \n",
    "    model.compile(loss='categorical_crossentropy', optimizer='adam', metrics='accuracy')\n",
    "        \n",
    "    return model"
   ]
  },
  {
   "cell_type": "code",
   "execution_count": 46,
   "id": "d478531e",
   "metadata": {},
   "outputs": [],
   "source": [
    "# Build the tuner\n",
    "tuner = Hyperband(build_model, \n",
    "                  objective='val_accuracy', \n",
    "                  max_epochs=20,\n",
    "                  hyperband_iterations=1,\n",
    "                  directory=DIR,\n",
    "                  project_name='deep-learning-experiment')"
   ]
  },
  {
   "cell_type": "code",
   "execution_count": 47,
   "id": "420e815c",
   "metadata": {},
   "outputs": [],
   "source": [
    "early_stop = tf.keras.callbacks.EarlyStopping(monitor='val_loss', \n",
    "                                              patience=3, \n",
    "                                              min_delta=0.0001)"
   ]
  },
  {
   "cell_type": "code",
   "execution_count": 48,
   "id": "e4fb91bf",
   "metadata": {},
   "outputs": [
    {
     "name": "stdout",
     "output_type": "stream",
     "text": [
      "Epoch 1/3\n",
      "84/84 [==============================] - ETA: 7:15 - loss: 1.3922 - accuracy: 0.26 - ETA: 13s - loss: 1.3831 - accuracy: 0.2969 - ETA: 13s - loss: 1.3682 - accuracy: 0.359 - ETA: 13s - loss: 1.3729 - accuracy: 0.332 - ETA: 12s - loss: 1.3670 - accuracy: 0.340 - ETA: 12s - loss: 1.3658 - accuracy: 0.330 - ETA: 12s - loss: 1.3591 - accuracy: 0.330 - ETA: 12s - loss: 1.3495 - accuracy: 0.343 - ETA: 12s - loss: 1.3434 - accuracy: 0.352 - ETA: 12s - loss: 1.3327 - accuracy: 0.379 - ETA: 12s - loss: 1.3224 - accuracy: 0.404 - ETA: 11s - loss: 1.3161 - accuracy: 0.403 - ETA: 11s - loss: 1.3088 - accuracy: 0.405 - ETA: 11s - loss: 1.3044 - accuracy: 0.409 - ETA: 11s - loss: 1.3045 - accuracy: 0.408 - ETA: 11s - loss: 1.2957 - accuracy: 0.416 - ETA: 11s - loss: 1.2868 - accuracy: 0.425 - ETA: 11s - loss: 1.2769 - accuracy: 0.432 - ETA: 11s - loss: 1.2767 - accuracy: 0.433 - ETA: 10s - loss: 1.2704 - accuracy: 0.435 - ETA: 10s - loss: 1.2649 - accuracy: 0.443 - ETA: 10s - loss: 1.2666 - accuracy: 0.441 - ETA: 10s - loss: 1.2594 - accuracy: 0.447 - ETA: 10s - loss: 1.2564 - accuracy: 0.446 - ETA: 10s - loss: 1.2556 - accuracy: 0.448 - ETA: 9s - loss: 1.2534 - accuracy: 0.450 - ETA: 9s - loss: 1.2498 - accuracy: 0.45 - ETA: 9s - loss: 1.2469 - accuracy: 0.45 - ETA: 9s - loss: 1.2451 - accuracy: 0.45 - ETA: 9s - loss: 1.2406 - accuracy: 0.45 - ETA: 9s - loss: 1.2349 - accuracy: 0.46 - ETA: 8s - loss: 1.2280 - accuracy: 0.46 - ETA: 8s - loss: 1.2235 - accuracy: 0.47 - ETA: 8s - loss: 1.2174 - accuracy: 0.47 - ETA: 8s - loss: 1.2113 - accuracy: 0.47 - ETA: 8s - loss: 1.2051 - accuracy: 0.47 - ETA: 8s - loss: 1.2021 - accuracy: 0.48 - ETA: 8s - loss: 1.2010 - accuracy: 0.48 - ETA: 7s - loss: 1.1976 - accuracy: 0.48 - ETA: 7s - loss: 1.1941 - accuracy: 0.48 - ETA: 7s - loss: 1.1909 - accuracy: 0.48 - ETA: 7s - loss: 1.1882 - accuracy: 0.48 - ETA: 7s - loss: 1.1851 - accuracy: 0.48 - ETA: 7s - loss: 1.1807 - accuracy: 0.49 - ETA: 6s - loss: 1.1763 - accuracy: 0.49 - ETA: 6s - loss: 1.1724 - accuracy: 0.49 - ETA: 6s - loss: 1.1700 - accuracy: 0.49 - ETA: 6s - loss: 1.1673 - accuracy: 0.50 - ETA: 6s - loss: 1.1646 - accuracy: 0.50 - ETA: 6s - loss: 1.1616 - accuracy: 0.50 - ETA: 5s - loss: 1.1573 - accuracy: 0.50 - ETA: 5s - loss: 1.1571 - accuracy: 0.50 - ETA: 5s - loss: 1.1520 - accuracy: 0.50 - ETA: 5s - loss: 1.1448 - accuracy: 0.51 - ETA: 5s - loss: 1.1408 - accuracy: 0.51 - ETA: 5s - loss: 1.1405 - accuracy: 0.51 - ETA: 4s - loss: 1.1380 - accuracy: 0.51 - ETA: 4s - loss: 1.1370 - accuracy: 0.51 - ETA: 4s - loss: 1.1365 - accuracy: 0.51 - ETA: 4s - loss: 1.1352 - accuracy: 0.51 - ETA: 4s - loss: 1.1344 - accuracy: 0.52 - ETA: 3s - loss: 1.1287 - accuracy: 0.52 - ETA: 3s - loss: 1.1247 - accuracy: 0.52 - ETA: 3s - loss: 1.1209 - accuracy: 0.52 - ETA: 3s - loss: 1.1209 - accuracy: 0.52 - ETA: 3s - loss: 1.1192 - accuracy: 0.52 - ETA: 3s - loss: 1.1177 - accuracy: 0.52 - ETA: 2s - loss: 1.1161 - accuracy: 0.52 - ETA: 2s - loss: 1.1136 - accuracy: 0.53 - ETA: 2s - loss: 1.1142 - accuracy: 0.53 - ETA: 2s - loss: 1.1121 - accuracy: 0.53 - ETA: 2s - loss: 1.1096 - accuracy: 0.53 - ETA: 2s - loss: 1.1071 - accuracy: 0.53 - ETA: 1s - loss: 1.1039 - accuracy: 0.53 - ETA: 1s - loss: 1.1022 - accuracy: 0.53 - ETA: 1s - loss: 1.1004 - accuracy: 0.53 - ETA: 1s - loss: 1.0985 - accuracy: 0.53 - ETA: 1s - loss: 1.0958 - accuracy: 0.53 - ETA: 0s - loss: 1.0944 - accuracy: 0.54 - ETA: 0s - loss: 1.0927 - accuracy: 0.54 - ETA: 0s - loss: 1.0917 - accuracy: 0.54 - ETA: 0s - loss: 1.0891 - accuracy: 0.54 - ETA: 0s - loss: 1.0871 - accuracy: 0.54 - ETA: 0s - loss: 1.0871 - accuracy: 0.54 - 23s 213ms/step - loss: 1.0871 - accuracy: 0.5426 - val_loss: 0.8715 - val_accuracy: 0.6428\n",
      "Epoch 2/3\n",
      "84/84 [==============================] - ETA: 16s - loss: 0.9970 - accuracy: 0.593 - ETA: 16s - loss: 0.9176 - accuracy: 0.648 - ETA: 16s - loss: 0.9511 - accuracy: 0.640 - ETA: 16s - loss: 0.9356 - accuracy: 0.660 - ETA: 16s - loss: 0.9123 - accuracy: 0.668 - ETA: 15s - loss: 0.8895 - accuracy: 0.669 - ETA: 15s - loss: 0.8846 - accuracy: 0.671 - ETA: 15s - loss: 0.8913 - accuracy: 0.666 - ETA: 15s - loss: 0.8785 - accuracy: 0.666 - ETA: 15s - loss: 0.8744 - accuracy: 0.671 - ETA: 15s - loss: 0.8730 - accuracy: 0.673 - ETA: 14s - loss: 0.8922 - accuracy: 0.661 - ETA: 14s - loss: 0.8998 - accuracy: 0.655 - ETA: 14s - loss: 0.9005 - accuracy: 0.652 - ETA: 14s - loss: 0.8996 - accuracy: 0.654 - ETA: 14s - loss: 0.9118 - accuracy: 0.648 - ETA: 13s - loss: 0.9014 - accuracy: 0.652 - ETA: 13s - loss: 0.9059 - accuracy: 0.649 - ETA: 13s - loss: 0.9141 - accuracy: 0.643 - ETA: 13s - loss: 0.9237 - accuracy: 0.639 - ETA: 13s - loss: 0.9234 - accuracy: 0.639 - ETA: 12s - loss: 0.9192 - accuracy: 0.639 - ETA: 12s - loss: 0.9217 - accuracy: 0.637 - ETA: 12s - loss: 0.9177 - accuracy: 0.640 - ETA: 12s - loss: 0.9093 - accuracy: 0.645 - ETA: 12s - loss: 0.9043 - accuracy: 0.648 - ETA: 11s - loss: 0.8996 - accuracy: 0.650 - ETA: 11s - loss: 0.9028 - accuracy: 0.647 - ETA: 11s - loss: 0.9050 - accuracy: 0.646 - ETA: 11s - loss: 0.9005 - accuracy: 0.649 - ETA: 11s - loss: 0.8960 - accuracy: 0.650 - ETA: 10s - loss: 0.8911 - accuracy: 0.651 - ETA: 10s - loss: 0.8902 - accuracy: 0.651 - ETA: 10s - loss: 0.8884 - accuracy: 0.651 - ETA: 10s - loss: 0.8863 - accuracy: 0.651 - ETA: 10s - loss: 0.8793 - accuracy: 0.655 - ETA: 9s - loss: 0.8796 - accuracy: 0.655 - ETA: 9s - loss: 0.8754 - accuracy: 0.65 - ETA: 9s - loss: 0.8766 - accuracy: 0.65 - ETA: 9s - loss: 0.8728 - accuracy: 0.65 - ETA: 9s - loss: 0.8721 - accuracy: 0.65 - ETA: 8s - loss: 0.8701 - accuracy: 0.65 - ETA: 8s - loss: 0.8716 - accuracy: 0.65 - ETA: 8s - loss: 0.8679 - accuracy: 0.65 - ETA: 8s - loss: 0.8642 - accuracy: 0.66 - ETA: 8s - loss: 0.8619 - accuracy: 0.66 - ETA: 7s - loss: 0.8615 - accuracy: 0.66 - ETA: 7s - loss: 0.8608 - accuracy: 0.66 - ETA: 7s - loss: 0.8640 - accuracy: 0.66 - ETA: 7s - loss: 0.8624 - accuracy: 0.66 - ETA: 6s - loss: 0.8601 - accuracy: 0.66 - ETA: 6s - loss: 0.8582 - accuracy: 0.66 - ETA: 6s - loss: 0.8562 - accuracy: 0.66 - ETA: 6s - loss: 0.8552 - accuracy: 0.66 - ETA: 6s - loss: 0.8547 - accuracy: 0.66 - ETA: 5s - loss: 0.8526 - accuracy: 0.66 - ETA: 5s - loss: 0.8533 - accuracy: 0.66 - ETA: 5s - loss: 0.8504 - accuracy: 0.66 - ETA: 5s - loss: 0.8484 - accuracy: 0.66 - ETA: 5s - loss: 0.8459 - accuracy: 0.66 - ETA: 4s - loss: 0.8453 - accuracy: 0.66 - ETA: 4s - loss: 0.8440 - accuracy: 0.66 - ETA: 4s - loss: 0.8432 - accuracy: 0.66 - ETA: 4s - loss: 0.8440 - accuracy: 0.66 - ETA: 4s - loss: 0.8408 - accuracy: 0.66 - ETA: 3s - loss: 0.8381 - accuracy: 0.66 - ETA: 3s - loss: 0.8415 - accuracy: 0.66 - ETA: 3s - loss: 0.8398 - accuracy: 0.66 - ETA: 3s - loss: 0.8392 - accuracy: 0.66 - ETA: 3s - loss: 0.8377 - accuracy: 0.66 - ETA: 2s - loss: 0.8373 - accuracy: 0.66 - ETA: 2s - loss: 0.8361 - accuracy: 0.67 - ETA: 2s - loss: 0.8349 - accuracy: 0.67 - ETA: 2s - loss: 0.8349 - accuracy: 0.67 - ETA: 1s - loss: 0.8347 - accuracy: 0.67 - ETA: 1s - loss: 0.8321 - accuracy: 0.67 - ETA: 1s - loss: 0.8309 - accuracy: 0.67 - ETA: 1s - loss: 0.8277 - accuracy: 0.67 - ETA: 1s - loss: 0.8258 - accuracy: 0.67 - ETA: 0s - loss: 0.8241 - accuracy: 0.67 - ETA: 0s - loss: 0.8239 - accuracy: 0.67 - ETA: 0s - loss: 0.8230 - accuracy: 0.67 - ETA: 0s - loss: 0.8232 - accuracy: 0.67 - ETA: 0s - loss: 0.8234 - accuracy: 0.67 - 19s 230ms/step - loss: 0.8234 - accuracy: 0.6783 - val_loss: 0.7194 - val_accuracy: 0.7179\n",
      "Epoch 3/3\n"
     ]
    },
    {
     "name": "stdout",
     "output_type": "stream",
     "text": [
      "84/84 [==============================] - ETA: 18s - loss: 0.8477 - accuracy: 0.671 - ETA: 18s - loss: 0.7942 - accuracy: 0.671 - ETA: 18s - loss: 0.7304 - accuracy: 0.718 - ETA: 18s - loss: 0.7203 - accuracy: 0.714 - ETA: 18s - loss: 0.7085 - accuracy: 0.718 - ETA: 18s - loss: 0.6926 - accuracy: 0.726 - ETA: 18s - loss: 0.6785 - accuracy: 0.732 - ETA: 17s - loss: 0.6859 - accuracy: 0.722 - ETA: 17s - loss: 0.6871 - accuracy: 0.725 - ETA: 17s - loss: 0.6730 - accuracy: 0.732 - ETA: 17s - loss: 0.6701 - accuracy: 0.738 - ETA: 16s - loss: 0.6898 - accuracy: 0.730 - ETA: 16s - loss: 0.7039 - accuracy: 0.724 - ETA: 16s - loss: 0.7063 - accuracy: 0.723 - ETA: 16s - loss: 0.7041 - accuracy: 0.727 - ETA: 15s - loss: 0.7082 - accuracy: 0.724 - ETA: 15s - loss: 0.7111 - accuracy: 0.726 - ETA: 15s - loss: 0.7068 - accuracy: 0.727 - ETA: 15s - loss: 0.7047 - accuracy: 0.728 - ETA: 14s - loss: 0.7111 - accuracy: 0.726 - ETA: 14s - loss: 0.7188 - accuracy: 0.724 - ETA: 14s - loss: 0.7170 - accuracy: 0.725 - ETA: 14s - loss: 0.7183 - accuracy: 0.725 - ETA: 13s - loss: 0.7155 - accuracy: 0.725 - ETA: 13s - loss: 0.7237 - accuracy: 0.722 - ETA: 13s - loss: 0.7248 - accuracy: 0.721 - ETA: 13s - loss: 0.7232 - accuracy: 0.722 - ETA: 12s - loss: 0.7205 - accuracy: 0.722 - ETA: 12s - loss: 0.7239 - accuracy: 0.723 - ETA: 12s - loss: 0.7218 - accuracy: 0.724 - ETA: 12s - loss: 0.7253 - accuracy: 0.722 - ETA: 12s - loss: 0.7293 - accuracy: 0.721 - ETA: 11s - loss: 0.7279 - accuracy: 0.721 - ETA: 11s - loss: 0.7246 - accuracy: 0.723 - ETA: 11s - loss: 0.7187 - accuracy: 0.726 - ETA: 11s - loss: 0.7169 - accuracy: 0.727 - ETA: 10s - loss: 0.7116 - accuracy: 0.730 - ETA: 10s - loss: 0.7161 - accuracy: 0.728 - ETA: 10s - loss: 0.7162 - accuracy: 0.728 - ETA: 10s - loss: 0.7133 - accuracy: 0.730 - ETA: 9s - loss: 0.7127 - accuracy: 0.730 - ETA: 9s - loss: 0.7135 - accuracy: 0.73 - ETA: 9s - loss: 0.7099 - accuracy: 0.73 - ETA: 9s - loss: 0.7060 - accuracy: 0.73 - ETA: 9s - loss: 0.7076 - accuracy: 0.73 - ETA: 8s - loss: 0.7098 - accuracy: 0.73 - ETA: 8s - loss: 0.7058 - accuracy: 0.73 - ETA: 8s - loss: 0.7017 - accuracy: 0.73 - ETA: 8s - loss: 0.7051 - accuracy: 0.73 - ETA: 7s - loss: 0.7080 - accuracy: 0.73 - ETA: 7s - loss: 0.7052 - accuracy: 0.73 - ETA: 7s - loss: 0.7060 - accuracy: 0.73 - ETA: 7s - loss: 0.7020 - accuracy: 0.73 - ETA: 6s - loss: 0.7007 - accuracy: 0.73 - ETA: 6s - loss: 0.6987 - accuracy: 0.73 - ETA: 6s - loss: 0.6965 - accuracy: 0.73 - ETA: 6s - loss: 0.6995 - accuracy: 0.73 - ETA: 6s - loss: 0.6973 - accuracy: 0.73 - ETA: 5s - loss: 0.6987 - accuracy: 0.73 - ETA: 5s - loss: 0.6990 - accuracy: 0.73 - ETA: 5s - loss: 0.6984 - accuracy: 0.73 - ETA: 5s - loss: 0.7002 - accuracy: 0.73 - ETA: 4s - loss: 0.7014 - accuracy: 0.73 - ETA: 4s - loss: 0.7028 - accuracy: 0.73 - ETA: 4s - loss: 0.7042 - accuracy: 0.73 - ETA: 4s - loss: 0.7019 - accuracy: 0.73 - ETA: 3s - loss: 0.7001 - accuracy: 0.73 - ETA: 3s - loss: 0.7001 - accuracy: 0.73 - ETA: 3s - loss: 0.6997 - accuracy: 0.73 - ETA: 3s - loss: 0.6977 - accuracy: 0.73 - ETA: 3s - loss: 0.6984 - accuracy: 0.73 - ETA: 2s - loss: 0.6985 - accuracy: 0.73 - ETA: 2s - loss: 0.6975 - accuracy: 0.73 - ETA: 2s - loss: 0.6975 - accuracy: 0.73 - ETA: 2s - loss: 0.6942 - accuracy: 0.73 - ETA: 1s - loss: 0.6931 - accuracy: 0.73 - ETA: 1s - loss: 0.6913 - accuracy: 0.73 - ETA: 1s - loss: 0.6901 - accuracy: 0.73 - ETA: 1s - loss: 0.6913 - accuracy: 0.73 - ETA: 0s - loss: 0.6908 - accuracy: 0.73 - ETA: 0s - loss: 0.6904 - accuracy: 0.73 - ETA: 0s - loss: 0.6904 - accuracy: 0.73 - ETA: 0s - loss: 0.6905 - accuracy: 0.73 - ETA: 0s - loss: 0.6903 - accuracy: 0.73 - 21s 246ms/step - loss: 0.6903 - accuracy: 0.7380 - val_loss: 0.6167 - val_accuracy: 0.7503\n"
     ]
    },
    {
     "data": {
      "text/html": [
       "<span style=\"color:#4527A0\"><h1 style=\"font-size:18px\">Trial complete</h1></span>"
      ],
      "text/plain": [
       "<IPython.core.display.HTML object>"
      ]
     },
     "metadata": {},
     "output_type": "display_data"
    },
    {
     "data": {
      "text/html": [
       "<span style=\"color:#4527A0\"><h1 style=\"font-size:18px\">Trial summary</h1></span>"
      ],
      "text/plain": [
       "<IPython.core.display.HTML object>"
      ]
     },
     "metadata": {},
     "output_type": "display_data"
    },
    {
     "data": {
      "text/html": [
       "<span style=\"color:#7E57C2\"><h2 style=\"font-size:16px\">Hp values:</h2></span>"
      ],
      "text/plain": [
       "<IPython.core.display.HTML object>"
      ]
     },
     "metadata": {},
     "output_type": "display_data"
    },
    {
     "data": {
      "text/html": [
       "<span style=\"color:cyan\"> |-lstm_1: 100</span>"
      ],
      "text/plain": [
       "<IPython.core.display.HTML object>"
      ]
     },
     "metadata": {},
     "output_type": "display_data"
    },
    {
     "data": {
      "text/html": [
       "<span style=\"color:blue\"> |-lstm_2: 100</span>"
      ],
      "text/plain": [
       "<IPython.core.display.HTML object>"
      ]
     },
     "metadata": {},
     "output_type": "display_data"
    },
    {
     "data": {
      "text/html": [
       "<span style=\"color:cyan\"> |-lstm_3: 50</span>"
      ],
      "text/plain": [
       "<IPython.core.display.HTML object>"
      ]
     },
     "metadata": {},
     "output_type": "display_data"
    },
    {
     "data": {
      "text/html": [
       "<span style=\"color:blue\"> |-tuner/bracket: 2</span>"
      ],
      "text/plain": [
       "<IPython.core.display.HTML object>"
      ]
     },
     "metadata": {},
     "output_type": "display_data"
    },
    {
     "data": {
      "text/html": [
       "<span style=\"color:cyan\"> |-tuner/epochs: 3</span>"
      ],
      "text/plain": [
       "<IPython.core.display.HTML object>"
      ]
     },
     "metadata": {},
     "output_type": "display_data"
    },
    {
     "data": {
      "text/html": [
       "<span style=\"color:blue\"> |-tuner/initial_epoch: 0</span>"
      ],
      "text/plain": [
       "<IPython.core.display.HTML object>"
      ]
     },
     "metadata": {},
     "output_type": "display_data"
    },
    {
     "data": {
      "text/html": [
       "<span style=\"color:cyan\"> |-tuner/round: 0</span>"
      ],
      "text/plain": [
       "<IPython.core.display.HTML object>"
      ]
     },
     "metadata": {},
     "output_type": "display_data"
    },
    {
     "data": {
      "text/html": [
       "<span style=\"color:cyan\"> |-Score: 0.7502890229225159</span>"
      ],
      "text/plain": [
       "<IPython.core.display.HTML object>"
      ]
     },
     "metadata": {},
     "output_type": "display_data"
    },
    {
     "data": {
      "text/html": [
       "<span style=\"color:cyan\"> |-Best step: 0</span>"
      ],
      "text/plain": [
       "<IPython.core.display.HTML object>"
      ]
     },
     "metadata": {},
     "output_type": "display_data"
    },
    {
     "name": "stdout",
     "output_type": "stream",
     "text": [
      "Epoch 1/3\n",
      "84/84 [==============================] - ETA: 8:22 - loss: 1.3810 - accuracy: 0.25 - ETA: 13s - loss: 1.3683 - accuracy: 0.2812 - ETA: 12s - loss: 1.3706 - accuracy: 0.333 - ETA: 12s - loss: 1.3756 - accuracy: 0.351 - ETA: 11s - loss: 1.3723 - accuracy: 0.356 - ETA: 11s - loss: 1.3765 - accuracy: 0.338 - ETA: 11s - loss: 1.3711 - accuracy: 0.343 - ETA: 11s - loss: 1.3725 - accuracy: 0.332 - ETA: 11s - loss: 1.3688 - accuracy: 0.333 - ETA: 11s - loss: 1.3643 - accuracy: 0.334 - ETA: 11s - loss: 1.3591 - accuracy: 0.340 - ETA: 11s - loss: 1.3594 - accuracy: 0.334 - ETA: 11s - loss: 1.3573 - accuracy: 0.335 - ETA: 10s - loss: 1.3545 - accuracy: 0.339 - ETA: 10s - loss: 1.3514 - accuracy: 0.339 - ETA: 10s - loss: 1.3501 - accuracy: 0.336 - ETA: 10s - loss: 1.3489 - accuracy: 0.333 - ETA: 10s - loss: 1.3463 - accuracy: 0.335 - ETA: 10s - loss: 1.3429 - accuracy: 0.342 - ETA: 10s - loss: 1.3397 - accuracy: 0.350 - ETA: 9s - loss: 1.3371 - accuracy: 0.357 - ETA: 9s - loss: 1.3346 - accuracy: 0.36 - ETA: 9s - loss: 1.3309 - accuracy: 0.36 - ETA: 9s - loss: 1.3287 - accuracy: 0.37 - ETA: 9s - loss: 1.3238 - accuracy: 0.37 - ETA: 9s - loss: 1.3224 - accuracy: 0.37 - ETA: 8s - loss: 1.3213 - accuracy: 0.37 - ETA: 8s - loss: 1.3161 - accuracy: 0.38 - ETA: 8s - loss: 1.3110 - accuracy: 0.39 - ETA: 8s - loss: 1.3086 - accuracy: 0.39 - ETA: 8s - loss: 1.3029 - accuracy: 0.39 - ETA: 8s - loss: 1.2974 - accuracy: 0.40 - ETA: 8s - loss: 1.2938 - accuracy: 0.40 - ETA: 7s - loss: 1.2888 - accuracy: 0.41 - ETA: 7s - loss: 1.2834 - accuracy: 0.41 - ETA: 7s - loss: 1.2820 - accuracy: 0.41 - ETA: 7s - loss: 1.2792 - accuracy: 0.41 - ETA: 7s - loss: 1.2728 - accuracy: 0.42 - ETA: 7s - loss: 1.2695 - accuracy: 0.42 - ETA: 6s - loss: 1.2675 - accuracy: 0.42 - ETA: 6s - loss: 1.2663 - accuracy: 0.42 - ETA: 6s - loss: 1.2623 - accuracy: 0.43 - ETA: 6s - loss: 1.2576 - accuracy: 0.43 - ETA: 6s - loss: 1.2526 - accuracy: 0.43 - ETA: 6s - loss: 1.2497 - accuracy: 0.43 - ETA: 5s - loss: 1.2457 - accuracy: 0.43 - ETA: 5s - loss: 1.2413 - accuracy: 0.44 - ETA: 5s - loss: 1.2401 - accuracy: 0.44 - ETA: 5s - loss: 1.2401 - accuracy: 0.44 - ETA: 5s - loss: 1.2337 - accuracy: 0.44 - ETA: 5s - loss: 1.2333 - accuracy: 0.44 - ETA: 5s - loss: 1.2309 - accuracy: 0.44 - ETA: 4s - loss: 1.2282 - accuracy: 0.45 - ETA: 4s - loss: 1.2259 - accuracy: 0.45 - ETA: 4s - loss: 1.2217 - accuracy: 0.45 - ETA: 4s - loss: 1.2202 - accuracy: 0.45 - ETA: 4s - loss: 1.2170 - accuracy: 0.46 - ETA: 4s - loss: 1.2160 - accuracy: 0.46 - ETA: 3s - loss: 1.2115 - accuracy: 0.46 - ETA: 3s - loss: 1.2076 - accuracy: 0.46 - ETA: 3s - loss: 1.2045 - accuracy: 0.46 - ETA: 3s - loss: 1.2014 - accuracy: 0.47 - ETA: 3s - loss: 1.1988 - accuracy: 0.47 - ETA: 3s - loss: 1.1966 - accuracy: 0.47 - ETA: 3s - loss: 1.1950 - accuracy: 0.47 - ETA: 2s - loss: 1.1932 - accuracy: 0.47 - ETA: 2s - loss: 1.1908 - accuracy: 0.47 - ETA: 2s - loss: 1.1912 - accuracy: 0.47 - ETA: 2s - loss: 1.1869 - accuracy: 0.47 - ETA: 2s - loss: 1.1814 - accuracy: 0.48 - ETA: 2s - loss: 1.1771 - accuracy: 0.48 - ETA: 1s - loss: 1.1769 - accuracy: 0.48 - ETA: 1s - loss: 1.1723 - accuracy: 0.49 - ETA: 1s - loss: 1.1681 - accuracy: 0.49 - ETA: 1s - loss: 1.1642 - accuracy: 0.49 - ETA: 1s - loss: 1.1603 - accuracy: 0.49 - ETA: 1s - loss: 1.1568 - accuracy: 0.50 - ETA: 0s - loss: 1.1537 - accuracy: 0.50 - ETA: 0s - loss: 1.1512 - accuracy: 0.50 - ETA: 0s - loss: 1.1489 - accuracy: 0.50 - ETA: 0s - loss: 1.1467 - accuracy: 0.50 - ETA: 0s - loss: 1.1424 - accuracy: 0.50 - ETA: 0s - loss: 1.1387 - accuracy: 0.51 - ETA: 0s - loss: 1.1385 - accuracy: 0.51 - 22s 188ms/step - loss: 1.1385 - accuracy: 0.5103 - val_loss: 0.8889 - val_accuracy: 0.6509\n",
      "Epoch 2/3\n",
      "84/84 [==============================] - ETA: 13s - loss: 0.8831 - accuracy: 0.625 - ETA: 13s - loss: 0.8850 - accuracy: 0.664 - ETA: 14s - loss: 0.8582 - accuracy: 0.677 - ETA: 14s - loss: 0.8595 - accuracy: 0.668 - ETA: 14s - loss: 0.8732 - accuracy: 0.665 - ETA: 14s - loss: 0.8619 - accuracy: 0.669 - ETA: 13s - loss: 0.8759 - accuracy: 0.667 - ETA: 13s - loss: 0.8541 - accuracy: 0.681 - ETA: 13s - loss: 0.8644 - accuracy: 0.678 - ETA: 13s - loss: 0.8486 - accuracy: 0.684 - ETA: 13s - loss: 0.8470 - accuracy: 0.683 - ETA: 12s - loss: 0.8442 - accuracy: 0.686 - ETA: 12s - loss: 0.8581 - accuracy: 0.680 - ETA: 12s - loss: 0.8658 - accuracy: 0.678 - ETA: 12s - loss: 0.8613 - accuracy: 0.680 - ETA: 12s - loss: 0.8671 - accuracy: 0.680 - ETA: 12s - loss: 0.8693 - accuracy: 0.681 - ETA: 12s - loss: 0.8670 - accuracy: 0.681 - ETA: 11s - loss: 0.8659 - accuracy: 0.682 - ETA: 11s - loss: 0.8671 - accuracy: 0.682 - ETA: 11s - loss: 0.8641 - accuracy: 0.683 - ETA: 11s - loss: 0.8609 - accuracy: 0.687 - ETA: 11s - loss: 0.8565 - accuracy: 0.687 - ETA: 11s - loss: 0.8504 - accuracy: 0.690 - ETA: 10s - loss: 0.8498 - accuracy: 0.691 - ETA: 10s - loss: 0.8519 - accuracy: 0.689 - ETA: 10s - loss: 0.8566 - accuracy: 0.685 - ETA: 10s - loss: 0.8526 - accuracy: 0.688 - ETA: 10s - loss: 0.8534 - accuracy: 0.688 - ETA: 9s - loss: 0.8545 - accuracy: 0.686 - ETA: 9s - loss: 0.8563 - accuracy: 0.68 - ETA: 9s - loss: 0.8588 - accuracy: 0.68 - ETA: 9s - loss: 0.8608 - accuracy: 0.68 - ETA: 9s - loss: 0.8612 - accuracy: 0.68 - ETA: 8s - loss: 0.8596 - accuracy: 0.68 - ETA: 8s - loss: 0.8613 - accuracy: 0.68 - ETA: 8s - loss: 0.8612 - accuracy: 0.68 - ETA: 8s - loss: 0.8634 - accuracy: 0.68 - ETA: 8s - loss: 0.8640 - accuracy: 0.67 - ETA: 8s - loss: 0.8616 - accuracy: 0.68 - ETA: 7s - loss: 0.8633 - accuracy: 0.68 - ETA: 7s - loss: 0.8601 - accuracy: 0.68 - ETA: 7s - loss: 0.8595 - accuracy: 0.68 - ETA: 7s - loss: 0.8566 - accuracy: 0.68 - ETA: 7s - loss: 0.8551 - accuracy: 0.68 - ETA: 6s - loss: 0.8553 - accuracy: 0.68 - ETA: 6s - loss: 0.8557 - accuracy: 0.68 - ETA: 6s - loss: 0.8551 - accuracy: 0.68 - ETA: 6s - loss: 0.8560 - accuracy: 0.68 - ETA: 6s - loss: 0.8558 - accuracy: 0.68 - ETA: 6s - loss: 0.8514 - accuracy: 0.68 - ETA: 5s - loss: 0.8480 - accuracy: 0.68 - ETA: 5s - loss: 0.8461 - accuracy: 0.68 - ETA: 5s - loss: 0.8485 - accuracy: 0.68 - ETA: 5s - loss: 0.8466 - accuracy: 0.68 - ETA: 5s - loss: 0.8451 - accuracy: 0.68 - ETA: 4s - loss: 0.8412 - accuracy: 0.68 - ETA: 4s - loss: 0.8429 - accuracy: 0.68 - ETA: 4s - loss: 0.8426 - accuracy: 0.68 - ETA: 4s - loss: 0.8438 - accuracy: 0.68 - ETA: 4s - loss: 0.8404 - accuracy: 0.68 - ETA: 4s - loss: 0.8393 - accuracy: 0.68 - ETA: 3s - loss: 0.8401 - accuracy: 0.68 - ETA: 3s - loss: 0.8380 - accuracy: 0.68 - ETA: 3s - loss: 0.8401 - accuracy: 0.68 - ETA: 3s - loss: 0.8389 - accuracy: 0.68 - ETA: 3s - loss: 0.8402 - accuracy: 0.68 - ETA: 2s - loss: 0.8367 - accuracy: 0.68 - ETA: 2s - loss: 0.8366 - accuracy: 0.68 - ETA: 2s - loss: 0.8390 - accuracy: 0.68 - ETA: 2s - loss: 0.8415 - accuracy: 0.68 - ETA: 2s - loss: 0.8415 - accuracy: 0.68 - ETA: 2s - loss: 0.8407 - accuracy: 0.68 - ETA: 1s - loss: 0.8391 - accuracy: 0.68 - ETA: 1s - loss: 0.8380 - accuracy: 0.68 - ETA: 1s - loss: 0.8377 - accuracy: 0.68 - ETA: 1s - loss: 0.8370 - accuracy: 0.68 - ETA: 1s - loss: 0.8380 - accuracy: 0.68 - ETA: 0s - loss: 0.8384 - accuracy: 0.68 - ETA: 0s - loss: 0.8391 - accuracy: 0.68 - ETA: 0s - loss: 0.8381 - accuracy: 0.68 - ETA: 0s - loss: 0.8390 - accuracy: 0.68 - ETA: 0s - loss: 0.8422 - accuracy: 0.68 - ETA: 0s - loss: 0.8422 - accuracy: 0.68 - 16s 193ms/step - loss: 0.8422 - accuracy: 0.6834 - val_loss: 0.7479 - val_accuracy: 0.7306\n",
      "Epoch 3/3\n"
     ]
    },
    {
     "name": "stdout",
     "output_type": "stream",
     "text": [
      "84/84 [==============================] - ETA: 14s - loss: 0.8378 - accuracy: 0.718 - ETA: 14s - loss: 0.8206 - accuracy: 0.710 - ETA: 14s - loss: 0.8097 - accuracy: 0.708 - ETA: 14s - loss: 0.8320 - accuracy: 0.695 - ETA: 13s - loss: 0.8037 - accuracy: 0.703 - ETA: 13s - loss: 0.7976 - accuracy: 0.700 - ETA: 13s - loss: 0.7929 - accuracy: 0.700 - ETA: 13s - loss: 0.7956 - accuracy: 0.707 - ETA: 13s - loss: 0.7878 - accuracy: 0.710 - ETA: 13s - loss: 0.7908 - accuracy: 0.707 - ETA: 13s - loss: 0.7851 - accuracy: 0.711 - ETA: 12s - loss: 0.7773 - accuracy: 0.712 - ETA: 12s - loss: 0.7765 - accuracy: 0.712 - ETA: 12s - loss: 0.7604 - accuracy: 0.721 - ETA: 12s - loss: 0.7583 - accuracy: 0.720 - ETA: 12s - loss: 0.7502 - accuracy: 0.720 - ETA: 11s - loss: 0.7482 - accuracy: 0.722 - ETA: 11s - loss: 0.7507 - accuracy: 0.722 - ETA: 11s - loss: 0.7390 - accuracy: 0.728 - ETA: 11s - loss: 0.7316 - accuracy: 0.732 - ETA: 11s - loss: 0.7298 - accuracy: 0.734 - ETA: 10s - loss: 0.7257 - accuracy: 0.736 - ETA: 10s - loss: 0.7294 - accuracy: 0.732 - ETA: 10s - loss: 0.7253 - accuracy: 0.733 - ETA: 10s - loss: 0.7158 - accuracy: 0.737 - ETA: 10s - loss: 0.7127 - accuracy: 0.739 - ETA: 10s - loss: 0.7134 - accuracy: 0.737 - ETA: 9s - loss: 0.7108 - accuracy: 0.737 - ETA: 9s - loss: 0.7132 - accuracy: 0.73 - ETA: 9s - loss: 0.7106 - accuracy: 0.73 - ETA: 9s - loss: 0.7126 - accuracy: 0.73 - ETA: 9s - loss: 0.7151 - accuracy: 0.73 - ETA: 8s - loss: 0.7168 - accuracy: 0.73 - ETA: 8s - loss: 0.7188 - accuracy: 0.73 - ETA: 8s - loss: 0.7258 - accuracy: 0.72 - ETA: 8s - loss: 0.7217 - accuracy: 0.73 - ETA: 8s - loss: 0.7255 - accuracy: 0.72 - ETA: 7s - loss: 0.7295 - accuracy: 0.72 - ETA: 7s - loss: 0.7275 - accuracy: 0.72 - ETA: 7s - loss: 0.7247 - accuracy: 0.72 - ETA: 7s - loss: 0.7261 - accuracy: 0.72 - ETA: 7s - loss: 0.7287 - accuracy: 0.72 - ETA: 7s - loss: 0.7301 - accuracy: 0.72 - ETA: 6s - loss: 0.7337 - accuracy: 0.72 - ETA: 6s - loss: 0.7363 - accuracy: 0.72 - ETA: 6s - loss: 0.7355 - accuracy: 0.72 - ETA: 6s - loss: 0.7379 - accuracy: 0.71 - ETA: 6s - loss: 0.7437 - accuracy: 0.71 - ETA: 6s - loss: 0.7418 - accuracy: 0.71 - ETA: 5s - loss: 0.7378 - accuracy: 0.71 - ETA: 5s - loss: 0.7387 - accuracy: 0.71 - ETA: 5s - loss: 0.7386 - accuracy: 0.71 - ETA: 5s - loss: 0.7426 - accuracy: 0.71 - ETA: 5s - loss: 0.7419 - accuracy: 0.71 - ETA: 5s - loss: 0.7410 - accuracy: 0.71 - ETA: 4s - loss: 0.7382 - accuracy: 0.71 - ETA: 4s - loss: 0.7359 - accuracy: 0.71 - ETA: 4s - loss: 0.7357 - accuracy: 0.72 - ETA: 4s - loss: 0.7329 - accuracy: 0.72 - ETA: 4s - loss: 0.7327 - accuracy: 0.72 - ETA: 4s - loss: 0.7328 - accuracy: 0.72 - ETA: 3s - loss: 0.7296 - accuracy: 0.72 - ETA: 3s - loss: 0.7282 - accuracy: 0.72 - ETA: 3s - loss: 0.7255 - accuracy: 0.72 - ETA: 3s - loss: 0.7225 - accuracy: 0.72 - ETA: 3s - loss: 0.7228 - accuracy: 0.72 - ETA: 3s - loss: 0.7222 - accuracy: 0.72 - ETA: 2s - loss: 0.7228 - accuracy: 0.72 - ETA: 2s - loss: 0.7232 - accuracy: 0.72 - ETA: 2s - loss: 0.7223 - accuracy: 0.72 - ETA: 2s - loss: 0.7235 - accuracy: 0.72 - ETA: 2s - loss: 0.7250 - accuracy: 0.72 - ETA: 1s - loss: 0.7250 - accuracy: 0.72 - ETA: 1s - loss: 0.7233 - accuracy: 0.72 - ETA: 1s - loss: 0.7224 - accuracy: 0.72 - ETA: 1s - loss: 0.7213 - accuracy: 0.72 - ETA: 1s - loss: 0.7195 - accuracy: 0.72 - ETA: 1s - loss: 0.7182 - accuracy: 0.72 - ETA: 0s - loss: 0.7189 - accuracy: 0.72 - ETA: 0s - loss: 0.7191 - accuracy: 0.72 - ETA: 0s - loss: 0.7178 - accuracy: 0.72 - ETA: 0s - loss: 0.7183 - accuracy: 0.72 - ETA: 0s - loss: 0.7170 - accuracy: 0.72 - ETA: 0s - loss: 0.7173 - accuracy: 0.72 - 16s 194ms/step - loss: 0.7173 - accuracy: 0.7292 - val_loss: 0.6489 - val_accuracy: 0.7653\n"
     ]
    },
    {
     "data": {
      "text/html": [
       "<span style=\"color:#4527A0\"><h1 style=\"font-size:18px\">Trial complete</h1></span>"
      ],
      "text/plain": [
       "<IPython.core.display.HTML object>"
      ]
     },
     "metadata": {},
     "output_type": "display_data"
    },
    {
     "data": {
      "text/html": [
       "<span style=\"color:#4527A0\"><h1 style=\"font-size:18px\">Trial summary</h1></span>"
      ],
      "text/plain": [
       "<IPython.core.display.HTML object>"
      ]
     },
     "metadata": {},
     "output_type": "display_data"
    },
    {
     "data": {
      "text/html": [
       "<span style=\"color:#7E57C2\"><h2 style=\"font-size:16px\">Hp values:</h2></span>"
      ],
      "text/plain": [
       "<IPython.core.display.HTML object>"
      ]
     },
     "metadata": {},
     "output_type": "display_data"
    },
    {
     "data": {
      "text/html": [
       "<span style=\"color:cyan\"> |-lstm_1: 50</span>"
      ],
      "text/plain": [
       "<IPython.core.display.HTML object>"
      ]
     },
     "metadata": {},
     "output_type": "display_data"
    },
    {
     "data": {
      "text/html": [
       "<span style=\"color:blue\"> |-lstm_2: 100</span>"
      ],
      "text/plain": [
       "<IPython.core.display.HTML object>"
      ]
     },
     "metadata": {},
     "output_type": "display_data"
    },
    {
     "data": {
      "text/html": [
       "<span style=\"color:cyan\"> |-lstm_3: 25</span>"
      ],
      "text/plain": [
       "<IPython.core.display.HTML object>"
      ]
     },
     "metadata": {},
     "output_type": "display_data"
    },
    {
     "data": {
      "text/html": [
       "<span style=\"color:blue\"> |-tuner/bracket: 2</span>"
      ],
      "text/plain": [
       "<IPython.core.display.HTML object>"
      ]
     },
     "metadata": {},
     "output_type": "display_data"
    },
    {
     "data": {
      "text/html": [
       "<span style=\"color:cyan\"> |-tuner/epochs: 3</span>"
      ],
      "text/plain": [
       "<IPython.core.display.HTML object>"
      ]
     },
     "metadata": {},
     "output_type": "display_data"
    },
    {
     "data": {
      "text/html": [
       "<span style=\"color:blue\"> |-tuner/initial_epoch: 0</span>"
      ],
      "text/plain": [
       "<IPython.core.display.HTML object>"
      ]
     },
     "metadata": {},
     "output_type": "display_data"
    },
    {
     "data": {
      "text/html": [
       "<span style=\"color:cyan\"> |-tuner/round: 0</span>"
      ],
      "text/plain": [
       "<IPython.core.display.HTML object>"
      ]
     },
     "metadata": {},
     "output_type": "display_data"
    },
    {
     "data": {
      "text/html": [
       "<span style=\"color:cyan\"> |-Score: 0.7653179168701172</span>"
      ],
      "text/plain": [
       "<IPython.core.display.HTML object>"
      ]
     },
     "metadata": {},
     "output_type": "display_data"
    },
    {
     "data": {
      "text/html": [
       "<span style=\"color:cyan\"> |-Best step: 0</span>"
      ],
      "text/plain": [
       "<IPython.core.display.HTML object>"
      ]
     },
     "metadata": {},
     "output_type": "display_data"
    },
    {
     "name": "stdout",
     "output_type": "stream",
     "text": [
      "Epoch 1/3\n",
      "84/84 [==============================] - ETA: 11:44 - loss: 1.3759 - accuracy: 0.312 - ETA: 29s - loss: 1.3592 - accuracy: 0.3828  - ETA: 27s - loss: 1.3700 - accuracy: 0.359 - ETA: 25s - loss: 1.3743 - accuracy: 0.347 - ETA: 24s - loss: 1.3736 - accuracy: 0.331 - ETA: 24s - loss: 1.3728 - accuracy: 0.320 - ETA: 23s - loss: 1.3746 - accuracy: 0.308 - ETA: 22s - loss: 1.3668 - accuracy: 0.322 - ETA: 22s - loss: 1.3664 - accuracy: 0.319 - ETA: 21s - loss: 1.3639 - accuracy: 0.326 - ETA: 21s - loss: 1.3614 - accuracy: 0.325 - ETA: 20s - loss: 1.3560 - accuracy: 0.337 - ETA: 20s - loss: 1.3577 - accuracy: 0.328 - ETA: 19s - loss: 1.3540 - accuracy: 0.340 - ETA: 19s - loss: 1.3539 - accuracy: 0.336 - ETA: 19s - loss: 1.3471 - accuracy: 0.349 - ETA: 18s - loss: 1.3452 - accuracy: 0.355 - ETA: 18s - loss: 1.3423 - accuracy: 0.362 - ETA: 18s - loss: 1.3402 - accuracy: 0.361 - ETA: 17s - loss: 1.3368 - accuracy: 0.370 - ETA: 17s - loss: 1.3327 - accuracy: 0.373 - ETA: 17s - loss: 1.3305 - accuracy: 0.378 - ETA: 16s - loss: 1.3260 - accuracy: 0.385 - ETA: 16s - loss: 1.3201 - accuracy: 0.393 - ETA: 16s - loss: 1.3185 - accuracy: 0.394 - ETA: 16s - loss: 1.3190 - accuracy: 0.394 - ETA: 15s - loss: 1.3152 - accuracy: 0.395 - ETA: 15s - loss: 1.3099 - accuracy: 0.401 - ETA: 15s - loss: 1.3042 - accuracy: 0.407 - ETA: 15s - loss: 1.3003 - accuracy: 0.410 - ETA: 14s - loss: 1.2981 - accuracy: 0.412 - ETA: 14s - loss: 1.2916 - accuracy: 0.416 - ETA: 14s - loss: 1.2860 - accuracy: 0.420 - ETA: 13s - loss: 1.2817 - accuracy: 0.423 - ETA: 13s - loss: 1.2804 - accuracy: 0.423 - ETA: 13s - loss: 1.2777 - accuracy: 0.424 - ETA: 12s - loss: 1.2747 - accuracy: 0.426 - ETA: 12s - loss: 1.2699 - accuracy: 0.428 - ETA: 12s - loss: 1.2731 - accuracy: 0.428 - ETA: 12s - loss: 1.2694 - accuracy: 0.429 - ETA: 11s - loss: 1.2625 - accuracy: 0.435 - ETA: 11s - loss: 1.2566 - accuracy: 0.440 - ETA: 11s - loss: 1.2509 - accuracy: 0.445 - ETA: 10s - loss: 1.2477 - accuracy: 0.447 - ETA: 10s - loss: 1.2444 - accuracy: 0.448 - ETA: 10s - loss: 1.2411 - accuracy: 0.451 - ETA: 10s - loss: 1.2375 - accuracy: 0.452 - ETA: 9s - loss: 1.2344 - accuracy: 0.456 - ETA: 9s - loss: 1.2331 - accuracy: 0.45 - ETA: 9s - loss: 1.2315 - accuracy: 0.45 - ETA: 8s - loss: 1.2288 - accuracy: 0.45 - ETA: 8s - loss: 1.2263 - accuracy: 0.46 - ETA: 8s - loss: 1.2229 - accuracy: 0.46 - ETA: 8s - loss: 1.2174 - accuracy: 0.46 - ETA: 7s - loss: 1.2144 - accuracy: 0.46 - ETA: 7s - loss: 1.2104 - accuracy: 0.47 - ETA: 7s - loss: 1.2069 - accuracy: 0.47 - ETA: 7s - loss: 1.2027 - accuracy: 0.47 - ETA: 6s - loss: 1.1990 - accuracy: 0.47 - ETA: 6s - loss: 1.1980 - accuracy: 0.47 - ETA: 6s - loss: 1.1944 - accuracy: 0.48 - ETA: 5s - loss: 1.1929 - accuracy: 0.48 - ETA: 5s - loss: 1.1915 - accuracy: 0.48 - ETA: 5s - loss: 1.1889 - accuracy: 0.48 - ETA: 5s - loss: 1.1871 - accuracy: 0.48 - ETA: 4s - loss: 1.1823 - accuracy: 0.48 - ETA: 4s - loss: 1.1790 - accuracy: 0.49 - ETA: 4s - loss: 1.1762 - accuracy: 0.49 - ETA: 4s - loss: 1.1750 - accuracy: 0.49 - ETA: 3s - loss: 1.1736 - accuracy: 0.49 - ETA: 3s - loss: 1.1726 - accuracy: 0.49 - ETA: 3s - loss: 1.1697 - accuracy: 0.49 - ETA: 2s - loss: 1.1668 - accuracy: 0.49 - ETA: 2s - loss: 1.1665 - accuracy: 0.49 - ETA: 2s - loss: 1.1630 - accuracy: 0.50 - ETA: 2s - loss: 1.1630 - accuracy: 0.50 - ETA: 1s - loss: 1.1596 - accuracy: 0.50 - ETA: 1s - loss: 1.1578 - accuracy: 0.50 - ETA: 1s - loss: 1.1549 - accuracy: 0.50 - ETA: 1s - loss: 1.1530 - accuracy: 0.50 - ETA: 0s - loss: 1.1500 - accuracy: 0.50 - ETA: 0s - loss: 1.1467 - accuracy: 0.51 - ETA: 0s - loss: 1.1439 - accuracy: 0.51 - ETA: 0s - loss: 1.1438 - accuracy: 0.51 - 33s 301ms/step - loss: 1.1438 - accuracy: 0.5121 - val_loss: 0.8934 - val_accuracy: 0.6555\n",
      "Epoch 2/3\n",
      "84/84 [==============================] - ETA: 21s - loss: 0.7335 - accuracy: 0.734 - ETA: 21s - loss: 0.7949 - accuracy: 0.679 - ETA: 21s - loss: 0.8271 - accuracy: 0.671 - ETA: 21s - loss: 0.8782 - accuracy: 0.660 - ETA: 21s - loss: 0.8935 - accuracy: 0.646 - ETA: 20s - loss: 0.8995 - accuracy: 0.630 - ETA: 20s - loss: 0.8911 - accuracy: 0.640 - ETA: 20s - loss: 0.8865 - accuracy: 0.642 - ETA: 20s - loss: 0.8828 - accuracy: 0.644 - ETA: 19s - loss: 0.8951 - accuracy: 0.645 - ETA: 19s - loss: 0.9030 - accuracy: 0.639 - ETA: 19s - loss: 0.9016 - accuracy: 0.640 - ETA: 19s - loss: 0.9063 - accuracy: 0.640 - ETA: 18s - loss: 0.8998 - accuracy: 0.647 - ETA: 18s - loss: 0.9030 - accuracy: 0.647 - ETA: 18s - loss: 0.9085 - accuracy: 0.645 - ETA: 17s - loss: 0.9102 - accuracy: 0.641 - ETA: 17s - loss: 0.9078 - accuracy: 0.643 - ETA: 17s - loss: 0.9006 - accuracy: 0.646 - ETA: 17s - loss: 0.8982 - accuracy: 0.646 - ETA: 16s - loss: 0.8995 - accuracy: 0.643 - ETA: 16s - loss: 0.9004 - accuracy: 0.641 - ETA: 16s - loss: 0.8957 - accuracy: 0.642 - ETA: 16s - loss: 0.8907 - accuracy: 0.645 - ETA: 15s - loss: 0.8890 - accuracy: 0.646 - ETA: 15s - loss: 0.8810 - accuracy: 0.652 - ETA: 15s - loss: 0.8803 - accuracy: 0.652 - ETA: 15s - loss: 0.8753 - accuracy: 0.655 - ETA: 14s - loss: 0.8721 - accuracy: 0.657 - ETA: 14s - loss: 0.8719 - accuracy: 0.657 - ETA: 14s - loss: 0.8719 - accuracy: 0.656 - ETA: 14s - loss: 0.8732 - accuracy: 0.656 - ETA: 13s - loss: 0.8766 - accuracy: 0.655 - ETA: 13s - loss: 0.8718 - accuracy: 0.657 - ETA: 13s - loss: 0.8728 - accuracy: 0.658 - ETA: 12s - loss: 0.8752 - accuracy: 0.656 - ETA: 12s - loss: 0.8722 - accuracy: 0.659 - ETA: 12s - loss: 0.8730 - accuracy: 0.660 - ETA: 12s - loss: 0.8779 - accuracy: 0.657 - ETA: 11s - loss: 0.8759 - accuracy: 0.657 - ETA: 11s - loss: 0.8754 - accuracy: 0.657 - ETA: 11s - loss: 0.8729 - accuracy: 0.657 - ETA: 11s - loss: 0.8728 - accuracy: 0.655 - ETA: 10s - loss: 0.8688 - accuracy: 0.658 - ETA: 10s - loss: 0.8712 - accuracy: 0.657 - ETA: 10s - loss: 0.8722 - accuracy: 0.657 - ETA: 9s - loss: 0.8710 - accuracy: 0.658 - ETA: 9s - loss: 0.8689 - accuracy: 0.65 - ETA: 9s - loss: 0.8680 - accuracy: 0.65 - ETA: 9s - loss: 0.8669 - accuracy: 0.66 - ETA: 8s - loss: 0.8665 - accuracy: 0.66 - ETA: 8s - loss: 0.8673 - accuracy: 0.66 - ETA: 8s - loss: 0.8666 - accuracy: 0.66 - ETA: 8s - loss: 0.8647 - accuracy: 0.66 - ETA: 7s - loss: 0.8637 - accuracy: 0.66 - ETA: 7s - loss: 0.8628 - accuracy: 0.66 - ETA: 7s - loss: 0.8602 - accuracy: 0.66 - ETA: 6s - loss: 0.8588 - accuracy: 0.66 - ETA: 6s - loss: 0.8610 - accuracy: 0.66 - ETA: 6s - loss: 0.8611 - accuracy: 0.66 - ETA: 6s - loss: 0.8609 - accuracy: 0.66 - ETA: 5s - loss: 0.8613 - accuracy: 0.66 - ETA: 5s - loss: 0.8581 - accuracy: 0.66 - ETA: 5s - loss: 0.8592 - accuracy: 0.66 - ETA: 5s - loss: 0.8581 - accuracy: 0.66 - ETA: 4s - loss: 0.8555 - accuracy: 0.67 - ETA: 4s - loss: 0.8553 - accuracy: 0.67 - ETA: 4s - loss: 0.8526 - accuracy: 0.67 - ETA: 4s - loss: 0.8522 - accuracy: 0.67 - ETA: 3s - loss: 0.8515 - accuracy: 0.67 - ETA: 3s - loss: 0.8502 - accuracy: 0.67 - ETA: 3s - loss: 0.8497 - accuracy: 0.67 - ETA: 2s - loss: 0.8487 - accuracy: 0.67 - ETA: 2s - loss: 0.8496 - accuracy: 0.67 - ETA: 2s - loss: 0.8502 - accuracy: 0.67 - ETA: 2s - loss: 0.8501 - accuracy: 0.67 - ETA: 1s - loss: 0.8500 - accuracy: 0.67 - ETA: 1s - loss: 0.8488 - accuracy: 0.67 - ETA: 1s - loss: 0.8510 - accuracy: 0.67 - ETA: 1s - loss: 0.8485 - accuracy: 0.67 - ETA: 0s - loss: 0.8472 - accuracy: 0.67 - ETA: 0s - loss: 0.8456 - accuracy: 0.67 - ETA: 0s - loss: 0.8446 - accuracy: 0.67 - ETA: 0s - loss: 0.8448 - accuracy: 0.67 - 24s 282ms/step - loss: 0.8448 - accuracy: 0.6746 - val_loss: 0.7186 - val_accuracy: 0.7364\n",
      "Epoch 3/3\n"
     ]
    },
    {
     "name": "stdout",
     "output_type": "stream",
     "text": [
      "84/84 [==============================] - ETA: 21s - loss: 0.6645 - accuracy: 0.781 - ETA: 21s - loss: 0.6805 - accuracy: 0.765 - ETA: 21s - loss: 0.6975 - accuracy: 0.760 - ETA: 21s - loss: 0.7203 - accuracy: 0.746 - ETA: 20s - loss: 0.7461 - accuracy: 0.737 - ETA: 20s - loss: 0.7450 - accuracy: 0.739 - ETA: 20s - loss: 0.7510 - accuracy: 0.741 - ETA: 20s - loss: 0.7745 - accuracy: 0.722 - ETA: 19s - loss: 0.7713 - accuracy: 0.732 - ETA: 19s - loss: 0.7749 - accuracy: 0.726 - ETA: 19s - loss: 0.7671 - accuracy: 0.731 - ETA: 19s - loss: 0.7621 - accuracy: 0.730 - ETA: 19s - loss: 0.7656 - accuracy: 0.727 - ETA: 18s - loss: 0.7673 - accuracy: 0.726 - ETA: 18s - loss: 0.7719 - accuracy: 0.722 - ETA: 18s - loss: 0.7704 - accuracy: 0.724 - ETA: 18s - loss: 0.7670 - accuracy: 0.723 - ETA: 17s - loss: 0.7660 - accuracy: 0.725 - ETA: 17s - loss: 0.7728 - accuracy: 0.723 - ETA: 17s - loss: 0.7748 - accuracy: 0.722 - ETA: 16s - loss: 0.7671 - accuracy: 0.727 - ETA: 16s - loss: 0.7677 - accuracy: 0.726 - ETA: 16s - loss: 0.7609 - accuracy: 0.729 - ETA: 16s - loss: 0.7552 - accuracy: 0.733 - ETA: 15s - loss: 0.7536 - accuracy: 0.732 - ETA: 15s - loss: 0.7534 - accuracy: 0.731 - ETA: 15s - loss: 0.7583 - accuracy: 0.728 - ETA: 14s - loss: 0.7570 - accuracy: 0.727 - ETA: 14s - loss: 0.7538 - accuracy: 0.727 - ETA: 14s - loss: 0.7551 - accuracy: 0.726 - ETA: 14s - loss: 0.7570 - accuracy: 0.724 - ETA: 13s - loss: 0.7629 - accuracy: 0.720 - ETA: 13s - loss: 0.7584 - accuracy: 0.724 - ETA: 13s - loss: 0.7610 - accuracy: 0.723 - ETA: 13s - loss: 0.7660 - accuracy: 0.719 - ETA: 12s - loss: 0.7648 - accuracy: 0.718 - ETA: 12s - loss: 0.7649 - accuracy: 0.718 - ETA: 12s - loss: 0.7625 - accuracy: 0.718 - ETA: 11s - loss: 0.7620 - accuracy: 0.718 - ETA: 11s - loss: 0.7618 - accuracy: 0.718 - ETA: 11s - loss: 0.7580 - accuracy: 0.721 - ETA: 11s - loss: 0.7583 - accuracy: 0.721 - ETA: 10s - loss: 0.7620 - accuracy: 0.719 - ETA: 10s - loss: 0.7651 - accuracy: 0.717 - ETA: 10s - loss: 0.7639 - accuracy: 0.718 - ETA: 10s - loss: 0.7627 - accuracy: 0.719 - ETA: 9s - loss: 0.7633 - accuracy: 0.719 - ETA: 9s - loss: 0.7603 - accuracy: 0.72 - ETA: 9s - loss: 0.7601 - accuracy: 0.72 - ETA: 9s - loss: 0.7595 - accuracy: 0.72 - ETA: 8s - loss: 0.7601 - accuracy: 0.72 - ETA: 8s - loss: 0.7608 - accuracy: 0.71 - ETA: 8s - loss: 0.7588 - accuracy: 0.72 - ETA: 7s - loss: 0.7601 - accuracy: 0.71 - ETA: 7s - loss: 0.7613 - accuracy: 0.71 - ETA: 7s - loss: 0.7585 - accuracy: 0.72 - ETA: 7s - loss: 0.7566 - accuracy: 0.72 - ETA: 6s - loss: 0.7554 - accuracy: 0.72 - ETA: 6s - loss: 0.7561 - accuracy: 0.72 - ETA: 6s - loss: 0.7565 - accuracy: 0.72 - ETA: 6s - loss: 0.7558 - accuracy: 0.72 - ETA: 5s - loss: 0.7573 - accuracy: 0.72 - ETA: 5s - loss: 0.7565 - accuracy: 0.72 - ETA: 5s - loss: 0.7570 - accuracy: 0.72 - ETA: 5s - loss: 0.7561 - accuracy: 0.72 - ETA: 4s - loss: 0.7566 - accuracy: 0.72 - ETA: 4s - loss: 0.7560 - accuracy: 0.72 - ETA: 4s - loss: 0.7551 - accuracy: 0.72 - ETA: 3s - loss: 0.7525 - accuracy: 0.72 - ETA: 3s - loss: 0.7543 - accuracy: 0.72 - ETA: 3s - loss: 0.7542 - accuracy: 0.72 - ETA: 3s - loss: 0.7556 - accuracy: 0.72 - ETA: 2s - loss: 0.7538 - accuracy: 0.72 - ETA: 2s - loss: 0.7530 - accuracy: 0.72 - ETA: 2s - loss: 0.7549 - accuracy: 0.72 - ETA: 2s - loss: 0.7536 - accuracy: 0.72 - ETA: 1s - loss: 0.7518 - accuracy: 0.72 - ETA: 1s - loss: 0.7530 - accuracy: 0.72 - ETA: 1s - loss: 0.7519 - accuracy: 0.72 - ETA: 1s - loss: 0.7531 - accuracy: 0.72 - ETA: 0s - loss: 0.7508 - accuracy: 0.72 - ETA: 0s - loss: 0.7490 - accuracy: 0.72 - ETA: 0s - loss: 0.7482 - accuracy: 0.72 - ETA: 0s - loss: 0.7481 - accuracy: 0.72 - 23s 279ms/step - loss: 0.7481 - accuracy: 0.7252 - val_loss: 0.6820 - val_accuracy: 0.7387\n"
     ]
    },
    {
     "data": {
      "text/html": [
       "<span style=\"color:#4527A0\"><h1 style=\"font-size:18px\">Trial complete</h1></span>"
      ],
      "text/plain": [
       "<IPython.core.display.HTML object>"
      ]
     },
     "metadata": {},
     "output_type": "display_data"
    },
    {
     "data": {
      "text/html": [
       "<span style=\"color:#4527A0\"><h1 style=\"font-size:18px\">Trial summary</h1></span>"
      ],
      "text/plain": [
       "<IPython.core.display.HTML object>"
      ]
     },
     "metadata": {},
     "output_type": "display_data"
    },
    {
     "data": {
      "text/html": [
       "<span style=\"color:#7E57C2\"><h2 style=\"font-size:16px\">Hp values:</h2></span>"
      ],
      "text/plain": [
       "<IPython.core.display.HTML object>"
      ]
     },
     "metadata": {},
     "output_type": "display_data"
    },
    {
     "data": {
      "text/html": [
       "<span style=\"color:cyan\"> |-lstm_1: 50</span>"
      ],
      "text/plain": [
       "<IPython.core.display.HTML object>"
      ]
     },
     "metadata": {},
     "output_type": "display_data"
    },
    {
     "data": {
      "text/html": [
       "<span style=\"color:blue\"> |-lstm_2: 150</span>"
      ],
      "text/plain": [
       "<IPython.core.display.HTML object>"
      ]
     },
     "metadata": {},
     "output_type": "display_data"
    },
    {
     "data": {
      "text/html": [
       "<span style=\"color:cyan\"> |-lstm_3: 25</span>"
      ],
      "text/plain": [
       "<IPython.core.display.HTML object>"
      ]
     },
     "metadata": {},
     "output_type": "display_data"
    },
    {
     "data": {
      "text/html": [
       "<span style=\"color:blue\"> |-tuner/bracket: 2</span>"
      ],
      "text/plain": [
       "<IPython.core.display.HTML object>"
      ]
     },
     "metadata": {},
     "output_type": "display_data"
    },
    {
     "data": {
      "text/html": [
       "<span style=\"color:cyan\"> |-tuner/epochs: 3</span>"
      ],
      "text/plain": [
       "<IPython.core.display.HTML object>"
      ]
     },
     "metadata": {},
     "output_type": "display_data"
    },
    {
     "data": {
      "text/html": [
       "<span style=\"color:blue\"> |-tuner/initial_epoch: 0</span>"
      ],
      "text/plain": [
       "<IPython.core.display.HTML object>"
      ]
     },
     "metadata": {},
     "output_type": "display_data"
    },
    {
     "data": {
      "text/html": [
       "<span style=\"color:cyan\"> |-tuner/round: 0</span>"
      ],
      "text/plain": [
       "<IPython.core.display.HTML object>"
      ]
     },
     "metadata": {},
     "output_type": "display_data"
    },
    {
     "data": {
      "text/html": [
       "<span style=\"color:cyan\"> |-Score: 0.7387283444404602</span>"
      ],
      "text/plain": [
       "<IPython.core.display.HTML object>"
      ]
     },
     "metadata": {},
     "output_type": "display_data"
    },
    {
     "data": {
      "text/html": [
       "<span style=\"color:cyan\"> |-Best step: 0</span>"
      ],
      "text/plain": [
       "<IPython.core.display.HTML object>"
      ]
     },
     "metadata": {},
     "output_type": "display_data"
    },
    {
     "name": "stdout",
     "output_type": "stream",
     "text": [
      "Epoch 1/3\n",
      "84/84 [==============================] - ETA: 8:52 - loss: 1.3811 - accuracy: 0.28 - ETA: 26s - loss: 1.3772 - accuracy: 0.2734 - ETA: 25s - loss: 1.3869 - accuracy: 0.270 - ETA: 25s - loss: 1.3780 - accuracy: 0.293 - ETA: 24s - loss: 1.3732 - accuracy: 0.312 - ETA: 24s - loss: 1.3721 - accuracy: 0.309 - ETA: 24s - loss: 1.3654 - accuracy: 0.308 - ETA: 24s - loss: 1.3633 - accuracy: 0.302 - ETA: 23s - loss: 1.3606 - accuracy: 0.312 - ETA: 23s - loss: 1.3571 - accuracy: 0.320 - ETA: 23s - loss: 1.3523 - accuracy: 0.331 - ETA: 22s - loss: 1.3488 - accuracy: 0.339 - ETA: 22s - loss: 1.3439 - accuracy: 0.346 - ETA: 22s - loss: 1.3387 - accuracy: 0.357 - ETA: 21s - loss: 1.3311 - accuracy: 0.370 - ETA: 21s - loss: 1.3269 - accuracy: 0.372 - ETA: 21s - loss: 1.3201 - accuracy: 0.375 - ETA: 21s - loss: 1.3159 - accuracy: 0.378 - ETA: 20s - loss: 1.3090 - accuracy: 0.383 - ETA: 20s - loss: 1.3072 - accuracy: 0.385 - ETA: 20s - loss: 1.2994 - accuracy: 0.389 - ETA: 19s - loss: 1.2962 - accuracy: 0.393 - ETA: 19s - loss: 1.2875 - accuracy: 0.400 - ETA: 19s - loss: 1.2861 - accuracy: 0.397 - ETA: 18s - loss: 1.2817 - accuracy: 0.400 - ETA: 18s - loss: 1.2769 - accuracy: 0.403 - ETA: 18s - loss: 1.2723 - accuracy: 0.408 - ETA: 17s - loss: 1.2644 - accuracy: 0.414 - ETA: 17s - loss: 1.2562 - accuracy: 0.420 - ETA: 17s - loss: 1.2527 - accuracy: 0.425 - ETA: 16s - loss: 1.2479 - accuracy: 0.426 - ETA: 16s - loss: 1.2435 - accuracy: 0.429 - ETA: 16s - loss: 1.2392 - accuracy: 0.432 - ETA: 16s - loss: 1.2336 - accuracy: 0.436 - ETA: 15s - loss: 1.2317 - accuracy: 0.436 - ETA: 15s - loss: 1.2264 - accuracy: 0.440 - ETA: 15s - loss: 1.2251 - accuracy: 0.442 - ETA: 14s - loss: 1.2185 - accuracy: 0.446 - ETA: 14s - loss: 1.2210 - accuracy: 0.445 - ETA: 14s - loss: 1.2154 - accuracy: 0.450 - ETA: 13s - loss: 1.2140 - accuracy: 0.453 - ETA: 13s - loss: 1.2097 - accuracy: 0.458 - ETA: 13s - loss: 1.2111 - accuracy: 0.457 - ETA: 12s - loss: 1.2057 - accuracy: 0.461 - ETA: 12s - loss: 1.2042 - accuracy: 0.462 - ETA: 12s - loss: 1.2018 - accuracy: 0.464 - ETA: 11s - loss: 1.1981 - accuracy: 0.466 - ETA: 11s - loss: 1.1953 - accuracy: 0.467 - ETA: 11s - loss: 1.1954 - accuracy: 0.467 - ETA: 11s - loss: 1.1955 - accuracy: 0.468 - ETA: 10s - loss: 1.1931 - accuracy: 0.470 - ETA: 10s - loss: 1.1898 - accuracy: 0.471 - ETA: 10s - loss: 1.1873 - accuracy: 0.474 - ETA: 9s - loss: 1.1832 - accuracy: 0.475 - ETA: 9s - loss: 1.1805 - accuracy: 0.47 - ETA: 9s - loss: 1.1759 - accuracy: 0.48 - ETA: 8s - loss: 1.1727 - accuracy: 0.48 - ETA: 8s - loss: 1.1680 - accuracy: 0.48 - ETA: 8s - loss: 1.1672 - accuracy: 0.48 - ETA: 7s - loss: 1.1633 - accuracy: 0.48 - ETA: 7s - loss: 1.1602 - accuracy: 0.49 - ETA: 7s - loss: 1.1565 - accuracy: 0.49 - ETA: 6s - loss: 1.1536 - accuracy: 0.49 - ETA: 6s - loss: 1.1542 - accuracy: 0.49 - ETA: 6s - loss: 1.1557 - accuracy: 0.49 - ETA: 5s - loss: 1.1531 - accuracy: 0.49 - ETA: 5s - loss: 1.1497 - accuracy: 0.50 - ETA: 5s - loss: 1.1459 - accuracy: 0.50 - ETA: 4s - loss: 1.1456 - accuracy: 0.50 - ETA: 4s - loss: 1.1438 - accuracy: 0.50 - ETA: 4s - loss: 1.1405 - accuracy: 0.50 - ETA: 3s - loss: 1.1388 - accuracy: 0.50 - ETA: 3s - loss: 1.1364 - accuracy: 0.50 - ETA: 3s - loss: 1.1344 - accuracy: 0.50 - ETA: 2s - loss: 1.1315 - accuracy: 0.51 - ETA: 2s - loss: 1.1283 - accuracy: 0.51 - ETA: 2s - loss: 1.1275 - accuracy: 0.51 - ETA: 1s - loss: 1.1232 - accuracy: 0.51 - ETA: 1s - loss: 1.1215 - accuracy: 0.51 - ETA: 1s - loss: 1.1166 - accuracy: 0.52 - ETA: 0s - loss: 1.1153 - accuracy: 0.52 - ETA: 0s - loss: 1.1148 - accuracy: 0.52 - ETA: 0s - loss: 1.1129 - accuracy: 0.52 - ETA: 0s - loss: 1.1128 - accuracy: 0.52 - 36s 361ms/step - loss: 1.1128 - accuracy: 0.5219 - val_loss: 0.9270 - val_accuracy: 0.6335\n",
      "Epoch 2/3\n",
      "84/84 [==============================] - ETA: 26s - loss: 0.9625 - accuracy: 0.687 - ETA: 26s - loss: 1.0044 - accuracy: 0.671 - ETA: 26s - loss: 0.9652 - accuracy: 0.661 - ETA: 26s - loss: 0.9482 - accuracy: 0.648 - ETA: 26s - loss: 0.9361 - accuracy: 0.646 - ETA: 26s - loss: 0.9460 - accuracy: 0.645 - ETA: 26s - loss: 0.9378 - accuracy: 0.640 - ETA: 25s - loss: 0.9209 - accuracy: 0.646 - ETA: 25s - loss: 0.8976 - accuracy: 0.659 - ETA: 25s - loss: 0.9051 - accuracy: 0.653 - ETA: 24s - loss: 0.9026 - accuracy: 0.659 - ETA: 24s - loss: 0.9027 - accuracy: 0.654 - ETA: 24s - loss: 0.8961 - accuracy: 0.659 - ETA: 23s - loss: 0.8907 - accuracy: 0.658 - ETA: 23s - loss: 0.8923 - accuracy: 0.659 - ETA: 22s - loss: 0.8927 - accuracy: 0.659 - ETA: 22s - loss: 0.8953 - accuracy: 0.653 - ETA: 22s - loss: 0.9008 - accuracy: 0.649 - ETA: 21s - loss: 0.9054 - accuracy: 0.647 - ETA: 21s - loss: 0.9015 - accuracy: 0.652 - ETA: 21s - loss: 0.8968 - accuracy: 0.654 - ETA: 20s - loss: 0.8936 - accuracy: 0.657 - ETA: 20s - loss: 0.8936 - accuracy: 0.656 - ETA: 20s - loss: 0.8922 - accuracy: 0.657 - ETA: 19s - loss: 0.8876 - accuracy: 0.661 - ETA: 19s - loss: 0.8819 - accuracy: 0.664 - ETA: 19s - loss: 0.8815 - accuracy: 0.663 - ETA: 18s - loss: 0.8740 - accuracy: 0.669 - ETA: 18s - loss: 0.8760 - accuracy: 0.665 - ETA: 18s - loss: 0.8744 - accuracy: 0.664 - ETA: 17s - loss: 0.8734 - accuracy: 0.664 - ETA: 17s - loss: 0.8722 - accuracy: 0.664 - ETA: 17s - loss: 0.8687 - accuracy: 0.666 - ETA: 16s - loss: 0.8681 - accuracy: 0.667 - ETA: 16s - loss: 0.8706 - accuracy: 0.667 - ETA: 16s - loss: 0.8685 - accuracy: 0.667 - ETA: 15s - loss: 0.8730 - accuracy: 0.665 - ETA: 15s - loss: 0.8689 - accuracy: 0.667 - ETA: 15s - loss: 0.8672 - accuracy: 0.665 - ETA: 14s - loss: 0.8625 - accuracy: 0.667 - ETA: 14s - loss: 0.8571 - accuracy: 0.669 - ETA: 14s - loss: 0.8562 - accuracy: 0.668 - ETA: 13s - loss: 0.8569 - accuracy: 0.669 - ETA: 13s - loss: 0.8575 - accuracy: 0.669 - ETA: 13s - loss: 0.8535 - accuracy: 0.671 - ETA: 12s - loss: 0.8528 - accuracy: 0.671 - ETA: 12s - loss: 0.8558 - accuracy: 0.670 - ETA: 12s - loss: 0.8550 - accuracy: 0.669 - ETA: 11s - loss: 0.8539 - accuracy: 0.669 - ETA: 11s - loss: 0.8558 - accuracy: 0.669 - ETA: 11s - loss: 0.8569 - accuracy: 0.668 - ETA: 10s - loss: 0.8551 - accuracy: 0.670 - ETA: 10s - loss: 0.8530 - accuracy: 0.671 - ETA: 10s - loss: 0.8514 - accuracy: 0.671 - ETA: 9s - loss: 0.8488 - accuracy: 0.673 - ETA: 9s - loss: 0.8485 - accuracy: 0.67 - ETA: 9s - loss: 0.8478 - accuracy: 0.67 - ETA: 8s - loss: 0.8475 - accuracy: 0.67 - ETA: 8s - loss: 0.8444 - accuracy: 0.67 - ETA: 8s - loss: 0.8461 - accuracy: 0.67 - ETA: 7s - loss: 0.8417 - accuracy: 0.67 - ETA: 7s - loss: 0.8433 - accuracy: 0.67 - ETA: 7s - loss: 0.8442 - accuracy: 0.67 - ETA: 6s - loss: 0.8433 - accuracy: 0.67 - ETA: 6s - loss: 0.8427 - accuracy: 0.67 - ETA: 6s - loss: 0.8432 - accuracy: 0.67 - ETA: 5s - loss: 0.8412 - accuracy: 0.67 - ETA: 5s - loss: 0.8452 - accuracy: 0.67 - ETA: 5s - loss: 0.8425 - accuracy: 0.67 - ETA: 4s - loss: 0.8440 - accuracy: 0.67 - ETA: 4s - loss: 0.8448 - accuracy: 0.67 - ETA: 4s - loss: 0.8416 - accuracy: 0.67 - ETA: 3s - loss: 0.8413 - accuracy: 0.67 - ETA: 3s - loss: 0.8408 - accuracy: 0.67 - ETA: 3s - loss: 0.8362 - accuracy: 0.67 - ETA: 2s - loss: 0.8357 - accuracy: 0.67 - ETA: 2s - loss: 0.8374 - accuracy: 0.67 - ETA: 2s - loss: 0.8357 - accuracy: 0.67 - ETA: 1s - loss: 0.8385 - accuracy: 0.67 - ETA: 1s - loss: 0.8372 - accuracy: 0.67 - ETA: 1s - loss: 0.8358 - accuracy: 0.67 - ETA: 0s - loss: 0.8355 - accuracy: 0.67 - ETA: 0s - loss: 0.8337 - accuracy: 0.67 - ETA: 0s - loss: 0.8336 - accuracy: 0.67 - 30s 356ms/step - loss: 0.8336 - accuracy: 0.6770 - val_loss: 0.7785 - val_accuracy: 0.6960\n",
      "Epoch 3/3\n"
     ]
    },
    {
     "name": "stdout",
     "output_type": "stream",
     "text": [
      "84/84 [==============================] - ETA: 27s - loss: 0.7700 - accuracy: 0.718 - ETA: 28s - loss: 0.8084 - accuracy: 0.710 - ETA: 28s - loss: 0.7670 - accuracy: 0.729 - ETA: 27s - loss: 0.7464 - accuracy: 0.734 - ETA: 27s - loss: 0.7416 - accuracy: 0.731 - ETA: 27s - loss: 0.7609 - accuracy: 0.721 - ETA: 26s - loss: 0.7408 - accuracy: 0.725 - ETA: 26s - loss: 0.7249 - accuracy: 0.728 - ETA: 26s - loss: 0.7195 - accuracy: 0.727 - ETA: 25s - loss: 0.7086 - accuracy: 0.732 - ETA: 25s - loss: 0.7018 - accuracy: 0.735 - ETA: 24s - loss: 0.6966 - accuracy: 0.733 - ETA: 24s - loss: 0.6893 - accuracy: 0.735 - ETA: 24s - loss: 0.6805 - accuracy: 0.741 - ETA: 23s - loss: 0.6753 - accuracy: 0.744 - ETA: 23s - loss: 0.6724 - accuracy: 0.747 - ETA: 23s - loss: 0.6801 - accuracy: 0.745 - ETA: 22s - loss: 0.6881 - accuracy: 0.743 - ETA: 22s - loss: 0.6812 - accuracy: 0.745 - ETA: 22s - loss: 0.6857 - accuracy: 0.743 - ETA: 21s - loss: 0.6870 - accuracy: 0.746 - ETA: 21s - loss: 0.6959 - accuracy: 0.740 - ETA: 20s - loss: 0.6927 - accuracy: 0.740 - ETA: 20s - loss: 0.6936 - accuracy: 0.738 - ETA: 20s - loss: 0.6960 - accuracy: 0.738 - ETA: 19s - loss: 0.6936 - accuracy: 0.738 - ETA: 19s - loss: 0.6921 - accuracy: 0.737 - ETA: 19s - loss: 0.6924 - accuracy: 0.737 - ETA: 18s - loss: 0.6972 - accuracy: 0.737 - ETA: 18s - loss: 0.6948 - accuracy: 0.739 - ETA: 18s - loss: 0.6940 - accuracy: 0.738 - ETA: 17s - loss: 0.6967 - accuracy: 0.736 - ETA: 17s - loss: 0.6952 - accuracy: 0.737 - ETA: 17s - loss: 0.7007 - accuracy: 0.733 - ETA: 16s - loss: 0.7039 - accuracy: 0.733 - ETA: 16s - loss: 0.7052 - accuracy: 0.732 - ETA: 16s - loss: 0.7115 - accuracy: 0.728 - ETA: 15s - loss: 0.7121 - accuracy: 0.728 - ETA: 15s - loss: 0.7100 - accuracy: 0.728 - ETA: 15s - loss: 0.7110 - accuracy: 0.728 - ETA: 14s - loss: 0.7122 - accuracy: 0.728 - ETA: 14s - loss: 0.7129 - accuracy: 0.727 - ETA: 14s - loss: 0.7118 - accuracy: 0.727 - ETA: 13s - loss: 0.7132 - accuracy: 0.726 - ETA: 13s - loss: 0.7098 - accuracy: 0.729 - ETA: 12s - loss: 0.7074 - accuracy: 0.730 - ETA: 12s - loss: 0.7029 - accuracy: 0.732 - ETA: 12s - loss: 0.7010 - accuracy: 0.733 - ETA: 11s - loss: 0.7004 - accuracy: 0.734 - ETA: 11s - loss: 0.7014 - accuracy: 0.733 - ETA: 11s - loss: 0.7032 - accuracy: 0.733 - ETA: 10s - loss: 0.7036 - accuracy: 0.733 - ETA: 10s - loss: 0.7021 - accuracy: 0.734 - ETA: 10s - loss: 0.7029 - accuracy: 0.734 - ETA: 9s - loss: 0.7060 - accuracy: 0.733 - ETA: 9s - loss: 0.7052 - accuracy: 0.73 - ETA: 9s - loss: 0.7066 - accuracy: 0.73 - ETA: 8s - loss: 0.7058 - accuracy: 0.73 - ETA: 8s - loss: 0.7071 - accuracy: 0.73 - ETA: 8s - loss: 0.7084 - accuracy: 0.73 - ETA: 7s - loss: 0.7045 - accuracy: 0.73 - ETA: 7s - loss: 0.7054 - accuracy: 0.73 - ETA: 7s - loss: 0.7061 - accuracy: 0.73 - ETA: 6s - loss: 0.7048 - accuracy: 0.73 - ETA: 6s - loss: 0.7051 - accuracy: 0.73 - ETA: 6s - loss: 0.7048 - accuracy: 0.73 - ETA: 5s - loss: 0.7037 - accuracy: 0.73 - ETA: 5s - loss: 0.7033 - accuracy: 0.73 - ETA: 5s - loss: 0.7034 - accuracy: 0.73 - ETA: 4s - loss: 0.7010 - accuracy: 0.73 - ETA: 4s - loss: 0.7027 - accuracy: 0.73 - ETA: 4s - loss: 0.7025 - accuracy: 0.73 - ETA: 3s - loss: 0.7030 - accuracy: 0.73 - ETA: 3s - loss: 0.7026 - accuracy: 0.73 - ETA: 3s - loss: 0.7015 - accuracy: 0.73 - ETA: 2s - loss: 0.7014 - accuracy: 0.73 - ETA: 2s - loss: 0.6994 - accuracy: 0.73 - ETA: 2s - loss: 0.7018 - accuracy: 0.73 - ETA: 1s - loss: 0.7018 - accuracy: 0.73 - ETA: 1s - loss: 0.6996 - accuracy: 0.73 - ETA: 1s - loss: 0.6993 - accuracy: 0.73 - ETA: 0s - loss: 0.6988 - accuracy: 0.73 - ETA: 0s - loss: 0.6969 - accuracy: 0.73 - ETA: 0s - loss: 0.6968 - accuracy: 0.73 - 30s 355ms/step - loss: 0.6968 - accuracy: 0.7384 - val_loss: 0.6334 - val_accuracy: 0.7642\n"
     ]
    },
    {
     "data": {
      "text/html": [
       "<span style=\"color:#4527A0\"><h1 style=\"font-size:18px\">Trial complete</h1></span>"
      ],
      "text/plain": [
       "<IPython.core.display.HTML object>"
      ]
     },
     "metadata": {},
     "output_type": "display_data"
    },
    {
     "data": {
      "text/html": [
       "<span style=\"color:#4527A0\"><h1 style=\"font-size:18px\">Trial summary</h1></span>"
      ],
      "text/plain": [
       "<IPython.core.display.HTML object>"
      ]
     },
     "metadata": {},
     "output_type": "display_data"
    },
    {
     "data": {
      "text/html": [
       "<span style=\"color:#7E57C2\"><h2 style=\"font-size:16px\">Hp values:</h2></span>"
      ],
      "text/plain": [
       "<IPython.core.display.HTML object>"
      ]
     },
     "metadata": {},
     "output_type": "display_data"
    },
    {
     "data": {
      "text/html": [
       "<span style=\"color:cyan\"> |-lstm_1: 100</span>"
      ],
      "text/plain": [
       "<IPython.core.display.HTML object>"
      ]
     },
     "metadata": {},
     "output_type": "display_data"
    },
    {
     "data": {
      "text/html": [
       "<span style=\"color:blue\"> |-lstm_2: 150</span>"
      ],
      "text/plain": [
       "<IPython.core.display.HTML object>"
      ]
     },
     "metadata": {},
     "output_type": "display_data"
    },
    {
     "data": {
      "text/html": [
       "<span style=\"color:cyan\"> |-lstm_3: 25</span>"
      ],
      "text/plain": [
       "<IPython.core.display.HTML object>"
      ]
     },
     "metadata": {},
     "output_type": "display_data"
    },
    {
     "data": {
      "text/html": [
       "<span style=\"color:blue\"> |-tuner/bracket: 2</span>"
      ],
      "text/plain": [
       "<IPython.core.display.HTML object>"
      ]
     },
     "metadata": {},
     "output_type": "display_data"
    },
    {
     "data": {
      "text/html": [
       "<span style=\"color:cyan\"> |-tuner/epochs: 3</span>"
      ],
      "text/plain": [
       "<IPython.core.display.HTML object>"
      ]
     },
     "metadata": {},
     "output_type": "display_data"
    },
    {
     "data": {
      "text/html": [
       "<span style=\"color:blue\"> |-tuner/initial_epoch: 0</span>"
      ],
      "text/plain": [
       "<IPython.core.display.HTML object>"
      ]
     },
     "metadata": {},
     "output_type": "display_data"
    },
    {
     "data": {
      "text/html": [
       "<span style=\"color:cyan\"> |-tuner/round: 0</span>"
      ],
      "text/plain": [
       "<IPython.core.display.HTML object>"
      ]
     },
     "metadata": {},
     "output_type": "display_data"
    },
    {
     "data": {
      "text/html": [
       "<span style=\"color:cyan\"> |-Score: 0.7641618251800537</span>"
      ],
      "text/plain": [
       "<IPython.core.display.HTML object>"
      ]
     },
     "metadata": {},
     "output_type": "display_data"
    },
    {
     "data": {
      "text/html": [
       "<span style=\"color:cyan\"> |-Best step: 0</span>"
      ],
      "text/plain": [
       "<IPython.core.display.HTML object>"
      ]
     },
     "metadata": {},
     "output_type": "display_data"
    },
    {
     "name": "stdout",
     "output_type": "stream",
     "text": [
      "Epoch 1/3\n",
      "84/84 [==============================] - ETA: 8:33 - loss: 1.3903 - accuracy: 0.28 - ETA: 19s - loss: 1.3871 - accuracy: 0.3047 - ETA: 18s - loss: 1.3869 - accuracy: 0.291 - ETA: 18s - loss: 1.3747 - accuracy: 0.335 - ETA: 17s - loss: 1.3717 - accuracy: 0.337 - ETA: 17s - loss: 1.3646 - accuracy: 0.341 - ETA: 17s - loss: 1.3597 - accuracy: 0.354 - ETA: 16s - loss: 1.3568 - accuracy: 0.359 - ETA: 16s - loss: 1.3588 - accuracy: 0.350 - ETA: 16s - loss: 1.3572 - accuracy: 0.354 - ETA: 16s - loss: 1.3577 - accuracy: 0.348 - ETA: 16s - loss: 1.3553 - accuracy: 0.343 - ETA: 15s - loss: 1.3475 - accuracy: 0.348 - ETA: 15s - loss: 1.3440 - accuracy: 0.349 - ETA: 15s - loss: 1.3357 - accuracy: 0.362 - ETA: 15s - loss: 1.3309 - accuracy: 0.363 - ETA: 14s - loss: 1.3235 - accuracy: 0.376 - ETA: 14s - loss: 1.3147 - accuracy: 0.387 - ETA: 14s - loss: 1.3082 - accuracy: 0.393 - ETA: 14s - loss: 1.3016 - accuracy: 0.399 - ETA: 14s - loss: 1.2930 - accuracy: 0.407 - ETA: 13s - loss: 1.2851 - accuracy: 0.410 - ETA: 13s - loss: 1.2793 - accuracy: 0.413 - ETA: 13s - loss: 1.2778 - accuracy: 0.418 - ETA: 13s - loss: 1.2786 - accuracy: 0.417 - ETA: 12s - loss: 1.2769 - accuracy: 0.418 - ETA: 12s - loss: 1.2705 - accuracy: 0.422 - ETA: 12s - loss: 1.2647 - accuracy: 0.426 - ETA: 12s - loss: 1.2635 - accuracy: 0.430 - ETA: 12s - loss: 1.2557 - accuracy: 0.433 - ETA: 11s - loss: 1.2515 - accuracy: 0.436 - ETA: 11s - loss: 1.2449 - accuracy: 0.442 - ETA: 11s - loss: 1.2408 - accuracy: 0.444 - ETA: 11s - loss: 1.2363 - accuracy: 0.447 - ETA: 11s - loss: 1.2305 - accuracy: 0.452 - ETA: 10s - loss: 1.2252 - accuracy: 0.454 - ETA: 10s - loss: 1.2217 - accuracy: 0.454 - ETA: 10s - loss: 1.2195 - accuracy: 0.455 - ETA: 10s - loss: 1.2162 - accuracy: 0.459 - ETA: 9s - loss: 1.2150 - accuracy: 0.460 - ETA: 9s - loss: 1.2106 - accuracy: 0.46 - ETA: 9s - loss: 1.2056 - accuracy: 0.46 - ETA: 9s - loss: 1.2042 - accuracy: 0.46 - ETA: 8s - loss: 1.2048 - accuracy: 0.46 - ETA: 8s - loss: 1.2066 - accuracy: 0.46 - ETA: 8s - loss: 1.2028 - accuracy: 0.47 - ETA: 8s - loss: 1.2016 - accuracy: 0.47 - ETA: 8s - loss: 1.2025 - accuracy: 0.47 - ETA: 7s - loss: 1.2007 - accuracy: 0.47 - ETA: 7s - loss: 1.1999 - accuracy: 0.47 - ETA: 7s - loss: 1.1978 - accuracy: 0.47 - ETA: 7s - loss: 1.1944 - accuracy: 0.48 - ETA: 6s - loss: 1.1894 - accuracy: 0.48 - ETA: 6s - loss: 1.1860 - accuracy: 0.48 - ETA: 6s - loss: 1.1845 - accuracy: 0.48 - ETA: 6s - loss: 1.1823 - accuracy: 0.48 - ETA: 6s - loss: 1.1806 - accuracy: 0.48 - ETA: 5s - loss: 1.1781 - accuracy: 0.49 - ETA: 5s - loss: 1.1746 - accuracy: 0.49 - ETA: 5s - loss: 1.1713 - accuracy: 0.49 - ETA: 5s - loss: 1.1687 - accuracy: 0.49 - ETA: 4s - loss: 1.1652 - accuracy: 0.49 - ETA: 4s - loss: 1.1638 - accuracy: 0.50 - ETA: 4s - loss: 1.1598 - accuracy: 0.50 - ETA: 4s - loss: 1.1565 - accuracy: 0.50 - ETA: 4s - loss: 1.1566 - accuracy: 0.50 - ETA: 3s - loss: 1.1547 - accuracy: 0.50 - ETA: 3s - loss: 1.1526 - accuracy: 0.50 - ETA: 3s - loss: 1.1476 - accuracy: 0.51 - ETA: 3s - loss: 1.1448 - accuracy: 0.51 - ETA: 2s - loss: 1.1440 - accuracy: 0.51 - ETA: 2s - loss: 1.1413 - accuracy: 0.51 - ETA: 2s - loss: 1.1390 - accuracy: 0.51 - ETA: 2s - loss: 1.1355 - accuracy: 0.51 - ETA: 2s - loss: 1.1298 - accuracy: 0.52 - ETA: 1s - loss: 1.1260 - accuracy: 0.52 - ETA: 1s - loss: 1.1234 - accuracy: 0.52 - ETA: 1s - loss: 1.1198 - accuracy: 0.52 - ETA: 1s - loss: 1.1177 - accuracy: 0.52 - ETA: 0s - loss: 1.1165 - accuracy: 0.52 - ETA: 0s - loss: 1.1155 - accuracy: 0.52 - ETA: 0s - loss: 1.1154 - accuracy: 0.52 - ETA: 0s - loss: 1.1141 - accuracy: 0.52 - ETA: 0s - loss: 1.1142 - accuracy: 0.52 - 28s 258ms/step - loss: 1.1142 - accuracy: 0.5291 - val_loss: 0.9005 - val_accuracy: 0.6439\n",
      "Epoch 2/3\n",
      "84/84 [==============================] - ETA: 18s - loss: 0.7667 - accuracy: 0.750 - ETA: 18s - loss: 0.8003 - accuracy: 0.695 - ETA: 18s - loss: 0.8378 - accuracy: 0.651 - ETA: 18s - loss: 0.8350 - accuracy: 0.660 - ETA: 17s - loss: 0.8212 - accuracy: 0.675 - ETA: 17s - loss: 0.8500 - accuracy: 0.661 - ETA: 17s - loss: 0.8985 - accuracy: 0.647 - ETA: 17s - loss: 0.9052 - accuracy: 0.642 - ETA: 17s - loss: 0.8980 - accuracy: 0.644 - ETA: 16s - loss: 0.9137 - accuracy: 0.634 - ETA: 16s - loss: 0.9134 - accuracy: 0.636 - ETA: 16s - loss: 0.9138 - accuracy: 0.641 - ETA: 16s - loss: 0.9091 - accuracy: 0.646 - ETA: 16s - loss: 0.9057 - accuracy: 0.647 - ETA: 15s - loss: 0.9118 - accuracy: 0.641 - ETA: 15s - loss: 0.9169 - accuracy: 0.638 - ETA: 15s - loss: 0.9272 - accuracy: 0.632 - ETA: 15s - loss: 0.9247 - accuracy: 0.635 - ETA: 14s - loss: 0.9218 - accuracy: 0.632 - ETA: 14s - loss: 0.9146 - accuracy: 0.635 - ETA: 14s - loss: 0.9229 - accuracy: 0.633 - ETA: 14s - loss: 0.9176 - accuracy: 0.636 - ETA: 14s - loss: 0.9220 - accuracy: 0.633 - ETA: 13s - loss: 0.9189 - accuracy: 0.636 - ETA: 13s - loss: 0.9206 - accuracy: 0.633 - ETA: 13s - loss: 0.9136 - accuracy: 0.638 - ETA: 13s - loss: 0.9140 - accuracy: 0.638 - ETA: 12s - loss: 0.9141 - accuracy: 0.636 - ETA: 12s - loss: 0.9132 - accuracy: 0.638 - ETA: 12s - loss: 0.9109 - accuracy: 0.639 - ETA: 12s - loss: 0.9117 - accuracy: 0.637 - ETA: 12s - loss: 0.9117 - accuracy: 0.637 - ETA: 11s - loss: 0.9103 - accuracy: 0.638 - ETA: 11s - loss: 0.9069 - accuracy: 0.641 - ETA: 11s - loss: 0.9046 - accuracy: 0.642 - ETA: 11s - loss: 0.9050 - accuracy: 0.643 - ETA: 10s - loss: 0.9008 - accuracy: 0.645 - ETA: 10s - loss: 0.8938 - accuracy: 0.651 - ETA: 10s - loss: 0.8886 - accuracy: 0.653 - ETA: 10s - loss: 0.8858 - accuracy: 0.654 - ETA: 9s - loss: 0.8799 - accuracy: 0.655 - ETA: 9s - loss: 0.8766 - accuracy: 0.65 - ETA: 9s - loss: 0.8720 - accuracy: 0.65 - ETA: 9s - loss: 0.8698 - accuracy: 0.66 - ETA: 9s - loss: 0.8673 - accuracy: 0.66 - ETA: 8s - loss: 0.8627 - accuracy: 0.66 - ETA: 8s - loss: 0.8575 - accuracy: 0.66 - ETA: 8s - loss: 0.8577 - accuracy: 0.66 - ETA: 8s - loss: 0.8544 - accuracy: 0.66 - ETA: 7s - loss: 0.8557 - accuracy: 0.66 - ETA: 7s - loss: 0.8535 - accuracy: 0.66 - ETA: 7s - loss: 0.8562 - accuracy: 0.66 - ETA: 7s - loss: 0.8568 - accuracy: 0.66 - ETA: 6s - loss: 0.8574 - accuracy: 0.66 - ETA: 6s - loss: 0.8547 - accuracy: 0.66 - ETA: 6s - loss: 0.8539 - accuracy: 0.66 - ETA: 6s - loss: 0.8564 - accuracy: 0.66 - ETA: 6s - loss: 0.8535 - accuracy: 0.66 - ETA: 5s - loss: 0.8536 - accuracy: 0.66 - ETA: 5s - loss: 0.8541 - accuracy: 0.66 - ETA: 5s - loss: 0.8566 - accuracy: 0.66 - ETA: 5s - loss: 0.8533 - accuracy: 0.66 - ETA: 4s - loss: 0.8522 - accuracy: 0.66 - ETA: 4s - loss: 0.8532 - accuracy: 0.66 - ETA: 4s - loss: 0.8513 - accuracy: 0.66 - ETA: 4s - loss: 0.8516 - accuracy: 0.66 - ETA: 3s - loss: 0.8537 - accuracy: 0.66 - ETA: 3s - loss: 0.8525 - accuracy: 0.66 - ETA: 3s - loss: 0.8527 - accuracy: 0.66 - ETA: 3s - loss: 0.8517 - accuracy: 0.66 - ETA: 3s - loss: 0.8509 - accuracy: 0.66 - ETA: 2s - loss: 0.8490 - accuracy: 0.66 - ETA: 2s - loss: 0.8490 - accuracy: 0.66 - ETA: 2s - loss: 0.8505 - accuracy: 0.66 - ETA: 2s - loss: 0.8488 - accuracy: 0.66 - ETA: 1s - loss: 0.8486 - accuracy: 0.66 - ETA: 1s - loss: 0.8462 - accuracy: 0.66 - ETA: 1s - loss: 0.8453 - accuracy: 0.66 - ETA: 1s - loss: 0.8444 - accuracy: 0.66 - ETA: 0s - loss: 0.8439 - accuracy: 0.67 - ETA: 0s - loss: 0.8434 - accuracy: 0.66 - ETA: 0s - loss: 0.8426 - accuracy: 0.67 - ETA: 0s - loss: 0.8428 - accuracy: 0.66 - ETA: 0s - loss: 0.8428 - accuracy: 0.66 - 21s 246ms/step - loss: 0.8428 - accuracy: 0.6697 - val_loss: 0.7458 - val_accuracy: 0.7133\n",
      "Epoch 3/3\n"
     ]
    },
    {
     "name": "stdout",
     "output_type": "stream",
     "text": [
      "84/84 [==============================] - ETA: 19s - loss: 0.5623 - accuracy: 0.828 - ETA: 19s - loss: 0.5960 - accuracy: 0.812 - ETA: 18s - loss: 0.7115 - accuracy: 0.724 - ETA: 18s - loss: 0.7096 - accuracy: 0.726 - ETA: 18s - loss: 0.7278 - accuracy: 0.715 - ETA: 18s - loss: 0.7400 - accuracy: 0.718 - ETA: 18s - loss: 0.7280 - accuracy: 0.732 - ETA: 17s - loss: 0.7452 - accuracy: 0.716 - ETA: 17s - loss: 0.7392 - accuracy: 0.713 - ETA: 17s - loss: 0.7416 - accuracy: 0.714 - ETA: 17s - loss: 0.7389 - accuracy: 0.717 - ETA: 16s - loss: 0.7348 - accuracy: 0.720 - ETA: 16s - loss: 0.7249 - accuracy: 0.723 - ETA: 16s - loss: 0.7178 - accuracy: 0.727 - ETA: 16s - loss: 0.7134 - accuracy: 0.730 - ETA: 15s - loss: 0.7136 - accuracy: 0.730 - ETA: 15s - loss: 0.7088 - accuracy: 0.732 - ETA: 15s - loss: 0.6980 - accuracy: 0.737 - ETA: 15s - loss: 0.6927 - accuracy: 0.740 - ETA: 15s - loss: 0.6950 - accuracy: 0.739 - ETA: 14s - loss: 0.6940 - accuracy: 0.740 - ETA: 14s - loss: 0.6949 - accuracy: 0.739 - ETA: 14s - loss: 0.6988 - accuracy: 0.737 - ETA: 14s - loss: 0.6968 - accuracy: 0.737 - ETA: 13s - loss: 0.6986 - accuracy: 0.737 - ETA: 13s - loss: 0.7041 - accuracy: 0.735 - ETA: 13s - loss: 0.6981 - accuracy: 0.737 - ETA: 13s - loss: 0.6983 - accuracy: 0.737 - ETA: 12s - loss: 0.6965 - accuracy: 0.737 - ETA: 12s - loss: 0.6996 - accuracy: 0.735 - ETA: 12s - loss: 0.6981 - accuracy: 0.736 - ETA: 12s - loss: 0.6941 - accuracy: 0.739 - ETA: 11s - loss: 0.6910 - accuracy: 0.742 - ETA: 11s - loss: 0.6892 - accuracy: 0.742 - ETA: 11s - loss: 0.6895 - accuracy: 0.742 - ETA: 11s - loss: 0.6898 - accuracy: 0.740 - ETA: 10s - loss: 0.6951 - accuracy: 0.738 - ETA: 10s - loss: 0.6969 - accuracy: 0.737 - ETA: 10s - loss: 0.6941 - accuracy: 0.738 - ETA: 10s - loss: 0.6954 - accuracy: 0.737 - ETA: 9s - loss: 0.6938 - accuracy: 0.738 - ETA: 9s - loss: 0.6948 - accuracy: 0.73 - ETA: 9s - loss: 0.6957 - accuracy: 0.73 - ETA: 9s - loss: 0.6961 - accuracy: 0.73 - ETA: 9s - loss: 0.6962 - accuracy: 0.73 - ETA: 8s - loss: 0.6979 - accuracy: 0.73 - ETA: 8s - loss: 0.6962 - accuracy: 0.73 - ETA: 8s - loss: 0.6955 - accuracy: 0.73 - ETA: 8s - loss: 0.6918 - accuracy: 0.73 - ETA: 7s - loss: 0.6895 - accuracy: 0.73 - ETA: 7s - loss: 0.6899 - accuracy: 0.73 - ETA: 7s - loss: 0.6902 - accuracy: 0.73 - ETA: 7s - loss: 0.6890 - accuracy: 0.73 - ETA: 6s - loss: 0.6902 - accuracy: 0.73 - ETA: 6s - loss: 0.6926 - accuracy: 0.73 - ETA: 6s - loss: 0.6948 - accuracy: 0.73 - ETA: 6s - loss: 0.6912 - accuracy: 0.73 - ETA: 6s - loss: 0.6911 - accuracy: 0.73 - ETA: 5s - loss: 0.6914 - accuracy: 0.73 - ETA: 5s - loss: 0.6940 - accuracy: 0.73 - ETA: 5s - loss: 0.6943 - accuracy: 0.73 - ETA: 5s - loss: 0.6950 - accuracy: 0.73 - ETA: 4s - loss: 0.6960 - accuracy: 0.73 - ETA: 4s - loss: 0.6987 - accuracy: 0.73 - ETA: 4s - loss: 0.6979 - accuracy: 0.73 - ETA: 4s - loss: 0.6983 - accuracy: 0.73 - ETA: 3s - loss: 0.7001 - accuracy: 0.73 - ETA: 3s - loss: 0.6987 - accuracy: 0.73 - ETA: 3s - loss: 0.6999 - accuracy: 0.73 - ETA: 3s - loss: 0.7016 - accuracy: 0.73 - ETA: 3s - loss: 0.7045 - accuracy: 0.72 - ETA: 2s - loss: 0.7037 - accuracy: 0.72 - ETA: 2s - loss: 0.7020 - accuracy: 0.73 - ETA: 2s - loss: 0.7014 - accuracy: 0.73 - ETA: 2s - loss: 0.7019 - accuracy: 0.73 - ETA: 1s - loss: 0.7005 - accuracy: 0.73 - ETA: 1s - loss: 0.6989 - accuracy: 0.73 - ETA: 1s - loss: 0.7000 - accuracy: 0.73 - ETA: 1s - loss: 0.7004 - accuracy: 0.73 - ETA: 0s - loss: 0.7003 - accuracy: 0.73 - ETA: 0s - loss: 0.7004 - accuracy: 0.73 - ETA: 0s - loss: 0.7008 - accuracy: 0.73 - ETA: 0s - loss: 0.7005 - accuracy: 0.73 - ETA: 0s - loss: 0.7006 - accuracy: 0.73 - 20s 244ms/step - loss: 0.7006 - accuracy: 0.7320 - val_loss: 0.6904 - val_accuracy: 0.7399\n"
     ]
    },
    {
     "data": {
      "text/html": [
       "<span style=\"color:#4527A0\"><h1 style=\"font-size:18px\">Trial complete</h1></span>"
      ],
      "text/plain": [
       "<IPython.core.display.HTML object>"
      ]
     },
     "metadata": {},
     "output_type": "display_data"
    },
    {
     "data": {
      "text/html": [
       "<span style=\"color:#4527A0\"><h1 style=\"font-size:18px\">Trial summary</h1></span>"
      ],
      "text/plain": [
       "<IPython.core.display.HTML object>"
      ]
     },
     "metadata": {},
     "output_type": "display_data"
    },
    {
     "data": {
      "text/html": [
       "<span style=\"color:#7E57C2\"><h2 style=\"font-size:16px\">Hp values:</h2></span>"
      ],
      "text/plain": [
       "<IPython.core.display.HTML object>"
      ]
     },
     "metadata": {},
     "output_type": "display_data"
    },
    {
     "data": {
      "text/html": [
       "<span style=\"color:cyan\"> |-lstm_1: 100</span>"
      ],
      "text/plain": [
       "<IPython.core.display.HTML object>"
      ]
     },
     "metadata": {},
     "output_type": "display_data"
    },
    {
     "data": {
      "text/html": [
       "<span style=\"color:blue\"> |-lstm_2: 100</span>"
      ],
      "text/plain": [
       "<IPython.core.display.HTML object>"
      ]
     },
     "metadata": {},
     "output_type": "display_data"
    },
    {
     "data": {
      "text/html": [
       "<span style=\"color:cyan\"> |-lstm_3: 25</span>"
      ],
      "text/plain": [
       "<IPython.core.display.HTML object>"
      ]
     },
     "metadata": {},
     "output_type": "display_data"
    },
    {
     "data": {
      "text/html": [
       "<span style=\"color:blue\"> |-tuner/bracket: 2</span>"
      ],
      "text/plain": [
       "<IPython.core.display.HTML object>"
      ]
     },
     "metadata": {},
     "output_type": "display_data"
    },
    {
     "data": {
      "text/html": [
       "<span style=\"color:cyan\"> |-tuner/epochs: 3</span>"
      ],
      "text/plain": [
       "<IPython.core.display.HTML object>"
      ]
     },
     "metadata": {},
     "output_type": "display_data"
    },
    {
     "data": {
      "text/html": [
       "<span style=\"color:blue\"> |-tuner/initial_epoch: 0</span>"
      ],
      "text/plain": [
       "<IPython.core.display.HTML object>"
      ]
     },
     "metadata": {},
     "output_type": "display_data"
    },
    {
     "data": {
      "text/html": [
       "<span style=\"color:cyan\"> |-tuner/round: 0</span>"
      ],
      "text/plain": [
       "<IPython.core.display.HTML object>"
      ]
     },
     "metadata": {},
     "output_type": "display_data"
    },
    {
     "data": {
      "text/html": [
       "<span style=\"color:cyan\"> |-Score: 0.7398843765258789</span>"
      ],
      "text/plain": [
       "<IPython.core.display.HTML object>"
      ]
     },
     "metadata": {},
     "output_type": "display_data"
    },
    {
     "data": {
      "text/html": [
       "<span style=\"color:cyan\"> |-Best step: 0</span>"
      ],
      "text/plain": [
       "<IPython.core.display.HTML object>"
      ]
     },
     "metadata": {},
     "output_type": "display_data"
    },
    {
     "name": "stdout",
     "output_type": "stream",
     "text": [
      "Epoch 1/3\n",
      "84/84 [==============================] - ETA: 8:31 - loss: 1.4070 - accuracy: 0.25 - ETA: 15s - loss: 1.3953 - accuracy: 0.2500 - ETA: 15s - loss: 1.3784 - accuracy: 0.307 - ETA: 14s - loss: 1.3756 - accuracy: 0.308 - ETA: 14s - loss: 1.3790 - accuracy: 0.296 - ETA: 14s - loss: 1.3726 - accuracy: 0.307 - ETA: 14s - loss: 1.3650 - accuracy: 0.319 - ETA: 14s - loss: 1.3692 - accuracy: 0.312 - ETA: 13s - loss: 1.3590 - accuracy: 0.324 - ETA: 13s - loss: 1.3563 - accuracy: 0.329 - ETA: 13s - loss: 1.3479 - accuracy: 0.338 - ETA: 13s - loss: 1.3469 - accuracy: 0.338 - ETA: 13s - loss: 1.3481 - accuracy: 0.336 - ETA: 12s - loss: 1.3495 - accuracy: 0.335 - ETA: 12s - loss: 1.3479 - accuracy: 0.334 - ETA: 12s - loss: 1.3438 - accuracy: 0.339 - ETA: 12s - loss: 1.3402 - accuracy: 0.350 - ETA: 12s - loss: 1.3389 - accuracy: 0.354 - ETA: 11s - loss: 1.3329 - accuracy: 0.368 - ETA: 11s - loss: 1.3306 - accuracy: 0.371 - ETA: 11s - loss: 1.3301 - accuracy: 0.371 - ETA: 11s - loss: 1.3293 - accuracy: 0.372 - ETA: 11s - loss: 1.3265 - accuracy: 0.371 - ETA: 10s - loss: 1.3244 - accuracy: 0.373 - ETA: 10s - loss: 1.3208 - accuracy: 0.373 - ETA: 10s - loss: 1.3149 - accuracy: 0.377 - ETA: 10s - loss: 1.3108 - accuracy: 0.379 - ETA: 10s - loss: 1.3056 - accuracy: 0.384 - ETA: 10s - loss: 1.2986 - accuracy: 0.387 - ETA: 9s - loss: 1.2925 - accuracy: 0.395 - ETA: 9s - loss: 1.2878 - accuracy: 0.40 - ETA: 9s - loss: 1.2845 - accuracy: 0.40 - ETA: 9s - loss: 1.2821 - accuracy: 0.40 - ETA: 9s - loss: 1.2799 - accuracy: 0.40 - ETA: 9s - loss: 1.2767 - accuracy: 0.40 - ETA: 8s - loss: 1.2724 - accuracy: 0.41 - ETA: 8s - loss: 1.2675 - accuracy: 0.41 - ETA: 8s - loss: 1.2651 - accuracy: 0.41 - ETA: 8s - loss: 1.2617 - accuracy: 0.42 - ETA: 8s - loss: 1.2546 - accuracy: 0.42 - ETA: 8s - loss: 1.2520 - accuracy: 0.42 - ETA: 7s - loss: 1.2460 - accuracy: 0.43 - ETA: 7s - loss: 1.2416 - accuracy: 0.43 - ETA: 7s - loss: 1.2378 - accuracy: 0.43 - ETA: 7s - loss: 1.2320 - accuracy: 0.44 - ETA: 7s - loss: 1.2293 - accuracy: 0.44 - ETA: 7s - loss: 1.2271 - accuracy: 0.44 - ETA: 6s - loss: 1.2240 - accuracy: 0.44 - ETA: 6s - loss: 1.2191 - accuracy: 0.44 - ETA: 6s - loss: 1.2167 - accuracy: 0.45 - ETA: 6s - loss: 1.2133 - accuracy: 0.45 - ETA: 6s - loss: 1.2107 - accuracy: 0.45 - ETA: 6s - loss: 1.2082 - accuracy: 0.45 - ETA: 5s - loss: 1.2074 - accuracy: 0.45 - ETA: 5s - loss: 1.2052 - accuracy: 0.45 - ETA: 5s - loss: 1.2013 - accuracy: 0.46 - ETA: 5s - loss: 1.1958 - accuracy: 0.46 - ETA: 5s - loss: 1.1931 - accuracy: 0.46 - ETA: 4s - loss: 1.1912 - accuracy: 0.46 - ETA: 4s - loss: 1.1889 - accuracy: 0.46 - ETA: 4s - loss: 1.1888 - accuracy: 0.46 - ETA: 4s - loss: 1.1858 - accuracy: 0.47 - ETA: 4s - loss: 1.1823 - accuracy: 0.47 - ETA: 3s - loss: 1.1789 - accuracy: 0.47 - ETA: 3s - loss: 1.1753 - accuracy: 0.47 - ETA: 3s - loss: 1.1723 - accuracy: 0.47 - ETA: 3s - loss: 1.1704 - accuracy: 0.47 - ETA: 3s - loss: 1.1678 - accuracy: 0.48 - ETA: 2s - loss: 1.1681 - accuracy: 0.48 - ETA: 2s - loss: 1.1668 - accuracy: 0.48 - ETA: 2s - loss: 1.1631 - accuracy: 0.48 - ETA: 2s - loss: 1.1593 - accuracy: 0.48 - ETA: 2s - loss: 1.1569 - accuracy: 0.49 - ETA: 1s - loss: 1.1555 - accuracy: 0.49 - ETA: 1s - loss: 1.1522 - accuracy: 0.49 - ETA: 1s - loss: 1.1504 - accuracy: 0.49 - ETA: 1s - loss: 1.1488 - accuracy: 0.49 - ETA: 1s - loss: 1.1449 - accuracy: 0.49 - ETA: 1s - loss: 1.1412 - accuracy: 0.49 - ETA: 0s - loss: 1.1395 - accuracy: 0.50 - ETA: 0s - loss: 1.1370 - accuracy: 0.50 - ETA: 0s - loss: 1.1348 - accuracy: 0.50 - ETA: 0s - loss: 1.1339 - accuracy: 0.50 - ETA: 0s - loss: 1.1337 - accuracy: 0.50 - 25s 230ms/step - loss: 1.1337 - accuracy: 0.5044 - val_loss: 0.9080 - val_accuracy: 0.6266\n",
      "Epoch 2/3\n",
      "84/84 [==============================] - ETA: 15s - loss: 1.1163 - accuracy: 0.562 - ETA: 15s - loss: 0.9406 - accuracy: 0.632 - ETA: 15s - loss: 0.8806 - accuracy: 0.651 - ETA: 15s - loss: 0.9395 - accuracy: 0.636 - ETA: 15s - loss: 0.9032 - accuracy: 0.665 - ETA: 15s - loss: 0.9107 - accuracy: 0.658 - ETA: 15s - loss: 0.8985 - accuracy: 0.658 - ETA: 14s - loss: 0.8877 - accuracy: 0.660 - ETA: 14s - loss: 0.8891 - accuracy: 0.663 - ETA: 14s - loss: 0.8773 - accuracy: 0.667 - ETA: 14s - loss: 0.8737 - accuracy: 0.666 - ETA: 14s - loss: 0.8666 - accuracy: 0.668 - ETA: 13s - loss: 0.8613 - accuracy: 0.673 - ETA: 13s - loss: 0.8647 - accuracy: 0.671 - ETA: 13s - loss: 0.8667 - accuracy: 0.669 - ETA: 13s - loss: 0.8603 - accuracy: 0.670 - ETA: 13s - loss: 0.8546 - accuracy: 0.673 - ETA: 12s - loss: 0.8550 - accuracy: 0.669 - ETA: 12s - loss: 0.8449 - accuracy: 0.670 - ETA: 12s - loss: 0.8416 - accuracy: 0.671 - ETA: 12s - loss: 0.8437 - accuracy: 0.671 - ETA: 12s - loss: 0.8566 - accuracy: 0.668 - ETA: 12s - loss: 0.8619 - accuracy: 0.666 - ETA: 11s - loss: 0.8584 - accuracy: 0.666 - ETA: 11s - loss: 0.8532 - accuracy: 0.668 - ETA: 11s - loss: 0.8557 - accuracy: 0.669 - ETA: 11s - loss: 0.8524 - accuracy: 0.672 - ETA: 11s - loss: 0.8511 - accuracy: 0.673 - ETA: 10s - loss: 0.8546 - accuracy: 0.671 - ETA: 10s - loss: 0.8540 - accuracy: 0.670 - ETA: 10s - loss: 0.8507 - accuracy: 0.672 - ETA: 10s - loss: 0.8557 - accuracy: 0.670 - ETA: 10s - loss: 0.8544 - accuracy: 0.670 - ETA: 9s - loss: 0.8543 - accuracy: 0.670 - ETA: 9s - loss: 0.8497 - accuracy: 0.67 - ETA: 9s - loss: 0.8476 - accuracy: 0.67 - ETA: 9s - loss: 0.8455 - accuracy: 0.67 - ETA: 9s - loss: 0.8452 - accuracy: 0.67 - ETA: 8s - loss: 0.8445 - accuracy: 0.67 - ETA: 8s - loss: 0.8408 - accuracy: 0.67 - ETA: 8s - loss: 0.8382 - accuracy: 0.67 - ETA: 8s - loss: 0.8365 - accuracy: 0.67 - ETA: 8s - loss: 0.8345 - accuracy: 0.67 - ETA: 7s - loss: 0.8378 - accuracy: 0.67 - ETA: 7s - loss: 0.8369 - accuracy: 0.67 - ETA: 7s - loss: 0.8409 - accuracy: 0.67 - ETA: 7s - loss: 0.8394 - accuracy: 0.67 - ETA: 7s - loss: 0.8402 - accuracy: 0.67 - ETA: 6s - loss: 0.8353 - accuracy: 0.67 - ETA: 6s - loss: 0.8343 - accuracy: 0.67 - ETA: 6s - loss: 0.8341 - accuracy: 0.67 - ETA: 6s - loss: 0.8314 - accuracy: 0.67 - ETA: 6s - loss: 0.8332 - accuracy: 0.67 - ETA: 5s - loss: 0.8323 - accuracy: 0.67 - ETA: 5s - loss: 0.8281 - accuracy: 0.67 - ETA: 5s - loss: 0.8308 - accuracy: 0.67 - ETA: 5s - loss: 0.8282 - accuracy: 0.67 - ETA: 5s - loss: 0.8266 - accuracy: 0.67 - ETA: 4s - loss: 0.8253 - accuracy: 0.67 - ETA: 4s - loss: 0.8233 - accuracy: 0.67 - ETA: 4s - loss: 0.8258 - accuracy: 0.67 - ETA: 4s - loss: 0.8231 - accuracy: 0.67 - ETA: 4s - loss: 0.8207 - accuracy: 0.68 - ETA: 3s - loss: 0.8200 - accuracy: 0.68 - ETA: 3s - loss: 0.8192 - accuracy: 0.68 - ETA: 3s - loss: 0.8188 - accuracy: 0.68 - ETA: 3s - loss: 0.8178 - accuracy: 0.68 - ETA: 3s - loss: 0.8150 - accuracy: 0.68 - ETA: 2s - loss: 0.8150 - accuracy: 0.68 - ETA: 2s - loss: 0.8159 - accuracy: 0.68 - ETA: 2s - loss: 0.8145 - accuracy: 0.68 - ETA: 2s - loss: 0.8157 - accuracy: 0.68 - ETA: 2s - loss: 0.8163 - accuracy: 0.68 - ETA: 1s - loss: 0.8137 - accuracy: 0.68 - ETA: 1s - loss: 0.8132 - accuracy: 0.68 - ETA: 1s - loss: 0.8124 - accuracy: 0.68 - ETA: 1s - loss: 0.8136 - accuracy: 0.68 - ETA: 1s - loss: 0.8152 - accuracy: 0.68 - ETA: 0s - loss: 0.8145 - accuracy: 0.68 - ETA: 0s - loss: 0.8144 - accuracy: 0.68 - ETA: 0s - loss: 0.8117 - accuracy: 0.68 - ETA: 0s - loss: 0.8101 - accuracy: 0.68 - ETA: 0s - loss: 0.8086 - accuracy: 0.68 - ETA: 0s - loss: 0.8086 - accuracy: 0.68 - 18s 210ms/step - loss: 0.8086 - accuracy: 0.6877 - val_loss: 0.7102 - val_accuracy: 0.7376\n",
      "Epoch 3/3\n"
     ]
    },
    {
     "name": "stdout",
     "output_type": "stream",
     "text": [
      "84/84 [==============================] - ETA: 16s - loss: 0.6137 - accuracy: 0.781 - ETA: 16s - loss: 0.5349 - accuracy: 0.820 - ETA: 16s - loss: 0.6272 - accuracy: 0.786 - ETA: 16s - loss: 0.6984 - accuracy: 0.753 - ETA: 15s - loss: 0.7399 - accuracy: 0.743 - ETA: 15s - loss: 0.7314 - accuracy: 0.744 - ETA: 15s - loss: 0.7266 - accuracy: 0.750 - ETA: 15s - loss: 0.7068 - accuracy: 0.757 - ETA: 14s - loss: 0.7033 - accuracy: 0.756 - ETA: 14s - loss: 0.7134 - accuracy: 0.746 - ETA: 14s - loss: 0.7101 - accuracy: 0.744 - ETA: 14s - loss: 0.7061 - accuracy: 0.744 - ETA: 14s - loss: 0.7106 - accuracy: 0.742 - ETA: 13s - loss: 0.7178 - accuracy: 0.736 - ETA: 13s - loss: 0.7159 - accuracy: 0.732 - ETA: 13s - loss: 0.7244 - accuracy: 0.728 - ETA: 13s - loss: 0.7275 - accuracy: 0.727 - ETA: 13s - loss: 0.7405 - accuracy: 0.724 - ETA: 13s - loss: 0.7303 - accuracy: 0.729 - ETA: 12s - loss: 0.7319 - accuracy: 0.727 - ETA: 12s - loss: 0.7229 - accuracy: 0.731 - ETA: 12s - loss: 0.7205 - accuracy: 0.730 - ETA: 12s - loss: 0.7217 - accuracy: 0.730 - ETA: 12s - loss: 0.7165 - accuracy: 0.732 - ETA: 12s - loss: 0.7169 - accuracy: 0.732 - ETA: 12s - loss: 0.7112 - accuracy: 0.736 - ETA: 11s - loss: 0.7109 - accuracy: 0.736 - ETA: 11s - loss: 0.7057 - accuracy: 0.738 - ETA: 11s - loss: 0.7135 - accuracy: 0.736 - ETA: 11s - loss: 0.7187 - accuracy: 0.731 - ETA: 11s - loss: 0.7152 - accuracy: 0.732 - ETA: 10s - loss: 0.7166 - accuracy: 0.731 - ETA: 10s - loss: 0.7215 - accuracy: 0.728 - ETA: 10s - loss: 0.7187 - accuracy: 0.730 - ETA: 10s - loss: 0.7226 - accuracy: 0.729 - ETA: 10s - loss: 0.7245 - accuracy: 0.728 - ETA: 9s - loss: 0.7264 - accuracy: 0.727 - ETA: 9s - loss: 0.7189 - accuracy: 0.73 - ETA: 9s - loss: 0.7237 - accuracy: 0.72 - ETA: 9s - loss: 0.7260 - accuracy: 0.72 - ETA: 8s - loss: 0.7271 - accuracy: 0.72 - ETA: 8s - loss: 0.7294 - accuracy: 0.72 - ETA: 8s - loss: 0.7291 - accuracy: 0.72 - ETA: 8s - loss: 0.7285 - accuracy: 0.72 - ETA: 8s - loss: 0.7256 - accuracy: 0.72 - ETA: 7s - loss: 0.7286 - accuracy: 0.72 - ETA: 7s - loss: 0.7282 - accuracy: 0.72 - ETA: 7s - loss: 0.7253 - accuracy: 0.72 - ETA: 7s - loss: 0.7244 - accuracy: 0.72 - ETA: 6s - loss: 0.7247 - accuracy: 0.73 - ETA: 6s - loss: 0.7260 - accuracy: 0.72 - ETA: 6s - loss: 0.7238 - accuracy: 0.73 - ETA: 6s - loss: 0.7214 - accuracy: 0.73 - ETA: 6s - loss: 0.7205 - accuracy: 0.73 - ETA: 5s - loss: 0.7212 - accuracy: 0.73 - ETA: 5s - loss: 0.7201 - accuracy: 0.73 - ETA: 5s - loss: 0.7207 - accuracy: 0.73 - ETA: 5s - loss: 0.7208 - accuracy: 0.73 - ETA: 5s - loss: 0.7187 - accuracy: 0.73 - ETA: 4s - loss: 0.7186 - accuracy: 0.73 - ETA: 4s - loss: 0.7152 - accuracy: 0.73 - ETA: 4s - loss: 0.7138 - accuracy: 0.73 - ETA: 4s - loss: 0.7138 - accuracy: 0.73 - ETA: 4s - loss: 0.7135 - accuracy: 0.73 - ETA: 3s - loss: 0.7135 - accuracy: 0.73 - ETA: 3s - loss: 0.7102 - accuracy: 0.73 - ETA: 3s - loss: 0.7109 - accuracy: 0.73 - ETA: 3s - loss: 0.7093 - accuracy: 0.73 - ETA: 3s - loss: 0.7084 - accuracy: 0.73 - ETA: 2s - loss: 0.7096 - accuracy: 0.73 - ETA: 2s - loss: 0.7070 - accuracy: 0.73 - ETA: 2s - loss: 0.7057 - accuracy: 0.73 - ETA: 2s - loss: 0.7053 - accuracy: 0.73 - ETA: 2s - loss: 0.7050 - accuracy: 0.73 - ETA: 1s - loss: 0.7051 - accuracy: 0.73 - ETA: 1s - loss: 0.7036 - accuracy: 0.73 - ETA: 1s - loss: 0.7000 - accuracy: 0.73 - ETA: 1s - loss: 0.7008 - accuracy: 0.73 - ETA: 1s - loss: 0.6999 - accuracy: 0.73 - ETA: 0s - loss: 0.7011 - accuracy: 0.73 - ETA: 0s - loss: 0.7005 - accuracy: 0.73 - ETA: 0s - loss: 0.7002 - accuracy: 0.73 - ETA: 0s - loss: 0.6990 - accuracy: 0.73 - ETA: 0s - loss: 0.6989 - accuracy: 0.73 - 18s 212ms/step - loss: 0.6989 - accuracy: 0.7361 - val_loss: 0.6409 - val_accuracy: 0.7491\n"
     ]
    },
    {
     "data": {
      "text/html": [
       "<span style=\"color:#4527A0\"><h1 style=\"font-size:18px\">Trial complete</h1></span>"
      ],
      "text/plain": [
       "<IPython.core.display.HTML object>"
      ]
     },
     "metadata": {},
     "output_type": "display_data"
    },
    {
     "data": {
      "text/html": [
       "<span style=\"color:#4527A0\"><h1 style=\"font-size:18px\">Trial summary</h1></span>"
      ],
      "text/plain": [
       "<IPython.core.display.HTML object>"
      ]
     },
     "metadata": {},
     "output_type": "display_data"
    },
    {
     "data": {
      "text/html": [
       "<span style=\"color:#7E57C2\"><h2 style=\"font-size:16px\">Hp values:</h2></span>"
      ],
      "text/plain": [
       "<IPython.core.display.HTML object>"
      ]
     },
     "metadata": {},
     "output_type": "display_data"
    },
    {
     "data": {
      "text/html": [
       "<span style=\"color:cyan\"> |-lstm_1: 50</span>"
      ],
      "text/plain": [
       "<IPython.core.display.HTML object>"
      ]
     },
     "metadata": {},
     "output_type": "display_data"
    },
    {
     "data": {
      "text/html": [
       "<span style=\"color:blue\"> |-lstm_2: 100</span>"
      ],
      "text/plain": [
       "<IPython.core.display.HTML object>"
      ]
     },
     "metadata": {},
     "output_type": "display_data"
    },
    {
     "data": {
      "text/html": [
       "<span style=\"color:cyan\"> |-lstm_3: 50</span>"
      ],
      "text/plain": [
       "<IPython.core.display.HTML object>"
      ]
     },
     "metadata": {},
     "output_type": "display_data"
    },
    {
     "data": {
      "text/html": [
       "<span style=\"color:blue\"> |-tuner/bracket: 2</span>"
      ],
      "text/plain": [
       "<IPython.core.display.HTML object>"
      ]
     },
     "metadata": {},
     "output_type": "display_data"
    },
    {
     "data": {
      "text/html": [
       "<span style=\"color:cyan\"> |-tuner/epochs: 3</span>"
      ],
      "text/plain": [
       "<IPython.core.display.HTML object>"
      ]
     },
     "metadata": {},
     "output_type": "display_data"
    },
    {
     "data": {
      "text/html": [
       "<span style=\"color:blue\"> |-tuner/initial_epoch: 0</span>"
      ],
      "text/plain": [
       "<IPython.core.display.HTML object>"
      ]
     },
     "metadata": {},
     "output_type": "display_data"
    },
    {
     "data": {
      "text/html": [
       "<span style=\"color:cyan\"> |-tuner/round: 0</span>"
      ],
      "text/plain": [
       "<IPython.core.display.HTML object>"
      ]
     },
     "metadata": {},
     "output_type": "display_data"
    },
    {
     "data": {
      "text/html": [
       "<span style=\"color:cyan\"> |-Score: 0.7491329312324524</span>"
      ],
      "text/plain": [
       "<IPython.core.display.HTML object>"
      ]
     },
     "metadata": {},
     "output_type": "display_data"
    },
    {
     "data": {
      "text/html": [
       "<span style=\"color:cyan\"> |-Best step: 0</span>"
      ],
      "text/plain": [
       "<IPython.core.display.HTML object>"
      ]
     },
     "metadata": {},
     "output_type": "display_data"
    },
    {
     "name": "stdout",
     "output_type": "stream",
     "text": [
      "Epoch 1/3\n",
      "84/84 [==============================] - ETA: 8:52 - loss: 1.3949 - accuracy: 0.18 - ETA: 27s - loss: 1.3884 - accuracy: 0.1797 - ETA: 27s - loss: 1.3965 - accuracy: 0.224 - ETA: 26s - loss: 1.3889 - accuracy: 0.242 - ETA: 25s - loss: 1.3759 - accuracy: 0.281 - ETA: 25s - loss: 1.3731 - accuracy: 0.289 - ETA: 25s - loss: 1.3696 - accuracy: 0.292 - ETA: 24s - loss: 1.3631 - accuracy: 0.310 - ETA: 24s - loss: 1.3590 - accuracy: 0.314 - ETA: 24s - loss: 1.3550 - accuracy: 0.318 - ETA: 23s - loss: 1.3531 - accuracy: 0.321 - ETA: 23s - loss: 1.3505 - accuracy: 0.325 - ETA: 23s - loss: 1.3423 - accuracy: 0.335 - ETA: 22s - loss: 1.3382 - accuracy: 0.343 - ETA: 22s - loss: 1.3372 - accuracy: 0.346 - ETA: 22s - loss: 1.3322 - accuracy: 0.353 - ETA: 21s - loss: 1.3255 - accuracy: 0.365 - ETA: 21s - loss: 1.3187 - accuracy: 0.372 - ETA: 21s - loss: 1.3163 - accuracy: 0.377 - ETA: 21s - loss: 1.3103 - accuracy: 0.382 - ETA: 20s - loss: 1.3069 - accuracy: 0.386 - ETA: 20s - loss: 1.3007 - accuracy: 0.390 - ETA: 20s - loss: 1.2965 - accuracy: 0.393 - ETA: 19s - loss: 1.2881 - accuracy: 0.396 - ETA: 19s - loss: 1.2841 - accuracy: 0.402 - ETA: 19s - loss: 1.2746 - accuracy: 0.406 - ETA: 18s - loss: 1.2679 - accuracy: 0.411 - ETA: 18s - loss: 1.2600 - accuracy: 0.418 - ETA: 18s - loss: 1.2587 - accuracy: 0.421 - ETA: 17s - loss: 1.2511 - accuracy: 0.428 - ETA: 17s - loss: 1.2466 - accuracy: 0.430 - ETA: 17s - loss: 1.2422 - accuracy: 0.432 - ETA: 16s - loss: 1.2361 - accuracy: 0.434 - ETA: 16s - loss: 1.2310 - accuracy: 0.438 - ETA: 16s - loss: 1.2244 - accuracy: 0.442 - ETA: 15s - loss: 1.2196 - accuracy: 0.445 - ETA: 15s - loss: 1.2171 - accuracy: 0.450 - ETA: 15s - loss: 1.2140 - accuracy: 0.452 - ETA: 14s - loss: 1.2086 - accuracy: 0.458 - ETA: 14s - loss: 1.2066 - accuracy: 0.459 - ETA: 14s - loss: 1.2051 - accuracy: 0.460 - ETA: 13s - loss: 1.2011 - accuracy: 0.463 - ETA: 13s - loss: 1.1939 - accuracy: 0.466 - ETA: 13s - loss: 1.1901 - accuracy: 0.470 - ETA: 12s - loss: 1.1852 - accuracy: 0.473 - ETA: 12s - loss: 1.1801 - accuracy: 0.478 - ETA: 12s - loss: 1.1741 - accuracy: 0.482 - ETA: 11s - loss: 1.1725 - accuracy: 0.482 - ETA: 11s - loss: 1.1650 - accuracy: 0.486 - ETA: 11s - loss: 1.1616 - accuracy: 0.489 - ETA: 11s - loss: 1.1566 - accuracy: 0.492 - ETA: 10s - loss: 1.1523 - accuracy: 0.494 - ETA: 10s - loss: 1.1513 - accuracy: 0.495 - ETA: 10s - loss: 1.1452 - accuracy: 0.499 - ETA: 9s - loss: 1.1416 - accuracy: 0.501 - ETA: 9s - loss: 1.1365 - accuracy: 0.50 - ETA: 9s - loss: 1.1343 - accuracy: 0.50 - ETA: 8s - loss: 1.1335 - accuracy: 0.50 - ETA: 8s - loss: 1.1297 - accuracy: 0.50 - ETA: 8s - loss: 1.1269 - accuracy: 0.51 - ETA: 7s - loss: 1.1270 - accuracy: 0.51 - ETA: 7s - loss: 1.1240 - accuracy: 0.51 - ETA: 7s - loss: 1.1195 - accuracy: 0.51 - ETA: 6s - loss: 1.1205 - accuracy: 0.51 - ETA: 6s - loss: 1.1202 - accuracy: 0.51 - ETA: 6s - loss: 1.1177 - accuracy: 0.51 - ETA: 5s - loss: 1.1147 - accuracy: 0.51 - ETA: 5s - loss: 1.1128 - accuracy: 0.51 - ETA: 5s - loss: 1.1095 - accuracy: 0.52 - ETA: 4s - loss: 1.1109 - accuracy: 0.52 - ETA: 4s - loss: 1.1087 - accuracy: 0.52 - ETA: 4s - loss: 1.1073 - accuracy: 0.52 - ETA: 3s - loss: 1.1035 - accuracy: 0.52 - ETA: 3s - loss: 1.1015 - accuracy: 0.52 - ETA: 3s - loss: 1.0971 - accuracy: 0.52 - ETA: 2s - loss: 1.0936 - accuracy: 0.53 - ETA: 2s - loss: 1.0905 - accuracy: 0.53 - ETA: 2s - loss: 1.0869 - accuracy: 0.53 - ETA: 1s - loss: 1.0859 - accuracy: 0.53 - ETA: 1s - loss: 1.0849 - accuracy: 0.53 - ETA: 1s - loss: 1.0830 - accuracy: 0.53 - ETA: 0s - loss: 1.0786 - accuracy: 0.54 - ETA: 0s - loss: 1.0747 - accuracy: 0.54 - ETA: 0s - loss: 1.0745 - accuracy: 0.54 - 41s 416ms/step - loss: 1.0745 - accuracy: 0.5424 - val_loss: 0.8902 - val_accuracy: 0.6566\n",
      "Epoch 2/3\n",
      "84/84 [==============================] - ETA: 32s - loss: 0.6144 - accuracy: 0.828 - ETA: 29s - loss: 0.8332 - accuracy: 0.742 - ETA: 29s - loss: 0.8812 - accuracy: 0.677 - ETA: 31s - loss: 0.9071 - accuracy: 0.664 - ETA: 31s - loss: 0.8963 - accuracy: 0.665 - ETA: 30s - loss: 0.8582 - accuracy: 0.679 - ETA: 29s - loss: 0.8536 - accuracy: 0.685 - ETA: 29s - loss: 0.8629 - accuracy: 0.683 - ETA: 29s - loss: 0.8615 - accuracy: 0.678 - ETA: 28s - loss: 0.8497 - accuracy: 0.684 - ETA: 28s - loss: 0.8440 - accuracy: 0.687 - ETA: 28s - loss: 0.8383 - accuracy: 0.694 - ETA: 28s - loss: 0.8431 - accuracy: 0.688 - ETA: 27s - loss: 0.8486 - accuracy: 0.684 - ETA: 27s - loss: 0.8351 - accuracy: 0.690 - ETA: 26s - loss: 0.8393 - accuracy: 0.689 - ETA: 25s - loss: 0.8446 - accuracy: 0.687 - ETA: 25s - loss: 0.8408 - accuracy: 0.689 - ETA: 25s - loss: 0.8345 - accuracy: 0.693 - ETA: 24s - loss: 0.8305 - accuracy: 0.693 - ETA: 24s - loss: 0.8315 - accuracy: 0.692 - ETA: 23s - loss: 0.8331 - accuracy: 0.691 - ETA: 23s - loss: 0.8323 - accuracy: 0.694 - ETA: 22s - loss: 0.8274 - accuracy: 0.695 - ETA: 22s - loss: 0.8263 - accuracy: 0.695 - ETA: 21s - loss: 0.8271 - accuracy: 0.692 - ETA: 21s - loss: 0.8240 - accuracy: 0.692 - ETA: 21s - loss: 0.8189 - accuracy: 0.695 - ETA: 20s - loss: 0.8168 - accuracy: 0.695 - ETA: 20s - loss: 0.8175 - accuracy: 0.694 - ETA: 19s - loss: 0.8174 - accuracy: 0.693 - ETA: 19s - loss: 0.8191 - accuracy: 0.692 - ETA: 19s - loss: 0.8200 - accuracy: 0.691 - ETA: 18s - loss: 0.8170 - accuracy: 0.691 - ETA: 18s - loss: 0.8150 - accuracy: 0.692 - ETA: 18s - loss: 0.8162 - accuracy: 0.693 - ETA: 17s - loss: 0.8175 - accuracy: 0.692 - ETA: 17s - loss: 0.8159 - accuracy: 0.692 - ETA: 16s - loss: 0.8127 - accuracy: 0.693 - ETA: 16s - loss: 0.8129 - accuracy: 0.693 - ETA: 16s - loss: 0.8089 - accuracy: 0.695 - ETA: 15s - loss: 0.8074 - accuracy: 0.695 - ETA: 15s - loss: 0.8101 - accuracy: 0.693 - ETA: 14s - loss: 0.8107 - accuracy: 0.693 - ETA: 14s - loss: 0.8122 - accuracy: 0.693 - ETA: 14s - loss: 0.8139 - accuracy: 0.690 - ETA: 13s - loss: 0.8113 - accuracy: 0.692 - ETA: 13s - loss: 0.8103 - accuracy: 0.692 - ETA: 13s - loss: 0.8075 - accuracy: 0.694 - ETA: 12s - loss: 0.8101 - accuracy: 0.693 - ETA: 12s - loss: 0.8080 - accuracy: 0.693 - ETA: 11s - loss: 0.8065 - accuracy: 0.693 - ETA: 11s - loss: 0.8070 - accuracy: 0.694 - ETA: 11s - loss: 0.8065 - accuracy: 0.694 - ETA: 10s - loss: 0.8061 - accuracy: 0.694 - ETA: 10s - loss: 0.8046 - accuracy: 0.694 - ETA: 10s - loss: 0.8053 - accuracy: 0.695 - ETA: 9s - loss: 0.8009 - accuracy: 0.696 - ETA: 9s - loss: 0.7972 - accuracy: 0.69 - ETA: 8s - loss: 0.7936 - accuracy: 0.70 - ETA: 8s - loss: 0.7951 - accuracy: 0.69 - ETA: 8s - loss: 0.7982 - accuracy: 0.69 - ETA: 7s - loss: 0.7984 - accuracy: 0.69 - ETA: 7s - loss: 0.7973 - accuracy: 0.69 - ETA: 7s - loss: 0.7960 - accuracy: 0.69 - ETA: 6s - loss: 0.7938 - accuracy: 0.70 - ETA: 6s - loss: 0.7946 - accuracy: 0.70 - ETA: 5s - loss: 0.7966 - accuracy: 0.69 - ETA: 5s - loss: 0.7969 - accuracy: 0.69 - ETA: 5s - loss: 0.7961 - accuracy: 0.69 - ETA: 4s - loss: 0.7959 - accuracy: 0.69 - ETA: 4s - loss: 0.7990 - accuracy: 0.69 - ETA: 4s - loss: 0.7963 - accuracy: 0.69 - ETA: 3s - loss: 0.7957 - accuracy: 0.69 - ETA: 3s - loss: 0.7940 - accuracy: 0.70 - ETA: 2s - loss: 0.7946 - accuracy: 0.70 - ETA: 2s - loss: 0.7950 - accuracy: 0.70 - ETA: 2s - loss: 0.7946 - accuracy: 0.70 - ETA: 1s - loss: 0.7935 - accuracy: 0.70 - ETA: 1s - loss: 0.7944 - accuracy: 0.70 - ETA: 1s - loss: 0.7938 - accuracy: 0.70 - ETA: 0s - loss: 0.7933 - accuracy: 0.70 - ETA: 0s - loss: 0.7912 - accuracy: 0.70 - ETA: 0s - loss: 0.7912 - accuracy: 0.70 - 33s 388ms/step - loss: 0.7912 - accuracy: 0.7022 - val_loss: 0.9338 - val_accuracy: 0.5954\n",
      "Epoch 3/3\n"
     ]
    },
    {
     "name": "stdout",
     "output_type": "stream",
     "text": [
      "84/84 [==============================] - ETA: 30s - loss: 0.8547 - accuracy: 0.640 - ETA: 29s - loss: 1.0877 - accuracy: 0.546 - ETA: 30s - loss: 1.0676 - accuracy: 0.541 - ETA: 31s - loss: 1.0264 - accuracy: 0.554 - ETA: 30s - loss: 1.0047 - accuracy: 0.546 - ETA: 30s - loss: 0.9860 - accuracy: 0.562 - ETA: 29s - loss: 0.9183 - accuracy: 0.591 - ETA: 28s - loss: 0.8946 - accuracy: 0.613 - ETA: 28s - loss: 0.8881 - accuracy: 0.628 - ETA: 27s - loss: 0.8608 - accuracy: 0.643 - ETA: 27s - loss: 0.8537 - accuracy: 0.647 - ETA: 26s - loss: 0.8500 - accuracy: 0.652 - ETA: 26s - loss: 0.8314 - accuracy: 0.658 - ETA: 26s - loss: 0.8210 - accuracy: 0.662 - ETA: 25s - loss: 0.8097 - accuracy: 0.668 - ETA: 25s - loss: 0.8032 - accuracy: 0.668 - ETA: 25s - loss: 0.7953 - accuracy: 0.670 - ETA: 24s - loss: 0.7891 - accuracy: 0.675 - ETA: 24s - loss: 0.7901 - accuracy: 0.676 - ETA: 24s - loss: 0.7857 - accuracy: 0.678 - ETA: 24s - loss: 0.7812 - accuracy: 0.683 - ETA: 23s - loss: 0.7848 - accuracy: 0.680 - ETA: 23s - loss: 0.7802 - accuracy: 0.684 - ETA: 22s - loss: 0.7763 - accuracy: 0.687 - ETA: 22s - loss: 0.7738 - accuracy: 0.687 - ETA: 22s - loss: 0.7772 - accuracy: 0.683 - ETA: 21s - loss: 0.7708 - accuracy: 0.686 - ETA: 21s - loss: 0.7657 - accuracy: 0.689 - ETA: 20s - loss: 0.7630 - accuracy: 0.691 - ETA: 20s - loss: 0.7582 - accuracy: 0.693 - ETA: 19s - loss: 0.7626 - accuracy: 0.692 - ETA: 19s - loss: 0.7552 - accuracy: 0.696 - ETA: 19s - loss: 0.7574 - accuracy: 0.696 - ETA: 18s - loss: 0.7542 - accuracy: 0.696 - ETA: 18s - loss: 0.7521 - accuracy: 0.697 - ETA: 17s - loss: 0.7464 - accuracy: 0.700 - ETA: 17s - loss: 0.7464 - accuracy: 0.701 - ETA: 17s - loss: 0.7447 - accuracy: 0.699 - ETA: 16s - loss: 0.7473 - accuracy: 0.698 - ETA: 16s - loss: 0.7472 - accuracy: 0.699 - ETA: 16s - loss: 0.7420 - accuracy: 0.703 - ETA: 15s - loss: 0.7387 - accuracy: 0.705 - ETA: 15s - loss: 0.7340 - accuracy: 0.707 - ETA: 14s - loss: 0.7370 - accuracy: 0.708 - ETA: 14s - loss: 0.7335 - accuracy: 0.710 - ETA: 14s - loss: 0.7311 - accuracy: 0.711 - ETA: 13s - loss: 0.7273 - accuracy: 0.712 - ETA: 13s - loss: 0.7286 - accuracy: 0.711 - ETA: 13s - loss: 0.7253 - accuracy: 0.712 - ETA: 12s - loss: 0.7250 - accuracy: 0.712 - ETA: 12s - loss: 0.7266 - accuracy: 0.712 - ETA: 11s - loss: 0.7260 - accuracy: 0.712 - ETA: 11s - loss: 0.7249 - accuracy: 0.712 - ETA: 11s - loss: 0.7199 - accuracy: 0.715 - ETA: 10s - loss: 0.7186 - accuracy: 0.715 - ETA: 10s - loss: 0.7191 - accuracy: 0.714 - ETA: 10s - loss: 0.7182 - accuracy: 0.714 - ETA: 9s - loss: 0.7213 - accuracy: 0.714 - ETA: 9s - loss: 0.7225 - accuracy: 0.71 - ETA: 8s - loss: 0.7209 - accuracy: 0.71 - ETA: 8s - loss: 0.7201 - accuracy: 0.71 - ETA: 8s - loss: 0.7179 - accuracy: 0.71 - ETA: 7s - loss: 0.7181 - accuracy: 0.71 - ETA: 7s - loss: 0.7171 - accuracy: 0.71 - ETA: 7s - loss: 0.7168 - accuracy: 0.71 - ETA: 6s - loss: 0.7152 - accuracy: 0.71 - ETA: 6s - loss: 0.7136 - accuracy: 0.71 - ETA: 5s - loss: 0.7142 - accuracy: 0.72 - ETA: 5s - loss: 0.7131 - accuracy: 0.72 - ETA: 5s - loss: 0.7142 - accuracy: 0.72 - ETA: 4s - loss: 0.7112 - accuracy: 0.72 - ETA: 4s - loss: 0.7112 - accuracy: 0.72 - ETA: 4s - loss: 0.7097 - accuracy: 0.72 - ETA: 3s - loss: 0.7120 - accuracy: 0.72 - ETA: 3s - loss: 0.7110 - accuracy: 0.72 - ETA: 2s - loss: 0.7111 - accuracy: 0.72 - ETA: 2s - loss: 0.7091 - accuracy: 0.72 - ETA: 2s - loss: 0.7065 - accuracy: 0.72 - ETA: 1s - loss: 0.7048 - accuracy: 0.72 - ETA: 1s - loss: 0.7061 - accuracy: 0.72 - ETA: 1s - loss: 0.7045 - accuracy: 0.72 - ETA: 0s - loss: 0.7055 - accuracy: 0.72 - ETA: 0s - loss: 0.7069 - accuracy: 0.72 - ETA: 0s - loss: 0.7068 - accuracy: 0.72 - 32s 386ms/step - loss: 0.7068 - accuracy: 0.7246 - val_loss: 0.5922 - val_accuracy: 0.7827\n"
     ]
    },
    {
     "data": {
      "text/html": [
       "<span style=\"color:#4527A0\"><h1 style=\"font-size:18px\">Trial complete</h1></span>"
      ],
      "text/plain": [
       "<IPython.core.display.HTML object>"
      ]
     },
     "metadata": {},
     "output_type": "display_data"
    },
    {
     "data": {
      "text/html": [
       "<span style=\"color:#4527A0\"><h1 style=\"font-size:18px\">Trial summary</h1></span>"
      ],
      "text/plain": [
       "<IPython.core.display.HTML object>"
      ]
     },
     "metadata": {},
     "output_type": "display_data"
    },
    {
     "data": {
      "text/html": [
       "<span style=\"color:#7E57C2\"><h2 style=\"font-size:16px\">Hp values:</h2></span>"
      ],
      "text/plain": [
       "<IPython.core.display.HTML object>"
      ]
     },
     "metadata": {},
     "output_type": "display_data"
    },
    {
     "data": {
      "text/html": [
       "<span style=\"color:cyan\"> |-lstm_1: 100</span>"
      ],
      "text/plain": [
       "<IPython.core.display.HTML object>"
      ]
     },
     "metadata": {},
     "output_type": "display_data"
    },
    {
     "data": {
      "text/html": [
       "<span style=\"color:blue\"> |-lstm_2: 150</span>"
      ],
      "text/plain": [
       "<IPython.core.display.HTML object>"
      ]
     },
     "metadata": {},
     "output_type": "display_data"
    },
    {
     "data": {
      "text/html": [
       "<span style=\"color:cyan\"> |-lstm_3: 50</span>"
      ],
      "text/plain": [
       "<IPython.core.display.HTML object>"
      ]
     },
     "metadata": {},
     "output_type": "display_data"
    },
    {
     "data": {
      "text/html": [
       "<span style=\"color:blue\"> |-tuner/bracket: 2</span>"
      ],
      "text/plain": [
       "<IPython.core.display.HTML object>"
      ]
     },
     "metadata": {},
     "output_type": "display_data"
    },
    {
     "data": {
      "text/html": [
       "<span style=\"color:cyan\"> |-tuner/epochs: 3</span>"
      ],
      "text/plain": [
       "<IPython.core.display.HTML object>"
      ]
     },
     "metadata": {},
     "output_type": "display_data"
    },
    {
     "data": {
      "text/html": [
       "<span style=\"color:blue\"> |-tuner/initial_epoch: 0</span>"
      ],
      "text/plain": [
       "<IPython.core.display.HTML object>"
      ]
     },
     "metadata": {},
     "output_type": "display_data"
    },
    {
     "data": {
      "text/html": [
       "<span style=\"color:cyan\"> |-tuner/round: 0</span>"
      ],
      "text/plain": [
       "<IPython.core.display.HTML object>"
      ]
     },
     "metadata": {},
     "output_type": "display_data"
    },
    {
     "data": {
      "text/html": [
       "<span style=\"color:cyan\"> |-Score: 0.7826589345932007</span>"
      ],
      "text/plain": [
       "<IPython.core.display.HTML object>"
      ]
     },
     "metadata": {},
     "output_type": "display_data"
    },
    {
     "data": {
      "text/html": [
       "<span style=\"color:cyan\"> |-Best step: 0</span>"
      ],
      "text/plain": [
       "<IPython.core.display.HTML object>"
      ]
     },
     "metadata": {},
     "output_type": "display_data"
    },
    {
     "name": "stdout",
     "output_type": "stream",
     "text": [
      "Epoch 1/3\n",
      "84/84 [==============================] - ETA: 9:24 - loss: 1.3895 - accuracy: 0.23 - ETA: 30s - loss: 1.3818 - accuracy: 0.2891 - ETA: 28s - loss: 1.3700 - accuracy: 0.291 - ETA: 26s - loss: 1.3847 - accuracy: 0.277 - ETA: 26s - loss: 1.3811 - accuracy: 0.287 - ETA: 25s - loss: 1.3762 - accuracy: 0.304 - ETA: 24s - loss: 1.3687 - accuracy: 0.321 - ETA: 23s - loss: 1.3692 - accuracy: 0.308 - ETA: 23s - loss: 1.3647 - accuracy: 0.314 - ETA: 22s - loss: 1.3619 - accuracy: 0.317 - ETA: 21s - loss: 1.3581 - accuracy: 0.321 - ETA: 21s - loss: 1.3557 - accuracy: 0.322 - ETA: 20s - loss: 1.3526 - accuracy: 0.320 - ETA: 20s - loss: 1.3491 - accuracy: 0.324 - ETA: 20s - loss: 1.3363 - accuracy: 0.334 - ETA: 19s - loss: 1.3346 - accuracy: 0.336 - ETA: 19s - loss: 1.3348 - accuracy: 0.335 - ETA: 18s - loss: 1.3267 - accuracy: 0.343 - ETA: 18s - loss: 1.3201 - accuracy: 0.351 - ETA: 18s - loss: 1.3157 - accuracy: 0.354 - ETA: 17s - loss: 1.3163 - accuracy: 0.354 - ETA: 17s - loss: 1.3090 - accuracy: 0.362 - ETA: 17s - loss: 1.3024 - accuracy: 0.367 - ETA: 16s - loss: 1.2987 - accuracy: 0.371 - ETA: 16s - loss: 1.2951 - accuracy: 0.373 - ETA: 16s - loss: 1.2901 - accuracy: 0.375 - ETA: 16s - loss: 1.2890 - accuracy: 0.377 - ETA: 15s - loss: 1.2850 - accuracy: 0.381 - ETA: 15s - loss: 1.2789 - accuracy: 0.384 - ETA: 15s - loss: 1.2768 - accuracy: 0.387 - ETA: 15s - loss: 1.2736 - accuracy: 0.391 - ETA: 14s - loss: 1.2701 - accuracy: 0.396 - ETA: 14s - loss: 1.2668 - accuracy: 0.399 - ETA: 14s - loss: 1.2653 - accuracy: 0.399 - ETA: 14s - loss: 1.2600 - accuracy: 0.403 - ETA: 13s - loss: 1.2565 - accuracy: 0.406 - ETA: 13s - loss: 1.2581 - accuracy: 0.407 - ETA: 13s - loss: 1.2565 - accuracy: 0.408 - ETA: 13s - loss: 1.2539 - accuracy: 0.411 - ETA: 12s - loss: 1.2491 - accuracy: 0.415 - ETA: 12s - loss: 1.2467 - accuracy: 0.418 - ETA: 12s - loss: 1.2431 - accuracy: 0.420 - ETA: 11s - loss: 1.2405 - accuracy: 0.422 - ETA: 11s - loss: 1.2380 - accuracy: 0.424 - ETA: 11s - loss: 1.2350 - accuracy: 0.427 - ETA: 11s - loss: 1.2313 - accuracy: 0.429 - ETA: 10s - loss: 1.2302 - accuracy: 0.432 - ETA: 10s - loss: 1.2260 - accuracy: 0.436 - ETA: 10s - loss: 1.2229 - accuracy: 0.438 - ETA: 9s - loss: 1.2236 - accuracy: 0.438 - ETA: 9s - loss: 1.2200 - accuracy: 0.44 - ETA: 9s - loss: 1.2176 - accuracy: 0.44 - ETA: 8s - loss: 1.2136 - accuracy: 0.44 - ETA: 8s - loss: 1.2143 - accuracy: 0.44 - ETA: 8s - loss: 1.2118 - accuracy: 0.44 - ETA: 8s - loss: 1.2112 - accuracy: 0.44 - ETA: 7s - loss: 1.2051 - accuracy: 0.45 - ETA: 7s - loss: 1.2027 - accuracy: 0.45 - ETA: 7s - loss: 1.2000 - accuracy: 0.45 - ETA: 6s - loss: 1.1960 - accuracy: 0.45 - ETA: 6s - loss: 1.1915 - accuracy: 0.46 - ETA: 6s - loss: 1.1883 - accuracy: 0.46 - ETA: 6s - loss: 1.1867 - accuracy: 0.46 - ETA: 5s - loss: 1.1860 - accuracy: 0.46 - ETA: 5s - loss: 1.1832 - accuracy: 0.46 - ETA: 5s - loss: 1.1822 - accuracy: 0.46 - ETA: 4s - loss: 1.1767 - accuracy: 0.47 - ETA: 4s - loss: 1.1724 - accuracy: 0.47 - ETA: 4s - loss: 1.1705 - accuracy: 0.47 - ETA: 4s - loss: 1.1660 - accuracy: 0.47 - ETA: 3s - loss: 1.1633 - accuracy: 0.47 - ETA: 3s - loss: 1.1607 - accuracy: 0.48 - ETA: 3s - loss: 1.1554 - accuracy: 0.48 - ETA: 2s - loss: 1.1514 - accuracy: 0.48 - ETA: 2s - loss: 1.1474 - accuracy: 0.49 - ETA: 2s - loss: 1.1458 - accuracy: 0.49 - ETA: 2s - loss: 1.1414 - accuracy: 0.49 - ETA: 1s - loss: 1.1388 - accuracy: 0.49 - ETA: 1s - loss: 1.1395 - accuracy: 0.49 - ETA: 1s - loss: 1.1389 - accuracy: 0.49 - ETA: 0s - loss: 1.1371 - accuracy: 0.49 - ETA: 0s - loss: 1.1366 - accuracy: 0.49 - ETA: 0s - loss: 1.1348 - accuracy: 0.49 - ETA: 0s - loss: 1.1347 - accuracy: 0.49 - 34s 322ms/step - loss: 1.1347 - accuracy: 0.4993 - val_loss: 0.9419 - val_accuracy: 0.6023\n",
      "Epoch 2/3\n",
      "84/84 [==============================] - ETA: 30s - loss: 0.8668 - accuracy: 0.671 - ETA: 25s - loss: 0.9375 - accuracy: 0.632 - ETA: 24s - loss: 0.9372 - accuracy: 0.593 - ETA: 24s - loss: 0.9399 - accuracy: 0.578 - ETA: 24s - loss: 0.9262 - accuracy: 0.587 - ETA: 23s - loss: 0.9188 - accuracy: 0.596 - ETA: 23s - loss: 0.9357 - accuracy: 0.604 - ETA: 23s - loss: 0.9284 - accuracy: 0.623 - ETA: 23s - loss: 0.9293 - accuracy: 0.626 - ETA: 22s - loss: 0.9354 - accuracy: 0.618 - ETA: 22s - loss: 0.9276 - accuracy: 0.625 - ETA: 22s - loss: 0.9290 - accuracy: 0.623 - ETA: 21s - loss: 0.9233 - accuracy: 0.625 - ETA: 21s - loss: 0.9219 - accuracy: 0.626 - ETA: 21s - loss: 0.9110 - accuracy: 0.631 - ETA: 20s - loss: 0.9251 - accuracy: 0.627 - ETA: 20s - loss: 0.9220 - accuracy: 0.634 - ETA: 20s - loss: 0.9163 - accuracy: 0.637 - ETA: 19s - loss: 0.9183 - accuracy: 0.636 - ETA: 19s - loss: 0.9172 - accuracy: 0.638 - ETA: 19s - loss: 0.9130 - accuracy: 0.642 - ETA: 18s - loss: 0.9110 - accuracy: 0.642 - ETA: 18s - loss: 0.9077 - accuracy: 0.644 - ETA: 18s - loss: 0.9059 - accuracy: 0.647 - ETA: 18s - loss: 0.9010 - accuracy: 0.650 - ETA: 17s - loss: 0.8987 - accuracy: 0.651 - ETA: 17s - loss: 0.8921 - accuracy: 0.653 - ETA: 17s - loss: 0.8872 - accuracy: 0.657 - ETA: 17s - loss: 0.8912 - accuracy: 0.653 - ETA: 17s - loss: 0.8933 - accuracy: 0.654 - ETA: 16s - loss: 0.8920 - accuracy: 0.655 - ETA: 16s - loss: 0.8926 - accuracy: 0.654 - ETA: 16s - loss: 0.8911 - accuracy: 0.654 - ETA: 15s - loss: 0.8891 - accuracy: 0.654 - ETA: 15s - loss: 0.8859 - accuracy: 0.655 - ETA: 15s - loss: 0.8809 - accuracy: 0.658 - ETA: 14s - loss: 0.8773 - accuracy: 0.660 - ETA: 14s - loss: 0.8755 - accuracy: 0.660 - ETA: 14s - loss: 0.8710 - accuracy: 0.662 - ETA: 13s - loss: 0.8685 - accuracy: 0.664 - ETA: 13s - loss: 0.8671 - accuracy: 0.665 - ETA: 13s - loss: 0.8638 - accuracy: 0.666 - ETA: 12s - loss: 0.8614 - accuracy: 0.667 - ETA: 12s - loss: 0.8629 - accuracy: 0.665 - ETA: 12s - loss: 0.8649 - accuracy: 0.665 - ETA: 11s - loss: 0.8669 - accuracy: 0.665 - ETA: 11s - loss: 0.8669 - accuracy: 0.663 - ETA: 11s - loss: 0.8700 - accuracy: 0.661 - ETA: 10s - loss: 0.8686 - accuracy: 0.661 - ETA: 10s - loss: 0.8669 - accuracy: 0.661 - ETA: 10s - loss: 0.8673 - accuracy: 0.661 - ETA: 9s - loss: 0.8680 - accuracy: 0.661 - ETA: 9s - loss: 0.8646 - accuracy: 0.66 - ETA: 9s - loss: 0.8606 - accuracy: 0.66 - ETA: 8s - loss: 0.8575 - accuracy: 0.66 - ETA: 8s - loss: 0.8580 - accuracy: 0.66 - ETA: 8s - loss: 0.8563 - accuracy: 0.66 - ETA: 7s - loss: 0.8529 - accuracy: 0.66 - ETA: 7s - loss: 0.8517 - accuracy: 0.66 - ETA: 7s - loss: 0.8510 - accuracy: 0.66 - ETA: 7s - loss: 0.8510 - accuracy: 0.66 - ETA: 6s - loss: 0.8503 - accuracy: 0.66 - ETA: 6s - loss: 0.8488 - accuracy: 0.66 - ETA: 6s - loss: 0.8459 - accuracy: 0.66 - ETA: 5s - loss: 0.8480 - accuracy: 0.66 - ETA: 5s - loss: 0.8473 - accuracy: 0.67 - ETA: 5s - loss: 0.8479 - accuracy: 0.67 - ETA: 4s - loss: 0.8472 - accuracy: 0.67 - ETA: 4s - loss: 0.8444 - accuracy: 0.67 - ETA: 4s - loss: 0.8425 - accuracy: 0.67 - ETA: 3s - loss: 0.8439 - accuracy: 0.67 - ETA: 3s - loss: 0.8430 - accuracy: 0.67 - ETA: 3s - loss: 0.8413 - accuracy: 0.67 - ETA: 3s - loss: 0.8396 - accuracy: 0.67 - ETA: 2s - loss: 0.8407 - accuracy: 0.67 - ETA: 2s - loss: 0.8417 - accuracy: 0.67 - ETA: 2s - loss: 0.8391 - accuracy: 0.67 - ETA: 1s - loss: 0.8394 - accuracy: 0.67 - ETA: 1s - loss: 0.8406 - accuracy: 0.67 - ETA: 1s - loss: 0.8385 - accuracy: 0.67 - ETA: 0s - loss: 0.8403 - accuracy: 0.67 - ETA: 0s - loss: 0.8385 - accuracy: 0.67 - ETA: 0s - loss: 0.8350 - accuracy: 0.67 - ETA: 0s - loss: 0.8348 - accuracy: 0.67 - 27s 318ms/step - loss: 0.8348 - accuracy: 0.6781 - val_loss: 0.7154 - val_accuracy: 0.7260\n",
      "Epoch 3/3\n"
     ]
    },
    {
     "name": "stdout",
     "output_type": "stream",
     "text": [
      "84/84 [==============================] - ETA: 23s - loss: 0.6670 - accuracy: 0.718 - ETA: 23s - loss: 0.6386 - accuracy: 0.757 - ETA: 23s - loss: 0.6669 - accuracy: 0.744 - ETA: 24s - loss: 0.6581 - accuracy: 0.753 - ETA: 24s - loss: 0.6828 - accuracy: 0.743 - ETA: 23s - loss: 0.6969 - accuracy: 0.737 - ETA: 23s - loss: 0.6973 - accuracy: 0.732 - ETA: 22s - loss: 0.6847 - accuracy: 0.732 - ETA: 22s - loss: 0.7004 - accuracy: 0.722 - ETA: 21s - loss: 0.7028 - accuracy: 0.718 - ETA: 21s - loss: 0.7053 - accuracy: 0.717 - ETA: 21s - loss: 0.7089 - accuracy: 0.720 - ETA: 20s - loss: 0.6957 - accuracy: 0.726 - ETA: 20s - loss: 0.6969 - accuracy: 0.726 - ETA: 20s - loss: 0.7079 - accuracy: 0.720 - ETA: 19s - loss: 0.7042 - accuracy: 0.721 - ETA: 19s - loss: 0.6965 - accuracy: 0.727 - ETA: 19s - loss: 0.7032 - accuracy: 0.725 - ETA: 19s - loss: 0.7027 - accuracy: 0.726 - ETA: 19s - loss: 0.7029 - accuracy: 0.724 - ETA: 18s - loss: 0.7063 - accuracy: 0.721 - ETA: 18s - loss: 0.7121 - accuracy: 0.720 - ETA: 18s - loss: 0.7082 - accuracy: 0.724 - ETA: 18s - loss: 0.7037 - accuracy: 0.725 - ETA: 17s - loss: 0.6968 - accuracy: 0.728 - ETA: 17s - loss: 0.6983 - accuracy: 0.727 - ETA: 17s - loss: 0.6927 - accuracy: 0.728 - ETA: 16s - loss: 0.6859 - accuracy: 0.731 - ETA: 16s - loss: 0.6886 - accuracy: 0.729 - ETA: 16s - loss: 0.6895 - accuracy: 0.729 - ETA: 16s - loss: 0.6906 - accuracy: 0.728 - ETA: 15s - loss: 0.6871 - accuracy: 0.731 - ETA: 15s - loss: 0.6916 - accuracy: 0.729 - ETA: 15s - loss: 0.6898 - accuracy: 0.729 - ETA: 14s - loss: 0.6883 - accuracy: 0.731 - ETA: 14s - loss: 0.6865 - accuracy: 0.732 - ETA: 14s - loss: 0.6819 - accuracy: 0.734 - ETA: 13s - loss: 0.6816 - accuracy: 0.735 - ETA: 13s - loss: 0.6849 - accuracy: 0.733 - ETA: 13s - loss: 0.6852 - accuracy: 0.735 - ETA: 13s - loss: 0.6843 - accuracy: 0.735 - ETA: 12s - loss: 0.6852 - accuracy: 0.736 - ETA: 12s - loss: 0.6822 - accuracy: 0.738 - ETA: 12s - loss: 0.6859 - accuracy: 0.736 - ETA: 11s - loss: 0.6844 - accuracy: 0.737 - ETA: 11s - loss: 0.6848 - accuracy: 0.738 - ETA: 11s - loss: 0.6868 - accuracy: 0.736 - ETA: 10s - loss: 0.6907 - accuracy: 0.735 - ETA: 10s - loss: 0.6869 - accuracy: 0.737 - ETA: 10s - loss: 0.6820 - accuracy: 0.739 - ETA: 9s - loss: 0.6841 - accuracy: 0.738 - ETA: 9s - loss: 0.6841 - accuracy: 0.73 - ETA: 9s - loss: 0.6863 - accuracy: 0.73 - ETA: 9s - loss: 0.6867 - accuracy: 0.73 - ETA: 8s - loss: 0.6852 - accuracy: 0.73 - ETA: 8s - loss: 0.6858 - accuracy: 0.73 - ETA: 8s - loss: 0.6847 - accuracy: 0.73 - ETA: 7s - loss: 0.6842 - accuracy: 0.73 - ETA: 7s - loss: 0.6830 - accuracy: 0.73 - ETA: 7s - loss: 0.6816 - accuracy: 0.73 - ETA: 6s - loss: 0.6833 - accuracy: 0.73 - ETA: 6s - loss: 0.6817 - accuracy: 0.73 - ETA: 6s - loss: 0.6828 - accuracy: 0.73 - ETA: 5s - loss: 0.6852 - accuracy: 0.73 - ETA: 5s - loss: 0.6847 - accuracy: 0.73 - ETA: 5s - loss: 0.6828 - accuracy: 0.73 - ETA: 5s - loss: 0.6821 - accuracy: 0.73 - ETA: 4s - loss: 0.6851 - accuracy: 0.73 - ETA: 4s - loss: 0.6858 - accuracy: 0.73 - ETA: 4s - loss: 0.6854 - accuracy: 0.73 - ETA: 3s - loss: 0.6879 - accuracy: 0.73 - ETA: 3s - loss: 0.6864 - accuracy: 0.73 - ETA: 3s - loss: 0.6859 - accuracy: 0.73 - ETA: 2s - loss: 0.6832 - accuracy: 0.74 - ETA: 2s - loss: 0.6822 - accuracy: 0.74 - ETA: 2s - loss: 0.6815 - accuracy: 0.74 - ETA: 2s - loss: 0.6816 - accuracy: 0.74 - ETA: 1s - loss: 0.6805 - accuracy: 0.74 - ETA: 1s - loss: 0.6792 - accuracy: 0.74 - ETA: 1s - loss: 0.6792 - accuracy: 0.74 - ETA: 0s - loss: 0.6803 - accuracy: 0.74 - ETA: 0s - loss: 0.6789 - accuracy: 0.74 - ETA: 0s - loss: 0.6778 - accuracy: 0.74 - ETA: 0s - loss: 0.6776 - accuracy: 0.74 - 26s 312ms/step - loss: 0.6776 - accuracy: 0.7431 - val_loss: 0.6264 - val_accuracy: 0.7595\n"
     ]
    },
    {
     "data": {
      "text/html": [
       "<span style=\"color:#4527A0\"><h1 style=\"font-size:18px\">Trial complete</h1></span>"
      ],
      "text/plain": [
       "<IPython.core.display.HTML object>"
      ]
     },
     "metadata": {},
     "output_type": "display_data"
    },
    {
     "data": {
      "text/html": [
       "<span style=\"color:#4527A0\"><h1 style=\"font-size:18px\">Trial summary</h1></span>"
      ],
      "text/plain": [
       "<IPython.core.display.HTML object>"
      ]
     },
     "metadata": {},
     "output_type": "display_data"
    },
    {
     "data": {
      "text/html": [
       "<span style=\"color:#7E57C2\"><h2 style=\"font-size:16px\">Hp values:</h2></span>"
      ],
      "text/plain": [
       "<IPython.core.display.HTML object>"
      ]
     },
     "metadata": {},
     "output_type": "display_data"
    },
    {
     "data": {
      "text/html": [
       "<span style=\"color:cyan\"> |-lstm_1: 50</span>"
      ],
      "text/plain": [
       "<IPython.core.display.HTML object>"
      ]
     },
     "metadata": {},
     "output_type": "display_data"
    },
    {
     "data": {
      "text/html": [
       "<span style=\"color:blue\"> |-lstm_2: 150</span>"
      ],
      "text/plain": [
       "<IPython.core.display.HTML object>"
      ]
     },
     "metadata": {},
     "output_type": "display_data"
    },
    {
     "data": {
      "text/html": [
       "<span style=\"color:cyan\"> |-lstm_3: 50</span>"
      ],
      "text/plain": [
       "<IPython.core.display.HTML object>"
      ]
     },
     "metadata": {},
     "output_type": "display_data"
    },
    {
     "data": {
      "text/html": [
       "<span style=\"color:blue\"> |-tuner/bracket: 2</span>"
      ],
      "text/plain": [
       "<IPython.core.display.HTML object>"
      ]
     },
     "metadata": {},
     "output_type": "display_data"
    },
    {
     "data": {
      "text/html": [
       "<span style=\"color:cyan\"> |-tuner/epochs: 3</span>"
      ],
      "text/plain": [
       "<IPython.core.display.HTML object>"
      ]
     },
     "metadata": {},
     "output_type": "display_data"
    },
    {
     "data": {
      "text/html": [
       "<span style=\"color:blue\"> |-tuner/initial_epoch: 0</span>"
      ],
      "text/plain": [
       "<IPython.core.display.HTML object>"
      ]
     },
     "metadata": {},
     "output_type": "display_data"
    },
    {
     "data": {
      "text/html": [
       "<span style=\"color:cyan\"> |-tuner/round: 0</span>"
      ],
      "text/plain": [
       "<IPython.core.display.HTML object>"
      ]
     },
     "metadata": {},
     "output_type": "display_data"
    },
    {
     "data": {
      "text/html": [
       "<span style=\"color:cyan\"> |-Score: 0.7595375776290894</span>"
      ],
      "text/plain": [
       "<IPython.core.display.HTML object>"
      ]
     },
     "metadata": {},
     "output_type": "display_data"
    },
    {
     "data": {
      "text/html": [
       "<span style=\"color:cyan\"> |-Best step: 0</span>"
      ],
      "text/plain": [
       "<IPython.core.display.HTML object>"
      ]
     },
     "metadata": {},
     "output_type": "display_data"
    },
    {
     "name": "stdout",
     "output_type": "stream",
     "text": [
      "INFO:tensorflow:Oracle triggered exit\n"
     ]
    }
   ],
   "source": [
    "# Start hyper-parameter search\n",
    "tuner.search(x=X_train_pad,\n",
    "             y=y_train,\n",
    "             epochs=20,\n",
    "             batch_size=64,\n",
    "             use_multiprocessing=True,\n",
    "             validation_data=(X_val_pad, y_val),\n",
    "             callbacks=[early_stop])"
   ]
  },
  {
   "cell_type": "code",
   "execution_count": 49,
   "id": "a605d548",
   "metadata": {},
   "outputs": [
    {
     "name": "stdout",
     "output_type": "stream",
     "text": [
      "Hyperparameter for LSTM 1: 100\n",
      "Hyperparameter for LSTM 2: 150\n",
      "Hyperparameter for LSTM 3: 50\n"
     ]
    }
   ],
   "source": [
    "# Get the optimal hyperparameters\n",
    "best_hps=tuner.get_best_hyperparameters(num_trials=1)[0]\n",
    "\n",
    "print(\"Hyperparameter for LSTM 1:\", best_hps.get('lstm_1'))\n",
    "print(\"Hyperparameter for LSTM 2:\", best_hps.get('lstm_2'))\n",
    "print(\"Hyperparameter for LSTM 3:\", best_hps.get('lstm_3'))\n",
    "\n",
    "#print(\"Hyperparameter for Dropout rate 1:\", best_hps.get('dropout_rate_1'))\n",
    "#print(\"Hyperparameter for Dropout rate 2:\", best_hps.get('dropout_rate_2'))\n",
    "#print(\"Hyperparameter for Dropout rate 3:\", best_hps.get('dropout_rate_3'))"
   ]
  },
  {
   "cell_type": "code",
   "execution_count": 50,
   "id": "688931fc",
   "metadata": {},
   "outputs": [
    {
     "name": "stdout",
     "output_type": "stream",
     "text": [
      "Epoch 1/20\n",
      "167/167 [==============================] - ETA: 16:13 - loss: 1.3807 - accuracy: 0.281 - ETA: 28s - loss: 1.3672 - accuracy: 0.2969  - ETA: 27s - loss: 1.3728 - accuracy: 0.322 - ETA: 26s - loss: 1.3895 - accuracy: 0.304 - ETA: 26s - loss: 1.3903 - accuracy: 0.287 - ETA: 25s - loss: 1.3764 - accuracy: 0.307 - ETA: 25s - loss: 1.3673 - accuracy: 0.321 - ETA: 25s - loss: 1.3585 - accuracy: 0.343 - ETA: 25s - loss: 1.3627 - accuracy: 0.336 - ETA: 25s - loss: 1.3611 - accuracy: 0.340 - ETA: 24s - loss: 1.3555 - accuracy: 0.343 - ETA: 24s - loss: 1.3506 - accuracy: 0.362 - ETA: 24s - loss: 1.3449 - accuracy: 0.363 - ETA: 24s - loss: 1.3421 - accuracy: 0.363 - ETA: 24s - loss: 1.3437 - accuracy: 0.360 - ETA: 24s - loss: 1.3449 - accuracy: 0.359 - ETA: 24s - loss: 1.3404 - accuracy: 0.364 - ETA: 23s - loss: 1.3350 - accuracy: 0.364 - ETA: 23s - loss: 1.3381 - accuracy: 0.361 - ETA: 23s - loss: 1.3296 - accuracy: 0.373 - ETA: 23s - loss: 1.3281 - accuracy: 0.375 - ETA: 23s - loss: 1.3210 - accuracy: 0.383 - ETA: 23s - loss: 1.3146 - accuracy: 0.392 - ETA: 23s - loss: 1.3074 - accuracy: 0.397 - ETA: 22s - loss: 1.2990 - accuracy: 0.406 - ETA: 22s - loss: 1.2923 - accuracy: 0.405 - ETA: 22s - loss: 1.2910 - accuracy: 0.407 - ETA: 22s - loss: 1.2880 - accuracy: 0.407 - ETA: 22s - loss: 1.2787 - accuracy: 0.414 - ETA: 22s - loss: 1.2738 - accuracy: 0.416 - ETA: 22s - loss: 1.2731 - accuracy: 0.420 - ETA: 22s - loss: 1.2713 - accuracy: 0.421 - ETA: 21s - loss: 1.2661 - accuracy: 0.426 - ETA: 21s - loss: 1.2639 - accuracy: 0.427 - ETA: 21s - loss: 1.2615 - accuracy: 0.429 - ETA: 21s - loss: 1.2593 - accuracy: 0.433 - ETA: 21s - loss: 1.2558 - accuracy: 0.435 - ETA: 21s - loss: 1.2530 - accuracy: 0.438 - ETA: 21s - loss: 1.2502 - accuracy: 0.441 - ETA: 20s - loss: 1.2498 - accuracy: 0.441 - ETA: 20s - loss: 1.2499 - accuracy: 0.441 - ETA: 20s - loss: 1.2502 - accuracy: 0.442 - ETA: 20s - loss: 1.2440 - accuracy: 0.445 - ETA: 20s - loss: 1.2412 - accuracy: 0.448 - ETA: 20s - loss: 1.2370 - accuracy: 0.450 - ETA: 20s - loss: 1.2333 - accuracy: 0.452 - ETA: 19s - loss: 1.2352 - accuracy: 0.451 - ETA: 19s - loss: 1.2341 - accuracy: 0.451 - ETA: 19s - loss: 1.2315 - accuracy: 0.453 - ETA: 19s - loss: 1.2276 - accuracy: 0.456 - ETA: 19s - loss: 1.2241 - accuracy: 0.458 - ETA: 19s - loss: 1.2231 - accuracy: 0.458 - ETA: 19s - loss: 1.2215 - accuracy: 0.459 - ETA: 18s - loss: 1.2151 - accuracy: 0.463 - ETA: 18s - loss: 1.2103 - accuracy: 0.467 - ETA: 18s - loss: 1.2074 - accuracy: 0.468 - ETA: 18s - loss: 1.1989 - accuracy: 0.474 - ETA: 18s - loss: 1.1935 - accuracy: 0.477 - ETA: 18s - loss: 1.1905 - accuracy: 0.479 - ETA: 17s - loss: 1.1877 - accuracy: 0.481 - ETA: 17s - loss: 1.1877 - accuracy: 0.481 - ETA: 17s - loss: 1.1831 - accuracy: 0.483 - ETA: 17s - loss: 1.1819 - accuracy: 0.484 - ETA: 17s - loss: 1.1815 - accuracy: 0.485 - ETA: 17s - loss: 1.1765 - accuracy: 0.488 - ETA: 17s - loss: 1.1718 - accuracy: 0.490 - ETA: 16s - loss: 1.1695 - accuracy: 0.490 - ETA: 16s - loss: 1.1693 - accuracy: 0.489 - ETA: 16s - loss: 1.1655 - accuracy: 0.493 - ETA: 16s - loss: 1.1632 - accuracy: 0.496 - ETA: 16s - loss: 1.1597 - accuracy: 0.497 - ETA: 16s - loss: 1.1541 - accuracy: 0.501 - ETA: 16s - loss: 1.1505 - accuracy: 0.503 - ETA: 15s - loss: 1.1521 - accuracy: 0.503 - ETA: 15s - loss: 1.1533 - accuracy: 0.503 - ETA: 15s - loss: 1.1491 - accuracy: 0.505 - ETA: 15s - loss: 1.1489 - accuracy: 0.505 - ETA: 15s - loss: 1.1473 - accuracy: 0.506 - ETA: 15s - loss: 1.1440 - accuracy: 0.508 - ETA: 14s - loss: 1.1424 - accuracy: 0.509 - ETA: 14s - loss: 1.1411 - accuracy: 0.508 - ETA: 14s - loss: 1.1410 - accuracy: 0.507 - ETA: 14s - loss: 1.1404 - accuracy: 0.508 - ETA: 14s - loss: 1.1366 - accuracy: 0.508 - ETA: 14s - loss: 1.1347 - accuracy: 0.509 - ETA: 13s - loss: 1.1322 - accuracy: 0.510 - ETA: 13s - loss: 1.1307 - accuracy: 0.512 - ETA: 13s - loss: 1.1287 - accuracy: 0.512 - ETA: 13s - loss: 1.1281 - accuracy: 0.514 - ETA: 13s - loss: 1.1273 - accuracy: 0.513 - ETA: 13s - loss: 1.1254 - accuracy: 0.514 - ETA: 12s - loss: 1.1240 - accuracy: 0.516 - ETA: 12s - loss: 1.1231 - accuracy: 0.516 - ETA: 12s - loss: 1.1212 - accuracy: 0.518 - ETA: 12s - loss: 1.1199 - accuracy: 0.518 - ETA: 12s - loss: 1.1192 - accuracy: 0.518 - ETA: 12s - loss: 1.1187 - accuracy: 0.518 - ETA: 11s - loss: 1.1168 - accuracy: 0.518 - ETA: 11s - loss: 1.1142 - accuracy: 0.519 - ETA: 11s - loss: 1.1134 - accuracy: 0.520 - ETA: 11s - loss: 1.1123 - accuracy: 0.521 - ETA: 11s - loss: 1.1114 - accuracy: 0.522 - ETA: 11s - loss: 1.1092 - accuracy: 0.523 - ETA: 10s - loss: 1.1098 - accuracy: 0.522 - ETA: 10s - loss: 1.1081 - accuracy: 0.523 - ETA: 10s - loss: 1.1070 - accuracy: 0.524 - ETA: 10s - loss: 1.1072 - accuracy: 0.524 - ETA: 10s - loss: 1.1073 - accuracy: 0.524 - ETA: 10s - loss: 1.1061 - accuracy: 0.525 - ETA: 9s - loss: 1.1051 - accuracy: 0.526 - ETA: 9s - loss: 1.1039 - accuracy: 0.52 - ETA: 9s - loss: 1.1005 - accuracy: 0.52 - ETA: 9s - loss: 1.1000 - accuracy: 0.52 - ETA: 9s - loss: 1.0992 - accuracy: 0.53 - ETA: 9s - loss: 1.0980 - accuracy: 0.53 - ETA: 8s - loss: 1.0982 - accuracy: 0.53 - ETA: 8s - loss: 1.0971 - accuracy: 0.53 - ETA: 8s - loss: 1.0967 - accuracy: 0.53 - ETA: 8s - loss: 1.0939 - accuracy: 0.53 - ETA: 8s - loss: 1.0933 - accuracy: 0.53 - ETA: 8s - loss: 1.0923 - accuracy: 0.53 - ETA: 8s - loss: 1.0928 - accuracy: 0.53 - ETA: 7s - loss: 1.0901 - accuracy: 0.53 - ETA: 7s - loss: 1.0901 - accuracy: 0.53 - ETA: 7s - loss: 1.0892 - accuracy: 0.53 - ETA: 7s - loss: 1.0888 - accuracy: 0.53 - ETA: 7s - loss: 1.0873 - accuracy: 0.53 - ETA: 6s - loss: 1.0867 - accuracy: 0.53 - ETA: 6s - loss: 1.0864 - accuracy: 0.53 - ETA: 6s - loss: 1.0848 - accuracy: 0.53 - ETA: 6s - loss: 1.0848 - accuracy: 0.53 - ETA: 6s - loss: 1.0844 - accuracy: 0.53 - ETA: 6s - loss: 1.0829 - accuracy: 0.54 - ETA: 5s - loss: 1.0806 - accuracy: 0.54 - ETA: 5s - loss: 1.0797 - accuracy: 0.54 - ETA: 5s - loss: 1.0784 - accuracy: 0.54 - ETA: 5s - loss: 1.0752 - accuracy: 0.54 - ETA: 5s - loss: 1.0756 - accuracy: 0.54 - ETA: 5s - loss: 1.0734 - accuracy: 0.54 - ETA: 4s - loss: 1.0739 - accuracy: 0.54 - ETA: 4s - loss: 1.0732 - accuracy: 0.54 - ETA: 4s - loss: 1.0722 - accuracy: 0.54 - ETA: 4s - loss: 1.0694 - accuracy: 0.54 - ETA: 4s - loss: 1.0684 - accuracy: 0.54 - ETA: 3s - loss: 1.0683 - accuracy: 0.54 - ETA: 3s - loss: 1.0666 - accuracy: 0.54 - ETA: 3s - loss: 1.0647 - accuracy: 0.55 - ETA: 3s - loss: 1.0622 - accuracy: 0.55 - ETA: 3s - loss: 1.0613 - accuracy: 0.55 - ETA: 3s - loss: 1.0602 - accuracy: 0.55 - ETA: 2s - loss: 1.0591 - accuracy: 0.55 - ETA: 2s - loss: 1.0590 - accuracy: 0.55 - ETA: 2s - loss: 1.0572 - accuracy: 0.55 - ETA: 2s - loss: 1.0560 - accuracy: 0.55 - ETA: 2s - loss: 1.0546 - accuracy: 0.55 - ETA: 1s - loss: 1.0538 - accuracy: 0.55 - ETA: 1s - loss: 1.0521 - accuracy: 0.55 - ETA: 1s - loss: 1.0500 - accuracy: 0.55 - ETA: 1s - loss: 1.0494 - accuracy: 0.55 - ETA: 1s - loss: 1.0472 - accuracy: 0.55 - ETA: 1s - loss: 1.0464 - accuracy: 0.55 - ETA: 0s - loss: 1.0455 - accuracy: 0.56 - ETA: 0s - loss: 1.0451 - accuracy: 0.56 - ETA: 0s - loss: 1.0420 - accuracy: 0.56 - ETA: 0s - loss: 1.0398 - accuracy: 0.56 - ETA: 0s - loss: 1.0404 - accuracy: 0.56 - ETA: 0s - loss: 1.0407 - accuracy: 0.56 - 39s 199ms/step - loss: 1.0407 - accuracy: 0.5626 - val_loss: 0.8208 - val_accuracy: 0.6590\n",
      "Epoch 2/20\n"
     ]
    },
    {
     "name": "stdout",
     "output_type": "stream",
     "text": [
      "167/167 [==============================] - ETA: 34s - loss: 0.8918 - accuracy: 0.718 - ETA: 32s - loss: 0.8017 - accuracy: 0.718 - ETA: 33s - loss: 0.8816 - accuracy: 0.687 - ETA: 34s - loss: 0.8917 - accuracy: 0.648 - ETA: 33s - loss: 0.8852 - accuracy: 0.656 - ETA: 33s - loss: 0.8830 - accuracy: 0.656 - ETA: 33s - loss: 0.8843 - accuracy: 0.651 - ETA: 32s - loss: 0.9053 - accuracy: 0.644 - ETA: 32s - loss: 0.8936 - accuracy: 0.659 - ETA: 32s - loss: 0.8952 - accuracy: 0.659 - ETA: 32s - loss: 0.8982 - accuracy: 0.661 - ETA: 31s - loss: 0.8745 - accuracy: 0.674 - ETA: 30s - loss: 0.8755 - accuracy: 0.673 - ETA: 30s - loss: 0.8784 - accuracy: 0.662 - ETA: 30s - loss: 0.8744 - accuracy: 0.666 - ETA: 30s - loss: 0.8829 - accuracy: 0.662 - ETA: 30s - loss: 0.8696 - accuracy: 0.669 - ETA: 29s - loss: 0.8628 - accuracy: 0.675 - ETA: 29s - loss: 0.8653 - accuracy: 0.671 - ETA: 29s - loss: 0.8635 - accuracy: 0.673 - ETA: 28s - loss: 0.8636 - accuracy: 0.674 - ETA: 28s - loss: 0.8691 - accuracy: 0.669 - ETA: 28s - loss: 0.8693 - accuracy: 0.671 - ETA: 28s - loss: 0.8617 - accuracy: 0.678 - ETA: 27s - loss: 0.8548 - accuracy: 0.681 - ETA: 27s - loss: 0.8501 - accuracy: 0.682 - ETA: 27s - loss: 0.8473 - accuracy: 0.682 - ETA: 27s - loss: 0.8386 - accuracy: 0.686 - ETA: 26s - loss: 0.8373 - accuracy: 0.688 - ETA: 26s - loss: 0.8344 - accuracy: 0.689 - ETA: 26s - loss: 0.8289 - accuracy: 0.694 - ETA: 26s - loss: 0.8372 - accuracy: 0.690 - ETA: 26s - loss: 0.8325 - accuracy: 0.692 - ETA: 25s - loss: 0.8329 - accuracy: 0.693 - ETA: 25s - loss: 0.8276 - accuracy: 0.694 - ETA: 25s - loss: 0.8299 - accuracy: 0.695 - ETA: 25s - loss: 0.8237 - accuracy: 0.695 - ETA: 25s - loss: 0.8181 - accuracy: 0.699 - ETA: 24s - loss: 0.8229 - accuracy: 0.694 - ETA: 24s - loss: 0.8250 - accuracy: 0.691 - ETA: 24s - loss: 0.8246 - accuracy: 0.692 - ETA: 24s - loss: 0.8295 - accuracy: 0.690 - ETA: 24s - loss: 0.8302 - accuracy: 0.689 - ETA: 23s - loss: 0.8289 - accuracy: 0.689 - ETA: 23s - loss: 0.8272 - accuracy: 0.689 - ETA: 23s - loss: 0.8268 - accuracy: 0.689 - ETA: 23s - loss: 0.8240 - accuracy: 0.692 - ETA: 23s - loss: 0.8230 - accuracy: 0.691 - ETA: 22s - loss: 0.8227 - accuracy: 0.692 - ETA: 22s - loss: 0.8205 - accuracy: 0.693 - ETA: 22s - loss: 0.8217 - accuracy: 0.691 - ETA: 22s - loss: 0.8187 - accuracy: 0.692 - ETA: 22s - loss: 0.8172 - accuracy: 0.693 - ETA: 21s - loss: 0.8144 - accuracy: 0.694 - ETA: 21s - loss: 0.8135 - accuracy: 0.693 - ETA: 21s - loss: 0.8132 - accuracy: 0.693 - ETA: 21s - loss: 0.8163 - accuracy: 0.691 - ETA: 21s - loss: 0.8166 - accuracy: 0.690 - ETA: 20s - loss: 0.8181 - accuracy: 0.689 - ETA: 20s - loss: 0.8175 - accuracy: 0.690 - ETA: 20s - loss: 0.8157 - accuracy: 0.691 - ETA: 20s - loss: 0.8182 - accuracy: 0.691 - ETA: 20s - loss: 0.8147 - accuracy: 0.692 - ETA: 19s - loss: 0.8143 - accuracy: 0.691 - ETA: 19s - loss: 0.8119 - accuracy: 0.693 - ETA: 19s - loss: 0.8116 - accuracy: 0.691 - ETA: 19s - loss: 0.8158 - accuracy: 0.689 - ETA: 19s - loss: 0.8120 - accuracy: 0.691 - ETA: 19s - loss: 0.8129 - accuracy: 0.690 - ETA: 18s - loss: 0.8177 - accuracy: 0.688 - ETA: 18s - loss: 0.8138 - accuracy: 0.690 - ETA: 18s - loss: 0.8159 - accuracy: 0.688 - ETA: 18s - loss: 0.8156 - accuracy: 0.688 - ETA: 18s - loss: 0.8173 - accuracy: 0.688 - ETA: 17s - loss: 0.8201 - accuracy: 0.687 - ETA: 17s - loss: 0.8201 - accuracy: 0.687 - ETA: 17s - loss: 0.8172 - accuracy: 0.689 - ETA: 17s - loss: 0.8184 - accuracy: 0.689 - ETA: 17s - loss: 0.8145 - accuracy: 0.691 - ETA: 16s - loss: 0.8123 - accuracy: 0.692 - ETA: 16s - loss: 0.8094 - accuracy: 0.694 - ETA: 16s - loss: 0.8070 - accuracy: 0.695 - ETA: 16s - loss: 0.8066 - accuracy: 0.696 - ETA: 16s - loss: 0.8081 - accuracy: 0.696 - ETA: 16s - loss: 0.8072 - accuracy: 0.696 - ETA: 15s - loss: 0.8025 - accuracy: 0.698 - ETA: 15s - loss: 0.8025 - accuracy: 0.698 - ETA: 15s - loss: 0.8036 - accuracy: 0.697 - ETA: 15s - loss: 0.8037 - accuracy: 0.697 - ETA: 15s - loss: 0.8043 - accuracy: 0.697 - ETA: 14s - loss: 0.8015 - accuracy: 0.699 - ETA: 14s - loss: 0.8016 - accuracy: 0.699 - ETA: 14s - loss: 0.8000 - accuracy: 0.700 - ETA: 14s - loss: 0.8008 - accuracy: 0.699 - ETA: 14s - loss: 0.7974 - accuracy: 0.701 - ETA: 13s - loss: 0.7955 - accuracy: 0.702 - ETA: 13s - loss: 0.7962 - accuracy: 0.702 - ETA: 13s - loss: 0.7950 - accuracy: 0.703 - ETA: 13s - loss: 0.7969 - accuracy: 0.702 - ETA: 13s - loss: 0.7982 - accuracy: 0.701 - ETA: 12s - loss: 0.7994 - accuracy: 0.700 - ETA: 12s - loss: 0.8007 - accuracy: 0.699 - ETA: 12s - loss: 0.7981 - accuracy: 0.700 - ETA: 12s - loss: 0.7962 - accuracy: 0.701 - ETA: 12s - loss: 0.7959 - accuracy: 0.701 - ETA: 11s - loss: 0.7995 - accuracy: 0.701 - ETA: 11s - loss: 0.8001 - accuracy: 0.700 - ETA: 11s - loss: 0.7990 - accuracy: 0.700 - ETA: 11s - loss: 0.7984 - accuracy: 0.700 - ETA: 11s - loss: 0.8016 - accuracy: 0.698 - ETA: 11s - loss: 0.7983 - accuracy: 0.700 - ETA: 10s - loss: 0.7971 - accuracy: 0.700 - ETA: 10s - loss: 0.7952 - accuracy: 0.701 - ETA: 10s - loss: 0.7952 - accuracy: 0.701 - ETA: 10s - loss: 0.7947 - accuracy: 0.701 - ETA: 10s - loss: 0.7937 - accuracy: 0.701 - ETA: 9s - loss: 0.7934 - accuracy: 0.702 - ETA: 9s - loss: 0.7921 - accuracy: 0.70 - ETA: 9s - loss: 0.7928 - accuracy: 0.70 - ETA: 9s - loss: 0.7934 - accuracy: 0.70 - ETA: 9s - loss: 0.7935 - accuracy: 0.70 - ETA: 9s - loss: 0.7927 - accuracy: 0.70 - ETA: 8s - loss: 0.7926 - accuracy: 0.70 - ETA: 8s - loss: 0.7916 - accuracy: 0.70 - ETA: 8s - loss: 0.7910 - accuracy: 0.70 - ETA: 8s - loss: 0.7904 - accuracy: 0.70 - ETA: 8s - loss: 0.7910 - accuracy: 0.70 - ETA: 7s - loss: 0.7927 - accuracy: 0.70 - ETA: 7s - loss: 0.7931 - accuracy: 0.70 - ETA: 7s - loss: 0.7947 - accuracy: 0.70 - ETA: 7s - loss: 0.7950 - accuracy: 0.70 - ETA: 7s - loss: 0.7950 - accuracy: 0.70 - ETA: 6s - loss: 0.7960 - accuracy: 0.70 - ETA: 6s - loss: 0.7958 - accuracy: 0.70 - ETA: 6s - loss: 0.7953 - accuracy: 0.70 - ETA: 6s - loss: 0.7947 - accuracy: 0.70 - ETA: 6s - loss: 0.7941 - accuracy: 0.70 - ETA: 5s - loss: 0.7926 - accuracy: 0.70 - ETA: 5s - loss: 0.7912 - accuracy: 0.70 - ETA: 5s - loss: 0.7903 - accuracy: 0.70 - ETA: 5s - loss: 0.7898 - accuracy: 0.70 - ETA: 4s - loss: 0.7895 - accuracy: 0.70 - ETA: 4s - loss: 0.7906 - accuracy: 0.70 - ETA: 4s - loss: 0.7894 - accuracy: 0.70 - ETA: 4s - loss: 0.7874 - accuracy: 0.70 - ETA: 4s - loss: 0.7865 - accuracy: 0.70 - ETA: 3s - loss: 0.7857 - accuracy: 0.70 - ETA: 3s - loss: 0.7841 - accuracy: 0.70 - ETA: 3s - loss: 0.7818 - accuracy: 0.70 - ETA: 3s - loss: 0.7821 - accuracy: 0.70 - ETA: 3s - loss: 0.7800 - accuracy: 0.70 - ETA: 2s - loss: 0.7790 - accuracy: 0.70 - ETA: 2s - loss: 0.7783 - accuracy: 0.70 - ETA: 2s - loss: 0.7769 - accuracy: 0.70 - ETA: 2s - loss: 0.7756 - accuracy: 0.70 - ETA: 2s - loss: 0.7743 - accuracy: 0.71 - ETA: 1s - loss: 0.7729 - accuracy: 0.71 - ETA: 1s - loss: 0.7707 - accuracy: 0.71 - ETA: 1s - loss: 0.7701 - accuracy: 0.71 - ETA: 1s - loss: 0.7688 - accuracy: 0.71 - ETA: 1s - loss: 0.7682 - accuracy: 0.71 - ETA: 0s - loss: 0.7676 - accuracy: 0.71 - ETA: 0s - loss: 0.7666 - accuracy: 0.71 - ETA: 0s - loss: 0.7657 - accuracy: 0.71 - ETA: 0s - loss: 0.7661 - accuracy: 0.71 - ETA: 0s - loss: 0.7650 - accuracy: 0.71 - ETA: 0s - loss: 0.7650 - accuracy: 0.71 - 35s 211ms/step - loss: 0.7650 - accuracy: 0.7145 - val_loss: 0.6880 - val_accuracy: 0.7353\n",
      "Epoch 3/20\n"
     ]
    },
    {
     "name": "stdout",
     "output_type": "stream",
     "text": [
      "167/167 [==============================] - ETA: 34s - loss: 1.0689 - accuracy: 0.625 - ETA: 34s - loss: 0.8933 - accuracy: 0.671 - ETA: 34s - loss: 0.8536 - accuracy: 0.697 - ETA: 35s - loss: 0.8700 - accuracy: 0.671 - ETA: 35s - loss: 0.8563 - accuracy: 0.668 - ETA: 35s - loss: 0.8587 - accuracy: 0.656 - ETA: 34s - loss: 0.8514 - accuracy: 0.665 - ETA: 34s - loss: 0.8169 - accuracy: 0.687 - ETA: 34s - loss: 0.7905 - accuracy: 0.701 - ETA: 34s - loss: 0.7825 - accuracy: 0.696 - ETA: 33s - loss: 0.7808 - accuracy: 0.704 - ETA: 33s - loss: 0.7589 - accuracy: 0.718 - ETA: 33s - loss: 0.7352 - accuracy: 0.728 - ETA: 32s - loss: 0.7239 - accuracy: 0.729 - ETA: 32s - loss: 0.7237 - accuracy: 0.729 - ETA: 32s - loss: 0.7156 - accuracy: 0.730 - ETA: 32s - loss: 0.7032 - accuracy: 0.737 - ETA: 32s - loss: 0.7010 - accuracy: 0.736 - ETA: 31s - loss: 0.6906 - accuracy: 0.741 - ETA: 31s - loss: 0.6864 - accuracy: 0.742 - ETA: 31s - loss: 0.6771 - accuracy: 0.744 - ETA: 30s - loss: 0.6865 - accuracy: 0.741 - ETA: 30s - loss: 0.6768 - accuracy: 0.744 - ETA: 29s - loss: 0.6686 - accuracy: 0.748 - ETA: 29s - loss: 0.6738 - accuracy: 0.746 - ETA: 29s - loss: 0.6673 - accuracy: 0.747 - ETA: 28s - loss: 0.6603 - accuracy: 0.751 - ETA: 28s - loss: 0.6627 - accuracy: 0.751 - ETA: 28s - loss: 0.6683 - accuracy: 0.745 - ETA: 28s - loss: 0.6671 - accuracy: 0.745 - ETA: 27s - loss: 0.6656 - accuracy: 0.746 - ETA: 27s - loss: 0.6639 - accuracy: 0.745 - ETA: 27s - loss: 0.6639 - accuracy: 0.745 - ETA: 27s - loss: 0.6632 - accuracy: 0.745 - ETA: 26s - loss: 0.6622 - accuracy: 0.747 - ETA: 26s - loss: 0.6632 - accuracy: 0.745 - ETA: 26s - loss: 0.6627 - accuracy: 0.745 - ETA: 26s - loss: 0.6637 - accuracy: 0.747 - ETA: 25s - loss: 0.6585 - accuracy: 0.749 - ETA: 25s - loss: 0.6609 - accuracy: 0.750 - ETA: 25s - loss: 0.6577 - accuracy: 0.752 - ETA: 25s - loss: 0.6558 - accuracy: 0.751 - ETA: 24s - loss: 0.6572 - accuracy: 0.750 - ETA: 24s - loss: 0.6600 - accuracy: 0.750 - ETA: 24s - loss: 0.6591 - accuracy: 0.751 - ETA: 24s - loss: 0.6550 - accuracy: 0.753 - ETA: 24s - loss: 0.6558 - accuracy: 0.751 - ETA: 23s - loss: 0.6540 - accuracy: 0.752 - ETA: 23s - loss: 0.6548 - accuracy: 0.751 - ETA: 23s - loss: 0.6465 - accuracy: 0.755 - ETA: 23s - loss: 0.6448 - accuracy: 0.756 - ETA: 22s - loss: 0.6459 - accuracy: 0.754 - ETA: 22s - loss: 0.6425 - accuracy: 0.756 - ETA: 22s - loss: 0.6394 - accuracy: 0.756 - ETA: 22s - loss: 0.6370 - accuracy: 0.758 - ETA: 22s - loss: 0.6347 - accuracy: 0.758 - ETA: 21s - loss: 0.6314 - accuracy: 0.759 - ETA: 21s - loss: 0.6281 - accuracy: 0.760 - ETA: 21s - loss: 0.6314 - accuracy: 0.759 - ETA: 21s - loss: 0.6281 - accuracy: 0.760 - ETA: 21s - loss: 0.6261 - accuracy: 0.760 - ETA: 20s - loss: 0.6201 - accuracy: 0.763 - ETA: 20s - loss: 0.6198 - accuracy: 0.763 - ETA: 20s - loss: 0.6218 - accuracy: 0.764 - ETA: 20s - loss: 0.6240 - accuracy: 0.763 - ETA: 20s - loss: 0.6246 - accuracy: 0.763 - ETA: 19s - loss: 0.6291 - accuracy: 0.762 - ETA: 19s - loss: 0.6285 - accuracy: 0.762 - ETA: 19s - loss: 0.6276 - accuracy: 0.763 - ETA: 19s - loss: 0.6263 - accuracy: 0.763 - ETA: 19s - loss: 0.6254 - accuracy: 0.763 - ETA: 18s - loss: 0.6215 - accuracy: 0.764 - ETA: 18s - loss: 0.6228 - accuracy: 0.764 - ETA: 18s - loss: 0.6242 - accuracy: 0.764 - ETA: 18s - loss: 0.6281 - accuracy: 0.763 - ETA: 18s - loss: 0.6278 - accuracy: 0.764 - ETA: 18s - loss: 0.6296 - accuracy: 0.762 - ETA: 17s - loss: 0.6302 - accuracy: 0.762 - ETA: 17s - loss: 0.6288 - accuracy: 0.763 - ETA: 17s - loss: 0.6299 - accuracy: 0.762 - ETA: 17s - loss: 0.6285 - accuracy: 0.762 - ETA: 17s - loss: 0.6297 - accuracy: 0.761 - ETA: 16s - loss: 0.6305 - accuracy: 0.762 - ETA: 16s - loss: 0.6289 - accuracy: 0.761 - ETA: 16s - loss: 0.6297 - accuracy: 0.761 - ETA: 16s - loss: 0.6265 - accuracy: 0.763 - ETA: 15s - loss: 0.6274 - accuracy: 0.763 - ETA: 15s - loss: 0.6265 - accuracy: 0.764 - ETA: 15s - loss: 0.6269 - accuracy: 0.764 - ETA: 15s - loss: 0.6255 - accuracy: 0.764 - ETA: 15s - loss: 0.6263 - accuracy: 0.764 - ETA: 15s - loss: 0.6251 - accuracy: 0.764 - ETA: 14s - loss: 0.6254 - accuracy: 0.764 - ETA: 14s - loss: 0.6253 - accuracy: 0.764 - ETA: 14s - loss: 0.6264 - accuracy: 0.763 - ETA: 14s - loss: 0.6272 - accuracy: 0.762 - ETA: 14s - loss: 0.6266 - accuracy: 0.762 - ETA: 13s - loss: 0.6254 - accuracy: 0.762 - ETA: 13s - loss: 0.6254 - accuracy: 0.762 - ETA: 13s - loss: 0.6268 - accuracy: 0.763 - ETA: 13s - loss: 0.6273 - accuracy: 0.763 - ETA: 13s - loss: 0.6259 - accuracy: 0.763 - ETA: 12s - loss: 0.6244 - accuracy: 0.764 - ETA: 12s - loss: 0.6238 - accuracy: 0.765 - ETA: 12s - loss: 0.6209 - accuracy: 0.766 - ETA: 12s - loss: 0.6203 - accuracy: 0.765 - ETA: 12s - loss: 0.6195 - accuracy: 0.766 - ETA: 11s - loss: 0.6176 - accuracy: 0.766 - ETA: 11s - loss: 0.6170 - accuracy: 0.767 - ETA: 11s - loss: 0.6187 - accuracy: 0.766 - ETA: 11s - loss: 0.6192 - accuracy: 0.766 - ETA: 11s - loss: 0.6212 - accuracy: 0.765 - ETA: 10s - loss: 0.6214 - accuracy: 0.765 - ETA: 10s - loss: 0.6220 - accuracy: 0.765 - ETA: 10s - loss: 0.6213 - accuracy: 0.765 - ETA: 10s - loss: 0.6223 - accuracy: 0.765 - ETA: 10s - loss: 0.6219 - accuracy: 0.765 - ETA: 9s - loss: 0.6211 - accuracy: 0.766 - ETA: 9s - loss: 0.6200 - accuracy: 0.76 - ETA: 9s - loss: 0.6196 - accuracy: 0.76 - ETA: 9s - loss: 0.6186 - accuracy: 0.76 - ETA: 9s - loss: 0.6181 - accuracy: 0.76 - ETA: 8s - loss: 0.6184 - accuracy: 0.76 - ETA: 8s - loss: 0.6159 - accuracy: 0.76 - ETA: 8s - loss: 0.6141 - accuracy: 0.77 - ETA: 8s - loss: 0.6148 - accuracy: 0.77 - ETA: 8s - loss: 0.6128 - accuracy: 0.77 - ETA: 7s - loss: 0.6109 - accuracy: 0.77 - ETA: 7s - loss: 0.6119 - accuracy: 0.77 - ETA: 7s - loss: 0.6137 - accuracy: 0.77 - ETA: 7s - loss: 0.6127 - accuracy: 0.77 - ETA: 7s - loss: 0.6138 - accuracy: 0.77 - ETA: 6s - loss: 0.6139 - accuracy: 0.77 - ETA: 6s - loss: 0.6138 - accuracy: 0.77 - ETA: 6s - loss: 0.6130 - accuracy: 0.77 - ETA: 6s - loss: 0.6132 - accuracy: 0.77 - ETA: 6s - loss: 0.6123 - accuracy: 0.77 - ETA: 5s - loss: 0.6127 - accuracy: 0.77 - ETA: 5s - loss: 0.6107 - accuracy: 0.77 - ETA: 5s - loss: 0.6108 - accuracy: 0.77 - ETA: 5s - loss: 0.6118 - accuracy: 0.77 - ETA: 5s - loss: 0.6112 - accuracy: 0.77 - ETA: 4s - loss: 0.6126 - accuracy: 0.77 - ETA: 4s - loss: 0.6131 - accuracy: 0.77 - ETA: 4s - loss: 0.6137 - accuracy: 0.77 - ETA: 4s - loss: 0.6136 - accuracy: 0.77 - ETA: 4s - loss: 0.6133 - accuracy: 0.77 - ETA: 3s - loss: 0.6117 - accuracy: 0.77 - ETA: 3s - loss: 0.6103 - accuracy: 0.77 - ETA: 3s - loss: 0.6116 - accuracy: 0.77 - ETA: 3s - loss: 0.6119 - accuracy: 0.77 - ETA: 3s - loss: 0.6110 - accuracy: 0.77 - ETA: 2s - loss: 0.6104 - accuracy: 0.77 - ETA: 2s - loss: 0.6087 - accuracy: 0.77 - ETA: 2s - loss: 0.6105 - accuracy: 0.77 - ETA: 2s - loss: 0.6091 - accuracy: 0.77 - ETA: 2s - loss: 0.6090 - accuracy: 0.77 - ETA: 1s - loss: 0.6095 - accuracy: 0.77 - ETA: 1s - loss: 0.6077 - accuracy: 0.77 - ETA: 1s - loss: 0.6067 - accuracy: 0.77 - ETA: 1s - loss: 0.6061 - accuracy: 0.77 - ETA: 1s - loss: 0.6062 - accuracy: 0.77 - ETA: 0s - loss: 0.6071 - accuracy: 0.77 - ETA: 0s - loss: 0.6064 - accuracy: 0.77 - ETA: 0s - loss: 0.6062 - accuracy: 0.77 - ETA: 0s - loss: 0.6070 - accuracy: 0.77 - ETA: 0s - loss: 0.6069 - accuracy: 0.77 - 35s 211ms/step - loss: 0.6069 - accuracy: 0.7753 - val_loss: 0.5700 - val_accuracy: 0.7884\n",
      "Epoch 4/20\n"
     ]
    },
    {
     "name": "stdout",
     "output_type": "stream",
     "text": [
      "167/167 [==============================] - ETA: 33s - loss: 0.4441 - accuracy: 0.843 - ETA: 33s - loss: 0.4509 - accuracy: 0.843 - ETA: 32s - loss: 0.5304 - accuracy: 0.812 - ETA: 32s - loss: 0.5113 - accuracy: 0.820 - ETA: 32s - loss: 0.4997 - accuracy: 0.831 - ETA: 32s - loss: 0.4897 - accuracy: 0.838 - ETA: 32s - loss: 0.4644 - accuracy: 0.843 - ETA: 31s - loss: 0.4804 - accuracy: 0.835 - ETA: 31s - loss: 0.4743 - accuracy: 0.836 - ETA: 31s - loss: 0.4802 - accuracy: 0.834 - ETA: 31s - loss: 0.4973 - accuracy: 0.826 - ETA: 30s - loss: 0.5013 - accuracy: 0.825 - ETA: 30s - loss: 0.5139 - accuracy: 0.822 - ETA: 30s - loss: 0.5240 - accuracy: 0.817 - ETA: 30s - loss: 0.5267 - accuracy: 0.810 - ETA: 30s - loss: 0.5163 - accuracy: 0.812 - ETA: 30s - loss: 0.4997 - accuracy: 0.819 - ETA: 30s - loss: 0.5019 - accuracy: 0.822 - ETA: 30s - loss: 0.4965 - accuracy: 0.822 - ETA: 30s - loss: 0.4932 - accuracy: 0.821 - ETA: 30s - loss: 0.5158 - accuracy: 0.817 - ETA: 30s - loss: 0.5277 - accuracy: 0.811 - ETA: 30s - loss: 0.5211 - accuracy: 0.813 - ETA: 30s - loss: 0.5232 - accuracy: 0.812 - ETA: 30s - loss: 0.5180 - accuracy: 0.816 - ETA: 30s - loss: 0.5191 - accuracy: 0.814 - ETA: 29s - loss: 0.5188 - accuracy: 0.813 - ETA: 29s - loss: 0.5208 - accuracy: 0.813 - ETA: 29s - loss: 0.5276 - accuracy: 0.810 - ETA: 29s - loss: 0.5179 - accuracy: 0.814 - ETA: 29s - loss: 0.5219 - accuracy: 0.812 - ETA: 29s - loss: 0.5185 - accuracy: 0.812 - ETA: 29s - loss: 0.5099 - accuracy: 0.815 - ETA: 28s - loss: 0.5078 - accuracy: 0.815 - ETA: 28s - loss: 0.5102 - accuracy: 0.815 - ETA: 28s - loss: 0.5123 - accuracy: 0.815 - ETA: 28s - loss: 0.5053 - accuracy: 0.819 - ETA: 28s - loss: 0.5062 - accuracy: 0.821 - ETA: 28s - loss: 0.5113 - accuracy: 0.819 - ETA: 27s - loss: 0.5052 - accuracy: 0.822 - ETA: 27s - loss: 0.5074 - accuracy: 0.820 - ETA: 27s - loss: 0.5029 - accuracy: 0.823 - ETA: 26s - loss: 0.5008 - accuracy: 0.824 - ETA: 26s - loss: 0.4971 - accuracy: 0.825 - ETA: 26s - loss: 0.5006 - accuracy: 0.825 - ETA: 26s - loss: 0.5009 - accuracy: 0.824 - ETA: 25s - loss: 0.4996 - accuracy: 0.824 - ETA: 25s - loss: 0.5005 - accuracy: 0.822 - ETA: 25s - loss: 0.4978 - accuracy: 0.824 - ETA: 25s - loss: 0.4985 - accuracy: 0.822 - ETA: 24s - loss: 0.4962 - accuracy: 0.824 - ETA: 24s - loss: 0.4984 - accuracy: 0.822 - ETA: 24s - loss: 0.4984 - accuracy: 0.822 - ETA: 24s - loss: 0.4941 - accuracy: 0.824 - ETA: 23s - loss: 0.4935 - accuracy: 0.824 - ETA: 23s - loss: 0.4965 - accuracy: 0.823 - ETA: 23s - loss: 0.5021 - accuracy: 0.820 - ETA: 23s - loss: 0.5014 - accuracy: 0.820 - ETA: 23s - loss: 0.5018 - accuracy: 0.819 - ETA: 22s - loss: 0.4988 - accuracy: 0.821 - ETA: 22s - loss: 0.4967 - accuracy: 0.823 - ETA: 22s - loss: 0.4965 - accuracy: 0.822 - ETA: 22s - loss: 0.5021 - accuracy: 0.819 - ETA: 22s - loss: 0.5028 - accuracy: 0.818 - ETA: 21s - loss: 0.5027 - accuracy: 0.818 - ETA: 21s - loss: 0.5047 - accuracy: 0.816 - ETA: 21s - loss: 0.5038 - accuracy: 0.816 - ETA: 21s - loss: 0.5016 - accuracy: 0.818 - ETA: 21s - loss: 0.5005 - accuracy: 0.818 - ETA: 20s - loss: 0.4986 - accuracy: 0.819 - ETA: 20s - loss: 0.5018 - accuracy: 0.818 - ETA: 20s - loss: 0.5016 - accuracy: 0.817 - ETA: 20s - loss: 0.5001 - accuracy: 0.819 - ETA: 19s - loss: 0.5005 - accuracy: 0.818 - ETA: 19s - loss: 0.4982 - accuracy: 0.819 - ETA: 19s - loss: 0.5013 - accuracy: 0.817 - ETA: 19s - loss: 0.5002 - accuracy: 0.818 - ETA: 19s - loss: 0.5012 - accuracy: 0.818 - ETA: 18s - loss: 0.5019 - accuracy: 0.818 - ETA: 18s - loss: 0.5022 - accuracy: 0.817 - ETA: 18s - loss: 0.4991 - accuracy: 0.819 - ETA: 18s - loss: 0.4991 - accuracy: 0.819 - ETA: 17s - loss: 0.4982 - accuracy: 0.819 - ETA: 17s - loss: 0.4976 - accuracy: 0.819 - ETA: 17s - loss: 0.4990 - accuracy: 0.818 - ETA: 17s - loss: 0.4987 - accuracy: 0.817 - ETA: 17s - loss: 0.4983 - accuracy: 0.817 - ETA: 16s - loss: 0.4975 - accuracy: 0.818 - ETA: 16s - loss: 0.4975 - accuracy: 0.817 - ETA: 16s - loss: 0.4959 - accuracy: 0.818 - ETA: 16s - loss: 0.4936 - accuracy: 0.819 - ETA: 16s - loss: 0.4921 - accuracy: 0.820 - ETA: 15s - loss: 0.4923 - accuracy: 0.820 - ETA: 15s - loss: 0.4910 - accuracy: 0.820 - ETA: 15s - loss: 0.4929 - accuracy: 0.819 - ETA: 15s - loss: 0.4916 - accuracy: 0.819 - ETA: 14s - loss: 0.4909 - accuracy: 0.819 - ETA: 14s - loss: 0.4897 - accuracy: 0.820 - ETA: 14s - loss: 0.4879 - accuracy: 0.821 - ETA: 14s - loss: 0.4896 - accuracy: 0.819 - ETA: 14s - loss: 0.4894 - accuracy: 0.819 - ETA: 13s - loss: 0.4874 - accuracy: 0.819 - ETA: 13s - loss: 0.4874 - accuracy: 0.819 - ETA: 13s - loss: 0.4848 - accuracy: 0.821 - ETA: 13s - loss: 0.4852 - accuracy: 0.820 - ETA: 13s - loss: 0.4884 - accuracy: 0.820 - ETA: 12s - loss: 0.4872 - accuracy: 0.820 - ETA: 12s - loss: 0.4904 - accuracy: 0.819 - ETA: 12s - loss: 0.4900 - accuracy: 0.819 - ETA: 12s - loss: 0.4911 - accuracy: 0.819 - ETA: 11s - loss: 0.4901 - accuracy: 0.819 - ETA: 11s - loss: 0.4897 - accuracy: 0.819 - ETA: 11s - loss: 0.4912 - accuracy: 0.819 - ETA: 11s - loss: 0.4889 - accuracy: 0.820 - ETA: 11s - loss: 0.4898 - accuracy: 0.820 - ETA: 10s - loss: 0.4904 - accuracy: 0.819 - ETA: 10s - loss: 0.4909 - accuracy: 0.820 - ETA: 10s - loss: 0.4904 - accuracy: 0.820 - ETA: 10s - loss: 0.4907 - accuracy: 0.820 - ETA: 9s - loss: 0.4922 - accuracy: 0.819 - ETA: 9s - loss: 0.4921 - accuracy: 0.81 - ETA: 9s - loss: 0.4940 - accuracy: 0.81 - ETA: 9s - loss: 0.4945 - accuracy: 0.81 - ETA: 9s - loss: 0.4968 - accuracy: 0.81 - ETA: 8s - loss: 0.4956 - accuracy: 0.81 - ETA: 8s - loss: 0.4936 - accuracy: 0.81 - ETA: 8s - loss: 0.4933 - accuracy: 0.81 - ETA: 8s - loss: 0.4942 - accuracy: 0.81 - ETA: 8s - loss: 0.4930 - accuracy: 0.81 - ETA: 7s - loss: 0.4920 - accuracy: 0.81 - ETA: 7s - loss: 0.4917 - accuracy: 0.81 - ETA: 7s - loss: 0.4926 - accuracy: 0.81 - ETA: 7s - loss: 0.4920 - accuracy: 0.81 - ETA: 6s - loss: 0.4923 - accuracy: 0.81 - ETA: 6s - loss: 0.4921 - accuracy: 0.81 - ETA: 6s - loss: 0.4908 - accuracy: 0.81 - ETA: 6s - loss: 0.4897 - accuracy: 0.81 - ETA: 6s - loss: 0.4901 - accuracy: 0.81 - ETA: 5s - loss: 0.4899 - accuracy: 0.81 - ETA: 5s - loss: 0.4898 - accuracy: 0.81 - ETA: 5s - loss: 0.4905 - accuracy: 0.81 - ETA: 5s - loss: 0.4890 - accuracy: 0.81 - ETA: 5s - loss: 0.4881 - accuracy: 0.81 - ETA: 4s - loss: 0.4894 - accuracy: 0.81 - ETA: 4s - loss: 0.4920 - accuracy: 0.81 - ETA: 4s - loss: 0.4916 - accuracy: 0.81 - ETA: 4s - loss: 0.4947 - accuracy: 0.81 - ETA: 3s - loss: 0.4955 - accuracy: 0.81 - ETA: 3s - loss: 0.4963 - accuracy: 0.81 - ETA: 3s - loss: 0.4953 - accuracy: 0.81 - ETA: 3s - loss: 0.4938 - accuracy: 0.81 - ETA: 3s - loss: 0.4934 - accuracy: 0.81 - ETA: 2s - loss: 0.4928 - accuracy: 0.81 - ETA: 2s - loss: 0.4934 - accuracy: 0.81 - ETA: 2s - loss: 0.4920 - accuracy: 0.81 - ETA: 2s - loss: 0.4912 - accuracy: 0.81 - ETA: 2s - loss: 0.4917 - accuracy: 0.81 - ETA: 1s - loss: 0.4920 - accuracy: 0.81 - ETA: 1s - loss: 0.4926 - accuracy: 0.81 - ETA: 1s - loss: 0.4935 - accuracy: 0.81 - ETA: 1s - loss: 0.4955 - accuracy: 0.81 - ETA: 1s - loss: 0.4942 - accuracy: 0.81 - ETA: 0s - loss: 0.4935 - accuracy: 0.81 - ETA: 0s - loss: 0.4942 - accuracy: 0.81 - ETA: 0s - loss: 0.4932 - accuracy: 0.81 - ETA: 0s - loss: 0.4937 - accuracy: 0.81 - ETA: 0s - loss: 0.4936 - accuracy: 0.81 - 36s 218ms/step - loss: 0.4936 - accuracy: 0.8172 - val_loss: 0.5038 - val_accuracy: 0.8104\n",
      "Epoch 5/20\n"
     ]
    },
    {
     "name": "stdout",
     "output_type": "stream",
     "text": [
      "167/167 [==============================] - ETA: 34s - loss: 0.4248 - accuracy: 0.875 - ETA: 32s - loss: 0.3259 - accuracy: 0.890 - ETA: 32s - loss: 0.3776 - accuracy: 0.864 - ETA: 31s - loss: 0.4059 - accuracy: 0.859 - ETA: 31s - loss: 0.4420 - accuracy: 0.843 - ETA: 31s - loss: 0.4577 - accuracy: 0.843 - ETA: 31s - loss: 0.4524 - accuracy: 0.834 - ETA: 31s - loss: 0.4343 - accuracy: 0.839 - ETA: 31s - loss: 0.4214 - accuracy: 0.847 - ETA: 31s - loss: 0.4146 - accuracy: 0.856 - ETA: 30s - loss: 0.4011 - accuracy: 0.863 - ETA: 30s - loss: 0.3947 - accuracy: 0.864 - ETA: 30s - loss: 0.3935 - accuracy: 0.858 - ETA: 30s - loss: 0.3922 - accuracy: 0.859 - ETA: 30s - loss: 0.3934 - accuracy: 0.860 - ETA: 30s - loss: 0.3894 - accuracy: 0.861 - ETA: 29s - loss: 0.3868 - accuracy: 0.860 - ETA: 29s - loss: 0.3816 - accuracy: 0.862 - ETA: 29s - loss: 0.3743 - accuracy: 0.865 - ETA: 29s - loss: 0.3694 - accuracy: 0.867 - ETA: 29s - loss: 0.3758 - accuracy: 0.861 - ETA: 28s - loss: 0.3706 - accuracy: 0.863 - ETA: 28s - loss: 0.3706 - accuracy: 0.864 - ETA: 28s - loss: 0.3697 - accuracy: 0.863 - ETA: 28s - loss: 0.3686 - accuracy: 0.865 - ETA: 28s - loss: 0.3708 - accuracy: 0.863 - ETA: 27s - loss: 0.3717 - accuracy: 0.863 - ETA: 27s - loss: 0.3782 - accuracy: 0.859 - ETA: 27s - loss: 0.3897 - accuracy: 0.856 - ETA: 27s - loss: 0.3827 - accuracy: 0.859 - ETA: 27s - loss: 0.3839 - accuracy: 0.857 - ETA: 27s - loss: 0.3824 - accuracy: 0.858 - ETA: 26s - loss: 0.3793 - accuracy: 0.859 - ETA: 26s - loss: 0.3793 - accuracy: 0.856 - ETA: 26s - loss: 0.3765 - accuracy: 0.858 - ETA: 26s - loss: 0.3819 - accuracy: 0.856 - ETA: 25s - loss: 0.3797 - accuracy: 0.858 - ETA: 25s - loss: 0.3798 - accuracy: 0.859 - ETA: 25s - loss: 0.3826 - accuracy: 0.859 - ETA: 25s - loss: 0.3849 - accuracy: 0.858 - ETA: 24s - loss: 0.3795 - accuracy: 0.861 - ETA: 24s - loss: 0.3816 - accuracy: 0.859 - ETA: 24s - loss: 0.3836 - accuracy: 0.858 - ETA: 24s - loss: 0.3844 - accuracy: 0.859 - ETA: 24s - loss: 0.3805 - accuracy: 0.861 - ETA: 23s - loss: 0.3847 - accuracy: 0.860 - ETA: 23s - loss: 0.3843 - accuracy: 0.859 - ETA: 23s - loss: 0.3837 - accuracy: 0.860 - ETA: 23s - loss: 0.3830 - accuracy: 0.860 - ETA: 23s - loss: 0.3830 - accuracy: 0.860 - ETA: 22s - loss: 0.3813 - accuracy: 0.862 - ETA: 22s - loss: 0.3833 - accuracy: 0.862 - ETA: 22s - loss: 0.3811 - accuracy: 0.863 - ETA: 22s - loss: 0.3857 - accuracy: 0.859 - ETA: 22s - loss: 0.3851 - accuracy: 0.859 - ETA: 21s - loss: 0.3813 - accuracy: 0.861 - ETA: 21s - loss: 0.3864 - accuracy: 0.859 - ETA: 21s - loss: 0.3901 - accuracy: 0.858 - ETA: 21s - loss: 0.3921 - accuracy: 0.857 - ETA: 21s - loss: 0.3941 - accuracy: 0.854 - ETA: 20s - loss: 0.4012 - accuracy: 0.853 - ETA: 20s - loss: 0.4004 - accuracy: 0.853 - ETA: 20s - loss: 0.4029 - accuracy: 0.851 - ETA: 20s - loss: 0.4044 - accuracy: 0.851 - ETA: 20s - loss: 0.4088 - accuracy: 0.849 - ETA: 19s - loss: 0.4093 - accuracy: 0.848 - ETA: 19s - loss: 0.4113 - accuracy: 0.847 - ETA: 19s - loss: 0.4119 - accuracy: 0.847 - ETA: 19s - loss: 0.4178 - accuracy: 0.846 - ETA: 19s - loss: 0.4200 - accuracy: 0.845 - ETA: 18s - loss: 0.4219 - accuracy: 0.844 - ETA: 18s - loss: 0.4242 - accuracy: 0.843 - ETA: 18s - loss: 0.4249 - accuracy: 0.842 - ETA: 18s - loss: 0.4274 - accuracy: 0.842 - ETA: 18s - loss: 0.4253 - accuracy: 0.843 - ETA: 17s - loss: 0.4257 - accuracy: 0.843 - ETA: 17s - loss: 0.4243 - accuracy: 0.844 - ETA: 17s - loss: 0.4235 - accuracy: 0.845 - ETA: 17s - loss: 0.4232 - accuracy: 0.844 - ETA: 17s - loss: 0.4225 - accuracy: 0.845 - ETA: 16s - loss: 0.4211 - accuracy: 0.845 - ETA: 16s - loss: 0.4198 - accuracy: 0.846 - ETA: 16s - loss: 0.4185 - accuracy: 0.847 - ETA: 16s - loss: 0.4173 - accuracy: 0.848 - ETA: 16s - loss: 0.4166 - accuracy: 0.848 - ETA: 15s - loss: 0.4157 - accuracy: 0.848 - ETA: 15s - loss: 0.4176 - accuracy: 0.847 - ETA: 15s - loss: 0.4176 - accuracy: 0.847 - ETA: 15s - loss: 0.4168 - accuracy: 0.848 - ETA: 15s - loss: 0.4159 - accuracy: 0.848 - ETA: 14s - loss: 0.4157 - accuracy: 0.848 - ETA: 14s - loss: 0.4153 - accuracy: 0.848 - ETA: 14s - loss: 0.4138 - accuracy: 0.849 - ETA: 14s - loss: 0.4132 - accuracy: 0.849 - ETA: 14s - loss: 0.4136 - accuracy: 0.848 - ETA: 13s - loss: 0.4135 - accuracy: 0.848 - ETA: 13s - loss: 0.4146 - accuracy: 0.847 - ETA: 13s - loss: 0.4149 - accuracy: 0.847 - ETA: 13s - loss: 0.4152 - accuracy: 0.847 - ETA: 13s - loss: 0.4197 - accuracy: 0.845 - ETA: 12s - loss: 0.4196 - accuracy: 0.846 - ETA: 12s - loss: 0.4223 - accuracy: 0.845 - ETA: 12s - loss: 0.4210 - accuracy: 0.846 - ETA: 12s - loss: 0.4226 - accuracy: 0.844 - ETA: 12s - loss: 0.4213 - accuracy: 0.844 - ETA: 11s - loss: 0.4193 - accuracy: 0.845 - ETA: 11s - loss: 0.4205 - accuracy: 0.845 - ETA: 11s - loss: 0.4231 - accuracy: 0.845 - ETA: 11s - loss: 0.4227 - accuracy: 0.845 - ETA: 11s - loss: 0.4225 - accuracy: 0.845 - ETA: 10s - loss: 0.4208 - accuracy: 0.846 - ETA: 10s - loss: 0.4197 - accuracy: 0.846 - ETA: 10s - loss: 0.4215 - accuracy: 0.846 - ETA: 10s - loss: 0.4223 - accuracy: 0.845 - ETA: 10s - loss: 0.4230 - accuracy: 0.845 - ETA: 10s - loss: 0.4224 - accuracy: 0.845 - ETA: 9s - loss: 0.4224 - accuracy: 0.845 - ETA: 9s - loss: 0.4214 - accuracy: 0.84 - ETA: 9s - loss: 0.4216 - accuracy: 0.84 - ETA: 9s - loss: 0.4206 - accuracy: 0.84 - ETA: 9s - loss: 0.4200 - accuracy: 0.84 - ETA: 8s - loss: 0.4204 - accuracy: 0.84 - ETA: 8s - loss: 0.4212 - accuracy: 0.84 - ETA: 8s - loss: 0.4200 - accuracy: 0.84 - ETA: 8s - loss: 0.4189 - accuracy: 0.84 - ETA: 8s - loss: 0.4184 - accuracy: 0.84 - ETA: 7s - loss: 0.4180 - accuracy: 0.84 - ETA: 7s - loss: 0.4179 - accuracy: 0.84 - ETA: 7s - loss: 0.4158 - accuracy: 0.84 - ETA: 7s - loss: 0.4151 - accuracy: 0.84 - ETA: 7s - loss: 0.4164 - accuracy: 0.84 - ETA: 7s - loss: 0.4167 - accuracy: 0.84 - ETA: 6s - loss: 0.4159 - accuracy: 0.84 - ETA: 6s - loss: 0.4151 - accuracy: 0.84 - ETA: 6s - loss: 0.4157 - accuracy: 0.84 - ETA: 6s - loss: 0.4154 - accuracy: 0.84 - ETA: 6s - loss: 0.4172 - accuracy: 0.84 - ETA: 5s - loss: 0.4163 - accuracy: 0.84 - ETA: 5s - loss: 0.4151 - accuracy: 0.84 - ETA: 5s - loss: 0.4150 - accuracy: 0.84 - ETA: 5s - loss: 0.4187 - accuracy: 0.84 - ETA: 5s - loss: 0.4200 - accuracy: 0.84 - ETA: 4s - loss: 0.4197 - accuracy: 0.84 - ETA: 4s - loss: 0.4200 - accuracy: 0.84 - ETA: 4s - loss: 0.4210 - accuracy: 0.84 - ETA: 4s - loss: 0.4200 - accuracy: 0.84 - ETA: 4s - loss: 0.4207 - accuracy: 0.84 - ETA: 3s - loss: 0.4221 - accuracy: 0.84 - ETA: 3s - loss: 0.4225 - accuracy: 0.84 - ETA: 3s - loss: 0.4215 - accuracy: 0.84 - ETA: 3s - loss: 0.4219 - accuracy: 0.84 - ETA: 3s - loss: 0.4226 - accuracy: 0.84 - ETA: 2s - loss: 0.4223 - accuracy: 0.84 - ETA: 2s - loss: 0.4229 - accuracy: 0.84 - ETA: 2s - loss: 0.4232 - accuracy: 0.84 - ETA: 2s - loss: 0.4259 - accuracy: 0.84 - ETA: 2s - loss: 0.4249 - accuracy: 0.84 - ETA: 1s - loss: 0.4249 - accuracy: 0.84 - ETA: 1s - loss: 0.4253 - accuracy: 0.84 - ETA: 1s - loss: 0.4242 - accuracy: 0.84 - ETA: 1s - loss: 0.4244 - accuracy: 0.84 - ETA: 1s - loss: 0.4244 - accuracy: 0.84 - ETA: 0s - loss: 0.4237 - accuracy: 0.84 - ETA: 0s - loss: 0.4235 - accuracy: 0.84 - ETA: 0s - loss: 0.4226 - accuracy: 0.84 - ETA: 0s - loss: 0.4217 - accuracy: 0.84 - ETA: 0s - loss: 0.4217 - accuracy: 0.84 - 36s 217ms/step - loss: 0.4217 - accuracy: 0.8447 - val_loss: 0.4456 - val_accuracy: 0.8312\n",
      "Epoch 6/20\n"
     ]
    },
    {
     "name": "stdout",
     "output_type": "stream",
     "text": [
      "167/167 [==============================] - ETA: 31s - loss: 0.3772 - accuracy: 0.875 - ETA: 35s - loss: 0.3549 - accuracy: 0.875 - ETA: 33s - loss: 0.3326 - accuracy: 0.864 - ETA: 32s - loss: 0.3335 - accuracy: 0.851 - ETA: 31s - loss: 0.3589 - accuracy: 0.843 - ETA: 31s - loss: 0.3423 - accuracy: 0.849 - ETA: 31s - loss: 0.3488 - accuracy: 0.848 - ETA: 30s - loss: 0.3392 - accuracy: 0.855 - ETA: 30s - loss: 0.3404 - accuracy: 0.857 - ETA: 30s - loss: 0.3240 - accuracy: 0.862 - ETA: 30s - loss: 0.3253 - accuracy: 0.863 - ETA: 30s - loss: 0.3387 - accuracy: 0.856 - ETA: 30s - loss: 0.3298 - accuracy: 0.863 - ETA: 30s - loss: 0.3170 - accuracy: 0.868 - ETA: 30s - loss: 0.3170 - accuracy: 0.868 - ETA: 30s - loss: 0.3308 - accuracy: 0.861 - ETA: 29s - loss: 0.3205 - accuracy: 0.865 - ETA: 29s - loss: 0.3150 - accuracy: 0.868 - ETA: 29s - loss: 0.3231 - accuracy: 0.870 - ETA: 29s - loss: 0.3183 - accuracy: 0.873 - ETA: 29s - loss: 0.3362 - accuracy: 0.870 - ETA: 28s - loss: 0.3339 - accuracy: 0.873 - ETA: 28s - loss: 0.3382 - accuracy: 0.870 - ETA: 28s - loss: 0.3348 - accuracy: 0.872 - ETA: 28s - loss: 0.3337 - accuracy: 0.871 - ETA: 27s - loss: 0.3337 - accuracy: 0.871 - ETA: 27s - loss: 0.3399 - accuracy: 0.869 - ETA: 27s - loss: 0.3380 - accuracy: 0.869 - ETA: 27s - loss: 0.3354 - accuracy: 0.870 - ETA: 26s - loss: 0.3340 - accuracy: 0.870 - ETA: 26s - loss: 0.3352 - accuracy: 0.870 - ETA: 26s - loss: 0.3330 - accuracy: 0.871 - ETA: 26s - loss: 0.3330 - accuracy: 0.872 - ETA: 25s - loss: 0.3388 - accuracy: 0.870 - ETA: 25s - loss: 0.3357 - accuracy: 0.872 - ETA: 25s - loss: 0.3388 - accuracy: 0.871 - ETA: 25s - loss: 0.3433 - accuracy: 0.869 - ETA: 24s - loss: 0.3446 - accuracy: 0.870 - ETA: 24s - loss: 0.3395 - accuracy: 0.871 - ETA: 24s - loss: 0.3393 - accuracy: 0.871 - ETA: 24s - loss: 0.3396 - accuracy: 0.869 - ETA: 24s - loss: 0.3428 - accuracy: 0.869 - ETA: 24s - loss: 0.3407 - accuracy: 0.872 - ETA: 23s - loss: 0.3396 - accuracy: 0.872 - ETA: 23s - loss: 0.3413 - accuracy: 0.872 - ETA: 23s - loss: 0.3453 - accuracy: 0.871 - ETA: 23s - loss: 0.3473 - accuracy: 0.871 - ETA: 23s - loss: 0.3470 - accuracy: 0.871 - ETA: 22s - loss: 0.3467 - accuracy: 0.872 - ETA: 22s - loss: 0.3499 - accuracy: 0.871 - ETA: 22s - loss: 0.3480 - accuracy: 0.872 - ETA: 22s - loss: 0.3475 - accuracy: 0.872 - ETA: 22s - loss: 0.3511 - accuracy: 0.869 - ETA: 21s - loss: 0.3507 - accuracy: 0.870 - ETA: 21s - loss: 0.3521 - accuracy: 0.870 - ETA: 21s - loss: 0.3508 - accuracy: 0.871 - ETA: 21s - loss: 0.3478 - accuracy: 0.873 - ETA: 21s - loss: 0.3450 - accuracy: 0.874 - ETA: 20s - loss: 0.3424 - accuracy: 0.875 - ETA: 20s - loss: 0.3391 - accuracy: 0.876 - ETA: 20s - loss: 0.3368 - accuracy: 0.877 - ETA: 20s - loss: 0.3370 - accuracy: 0.877 - ETA: 19s - loss: 0.3357 - accuracy: 0.877 - ETA: 19s - loss: 0.3349 - accuracy: 0.877 - ETA: 19s - loss: 0.3340 - accuracy: 0.877 - ETA: 19s - loss: 0.3350 - accuracy: 0.876 - ETA: 19s - loss: 0.3348 - accuracy: 0.876 - ETA: 18s - loss: 0.3363 - accuracy: 0.877 - ETA: 18s - loss: 0.3353 - accuracy: 0.876 - ETA: 18s - loss: 0.3339 - accuracy: 0.876 - ETA: 18s - loss: 0.3341 - accuracy: 0.876 - ETA: 18s - loss: 0.3350 - accuracy: 0.876 - ETA: 18s - loss: 0.3354 - accuracy: 0.876 - ETA: 17s - loss: 0.3360 - accuracy: 0.877 - ETA: 17s - loss: 0.3348 - accuracy: 0.877 - ETA: 17s - loss: 0.3368 - accuracy: 0.876 - ETA: 17s - loss: 0.3362 - accuracy: 0.877 - ETA: 17s - loss: 0.3338 - accuracy: 0.878 - ETA: 16s - loss: 0.3345 - accuracy: 0.878 - ETA: 16s - loss: 0.3330 - accuracy: 0.879 - ETA: 16s - loss: 0.3353 - accuracy: 0.877 - ETA: 16s - loss: 0.3347 - accuracy: 0.877 - ETA: 16s - loss: 0.3408 - accuracy: 0.874 - ETA: 15s - loss: 0.3426 - accuracy: 0.874 - ETA: 15s - loss: 0.3434 - accuracy: 0.874 - ETA: 15s - loss: 0.3429 - accuracy: 0.874 - ETA: 15s - loss: 0.3425 - accuracy: 0.873 - ETA: 15s - loss: 0.3434 - accuracy: 0.873 - ETA: 14s - loss: 0.3430 - accuracy: 0.873 - ETA: 14s - loss: 0.3413 - accuracy: 0.874 - ETA: 14s - loss: 0.3422 - accuracy: 0.873 - ETA: 14s - loss: 0.3425 - accuracy: 0.873 - ETA: 14s - loss: 0.3426 - accuracy: 0.872 - ETA: 13s - loss: 0.3401 - accuracy: 0.873 - ETA: 13s - loss: 0.3414 - accuracy: 0.873 - ETA: 13s - loss: 0.3428 - accuracy: 0.872 - ETA: 13s - loss: 0.3450 - accuracy: 0.871 - ETA: 13s - loss: 0.3459 - accuracy: 0.870 - ETA: 13s - loss: 0.3456 - accuracy: 0.870 - ETA: 12s - loss: 0.3447 - accuracy: 0.870 - ETA: 12s - loss: 0.3444 - accuracy: 0.870 - ETA: 12s - loss: 0.3454 - accuracy: 0.870 - ETA: 12s - loss: 0.3472 - accuracy: 0.869 - ETA: 12s - loss: 0.3472 - accuracy: 0.869 - ETA: 11s - loss: 0.3465 - accuracy: 0.870 - ETA: 11s - loss: 0.3453 - accuracy: 0.871 - ETA: 11s - loss: 0.3460 - accuracy: 0.870 - ETA: 11s - loss: 0.3476 - accuracy: 0.870 - ETA: 11s - loss: 0.3497 - accuracy: 0.870 - ETA: 10s - loss: 0.3501 - accuracy: 0.869 - ETA: 10s - loss: 0.3495 - accuracy: 0.869 - ETA: 10s - loss: 0.3491 - accuracy: 0.870 - ETA: 10s - loss: 0.3507 - accuracy: 0.869 - ETA: 10s - loss: 0.3521 - accuracy: 0.869 - ETA: 9s - loss: 0.3511 - accuracy: 0.870 - ETA: 9s - loss: 0.3505 - accuracy: 0.87 - ETA: 9s - loss: 0.3507 - accuracy: 0.87 - ETA: 9s - loss: 0.3524 - accuracy: 0.86 - ETA: 9s - loss: 0.3542 - accuracy: 0.86 - ETA: 9s - loss: 0.3542 - accuracy: 0.86 - ETA: 8s - loss: 0.3542 - accuracy: 0.86 - ETA: 8s - loss: 0.3546 - accuracy: 0.86 - ETA: 8s - loss: 0.3548 - accuracy: 0.86 - ETA: 8s - loss: 0.3540 - accuracy: 0.86 - ETA: 8s - loss: 0.3547 - accuracy: 0.86 - ETA: 7s - loss: 0.3539 - accuracy: 0.86 - ETA: 7s - loss: 0.3549 - accuracy: 0.86 - ETA: 7s - loss: 0.3546 - accuracy: 0.86 - ETA: 7s - loss: 0.3551 - accuracy: 0.86 - ETA: 7s - loss: 0.3553 - accuracy: 0.86 - ETA: 6s - loss: 0.3537 - accuracy: 0.86 - ETA: 6s - loss: 0.3540 - accuracy: 0.86 - ETA: 6s - loss: 0.3540 - accuracy: 0.86 - ETA: 6s - loss: 0.3543 - accuracy: 0.86 - ETA: 6s - loss: 0.3557 - accuracy: 0.86 - ETA: 6s - loss: 0.3556 - accuracy: 0.86 - ETA: 5s - loss: 0.3558 - accuracy: 0.86 - ETA: 5s - loss: 0.3554 - accuracy: 0.86 - ETA: 5s - loss: 0.3566 - accuracy: 0.86 - ETA: 5s - loss: 0.3555 - accuracy: 0.86 - ETA: 5s - loss: 0.3550 - accuracy: 0.86 - ETA: 4s - loss: 0.3541 - accuracy: 0.86 - ETA: 4s - loss: 0.3551 - accuracy: 0.86 - ETA: 4s - loss: 0.3553 - accuracy: 0.86 - ETA: 4s - loss: 0.3554 - accuracy: 0.86 - ETA: 4s - loss: 0.3544 - accuracy: 0.86 - ETA: 3s - loss: 0.3534 - accuracy: 0.86 - ETA: 3s - loss: 0.3532 - accuracy: 0.86 - ETA: 3s - loss: 0.3527 - accuracy: 0.86 - ETA: 3s - loss: 0.3536 - accuracy: 0.86 - ETA: 3s - loss: 0.3540 - accuracy: 0.86 - ETA: 2s - loss: 0.3532 - accuracy: 0.86 - ETA: 2s - loss: 0.3533 - accuracy: 0.86 - ETA: 2s - loss: 0.3538 - accuracy: 0.86 - ETA: 2s - loss: 0.3557 - accuracy: 0.86 - ETA: 2s - loss: 0.3551 - accuracy: 0.86 - ETA: 1s - loss: 0.3538 - accuracy: 0.86 - ETA: 1s - loss: 0.3532 - accuracy: 0.86 - ETA: 1s - loss: 0.3533 - accuracy: 0.86 - ETA: 1s - loss: 0.3527 - accuracy: 0.86 - ETA: 1s - loss: 0.3531 - accuracy: 0.86 - ETA: 0s - loss: 0.3538 - accuracy: 0.86 - ETA: 0s - loss: 0.3532 - accuracy: 0.86 - ETA: 0s - loss: 0.3528 - accuracy: 0.86 - ETA: 0s - loss: 0.3531 - accuracy: 0.86 - ETA: 0s - loss: 0.3535 - accuracy: 0.86 - ETA: 0s - loss: 0.3535 - accuracy: 0.86 - 34s 203ms/step - loss: 0.3535 - accuracy: 0.8682 - val_loss: 0.4233 - val_accuracy: 0.8370\n",
      "Epoch 7/20\n"
     ]
    },
    {
     "name": "stdout",
     "output_type": "stream",
     "text": [
      "167/167 [==============================] - ETA: 31s - loss: 0.1929 - accuracy: 0.906 - ETA: 33s - loss: 0.3465 - accuracy: 0.859 - ETA: 31s - loss: 0.2981 - accuracy: 0.895 - ETA: 31s - loss: 0.3014 - accuracy: 0.898 - ETA: 31s - loss: 0.2885 - accuracy: 0.900 - ETA: 31s - loss: 0.2665 - accuracy: 0.906 - ETA: 30s - loss: 0.2695 - accuracy: 0.901 - ETA: 30s - loss: 0.2919 - accuracy: 0.886 - ETA: 30s - loss: 0.2928 - accuracy: 0.888 - ETA: 30s - loss: 0.2927 - accuracy: 0.887 - ETA: 30s - loss: 0.2816 - accuracy: 0.892 - ETA: 29s - loss: 0.2902 - accuracy: 0.885 - ETA: 29s - loss: 0.2753 - accuracy: 0.894 - ETA: 29s - loss: 0.2662 - accuracy: 0.897 - ETA: 29s - loss: 0.2676 - accuracy: 0.895 - ETA: 29s - loss: 0.2619 - accuracy: 0.898 - ETA: 28s - loss: 0.2768 - accuracy: 0.897 - ETA: 28s - loss: 0.2710 - accuracy: 0.901 - ETA: 28s - loss: 0.2707 - accuracy: 0.899 - ETA: 28s - loss: 0.2630 - accuracy: 0.903 - ETA: 28s - loss: 0.2594 - accuracy: 0.904 - ETA: 28s - loss: 0.2578 - accuracy: 0.903 - ETA: 28s - loss: 0.2606 - accuracy: 0.902 - ETA: 27s - loss: 0.2694 - accuracy: 0.899 - ETA: 27s - loss: 0.2649 - accuracy: 0.901 - ETA: 27s - loss: 0.2734 - accuracy: 0.896 - ETA: 27s - loss: 0.2750 - accuracy: 0.894 - ETA: 26s - loss: 0.2823 - accuracy: 0.892 - ETA: 26s - loss: 0.2863 - accuracy: 0.890 - ETA: 26s - loss: 0.2874 - accuracy: 0.887 - ETA: 26s - loss: 0.2849 - accuracy: 0.888 - ETA: 26s - loss: 0.2882 - accuracy: 0.886 - ETA: 25s - loss: 0.3001 - accuracy: 0.884 - ETA: 25s - loss: 0.2995 - accuracy: 0.885 - ETA: 25s - loss: 0.2973 - accuracy: 0.885 - ETA: 25s - loss: 0.2920 - accuracy: 0.888 - ETA: 25s - loss: 0.2897 - accuracy: 0.889 - ETA: 24s - loss: 0.2886 - accuracy: 0.891 - ETA: 24s - loss: 0.2883 - accuracy: 0.891 - ETA: 24s - loss: 0.2860 - accuracy: 0.892 - ETA: 24s - loss: 0.2826 - accuracy: 0.893 - ETA: 24s - loss: 0.2870 - accuracy: 0.890 - ETA: 23s - loss: 0.2921 - accuracy: 0.889 - ETA: 23s - loss: 0.2926 - accuracy: 0.889 - ETA: 23s - loss: 0.2942 - accuracy: 0.888 - ETA: 23s - loss: 0.2922 - accuracy: 0.888 - ETA: 23s - loss: 0.2928 - accuracy: 0.889 - ETA: 22s - loss: 0.2921 - accuracy: 0.889 - ETA: 22s - loss: 0.2907 - accuracy: 0.890 - ETA: 22s - loss: 0.2916 - accuracy: 0.889 - ETA: 22s - loss: 0.2904 - accuracy: 0.888 - ETA: 22s - loss: 0.2914 - accuracy: 0.886 - ETA: 21s - loss: 0.2884 - accuracy: 0.887 - ETA: 21s - loss: 0.2879 - accuracy: 0.888 - ETA: 21s - loss: 0.2898 - accuracy: 0.887 - ETA: 21s - loss: 0.2910 - accuracy: 0.886 - ETA: 21s - loss: 0.2890 - accuracy: 0.887 - ETA: 20s - loss: 0.2884 - accuracy: 0.887 - ETA: 20s - loss: 0.2894 - accuracy: 0.886 - ETA: 20s - loss: 0.2863 - accuracy: 0.887 - ETA: 20s - loss: 0.2880 - accuracy: 0.886 - ETA: 20s - loss: 0.2882 - accuracy: 0.886 - ETA: 19s - loss: 0.2891 - accuracy: 0.885 - ETA: 19s - loss: 0.2908 - accuracy: 0.885 - ETA: 19s - loss: 0.2898 - accuracy: 0.885 - ETA: 19s - loss: 0.2905 - accuracy: 0.885 - ETA: 19s - loss: 0.2882 - accuracy: 0.886 - ETA: 18s - loss: 0.2919 - accuracy: 0.885 - ETA: 18s - loss: 0.2963 - accuracy: 0.884 - ETA: 18s - loss: 0.2941 - accuracy: 0.885 - ETA: 18s - loss: 0.2934 - accuracy: 0.886 - ETA: 18s - loss: 0.2919 - accuracy: 0.886 - ETA: 18s - loss: 0.2947 - accuracy: 0.887 - ETA: 17s - loss: 0.2946 - accuracy: 0.886 - ETA: 17s - loss: 0.2946 - accuracy: 0.886 - ETA: 17s - loss: 0.2927 - accuracy: 0.887 - ETA: 17s - loss: 0.2918 - accuracy: 0.887 - ETA: 17s - loss: 0.2901 - accuracy: 0.888 - ETA: 16s - loss: 0.2913 - accuracy: 0.887 - ETA: 16s - loss: 0.2902 - accuracy: 0.888 - ETA: 16s - loss: 0.2908 - accuracy: 0.887 - ETA: 16s - loss: 0.2888 - accuracy: 0.888 - ETA: 16s - loss: 0.2880 - accuracy: 0.888 - ETA: 15s - loss: 0.2887 - accuracy: 0.888 - ETA: 15s - loss: 0.2865 - accuracy: 0.889 - ETA: 15s - loss: 0.2892 - accuracy: 0.887 - ETA: 15s - loss: 0.2906 - accuracy: 0.887 - ETA: 15s - loss: 0.2928 - accuracy: 0.886 - ETA: 14s - loss: 0.2920 - accuracy: 0.886 - ETA: 14s - loss: 0.2922 - accuracy: 0.886 - ETA: 14s - loss: 0.2924 - accuracy: 0.886 - ETA: 14s - loss: 0.2917 - accuracy: 0.886 - ETA: 14s - loss: 0.2921 - accuracy: 0.886 - ETA: 14s - loss: 0.2915 - accuracy: 0.885 - ETA: 13s - loss: 0.2899 - accuracy: 0.886 - ETA: 13s - loss: 0.2919 - accuracy: 0.885 - ETA: 13s - loss: 0.2899 - accuracy: 0.886 - ETA: 13s - loss: 0.2881 - accuracy: 0.887 - ETA: 13s - loss: 0.2864 - accuracy: 0.888 - ETA: 12s - loss: 0.2871 - accuracy: 0.888 - ETA: 12s - loss: 0.2882 - accuracy: 0.888 - ETA: 12s - loss: 0.2878 - accuracy: 0.888 - ETA: 12s - loss: 0.2861 - accuracy: 0.889 - ETA: 12s - loss: 0.2844 - accuracy: 0.890 - ETA: 12s - loss: 0.2846 - accuracy: 0.889 - ETA: 11s - loss: 0.2852 - accuracy: 0.889 - ETA: 11s - loss: 0.2862 - accuracy: 0.889 - ETA: 11s - loss: 0.2851 - accuracy: 0.890 - ETA: 11s - loss: 0.2868 - accuracy: 0.889 - ETA: 11s - loss: 0.2861 - accuracy: 0.889 - ETA: 10s - loss: 0.2855 - accuracy: 0.889 - ETA: 10s - loss: 0.2841 - accuracy: 0.889 - ETA: 10s - loss: 0.2857 - accuracy: 0.889 - ETA: 10s - loss: 0.2844 - accuracy: 0.889 - ETA: 10s - loss: 0.2847 - accuracy: 0.889 - ETA: 9s - loss: 0.2880 - accuracy: 0.888 - ETA: 9s - loss: 0.2897 - accuracy: 0.88 - ETA: 9s - loss: 0.2889 - accuracy: 0.88 - ETA: 9s - loss: 0.2890 - accuracy: 0.88 - ETA: 9s - loss: 0.2890 - accuracy: 0.88 - ETA: 8s - loss: 0.2879 - accuracy: 0.88 - ETA: 8s - loss: 0.2881 - accuracy: 0.88 - ETA: 8s - loss: 0.2875 - accuracy: 0.88 - ETA: 8s - loss: 0.2876 - accuracy: 0.88 - ETA: 8s - loss: 0.2882 - accuracy: 0.88 - ETA: 7s - loss: 0.2880 - accuracy: 0.88 - ETA: 7s - loss: 0.2896 - accuracy: 0.88 - ETA: 7s - loss: 0.2895 - accuracy: 0.88 - ETA: 7s - loss: 0.2900 - accuracy: 0.88 - ETA: 7s - loss: 0.2899 - accuracy: 0.88 - ETA: 7s - loss: 0.2904 - accuracy: 0.88 - ETA: 6s - loss: 0.2898 - accuracy: 0.88 - ETA: 6s - loss: 0.2897 - accuracy: 0.88 - ETA: 6s - loss: 0.2913 - accuracy: 0.88 - ETA: 6s - loss: 0.2906 - accuracy: 0.88 - ETA: 6s - loss: 0.2925 - accuracy: 0.88 - ETA: 5s - loss: 0.2921 - accuracy: 0.88 - ETA: 5s - loss: 0.2908 - accuracy: 0.88 - ETA: 5s - loss: 0.2914 - accuracy: 0.88 - ETA: 5s - loss: 0.2915 - accuracy: 0.88 - ETA: 5s - loss: 0.2911 - accuracy: 0.88 - ETA: 4s - loss: 0.2914 - accuracy: 0.88 - ETA: 4s - loss: 0.2920 - accuracy: 0.88 - ETA: 4s - loss: 0.2914 - accuracy: 0.88 - ETA: 4s - loss: 0.2919 - accuracy: 0.88 - ETA: 4s - loss: 0.2921 - accuracy: 0.88 - ETA: 3s - loss: 0.2921 - accuracy: 0.88 - ETA: 3s - loss: 0.2921 - accuracy: 0.88 - ETA: 3s - loss: 0.2910 - accuracy: 0.88 - ETA: 3s - loss: 0.2920 - accuracy: 0.88 - ETA: 3s - loss: 0.2927 - accuracy: 0.88 - ETA: 2s - loss: 0.2924 - accuracy: 0.88 - ETA: 2s - loss: 0.2922 - accuracy: 0.88 - ETA: 2s - loss: 0.2926 - accuracy: 0.88 - ETA: 2s - loss: 0.2924 - accuracy: 0.88 - ETA: 2s - loss: 0.2919 - accuracy: 0.88 - ETA: 2s - loss: 0.2917 - accuracy: 0.88 - ETA: 1s - loss: 0.2920 - accuracy: 0.88 - ETA: 1s - loss: 0.2920 - accuracy: 0.88 - ETA: 1s - loss: 0.2910 - accuracy: 0.88 - ETA: 1s - loss: 0.2905 - accuracy: 0.88 - ETA: 1s - loss: 0.2905 - accuracy: 0.88 - ETA: 0s - loss: 0.2915 - accuracy: 0.88 - ETA: 0s - loss: 0.2934 - accuracy: 0.88 - ETA: 0s - loss: 0.2937 - accuracy: 0.88 - ETA: 0s - loss: 0.2932 - accuracy: 0.88 - ETA: 0s - loss: 0.2931 - accuracy: 0.88 - 35s 210ms/step - loss: 0.2931 - accuracy: 0.8865 - val_loss: 0.4016 - val_accuracy: 0.8543\n",
      "Epoch 8/20\n"
     ]
    },
    {
     "name": "stdout",
     "output_type": "stream",
     "text": [
      "167/167 [==============================] - ETA: 32s - loss: 0.1443 - accuracy: 0.968 - ETA: 32s - loss: 0.2254 - accuracy: 0.921 - ETA: 31s - loss: 0.2130 - accuracy: 0.927 - ETA: 30s - loss: 0.2029 - accuracy: 0.921 - ETA: 30s - loss: 0.2003 - accuracy: 0.918 - ETA: 31s - loss: 0.2098 - accuracy: 0.906 - ETA: 31s - loss: 0.2461 - accuracy: 0.897 - ETA: 31s - loss: 0.2623 - accuracy: 0.894 - ETA: 31s - loss: 0.2510 - accuracy: 0.899 - ETA: 31s - loss: 0.2425 - accuracy: 0.903 - ETA: 31s - loss: 0.2437 - accuracy: 0.906 - ETA: 31s - loss: 0.2451 - accuracy: 0.901 - ETA: 31s - loss: 0.2451 - accuracy: 0.899 - ETA: 30s - loss: 0.2443 - accuracy: 0.899 - ETA: 30s - loss: 0.2487 - accuracy: 0.900 - ETA: 30s - loss: 0.2459 - accuracy: 0.898 - ETA: 30s - loss: 0.2383 - accuracy: 0.902 - ETA: 29s - loss: 0.2527 - accuracy: 0.895 - ETA: 29s - loss: 0.2546 - accuracy: 0.894 - ETA: 29s - loss: 0.2508 - accuracy: 0.896 - ETA: 29s - loss: 0.2549 - accuracy: 0.894 - ETA: 28s - loss: 0.2549 - accuracy: 0.896 - ETA: 28s - loss: 0.2624 - accuracy: 0.892 - ETA: 28s - loss: 0.2609 - accuracy: 0.893 - ETA: 28s - loss: 0.2599 - accuracy: 0.893 - ETA: 27s - loss: 0.2676 - accuracy: 0.890 - ETA: 27s - loss: 0.2652 - accuracy: 0.891 - ETA: 27s - loss: 0.2663 - accuracy: 0.890 - ETA: 27s - loss: 0.2596 - accuracy: 0.894 - ETA: 26s - loss: 0.2553 - accuracy: 0.896 - ETA: 26s - loss: 0.2603 - accuracy: 0.897 - ETA: 26s - loss: 0.2584 - accuracy: 0.896 - ETA: 26s - loss: 0.2544 - accuracy: 0.899 - ETA: 26s - loss: 0.2593 - accuracy: 0.898 - ETA: 25s - loss: 0.2592 - accuracy: 0.897 - ETA: 25s - loss: 0.2650 - accuracy: 0.893 - ETA: 25s - loss: 0.2679 - accuracy: 0.891 - ETA: 25s - loss: 0.2671 - accuracy: 0.892 - ETA: 25s - loss: 0.2685 - accuracy: 0.892 - ETA: 24s - loss: 0.2705 - accuracy: 0.892 - ETA: 24s - loss: 0.2707 - accuracy: 0.891 - ETA: 24s - loss: 0.2723 - accuracy: 0.891 - ETA: 24s - loss: 0.2707 - accuracy: 0.892 - ETA: 24s - loss: 0.2725 - accuracy: 0.892 - ETA: 23s - loss: 0.2701 - accuracy: 0.893 - ETA: 23s - loss: 0.2708 - accuracy: 0.893 - ETA: 23s - loss: 0.2680 - accuracy: 0.894 - ETA: 23s - loss: 0.2696 - accuracy: 0.895 - ETA: 22s - loss: 0.2675 - accuracy: 0.895 - ETA: 22s - loss: 0.2696 - accuracy: 0.893 - ETA: 22s - loss: 0.2679 - accuracy: 0.894 - ETA: 22s - loss: 0.2663 - accuracy: 0.894 - ETA: 22s - loss: 0.2641 - accuracy: 0.895 - ETA: 21s - loss: 0.2647 - accuracy: 0.894 - ETA: 21s - loss: 0.2632 - accuracy: 0.894 - ETA: 21s - loss: 0.2615 - accuracy: 0.895 - ETA: 21s - loss: 0.2668 - accuracy: 0.895 - ETA: 21s - loss: 0.2645 - accuracy: 0.896 - ETA: 20s - loss: 0.2694 - accuracy: 0.893 - ETA: 20s - loss: 0.2713 - accuracy: 0.892 - ETA: 20s - loss: 0.2717 - accuracy: 0.891 - ETA: 20s - loss: 0.2722 - accuracy: 0.892 - ETA: 20s - loss: 0.2716 - accuracy: 0.892 - ETA: 19s - loss: 0.2712 - accuracy: 0.893 - ETA: 19s - loss: 0.2725 - accuracy: 0.892 - ETA: 19s - loss: 0.2707 - accuracy: 0.893 - ETA: 19s - loss: 0.2696 - accuracy: 0.894 - ETA: 19s - loss: 0.2686 - accuracy: 0.894 - ETA: 18s - loss: 0.2684 - accuracy: 0.894 - ETA: 18s - loss: 0.2653 - accuracy: 0.896 - ETA: 18s - loss: 0.2648 - accuracy: 0.896 - ETA: 18s - loss: 0.2662 - accuracy: 0.896 - ETA: 18s - loss: 0.2696 - accuracy: 0.894 - ETA: 17s - loss: 0.2699 - accuracy: 0.894 - ETA: 17s - loss: 0.2705 - accuracy: 0.894 - ETA: 17s - loss: 0.2702 - accuracy: 0.894 - ETA: 17s - loss: 0.2712 - accuracy: 0.893 - ETA: 17s - loss: 0.2705 - accuracy: 0.893 - ETA: 16s - loss: 0.2688 - accuracy: 0.894 - ETA: 16s - loss: 0.2700 - accuracy: 0.894 - ETA: 16s - loss: 0.2706 - accuracy: 0.894 - ETA: 16s - loss: 0.2723 - accuracy: 0.892 - ETA: 16s - loss: 0.2729 - accuracy: 0.893 - ETA: 15s - loss: 0.2738 - accuracy: 0.892 - ETA: 15s - loss: 0.2762 - accuracy: 0.892 - ETA: 15s - loss: 0.2757 - accuracy: 0.893 - ETA: 15s - loss: 0.2744 - accuracy: 0.893 - ETA: 15s - loss: 0.2750 - accuracy: 0.892 - ETA: 14s - loss: 0.2732 - accuracy: 0.894 - ETA: 14s - loss: 0.2717 - accuracy: 0.894 - ETA: 14s - loss: 0.2749 - accuracy: 0.893 - ETA: 14s - loss: 0.2746 - accuracy: 0.893 - ETA: 14s - loss: 0.2735 - accuracy: 0.894 - ETA: 13s - loss: 0.2745 - accuracy: 0.894 - ETA: 13s - loss: 0.2748 - accuracy: 0.894 - ETA: 13s - loss: 0.2749 - accuracy: 0.894 - ETA: 13s - loss: 0.2746 - accuracy: 0.894 - ETA: 13s - loss: 0.2755 - accuracy: 0.893 - ETA: 12s - loss: 0.2744 - accuracy: 0.893 - ETA: 12s - loss: 0.2729 - accuracy: 0.894 - ETA: 12s - loss: 0.2751 - accuracy: 0.893 - ETA: 12s - loss: 0.2743 - accuracy: 0.893 - ETA: 12s - loss: 0.2732 - accuracy: 0.893 - ETA: 11s - loss: 0.2736 - accuracy: 0.893 - ETA: 11s - loss: 0.2726 - accuracy: 0.893 - ETA: 11s - loss: 0.2715 - accuracy: 0.894 - ETA: 11s - loss: 0.2713 - accuracy: 0.894 - ETA: 11s - loss: 0.2710 - accuracy: 0.894 - ETA: 10s - loss: 0.2711 - accuracy: 0.894 - ETA: 10s - loss: 0.2702 - accuracy: 0.894 - ETA: 10s - loss: 0.2709 - accuracy: 0.894 - ETA: 10s - loss: 0.2713 - accuracy: 0.894 - ETA: 10s - loss: 0.2738 - accuracy: 0.893 - ETA: 10s - loss: 0.2737 - accuracy: 0.893 - ETA: 9s - loss: 0.2727 - accuracy: 0.893 - ETA: 9s - loss: 0.2725 - accuracy: 0.89 - ETA: 9s - loss: 0.2715 - accuracy: 0.89 - ETA: 9s - loss: 0.2714 - accuracy: 0.89 - ETA: 9s - loss: 0.2701 - accuracy: 0.89 - ETA: 8s - loss: 0.2688 - accuracy: 0.89 - ETA: 8s - loss: 0.2678 - accuracy: 0.89 - ETA: 8s - loss: 0.2672 - accuracy: 0.89 - ETA: 8s - loss: 0.2690 - accuracy: 0.89 - ETA: 8s - loss: 0.2692 - accuracy: 0.89 - ETA: 7s - loss: 0.2682 - accuracy: 0.89 - ETA: 7s - loss: 0.2684 - accuracy: 0.89 - ETA: 7s - loss: 0.2696 - accuracy: 0.89 - ETA: 7s - loss: 0.2684 - accuracy: 0.89 - ETA: 7s - loss: 0.2674 - accuracy: 0.89 - ETA: 6s - loss: 0.2669 - accuracy: 0.89 - ETA: 6s - loss: 0.2675 - accuracy: 0.89 - ETA: 6s - loss: 0.2680 - accuracy: 0.89 - ETA: 6s - loss: 0.2671 - accuracy: 0.89 - ETA: 6s - loss: 0.2675 - accuracy: 0.89 - ETA: 6s - loss: 0.2666 - accuracy: 0.89 - ETA: 5s - loss: 0.2658 - accuracy: 0.89 - ETA: 5s - loss: 0.2653 - accuracy: 0.89 - ETA: 5s - loss: 0.2645 - accuracy: 0.89 - ETA: 5s - loss: 0.2662 - accuracy: 0.89 - ETA: 5s - loss: 0.2657 - accuracy: 0.89 - ETA: 4s - loss: 0.2666 - accuracy: 0.89 - ETA: 4s - loss: 0.2668 - accuracy: 0.89 - ETA: 4s - loss: 0.2667 - accuracy: 0.89 - ETA: 4s - loss: 0.2665 - accuracy: 0.89 - ETA: 4s - loss: 0.2676 - accuracy: 0.89 - ETA: 3s - loss: 0.2669 - accuracy: 0.89 - ETA: 3s - loss: 0.2669 - accuracy: 0.89 - ETA: 3s - loss: 0.2673 - accuracy: 0.89 - ETA: 3s - loss: 0.2680 - accuracy: 0.89 - ETA: 3s - loss: 0.2679 - accuracy: 0.89 - ETA: 3s - loss: 0.2681 - accuracy: 0.89 - ETA: 2s - loss: 0.2674 - accuracy: 0.89 - ETA: 2s - loss: 0.2682 - accuracy: 0.89 - ETA: 2s - loss: 0.2670 - accuracy: 0.89 - ETA: 2s - loss: 0.2674 - accuracy: 0.89 - ETA: 2s - loss: 0.2668 - accuracy: 0.89 - ETA: 1s - loss: 0.2680 - accuracy: 0.89 - ETA: 1s - loss: 0.2684 - accuracy: 0.89 - ETA: 1s - loss: 0.2681 - accuracy: 0.89 - ETA: 1s - loss: 0.2673 - accuracy: 0.89 - ETA: 1s - loss: 0.2671 - accuracy: 0.89 - ETA: 0s - loss: 0.2695 - accuracy: 0.89 - ETA: 0s - loss: 0.2682 - accuracy: 0.89 - ETA: 0s - loss: 0.2683 - accuracy: 0.89 - ETA: 0s - loss: 0.2672 - accuracy: 0.89 - ETA: 0s - loss: 0.2668 - accuracy: 0.89 - ETA: 0s - loss: 0.2671 - accuracy: 0.89 - 33s 196ms/step - loss: 0.2671 - accuracy: 0.8974 - val_loss: 0.4025 - val_accuracy: 0.8474\n",
      "Epoch 9/20\n"
     ]
    },
    {
     "name": "stdout",
     "output_type": "stream",
     "text": [
      "167/167 [==============================] - ETA: 30s - loss: 0.1906 - accuracy: 0.937 - ETA: 31s - loss: 0.1912 - accuracy: 0.906 - ETA: 30s - loss: 0.2750 - accuracy: 0.875 - ETA: 30s - loss: 0.3093 - accuracy: 0.867 - ETA: 30s - loss: 0.3320 - accuracy: 0.856 - ETA: 30s - loss: 0.3297 - accuracy: 0.859 - ETA: 29s - loss: 0.3272 - accuracy: 0.861 - ETA: 29s - loss: 0.3243 - accuracy: 0.863 - ETA: 29s - loss: 0.3225 - accuracy: 0.861 - ETA: 29s - loss: 0.3439 - accuracy: 0.853 - ETA: 28s - loss: 0.3577 - accuracy: 0.852 - ETA: 28s - loss: 0.3530 - accuracy: 0.856 - ETA: 28s - loss: 0.3588 - accuracy: 0.858 - ETA: 28s - loss: 0.3470 - accuracy: 0.861 - ETA: 28s - loss: 0.3371 - accuracy: 0.864 - ETA: 27s - loss: 0.3270 - accuracy: 0.867 - ETA: 27s - loss: 0.3160 - accuracy: 0.873 - ETA: 27s - loss: 0.3110 - accuracy: 0.875 - ETA: 27s - loss: 0.3014 - accuracy: 0.879 - ETA: 27s - loss: 0.2977 - accuracy: 0.881 - ETA: 27s - loss: 0.2958 - accuracy: 0.879 - ETA: 26s - loss: 0.2930 - accuracy: 0.879 - ETA: 26s - loss: 0.2980 - accuracy: 0.880 - ETA: 26s - loss: 0.2944 - accuracy: 0.881 - ETA: 26s - loss: 0.2927 - accuracy: 0.883 - ETA: 26s - loss: 0.2906 - accuracy: 0.885 - ETA: 25s - loss: 0.2883 - accuracy: 0.887 - ETA: 25s - loss: 0.2861 - accuracy: 0.888 - ETA: 25s - loss: 0.2811 - accuracy: 0.890 - ETA: 25s - loss: 0.2858 - accuracy: 0.887 - ETA: 25s - loss: 0.2871 - accuracy: 0.886 - ETA: 24s - loss: 0.2827 - accuracy: 0.887 - ETA: 24s - loss: 0.2808 - accuracy: 0.888 - ETA: 24s - loss: 0.2804 - accuracy: 0.886 - ETA: 24s - loss: 0.2792 - accuracy: 0.886 - ETA: 24s - loss: 0.2769 - accuracy: 0.886 - ETA: 24s - loss: 0.2753 - accuracy: 0.887 - ETA: 24s - loss: 0.2848 - accuracy: 0.885 - ETA: 23s - loss: 0.2880 - accuracy: 0.884 - ETA: 23s - loss: 0.2898 - accuracy: 0.884 - ETA: 23s - loss: 0.2914 - accuracy: 0.884 - ETA: 23s - loss: 0.2864 - accuracy: 0.887 - ETA: 23s - loss: 0.2896 - accuracy: 0.886 - ETA: 23s - loss: 0.2872 - accuracy: 0.887 - ETA: 22s - loss: 0.2858 - accuracy: 0.887 - ETA: 22s - loss: 0.2857 - accuracy: 0.887 - ETA: 22s - loss: 0.2858 - accuracy: 0.887 - ETA: 22s - loss: 0.2832 - accuracy: 0.888 - ETA: 22s - loss: 0.2844 - accuracy: 0.889 - ETA: 22s - loss: 0.2844 - accuracy: 0.889 - ETA: 21s - loss: 0.2837 - accuracy: 0.889 - ETA: 21s - loss: 0.2812 - accuracy: 0.890 - ETA: 21s - loss: 0.2795 - accuracy: 0.892 - ETA: 21s - loss: 0.2773 - accuracy: 0.893 - ETA: 21s - loss: 0.2756 - accuracy: 0.893 - ETA: 20s - loss: 0.2762 - accuracy: 0.894 - ETA: 20s - loss: 0.2740 - accuracy: 0.895 - ETA: 20s - loss: 0.2726 - accuracy: 0.896 - ETA: 20s - loss: 0.2703 - accuracy: 0.896 - ETA: 20s - loss: 0.2735 - accuracy: 0.894 - ETA: 19s - loss: 0.2737 - accuracy: 0.894 - ETA: 19s - loss: 0.2760 - accuracy: 0.894 - ETA: 19s - loss: 0.2807 - accuracy: 0.894 - ETA: 19s - loss: 0.2794 - accuracy: 0.894 - ETA: 19s - loss: 0.2812 - accuracy: 0.894 - ETA: 18s - loss: 0.2825 - accuracy: 0.893 - ETA: 18s - loss: 0.2837 - accuracy: 0.893 - ETA: 18s - loss: 0.2831 - accuracy: 0.893 - ETA: 18s - loss: 0.2825 - accuracy: 0.893 - ETA: 18s - loss: 0.2814 - accuracy: 0.894 - ETA: 17s - loss: 0.2814 - accuracy: 0.894 - ETA: 17s - loss: 0.2797 - accuracy: 0.894 - ETA: 17s - loss: 0.2783 - accuracy: 0.895 - ETA: 17s - loss: 0.2758 - accuracy: 0.896 - ETA: 17s - loss: 0.2739 - accuracy: 0.897 - ETA: 16s - loss: 0.2742 - accuracy: 0.897 - ETA: 16s - loss: 0.2732 - accuracy: 0.897 - ETA: 16s - loss: 0.2733 - accuracy: 0.897 - ETA: 16s - loss: 0.2725 - accuracy: 0.897 - ETA: 16s - loss: 0.2718 - accuracy: 0.898 - ETA: 16s - loss: 0.2727 - accuracy: 0.898 - ETA: 15s - loss: 0.2719 - accuracy: 0.898 - ETA: 15s - loss: 0.2723 - accuracy: 0.898 - ETA: 15s - loss: 0.2720 - accuracy: 0.899 - ETA: 15s - loss: 0.2716 - accuracy: 0.899 - ETA: 15s - loss: 0.2712 - accuracy: 0.898 - ETA: 14s - loss: 0.2692 - accuracy: 0.899 - ETA: 14s - loss: 0.2690 - accuracy: 0.899 - ETA: 14s - loss: 0.2678 - accuracy: 0.899 - ETA: 14s - loss: 0.2681 - accuracy: 0.900 - ETA: 14s - loss: 0.2678 - accuracy: 0.900 - ETA: 13s - loss: 0.2695 - accuracy: 0.898 - ETA: 13s - loss: 0.2687 - accuracy: 0.899 - ETA: 13s - loss: 0.2673 - accuracy: 0.899 - ETA: 13s - loss: 0.2689 - accuracy: 0.899 - ETA: 13s - loss: 0.2678 - accuracy: 0.899 - ETA: 13s - loss: 0.2696 - accuracy: 0.899 - ETA: 12s - loss: 0.2706 - accuracy: 0.898 - ETA: 12s - loss: 0.2709 - accuracy: 0.898 - ETA: 12s - loss: 0.2722 - accuracy: 0.897 - ETA: 12s - loss: 0.2716 - accuracy: 0.897 - ETA: 12s - loss: 0.2704 - accuracy: 0.898 - ETA: 11s - loss: 0.2704 - accuracy: 0.898 - ETA: 11s - loss: 0.2698 - accuracy: 0.899 - ETA: 11s - loss: 0.2700 - accuracy: 0.898 - ETA: 11s - loss: 0.2694 - accuracy: 0.899 - ETA: 11s - loss: 0.2695 - accuracy: 0.898 - ETA: 10s - loss: 0.2722 - accuracy: 0.898 - ETA: 10s - loss: 0.2722 - accuracy: 0.897 - ETA: 10s - loss: 0.2719 - accuracy: 0.898 - ETA: 10s - loss: 0.2730 - accuracy: 0.898 - ETA: 10s - loss: 0.2722 - accuracy: 0.898 - ETA: 10s - loss: 0.2709 - accuracy: 0.899 - ETA: 9s - loss: 0.2710 - accuracy: 0.898 - ETA: 9s - loss: 0.2714 - accuracy: 0.89 - ETA: 9s - loss: 0.2711 - accuracy: 0.89 - ETA: 9s - loss: 0.2713 - accuracy: 0.89 - ETA: 9s - loss: 0.2719 - accuracy: 0.89 - ETA: 8s - loss: 0.2729 - accuracy: 0.89 - ETA: 8s - loss: 0.2729 - accuracy: 0.89 - ETA: 8s - loss: 0.2744 - accuracy: 0.89 - ETA: 8s - loss: 0.2729 - accuracy: 0.89 - ETA: 8s - loss: 0.2740 - accuracy: 0.89 - ETA: 7s - loss: 0.2737 - accuracy: 0.89 - ETA: 7s - loss: 0.2744 - accuracy: 0.89 - ETA: 7s - loss: 0.2745 - accuracy: 0.89 - ETA: 7s - loss: 0.2752 - accuracy: 0.89 - ETA: 7s - loss: 0.2754 - accuracy: 0.89 - ETA: 7s - loss: 0.2749 - accuracy: 0.89 - ETA: 6s - loss: 0.2737 - accuracy: 0.89 - ETA: 6s - loss: 0.2738 - accuracy: 0.89 - ETA: 6s - loss: 0.2736 - accuracy: 0.89 - ETA: 6s - loss: 0.2738 - accuracy: 0.89 - ETA: 6s - loss: 0.2745 - accuracy: 0.89 - ETA: 5s - loss: 0.2741 - accuracy: 0.89 - ETA: 5s - loss: 0.2744 - accuracy: 0.89 - ETA: 5s - loss: 0.2767 - accuracy: 0.89 - ETA: 5s - loss: 0.2772 - accuracy: 0.89 - ETA: 5s - loss: 0.2772 - accuracy: 0.89 - ETA: 4s - loss: 0.2769 - accuracy: 0.89 - ETA: 4s - loss: 0.2763 - accuracy: 0.89 - ETA: 4s - loss: 0.2758 - accuracy: 0.89 - ETA: 4s - loss: 0.2752 - accuracy: 0.89 - ETA: 4s - loss: 0.2744 - accuracy: 0.89 - ETA: 4s - loss: 0.2740 - accuracy: 0.89 - ETA: 3s - loss: 0.2736 - accuracy: 0.89 - ETA: 3s - loss: 0.2745 - accuracy: 0.89 - ETA: 3s - loss: 0.2739 - accuracy: 0.89 - ETA: 3s - loss: 0.2732 - accuracy: 0.89 - ETA: 3s - loss: 0.2733 - accuracy: 0.89 - ETA: 2s - loss: 0.2729 - accuracy: 0.89 - ETA: 2s - loss: 0.2724 - accuracy: 0.89 - ETA: 2s - loss: 0.2717 - accuracy: 0.89 - ETA: 2s - loss: 0.2718 - accuracy: 0.89 - ETA: 2s - loss: 0.2719 - accuracy: 0.89 - ETA: 2s - loss: 0.2727 - accuracy: 0.89 - ETA: 1s - loss: 0.2725 - accuracy: 0.89 - ETA: 1s - loss: 0.2715 - accuracy: 0.89 - ETA: 1s - loss: 0.2716 - accuracy: 0.89 - ETA: 1s - loss: 0.2706 - accuracy: 0.89 - ETA: 1s - loss: 0.2701 - accuracy: 0.89 - ETA: 0s - loss: 0.2687 - accuracy: 0.89 - ETA: 0s - loss: 0.2681 - accuracy: 0.89 - ETA: 0s - loss: 0.2676 - accuracy: 0.89 - ETA: 0s - loss: 0.2673 - accuracy: 0.89 - ETA: 0s - loss: 0.2673 - accuracy: 0.89 - ETA: 0s - loss: 0.2673 - accuracy: 0.89 - 32s 191ms/step - loss: 0.2673 - accuracy: 0.8987 - val_loss: 0.4355 - val_accuracy: 0.8428\n",
      "Epoch 10/20\n"
     ]
    },
    {
     "name": "stdout",
     "output_type": "stream",
     "text": [
      "167/167 [==============================] - ETA: 28s - loss: 0.2885 - accuracy: 0.875 - ETA: 30s - loss: 0.2062 - accuracy: 0.921 - ETA: 29s - loss: 0.1996 - accuracy: 0.927 - ETA: 29s - loss: 0.2096 - accuracy: 0.921 - ETA: 28s - loss: 0.2220 - accuracy: 0.925 - ETA: 28s - loss: 0.2169 - accuracy: 0.921 - ETA: 28s - loss: 0.1967 - accuracy: 0.928 - ETA: 28s - loss: 0.1993 - accuracy: 0.925 - ETA: 28s - loss: 0.2052 - accuracy: 0.927 - ETA: 27s - loss: 0.2001 - accuracy: 0.928 - ETA: 27s - loss: 0.2082 - accuracy: 0.923 - ETA: 27s - loss: 0.2020 - accuracy: 0.924 - ETA: 27s - loss: 0.1962 - accuracy: 0.927 - ETA: 27s - loss: 0.1922 - accuracy: 0.930 - ETA: 26s - loss: 0.1908 - accuracy: 0.929 - ETA: 26s - loss: 0.1918 - accuracy: 0.927 - ETA: 26s - loss: 0.1936 - accuracy: 0.926 - ETA: 26s - loss: 0.1994 - accuracy: 0.923 - ETA: 26s - loss: 0.1925 - accuracy: 0.926 - ETA: 26s - loss: 0.1916 - accuracy: 0.928 - ETA: 25s - loss: 0.1884 - accuracy: 0.930 - ETA: 25s - loss: 0.1859 - accuracy: 0.929 - ETA: 25s - loss: 0.1937 - accuracy: 0.926 - ETA: 25s - loss: 0.1918 - accuracy: 0.927 - ETA: 25s - loss: 0.1884 - accuracy: 0.928 - ETA: 24s - loss: 0.1830 - accuracy: 0.931 - ETA: 24s - loss: 0.1799 - accuracy: 0.931 - ETA: 24s - loss: 0.1832 - accuracy: 0.929 - ETA: 24s - loss: 0.1829 - accuracy: 0.928 - ETA: 24s - loss: 0.1823 - accuracy: 0.928 - ETA: 24s - loss: 0.1807 - accuracy: 0.928 - ETA: 23s - loss: 0.1843 - accuracy: 0.927 - ETA: 23s - loss: 0.1830 - accuracy: 0.929 - ETA: 23s - loss: 0.1830 - accuracy: 0.927 - ETA: 23s - loss: 0.1823 - accuracy: 0.926 - ETA: 23s - loss: 0.1805 - accuracy: 0.928 - ETA: 23s - loss: 0.1769 - accuracy: 0.929 - ETA: 22s - loss: 0.1796 - accuracy: 0.929 - ETA: 22s - loss: 0.1788 - accuracy: 0.930 - ETA: 22s - loss: 0.1800 - accuracy: 0.928 - ETA: 22s - loss: 0.1779 - accuracy: 0.929 - ETA: 22s - loss: 0.1753 - accuracy: 0.930 - ETA: 21s - loss: 0.1762 - accuracy: 0.930 - ETA: 21s - loss: 0.1754 - accuracy: 0.931 - ETA: 21s - loss: 0.1744 - accuracy: 0.931 - ETA: 21s - loss: 0.1737 - accuracy: 0.931 - ETA: 21s - loss: 0.1737 - accuracy: 0.930 - ETA: 21s - loss: 0.1740 - accuracy: 0.930 - ETA: 20s - loss: 0.1719 - accuracy: 0.931 - ETA: 20s - loss: 0.1724 - accuracy: 0.931 - ETA: 20s - loss: 0.1727 - accuracy: 0.930 - ETA: 20s - loss: 0.1730 - accuracy: 0.930 - ETA: 20s - loss: 0.1728 - accuracy: 0.931 - ETA: 19s - loss: 0.1794 - accuracy: 0.930 - ETA: 19s - loss: 0.1812 - accuracy: 0.929 - ETA: 19s - loss: 0.1850 - accuracy: 0.927 - ETA: 19s - loss: 0.1848 - accuracy: 0.928 - ETA: 19s - loss: 0.1852 - accuracy: 0.926 - ETA: 19s - loss: 0.1874 - accuracy: 0.926 - ETA: 18s - loss: 0.1896 - accuracy: 0.926 - ETA: 18s - loss: 0.1898 - accuracy: 0.926 - ETA: 18s - loss: 0.1915 - accuracy: 0.926 - ETA: 18s - loss: 0.1902 - accuracy: 0.927 - ETA: 18s - loss: 0.1904 - accuracy: 0.926 - ETA: 17s - loss: 0.1899 - accuracy: 0.926 - ETA: 17s - loss: 0.1878 - accuracy: 0.928 - ETA: 17s - loss: 0.1886 - accuracy: 0.926 - ETA: 17s - loss: 0.1894 - accuracy: 0.926 - ETA: 17s - loss: 0.1894 - accuracy: 0.925 - ETA: 17s - loss: 0.1878 - accuracy: 0.926 - ETA: 16s - loss: 0.1863 - accuracy: 0.927 - ETA: 16s - loss: 0.1870 - accuracy: 0.927 - ETA: 16s - loss: 0.1852 - accuracy: 0.928 - ETA: 16s - loss: 0.1847 - accuracy: 0.928 - ETA: 16s - loss: 0.1871 - accuracy: 0.927 - ETA: 16s - loss: 0.1881 - accuracy: 0.927 - ETA: 15s - loss: 0.1867 - accuracy: 0.928 - ETA: 15s - loss: 0.1856 - accuracy: 0.929 - ETA: 15s - loss: 0.1862 - accuracy: 0.928 - ETA: 15s - loss: 0.1858 - accuracy: 0.929 - ETA: 15s - loss: 0.1885 - accuracy: 0.928 - ETA: 15s - loss: 0.1910 - accuracy: 0.927 - ETA: 14s - loss: 0.1929 - accuracy: 0.927 - ETA: 14s - loss: 0.1941 - accuracy: 0.926 - ETA: 14s - loss: 0.1933 - accuracy: 0.926 - ETA: 14s - loss: 0.1927 - accuracy: 0.926 - ETA: 14s - loss: 0.1921 - accuracy: 0.926 - ETA: 13s - loss: 0.1916 - accuracy: 0.926 - ETA: 13s - loss: 0.1914 - accuracy: 0.926 - ETA: 13s - loss: 0.1910 - accuracy: 0.926 - ETA: 13s - loss: 0.1900 - accuracy: 0.926 - ETA: 13s - loss: 0.1902 - accuracy: 0.926 - ETA: 13s - loss: 0.1934 - accuracy: 0.924 - ETA: 12s - loss: 0.1944 - accuracy: 0.923 - ETA: 12s - loss: 0.1932 - accuracy: 0.924 - ETA: 12s - loss: 0.1921 - accuracy: 0.924 - ETA: 12s - loss: 0.1923 - accuracy: 0.924 - ETA: 12s - loss: 0.1945 - accuracy: 0.924 - ETA: 12s - loss: 0.1982 - accuracy: 0.922 - ETA: 11s - loss: 0.1981 - accuracy: 0.922 - ETA: 11s - loss: 0.1967 - accuracy: 0.923 - ETA: 11s - loss: 0.1965 - accuracy: 0.923 - ETA: 11s - loss: 0.1956 - accuracy: 0.923 - ETA: 11s - loss: 0.1954 - accuracy: 0.923 - ETA: 10s - loss: 0.1957 - accuracy: 0.923 - ETA: 10s - loss: 0.1982 - accuracy: 0.922 - ETA: 10s - loss: 0.1971 - accuracy: 0.923 - ETA: 10s - loss: 0.1991 - accuracy: 0.922 - ETA: 10s - loss: 0.1993 - accuracy: 0.922 - ETA: 10s - loss: 0.2014 - accuracy: 0.921 - ETA: 9s - loss: 0.2010 - accuracy: 0.921 - ETA: 9s - loss: 0.2023 - accuracy: 0.92 - ETA: 9s - loss: 0.2037 - accuracy: 0.91 - ETA: 9s - loss: 0.2047 - accuracy: 0.91 - ETA: 9s - loss: 0.2041 - accuracy: 0.92 - ETA: 9s - loss: 0.2048 - accuracy: 0.91 - ETA: 8s - loss: 0.2049 - accuracy: 0.91 - ETA: 8s - loss: 0.2062 - accuracy: 0.91 - ETA: 8s - loss: 0.2066 - accuracy: 0.91 - ETA: 8s - loss: 0.2059 - accuracy: 0.91 - ETA: 8s - loss: 0.2055 - accuracy: 0.91 - ETA: 7s - loss: 0.2050 - accuracy: 0.91 - ETA: 7s - loss: 0.2040 - accuracy: 0.91 - ETA: 7s - loss: 0.2034 - accuracy: 0.91 - ETA: 7s - loss: 0.2032 - accuracy: 0.91 - ETA: 7s - loss: 0.2046 - accuracy: 0.91 - ETA: 7s - loss: 0.2049 - accuracy: 0.91 - ETA: 6s - loss: 0.2058 - accuracy: 0.91 - ETA: 6s - loss: 0.2058 - accuracy: 0.91 - ETA: 6s - loss: 0.2070 - accuracy: 0.91 - ETA: 6s - loss: 0.2077 - accuracy: 0.91 - ETA: 6s - loss: 0.2079 - accuracy: 0.91 - ETA: 6s - loss: 0.2072 - accuracy: 0.91 - ETA: 5s - loss: 0.2071 - accuracy: 0.91 - ETA: 5s - loss: 0.2071 - accuracy: 0.91 - ETA: 5s - loss: 0.2065 - accuracy: 0.91 - ETA: 5s - loss: 0.2063 - accuracy: 0.91 - ETA: 5s - loss: 0.2064 - accuracy: 0.91 - ETA: 4s - loss: 0.2073 - accuracy: 0.91 - ETA: 4s - loss: 0.2070 - accuracy: 0.91 - ETA: 4s - loss: 0.2081 - accuracy: 0.91 - ETA: 4s - loss: 0.2086 - accuracy: 0.91 - ETA: 4s - loss: 0.2085 - accuracy: 0.91 - ETA: 4s - loss: 0.2087 - accuracy: 0.91 - ETA: 3s - loss: 0.2089 - accuracy: 0.91 - ETA: 3s - loss: 0.2089 - accuracy: 0.91 - ETA: 3s - loss: 0.2095 - accuracy: 0.91 - ETA: 3s - loss: 0.2095 - accuracy: 0.91 - ETA: 3s - loss: 0.2085 - accuracy: 0.91 - ETA: 3s - loss: 0.2084 - accuracy: 0.91 - ETA: 2s - loss: 0.2075 - accuracy: 0.91 - ETA: 2s - loss: 0.2069 - accuracy: 0.91 - ETA: 2s - loss: 0.2079 - accuracy: 0.91 - ETA: 2s - loss: 0.2075 - accuracy: 0.91 - ETA: 2s - loss: 0.2079 - accuracy: 0.91 - ETA: 1s - loss: 0.2077 - accuracy: 0.91 - ETA: 1s - loss: 0.2076 - accuracy: 0.91 - ETA: 1s - loss: 0.2070 - accuracy: 0.91 - ETA: 1s - loss: 0.2073 - accuracy: 0.91 - ETA: 1s - loss: 0.2073 - accuracy: 0.91 - ETA: 1s - loss: 0.2093 - accuracy: 0.91 - ETA: 0s - loss: 0.2098 - accuracy: 0.91 - ETA: 0s - loss: 0.2096 - accuracy: 0.91 - ETA: 0s - loss: 0.2097 - accuracy: 0.91 - ETA: 0s - loss: 0.2104 - accuracy: 0.91 - ETA: 0s - loss: 0.2098 - accuracy: 0.91 - ETA: 0s - loss: 0.2097 - accuracy: 0.91 - 32s 190ms/step - loss: 0.2097 - accuracy: 0.9164 - val_loss: 0.4384 - val_accuracy: 0.8497\n",
      "Epoch 11/20\n"
     ]
    },
    {
     "name": "stdout",
     "output_type": "stream",
     "text": [
      "167/167 [==============================] - ETA: 35s - loss: 0.2434 - accuracy: 0.906 - ETA: 41s - loss: 0.1935 - accuracy: 0.890 - ETA: 39s - loss: 0.1887 - accuracy: 0.885 - ETA: 36s - loss: 0.2061 - accuracy: 0.898 - ETA: 35s - loss: 0.2109 - accuracy: 0.900 - ETA: 34s - loss: 0.1988 - accuracy: 0.906 - ETA: 33s - loss: 0.1762 - accuracy: 0.919 - ETA: 33s - loss: 0.1766 - accuracy: 0.925 - ETA: 33s - loss: 0.1735 - accuracy: 0.930 - ETA: 32s - loss: 0.1808 - accuracy: 0.928 - ETA: 32s - loss: 0.1793 - accuracy: 0.934 - ETA: 31s - loss: 0.1777 - accuracy: 0.934 - ETA: 31s - loss: 0.1777 - accuracy: 0.935 - ETA: 31s - loss: 0.2054 - accuracy: 0.926 - ETA: 30s - loss: 0.2220 - accuracy: 0.922 - ETA: 30s - loss: 0.2155 - accuracy: 0.925 - ETA: 30s - loss: 0.2060 - accuracy: 0.930 - ETA: 30s - loss: 0.2047 - accuracy: 0.928 - ETA: 29s - loss: 0.2089 - accuracy: 0.929 - ETA: 29s - loss: 0.2128 - accuracy: 0.928 - ETA: 29s - loss: 0.2178 - accuracy: 0.924 - ETA: 29s - loss: 0.2159 - accuracy: 0.924 - ETA: 28s - loss: 0.2205 - accuracy: 0.923 - ETA: 28s - loss: 0.2204 - accuracy: 0.921 - ETA: 28s - loss: 0.2158 - accuracy: 0.923 - ETA: 28s - loss: 0.2117 - accuracy: 0.925 - ETA: 27s - loss: 0.2110 - accuracy: 0.925 - ETA: 27s - loss: 0.2082 - accuracy: 0.926 - ETA: 27s - loss: 0.2045 - accuracy: 0.927 - ETA: 27s - loss: 0.2006 - accuracy: 0.929 - ETA: 26s - loss: 0.1965 - accuracy: 0.931 - ETA: 26s - loss: 0.1974 - accuracy: 0.931 - ETA: 26s - loss: 0.1967 - accuracy: 0.930 - ETA: 26s - loss: 0.1964 - accuracy: 0.929 - ETA: 25s - loss: 0.1982 - accuracy: 0.929 - ETA: 25s - loss: 0.1968 - accuracy: 0.928 - ETA: 25s - loss: 0.2020 - accuracy: 0.927 - ETA: 25s - loss: 0.2009 - accuracy: 0.928 - ETA: 24s - loss: 0.2012 - accuracy: 0.928 - ETA: 24s - loss: 0.2031 - accuracy: 0.927 - ETA: 24s - loss: 0.2027 - accuracy: 0.927 - ETA: 24s - loss: 0.2041 - accuracy: 0.927 - ETA: 23s - loss: 0.2030 - accuracy: 0.927 - ETA: 23s - loss: 0.2003 - accuracy: 0.927 - ETA: 23s - loss: 0.1970 - accuracy: 0.929 - ETA: 23s - loss: 0.1955 - accuracy: 0.929 - ETA: 23s - loss: 0.2037 - accuracy: 0.926 - ETA: 22s - loss: 0.2049 - accuracy: 0.926 - ETA: 22s - loss: 0.2040 - accuracy: 0.927 - ETA: 22s - loss: 0.2056 - accuracy: 0.926 - ETA: 22s - loss: 0.2071 - accuracy: 0.926 - ETA: 22s - loss: 0.2065 - accuracy: 0.926 - ETA: 21s - loss: 0.2085 - accuracy: 0.925 - ETA: 21s - loss: 0.2064 - accuracy: 0.925 - ETA: 21s - loss: 0.2045 - accuracy: 0.926 - ETA: 21s - loss: 0.2043 - accuracy: 0.926 - ETA: 21s - loss: 0.2015 - accuracy: 0.927 - ETA: 21s - loss: 0.2032 - accuracy: 0.925 - ETA: 21s - loss: 0.2075 - accuracy: 0.922 - ETA: 20s - loss: 0.2065 - accuracy: 0.922 - ETA: 20s - loss: 0.2085 - accuracy: 0.921 - ETA: 20s - loss: 0.2074 - accuracy: 0.921 - ETA: 20s - loss: 0.2069 - accuracy: 0.921 - ETA: 20s - loss: 0.2074 - accuracy: 0.920 - ETA: 20s - loss: 0.2052 - accuracy: 0.921 - ETA: 20s - loss: 0.2081 - accuracy: 0.920 - ETA: 19s - loss: 0.2087 - accuracy: 0.919 - ETA: 19s - loss: 0.2073 - accuracy: 0.920 - ETA: 19s - loss: 0.2095 - accuracy: 0.919 - ETA: 19s - loss: 0.2097 - accuracy: 0.919 - ETA: 19s - loss: 0.2084 - accuracy: 0.919 - ETA: 18s - loss: 0.2091 - accuracy: 0.919 - ETA: 18s - loss: 0.2095 - accuracy: 0.919 - ETA: 18s - loss: 0.2103 - accuracy: 0.918 - ETA: 18s - loss: 0.2112 - accuracy: 0.919 - ETA: 18s - loss: 0.2113 - accuracy: 0.919 - ETA: 17s - loss: 0.2126 - accuracy: 0.919 - ETA: 17s - loss: 0.2117 - accuracy: 0.919 - ETA: 17s - loss: 0.2116 - accuracy: 0.919 - ETA: 17s - loss: 0.2103 - accuracy: 0.920 - ETA: 17s - loss: 0.2092 - accuracy: 0.920 - ETA: 16s - loss: 0.2081 - accuracy: 0.921 - ETA: 16s - loss: 0.2096 - accuracy: 0.921 - ETA: 16s - loss: 0.2116 - accuracy: 0.920 - ETA: 16s - loss: 0.2098 - accuracy: 0.921 - ETA: 16s - loss: 0.2092 - accuracy: 0.921 - ETA: 15s - loss: 0.2080 - accuracy: 0.922 - ETA: 15s - loss: 0.2098 - accuracy: 0.921 - ETA: 15s - loss: 0.2109 - accuracy: 0.921 - ETA: 15s - loss: 0.2107 - accuracy: 0.921 - ETA: 15s - loss: 0.2105 - accuracy: 0.921 - ETA: 14s - loss: 0.2094 - accuracy: 0.922 - ETA: 14s - loss: 0.2091 - accuracy: 0.922 - ETA: 14s - loss: 0.2090 - accuracy: 0.922 - ETA: 14s - loss: 0.2088 - accuracy: 0.922 - ETA: 14s - loss: 0.2087 - accuracy: 0.921 - ETA: 13s - loss: 0.2087 - accuracy: 0.921 - ETA: 13s - loss: 0.2069 - accuracy: 0.922 - ETA: 13s - loss: 0.2061 - accuracy: 0.922 - ETA: 13s - loss: 0.2062 - accuracy: 0.921 - ETA: 13s - loss: 0.2054 - accuracy: 0.921 - ETA: 12s - loss: 0.2045 - accuracy: 0.922 - ETA: 12s - loss: 0.2032 - accuracy: 0.922 - ETA: 12s - loss: 0.2021 - accuracy: 0.923 - ETA: 12s - loss: 0.2027 - accuracy: 0.923 - ETA: 12s - loss: 0.2042 - accuracy: 0.923 - ETA: 11s - loss: 0.2044 - accuracy: 0.922 - ETA: 11s - loss: 0.2046 - accuracy: 0.922 - ETA: 11s - loss: 0.2042 - accuracy: 0.922 - ETA: 11s - loss: 0.2032 - accuracy: 0.922 - ETA: 11s - loss: 0.2035 - accuracy: 0.922 - ETA: 10s - loss: 0.2023 - accuracy: 0.923 - ETA: 10s - loss: 0.2025 - accuracy: 0.923 - ETA: 10s - loss: 0.2026 - accuracy: 0.923 - ETA: 10s - loss: 0.2027 - accuracy: 0.922 - ETA: 10s - loss: 0.2031 - accuracy: 0.922 - ETA: 9s - loss: 0.2018 - accuracy: 0.923 - ETA: 9s - loss: 0.2015 - accuracy: 0.92 - ETA: 9s - loss: 0.2011 - accuracy: 0.92 - ETA: 9s - loss: 0.2021 - accuracy: 0.92 - ETA: 9s - loss: 0.2023 - accuracy: 0.92 - ETA: 8s - loss: 0.2018 - accuracy: 0.92 - ETA: 8s - loss: 0.2027 - accuracy: 0.92 - ETA: 8s - loss: 0.2031 - accuracy: 0.92 - ETA: 8s - loss: 0.2022 - accuracy: 0.92 - ETA: 8s - loss: 0.2017 - accuracy: 0.92 - ETA: 7s - loss: 0.2005 - accuracy: 0.92 - ETA: 7s - loss: 0.2009 - accuracy: 0.92 - ETA: 7s - loss: 0.2007 - accuracy: 0.92 - ETA: 7s - loss: 0.2012 - accuracy: 0.92 - ETA: 7s - loss: 0.2010 - accuracy: 0.92 - ETA: 6s - loss: 0.2002 - accuracy: 0.92 - ETA: 6s - loss: 0.2007 - accuracy: 0.92 - ETA: 6s - loss: 0.2011 - accuracy: 0.92 - ETA: 6s - loss: 0.2009 - accuracy: 0.92 - ETA: 6s - loss: 0.2001 - accuracy: 0.92 - ETA: 5s - loss: 0.1995 - accuracy: 0.92 - ETA: 5s - loss: 0.1994 - accuracy: 0.92 - ETA: 5s - loss: 0.2000 - accuracy: 0.92 - ETA: 5s - loss: 0.1994 - accuracy: 0.92 - ETA: 5s - loss: 0.2005 - accuracy: 0.92 - ETA: 4s - loss: 0.2000 - accuracy: 0.92 - ETA: 4s - loss: 0.1993 - accuracy: 0.92 - ETA: 4s - loss: 0.1989 - accuracy: 0.92 - ETA: 4s - loss: 0.1995 - accuracy: 0.92 - ETA: 4s - loss: 0.1991 - accuracy: 0.92 - ETA: 3s - loss: 0.1989 - accuracy: 0.92 - ETA: 3s - loss: 0.1988 - accuracy: 0.92 - ETA: 3s - loss: 0.1994 - accuracy: 0.92 - ETA: 3s - loss: 0.1991 - accuracy: 0.92 - ETA: 3s - loss: 0.1983 - accuracy: 0.92 - ETA: 2s - loss: 0.1986 - accuracy: 0.92 - ETA: 2s - loss: 0.1983 - accuracy: 0.92 - ETA: 2s - loss: 0.1981 - accuracy: 0.92 - ETA: 2s - loss: 0.1977 - accuracy: 0.92 - ETA: 2s - loss: 0.1975 - accuracy: 0.92 - ETA: 1s - loss: 0.1982 - accuracy: 0.92 - ETA: 1s - loss: 0.1979 - accuracy: 0.92 - ETA: 1s - loss: 0.1969 - accuracy: 0.92 - ETA: 1s - loss: 0.1967 - accuracy: 0.92 - ETA: 1s - loss: 0.1977 - accuracy: 0.92 - ETA: 0s - loss: 0.1987 - accuracy: 0.92 - ETA: 0s - loss: 0.1986 - accuracy: 0.92 - ETA: 0s - loss: 0.1982 - accuracy: 0.92 - ETA: 0s - loss: 0.1981 - accuracy: 0.92 - ETA: 0s - loss: 0.1975 - accuracy: 0.92 - ETA: 0s - loss: 0.1974 - accuracy: 0.92 - 34s 203ms/step - loss: 0.1974 - accuracy: 0.9225 - val_loss: 0.4876 - val_accuracy: 0.8416\n",
      "Epoch 12/20\n"
     ]
    },
    {
     "name": "stdout",
     "output_type": "stream",
     "text": [
      "167/167 [==============================] - ETA: 30s - loss: 0.1527 - accuracy: 0.937 - ETA: 30s - loss: 0.1640 - accuracy: 0.921 - ETA: 30s - loss: 0.2658 - accuracy: 0.906 - ETA: 30s - loss: 0.2422 - accuracy: 0.914 - ETA: 30s - loss: 0.2028 - accuracy: 0.931 - ETA: 30s - loss: 0.2284 - accuracy: 0.927 - ETA: 30s - loss: 0.2316 - accuracy: 0.924 - ETA: 30s - loss: 0.2199 - accuracy: 0.921 - ETA: 30s - loss: 0.2178 - accuracy: 0.920 - ETA: 30s - loss: 0.2085 - accuracy: 0.921 - ETA: 30s - loss: 0.2015 - accuracy: 0.923 - ETA: 30s - loss: 0.1894 - accuracy: 0.929 - ETA: 30s - loss: 0.1777 - accuracy: 0.932 - ETA: 30s - loss: 0.1756 - accuracy: 0.930 - ETA: 31s - loss: 0.1709 - accuracy: 0.933 - ETA: 31s - loss: 0.1761 - accuracy: 0.931 - ETA: 31s - loss: 0.1822 - accuracy: 0.930 - ETA: 31s - loss: 0.1779 - accuracy: 0.932 - ETA: 30s - loss: 0.1783 - accuracy: 0.930 - ETA: 30s - loss: 0.1745 - accuracy: 0.932 - ETA: 30s - loss: 0.1680 - accuracy: 0.936 - ETA: 30s - loss: 0.1664 - accuracy: 0.936 - ETA: 30s - loss: 0.1667 - accuracy: 0.934 - ETA: 30s - loss: 0.1672 - accuracy: 0.934 - ETA: 30s - loss: 0.1668 - accuracy: 0.935 - ETA: 30s - loss: 0.1669 - accuracy: 0.935 - ETA: 29s - loss: 0.1622 - accuracy: 0.937 - ETA: 29s - loss: 0.1637 - accuracy: 0.936 - ETA: 29s - loss: 0.1589 - accuracy: 0.938 - ETA: 29s - loss: 0.1580 - accuracy: 0.939 - ETA: 29s - loss: 0.1609 - accuracy: 0.937 - ETA: 29s - loss: 0.1662 - accuracy: 0.936 - ETA: 29s - loss: 0.1651 - accuracy: 0.935 - ETA: 28s - loss: 0.1669 - accuracy: 0.934 - ETA: 28s - loss: 0.1626 - accuracy: 0.936 - ETA: 28s - loss: 0.1632 - accuracy: 0.935 - ETA: 28s - loss: 0.1630 - accuracy: 0.935 - ETA: 28s - loss: 0.1612 - accuracy: 0.936 - ETA: 27s - loss: 0.1597 - accuracy: 0.937 - ETA: 27s - loss: 0.1573 - accuracy: 0.939 - ETA: 27s - loss: 0.1574 - accuracy: 0.937 - ETA: 27s - loss: 0.1560 - accuracy: 0.938 - ETA: 27s - loss: 0.1546 - accuracy: 0.939 - ETA: 26s - loss: 0.1540 - accuracy: 0.938 - ETA: 26s - loss: 0.1525 - accuracy: 0.938 - ETA: 26s - loss: 0.1509 - accuracy: 0.939 - ETA: 26s - loss: 0.1501 - accuracy: 0.940 - ETA: 26s - loss: 0.1492 - accuracy: 0.939 - ETA: 26s - loss: 0.1466 - accuracy: 0.940 - ETA: 25s - loss: 0.1507 - accuracy: 0.940 - ETA: 25s - loss: 0.1515 - accuracy: 0.940 - ETA: 25s - loss: 0.1505 - accuracy: 0.940 - ETA: 25s - loss: 0.1485 - accuracy: 0.941 - ETA: 24s - loss: 0.1486 - accuracy: 0.941 - ETA: 24s - loss: 0.1472 - accuracy: 0.942 - ETA: 24s - loss: 0.1460 - accuracy: 0.943 - ETA: 24s - loss: 0.1443 - accuracy: 0.944 - ETA: 23s - loss: 0.1437 - accuracy: 0.944 - ETA: 23s - loss: 0.1440 - accuracy: 0.943 - ETA: 23s - loss: 0.1431 - accuracy: 0.943 - ETA: 23s - loss: 0.1423 - accuracy: 0.943 - ETA: 23s - loss: 0.1423 - accuracy: 0.944 - ETA: 22s - loss: 0.1430 - accuracy: 0.943 - ETA: 22s - loss: 0.1460 - accuracy: 0.942 - ETA: 22s - loss: 0.1460 - accuracy: 0.943 - ETA: 22s - loss: 0.1464 - accuracy: 0.943 - ETA: 21s - loss: 0.1464 - accuracy: 0.942 - ETA: 21s - loss: 0.1474 - accuracy: 0.942 - ETA: 21s - loss: 0.1478 - accuracy: 0.942 - ETA: 21s - loss: 0.1467 - accuracy: 0.942 - ETA: 20s - loss: 0.1497 - accuracy: 0.941 - ETA: 20s - loss: 0.1492 - accuracy: 0.941 - ETA: 20s - loss: 0.1482 - accuracy: 0.941 - ETA: 20s - loss: 0.1472 - accuracy: 0.942 - ETA: 20s - loss: 0.1481 - accuracy: 0.941 - ETA: 19s - loss: 0.1474 - accuracy: 0.942 - ETA: 19s - loss: 0.1466 - accuracy: 0.942 - ETA: 19s - loss: 0.1457 - accuracy: 0.942 - ETA: 19s - loss: 0.1444 - accuracy: 0.943 - ETA: 18s - loss: 0.1451 - accuracy: 0.942 - ETA: 18s - loss: 0.1457 - accuracy: 0.942 - ETA: 18s - loss: 0.1452 - accuracy: 0.942 - ETA: 18s - loss: 0.1451 - accuracy: 0.941 - ETA: 18s - loss: 0.1458 - accuracy: 0.941 - ETA: 17s - loss: 0.1471 - accuracy: 0.941 - ETA: 17s - loss: 0.1463 - accuracy: 0.941 - ETA: 17s - loss: 0.1465 - accuracy: 0.940 - ETA: 17s - loss: 0.1465 - accuracy: 0.940 - ETA: 16s - loss: 0.1491 - accuracy: 0.940 - ETA: 16s - loss: 0.1507 - accuracy: 0.938 - ETA: 16s - loss: 0.1502 - accuracy: 0.939 - ETA: 16s - loss: 0.1493 - accuracy: 0.939 - ETA: 16s - loss: 0.1496 - accuracy: 0.939 - ETA: 15s - loss: 0.1486 - accuracy: 0.939 - ETA: 15s - loss: 0.1476 - accuracy: 0.940 - ETA: 15s - loss: 0.1472 - accuracy: 0.940 - ETA: 15s - loss: 0.1468 - accuracy: 0.940 - ETA: 15s - loss: 0.1474 - accuracy: 0.940 - ETA: 14s - loss: 0.1479 - accuracy: 0.940 - ETA: 14s - loss: 0.1473 - accuracy: 0.940 - ETA: 14s - loss: 0.1467 - accuracy: 0.940 - ETA: 14s - loss: 0.1464 - accuracy: 0.940 - ETA: 13s - loss: 0.1458 - accuracy: 0.940 - ETA: 13s - loss: 0.1473 - accuracy: 0.939 - ETA: 13s - loss: 0.1464 - accuracy: 0.940 - ETA: 13s - loss: 0.1462 - accuracy: 0.940 - ETA: 13s - loss: 0.1461 - accuracy: 0.939 - ETA: 12s - loss: 0.1452 - accuracy: 0.940 - ETA: 12s - loss: 0.1449 - accuracy: 0.940 - ETA: 12s - loss: 0.1449 - accuracy: 0.940 - ETA: 12s - loss: 0.1443 - accuracy: 0.940 - ETA: 12s - loss: 0.1455 - accuracy: 0.940 - ETA: 11s - loss: 0.1483 - accuracy: 0.940 - ETA: 11s - loss: 0.1497 - accuracy: 0.939 - ETA: 11s - loss: 0.1498 - accuracy: 0.939 - ETA: 11s - loss: 0.1499 - accuracy: 0.939 - ETA: 10s - loss: 0.1507 - accuracy: 0.938 - ETA: 10s - loss: 0.1517 - accuracy: 0.937 - ETA: 10s - loss: 0.1517 - accuracy: 0.937 - ETA: 10s - loss: 0.1520 - accuracy: 0.937 - ETA: 10s - loss: 0.1522 - accuracy: 0.937 - ETA: 9s - loss: 0.1539 - accuracy: 0.937 - ETA: 9s - loss: 0.1540 - accuracy: 0.93 - ETA: 9s - loss: 0.1541 - accuracy: 0.93 - ETA: 9s - loss: 0.1548 - accuracy: 0.93 - ETA: 9s - loss: 0.1540 - accuracy: 0.93 - ETA: 8s - loss: 0.1542 - accuracy: 0.93 - ETA: 8s - loss: 0.1541 - accuracy: 0.93 - ETA: 8s - loss: 0.1545 - accuracy: 0.93 - ETA: 8s - loss: 0.1543 - accuracy: 0.93 - ETA: 7s - loss: 0.1544 - accuracy: 0.93 - ETA: 7s - loss: 0.1542 - accuracy: 0.93 - ETA: 7s - loss: 0.1543 - accuracy: 0.93 - ETA: 7s - loss: 0.1564 - accuracy: 0.93 - ETA: 7s - loss: 0.1559 - accuracy: 0.93 - ETA: 6s - loss: 0.1557 - accuracy: 0.93 - ETA: 6s - loss: 0.1563 - accuracy: 0.93 - ETA: 6s - loss: 0.1561 - accuracy: 0.93 - ETA: 6s - loss: 0.1566 - accuracy: 0.93 - ETA: 5s - loss: 0.1573 - accuracy: 0.93 - ETA: 5s - loss: 0.1580 - accuracy: 0.93 - ETA: 5s - loss: 0.1581 - accuracy: 0.93 - ETA: 5s - loss: 0.1578 - accuracy: 0.93 - ETA: 5s - loss: 0.1589 - accuracy: 0.93 - ETA: 4s - loss: 0.1591 - accuracy: 0.93 - ETA: 4s - loss: 0.1587 - accuracy: 0.93 - ETA: 4s - loss: 0.1589 - accuracy: 0.93 - ETA: 4s - loss: 0.1582 - accuracy: 0.93 - ETA: 3s - loss: 0.1579 - accuracy: 0.93 - ETA: 3s - loss: 0.1582 - accuracy: 0.93 - ETA: 3s - loss: 0.1579 - accuracy: 0.93 - ETA: 3s - loss: 0.1580 - accuracy: 0.93 - ETA: 3s - loss: 0.1589 - accuracy: 0.93 - ETA: 2s - loss: 0.1586 - accuracy: 0.93 - ETA: 2s - loss: 0.1592 - accuracy: 0.93 - ETA: 2s - loss: 0.1594 - accuracy: 0.93 - ETA: 2s - loss: 0.1603 - accuracy: 0.93 - ETA: 1s - loss: 0.1600 - accuracy: 0.93 - ETA: 1s - loss: 0.1601 - accuracy: 0.93 - ETA: 1s - loss: 0.1601 - accuracy: 0.93 - ETA: 1s - loss: 0.1603 - accuracy: 0.93 - ETA: 1s - loss: 0.1604 - accuracy: 0.93 - ETA: 0s - loss: 0.1602 - accuracy: 0.93 - ETA: 0s - loss: 0.1607 - accuracy: 0.93 - ETA: 0s - loss: 0.1608 - accuracy: 0.93 - ETA: 0s - loss: 0.1603 - accuracy: 0.93 - ETA: 0s - loss: 0.1603 - accuracy: 0.93 - 38s 230ms/step - loss: 0.1603 - accuracy: 0.9319 - val_loss: 0.4922 - val_accuracy: 0.8382\n",
      "Epoch 13/20\n"
     ]
    },
    {
     "name": "stdout",
     "output_type": "stream",
     "text": [
      "167/167 [==============================] - ETA: 34s - loss: 0.2479 - accuracy: 0.906 - ETA: 39s - loss: 0.1591 - accuracy: 0.937 - ETA: 38s - loss: 0.1362 - accuracy: 0.947 - ETA: 38s - loss: 0.1295 - accuracy: 0.945 - ETA: 36s - loss: 0.1458 - accuracy: 0.925 - ETA: 35s - loss: 0.1424 - accuracy: 0.921 - ETA: 35s - loss: 0.1373 - accuracy: 0.924 - ETA: 35s - loss: 0.1309 - accuracy: 0.925 - ETA: 34s - loss: 0.1380 - accuracy: 0.920 - ETA: 34s - loss: 0.1631 - accuracy: 0.912 - ETA: 34s - loss: 0.1720 - accuracy: 0.909 - ETA: 33s - loss: 0.1677 - accuracy: 0.911 - ETA: 33s - loss: 0.1639 - accuracy: 0.915 - ETA: 33s - loss: 0.1562 - accuracy: 0.919 - ETA: 33s - loss: 0.1502 - accuracy: 0.922 - ETA: 33s - loss: 0.1468 - accuracy: 0.921 - ETA: 33s - loss: 0.1430 - accuracy: 0.926 - ETA: 32s - loss: 0.1457 - accuracy: 0.927 - ETA: 32s - loss: 0.1441 - accuracy: 0.927 - ETA: 32s - loss: 0.1449 - accuracy: 0.928 - ETA: 32s - loss: 0.1421 - accuracy: 0.928 - ETA: 31s - loss: 0.1432 - accuracy: 0.926 - ETA: 31s - loss: 0.1394 - accuracy: 0.929 - ETA: 31s - loss: 0.1344 - accuracy: 0.932 - ETA: 31s - loss: 0.1376 - accuracy: 0.931 - ETA: 31s - loss: 0.1338 - accuracy: 0.933 - ETA: 31s - loss: 0.1326 - accuracy: 0.935 - ETA: 30s - loss: 0.1302 - accuracy: 0.936 - ETA: 30s - loss: 0.1292 - accuracy: 0.937 - ETA: 30s - loss: 0.1307 - accuracy: 0.936 - ETA: 29s - loss: 0.1317 - accuracy: 0.935 - ETA: 29s - loss: 0.1323 - accuracy: 0.935 - ETA: 29s - loss: 0.1288 - accuracy: 0.937 - ETA: 28s - loss: 0.1283 - accuracy: 0.936 - ETA: 28s - loss: 0.1283 - accuracy: 0.935 - ETA: 28s - loss: 0.1296 - accuracy: 0.934 - ETA: 27s - loss: 0.1297 - accuracy: 0.935 - ETA: 27s - loss: 0.1293 - accuracy: 0.935 - ETA: 27s - loss: 0.1404 - accuracy: 0.932 - ETA: 27s - loss: 0.1405 - accuracy: 0.932 - ETA: 26s - loss: 0.1392 - accuracy: 0.934 - ETA: 26s - loss: 0.1391 - accuracy: 0.933 - ETA: 26s - loss: 0.1391 - accuracy: 0.932 - ETA: 26s - loss: 0.1391 - accuracy: 0.932 - ETA: 25s - loss: 0.1436 - accuracy: 0.931 - ETA: 25s - loss: 0.1482 - accuracy: 0.932 - ETA: 25s - loss: 0.1500 - accuracy: 0.931 - ETA: 25s - loss: 0.1525 - accuracy: 0.931 - ETA: 24s - loss: 0.1523 - accuracy: 0.931 - ETA: 24s - loss: 0.1538 - accuracy: 0.931 - ETA: 24s - loss: 0.1538 - accuracy: 0.930 - ETA: 24s - loss: 0.1532 - accuracy: 0.930 - ETA: 23s - loss: 0.1517 - accuracy: 0.931 - ETA: 23s - loss: 0.1505 - accuracy: 0.932 - ETA: 23s - loss: 0.1493 - accuracy: 0.933 - ETA: 23s - loss: 0.1472 - accuracy: 0.934 - ETA: 22s - loss: 0.1477 - accuracy: 0.934 - ETA: 22s - loss: 0.1505 - accuracy: 0.933 - ETA: 22s - loss: 0.1498 - accuracy: 0.933 - ETA: 22s - loss: 0.1508 - accuracy: 0.933 - ETA: 22s - loss: 0.1523 - accuracy: 0.933 - ETA: 21s - loss: 0.1512 - accuracy: 0.933 - ETA: 21s - loss: 0.1500 - accuracy: 0.934 - ETA: 21s - loss: 0.1493 - accuracy: 0.934 - ETA: 21s - loss: 0.1505 - accuracy: 0.933 - ETA: 21s - loss: 0.1490 - accuracy: 0.934 - ETA: 20s - loss: 0.1482 - accuracy: 0.935 - ETA: 20s - loss: 0.1488 - accuracy: 0.935 - ETA: 20s - loss: 0.1486 - accuracy: 0.935 - ETA: 20s - loss: 0.1539 - accuracy: 0.933 - ETA: 19s - loss: 0.1538 - accuracy: 0.933 - ETA: 19s - loss: 0.1552 - accuracy: 0.932 - ETA: 19s - loss: 0.1566 - accuracy: 0.931 - ETA: 19s - loss: 0.1566 - accuracy: 0.932 - ETA: 19s - loss: 0.1568 - accuracy: 0.931 - ETA: 19s - loss: 0.1575 - accuracy: 0.931 - ETA: 18s - loss: 0.1577 - accuracy: 0.931 - ETA: 18s - loss: 0.1586 - accuracy: 0.931 - ETA: 18s - loss: 0.1576 - accuracy: 0.931 - ETA: 18s - loss: 0.1588 - accuracy: 0.930 - ETA: 18s - loss: 0.1577 - accuracy: 0.931 - ETA: 17s - loss: 0.1570 - accuracy: 0.931 - ETA: 17s - loss: 0.1580 - accuracy: 0.930 - ETA: 17s - loss: 0.1595 - accuracy: 0.930 - ETA: 17s - loss: 0.1599 - accuracy: 0.929 - ETA: 17s - loss: 0.1588 - accuracy: 0.929 - ETA: 16s - loss: 0.1582 - accuracy: 0.930 - ETA: 16s - loss: 0.1602 - accuracy: 0.930 - ETA: 16s - loss: 0.1588 - accuracy: 0.930 - ETA: 16s - loss: 0.1581 - accuracy: 0.931 - ETA: 16s - loss: 0.1577 - accuracy: 0.932 - ETA: 15s - loss: 0.1584 - accuracy: 0.931 - ETA: 15s - loss: 0.1590 - accuracy: 0.930 - ETA: 15s - loss: 0.1585 - accuracy: 0.931 - ETA: 15s - loss: 0.1581 - accuracy: 0.931 - ETA: 15s - loss: 0.1576 - accuracy: 0.931 - ETA: 14s - loss: 0.1574 - accuracy: 0.932 - ETA: 14s - loss: 0.1570 - accuracy: 0.932 - ETA: 14s - loss: 0.1583 - accuracy: 0.932 - ETA: 14s - loss: 0.1595 - accuracy: 0.932 - ETA: 14s - loss: 0.1600 - accuracy: 0.932 - ETA: 13s - loss: 0.1622 - accuracy: 0.932 - ETA: 13s - loss: 0.1616 - accuracy: 0.932 - ETA: 13s - loss: 0.1616 - accuracy: 0.931 - ETA: 13s - loss: 0.1602 - accuracy: 0.932 - ETA: 12s - loss: 0.1600 - accuracy: 0.932 - ETA: 12s - loss: 0.1599 - accuracy: 0.933 - ETA: 12s - loss: 0.1595 - accuracy: 0.933 - ETA: 12s - loss: 0.1597 - accuracy: 0.932 - ETA: 11s - loss: 0.1601 - accuracy: 0.931 - ETA: 11s - loss: 0.1618 - accuracy: 0.931 - ETA: 11s - loss: 0.1620 - accuracy: 0.931 - ETA: 11s - loss: 0.1620 - accuracy: 0.930 - ETA: 11s - loss: 0.1617 - accuracy: 0.930 - ETA: 10s - loss: 0.1623 - accuracy: 0.930 - ETA: 10s - loss: 0.1615 - accuracy: 0.931 - ETA: 10s - loss: 0.1618 - accuracy: 0.931 - ETA: 10s - loss: 0.1611 - accuracy: 0.931 - ETA: 10s - loss: 0.1623 - accuracy: 0.930 - ETA: 9s - loss: 0.1630 - accuracy: 0.930 - ETA: 9s - loss: 0.1621 - accuracy: 0.93 - ETA: 9s - loss: 0.1613 - accuracy: 0.93 - ETA: 9s - loss: 0.1620 - accuracy: 0.93 - ETA: 8s - loss: 0.1622 - accuracy: 0.93 - ETA: 8s - loss: 0.1616 - accuracy: 0.93 - ETA: 8s - loss: 0.1609 - accuracy: 0.93 - ETA: 8s - loss: 0.1608 - accuracy: 0.93 - ETA: 8s - loss: 0.1609 - accuracy: 0.93 - ETA: 7s - loss: 0.1613 - accuracy: 0.93 - ETA: 7s - loss: 0.1605 - accuracy: 0.93 - ETA: 7s - loss: 0.1605 - accuracy: 0.93 - ETA: 7s - loss: 0.1595 - accuracy: 0.93 - ETA: 7s - loss: 0.1607 - accuracy: 0.93 - ETA: 6s - loss: 0.1607 - accuracy: 0.93 - ETA: 6s - loss: 0.1598 - accuracy: 0.93 - ETA: 6s - loss: 0.1598 - accuracy: 0.93 - ETA: 6s - loss: 0.1593 - accuracy: 0.93 - ETA: 6s - loss: 0.1590 - accuracy: 0.93 - ETA: 5s - loss: 0.1600 - accuracy: 0.93 - ETA: 5s - loss: 0.1590 - accuracy: 0.93 - ETA: 5s - loss: 0.1585 - accuracy: 0.93 - ETA: 5s - loss: 0.1589 - accuracy: 0.93 - ETA: 4s - loss: 0.1591 - accuracy: 0.93 - ETA: 4s - loss: 0.1588 - accuracy: 0.93 - ETA: 4s - loss: 0.1584 - accuracy: 0.93 - ETA: 4s - loss: 0.1581 - accuracy: 0.93 - ETA: 4s - loss: 0.1587 - accuracy: 0.93 - ETA: 3s - loss: 0.1579 - accuracy: 0.93 - ETA: 3s - loss: 0.1578 - accuracy: 0.93 - ETA: 3s - loss: 0.1571 - accuracy: 0.93 - ETA: 3s - loss: 0.1566 - accuracy: 0.93 - ETA: 3s - loss: 0.1561 - accuracy: 0.93 - ETA: 2s - loss: 0.1553 - accuracy: 0.93 - ETA: 2s - loss: 0.1552 - accuracy: 0.93 - ETA: 2s - loss: 0.1547 - accuracy: 0.93 - ETA: 2s - loss: 0.1544 - accuracy: 0.93 - ETA: 2s - loss: 0.1542 - accuracy: 0.93 - ETA: 1s - loss: 0.1538 - accuracy: 0.93 - ETA: 1s - loss: 0.1532 - accuracy: 0.93 - ETA: 1s - loss: 0.1530 - accuracy: 0.93 - ETA: 1s - loss: 0.1527 - accuracy: 0.93 - ETA: 1s - loss: 0.1523 - accuracy: 0.93 - ETA: 0s - loss: 0.1523 - accuracy: 0.93 - ETA: 0s - loss: 0.1519 - accuracy: 0.93 - ETA: 0s - loss: 0.1517 - accuracy: 0.93 - ETA: 0s - loss: 0.1525 - accuracy: 0.93 - ETA: 0s - loss: 0.1524 - accuracy: 0.93 - 36s 214ms/step - loss: 0.1524 - accuracy: 0.9356 - val_loss: 0.5191 - val_accuracy: 0.8590\n",
      "Epoch 14/20\n"
     ]
    },
    {
     "name": "stdout",
     "output_type": "stream",
     "text": [
      "167/167 [==============================] - ETA: 31s - loss: 0.0426 - accuracy: 1.000 - ETA: 32s - loss: 0.0634 - accuracy: 0.984 - ETA: 33s - loss: 0.0801 - accuracy: 0.979 - ETA: 33s - loss: 0.1049 - accuracy: 0.968 - ETA: 33s - loss: 0.1047 - accuracy: 0.968 - ETA: 33s - loss: 0.0921 - accuracy: 0.974 - ETA: 32s - loss: 0.1312 - accuracy: 0.959 - ETA: 32s - loss: 0.1368 - accuracy: 0.949 - ETA: 32s - loss: 0.1291 - accuracy: 0.951 - ETA: 31s - loss: 0.1195 - accuracy: 0.956 - ETA: 31s - loss: 0.1257 - accuracy: 0.954 - ETA: 31s - loss: 0.1240 - accuracy: 0.955 - ETA: 30s - loss: 0.1177 - accuracy: 0.959 - ETA: 30s - loss: 0.1395 - accuracy: 0.950 - ETA: 30s - loss: 0.1418 - accuracy: 0.947 - ETA: 30s - loss: 0.1348 - accuracy: 0.951 - ETA: 30s - loss: 0.1318 - accuracy: 0.950 - ETA: 30s - loss: 0.1351 - accuracy: 0.951 - ETA: 30s - loss: 0.1404 - accuracy: 0.950 - ETA: 30s - loss: 0.1372 - accuracy: 0.951 - ETA: 30s - loss: 0.1428 - accuracy: 0.950 - ETA: 29s - loss: 0.1460 - accuracy: 0.947 - ETA: 29s - loss: 0.1465 - accuracy: 0.947 - ETA: 29s - loss: 0.1508 - accuracy: 0.942 - ETA: 28s - loss: 0.1520 - accuracy: 0.942 - ETA: 28s - loss: 0.1487 - accuracy: 0.944 - ETA: 28s - loss: 0.1461 - accuracy: 0.944 - ETA: 28s - loss: 0.1435 - accuracy: 0.945 - ETA: 28s - loss: 0.1448 - accuracy: 0.942 - ETA: 27s - loss: 0.1439 - accuracy: 0.943 - ETA: 27s - loss: 0.1423 - accuracy: 0.944 - ETA: 27s - loss: 0.1425 - accuracy: 0.942 - ETA: 27s - loss: 0.1436 - accuracy: 0.942 - ETA: 27s - loss: 0.1453 - accuracy: 0.940 - ETA: 27s - loss: 0.1469 - accuracy: 0.940 - ETA: 27s - loss: 0.1481 - accuracy: 0.939 - ETA: 27s - loss: 0.1485 - accuracy: 0.939 - ETA: 26s - loss: 0.1467 - accuracy: 0.939 - ETA: 26s - loss: 0.1463 - accuracy: 0.937 - ETA: 26s - loss: 0.1452 - accuracy: 0.939 - ETA: 26s - loss: 0.1506 - accuracy: 0.937 - ETA: 26s - loss: 0.1506 - accuracy: 0.937 - ETA: 26s - loss: 0.1540 - accuracy: 0.935 - ETA: 25s - loss: 0.1518 - accuracy: 0.935 - ETA: 25s - loss: 0.1496 - accuracy: 0.936 - ETA: 25s - loss: 0.1499 - accuracy: 0.936 - ETA: 25s - loss: 0.1500 - accuracy: 0.936 - ETA: 25s - loss: 0.1481 - accuracy: 0.937 - ETA: 24s - loss: 0.1481 - accuracy: 0.936 - ETA: 24s - loss: 0.1475 - accuracy: 0.936 - ETA: 24s - loss: 0.1464 - accuracy: 0.937 - ETA: 24s - loss: 0.1459 - accuracy: 0.938 - ETA: 24s - loss: 0.1452 - accuracy: 0.938 - ETA: 23s - loss: 0.1482 - accuracy: 0.937 - ETA: 23s - loss: 0.1468 - accuracy: 0.938 - ETA: 23s - loss: 0.1479 - accuracy: 0.938 - ETA: 23s - loss: 0.1475 - accuracy: 0.938 - ETA: 22s - loss: 0.1476 - accuracy: 0.938 - ETA: 22s - loss: 0.1481 - accuracy: 0.937 - ETA: 22s - loss: 0.1494 - accuracy: 0.937 - ETA: 22s - loss: 0.1508 - accuracy: 0.937 - ETA: 22s - loss: 0.1501 - accuracy: 0.937 - ETA: 21s - loss: 0.1484 - accuracy: 0.938 - ETA: 21s - loss: 0.1474 - accuracy: 0.939 - ETA: 21s - loss: 0.1459 - accuracy: 0.939 - ETA: 21s - loss: 0.1454 - accuracy: 0.939 - ETA: 20s - loss: 0.1443 - accuracy: 0.940 - ETA: 20s - loss: 0.1448 - accuracy: 0.940 - ETA: 20s - loss: 0.1457 - accuracy: 0.940 - ETA: 20s - loss: 0.1455 - accuracy: 0.940 - ETA: 20s - loss: 0.1445 - accuracy: 0.941 - ETA: 19s - loss: 0.1448 - accuracy: 0.941 - ETA: 19s - loss: 0.1444 - accuracy: 0.941 - ETA: 19s - loss: 0.1437 - accuracy: 0.941 - ETA: 19s - loss: 0.1436 - accuracy: 0.940 - ETA: 18s - loss: 0.1436 - accuracy: 0.940 - ETA: 18s - loss: 0.1421 - accuracy: 0.941 - ETA: 18s - loss: 0.1421 - accuracy: 0.941 - ETA: 18s - loss: 0.1412 - accuracy: 0.941 - ETA: 18s - loss: 0.1406 - accuracy: 0.941 - ETA: 17s - loss: 0.1406 - accuracy: 0.941 - ETA: 17s - loss: 0.1398 - accuracy: 0.941 - ETA: 17s - loss: 0.1399 - accuracy: 0.940 - ETA: 17s - loss: 0.1390 - accuracy: 0.940 - ETA: 16s - loss: 0.1378 - accuracy: 0.941 - ETA: 16s - loss: 0.1389 - accuracy: 0.941 - ETA: 16s - loss: 0.1382 - accuracy: 0.941 - ETA: 16s - loss: 0.1369 - accuracy: 0.942 - ETA: 16s - loss: 0.1374 - accuracy: 0.942 - ETA: 15s - loss: 0.1400 - accuracy: 0.942 - ETA: 15s - loss: 0.1392 - accuracy: 0.942 - ETA: 15s - loss: 0.1409 - accuracy: 0.942 - ETA: 15s - loss: 0.1405 - accuracy: 0.942 - ETA: 15s - loss: 0.1403 - accuracy: 0.942 - ETA: 14s - loss: 0.1402 - accuracy: 0.942 - ETA: 14s - loss: 0.1397 - accuracy: 0.942 - ETA: 14s - loss: 0.1402 - accuracy: 0.942 - ETA: 14s - loss: 0.1398 - accuracy: 0.942 - ETA: 14s - loss: 0.1394 - accuracy: 0.941 - ETA: 13s - loss: 0.1394 - accuracy: 0.941 - ETA: 13s - loss: 0.1396 - accuracy: 0.942 - ETA: 13s - loss: 0.1390 - accuracy: 0.942 - ETA: 13s - loss: 0.1388 - accuracy: 0.941 - ETA: 12s - loss: 0.1380 - accuracy: 0.942 - ETA: 12s - loss: 0.1394 - accuracy: 0.942 - ETA: 12s - loss: 0.1397 - accuracy: 0.941 - ETA: 12s - loss: 0.1389 - accuracy: 0.942 - ETA: 12s - loss: 0.1380 - accuracy: 0.942 - ETA: 11s - loss: 0.1372 - accuracy: 0.942 - ETA: 11s - loss: 0.1368 - accuracy: 0.943 - ETA: 11s - loss: 0.1384 - accuracy: 0.942 - ETA: 11s - loss: 0.1381 - accuracy: 0.942 - ETA: 11s - loss: 0.1372 - accuracy: 0.943 - ETA: 10s - loss: 0.1362 - accuracy: 0.943 - ETA: 10s - loss: 0.1372 - accuracy: 0.943 - ETA: 10s - loss: 0.1369 - accuracy: 0.943 - ETA: 10s - loss: 0.1364 - accuracy: 0.943 - ETA: 10s - loss: 0.1369 - accuracy: 0.943 - ETA: 9s - loss: 0.1371 - accuracy: 0.943 - ETA: 9s - loss: 0.1364 - accuracy: 0.94 - ETA: 9s - loss: 0.1356 - accuracy: 0.94 - ETA: 9s - loss: 0.1365 - accuracy: 0.94 - ETA: 9s - loss: 0.1385 - accuracy: 0.94 - ETA: 8s - loss: 0.1385 - accuracy: 0.94 - ETA: 8s - loss: 0.1383 - accuracy: 0.94 - ETA: 8s - loss: 0.1387 - accuracy: 0.94 - ETA: 8s - loss: 0.1381 - accuracy: 0.94 - ETA: 7s - loss: 0.1399 - accuracy: 0.94 - ETA: 7s - loss: 0.1396 - accuracy: 0.94 - ETA: 7s - loss: 0.1405 - accuracy: 0.94 - ETA: 7s - loss: 0.1399 - accuracy: 0.94 - ETA: 7s - loss: 0.1392 - accuracy: 0.94 - ETA: 6s - loss: 0.1401 - accuracy: 0.94 - ETA: 6s - loss: 0.1403 - accuracy: 0.94 - ETA: 6s - loss: 0.1401 - accuracy: 0.94 - ETA: 6s - loss: 0.1403 - accuracy: 0.94 - ETA: 6s - loss: 0.1396 - accuracy: 0.94 - ETA: 5s - loss: 0.1409 - accuracy: 0.94 - ETA: 5s - loss: 0.1419 - accuracy: 0.94 - ETA: 5s - loss: 0.1427 - accuracy: 0.94 - ETA: 5s - loss: 0.1428 - accuracy: 0.94 - ETA: 5s - loss: 0.1425 - accuracy: 0.94 - ETA: 4s - loss: 0.1423 - accuracy: 0.94 - ETA: 4s - loss: 0.1434 - accuracy: 0.94 - ETA: 4s - loss: 0.1433 - accuracy: 0.94 - ETA: 4s - loss: 0.1437 - accuracy: 0.94 - ETA: 4s - loss: 0.1431 - accuracy: 0.94 - ETA: 3s - loss: 0.1424 - accuracy: 0.94 - ETA: 3s - loss: 0.1440 - accuracy: 0.94 - ETA: 3s - loss: 0.1441 - accuracy: 0.94 - ETA: 3s - loss: 0.1446 - accuracy: 0.94 - ETA: 3s - loss: 0.1446 - accuracy: 0.94 - ETA: 2s - loss: 0.1442 - accuracy: 0.94 - ETA: 2s - loss: 0.1439 - accuracy: 0.94 - ETA: 2s - loss: 0.1449 - accuracy: 0.94 - ETA: 2s - loss: 0.1448 - accuracy: 0.94 - ETA: 2s - loss: 0.1440 - accuracy: 0.94 - ETA: 1s - loss: 0.1435 - accuracy: 0.94 - ETA: 1s - loss: 0.1434 - accuracy: 0.94 - ETA: 1s - loss: 0.1428 - accuracy: 0.94 - ETA: 1s - loss: 0.1428 - accuracy: 0.94 - ETA: 1s - loss: 0.1425 - accuracy: 0.94 - ETA: 0s - loss: 0.1423 - accuracy: 0.94 - ETA: 0s - loss: 0.1427 - accuracy: 0.94 - ETA: 0s - loss: 0.1426 - accuracy: 0.94 - ETA: 0s - loss: 0.1423 - accuracy: 0.94 - ETA: 0s - loss: 0.1422 - accuracy: 0.94 - 36s 214ms/step - loss: 0.1422 - accuracy: 0.9420 - val_loss: 0.4492 - val_accuracy: 0.8555\n",
      "Epoch 15/20\n"
     ]
    },
    {
     "name": "stdout",
     "output_type": "stream",
     "text": [
      "167/167 [==============================] - ETA: 31s - loss: 0.2394 - accuracy: 0.968 - ETA: 33s - loss: 0.1558 - accuracy: 0.968 - ETA: 33s - loss: 0.1937 - accuracy: 0.947 - ETA: 33s - loss: 0.1562 - accuracy: 0.960 - ETA: 33s - loss: 0.1558 - accuracy: 0.950 - ETA: 33s - loss: 0.1319 - accuracy: 0.958 - ETA: 33s - loss: 0.1185 - accuracy: 0.964 - ETA: 34s - loss: 0.1156 - accuracy: 0.968 - ETA: 34s - loss: 0.1061 - accuracy: 0.972 - ETA: 33s - loss: 0.1067 - accuracy: 0.965 - ETA: 33s - loss: 0.1136 - accuracy: 0.965 - ETA: 33s - loss: 0.1158 - accuracy: 0.963 - ETA: 32s - loss: 0.1168 - accuracy: 0.961 - ETA: 32s - loss: 0.1170 - accuracy: 0.959 - ETA: 31s - loss: 0.1159 - accuracy: 0.960 - ETA: 31s - loss: 0.1146 - accuracy: 0.960 - ETA: 31s - loss: 0.1206 - accuracy: 0.957 - ETA: 31s - loss: 0.1164 - accuracy: 0.960 - ETA: 31s - loss: 0.1133 - accuracy: 0.960 - ETA: 31s - loss: 0.1131 - accuracy: 0.962 - ETA: 30s - loss: 0.1158 - accuracy: 0.961 - ETA: 30s - loss: 0.1121 - accuracy: 0.963 - ETA: 30s - loss: 0.1088 - accuracy: 0.964 - ETA: 30s - loss: 0.1075 - accuracy: 0.964 - ETA: 30s - loss: 0.1052 - accuracy: 0.966 - ETA: 29s - loss: 0.1023 - accuracy: 0.967 - ETA: 29s - loss: 0.1038 - accuracy: 0.967 - ETA: 29s - loss: 0.1026 - accuracy: 0.967 - ETA: 29s - loss: 0.1080 - accuracy: 0.965 - ETA: 29s - loss: 0.1106 - accuracy: 0.964 - ETA: 29s - loss: 0.1116 - accuracy: 0.963 - ETA: 28s - loss: 0.1121 - accuracy: 0.961 - ETA: 28s - loss: 0.1122 - accuracy: 0.961 - ETA: 28s - loss: 0.1126 - accuracy: 0.961 - ETA: 28s - loss: 0.1177 - accuracy: 0.959 - ETA: 28s - loss: 0.1169 - accuracy: 0.959 - ETA: 27s - loss: 0.1193 - accuracy: 0.956 - ETA: 27s - loss: 0.1225 - accuracy: 0.955 - ETA: 27s - loss: 0.1208 - accuracy: 0.955 - ETA: 27s - loss: 0.1200 - accuracy: 0.955 - ETA: 27s - loss: 0.1189 - accuracy: 0.955 - ETA: 26s - loss: 0.1212 - accuracy: 0.953 - ETA: 26s - loss: 0.1193 - accuracy: 0.953 - ETA: 26s - loss: 0.1187 - accuracy: 0.953 - ETA: 26s - loss: 0.1187 - accuracy: 0.953 - ETA: 25s - loss: 0.1193 - accuracy: 0.953 - ETA: 25s - loss: 0.1184 - accuracy: 0.953 - ETA: 25s - loss: 0.1167 - accuracy: 0.954 - ETA: 24s - loss: 0.1171 - accuracy: 0.953 - ETA: 24s - loss: 0.1194 - accuracy: 0.953 - ETA: 24s - loss: 0.1198 - accuracy: 0.952 - ETA: 24s - loss: 0.1222 - accuracy: 0.951 - ETA: 24s - loss: 0.1213 - accuracy: 0.952 - ETA: 23s - loss: 0.1211 - accuracy: 0.952 - ETA: 23s - loss: 0.1203 - accuracy: 0.952 - ETA: 23s - loss: 0.1186 - accuracy: 0.953 - ETA: 23s - loss: 0.1200 - accuracy: 0.953 - ETA: 23s - loss: 0.1191 - accuracy: 0.953 - ETA: 22s - loss: 0.1183 - accuracy: 0.953 - ETA: 22s - loss: 0.1195 - accuracy: 0.952 - ETA: 22s - loss: 0.1202 - accuracy: 0.951 - ETA: 22s - loss: 0.1210 - accuracy: 0.951 - ETA: 22s - loss: 0.1198 - accuracy: 0.951 - ETA: 21s - loss: 0.1188 - accuracy: 0.951 - ETA: 21s - loss: 0.1184 - accuracy: 0.951 - ETA: 21s - loss: 0.1178 - accuracy: 0.951 - ETA: 21s - loss: 0.1168 - accuracy: 0.952 - ETA: 20s - loss: 0.1165 - accuracy: 0.952 - ETA: 20s - loss: 0.1171 - accuracy: 0.951 - ETA: 20s - loss: 0.1179 - accuracy: 0.951 - ETA: 20s - loss: 0.1165 - accuracy: 0.952 - ETA: 20s - loss: 0.1167 - accuracy: 0.951 - ETA: 20s - loss: 0.1161 - accuracy: 0.951 - ETA: 19s - loss: 0.1152 - accuracy: 0.952 - ETA: 19s - loss: 0.1149 - accuracy: 0.952 - ETA: 19s - loss: 0.1140 - accuracy: 0.952 - ETA: 19s - loss: 0.1143 - accuracy: 0.952 - ETA: 19s - loss: 0.1135 - accuracy: 0.952 - ETA: 18s - loss: 0.1122 - accuracy: 0.952 - ETA: 18s - loss: 0.1129 - accuracy: 0.952 - ETA: 18s - loss: 0.1122 - accuracy: 0.952 - ETA: 18s - loss: 0.1114 - accuracy: 0.952 - ETA: 18s - loss: 0.1107 - accuracy: 0.953 - ETA: 17s - loss: 0.1115 - accuracy: 0.953 - ETA: 17s - loss: 0.1117 - accuracy: 0.952 - ETA: 17s - loss: 0.1122 - accuracy: 0.952 - ETA: 17s - loss: 0.1116 - accuracy: 0.952 - ETA: 16s - loss: 0.1116 - accuracy: 0.952 - ETA: 16s - loss: 0.1135 - accuracy: 0.952 - ETA: 16s - loss: 0.1146 - accuracy: 0.951 - ETA: 16s - loss: 0.1140 - accuracy: 0.951 - ETA: 16s - loss: 0.1137 - accuracy: 0.951 - ETA: 15s - loss: 0.1135 - accuracy: 0.951 - ETA: 15s - loss: 0.1143 - accuracy: 0.951 - ETA: 15s - loss: 0.1142 - accuracy: 0.951 - ETA: 15s - loss: 0.1164 - accuracy: 0.949 - ETA: 14s - loss: 0.1173 - accuracy: 0.949 - ETA: 14s - loss: 0.1178 - accuracy: 0.948 - ETA: 14s - loss: 0.1197 - accuracy: 0.947 - ETA: 14s - loss: 0.1191 - accuracy: 0.948 - ETA: 14s - loss: 0.1212 - accuracy: 0.947 - ETA: 13s - loss: 0.1217 - accuracy: 0.947 - ETA: 13s - loss: 0.1232 - accuracy: 0.947 - ETA: 13s - loss: 0.1232 - accuracy: 0.946 - ETA: 13s - loss: 0.1226 - accuracy: 0.947 - ETA: 12s - loss: 0.1222 - accuracy: 0.947 - ETA: 12s - loss: 0.1228 - accuracy: 0.946 - ETA: 12s - loss: 0.1228 - accuracy: 0.946 - ETA: 12s - loss: 0.1235 - accuracy: 0.946 - ETA: 12s - loss: 0.1239 - accuracy: 0.946 - ETA: 11s - loss: 0.1234 - accuracy: 0.946 - ETA: 11s - loss: 0.1242 - accuracy: 0.945 - ETA: 11s - loss: 0.1246 - accuracy: 0.945 - ETA: 11s - loss: 0.1243 - accuracy: 0.946 - ETA: 11s - loss: 0.1241 - accuracy: 0.946 - ETA: 10s - loss: 0.1243 - accuracy: 0.946 - ETA: 10s - loss: 0.1245 - accuracy: 0.945 - ETA: 10s - loss: 0.1239 - accuracy: 0.945 - ETA: 10s - loss: 0.1241 - accuracy: 0.945 - ETA: 9s - loss: 0.1243 - accuracy: 0.945 - ETA: 9s - loss: 0.1237 - accuracy: 0.94 - ETA: 9s - loss: 0.1236 - accuracy: 0.94 - ETA: 9s - loss: 0.1229 - accuracy: 0.94 - ETA: 9s - loss: 0.1223 - accuracy: 0.94 - ETA: 8s - loss: 0.1221 - accuracy: 0.94 - ETA: 8s - loss: 0.1232 - accuracy: 0.94 - ETA: 8s - loss: 0.1231 - accuracy: 0.94 - ETA: 8s - loss: 0.1237 - accuracy: 0.94 - ETA: 8s - loss: 0.1239 - accuracy: 0.94 - ETA: 7s - loss: 0.1237 - accuracy: 0.94 - ETA: 7s - loss: 0.1242 - accuracy: 0.94 - ETA: 7s - loss: 0.1258 - accuracy: 0.94 - ETA: 7s - loss: 0.1251 - accuracy: 0.94 - ETA: 6s - loss: 0.1243 - accuracy: 0.94 - ETA: 6s - loss: 0.1242 - accuracy: 0.94 - ETA: 6s - loss: 0.1242 - accuracy: 0.94 - ETA: 6s - loss: 0.1238 - accuracy: 0.94 - ETA: 6s - loss: 0.1231 - accuracy: 0.94 - ETA: 5s - loss: 0.1236 - accuracy: 0.94 - ETA: 5s - loss: 0.1236 - accuracy: 0.94 - ETA: 5s - loss: 0.1239 - accuracy: 0.94 - ETA: 5s - loss: 0.1241 - accuracy: 0.94 - ETA: 5s - loss: 0.1246 - accuracy: 0.94 - ETA: 4s - loss: 0.1246 - accuracy: 0.94 - ETA: 4s - loss: 0.1242 - accuracy: 0.94 - ETA: 4s - loss: 0.1242 - accuracy: 0.94 - ETA: 4s - loss: 0.1250 - accuracy: 0.94 - ETA: 3s - loss: 0.1246 - accuracy: 0.94 - ETA: 3s - loss: 0.1245 - accuracy: 0.94 - ETA: 3s - loss: 0.1238 - accuracy: 0.94 - ETA: 3s - loss: 0.1239 - accuracy: 0.94 - ETA: 3s - loss: 0.1243 - accuracy: 0.94 - ETA: 2s - loss: 0.1244 - accuracy: 0.94 - ETA: 2s - loss: 0.1249 - accuracy: 0.94 - ETA: 2s - loss: 0.1250 - accuracy: 0.94 - ETA: 2s - loss: 0.1250 - accuracy: 0.94 - ETA: 2s - loss: 0.1252 - accuracy: 0.94 - ETA: 1s - loss: 0.1254 - accuracy: 0.94 - ETA: 1s - loss: 0.1252 - accuracy: 0.94 - ETA: 1s - loss: 0.1250 - accuracy: 0.94 - ETA: 1s - loss: 0.1247 - accuracy: 0.94 - ETA: 1s - loss: 0.1241 - accuracy: 0.94 - ETA: 0s - loss: 0.1237 - accuracy: 0.94 - ETA: 0s - loss: 0.1235 - accuracy: 0.94 - ETA: 0s - loss: 0.1236 - accuracy: 0.94 - ETA: 0s - loss: 0.1231 - accuracy: 0.94 - ETA: 0s - loss: 0.1231 - accuracy: 0.94 - 36s 218ms/step - loss: 0.1231 - accuracy: 0.9452 - val_loss: 0.4787 - val_accuracy: 0.8486\n",
      "Epoch 16/20\n"
     ]
    },
    {
     "name": "stdout",
     "output_type": "stream",
     "text": [
      "167/167 [==============================] - ETA: 33s - loss: 0.0070 - accuracy: 1.000 - ETA: 32s - loss: 0.0320 - accuracy: 1.000 - ETA: 32s - loss: 0.0494 - accuracy: 1.000 - ETA: 31s - loss: 0.1118 - accuracy: 0.992 - ETA: 31s - loss: 0.1059 - accuracy: 0.987 - ETA: 31s - loss: 0.0918 - accuracy: 0.989 - ETA: 31s - loss: 0.0962 - accuracy: 0.986 - ETA: 30s - loss: 0.1010 - accuracy: 0.980 - ETA: 30s - loss: 0.1058 - accuracy: 0.972 - ETA: 30s - loss: 0.1016 - accuracy: 0.968 - ETA: 30s - loss: 0.0990 - accuracy: 0.968 - ETA: 30s - loss: 0.1068 - accuracy: 0.958 - ETA: 30s - loss: 0.1028 - accuracy: 0.961 - ETA: 30s - loss: 0.1006 - accuracy: 0.962 - ETA: 29s - loss: 0.1017 - accuracy: 0.960 - ETA: 29s - loss: 0.1017 - accuracy: 0.960 - ETA: 29s - loss: 0.0965 - accuracy: 0.963 - ETA: 29s - loss: 0.0939 - accuracy: 0.965 - ETA: 29s - loss: 0.0943 - accuracy: 0.963 - ETA: 28s - loss: 0.0938 - accuracy: 0.964 - ETA: 28s - loss: 0.0948 - accuracy: 0.964 - ETA: 28s - loss: 0.0935 - accuracy: 0.964 - ETA: 28s - loss: 0.0920 - accuracy: 0.964 - ETA: 27s - loss: 0.0909 - accuracy: 0.963 - ETA: 27s - loss: 0.0880 - accuracy: 0.965 - ETA: 27s - loss: 0.0860 - accuracy: 0.966 - ETA: 27s - loss: 0.0858 - accuracy: 0.966 - ETA: 27s - loss: 0.0875 - accuracy: 0.965 - ETA: 26s - loss: 0.0923 - accuracy: 0.962 - ETA: 26s - loss: 0.0958 - accuracy: 0.960 - ETA: 26s - loss: 0.0986 - accuracy: 0.958 - ETA: 26s - loss: 0.0969 - accuracy: 0.960 - ETA: 26s - loss: 0.1013 - accuracy: 0.958 - ETA: 25s - loss: 0.1020 - accuracy: 0.957 - ETA: 25s - loss: 0.1064 - accuracy: 0.956 - ETA: 25s - loss: 0.1070 - accuracy: 0.956 - ETA: 25s - loss: 0.1057 - accuracy: 0.957 - ETA: 25s - loss: 0.1051 - accuracy: 0.958 - ETA: 25s - loss: 0.1038 - accuracy: 0.958 - ETA: 24s - loss: 0.1050 - accuracy: 0.957 - ETA: 24s - loss: 0.1047 - accuracy: 0.958 - ETA: 24s - loss: 0.1103 - accuracy: 0.957 - ETA: 24s - loss: 0.1093 - accuracy: 0.958 - ETA: 24s - loss: 0.1071 - accuracy: 0.959 - ETA: 24s - loss: 0.1053 - accuracy: 0.960 - ETA: 23s - loss: 0.1083 - accuracy: 0.959 - ETA: 23s - loss: 0.1070 - accuracy: 0.960 - ETA: 23s - loss: 0.1052 - accuracy: 0.960 - ETA: 23s - loss: 0.1061 - accuracy: 0.959 - ETA: 23s - loss: 0.1070 - accuracy: 0.958 - ETA: 23s - loss: 0.1057 - accuracy: 0.959 - ETA: 22s - loss: 0.1070 - accuracy: 0.959 - ETA: 22s - loss: 0.1056 - accuracy: 0.959 - ETA: 22s - loss: 0.1073 - accuracy: 0.958 - ETA: 22s - loss: 0.1071 - accuracy: 0.958 - ETA: 22s - loss: 0.1067 - accuracy: 0.958 - ETA: 22s - loss: 0.1057 - accuracy: 0.958 - ETA: 21s - loss: 0.1067 - accuracy: 0.958 - ETA: 21s - loss: 0.1065 - accuracy: 0.958 - ETA: 21s - loss: 0.1056 - accuracy: 0.958 - ETA: 21s - loss: 0.1078 - accuracy: 0.957 - ETA: 20s - loss: 0.1135 - accuracy: 0.956 - ETA: 20s - loss: 0.1133 - accuracy: 0.955 - ETA: 20s - loss: 0.1122 - accuracy: 0.956 - ETA: 20s - loss: 0.1119 - accuracy: 0.956 - ETA: 20s - loss: 0.1116 - accuracy: 0.956 - ETA: 19s - loss: 0.1128 - accuracy: 0.957 - ETA: 19s - loss: 0.1135 - accuracy: 0.956 - ETA: 19s - loss: 0.1140 - accuracy: 0.956 - ETA: 19s - loss: 0.1141 - accuracy: 0.955 - ETA: 19s - loss: 0.1142 - accuracy: 0.955 - ETA: 18s - loss: 0.1149 - accuracy: 0.955 - ETA: 18s - loss: 0.1161 - accuracy: 0.955 - ETA: 18s - loss: 0.1165 - accuracy: 0.955 - ETA: 18s - loss: 0.1163 - accuracy: 0.955 - ETA: 18s - loss: 0.1174 - accuracy: 0.955 - ETA: 18s - loss: 0.1182 - accuracy: 0.955 - ETA: 17s - loss: 0.1190 - accuracy: 0.953 - ETA: 17s - loss: 0.1187 - accuracy: 0.954 - ETA: 17s - loss: 0.1191 - accuracy: 0.954 - ETA: 17s - loss: 0.1186 - accuracy: 0.954 - ETA: 17s - loss: 0.1187 - accuracy: 0.953 - ETA: 16s - loss: 0.1178 - accuracy: 0.954 - ETA: 16s - loss: 0.1192 - accuracy: 0.953 - ETA: 16s - loss: 0.1195 - accuracy: 0.953 - ETA: 16s - loss: 0.1200 - accuracy: 0.952 - ETA: 16s - loss: 0.1204 - accuracy: 0.952 - ETA: 15s - loss: 0.1200 - accuracy: 0.952 - ETA: 15s - loss: 0.1201 - accuracy: 0.952 - ETA: 15s - loss: 0.1193 - accuracy: 0.953 - ETA: 15s - loss: 0.1188 - accuracy: 0.953 - ETA: 15s - loss: 0.1188 - accuracy: 0.953 - ETA: 14s - loss: 0.1181 - accuracy: 0.954 - ETA: 14s - loss: 0.1178 - accuracy: 0.953 - ETA: 14s - loss: 0.1175 - accuracy: 0.953 - ETA: 14s - loss: 0.1175 - accuracy: 0.953 - ETA: 14s - loss: 0.1169 - accuracy: 0.953 - ETA: 13s - loss: 0.1160 - accuracy: 0.954 - ETA: 13s - loss: 0.1161 - accuracy: 0.953 - ETA: 13s - loss: 0.1164 - accuracy: 0.953 - ETA: 13s - loss: 0.1165 - accuracy: 0.953 - ETA: 13s - loss: 0.1156 - accuracy: 0.953 - ETA: 12s - loss: 0.1159 - accuracy: 0.953 - ETA: 12s - loss: 0.1159 - accuracy: 0.953 - ETA: 12s - loss: 0.1159 - accuracy: 0.953 - ETA: 12s - loss: 0.1163 - accuracy: 0.953 - ETA: 12s - loss: 0.1162 - accuracy: 0.953 - ETA: 11s - loss: 0.1172 - accuracy: 0.953 - ETA: 11s - loss: 0.1175 - accuracy: 0.953 - ETA: 11s - loss: 0.1190 - accuracy: 0.952 - ETA: 11s - loss: 0.1183 - accuracy: 0.952 - ETA: 11s - loss: 0.1176 - accuracy: 0.952 - ETA: 10s - loss: 0.1182 - accuracy: 0.952 - ETA: 10s - loss: 0.1175 - accuracy: 0.952 - ETA: 10s - loss: 0.1171 - accuracy: 0.952 - ETA: 10s - loss: 0.1182 - accuracy: 0.952 - ETA: 10s - loss: 0.1178 - accuracy: 0.953 - ETA: 9s - loss: 0.1181 - accuracy: 0.952 - ETA: 9s - loss: 0.1183 - accuracy: 0.95 - ETA: 9s - loss: 0.1176 - accuracy: 0.95 - ETA: 9s - loss: 0.1173 - accuracy: 0.95 - ETA: 9s - loss: 0.1171 - accuracy: 0.95 - ETA: 8s - loss: 0.1183 - accuracy: 0.95 - ETA: 8s - loss: 0.1182 - accuracy: 0.95 - ETA: 8s - loss: 0.1177 - accuracy: 0.95 - ETA: 8s - loss: 0.1182 - accuracy: 0.95 - ETA: 8s - loss: 0.1177 - accuracy: 0.95 - ETA: 7s - loss: 0.1169 - accuracy: 0.95 - ETA: 7s - loss: 0.1169 - accuracy: 0.95 - ETA: 7s - loss: 0.1169 - accuracy: 0.95 - ETA: 7s - loss: 0.1177 - accuracy: 0.95 - ETA: 7s - loss: 0.1190 - accuracy: 0.95 - ETA: 6s - loss: 0.1201 - accuracy: 0.95 - ETA: 6s - loss: 0.1194 - accuracy: 0.95 - ETA: 6s - loss: 0.1188 - accuracy: 0.95 - ETA: 6s - loss: 0.1189 - accuracy: 0.95 - ETA: 6s - loss: 0.1185 - accuracy: 0.95 - ETA: 5s - loss: 0.1183 - accuracy: 0.95 - ETA: 5s - loss: 0.1183 - accuracy: 0.95 - ETA: 5s - loss: 0.1183 - accuracy: 0.95 - ETA: 5s - loss: 0.1178 - accuracy: 0.95 - ETA: 5s - loss: 0.1173 - accuracy: 0.95 - ETA: 4s - loss: 0.1169 - accuracy: 0.95 - ETA: 4s - loss: 0.1164 - accuracy: 0.95 - ETA: 4s - loss: 0.1174 - accuracy: 0.95 - ETA: 4s - loss: 0.1175 - accuracy: 0.95 - ETA: 4s - loss: 0.1178 - accuracy: 0.95 - ETA: 3s - loss: 0.1178 - accuracy: 0.95 - ETA: 3s - loss: 0.1177 - accuracy: 0.95 - ETA: 3s - loss: 0.1182 - accuracy: 0.95 - ETA: 3s - loss: 0.1179 - accuracy: 0.95 - ETA: 3s - loss: 0.1181 - accuracy: 0.95 - ETA: 2s - loss: 0.1176 - accuracy: 0.95 - ETA: 2s - loss: 0.1175 - accuracy: 0.95 - ETA: 2s - loss: 0.1179 - accuracy: 0.95 - ETA: 2s - loss: 0.1180 - accuracy: 0.95 - ETA: 2s - loss: 0.1189 - accuracy: 0.95 - ETA: 1s - loss: 0.1192 - accuracy: 0.95 - ETA: 1s - loss: 0.1190 - accuracy: 0.95 - ETA: 1s - loss: 0.1188 - accuracy: 0.95 - ETA: 1s - loss: 0.1196 - accuracy: 0.95 - ETA: 1s - loss: 0.1190 - accuracy: 0.95 - ETA: 0s - loss: 0.1192 - accuracy: 0.95 - ETA: 0s - loss: 0.1192 - accuracy: 0.95 - ETA: 0s - loss: 0.1189 - accuracy: 0.95 - ETA: 0s - loss: 0.1184 - accuracy: 0.95 - ETA: 0s - loss: 0.1183 - accuracy: 0.95 - 36s 213ms/step - loss: 0.1183 - accuracy: 0.9511 - val_loss: 0.5360 - val_accuracy: 0.8474\n",
      "Epoch 17/20\n"
     ]
    },
    {
     "name": "stdout",
     "output_type": "stream",
     "text": [
      "167/167 [==============================] - ETA: 40s - loss: 0.2861 - accuracy: 0.843 - ETA: 38s - loss: 0.1692 - accuracy: 0.921 - ETA: 36s - loss: 0.1167 - accuracy: 0.947 - ETA: 35s - loss: 0.0933 - accuracy: 0.960 - ETA: 35s - loss: 0.0857 - accuracy: 0.962 - ETA: 35s - loss: 0.0934 - accuracy: 0.947 - ETA: 34s - loss: 0.0951 - accuracy: 0.946 - ETA: 34s - loss: 0.0966 - accuracy: 0.941 - ETA: 33s - loss: 0.0870 - accuracy: 0.947 - ETA: 33s - loss: 0.0917 - accuracy: 0.946 - ETA: 32s - loss: 0.0943 - accuracy: 0.946 - ETA: 32s - loss: 0.0921 - accuracy: 0.947 - ETA: 32s - loss: 0.1106 - accuracy: 0.942 - ETA: 31s - loss: 0.1097 - accuracy: 0.942 - ETA: 31s - loss: 0.1097 - accuracy: 0.941 - ETA: 31s - loss: 0.1065 - accuracy: 0.943 - ETA: 31s - loss: 0.1051 - accuracy: 0.944 - ETA: 30s - loss: 0.1047 - accuracy: 0.946 - ETA: 30s - loss: 0.1017 - accuracy: 0.947 - ETA: 30s - loss: 0.1001 - accuracy: 0.948 - ETA: 29s - loss: 0.1007 - accuracy: 0.947 - ETA: 29s - loss: 0.1015 - accuracy: 0.946 - ETA: 29s - loss: 0.1014 - accuracy: 0.944 - ETA: 29s - loss: 0.1020 - accuracy: 0.944 - ETA: 28s - loss: 0.1012 - accuracy: 0.945 - ETA: 28s - loss: 0.1085 - accuracy: 0.944 - ETA: 28s - loss: 0.1101 - accuracy: 0.945 - ETA: 28s - loss: 0.1131 - accuracy: 0.944 - ETA: 28s - loss: 0.1112 - accuracy: 0.946 - ETA: 28s - loss: 0.1112 - accuracy: 0.945 - ETA: 27s - loss: 0.1119 - accuracy: 0.945 - ETA: 27s - loss: 0.1109 - accuracy: 0.946 - ETA: 27s - loss: 0.1090 - accuracy: 0.947 - ETA: 27s - loss: 0.1062 - accuracy: 0.949 - ETA: 27s - loss: 0.1039 - accuracy: 0.950 - ETA: 26s - loss: 0.1017 - accuracy: 0.952 - ETA: 26s - loss: 0.1014 - accuracy: 0.951 - ETA: 26s - loss: 0.1032 - accuracy: 0.950 - ETA: 26s - loss: 0.1036 - accuracy: 0.950 - ETA: 26s - loss: 0.1042 - accuracy: 0.950 - ETA: 25s - loss: 0.1061 - accuracy: 0.948 - ETA: 25s - loss: 0.1069 - accuracy: 0.949 - ETA: 25s - loss: 0.1049 - accuracy: 0.950 - ETA: 25s - loss: 0.1045 - accuracy: 0.951 - ETA: 25s - loss: 0.1041 - accuracy: 0.951 - ETA: 25s - loss: 0.1047 - accuracy: 0.950 - ETA: 24s - loss: 0.1043 - accuracy: 0.950 - ETA: 24s - loss: 0.1048 - accuracy: 0.950 - ETA: 24s - loss: 0.1063 - accuracy: 0.950 - ETA: 24s - loss: 0.1089 - accuracy: 0.950 - ETA: 23s - loss: 0.1069 - accuracy: 0.951 - ETA: 23s - loss: 0.1064 - accuracy: 0.950 - ETA: 23s - loss: 0.1083 - accuracy: 0.949 - ETA: 23s - loss: 0.1074 - accuracy: 0.950 - ETA: 23s - loss: 0.1064 - accuracy: 0.951 - ETA: 22s - loss: 0.1059 - accuracy: 0.951 - ETA: 22s - loss: 0.1076 - accuracy: 0.950 - ETA: 22s - loss: 0.1070 - accuracy: 0.951 - ETA: 22s - loss: 0.1067 - accuracy: 0.950 - ETA: 22s - loss: 0.1126 - accuracy: 0.949 - ETA: 21s - loss: 0.1121 - accuracy: 0.949 - ETA: 21s - loss: 0.1118 - accuracy: 0.950 - ETA: 21s - loss: 0.1115 - accuracy: 0.949 - ETA: 21s - loss: 0.1114 - accuracy: 0.950 - ETA: 21s - loss: 0.1107 - accuracy: 0.950 - ETA: 20s - loss: 0.1115 - accuracy: 0.948 - ETA: 20s - loss: 0.1104 - accuracy: 0.949 - ETA: 20s - loss: 0.1108 - accuracy: 0.948 - ETA: 20s - loss: 0.1108 - accuracy: 0.948 - ETA: 20s - loss: 0.1094 - accuracy: 0.949 - ETA: 19s - loss: 0.1097 - accuracy: 0.949 - ETA: 19s - loss: 0.1097 - accuracy: 0.949 - ETA: 19s - loss: 0.1093 - accuracy: 0.949 - ETA: 19s - loss: 0.1116 - accuracy: 0.949 - ETA: 19s - loss: 0.1106 - accuracy: 0.950 - ETA: 18s - loss: 0.1102 - accuracy: 0.950 - ETA: 18s - loss: 0.1095 - accuracy: 0.950 - ETA: 18s - loss: 0.1086 - accuracy: 0.951 - ETA: 18s - loss: 0.1075 - accuracy: 0.952 - ETA: 18s - loss: 0.1074 - accuracy: 0.952 - ETA: 17s - loss: 0.1079 - accuracy: 0.952 - ETA: 17s - loss: 0.1077 - accuracy: 0.952 - ETA: 17s - loss: 0.1091 - accuracy: 0.951 - ETA: 17s - loss: 0.1086 - accuracy: 0.951 - ETA: 17s - loss: 0.1079 - accuracy: 0.952 - ETA: 17s - loss: 0.1078 - accuracy: 0.952 - ETA: 16s - loss: 0.1086 - accuracy: 0.951 - ETA: 16s - loss: 0.1105 - accuracy: 0.951 - ETA: 16s - loss: 0.1099 - accuracy: 0.951 - ETA: 16s - loss: 0.1103 - accuracy: 0.951 - ETA: 15s - loss: 0.1106 - accuracy: 0.951 - ETA: 15s - loss: 0.1097 - accuracy: 0.951 - ETA: 15s - loss: 0.1100 - accuracy: 0.951 - ETA: 15s - loss: 0.1107 - accuracy: 0.951 - ETA: 15s - loss: 0.1104 - accuracy: 0.951 - ETA: 15s - loss: 0.1122 - accuracy: 0.950 - ETA: 14s - loss: 0.1128 - accuracy: 0.950 - ETA: 14s - loss: 0.1124 - accuracy: 0.950 - ETA: 14s - loss: 0.1128 - accuracy: 0.950 - ETA: 14s - loss: 0.1132 - accuracy: 0.949 - ETA: 14s - loss: 0.1126 - accuracy: 0.950 - ETA: 13s - loss: 0.1125 - accuracy: 0.950 - ETA: 13s - loss: 0.1128 - accuracy: 0.949 - ETA: 13s - loss: 0.1128 - accuracy: 0.949 - ETA: 13s - loss: 0.1133 - accuracy: 0.949 - ETA: 13s - loss: 0.1126 - accuracy: 0.950 - ETA: 12s - loss: 0.1126 - accuracy: 0.950 - ETA: 12s - loss: 0.1118 - accuracy: 0.950 - ETA: 12s - loss: 0.1111 - accuracy: 0.951 - ETA: 12s - loss: 0.1108 - accuracy: 0.951 - ETA: 12s - loss: 0.1107 - accuracy: 0.951 - ETA: 11s - loss: 0.1103 - accuracy: 0.951 - ETA: 11s - loss: 0.1110 - accuracy: 0.951 - ETA: 11s - loss: 0.1110 - accuracy: 0.951 - ETA: 11s - loss: 0.1121 - accuracy: 0.951 - ETA: 11s - loss: 0.1125 - accuracy: 0.950 - ETA: 10s - loss: 0.1116 - accuracy: 0.951 - ETA: 10s - loss: 0.1119 - accuracy: 0.950 - ETA: 10s - loss: 0.1118 - accuracy: 0.950 - ETA: 10s - loss: 0.1113 - accuracy: 0.951 - ETA: 9s - loss: 0.1105 - accuracy: 0.951 - ETA: 9s - loss: 0.1096 - accuracy: 0.95 - ETA: 9s - loss: 0.1104 - accuracy: 0.95 - ETA: 9s - loss: 0.1097 - accuracy: 0.95 - ETA: 9s - loss: 0.1095 - accuracy: 0.95 - ETA: 8s - loss: 0.1088 - accuracy: 0.95 - ETA: 8s - loss: 0.1085 - accuracy: 0.95 - ETA: 8s - loss: 0.1082 - accuracy: 0.95 - ETA: 8s - loss: 0.1086 - accuracy: 0.95 - ETA: 8s - loss: 0.1089 - accuracy: 0.95 - ETA: 7s - loss: 0.1081 - accuracy: 0.95 - ETA: 7s - loss: 0.1083 - accuracy: 0.95 - ETA: 7s - loss: 0.1086 - accuracy: 0.95 - ETA: 7s - loss: 0.1088 - accuracy: 0.95 - ETA: 6s - loss: 0.1088 - accuracy: 0.95 - ETA: 6s - loss: 0.1084 - accuracy: 0.95 - ETA: 6s - loss: 0.1099 - accuracy: 0.95 - ETA: 6s - loss: 0.1095 - accuracy: 0.95 - ETA: 6s - loss: 0.1098 - accuracy: 0.95 - ETA: 5s - loss: 0.1100 - accuracy: 0.95 - ETA: 5s - loss: 0.1105 - accuracy: 0.95 - ETA: 5s - loss: 0.1102 - accuracy: 0.95 - ETA: 5s - loss: 0.1105 - accuracy: 0.95 - ETA: 4s - loss: 0.1116 - accuracy: 0.95 - ETA: 4s - loss: 0.1128 - accuracy: 0.95 - ETA: 4s - loss: 0.1127 - accuracy: 0.95 - ETA: 4s - loss: 0.1134 - accuracy: 0.95 - ETA: 4s - loss: 0.1130 - accuracy: 0.95 - ETA: 3s - loss: 0.1128 - accuracy: 0.95 - ETA: 3s - loss: 0.1126 - accuracy: 0.95 - ETA: 3s - loss: 0.1125 - accuracy: 0.95 - ETA: 3s - loss: 0.1133 - accuracy: 0.94 - ETA: 3s - loss: 0.1128 - accuracy: 0.95 - ETA: 2s - loss: 0.1134 - accuracy: 0.95 - ETA: 2s - loss: 0.1133 - accuracy: 0.95 - ETA: 2s - loss: 0.1139 - accuracy: 0.95 - ETA: 2s - loss: 0.1138 - accuracy: 0.95 - ETA: 1s - loss: 0.1135 - accuracy: 0.95 - ETA: 1s - loss: 0.1131 - accuracy: 0.95 - ETA: 1s - loss: 0.1130 - accuracy: 0.95 - ETA: 1s - loss: 0.1131 - accuracy: 0.95 - ETA: 1s - loss: 0.1133 - accuracy: 0.95 - ETA: 0s - loss: 0.1133 - accuracy: 0.95 - ETA: 0s - loss: 0.1128 - accuracy: 0.95 - ETA: 0s - loss: 0.1128 - accuracy: 0.95 - ETA: 0s - loss: 0.1122 - accuracy: 0.95 - ETA: 0s - loss: 0.1122 - accuracy: 0.95 - 38s 226ms/step - loss: 0.1122 - accuracy: 0.9507 - val_loss: 0.4920 - val_accuracy: 0.8613\n",
      "Epoch 18/20\n"
     ]
    },
    {
     "name": "stdout",
     "output_type": "stream",
     "text": [
      "167/167 [==============================] - ETA: 34s - loss: 0.1159 - accuracy: 0.968 - ETA: 34s - loss: 0.1039 - accuracy: 0.968 - ETA: 36s - loss: 0.1220 - accuracy: 0.937 - ETA: 36s - loss: 0.0950 - accuracy: 0.953 - ETA: 36s - loss: 0.0911 - accuracy: 0.950 - ETA: 35s - loss: 0.0851 - accuracy: 0.958 - ETA: 34s - loss: 0.0810 - accuracy: 0.959 - ETA: 34s - loss: 0.0775 - accuracy: 0.964 - ETA: 33s - loss: 0.0809 - accuracy: 0.965 - ETA: 33s - loss: 0.0765 - accuracy: 0.968 - ETA: 33s - loss: 0.0798 - accuracy: 0.968 - ETA: 33s - loss: 0.0840 - accuracy: 0.966 - ETA: 33s - loss: 0.0922 - accuracy: 0.963 - ETA: 33s - loss: 0.0911 - accuracy: 0.962 - ETA: 33s - loss: 0.0997 - accuracy: 0.962 - ETA: 33s - loss: 0.0940 - accuracy: 0.964 - ETA: 33s - loss: 0.0900 - accuracy: 0.966 - ETA: 32s - loss: 0.0859 - accuracy: 0.968 - ETA: 32s - loss: 0.0853 - accuracy: 0.968 - ETA: 32s - loss: 0.0844 - accuracy: 0.968 - ETA: 32s - loss: 0.0843 - accuracy: 0.967 - ETA: 32s - loss: 0.0866 - accuracy: 0.964 - ETA: 32s - loss: 0.0846 - accuracy: 0.966 - ETA: 32s - loss: 0.0840 - accuracy: 0.967 - ETA: 31s - loss: 0.0860 - accuracy: 0.967 - ETA: 31s - loss: 0.0887 - accuracy: 0.967 - ETA: 31s - loss: 0.0935 - accuracy: 0.966 - ETA: 31s - loss: 0.0917 - accuracy: 0.967 - ETA: 31s - loss: 0.0976 - accuracy: 0.964 - ETA: 30s - loss: 0.0958 - accuracy: 0.965 - ETA: 30s - loss: 0.0939 - accuracy: 0.966 - ETA: 30s - loss: 0.0930 - accuracy: 0.966 - ETA: 30s - loss: 0.0952 - accuracy: 0.965 - ETA: 29s - loss: 0.0946 - accuracy: 0.965 - ETA: 29s - loss: 0.0939 - accuracy: 0.965 - ETA: 29s - loss: 0.0934 - accuracy: 0.966 - ETA: 29s - loss: 0.0930 - accuracy: 0.967 - ETA: 28s - loss: 0.0911 - accuracy: 0.967 - ETA: 28s - loss: 0.0906 - accuracy: 0.967 - ETA: 28s - loss: 0.0904 - accuracy: 0.966 - ETA: 28s - loss: 0.0930 - accuracy: 0.965 - ETA: 27s - loss: 0.0939 - accuracy: 0.965 - ETA: 27s - loss: 0.0948 - accuracy: 0.965 - ETA: 27s - loss: 0.0962 - accuracy: 0.963 - ETA: 27s - loss: 0.0957 - accuracy: 0.963 - ETA: 26s - loss: 0.0996 - accuracy: 0.962 - ETA: 26s - loss: 0.1033 - accuracy: 0.960 - ETA: 26s - loss: 0.1033 - accuracy: 0.959 - ETA: 26s - loss: 0.1024 - accuracy: 0.959 - ETA: 25s - loss: 0.1028 - accuracy: 0.958 - ETA: 25s - loss: 0.1024 - accuracy: 0.958 - ETA: 25s - loss: 0.1009 - accuracy: 0.959 - ETA: 25s - loss: 0.1017 - accuracy: 0.959 - ETA: 25s - loss: 0.1031 - accuracy: 0.958 - ETA: 25s - loss: 0.1022 - accuracy: 0.958 - ETA: 24s - loss: 0.1013 - accuracy: 0.959 - ETA: 24s - loss: 0.1006 - accuracy: 0.959 - ETA: 24s - loss: 0.1009 - accuracy: 0.959 - ETA: 24s - loss: 0.0995 - accuracy: 0.959 - ETA: 23s - loss: 0.0996 - accuracy: 0.959 - ETA: 23s - loss: 0.1016 - accuracy: 0.958 - ETA: 23s - loss: 0.1006 - accuracy: 0.959 - ETA: 23s - loss: 0.0994 - accuracy: 0.959 - ETA: 23s - loss: 0.0981 - accuracy: 0.960 - ETA: 22s - loss: 0.0978 - accuracy: 0.960 - ETA: 22s - loss: 0.0977 - accuracy: 0.960 - ETA: 22s - loss: 0.0973 - accuracy: 0.960 - ETA: 22s - loss: 0.0962 - accuracy: 0.961 - ETA: 21s - loss: 0.0957 - accuracy: 0.961 - ETA: 21s - loss: 0.0951 - accuracy: 0.962 - ETA: 21s - loss: 0.0946 - accuracy: 0.962 - ETA: 21s - loss: 0.0938 - accuracy: 0.962 - ETA: 21s - loss: 0.0933 - accuracy: 0.963 - ETA: 20s - loss: 0.0943 - accuracy: 0.962 - ETA: 20s - loss: 0.0950 - accuracy: 0.962 - ETA: 20s - loss: 0.0948 - accuracy: 0.962 - ETA: 20s - loss: 0.0979 - accuracy: 0.961 - ETA: 19s - loss: 0.0975 - accuracy: 0.961 - ETA: 19s - loss: 0.0979 - accuracy: 0.961 - ETA: 19s - loss: 0.0990 - accuracy: 0.960 - ETA: 19s - loss: 0.1010 - accuracy: 0.960 - ETA: 18s - loss: 0.1022 - accuracy: 0.959 - ETA: 18s - loss: 0.1018 - accuracy: 0.959 - ETA: 18s - loss: 0.1012 - accuracy: 0.959 - ETA: 18s - loss: 0.1002 - accuracy: 0.960 - ETA: 17s - loss: 0.0994 - accuracy: 0.960 - ETA: 17s - loss: 0.0985 - accuracy: 0.961 - ETA: 17s - loss: 0.0986 - accuracy: 0.961 - ETA: 17s - loss: 0.0993 - accuracy: 0.960 - ETA: 17s - loss: 0.0988 - accuracy: 0.960 - ETA: 16s - loss: 0.0992 - accuracy: 0.960 - ETA: 16s - loss: 0.1004 - accuracy: 0.959 - ETA: 16s - loss: 0.0999 - accuracy: 0.960 - ETA: 16s - loss: 0.0992 - accuracy: 0.960 - ETA: 15s - loss: 0.0990 - accuracy: 0.960 - ETA: 15s - loss: 0.0988 - accuracy: 0.960 - ETA: 15s - loss: 0.0979 - accuracy: 0.961 - ETA: 15s - loss: 0.0994 - accuracy: 0.961 - ETA: 14s - loss: 0.0993 - accuracy: 0.961 - ETA: 14s - loss: 0.0999 - accuracy: 0.960 - ETA: 14s - loss: 0.0996 - accuracy: 0.960 - ETA: 14s - loss: 0.1003 - accuracy: 0.960 - ETA: 14s - loss: 0.1008 - accuracy: 0.960 - ETA: 13s - loss: 0.1023 - accuracy: 0.959 - ETA: 13s - loss: 0.1019 - accuracy: 0.959 - ETA: 13s - loss: 0.1012 - accuracy: 0.959 - ETA: 13s - loss: 0.1011 - accuracy: 0.959 - ETA: 12s - loss: 0.1013 - accuracy: 0.959 - ETA: 12s - loss: 0.1020 - accuracy: 0.958 - ETA: 12s - loss: 0.1015 - accuracy: 0.959 - ETA: 12s - loss: 0.1009 - accuracy: 0.959 - ETA: 12s - loss: 0.1017 - accuracy: 0.958 - ETA: 11s - loss: 0.1050 - accuracy: 0.957 - ETA: 11s - loss: 0.1058 - accuracy: 0.957 - ETA: 11s - loss: 0.1054 - accuracy: 0.957 - ETA: 11s - loss: 0.1048 - accuracy: 0.957 - ETA: 11s - loss: 0.1042 - accuracy: 0.957 - ETA: 10s - loss: 0.1044 - accuracy: 0.957 - ETA: 10s - loss: 0.1049 - accuracy: 0.956 - ETA: 10s - loss: 0.1048 - accuracy: 0.957 - ETA: 10s - loss: 0.1048 - accuracy: 0.957 - ETA: 9s - loss: 0.1048 - accuracy: 0.957 - ETA: 9s - loss: 0.1053 - accuracy: 0.95 - ETA: 9s - loss: 0.1052 - accuracy: 0.95 - ETA: 9s - loss: 0.1054 - accuracy: 0.95 - ETA: 9s - loss: 0.1058 - accuracy: 0.95 - ETA: 8s - loss: 0.1058 - accuracy: 0.95 - ETA: 8s - loss: 0.1055 - accuracy: 0.95 - ETA: 8s - loss: 0.1053 - accuracy: 0.95 - ETA: 8s - loss: 0.1051 - accuracy: 0.95 - ETA: 7s - loss: 0.1047 - accuracy: 0.95 - ETA: 7s - loss: 0.1042 - accuracy: 0.95 - ETA: 7s - loss: 0.1040 - accuracy: 0.95 - ETA: 7s - loss: 0.1035 - accuracy: 0.95 - ETA: 7s - loss: 0.1036 - accuracy: 0.95 - ETA: 6s - loss: 0.1037 - accuracy: 0.95 - ETA: 6s - loss: 0.1034 - accuracy: 0.95 - ETA: 6s - loss: 0.1033 - accuracy: 0.95 - ETA: 6s - loss: 0.1027 - accuracy: 0.95 - ETA: 5s - loss: 0.1025 - accuracy: 0.95 - ETA: 5s - loss: 0.1019 - accuracy: 0.95 - ETA: 5s - loss: 0.1015 - accuracy: 0.95 - ETA: 5s - loss: 0.1011 - accuracy: 0.95 - ETA: 5s - loss: 0.1007 - accuracy: 0.95 - ETA: 4s - loss: 0.1001 - accuracy: 0.95 - ETA: 4s - loss: 0.1000 - accuracy: 0.95 - ETA: 4s - loss: 0.0994 - accuracy: 0.95 - ETA: 4s - loss: 0.0992 - accuracy: 0.95 - ETA: 4s - loss: 0.0987 - accuracy: 0.95 - ETA: 3s - loss: 0.0988 - accuracy: 0.95 - ETA: 3s - loss: 0.0985 - accuracy: 0.95 - ETA: 3s - loss: 0.0989 - accuracy: 0.95 - ETA: 3s - loss: 0.0992 - accuracy: 0.95 - ETA: 2s - loss: 0.1009 - accuracy: 0.95 - ETA: 2s - loss: 0.1005 - accuracy: 0.95 - ETA: 2s - loss: 0.1008 - accuracy: 0.95 - ETA: 2s - loss: 0.1023 - accuracy: 0.95 - ETA: 2s - loss: 0.1025 - accuracy: 0.95 - ETA: 1s - loss: 0.1030 - accuracy: 0.95 - ETA: 1s - loss: 0.1041 - accuracy: 0.95 - ETA: 1s - loss: 0.1039 - accuracy: 0.95 - ETA: 1s - loss: 0.1038 - accuracy: 0.95 - ETA: 0s - loss: 0.1039 - accuracy: 0.95 - ETA: 0s - loss: 0.1034 - accuracy: 0.95 - ETA: 0s - loss: 0.1036 - accuracy: 0.95 - ETA: 0s - loss: 0.1039 - accuracy: 0.95 - ETA: 0s - loss: 0.1039 - accuracy: 0.95 - 39s 232ms/step - loss: 0.1039 - accuracy: 0.9554 - val_loss: 0.5117 - val_accuracy: 0.8636\n",
      "Epoch 19/20\n"
     ]
    },
    {
     "name": "stdout",
     "output_type": "stream",
     "text": [
      "167/167 [==============================] - ETA: 32s - loss: 0.0671 - accuracy: 1.000 - ETA: 38s - loss: 0.0387 - accuracy: 1.000 - ETA: 38s - loss: 0.0411 - accuracy: 1.000 - ETA: 38s - loss: 0.0497 - accuracy: 0.992 - ETA: 36s - loss: 0.0457 - accuracy: 0.993 - ETA: 35s - loss: 0.0482 - accuracy: 0.994 - ETA: 34s - loss: 0.0543 - accuracy: 0.986 - ETA: 34s - loss: 0.0479 - accuracy: 0.988 - ETA: 33s - loss: 0.0556 - accuracy: 0.982 - ETA: 33s - loss: 0.0649 - accuracy: 0.978 - ETA: 33s - loss: 0.0704 - accuracy: 0.974 - ETA: 33s - loss: 0.0685 - accuracy: 0.976 - ETA: 33s - loss: 0.0668 - accuracy: 0.976 - ETA: 33s - loss: 0.0685 - accuracy: 0.971 - ETA: 33s - loss: 0.0708 - accuracy: 0.970 - ETA: 32s - loss: 0.0775 - accuracy: 0.962 - ETA: 32s - loss: 0.0764 - accuracy: 0.963 - ETA: 32s - loss: 0.0730 - accuracy: 0.965 - ETA: 31s - loss: 0.0723 - accuracy: 0.967 - ETA: 31s - loss: 0.0704 - accuracy: 0.968 - ETA: 31s - loss: 0.0699 - accuracy: 0.968 - ETA: 30s - loss: 0.0787 - accuracy: 0.964 - ETA: 30s - loss: 0.0819 - accuracy: 0.962 - ETA: 30s - loss: 0.0812 - accuracy: 0.963 - ETA: 30s - loss: 0.0824 - accuracy: 0.962 - ETA: 29s - loss: 0.0819 - accuracy: 0.963 - ETA: 29s - loss: 0.0821 - accuracy: 0.963 - ETA: 29s - loss: 0.0803 - accuracy: 0.964 - ETA: 28s - loss: 0.0783 - accuracy: 0.965 - ETA: 28s - loss: 0.0844 - accuracy: 0.963 - ETA: 28s - loss: 0.0842 - accuracy: 0.962 - ETA: 28s - loss: 0.0932 - accuracy: 0.960 - ETA: 27s - loss: 0.0914 - accuracy: 0.961 - ETA: 27s - loss: 0.0923 - accuracy: 0.961 - ETA: 27s - loss: 0.0938 - accuracy: 0.960 - ETA: 27s - loss: 0.1008 - accuracy: 0.958 - ETA: 26s - loss: 0.0996 - accuracy: 0.958 - ETA: 26s - loss: 0.1005 - accuracy: 0.956 - ETA: 26s - loss: 0.1004 - accuracy: 0.955 - ETA: 26s - loss: 0.0991 - accuracy: 0.956 - ETA: 25s - loss: 0.0975 - accuracy: 0.957 - ETA: 25s - loss: 0.0961 - accuracy: 0.958 - ETA: 25s - loss: 0.0977 - accuracy: 0.956 - ETA: 25s - loss: 0.0971 - accuracy: 0.956 - ETA: 24s - loss: 0.0964 - accuracy: 0.956 - ETA: 24s - loss: 0.0961 - accuracy: 0.956 - ETA: 24s - loss: 0.0952 - accuracy: 0.957 - ETA: 24s - loss: 0.0965 - accuracy: 0.957 - ETA: 24s - loss: 0.0946 - accuracy: 0.957 - ETA: 23s - loss: 0.0946 - accuracy: 0.957 - ETA: 23s - loss: 0.0944 - accuracy: 0.957 - ETA: 23s - loss: 0.0930 - accuracy: 0.957 - ETA: 23s - loss: 0.0920 - accuracy: 0.958 - ETA: 22s - loss: 0.0911 - accuracy: 0.958 - ETA: 22s - loss: 0.0913 - accuracy: 0.958 - ETA: 22s - loss: 0.0897 - accuracy: 0.959 - ETA: 22s - loss: 0.0893 - accuracy: 0.959 - ETA: 22s - loss: 0.0887 - accuracy: 0.959 - ETA: 21s - loss: 0.0899 - accuracy: 0.958 - ETA: 21s - loss: 0.0917 - accuracy: 0.958 - ETA: 21s - loss: 0.0911 - accuracy: 0.958 - ETA: 21s - loss: 0.0906 - accuracy: 0.958 - ETA: 21s - loss: 0.0895 - accuracy: 0.958 - ETA: 20s - loss: 0.0891 - accuracy: 0.958 - ETA: 20s - loss: 0.0896 - accuracy: 0.958 - ETA: 20s - loss: 0.0886 - accuracy: 0.958 - ETA: 20s - loss: 0.0874 - accuracy: 0.959 - ETA: 19s - loss: 0.0863 - accuracy: 0.960 - ETA: 19s - loss: 0.0862 - accuracy: 0.960 - ETA: 19s - loss: 0.0859 - accuracy: 0.960 - ETA: 19s - loss: 0.0850 - accuracy: 0.961 - ETA: 19s - loss: 0.0855 - accuracy: 0.960 - ETA: 19s - loss: 0.0855 - accuracy: 0.960 - ETA: 18s - loss: 0.0863 - accuracy: 0.959 - ETA: 18s - loss: 0.0852 - accuracy: 0.960 - ETA: 18s - loss: 0.0844 - accuracy: 0.960 - ETA: 18s - loss: 0.0856 - accuracy: 0.961 - ETA: 18s - loss: 0.0857 - accuracy: 0.961 - ETA: 17s - loss: 0.0850 - accuracy: 0.961 - ETA: 17s - loss: 0.0849 - accuracy: 0.961 - ETA: 17s - loss: 0.0852 - accuracy: 0.961 - ETA: 17s - loss: 0.0861 - accuracy: 0.961 - ETA: 17s - loss: 0.0869 - accuracy: 0.961 - ETA: 16s - loss: 0.0860 - accuracy: 0.961 - ETA: 16s - loss: 0.0866 - accuracy: 0.961 - ETA: 16s - loss: 0.0866 - accuracy: 0.961 - ETA: 16s - loss: 0.0868 - accuracy: 0.961 - ETA: 16s - loss: 0.0877 - accuracy: 0.960 - ETA: 15s - loss: 0.0872 - accuracy: 0.961 - ETA: 15s - loss: 0.0866 - accuracy: 0.961 - ETA: 15s - loss: 0.0863 - accuracy: 0.961 - ETA: 15s - loss: 0.0897 - accuracy: 0.960 - ETA: 15s - loss: 0.0912 - accuracy: 0.960 - ETA: 14s - loss: 0.0904 - accuracy: 0.960 - ETA: 14s - loss: 0.0908 - accuracy: 0.960 - ETA: 14s - loss: 0.0909 - accuracy: 0.959 - ETA: 14s - loss: 0.0906 - accuracy: 0.960 - ETA: 14s - loss: 0.0904 - accuracy: 0.959 - ETA: 13s - loss: 0.0901 - accuracy: 0.959 - ETA: 13s - loss: 0.0901 - accuracy: 0.959 - ETA: 13s - loss: 0.0901 - accuracy: 0.959 - ETA: 13s - loss: 0.0894 - accuracy: 0.959 - ETA: 13s - loss: 0.0886 - accuracy: 0.960 - ETA: 12s - loss: 0.0884 - accuracy: 0.960 - ETA: 12s - loss: 0.0883 - accuracy: 0.959 - ETA: 12s - loss: 0.0886 - accuracy: 0.959 - ETA: 12s - loss: 0.0893 - accuracy: 0.959 - ETA: 12s - loss: 0.0928 - accuracy: 0.958 - ETA: 11s - loss: 0.0927 - accuracy: 0.959 - ETA: 11s - loss: 0.0933 - accuracy: 0.958 - ETA: 11s - loss: 0.0930 - accuracy: 0.958 - ETA: 11s - loss: 0.0923 - accuracy: 0.959 - ETA: 10s - loss: 0.0917 - accuracy: 0.959 - ETA: 10s - loss: 0.0922 - accuracy: 0.959 - ETA: 10s - loss: 0.0917 - accuracy: 0.959 - ETA: 10s - loss: 0.0915 - accuracy: 0.959 - ETA: 10s - loss: 0.0924 - accuracy: 0.959 - ETA: 9s - loss: 0.0938 - accuracy: 0.959 - ETA: 9s - loss: 0.0941 - accuracy: 0.95 - ETA: 9s - loss: 0.0947 - accuracy: 0.95 - ETA: 9s - loss: 0.0956 - accuracy: 0.95 - ETA: 9s - loss: 0.0967 - accuracy: 0.95 - ETA: 9s - loss: 0.0965 - accuracy: 0.95 - ETA: 8s - loss: 0.0964 - accuracy: 0.95 - ETA: 8s - loss: 0.0973 - accuracy: 0.95 - ETA: 8s - loss: 0.0969 - accuracy: 0.95 - ETA: 8s - loss: 0.0978 - accuracy: 0.95 - ETA: 8s - loss: 0.0975 - accuracy: 0.95 - ETA: 7s - loss: 0.0976 - accuracy: 0.95 - ETA: 7s - loss: 0.0973 - accuracy: 0.95 - ETA: 7s - loss: 0.0970 - accuracy: 0.95 - ETA: 7s - loss: 0.0967 - accuracy: 0.95 - ETA: 7s - loss: 0.0968 - accuracy: 0.95 - ETA: 6s - loss: 0.0966 - accuracy: 0.95 - ETA: 6s - loss: 0.0962 - accuracy: 0.95 - ETA: 6s - loss: 0.0961 - accuracy: 0.95 - ETA: 6s - loss: 0.0963 - accuracy: 0.95 - ETA: 6s - loss: 0.0963 - accuracy: 0.95 - ETA: 5s - loss: 0.0968 - accuracy: 0.95 - ETA: 5s - loss: 0.0970 - accuracy: 0.95 - ETA: 5s - loss: 0.0974 - accuracy: 0.95 - ETA: 5s - loss: 0.0972 - accuracy: 0.95 - ETA: 4s - loss: 0.0965 - accuracy: 0.95 - ETA: 4s - loss: 0.0960 - accuracy: 0.95 - ETA: 4s - loss: 0.0964 - accuracy: 0.95 - ETA: 4s - loss: 0.0965 - accuracy: 0.95 - ETA: 4s - loss: 0.0962 - accuracy: 0.95 - ETA: 3s - loss: 0.0970 - accuracy: 0.95 - ETA: 3s - loss: 0.0966 - accuracy: 0.95 - ETA: 3s - loss: 0.0961 - accuracy: 0.95 - ETA: 3s - loss: 0.0956 - accuracy: 0.95 - ETA: 3s - loss: 0.0964 - accuracy: 0.95 - ETA: 2s - loss: 0.0968 - accuracy: 0.95 - ETA: 2s - loss: 0.0965 - accuracy: 0.95 - ETA: 2s - loss: 0.0962 - accuracy: 0.95 - ETA: 2s - loss: 0.0958 - accuracy: 0.95 - ETA: 2s - loss: 0.0956 - accuracy: 0.95 - ETA: 1s - loss: 0.0967 - accuracy: 0.95 - ETA: 1s - loss: 0.0973 - accuracy: 0.95 - ETA: 1s - loss: 0.0977 - accuracy: 0.95 - ETA: 1s - loss: 0.0976 - accuracy: 0.95 - ETA: 1s - loss: 0.0973 - accuracy: 0.95 - ETA: 0s - loss: 0.0972 - accuracy: 0.95 - ETA: 0s - loss: 0.0970 - accuracy: 0.95 - ETA: 0s - loss: 0.0968 - accuracy: 0.95 - ETA: 0s - loss: 0.0969 - accuracy: 0.95 - ETA: 0s - loss: 0.0969 - accuracy: 0.95 - 36s 218ms/step - loss: 0.0969 - accuracy: 0.9575 - val_loss: 0.5051 - val_accuracy: 0.8543\n",
      "Epoch 20/20\n"
     ]
    },
    {
     "name": "stdout",
     "output_type": "stream",
     "text": [
      "167/167 [==============================] - ETA: 34s - loss: 0.0731 - accuracy: 0.937 - ETA: 32s - loss: 0.0915 - accuracy: 0.921 - ETA: 33s - loss: 0.1156 - accuracy: 0.906 - ETA: 34s - loss: 0.1196 - accuracy: 0.914 - ETA: 35s - loss: 0.1046 - accuracy: 0.925 - ETA: 35s - loss: 0.1245 - accuracy: 0.921 - ETA: 35s - loss: 0.1215 - accuracy: 0.924 - ETA: 34s - loss: 0.1240 - accuracy: 0.925 - ETA: 34s - loss: 0.1141 - accuracy: 0.930 - ETA: 33s - loss: 0.1061 - accuracy: 0.934 - ETA: 33s - loss: 0.1000 - accuracy: 0.940 - ETA: 33s - loss: 0.0950 - accuracy: 0.945 - ETA: 32s - loss: 0.0903 - accuracy: 0.949 - ETA: 32s - loss: 0.0915 - accuracy: 0.948 - ETA: 32s - loss: 0.0926 - accuracy: 0.947 - ETA: 31s - loss: 0.0984 - accuracy: 0.947 - ETA: 31s - loss: 0.0967 - accuracy: 0.950 - ETA: 31s - loss: 0.0960 - accuracy: 0.953 - ETA: 31s - loss: 0.0955 - accuracy: 0.952 - ETA: 30s - loss: 0.0986 - accuracy: 0.950 - ETA: 30s - loss: 0.0986 - accuracy: 0.950 - ETA: 30s - loss: 0.0981 - accuracy: 0.948 - ETA: 29s - loss: 0.0989 - accuracy: 0.948 - ETA: 29s - loss: 0.0997 - accuracy: 0.949 - ETA: 29s - loss: 0.0988 - accuracy: 0.950 - ETA: 29s - loss: 0.0966 - accuracy: 0.951 - ETA: 29s - loss: 0.0966 - accuracy: 0.951 - ETA: 29s - loss: 0.0956 - accuracy: 0.950 - ETA: 28s - loss: 0.0958 - accuracy: 0.950 - ETA: 28s - loss: 0.0956 - accuracy: 0.950 - ETA: 28s - loss: 0.0934 - accuracy: 0.951 - ETA: 28s - loss: 0.0925 - accuracy: 0.952 - ETA: 27s - loss: 0.0920 - accuracy: 0.953 - ETA: 27s - loss: 0.0914 - accuracy: 0.954 - ETA: 27s - loss: 0.0939 - accuracy: 0.954 - ETA: 27s - loss: 0.0952 - accuracy: 0.952 - ETA: 26s - loss: 0.0939 - accuracy: 0.952 - ETA: 26s - loss: 0.0925 - accuracy: 0.953 - ETA: 26s - loss: 0.0916 - accuracy: 0.953 - ETA: 26s - loss: 0.0902 - accuracy: 0.954 - ETA: 25s - loss: 0.0896 - accuracy: 0.955 - ETA: 25s - loss: 0.0904 - accuracy: 0.953 - ETA: 25s - loss: 0.0890 - accuracy: 0.954 - ETA: 25s - loss: 0.0878 - accuracy: 0.955 - ETA: 25s - loss: 0.0889 - accuracy: 0.955 - ETA: 24s - loss: 0.0911 - accuracy: 0.955 - ETA: 24s - loss: 0.0892 - accuracy: 0.956 - ETA: 24s - loss: 0.0895 - accuracy: 0.956 - ETA: 24s - loss: 0.0889 - accuracy: 0.956 - ETA: 24s - loss: 0.0887 - accuracy: 0.956 - ETA: 24s - loss: 0.0900 - accuracy: 0.957 - ETA: 23s - loss: 0.0888 - accuracy: 0.957 - ETA: 23s - loss: 0.0931 - accuracy: 0.955 - ETA: 23s - loss: 0.0958 - accuracy: 0.954 - ETA: 23s - loss: 0.0955 - accuracy: 0.954 - ETA: 22s - loss: 0.0964 - accuracy: 0.954 - ETA: 22s - loss: 0.0961 - accuracy: 0.954 - ETA: 22s - loss: 0.0953 - accuracy: 0.954 - ETA: 22s - loss: 0.0969 - accuracy: 0.954 - ETA: 22s - loss: 0.0989 - accuracy: 0.953 - ETA: 22s - loss: 0.0987 - accuracy: 0.953 - ETA: 21s - loss: 0.0992 - accuracy: 0.953 - ETA: 21s - loss: 0.1012 - accuracy: 0.951 - ETA: 21s - loss: 0.1003 - accuracy: 0.952 - ETA: 21s - loss: 0.1007 - accuracy: 0.951 - ETA: 20s - loss: 0.0997 - accuracy: 0.952 - ETA: 20s - loss: 0.0993 - accuracy: 0.952 - ETA: 20s - loss: 0.0985 - accuracy: 0.953 - ETA: 20s - loss: 0.0975 - accuracy: 0.953 - ETA: 20s - loss: 0.0967 - accuracy: 0.954 - ETA: 19s - loss: 0.0966 - accuracy: 0.954 - ETA: 19s - loss: 0.0962 - accuracy: 0.954 - ETA: 19s - loss: 0.0960 - accuracy: 0.954 - ETA: 19s - loss: 0.0962 - accuracy: 0.954 - ETA: 19s - loss: 0.0960 - accuracy: 0.953 - ETA: 18s - loss: 0.0968 - accuracy: 0.953 - ETA: 18s - loss: 0.0973 - accuracy: 0.952 - ETA: 18s - loss: 0.0965 - accuracy: 0.953 - ETA: 18s - loss: 0.0973 - accuracy: 0.952 - ETA: 18s - loss: 0.0977 - accuracy: 0.952 - ETA: 17s - loss: 0.0982 - accuracy: 0.952 - ETA: 17s - loss: 0.0975 - accuracy: 0.952 - ETA: 17s - loss: 0.0979 - accuracy: 0.952 - ETA: 17s - loss: 0.0971 - accuracy: 0.953 - ETA: 16s - loss: 0.0969 - accuracy: 0.952 - ETA: 16s - loss: 0.0963 - accuracy: 0.953 - ETA: 16s - loss: 0.0959 - accuracy: 0.953 - ETA: 16s - loss: 0.0957 - accuracy: 0.953 - ETA: 16s - loss: 0.0970 - accuracy: 0.952 - ETA: 15s - loss: 0.0968 - accuracy: 0.953 - ETA: 15s - loss: 0.0972 - accuracy: 0.953 - ETA: 15s - loss: 0.0981 - accuracy: 0.953 - ETA: 15s - loss: 0.0978 - accuracy: 0.953 - ETA: 15s - loss: 0.0970 - accuracy: 0.953 - ETA: 14s - loss: 0.0965 - accuracy: 0.953 - ETA: 14s - loss: 0.0962 - accuracy: 0.953 - ETA: 14s - loss: 0.0966 - accuracy: 0.953 - ETA: 14s - loss: 0.0963 - accuracy: 0.953 - ETA: 14s - loss: 0.0963 - accuracy: 0.953 - ETA: 13s - loss: 0.0960 - accuracy: 0.954 - ETA: 13s - loss: 0.0954 - accuracy: 0.954 - ETA: 13s - loss: 0.0952 - accuracy: 0.954 - ETA: 13s - loss: 0.0949 - accuracy: 0.954 - ETA: 13s - loss: 0.0948 - accuracy: 0.954 - ETA: 12s - loss: 0.0964 - accuracy: 0.954 - ETA: 12s - loss: 0.0971 - accuracy: 0.953 - ETA: 12s - loss: 0.0976 - accuracy: 0.953 - ETA: 12s - loss: 0.0968 - accuracy: 0.953 - ETA: 12s - loss: 0.0961 - accuracy: 0.954 - ETA: 11s - loss: 0.0953 - accuracy: 0.954 - ETA: 11s - loss: 0.0954 - accuracy: 0.954 - ETA: 11s - loss: 0.0950 - accuracy: 0.954 - ETA: 11s - loss: 0.0946 - accuracy: 0.954 - ETA: 11s - loss: 0.0955 - accuracy: 0.953 - ETA: 10s - loss: 0.0969 - accuracy: 0.953 - ETA: 10s - loss: 0.0964 - accuracy: 0.953 - ETA: 10s - loss: 0.0964 - accuracy: 0.953 - ETA: 10s - loss: 0.0961 - accuracy: 0.953 - ETA: 9s - loss: 0.0956 - accuracy: 0.953 - ETA: 9s - loss: 0.0956 - accuracy: 0.95 - ETA: 9s - loss: 0.0953 - accuracy: 0.95 - ETA: 9s - loss: 0.0950 - accuracy: 0.95 - ETA: 9s - loss: 0.0956 - accuracy: 0.95 - ETA: 8s - loss: 0.0953 - accuracy: 0.95 - ETA: 8s - loss: 0.0964 - accuracy: 0.95 - ETA: 8s - loss: 0.0965 - accuracy: 0.95 - ETA: 8s - loss: 0.0968 - accuracy: 0.95 - ETA: 8s - loss: 0.0967 - accuracy: 0.95 - ETA: 7s - loss: 0.0959 - accuracy: 0.95 - ETA: 7s - loss: 0.0970 - accuracy: 0.95 - ETA: 7s - loss: 0.0967 - accuracy: 0.95 - ETA: 7s - loss: 0.0965 - accuracy: 0.95 - ETA: 7s - loss: 0.0967 - accuracy: 0.95 - ETA: 6s - loss: 0.0975 - accuracy: 0.95 - ETA: 6s - loss: 0.0998 - accuracy: 0.95 - ETA: 6s - loss: 0.0996 - accuracy: 0.95 - ETA: 6s - loss: 0.0996 - accuracy: 0.95 - ETA: 6s - loss: 0.0991 - accuracy: 0.95 - ETA: 5s - loss: 0.0993 - accuracy: 0.95 - ETA: 5s - loss: 0.0993 - accuracy: 0.95 - ETA: 5s - loss: 0.0988 - accuracy: 0.95 - ETA: 5s - loss: 0.0988 - accuracy: 0.95 - ETA: 4s - loss: 0.0989 - accuracy: 0.95 - ETA: 4s - loss: 0.0996 - accuracy: 0.95 - ETA: 4s - loss: 0.0994 - accuracy: 0.95 - ETA: 4s - loss: 0.0996 - accuracy: 0.95 - ETA: 4s - loss: 0.1001 - accuracy: 0.95 - ETA: 3s - loss: 0.1012 - accuracy: 0.95 - ETA: 3s - loss: 0.1008 - accuracy: 0.95 - ETA: 3s - loss: 0.1004 - accuracy: 0.95 - ETA: 3s - loss: 0.1003 - accuracy: 0.95 - ETA: 3s - loss: 0.1007 - accuracy: 0.95 - ETA: 2s - loss: 0.1004 - accuracy: 0.95 - ETA: 2s - loss: 0.1009 - accuracy: 0.95 - ETA: 2s - loss: 0.1014 - accuracy: 0.95 - ETA: 2s - loss: 0.1009 - accuracy: 0.95 - ETA: 2s - loss: 0.1010 - accuracy: 0.95 - ETA: 1s - loss: 0.1008 - accuracy: 0.95 - ETA: 1s - loss: 0.1008 - accuracy: 0.95 - ETA: 1s - loss: 0.1005 - accuracy: 0.95 - ETA: 1s - loss: 0.1014 - accuracy: 0.95 - ETA: 1s - loss: 0.1009 - accuracy: 0.95 - ETA: 0s - loss: 0.1003 - accuracy: 0.95 - ETA: 0s - loss: 0.1006 - accuracy: 0.95 - ETA: 0s - loss: 0.1013 - accuracy: 0.95 - ETA: 0s - loss: 0.1011 - accuracy: 0.95 - ETA: 0s - loss: 0.1011 - accuracy: 0.95 - 36s 217ms/step - loss: 0.1011 - accuracy: 0.9528 - val_loss: 0.5000 - val_accuracy: 0.8590\n"
     ]
    }
   ],
   "source": [
    "model = tuner.hypermodel.build(best_hps)\n",
    "history = model.fit(X_train_pad, y_train, epochs=20, validation_data=(X_val_pad, y_val))"
   ]
  },
  {
   "cell_type": "code",
   "execution_count": 51,
   "id": "2fb30dd3",
   "metadata": {},
   "outputs": [
    {
     "data": {
      "image/png": "[encoded data removed]",
      "text/plain": [
       "<Figure size 432x288 with 1 Axes>"
      ]
     },
     "metadata": {
      "needs_background": "light"
     },
     "output_type": "display_data"
    },
    {
     "data": {
      "image/png": "[encoded data removed]",
      "text/plain": [
       "<Figure size 432x288 with 1 Axes>"
      ]
     },
     "metadata": {
      "needs_background": "light"
     },
     "output_type": "display_data"
    }
   ],
   "source": [
    "plot_history()"
   ]
  },
  {
   "cell_type": "code",
   "execution_count": 52,
   "id": "375d2de5",
   "metadata": {},
   "outputs": [
    {
     "name": "stdout",
     "output_type": "stream",
     "text": [
      "Best epoch: 18\n"
     ]
    }
   ],
   "source": [
    "# select the best number of epochs\n",
    "\n",
    "val_acc_per_epoch = history.history['val_accuracy']\n",
    "best_number_of_epoch = val_acc_per_epoch.index(max(val_acc_per_epoch)) + 1\n",
    "print('Best epoch: %d' % (best_number_of_epoch,))"
   ]
  },
  {
   "cell_type": "code",
   "execution_count": 53,
   "id": "73410a9e",
   "metadata": {},
   "outputs": [
    {
     "name": "stdout",
     "output_type": "stream",
     "text": [
      "Epoch 1/18\n",
      "167/167 [==============================] - ETA: 15:55 - loss: 1.3916 - accuracy: 0.187 - ETA: 30s - loss: 1.3821 - accuracy: 0.2812  - ETA: 28s - loss: 1.3949 - accuracy: 0.239 - ETA: 27s - loss: 1.4013 - accuracy: 0.226 - ETA: 27s - loss: 1.3961 - accuracy: 0.237 - ETA: 27s - loss: 1.3838 - accuracy: 0.270 - ETA: 26s - loss: 1.3783 - accuracy: 0.299 - ETA: 26s - loss: 1.3704 - accuracy: 0.308 - ETA: 26s - loss: 1.3650 - accuracy: 0.312 - ETA: 26s - loss: 1.3638 - accuracy: 0.312 - ETA: 26s - loss: 1.3589 - accuracy: 0.315 - ETA: 26s - loss: 1.3613 - accuracy: 0.304 - ETA: 25s - loss: 1.3607 - accuracy: 0.307 - ETA: 25s - loss: 1.3564 - accuracy: 0.319 - ETA: 25s - loss: 1.3553 - accuracy: 0.322 - ETA: 25s - loss: 1.3523 - accuracy: 0.330 - ETA: 25s - loss: 1.3434 - accuracy: 0.343 - ETA: 24s - loss: 1.3385 - accuracy: 0.350 - ETA: 24s - loss: 1.3350 - accuracy: 0.355 - ETA: 24s - loss: 1.3316 - accuracy: 0.359 - ETA: 24s - loss: 1.3296 - accuracy: 0.363 - ETA: 24s - loss: 1.3247 - accuracy: 0.370 - ETA: 23s - loss: 1.3158 - accuracy: 0.383 - ETA: 23s - loss: 1.3123 - accuracy: 0.386 - ETA: 23s - loss: 1.3108 - accuracy: 0.391 - ETA: 23s - loss: 1.3064 - accuracy: 0.394 - ETA: 23s - loss: 1.3089 - accuracy: 0.391 - ETA: 23s - loss: 1.3015 - accuracy: 0.399 - ETA: 23s - loss: 1.2962 - accuracy: 0.401 - ETA: 22s - loss: 1.2922 - accuracy: 0.404 - ETA: 22s - loss: 1.2861 - accuracy: 0.406 - ETA: 22s - loss: 1.2862 - accuracy: 0.405 - ETA: 22s - loss: 1.2835 - accuracy: 0.407 - ETA: 22s - loss: 1.2739 - accuracy: 0.411 - ETA: 22s - loss: 1.2686 - accuracy: 0.414 - ETA: 22s - loss: 1.2722 - accuracy: 0.414 - ETA: 21s - loss: 1.2655 - accuracy: 0.421 - ETA: 21s - loss: 1.2644 - accuracy: 0.423 - ETA: 21s - loss: 1.2576 - accuracy: 0.428 - ETA: 21s - loss: 1.2573 - accuracy: 0.429 - ETA: 21s - loss: 1.2514 - accuracy: 0.432 - ETA: 21s - loss: 1.2524 - accuracy: 0.431 - ETA: 20s - loss: 1.2475 - accuracy: 0.432 - ETA: 20s - loss: 1.2460 - accuracy: 0.433 - ETA: 20s - loss: 1.2447 - accuracy: 0.432 - ETA: 20s - loss: 1.2472 - accuracy: 0.430 - ETA: 20s - loss: 1.2414 - accuracy: 0.434 - ETA: 20s - loss: 1.2369 - accuracy: 0.436 - ETA: 20s - loss: 1.2343 - accuracy: 0.437 - ETA: 19s - loss: 1.2329 - accuracy: 0.438 - ETA: 19s - loss: 1.2322 - accuracy: 0.440 - ETA: 19s - loss: 1.2300 - accuracy: 0.442 - ETA: 19s - loss: 1.2272 - accuracy: 0.444 - ETA: 19s - loss: 1.2232 - accuracy: 0.445 - ETA: 19s - loss: 1.2210 - accuracy: 0.446 - ETA: 19s - loss: 1.2196 - accuracy: 0.447 - ETA: 18s - loss: 1.2207 - accuracy: 0.448 - ETA: 18s - loss: 1.2195 - accuracy: 0.448 - ETA: 18s - loss: 1.2170 - accuracy: 0.451 - ETA: 18s - loss: 1.2167 - accuracy: 0.451 - ETA: 18s - loss: 1.2158 - accuracy: 0.451 - ETA: 18s - loss: 1.2103 - accuracy: 0.455 - ETA: 17s - loss: 1.2096 - accuracy: 0.455 - ETA: 17s - loss: 1.2054 - accuracy: 0.458 - ETA: 17s - loss: 1.2024 - accuracy: 0.460 - ETA: 17s - loss: 1.2000 - accuracy: 0.460 - ETA: 17s - loss: 1.1965 - accuracy: 0.463 - ETA: 17s - loss: 1.1957 - accuracy: 0.465 - ETA: 17s - loss: 1.1930 - accuracy: 0.467 - ETA: 16s - loss: 1.1919 - accuracy: 0.468 - ETA: 16s - loss: 1.1897 - accuracy: 0.471 - ETA: 16s - loss: 1.1875 - accuracy: 0.472 - ETA: 16s - loss: 1.1863 - accuracy: 0.473 - ETA: 16s - loss: 1.1862 - accuracy: 0.473 - ETA: 16s - loss: 1.1829 - accuracy: 0.476 - ETA: 15s - loss: 1.1797 - accuracy: 0.478 - ETA: 15s - loss: 1.1745 - accuracy: 0.481 - ETA: 15s - loss: 1.1723 - accuracy: 0.483 - ETA: 15s - loss: 1.1714 - accuracy: 0.485 - ETA: 15s - loss: 1.1685 - accuracy: 0.486 - ETA: 15s - loss: 1.1659 - accuracy: 0.488 - ETA: 14s - loss: 1.1660 - accuracy: 0.487 - ETA: 14s - loss: 1.1635 - accuracy: 0.490 - ETA: 14s - loss: 1.1603 - accuracy: 0.492 - ETA: 14s - loss: 1.1588 - accuracy: 0.494 - ETA: 14s - loss: 1.1580 - accuracy: 0.495 - ETA: 14s - loss: 1.1537 - accuracy: 0.497 - ETA: 13s - loss: 1.1523 - accuracy: 0.500 - ETA: 13s - loss: 1.1503 - accuracy: 0.501 - ETA: 13s - loss: 1.1468 - accuracy: 0.503 - ETA: 13s - loss: 1.1462 - accuracy: 0.504 - ETA: 13s - loss: 1.1434 - accuracy: 0.506 - ETA: 13s - loss: 1.1405 - accuracy: 0.508 - ETA: 12s - loss: 1.1395 - accuracy: 0.508 - ETA: 12s - loss: 1.1343 - accuracy: 0.512 - ETA: 12s - loss: 1.1360 - accuracy: 0.512 - ETA: 12s - loss: 1.1334 - accuracy: 0.512 - ETA: 12s - loss: 1.1306 - accuracy: 0.515 - ETA: 12s - loss: 1.1305 - accuracy: 0.516 - ETA: 11s - loss: 1.1296 - accuracy: 0.517 - ETA: 11s - loss: 1.1267 - accuracy: 0.518 - ETA: 11s - loss: 1.1254 - accuracy: 0.519 - ETA: 11s - loss: 1.1243 - accuracy: 0.520 - ETA: 11s - loss: 1.1211 - accuracy: 0.521 - ETA: 11s - loss: 1.1189 - accuracy: 0.522 - ETA: 10s - loss: 1.1168 - accuracy: 0.522 - ETA: 10s - loss: 1.1157 - accuracy: 0.523 - ETA: 10s - loss: 1.1128 - accuracy: 0.524 - ETA: 10s - loss: 1.1162 - accuracy: 0.523 - ETA: 10s - loss: 1.1142 - accuracy: 0.524 - ETA: 10s - loss: 1.1130 - accuracy: 0.525 - ETA: 9s - loss: 1.1119 - accuracy: 0.525 - ETA: 9s - loss: 1.1120 - accuracy: 0.52 - ETA: 9s - loss: 1.1090 - accuracy: 0.52 - ETA: 9s - loss: 1.1061 - accuracy: 0.52 - ETA: 9s - loss: 1.1023 - accuracy: 0.53 - ETA: 9s - loss: 1.1005 - accuracy: 0.53 - ETA: 8s - loss: 1.0992 - accuracy: 0.53 - ETA: 8s - loss: 1.0987 - accuracy: 0.53 - ETA: 8s - loss: 1.0962 - accuracy: 0.53 - ETA: 8s - loss: 1.0940 - accuracy: 0.53 - ETA: 8s - loss: 1.0910 - accuracy: 0.53 - ETA: 7s - loss: 1.0900 - accuracy: 0.54 - ETA: 7s - loss: 1.0882 - accuracy: 0.54 - ETA: 7s - loss: 1.0865 - accuracy: 0.54 - ETA: 7s - loss: 1.0827 - accuracy: 0.54 - ETA: 7s - loss: 1.0827 - accuracy: 0.54 - ETA: 7s - loss: 1.0813 - accuracy: 0.54 - ETA: 6s - loss: 1.0792 - accuracy: 0.54 - ETA: 6s - loss: 1.0778 - accuracy: 0.54 - ETA: 6s - loss: 1.0770 - accuracy: 0.54 - ETA: 6s - loss: 1.0762 - accuracy: 0.54 - ETA: 6s - loss: 1.0736 - accuracy: 0.54 - ETA: 6s - loss: 1.0730 - accuracy: 0.54 - ETA: 5s - loss: 1.0713 - accuracy: 0.55 - ETA: 5s - loss: 1.0718 - accuracy: 0.55 - ETA: 5s - loss: 1.0704 - accuracy: 0.55 - ETA: 5s - loss: 1.0706 - accuracy: 0.55 - ETA: 5s - loss: 1.0687 - accuracy: 0.55 - ETA: 4s - loss: 1.0686 - accuracy: 0.55 - ETA: 4s - loss: 1.0665 - accuracy: 0.55 - ETA: 4s - loss: 1.0651 - accuracy: 0.55 - ETA: 4s - loss: 1.0634 - accuracy: 0.55 - ETA: 4s - loss: 1.0621 - accuracy: 0.55 - ETA: 4s - loss: 1.0621 - accuracy: 0.55 - ETA: 3s - loss: 1.0607 - accuracy: 0.55 - ETA: 3s - loss: 1.0595 - accuracy: 0.55 - ETA: 3s - loss: 1.0575 - accuracy: 0.55 - ETA: 3s - loss: 1.0565 - accuracy: 0.55 - ETA: 3s - loss: 1.0556 - accuracy: 0.55 - ETA: 2s - loss: 1.0546 - accuracy: 0.55 - ETA: 2s - loss: 1.0536 - accuracy: 0.55 - ETA: 2s - loss: 1.0522 - accuracy: 0.56 - ETA: 2s - loss: 1.0517 - accuracy: 0.56 - ETA: 2s - loss: 1.0494 - accuracy: 0.56 - ETA: 2s - loss: 1.0487 - accuracy: 0.56 - ETA: 1s - loss: 1.0482 - accuracy: 0.56 - ETA: 1s - loss: 1.0483 - accuracy: 0.56 - ETA: 1s - loss: 1.0470 - accuracy: 0.56 - ETA: 1s - loss: 1.0451 - accuracy: 0.56 - ETA: 1s - loss: 1.0433 - accuracy: 0.56 - ETA: 0s - loss: 1.0411 - accuracy: 0.56 - ETA: 0s - loss: 1.0410 - accuracy: 0.56 - ETA: 0s - loss: 1.0400 - accuracy: 0.56 - ETA: 0s - loss: 1.0393 - accuracy: 0.56 - ETA: 0s - loss: 1.0371 - accuracy: 0.56 - ETA: 0s - loss: 1.0370 - accuracy: 0.56 - 40s 204ms/step - loss: 1.0370 - accuracy: 0.5667 - val_loss: 0.8238 - val_accuracy: 0.6717\n",
      "Epoch 2/18\n"
     ]
    },
    {
     "name": "stdout",
     "output_type": "stream",
     "text": [
      "167/167 [==============================] - ETA: 31s - loss: 0.9018 - accuracy: 0.656 - ETA: 31s - loss: 0.8191 - accuracy: 0.734 - ETA: 31s - loss: 0.8229 - accuracy: 0.729 - ETA: 32s - loss: 0.8477 - accuracy: 0.710 - ETA: 32s - loss: 0.8560 - accuracy: 0.693 - ETA: 32s - loss: 0.8062 - accuracy: 0.708 - ETA: 31s - loss: 0.8067 - accuracy: 0.709 - ETA: 31s - loss: 0.8141 - accuracy: 0.710 - ETA: 31s - loss: 0.7882 - accuracy: 0.722 - ETA: 31s - loss: 0.7899 - accuracy: 0.725 - ETA: 31s - loss: 0.7878 - accuracy: 0.721 - ETA: 30s - loss: 0.7722 - accuracy: 0.724 - ETA: 30s - loss: 0.7750 - accuracy: 0.723 - ETA: 30s - loss: 0.7819 - accuracy: 0.721 - ETA: 30s - loss: 0.7658 - accuracy: 0.725 - ETA: 29s - loss: 0.8058 - accuracy: 0.705 - ETA: 29s - loss: 0.7991 - accuracy: 0.707 - ETA: 29s - loss: 0.7894 - accuracy: 0.711 - ETA: 29s - loss: 0.7805 - accuracy: 0.715 - ETA: 29s - loss: 0.7826 - accuracy: 0.714 - ETA: 28s - loss: 0.7879 - accuracy: 0.712 - ETA: 28s - loss: 0.7852 - accuracy: 0.717 - ETA: 28s - loss: 0.7835 - accuracy: 0.716 - ETA: 28s - loss: 0.7761 - accuracy: 0.720 - ETA: 27s - loss: 0.7683 - accuracy: 0.723 - ETA: 27s - loss: 0.7637 - accuracy: 0.724 - ETA: 27s - loss: 0.7653 - accuracy: 0.724 - ETA: 27s - loss: 0.7584 - accuracy: 0.726 - ETA: 26s - loss: 0.7553 - accuracy: 0.728 - ETA: 26s - loss: 0.7544 - accuracy: 0.729 - ETA: 26s - loss: 0.7464 - accuracy: 0.730 - ETA: 26s - loss: 0.7465 - accuracy: 0.731 - ETA: 26s - loss: 0.7472 - accuracy: 0.729 - ETA: 25s - loss: 0.7452 - accuracy: 0.729 - ETA: 25s - loss: 0.7485 - accuracy: 0.730 - ETA: 25s - loss: 0.7476 - accuracy: 0.731 - ETA: 25s - loss: 0.7525 - accuracy: 0.727 - ETA: 25s - loss: 0.7538 - accuracy: 0.727 - ETA: 24s - loss: 0.7545 - accuracy: 0.726 - ETA: 24s - loss: 0.7533 - accuracy: 0.728 - ETA: 24s - loss: 0.7534 - accuracy: 0.726 - ETA: 24s - loss: 0.7568 - accuracy: 0.724 - ETA: 24s - loss: 0.7554 - accuracy: 0.723 - ETA: 23s - loss: 0.7645 - accuracy: 0.720 - ETA: 23s - loss: 0.7647 - accuracy: 0.721 - ETA: 23s - loss: 0.7696 - accuracy: 0.720 - ETA: 23s - loss: 0.7740 - accuracy: 0.716 - ETA: 23s - loss: 0.7761 - accuracy: 0.713 - ETA: 22s - loss: 0.7760 - accuracy: 0.711 - ETA: 22s - loss: 0.7782 - accuracy: 0.710 - ETA: 22s - loss: 0.7765 - accuracy: 0.710 - ETA: 22s - loss: 0.7760 - accuracy: 0.709 - ETA: 22s - loss: 0.7791 - accuracy: 0.707 - ETA: 21s - loss: 0.7793 - accuracy: 0.707 - ETA: 21s - loss: 0.7784 - accuracy: 0.706 - ETA: 21s - loss: 0.7778 - accuracy: 0.707 - ETA: 21s - loss: 0.7804 - accuracy: 0.705 - ETA: 21s - loss: 0.7789 - accuracy: 0.705 - ETA: 20s - loss: 0.7810 - accuracy: 0.703 - ETA: 20s - loss: 0.7792 - accuracy: 0.705 - ETA: 20s - loss: 0.7790 - accuracy: 0.705 - ETA: 20s - loss: 0.7825 - accuracy: 0.705 - ETA: 20s - loss: 0.7812 - accuracy: 0.705 - ETA: 19s - loss: 0.7836 - accuracy: 0.704 - ETA: 19s - loss: 0.7825 - accuracy: 0.704 - ETA: 19s - loss: 0.7811 - accuracy: 0.704 - ETA: 19s - loss: 0.7785 - accuracy: 0.705 - ETA: 19s - loss: 0.7768 - accuracy: 0.705 - ETA: 18s - loss: 0.7761 - accuracy: 0.705 - ETA: 18s - loss: 0.7764 - accuracy: 0.705 - ETA: 18s - loss: 0.7753 - accuracy: 0.706 - ETA: 18s - loss: 0.7763 - accuracy: 0.705 - ETA: 18s - loss: 0.7758 - accuracy: 0.705 - ETA: 17s - loss: 0.7762 - accuracy: 0.704 - ETA: 17s - loss: 0.7758 - accuracy: 0.705 - ETA: 17s - loss: 0.7716 - accuracy: 0.707 - ETA: 17s - loss: 0.7745 - accuracy: 0.706 - ETA: 17s - loss: 0.7747 - accuracy: 0.706 - ETA: 17s - loss: 0.7715 - accuracy: 0.707 - ETA: 16s - loss: 0.7695 - accuracy: 0.708 - ETA: 16s - loss: 0.7674 - accuracy: 0.709 - ETA: 16s - loss: 0.7675 - accuracy: 0.709 - ETA: 16s - loss: 0.7685 - accuracy: 0.708 - ETA: 16s - loss: 0.7668 - accuracy: 0.709 - ETA: 15s - loss: 0.7680 - accuracy: 0.708 - ETA: 15s - loss: 0.7674 - accuracy: 0.709 - ETA: 15s - loss: 0.7634 - accuracy: 0.711 - ETA: 15s - loss: 0.7672 - accuracy: 0.709 - ETA: 15s - loss: 0.7677 - accuracy: 0.709 - ETA: 14s - loss: 0.7650 - accuracy: 0.710 - ETA: 14s - loss: 0.7673 - accuracy: 0.708 - ETA: 14s - loss: 0.7677 - accuracy: 0.708 - ETA: 14s - loss: 0.7674 - accuracy: 0.708 - ETA: 14s - loss: 0.7662 - accuracy: 0.709 - ETA: 14s - loss: 0.7676 - accuracy: 0.708 - ETA: 13s - loss: 0.7649 - accuracy: 0.709 - ETA: 13s - loss: 0.7630 - accuracy: 0.709 - ETA: 13s - loss: 0.7624 - accuracy: 0.710 - ETA: 13s - loss: 0.7640 - accuracy: 0.709 - ETA: 13s - loss: 0.7633 - accuracy: 0.710 - ETA: 12s - loss: 0.7611 - accuracy: 0.710 - ETA: 12s - loss: 0.7608 - accuracy: 0.710 - ETA: 12s - loss: 0.7585 - accuracy: 0.711 - ETA: 12s - loss: 0.7585 - accuracy: 0.711 - ETA: 12s - loss: 0.7604 - accuracy: 0.710 - ETA: 11s - loss: 0.7603 - accuracy: 0.710 - ETA: 11s - loss: 0.7608 - accuracy: 0.709 - ETA: 11s - loss: 0.7591 - accuracy: 0.710 - ETA: 11s - loss: 0.7575 - accuracy: 0.711 - ETA: 11s - loss: 0.7578 - accuracy: 0.711 - ETA: 10s - loss: 0.7575 - accuracy: 0.711 - ETA: 10s - loss: 0.7555 - accuracy: 0.712 - ETA: 10s - loss: 0.7544 - accuracy: 0.713 - ETA: 10s - loss: 0.7551 - accuracy: 0.713 - ETA: 10s - loss: 0.7549 - accuracy: 0.713 - ETA: 9s - loss: 0.7558 - accuracy: 0.713 - ETA: 9s - loss: 0.7569 - accuracy: 0.71 - ETA: 9s - loss: 0.7549 - accuracy: 0.71 - ETA: 9s - loss: 0.7539 - accuracy: 0.71 - ETA: 9s - loss: 0.7544 - accuracy: 0.71 - ETA: 9s - loss: 0.7559 - accuracy: 0.71 - ETA: 8s - loss: 0.7548 - accuracy: 0.71 - ETA: 8s - loss: 0.7557 - accuracy: 0.71 - ETA: 8s - loss: 0.7540 - accuracy: 0.71 - ETA: 8s - loss: 0.7538 - accuracy: 0.71 - ETA: 8s - loss: 0.7547 - accuracy: 0.71 - ETA: 7s - loss: 0.7537 - accuracy: 0.71 - ETA: 7s - loss: 0.7537 - accuracy: 0.71 - ETA: 7s - loss: 0.7526 - accuracy: 0.71 - ETA: 7s - loss: 0.7531 - accuracy: 0.71 - ETA: 7s - loss: 0.7544 - accuracy: 0.71 - ETA: 6s - loss: 0.7524 - accuracy: 0.71 - ETA: 6s - loss: 0.7520 - accuracy: 0.71 - ETA: 6s - loss: 0.7506 - accuracy: 0.71 - ETA: 6s - loss: 0.7520 - accuracy: 0.71 - ETA: 6s - loss: 0.7510 - accuracy: 0.71 - ETA: 6s - loss: 0.7505 - accuracy: 0.71 - ETA: 5s - loss: 0.7489 - accuracy: 0.71 - ETA: 5s - loss: 0.7484 - accuracy: 0.71 - ETA: 5s - loss: 0.7492 - accuracy: 0.71 - ETA: 5s - loss: 0.7485 - accuracy: 0.71 - ETA: 5s - loss: 0.7500 - accuracy: 0.71 - ETA: 4s - loss: 0.7517 - accuracy: 0.71 - ETA: 4s - loss: 0.7526 - accuracy: 0.71 - ETA: 4s - loss: 0.7525 - accuracy: 0.71 - ETA: 4s - loss: 0.7516 - accuracy: 0.71 - ETA: 4s - loss: 0.7518 - accuracy: 0.71 - ETA: 3s - loss: 0.7502 - accuracy: 0.71 - ETA: 3s - loss: 0.7495 - accuracy: 0.71 - ETA: 3s - loss: 0.7489 - accuracy: 0.71 - ETA: 3s - loss: 0.7476 - accuracy: 0.71 - ETA: 3s - loss: 0.7470 - accuracy: 0.71 - ETA: 2s - loss: 0.7453 - accuracy: 0.71 - ETA: 2s - loss: 0.7451 - accuracy: 0.71 - ETA: 2s - loss: 0.7433 - accuracy: 0.72 - ETA: 2s - loss: 0.7429 - accuracy: 0.72 - ETA: 2s - loss: 0.7415 - accuracy: 0.72 - ETA: 1s - loss: 0.7408 - accuracy: 0.72 - ETA: 1s - loss: 0.7405 - accuracy: 0.72 - ETA: 1s - loss: 0.7400 - accuracy: 0.72 - ETA: 1s - loss: 0.7390 - accuracy: 0.72 - ETA: 1s - loss: 0.7383 - accuracy: 0.72 - ETA: 0s - loss: 0.7385 - accuracy: 0.72 - ETA: 0s - loss: 0.7378 - accuracy: 0.72 - ETA: 0s - loss: 0.7372 - accuracy: 0.72 - ETA: 0s - loss: 0.7356 - accuracy: 0.72 - ETA: 0s - loss: 0.7358 - accuracy: 0.72 - 36s 213ms/step - loss: 0.7358 - accuracy: 0.7228 - val_loss: 0.6694 - val_accuracy: 0.7468\n",
      "Epoch 3/18\n"
     ]
    },
    {
     "name": "stdout",
     "output_type": "stream",
     "text": [
      "167/167 [==============================] - ETA: 33s - loss: 0.9264 - accuracy: 0.656 - ETA: 33s - loss: 0.9670 - accuracy: 0.640 - ETA: 33s - loss: 0.8859 - accuracy: 0.677 - ETA: 33s - loss: 0.8475 - accuracy: 0.703 - ETA: 32s - loss: 0.8242 - accuracy: 0.706 - ETA: 34s - loss: 0.7899 - accuracy: 0.718 - ETA: 34s - loss: 0.8051 - accuracy: 0.696 - ETA: 34s - loss: 0.8045 - accuracy: 0.679 - ETA: 34s - loss: 0.8119 - accuracy: 0.670 - ETA: 34s - loss: 0.8049 - accuracy: 0.671 - ETA: 33s - loss: 0.7920 - accuracy: 0.676 - ETA: 33s - loss: 0.7834 - accuracy: 0.682 - ETA: 32s - loss: 0.7983 - accuracy: 0.680 - ETA: 32s - loss: 0.7900 - accuracy: 0.687 - ETA: 32s - loss: 0.7750 - accuracy: 0.695 - ETA: 31s - loss: 0.7668 - accuracy: 0.699 - ETA: 31s - loss: 0.7694 - accuracy: 0.691 - ETA: 31s - loss: 0.7571 - accuracy: 0.694 - ETA: 31s - loss: 0.7464 - accuracy: 0.699 - ETA: 31s - loss: 0.7454 - accuracy: 0.700 - ETA: 30s - loss: 0.7402 - accuracy: 0.700 - ETA: 30s - loss: 0.7304 - accuracy: 0.707 - ETA: 30s - loss: 0.7246 - accuracy: 0.710 - ETA: 30s - loss: 0.7091 - accuracy: 0.718 - ETA: 30s - loss: 0.7076 - accuracy: 0.718 - ETA: 30s - loss: 0.7019 - accuracy: 0.722 - ETA: 30s - loss: 0.7114 - accuracy: 0.719 - ETA: 29s - loss: 0.7100 - accuracy: 0.719 - ETA: 29s - loss: 0.7031 - accuracy: 0.723 - ETA: 29s - loss: 0.7109 - accuracy: 0.719 - ETA: 28s - loss: 0.7069 - accuracy: 0.722 - ETA: 28s - loss: 0.7043 - accuracy: 0.725 - ETA: 28s - loss: 0.7027 - accuracy: 0.727 - ETA: 28s - loss: 0.7042 - accuracy: 0.728 - ETA: 28s - loss: 0.7031 - accuracy: 0.730 - ETA: 28s - loss: 0.7059 - accuracy: 0.726 - ETA: 28s - loss: 0.7010 - accuracy: 0.729 - ETA: 28s - loss: 0.7027 - accuracy: 0.729 - ETA: 27s - loss: 0.6925 - accuracy: 0.734 - ETA: 27s - loss: 0.6914 - accuracy: 0.735 - ETA: 27s - loss: 0.6913 - accuracy: 0.735 - ETA: 26s - loss: 0.6932 - accuracy: 0.735 - ETA: 26s - loss: 0.6943 - accuracy: 0.734 - ETA: 26s - loss: 0.6994 - accuracy: 0.730 - ETA: 26s - loss: 0.6939 - accuracy: 0.730 - ETA: 25s - loss: 0.6883 - accuracy: 0.733 - ETA: 25s - loss: 0.6843 - accuracy: 0.732 - ETA: 25s - loss: 0.6891 - accuracy: 0.731 - ETA: 25s - loss: 0.6842 - accuracy: 0.734 - ETA: 24s - loss: 0.6790 - accuracy: 0.736 - ETA: 24s - loss: 0.6790 - accuracy: 0.737 - ETA: 24s - loss: 0.6761 - accuracy: 0.738 - ETA: 24s - loss: 0.6768 - accuracy: 0.738 - ETA: 23s - loss: 0.6753 - accuracy: 0.739 - ETA: 23s - loss: 0.6731 - accuracy: 0.738 - ETA: 23s - loss: 0.6702 - accuracy: 0.740 - ETA: 23s - loss: 0.6709 - accuracy: 0.740 - ETA: 22s - loss: 0.6741 - accuracy: 0.739 - ETA: 22s - loss: 0.6782 - accuracy: 0.736 - ETA: 22s - loss: 0.6749 - accuracy: 0.739 - ETA: 22s - loss: 0.6784 - accuracy: 0.737 - ETA: 21s - loss: 0.6777 - accuracy: 0.737 - ETA: 21s - loss: 0.6763 - accuracy: 0.739 - ETA: 21s - loss: 0.6787 - accuracy: 0.738 - ETA: 21s - loss: 0.6754 - accuracy: 0.740 - ETA: 21s - loss: 0.6720 - accuracy: 0.741 - ETA: 20s - loss: 0.6716 - accuracy: 0.741 - ETA: 20s - loss: 0.6739 - accuracy: 0.741 - ETA: 20s - loss: 0.6741 - accuracy: 0.741 - ETA: 20s - loss: 0.6738 - accuracy: 0.741 - ETA: 19s - loss: 0.6713 - accuracy: 0.742 - ETA: 19s - loss: 0.6737 - accuracy: 0.742 - ETA: 19s - loss: 0.6708 - accuracy: 0.744 - ETA: 19s - loss: 0.6729 - accuracy: 0.742 - ETA: 19s - loss: 0.6711 - accuracy: 0.742 - ETA: 18s - loss: 0.6698 - accuracy: 0.743 - ETA: 18s - loss: 0.6652 - accuracy: 0.746 - ETA: 18s - loss: 0.6634 - accuracy: 0.747 - ETA: 18s - loss: 0.6634 - accuracy: 0.745 - ETA: 18s - loss: 0.6602 - accuracy: 0.748 - ETA: 17s - loss: 0.6577 - accuracy: 0.749 - ETA: 17s - loss: 0.6554 - accuracy: 0.750 - ETA: 17s - loss: 0.6548 - accuracy: 0.750 - ETA: 17s - loss: 0.6573 - accuracy: 0.749 - ETA: 16s - loss: 0.6550 - accuracy: 0.750 - ETA: 16s - loss: 0.6512 - accuracy: 0.751 - ETA: 16s - loss: 0.6548 - accuracy: 0.749 - ETA: 16s - loss: 0.6533 - accuracy: 0.749 - ETA: 16s - loss: 0.6519 - accuracy: 0.749 - ETA: 15s - loss: 0.6488 - accuracy: 0.751 - ETA: 15s - loss: 0.6488 - accuracy: 0.751 - ETA: 15s - loss: 0.6469 - accuracy: 0.752 - ETA: 15s - loss: 0.6460 - accuracy: 0.753 - ETA: 15s - loss: 0.6458 - accuracy: 0.753 - ETA: 15s - loss: 0.6453 - accuracy: 0.753 - ETA: 14s - loss: 0.6414 - accuracy: 0.755 - ETA: 14s - loss: 0.6385 - accuracy: 0.757 - ETA: 14s - loss: 0.6393 - accuracy: 0.757 - ETA: 14s - loss: 0.6415 - accuracy: 0.756 - ETA: 14s - loss: 0.6390 - accuracy: 0.757 - ETA: 13s - loss: 0.6383 - accuracy: 0.757 - ETA: 13s - loss: 0.6381 - accuracy: 0.758 - ETA: 13s - loss: 0.6400 - accuracy: 0.757 - ETA: 13s - loss: 0.6365 - accuracy: 0.758 - ETA: 13s - loss: 0.6344 - accuracy: 0.758 - ETA: 12s - loss: 0.6337 - accuracy: 0.759 - ETA: 12s - loss: 0.6321 - accuracy: 0.759 - ETA: 12s - loss: 0.6322 - accuracy: 0.760 - ETA: 12s - loss: 0.6325 - accuracy: 0.760 - ETA: 12s - loss: 0.6324 - accuracy: 0.761 - ETA: 11s - loss: 0.6313 - accuracy: 0.761 - ETA: 11s - loss: 0.6308 - accuracy: 0.760 - ETA: 11s - loss: 0.6302 - accuracy: 0.761 - ETA: 11s - loss: 0.6315 - accuracy: 0.760 - ETA: 11s - loss: 0.6307 - accuracy: 0.760 - ETA: 10s - loss: 0.6302 - accuracy: 0.761 - ETA: 10s - loss: 0.6299 - accuracy: 0.762 - ETA: 10s - loss: 0.6282 - accuracy: 0.763 - ETA: 10s - loss: 0.6282 - accuracy: 0.762 - ETA: 10s - loss: 0.6262 - accuracy: 0.764 - ETA: 9s - loss: 0.6248 - accuracy: 0.765 - ETA: 9s - loss: 0.6233 - accuracy: 0.76 - ETA: 9s - loss: 0.6219 - accuracy: 0.76 - ETA: 9s - loss: 0.6200 - accuracy: 0.76 - ETA: 9s - loss: 0.6200 - accuracy: 0.76 - ETA: 8s - loss: 0.6192 - accuracy: 0.76 - ETA: 8s - loss: 0.6183 - accuracy: 0.76 - ETA: 8s - loss: 0.6184 - accuracy: 0.76 - ETA: 8s - loss: 0.6170 - accuracy: 0.76 - ETA: 7s - loss: 0.6158 - accuracy: 0.76 - ETA: 7s - loss: 0.6183 - accuracy: 0.76 - ETA: 7s - loss: 0.6200 - accuracy: 0.76 - ETA: 7s - loss: 0.6201 - accuracy: 0.76 - ETA: 7s - loss: 0.6176 - accuracy: 0.76 - ETA: 6s - loss: 0.6161 - accuracy: 0.76 - ETA: 6s - loss: 0.6160 - accuracy: 0.76 - ETA: 6s - loss: 0.6173 - accuracy: 0.76 - ETA: 6s - loss: 0.6173 - accuracy: 0.76 - ETA: 6s - loss: 0.6175 - accuracy: 0.76 - ETA: 5s - loss: 0.6165 - accuracy: 0.76 - ETA: 5s - loss: 0.6156 - accuracy: 0.76 - ETA: 5s - loss: 0.6180 - accuracy: 0.76 - ETA: 5s - loss: 0.6167 - accuracy: 0.76 - ETA: 5s - loss: 0.6173 - accuracy: 0.76 - ETA: 4s - loss: 0.6155 - accuracy: 0.76 - ETA: 4s - loss: 0.6138 - accuracy: 0.76 - ETA: 4s - loss: 0.6143 - accuracy: 0.76 - ETA: 4s - loss: 0.6144 - accuracy: 0.76 - ETA: 3s - loss: 0.6134 - accuracy: 0.76 - ETA: 3s - loss: 0.6132 - accuracy: 0.76 - ETA: 3s - loss: 0.6151 - accuracy: 0.76 - ETA: 3s - loss: 0.6134 - accuracy: 0.76 - ETA: 3s - loss: 0.6124 - accuracy: 0.76 - ETA: 2s - loss: 0.6123 - accuracy: 0.76 - ETA: 2s - loss: 0.6118 - accuracy: 0.76 - ETA: 2s - loss: 0.6129 - accuracy: 0.76 - ETA: 2s - loss: 0.6132 - accuracy: 0.76 - ETA: 1s - loss: 0.6145 - accuracy: 0.76 - ETA: 1s - loss: 0.6153 - accuracy: 0.76 - ETA: 1s - loss: 0.6145 - accuracy: 0.76 - ETA: 1s - loss: 0.6138 - accuracy: 0.77 - ETA: 1s - loss: 0.6133 - accuracy: 0.77 - ETA: 0s - loss: 0.6148 - accuracy: 0.76 - ETA: 0s - loss: 0.6140 - accuracy: 0.77 - ETA: 0s - loss: 0.6150 - accuracy: 0.76 - ETA: 0s - loss: 0.6154 - accuracy: 0.76 - ETA: 0s - loss: 0.6154 - accuracy: 0.76 - 38s 226ms/step - loss: 0.6154 - accuracy: 0.7692 - val_loss: 0.5424 - val_accuracy: 0.7954\n",
      "Epoch 4/18\n"
     ]
    },
    {
     "name": "stdout",
     "output_type": "stream",
     "text": [
      "167/167 [==============================] - ETA: 34s - loss: 0.6596 - accuracy: 0.812 - ETA: 33s - loss: 0.6645 - accuracy: 0.750 - ETA: 34s - loss: 0.6513 - accuracy: 0.750 - ETA: 34s - loss: 0.6066 - accuracy: 0.757 - ETA: 33s - loss: 0.6009 - accuracy: 0.750 - ETA: 33s - loss: 0.5875 - accuracy: 0.765 - ETA: 33s - loss: 0.5667 - accuracy: 0.776 - ETA: 33s - loss: 0.5585 - accuracy: 0.781 - ETA: 32s - loss: 0.5818 - accuracy: 0.770 - ETA: 32s - loss: 0.5852 - accuracy: 0.771 - ETA: 32s - loss: 0.5690 - accuracy: 0.778 - ETA: 32s - loss: 0.5678 - accuracy: 0.778 - ETA: 32s - loss: 0.5549 - accuracy: 0.781 - ETA: 31s - loss: 0.5622 - accuracy: 0.779 - ETA: 31s - loss: 0.5586 - accuracy: 0.781 - ETA: 31s - loss: 0.5398 - accuracy: 0.793 - ETA: 31s - loss: 0.5337 - accuracy: 0.794 - ETA: 30s - loss: 0.5268 - accuracy: 0.800 - ETA: 30s - loss: 0.5146 - accuracy: 0.805 - ETA: 30s - loss: 0.5022 - accuracy: 0.807 - ETA: 29s - loss: 0.5019 - accuracy: 0.808 - ETA: 29s - loss: 0.4983 - accuracy: 0.808 - ETA: 29s - loss: 0.5003 - accuracy: 0.808 - ETA: 29s - loss: 0.5045 - accuracy: 0.806 - ETA: 28s - loss: 0.5061 - accuracy: 0.806 - ETA: 28s - loss: 0.5069 - accuracy: 0.805 - ETA: 28s - loss: 0.5090 - accuracy: 0.805 - ETA: 28s - loss: 0.5059 - accuracy: 0.808 - ETA: 27s - loss: 0.4993 - accuracy: 0.810 - ETA: 27s - loss: 0.5001 - accuracy: 0.807 - ETA: 27s - loss: 0.4971 - accuracy: 0.806 - ETA: 27s - loss: 0.4897 - accuracy: 0.810 - ETA: 26s - loss: 0.4871 - accuracy: 0.812 - ETA: 26s - loss: 0.4834 - accuracy: 0.814 - ETA: 26s - loss: 0.4822 - accuracy: 0.815 - ETA: 26s - loss: 0.4834 - accuracy: 0.813 - ETA: 26s - loss: 0.4860 - accuracy: 0.811 - ETA: 26s - loss: 0.4858 - accuracy: 0.811 - ETA: 26s - loss: 0.4823 - accuracy: 0.812 - ETA: 26s - loss: 0.4850 - accuracy: 0.811 - ETA: 25s - loss: 0.4877 - accuracy: 0.811 - ETA: 25s - loss: 0.4899 - accuracy: 0.811 - ETA: 25s - loss: 0.4961 - accuracy: 0.809 - ETA: 25s - loss: 0.4955 - accuracy: 0.811 - ETA: 25s - loss: 0.4952 - accuracy: 0.811 - ETA: 25s - loss: 0.4940 - accuracy: 0.811 - ETA: 25s - loss: 0.4944 - accuracy: 0.810 - ETA: 25s - loss: 0.4941 - accuracy: 0.811 - ETA: 24s - loss: 0.4910 - accuracy: 0.813 - ETA: 24s - loss: 0.4892 - accuracy: 0.814 - ETA: 24s - loss: 0.4924 - accuracy: 0.812 - ETA: 24s - loss: 0.4898 - accuracy: 0.814 - ETA: 24s - loss: 0.4876 - accuracy: 0.814 - ETA: 24s - loss: 0.4834 - accuracy: 0.817 - ETA: 23s - loss: 0.4787 - accuracy: 0.819 - ETA: 23s - loss: 0.4798 - accuracy: 0.819 - ETA: 23s - loss: 0.4840 - accuracy: 0.816 - ETA: 23s - loss: 0.4831 - accuracy: 0.817 - ETA: 22s - loss: 0.4796 - accuracy: 0.818 - ETA: 22s - loss: 0.4817 - accuracy: 0.817 - ETA: 22s - loss: 0.4796 - accuracy: 0.819 - ETA: 22s - loss: 0.4793 - accuracy: 0.819 - ETA: 21s - loss: 0.4790 - accuracy: 0.819 - ETA: 21s - loss: 0.4783 - accuracy: 0.820 - ETA: 21s - loss: 0.4800 - accuracy: 0.820 - ETA: 21s - loss: 0.4829 - accuracy: 0.819 - ETA: 20s - loss: 0.4884 - accuracy: 0.817 - ETA: 20s - loss: 0.4852 - accuracy: 0.818 - ETA: 20s - loss: 0.4861 - accuracy: 0.817 - ETA: 20s - loss: 0.4846 - accuracy: 0.817 - ETA: 20s - loss: 0.4878 - accuracy: 0.814 - ETA: 19s - loss: 0.4913 - accuracy: 0.813 - ETA: 19s - loss: 0.4934 - accuracy: 0.812 - ETA: 19s - loss: 0.4931 - accuracy: 0.812 - ETA: 19s - loss: 0.4968 - accuracy: 0.810 - ETA: 18s - loss: 0.4960 - accuracy: 0.810 - ETA: 18s - loss: 0.4967 - accuracy: 0.811 - ETA: 18s - loss: 0.5006 - accuracy: 0.810 - ETA: 18s - loss: 0.4992 - accuracy: 0.810 - ETA: 18s - loss: 0.4994 - accuracy: 0.810 - ETA: 17s - loss: 0.5004 - accuracy: 0.810 - ETA: 17s - loss: 0.4983 - accuracy: 0.811 - ETA: 17s - loss: 0.4993 - accuracy: 0.810 - ETA: 17s - loss: 0.5001 - accuracy: 0.810 - ETA: 17s - loss: 0.4989 - accuracy: 0.810 - ETA: 16s - loss: 0.4993 - accuracy: 0.810 - ETA: 16s - loss: 0.4978 - accuracy: 0.810 - ETA: 16s - loss: 0.4971 - accuracy: 0.810 - ETA: 16s - loss: 0.4992 - accuracy: 0.809 - ETA: 16s - loss: 0.4994 - accuracy: 0.809 - ETA: 15s - loss: 0.4987 - accuracy: 0.808 - ETA: 15s - loss: 0.4977 - accuracy: 0.808 - ETA: 15s - loss: 0.4969 - accuracy: 0.810 - ETA: 15s - loss: 0.4976 - accuracy: 0.810 - ETA: 15s - loss: 0.5021 - accuracy: 0.808 - ETA: 14s - loss: 0.5018 - accuracy: 0.807 - ETA: 14s - loss: 0.5017 - accuracy: 0.808 - ETA: 14s - loss: 0.5001 - accuracy: 0.808 - ETA: 14s - loss: 0.4992 - accuracy: 0.809 - ETA: 13s - loss: 0.5016 - accuracy: 0.809 - ETA: 13s - loss: 0.4993 - accuracy: 0.810 - ETA: 13s - loss: 0.4980 - accuracy: 0.810 - ETA: 13s - loss: 0.5000 - accuracy: 0.810 - ETA: 13s - loss: 0.5008 - accuracy: 0.809 - ETA: 12s - loss: 0.4988 - accuracy: 0.810 - ETA: 12s - loss: 0.5021 - accuracy: 0.808 - ETA: 12s - loss: 0.5045 - accuracy: 0.807 - ETA: 12s - loss: 0.5033 - accuracy: 0.807 - ETA: 12s - loss: 0.5028 - accuracy: 0.808 - ETA: 11s - loss: 0.5030 - accuracy: 0.808 - ETA: 11s - loss: 0.5044 - accuracy: 0.807 - ETA: 11s - loss: 0.5035 - accuracy: 0.807 - ETA: 11s - loss: 0.5039 - accuracy: 0.806 - ETA: 10s - loss: 0.5047 - accuracy: 0.806 - ETA: 10s - loss: 0.5052 - accuracy: 0.806 - ETA: 10s - loss: 0.5047 - accuracy: 0.806 - ETA: 10s - loss: 0.5050 - accuracy: 0.806 - ETA: 10s - loss: 0.5058 - accuracy: 0.806 - ETA: 10s - loss: 0.5054 - accuracy: 0.806 - ETA: 9s - loss: 0.5064 - accuracy: 0.806 - ETA: 9s - loss: 0.5071 - accuracy: 0.80 - ETA: 9s - loss: 0.5092 - accuracy: 0.80 - ETA: 9s - loss: 0.5078 - accuracy: 0.80 - ETA: 9s - loss: 0.5081 - accuracy: 0.80 - ETA: 8s - loss: 0.5075 - accuracy: 0.80 - ETA: 8s - loss: 0.5066 - accuracy: 0.80 - ETA: 8s - loss: 0.5057 - accuracy: 0.80 - ETA: 8s - loss: 0.5073 - accuracy: 0.80 - ETA: 8s - loss: 0.5070 - accuracy: 0.80 - ETA: 7s - loss: 0.5069 - accuracy: 0.80 - ETA: 7s - loss: 0.5052 - accuracy: 0.80 - ETA: 7s - loss: 0.5057 - accuracy: 0.80 - ETA: 7s - loss: 0.5049 - accuracy: 0.80 - ETA: 7s - loss: 0.5053 - accuracy: 0.80 - ETA: 6s - loss: 0.5053 - accuracy: 0.80 - ETA: 6s - loss: 0.5064 - accuracy: 0.80 - ETA: 6s - loss: 0.5065 - accuracy: 0.80 - ETA: 6s - loss: 0.5059 - accuracy: 0.80 - ETA: 6s - loss: 0.5057 - accuracy: 0.80 - ETA: 5s - loss: 0.5064 - accuracy: 0.80 - ETA: 5s - loss: 0.5062 - accuracy: 0.80 - ETA: 5s - loss: 0.5060 - accuracy: 0.80 - ETA: 5s - loss: 0.5068 - accuracy: 0.80 - ETA: 4s - loss: 0.5074 - accuracy: 0.80 - ETA: 4s - loss: 0.5065 - accuracy: 0.80 - ETA: 4s - loss: 0.5087 - accuracy: 0.80 - ETA: 4s - loss: 0.5092 - accuracy: 0.80 - ETA: 4s - loss: 0.5114 - accuracy: 0.80 - ETA: 3s - loss: 0.5119 - accuracy: 0.80 - ETA: 3s - loss: 0.5103 - accuracy: 0.80 - ETA: 3s - loss: 0.5099 - accuracy: 0.80 - ETA: 3s - loss: 0.5097 - accuracy: 0.80 - ETA: 3s - loss: 0.5092 - accuracy: 0.80 - ETA: 2s - loss: 0.5083 - accuracy: 0.80 - ETA: 2s - loss: 0.5082 - accuracy: 0.80 - ETA: 2s - loss: 0.5076 - accuracy: 0.80 - ETA: 2s - loss: 0.5070 - accuracy: 0.80 - ETA: 1s - loss: 0.5071 - accuracy: 0.81 - ETA: 1s - loss: 0.5066 - accuracy: 0.81 - ETA: 1s - loss: 0.5057 - accuracy: 0.81 - ETA: 1s - loss: 0.5049 - accuracy: 0.81 - ETA: 1s - loss: 0.5052 - accuracy: 0.81 - ETA: 0s - loss: 0.5052 - accuracy: 0.81 - ETA: 0s - loss: 0.5055 - accuracy: 0.81 - ETA: 0s - loss: 0.5053 - accuracy: 0.81 - ETA: 0s - loss: 0.5057 - accuracy: 0.81 - ETA: 0s - loss: 0.5056 - accuracy: 0.81 - 38s 225ms/step - loss: 0.5056 - accuracy: 0.8107 - val_loss: 0.4937 - val_accuracy: 0.8208\n",
      "Epoch 5/18\n"
     ]
    },
    {
     "name": "stdout",
     "output_type": "stream",
     "text": [
      "167/167 [==============================] - ETA: 33s - loss: 0.3342 - accuracy: 0.906 - ETA: 32s - loss: 0.4628 - accuracy: 0.843 - ETA: 32s - loss: 0.3916 - accuracy: 0.875 - ETA: 33s - loss: 0.3931 - accuracy: 0.867 - ETA: 33s - loss: 0.4277 - accuracy: 0.843 - ETA: 33s - loss: 0.4310 - accuracy: 0.849 - ETA: 33s - loss: 0.4436 - accuracy: 0.834 - ETA: 33s - loss: 0.4652 - accuracy: 0.828 - ETA: 33s - loss: 0.4633 - accuracy: 0.822 - ETA: 32s - loss: 0.4438 - accuracy: 0.834 - ETA: 32s - loss: 0.4723 - accuracy: 0.823 - ETA: 32s - loss: 0.4646 - accuracy: 0.822 - ETA: 32s - loss: 0.4661 - accuracy: 0.822 - ETA: 32s - loss: 0.4556 - accuracy: 0.823 - ETA: 32s - loss: 0.4357 - accuracy: 0.831 - ETA: 32s - loss: 0.4319 - accuracy: 0.834 - ETA: 31s - loss: 0.4279 - accuracy: 0.836 - ETA: 31s - loss: 0.4240 - accuracy: 0.840 - ETA: 31s - loss: 0.4151 - accuracy: 0.843 - ETA: 31s - loss: 0.4107 - accuracy: 0.846 - ETA: 30s - loss: 0.4069 - accuracy: 0.848 - ETA: 30s - loss: 0.4110 - accuracy: 0.848 - ETA: 30s - loss: 0.4181 - accuracy: 0.843 - ETA: 29s - loss: 0.4136 - accuracy: 0.843 - ETA: 29s - loss: 0.4042 - accuracy: 0.847 - ETA: 29s - loss: 0.4063 - accuracy: 0.846 - ETA: 29s - loss: 0.4066 - accuracy: 0.844 - ETA: 29s - loss: 0.4052 - accuracy: 0.847 - ETA: 29s - loss: 0.4079 - accuracy: 0.847 - ETA: 28s - loss: 0.4022 - accuracy: 0.849 - ETA: 28s - loss: 0.4079 - accuracy: 0.845 - ETA: 28s - loss: 0.4010 - accuracy: 0.849 - ETA: 28s - loss: 0.4080 - accuracy: 0.847 - ETA: 28s - loss: 0.4055 - accuracy: 0.847 - ETA: 28s - loss: 0.4109 - accuracy: 0.843 - ETA: 28s - loss: 0.4081 - accuracy: 0.842 - ETA: 28s - loss: 0.4115 - accuracy: 0.839 - ETA: 28s - loss: 0.4093 - accuracy: 0.840 - ETA: 28s - loss: 0.4082 - accuracy: 0.840 - ETA: 27s - loss: 0.4068 - accuracy: 0.843 - ETA: 27s - loss: 0.4038 - accuracy: 0.843 - ETA: 27s - loss: 0.4011 - accuracy: 0.843 - ETA: 27s - loss: 0.4009 - accuracy: 0.843 - ETA: 27s - loss: 0.4020 - accuracy: 0.843 - ETA: 26s - loss: 0.4025 - accuracy: 0.844 - ETA: 26s - loss: 0.4066 - accuracy: 0.842 - ETA: 26s - loss: 0.4083 - accuracy: 0.842 - ETA: 26s - loss: 0.4081 - accuracy: 0.842 - ETA: 26s - loss: 0.4074 - accuracy: 0.843 - ETA: 26s - loss: 0.4061 - accuracy: 0.844 - ETA: 25s - loss: 0.4080 - accuracy: 0.844 - ETA: 25s - loss: 0.4055 - accuracy: 0.845 - ETA: 25s - loss: 0.4095 - accuracy: 0.843 - ETA: 25s - loss: 0.4144 - accuracy: 0.843 - ETA: 24s - loss: 0.4177 - accuracy: 0.842 - ETA: 24s - loss: 0.4168 - accuracy: 0.842 - ETA: 24s - loss: 0.4168 - accuracy: 0.841 - ETA: 24s - loss: 0.4174 - accuracy: 0.841 - ETA: 23s - loss: 0.4169 - accuracy: 0.842 - ETA: 23s - loss: 0.4185 - accuracy: 0.841 - ETA: 23s - loss: 0.4190 - accuracy: 0.841 - ETA: 23s - loss: 0.4222 - accuracy: 0.840 - ETA: 22s - loss: 0.4208 - accuracy: 0.840 - ETA: 22s - loss: 0.4276 - accuracy: 0.837 - ETA: 22s - loss: 0.4313 - accuracy: 0.836 - ETA: 22s - loss: 0.4290 - accuracy: 0.837 - ETA: 21s - loss: 0.4252 - accuracy: 0.839 - ETA: 21s - loss: 0.4252 - accuracy: 0.839 - ETA: 21s - loss: 0.4252 - accuracy: 0.838 - ETA: 21s - loss: 0.4209 - accuracy: 0.841 - ETA: 21s - loss: 0.4186 - accuracy: 0.842 - ETA: 20s - loss: 0.4185 - accuracy: 0.842 - ETA: 20s - loss: 0.4180 - accuracy: 0.842 - ETA: 20s - loss: 0.4177 - accuracy: 0.843 - ETA: 20s - loss: 0.4183 - accuracy: 0.843 - ETA: 19s - loss: 0.4190 - accuracy: 0.842 - ETA: 19s - loss: 0.4172 - accuracy: 0.844 - ETA: 19s - loss: 0.4218 - accuracy: 0.842 - ETA: 19s - loss: 0.4196 - accuracy: 0.843 - ETA: 18s - loss: 0.4221 - accuracy: 0.843 - ETA: 18s - loss: 0.4238 - accuracy: 0.842 - ETA: 18s - loss: 0.4223 - accuracy: 0.842 - ETA: 18s - loss: 0.4210 - accuracy: 0.842 - ETA: 18s - loss: 0.4199 - accuracy: 0.842 - ETA: 17s - loss: 0.4189 - accuracy: 0.841 - ETA: 17s - loss: 0.4210 - accuracy: 0.840 - ETA: 17s - loss: 0.4193 - accuracy: 0.842 - ETA: 17s - loss: 0.4195 - accuracy: 0.842 - ETA: 16s - loss: 0.4174 - accuracy: 0.843 - ETA: 16s - loss: 0.4162 - accuracy: 0.844 - ETA: 16s - loss: 0.4168 - accuracy: 0.843 - ETA: 16s - loss: 0.4162 - accuracy: 0.844 - ETA: 15s - loss: 0.4146 - accuracy: 0.844 - ETA: 15s - loss: 0.4167 - accuracy: 0.843 - ETA: 15s - loss: 0.4168 - accuracy: 0.843 - ETA: 15s - loss: 0.4184 - accuracy: 0.842 - ETA: 15s - loss: 0.4195 - accuracy: 0.842 - ETA: 14s - loss: 0.4189 - accuracy: 0.842 - ETA: 14s - loss: 0.4187 - accuracy: 0.842 - ETA: 14s - loss: 0.4187 - accuracy: 0.842 - ETA: 14s - loss: 0.4181 - accuracy: 0.841 - ETA: 14s - loss: 0.4186 - accuracy: 0.841 - ETA: 13s - loss: 0.4214 - accuracy: 0.841 - ETA: 13s - loss: 0.4227 - accuracy: 0.841 - ETA: 13s - loss: 0.4230 - accuracy: 0.840 - ETA: 13s - loss: 0.4210 - accuracy: 0.842 - ETA: 12s - loss: 0.4205 - accuracy: 0.842 - ETA: 12s - loss: 0.4214 - accuracy: 0.842 - ETA: 12s - loss: 0.4202 - accuracy: 0.842 - ETA: 12s - loss: 0.4204 - accuracy: 0.842 - ETA: 12s - loss: 0.4184 - accuracy: 0.842 - ETA: 11s - loss: 0.4209 - accuracy: 0.842 - ETA: 11s - loss: 0.4224 - accuracy: 0.841 - ETA: 11s - loss: 0.4222 - accuracy: 0.840 - ETA: 11s - loss: 0.4240 - accuracy: 0.839 - ETA: 10s - loss: 0.4229 - accuracy: 0.840 - ETA: 10s - loss: 0.4222 - accuracy: 0.840 - ETA: 10s - loss: 0.4234 - accuracy: 0.840 - ETA: 10s - loss: 0.4223 - accuracy: 0.840 - ETA: 10s - loss: 0.4245 - accuracy: 0.839 - ETA: 9s - loss: 0.4243 - accuracy: 0.839 - ETA: 9s - loss: 0.4238 - accuracy: 0.83 - ETA: 9s - loss: 0.4251 - accuracy: 0.83 - ETA: 9s - loss: 0.4248 - accuracy: 0.83 - ETA: 9s - loss: 0.4261 - accuracy: 0.83 - ETA: 8s - loss: 0.4263 - accuracy: 0.83 - ETA: 8s - loss: 0.4251 - accuracy: 0.83 - ETA: 8s - loss: 0.4239 - accuracy: 0.83 - ETA: 8s - loss: 0.4233 - accuracy: 0.83 - ETA: 7s - loss: 0.4238 - accuracy: 0.83 - ETA: 7s - loss: 0.4223 - accuracy: 0.83 - ETA: 7s - loss: 0.4223 - accuracy: 0.83 - ETA: 7s - loss: 0.4224 - accuracy: 0.84 - ETA: 7s - loss: 0.4210 - accuracy: 0.84 - ETA: 6s - loss: 0.4204 - accuracy: 0.84 - ETA: 6s - loss: 0.4198 - accuracy: 0.84 - ETA: 6s - loss: 0.4198 - accuracy: 0.84 - ETA: 6s - loss: 0.4208 - accuracy: 0.84 - ETA: 6s - loss: 0.4201 - accuracy: 0.84 - ETA: 5s - loss: 0.4202 - accuracy: 0.84 - ETA: 5s - loss: 0.4207 - accuracy: 0.84 - ETA: 5s - loss: 0.4205 - accuracy: 0.84 - ETA: 5s - loss: 0.4189 - accuracy: 0.84 - ETA: 4s - loss: 0.4191 - accuracy: 0.84 - ETA: 4s - loss: 0.4183 - accuracy: 0.84 - ETA: 4s - loss: 0.4189 - accuracy: 0.84 - ETA: 4s - loss: 0.4179 - accuracy: 0.84 - ETA: 4s - loss: 0.4169 - accuracy: 0.84 - ETA: 3s - loss: 0.4160 - accuracy: 0.84 - ETA: 3s - loss: 0.4152 - accuracy: 0.84 - ETA: 3s - loss: 0.4162 - accuracy: 0.84 - ETA: 3s - loss: 0.4174 - accuracy: 0.84 - ETA: 3s - loss: 0.4173 - accuracy: 0.84 - ETA: 2s - loss: 0.4164 - accuracy: 0.84 - ETA: 2s - loss: 0.4154 - accuracy: 0.84 - ETA: 2s - loss: 0.4142 - accuracy: 0.84 - ETA: 2s - loss: 0.4140 - accuracy: 0.84 - ETA: 1s - loss: 0.4153 - accuracy: 0.84 - ETA: 1s - loss: 0.4156 - accuracy: 0.84 - ETA: 1s - loss: 0.4154 - accuracy: 0.84 - ETA: 1s - loss: 0.4170 - accuracy: 0.84 - ETA: 1s - loss: 0.4190 - accuracy: 0.84 - ETA: 0s - loss: 0.4181 - accuracy: 0.84 - ETA: 0s - loss: 0.4170 - accuracy: 0.84 - ETA: 0s - loss: 0.4168 - accuracy: 0.84 - ETA: 0s - loss: 0.4158 - accuracy: 0.84 - ETA: 0s - loss: 0.4157 - accuracy: 0.84 - 38s 225ms/step - loss: 0.4157 - accuracy: 0.8430 - val_loss: 0.4857 - val_accuracy: 0.8150\n",
      "Epoch 6/18\n"
     ]
    },
    {
     "name": "stdout",
     "output_type": "stream",
     "text": [
      "167/167 [==============================] - ETA: 33s - loss: 0.5418 - accuracy: 0.812 - ETA: 36s - loss: 0.4415 - accuracy: 0.859 - ETA: 38s - loss: 0.4574 - accuracy: 0.822 - ETA: 38s - loss: 0.4447 - accuracy: 0.828 - ETA: 38s - loss: 0.4191 - accuracy: 0.837 - ETA: 38s - loss: 0.4416 - accuracy: 0.843 - ETA: 38s - loss: 0.4066 - accuracy: 0.861 - ETA: 37s - loss: 0.4096 - accuracy: 0.859 - ETA: 37s - loss: 0.3924 - accuracy: 0.864 - ETA: 37s - loss: 0.3877 - accuracy: 0.865 - ETA: 36s - loss: 0.3756 - accuracy: 0.872 - ETA: 35s - loss: 0.3785 - accuracy: 0.867 - ETA: 35s - loss: 0.3704 - accuracy: 0.870 - ETA: 35s - loss: 0.3661 - accuracy: 0.868 - ETA: 34s - loss: 0.3663 - accuracy: 0.868 - ETA: 34s - loss: 0.3698 - accuracy: 0.863 - ETA: 33s - loss: 0.3840 - accuracy: 0.856 - ETA: 33s - loss: 0.3831 - accuracy: 0.855 - ETA: 33s - loss: 0.3910 - accuracy: 0.855 - ETA: 33s - loss: 0.3935 - accuracy: 0.853 - ETA: 33s - loss: 0.4025 - accuracy: 0.851 - ETA: 33s - loss: 0.3976 - accuracy: 0.856 - ETA: 32s - loss: 0.4008 - accuracy: 0.856 - ETA: 32s - loss: 0.4017 - accuracy: 0.855 - ETA: 32s - loss: 0.4055 - accuracy: 0.851 - ETA: 32s - loss: 0.4103 - accuracy: 0.849 - ETA: 31s - loss: 0.4004 - accuracy: 0.853 - ETA: 31s - loss: 0.3957 - accuracy: 0.854 - ETA: 31s - loss: 0.3989 - accuracy: 0.853 - ETA: 31s - loss: 0.3953 - accuracy: 0.854 - ETA: 30s - loss: 0.3953 - accuracy: 0.852 - ETA: 30s - loss: 0.3926 - accuracy: 0.851 - ETA: 30s - loss: 0.3874 - accuracy: 0.852 - ETA: 30s - loss: 0.3852 - accuracy: 0.852 - ETA: 29s - loss: 0.3909 - accuracy: 0.850 - ETA: 29s - loss: 0.3905 - accuracy: 0.850 - ETA: 29s - loss: 0.3893 - accuracy: 0.851 - ETA: 28s - loss: 0.3885 - accuracy: 0.852 - ETA: 28s - loss: 0.3895 - accuracy: 0.851 - ETA: 28s - loss: 0.3884 - accuracy: 0.852 - ETA: 28s - loss: 0.3860 - accuracy: 0.853 - ETA: 27s - loss: 0.3828 - accuracy: 0.854 - ETA: 27s - loss: 0.3802 - accuracy: 0.855 - ETA: 27s - loss: 0.3819 - accuracy: 0.855 - ETA: 27s - loss: 0.3855 - accuracy: 0.854 - ETA: 26s - loss: 0.3850 - accuracy: 0.855 - ETA: 26s - loss: 0.3828 - accuracy: 0.856 - ETA: 26s - loss: 0.3828 - accuracy: 0.857 - ETA: 25s - loss: 0.3808 - accuracy: 0.859 - ETA: 25s - loss: 0.3838 - accuracy: 0.856 - ETA: 25s - loss: 0.3803 - accuracy: 0.857 - ETA: 25s - loss: 0.3833 - accuracy: 0.856 - ETA: 24s - loss: 0.3799 - accuracy: 0.857 - ETA: 24s - loss: 0.3804 - accuracy: 0.858 - ETA: 24s - loss: 0.3852 - accuracy: 0.856 - ETA: 24s - loss: 0.3859 - accuracy: 0.857 - ETA: 23s - loss: 0.3838 - accuracy: 0.858 - ETA: 23s - loss: 0.3846 - accuracy: 0.857 - ETA: 23s - loss: 0.3832 - accuracy: 0.858 - ETA: 23s - loss: 0.3813 - accuracy: 0.859 - ETA: 22s - loss: 0.3776 - accuracy: 0.861 - ETA: 22s - loss: 0.3763 - accuracy: 0.861 - ETA: 22s - loss: 0.3774 - accuracy: 0.861 - ETA: 22s - loss: 0.3786 - accuracy: 0.860 - ETA: 22s - loss: 0.3795 - accuracy: 0.859 - ETA: 21s - loss: 0.3767 - accuracy: 0.860 - ETA: 21s - loss: 0.3738 - accuracy: 0.861 - ETA: 21s - loss: 0.3708 - accuracy: 0.862 - ETA: 21s - loss: 0.3713 - accuracy: 0.862 - ETA: 20s - loss: 0.3697 - accuracy: 0.862 - ETA: 20s - loss: 0.3693 - accuracy: 0.862 - ETA: 20s - loss: 0.3674 - accuracy: 0.864 - ETA: 20s - loss: 0.3670 - accuracy: 0.864 - ETA: 20s - loss: 0.3655 - accuracy: 0.864 - ETA: 19s - loss: 0.3624 - accuracy: 0.865 - ETA: 19s - loss: 0.3620 - accuracy: 0.866 - ETA: 19s - loss: 0.3615 - accuracy: 0.866 - ETA: 19s - loss: 0.3637 - accuracy: 0.865 - ETA: 18s - loss: 0.3615 - accuracy: 0.866 - ETA: 18s - loss: 0.3597 - accuracy: 0.867 - ETA: 18s - loss: 0.3600 - accuracy: 0.866 - ETA: 18s - loss: 0.3630 - accuracy: 0.864 - ETA: 18s - loss: 0.3622 - accuracy: 0.864 - ETA: 17s - loss: 0.3618 - accuracy: 0.864 - ETA: 17s - loss: 0.3635 - accuracy: 0.864 - ETA: 17s - loss: 0.3661 - accuracy: 0.863 - ETA: 17s - loss: 0.3641 - accuracy: 0.863 - ETA: 16s - loss: 0.3633 - accuracy: 0.863 - ETA: 16s - loss: 0.3639 - accuracy: 0.863 - ETA: 16s - loss: 0.3620 - accuracy: 0.864 - ETA: 16s - loss: 0.3611 - accuracy: 0.864 - ETA: 16s - loss: 0.3606 - accuracy: 0.864 - ETA: 15s - loss: 0.3605 - accuracy: 0.864 - ETA: 15s - loss: 0.3624 - accuracy: 0.864 - ETA: 15s - loss: 0.3645 - accuracy: 0.863 - ETA: 15s - loss: 0.3638 - accuracy: 0.863 - ETA: 15s - loss: 0.3633 - accuracy: 0.863 - ETA: 14s - loss: 0.3622 - accuracy: 0.863 - ETA: 14s - loss: 0.3612 - accuracy: 0.864 - ETA: 14s - loss: 0.3619 - accuracy: 0.864 - ETA: 14s - loss: 0.3616 - accuracy: 0.864 - ETA: 13s - loss: 0.3604 - accuracy: 0.864 - ETA: 13s - loss: 0.3589 - accuracy: 0.865 - ETA: 13s - loss: 0.3573 - accuracy: 0.866 - ETA: 13s - loss: 0.3606 - accuracy: 0.865 - ETA: 13s - loss: 0.3619 - accuracy: 0.864 - ETA: 12s - loss: 0.3620 - accuracy: 0.864 - ETA: 12s - loss: 0.3621 - accuracy: 0.863 - ETA: 12s - loss: 0.3608 - accuracy: 0.864 - ETA: 12s - loss: 0.3589 - accuracy: 0.864 - ETA: 12s - loss: 0.3579 - accuracy: 0.865 - ETA: 11s - loss: 0.3585 - accuracy: 0.864 - ETA: 11s - loss: 0.3592 - accuracy: 0.863 - ETA: 11s - loss: 0.3599 - accuracy: 0.863 - ETA: 11s - loss: 0.3592 - accuracy: 0.863 - ETA: 11s - loss: 0.3585 - accuracy: 0.864 - ETA: 10s - loss: 0.3586 - accuracy: 0.864 - ETA: 10s - loss: 0.3570 - accuracy: 0.865 - ETA: 10s - loss: 0.3578 - accuracy: 0.865 - ETA: 10s - loss: 0.3592 - accuracy: 0.865 - ETA: 10s - loss: 0.3594 - accuracy: 0.865 - ETA: 9s - loss: 0.3589 - accuracy: 0.865 - ETA: 9s - loss: 0.3590 - accuracy: 0.86 - ETA: 9s - loss: 0.3594 - accuracy: 0.86 - ETA: 9s - loss: 0.3605 - accuracy: 0.86 - ETA: 9s - loss: 0.3599 - accuracy: 0.86 - ETA: 8s - loss: 0.3590 - accuracy: 0.86 - ETA: 8s - loss: 0.3601 - accuracy: 0.86 - ETA: 8s - loss: 0.3600 - accuracy: 0.86 - ETA: 8s - loss: 0.3584 - accuracy: 0.86 - ETA: 7s - loss: 0.3582 - accuracy: 0.86 - ETA: 7s - loss: 0.3580 - accuracy: 0.86 - ETA: 7s - loss: 0.3573 - accuracy: 0.86 - ETA: 7s - loss: 0.3564 - accuracy: 0.86 - ETA: 7s - loss: 0.3561 - accuracy: 0.86 - ETA: 6s - loss: 0.3571 - accuracy: 0.86 - ETA: 6s - loss: 0.3574 - accuracy: 0.86 - ETA: 6s - loss: 0.3577 - accuracy: 0.86 - ETA: 6s - loss: 0.3588 - accuracy: 0.86 - ETA: 5s - loss: 0.3574 - accuracy: 0.86 - ETA: 5s - loss: 0.3574 - accuracy: 0.86 - ETA: 5s - loss: 0.3562 - accuracy: 0.86 - ETA: 5s - loss: 0.3558 - accuracy: 0.86 - ETA: 5s - loss: 0.3550 - accuracy: 0.86 - ETA: 4s - loss: 0.3559 - accuracy: 0.86 - ETA: 4s - loss: 0.3552 - accuracy: 0.86 - ETA: 4s - loss: 0.3557 - accuracy: 0.86 - ETA: 4s - loss: 0.3563 - accuracy: 0.86 - ETA: 4s - loss: 0.3561 - accuracy: 0.86 - ETA: 3s - loss: 0.3572 - accuracy: 0.86 - ETA: 3s - loss: 0.3566 - accuracy: 0.86 - ETA: 3s - loss: 0.3557 - accuracy: 0.86 - ETA: 3s - loss: 0.3546 - accuracy: 0.86 - ETA: 2s - loss: 0.3548 - accuracy: 0.86 - ETA: 2s - loss: 0.3552 - accuracy: 0.86 - ETA: 2s - loss: 0.3545 - accuracy: 0.86 - ETA: 2s - loss: 0.3556 - accuracy: 0.86 - ETA: 2s - loss: 0.3555 - accuracy: 0.86 - ETA: 1s - loss: 0.3553 - accuracy: 0.86 - ETA: 1s - loss: 0.3557 - accuracy: 0.86 - ETA: 1s - loss: 0.3556 - accuracy: 0.86 - ETA: 1s - loss: 0.3568 - accuracy: 0.86 - ETA: 0s - loss: 0.3572 - accuracy: 0.86 - ETA: 0s - loss: 0.3569 - accuracy: 0.86 - ETA: 0s - loss: 0.3565 - accuracy: 0.86 - ETA: 0s - loss: 0.3567 - accuracy: 0.86 - ETA: 0s - loss: 0.3566 - accuracy: 0.86 - 39s 234ms/step - loss: 0.3566 - accuracy: 0.8662 - val_loss: 0.4820 - val_accuracy: 0.8220\n",
      "Epoch 7/18\n"
     ]
    },
    {
     "name": "stdout",
     "output_type": "stream",
     "text": [
      "167/167 [==============================] - ETA: 33s - loss: 0.3011 - accuracy: 0.906 - ETA: 33s - loss: 0.2293 - accuracy: 0.937 - ETA: 33s - loss: 0.2913 - accuracy: 0.916 - ETA: 35s - loss: 0.2892 - accuracy: 0.906 - ETA: 36s - loss: 0.2691 - accuracy: 0.912 - ETA: 36s - loss: 0.2482 - accuracy: 0.927 - ETA: 36s - loss: 0.2574 - accuracy: 0.928 - ETA: 35s - loss: 0.2475 - accuracy: 0.929 - ETA: 35s - loss: 0.2505 - accuracy: 0.923 - ETA: 34s - loss: 0.2548 - accuracy: 0.921 - ETA: 34s - loss: 0.2702 - accuracy: 0.911 - ETA: 34s - loss: 0.2760 - accuracy: 0.914 - ETA: 33s - loss: 0.2798 - accuracy: 0.908 - ETA: 33s - loss: 0.2691 - accuracy: 0.912 - ETA: 33s - loss: 0.2681 - accuracy: 0.914 - ETA: 32s - loss: 0.2702 - accuracy: 0.912 - ETA: 32s - loss: 0.2686 - accuracy: 0.911 - ETA: 32s - loss: 0.2720 - accuracy: 0.909 - ETA: 31s - loss: 0.2640 - accuracy: 0.912 - ETA: 31s - loss: 0.2757 - accuracy: 0.906 - ETA: 31s - loss: 0.2746 - accuracy: 0.904 - ETA: 31s - loss: 0.2789 - accuracy: 0.900 - ETA: 30s - loss: 0.2742 - accuracy: 0.903 - ETA: 30s - loss: 0.2741 - accuracy: 0.902 - ETA: 30s - loss: 0.2746 - accuracy: 0.901 - ETA: 30s - loss: 0.2721 - accuracy: 0.903 - ETA: 29s - loss: 0.2688 - accuracy: 0.905 - ETA: 29s - loss: 0.2670 - accuracy: 0.906 - ETA: 29s - loss: 0.2665 - accuracy: 0.907 - ETA: 29s - loss: 0.2647 - accuracy: 0.907 - ETA: 28s - loss: 0.2598 - accuracy: 0.909 - ETA: 28s - loss: 0.2574 - accuracy: 0.910 - ETA: 28s - loss: 0.2586 - accuracy: 0.911 - ETA: 28s - loss: 0.2580 - accuracy: 0.910 - ETA: 27s - loss: 0.2662 - accuracy: 0.907 - ETA: 27s - loss: 0.2630 - accuracy: 0.908 - ETA: 27s - loss: 0.2651 - accuracy: 0.907 - ETA: 27s - loss: 0.2686 - accuracy: 0.906 - ETA: 26s - loss: 0.2666 - accuracy: 0.907 - ETA: 26s - loss: 0.2709 - accuracy: 0.906 - ETA: 26s - loss: 0.2717 - accuracy: 0.906 - ETA: 26s - loss: 0.2767 - accuracy: 0.902 - ETA: 25s - loss: 0.2752 - accuracy: 0.902 - ETA: 25s - loss: 0.2756 - accuracy: 0.902 - ETA: 25s - loss: 0.2745 - accuracy: 0.901 - ETA: 25s - loss: 0.2756 - accuracy: 0.902 - ETA: 24s - loss: 0.2772 - accuracy: 0.900 - ETA: 24s - loss: 0.2728 - accuracy: 0.902 - ETA: 24s - loss: 0.2715 - accuracy: 0.902 - ETA: 24s - loss: 0.2680 - accuracy: 0.903 - ETA: 24s - loss: 0.2747 - accuracy: 0.902 - ETA: 23s - loss: 0.2714 - accuracy: 0.903 - ETA: 23s - loss: 0.2737 - accuracy: 0.902 - ETA: 23s - loss: 0.2741 - accuracy: 0.901 - ETA: 23s - loss: 0.2744 - accuracy: 0.900 - ETA: 22s - loss: 0.2783 - accuracy: 0.899 - ETA: 22s - loss: 0.2801 - accuracy: 0.898 - ETA: 22s - loss: 0.2796 - accuracy: 0.898 - ETA: 22s - loss: 0.2812 - accuracy: 0.896 - ETA: 22s - loss: 0.2815 - accuracy: 0.896 - ETA: 21s - loss: 0.2798 - accuracy: 0.897 - ETA: 21s - loss: 0.2783 - accuracy: 0.897 - ETA: 21s - loss: 0.2790 - accuracy: 0.897 - ETA: 21s - loss: 0.2797 - accuracy: 0.897 - ETA: 21s - loss: 0.2798 - accuracy: 0.897 - ETA: 20s - loss: 0.2780 - accuracy: 0.898 - ETA: 20s - loss: 0.2774 - accuracy: 0.898 - ETA: 20s - loss: 0.2788 - accuracy: 0.897 - ETA: 20s - loss: 0.2791 - accuracy: 0.896 - ETA: 19s - loss: 0.2802 - accuracy: 0.896 - ETA: 19s - loss: 0.2822 - accuracy: 0.894 - ETA: 19s - loss: 0.2837 - accuracy: 0.894 - ETA: 19s - loss: 0.2862 - accuracy: 0.893 - ETA: 19s - loss: 0.2875 - accuracy: 0.893 - ETA: 18s - loss: 0.2868 - accuracy: 0.894 - ETA: 18s - loss: 0.2860 - accuracy: 0.894 - ETA: 18s - loss: 0.2881 - accuracy: 0.892 - ETA: 18s - loss: 0.2874 - accuracy: 0.892 - ETA: 18s - loss: 0.2866 - accuracy: 0.892 - ETA: 17s - loss: 0.2881 - accuracy: 0.891 - ETA: 17s - loss: 0.2887 - accuracy: 0.891 - ETA: 17s - loss: 0.2929 - accuracy: 0.889 - ETA: 17s - loss: 0.2940 - accuracy: 0.889 - ETA: 17s - loss: 0.2975 - accuracy: 0.887 - ETA: 16s - loss: 0.2977 - accuracy: 0.887 - ETA: 16s - loss: 0.2983 - accuracy: 0.887 - ETA: 16s - loss: 0.2959 - accuracy: 0.889 - ETA: 16s - loss: 0.2947 - accuracy: 0.888 - ETA: 16s - loss: 0.2949 - accuracy: 0.888 - ETA: 15s - loss: 0.2954 - accuracy: 0.888 - ETA: 15s - loss: 0.2948 - accuracy: 0.889 - ETA: 15s - loss: 0.2944 - accuracy: 0.889 - ETA: 15s - loss: 0.2934 - accuracy: 0.889 - ETA: 15s - loss: 0.2969 - accuracy: 0.888 - ETA: 14s - loss: 0.2978 - accuracy: 0.886 - ETA: 14s - loss: 0.2987 - accuracy: 0.886 - ETA: 14s - loss: 0.2966 - accuracy: 0.886 - ETA: 14s - loss: 0.2971 - accuracy: 0.886 - ETA: 13s - loss: 0.2959 - accuracy: 0.887 - ETA: 13s - loss: 0.2955 - accuracy: 0.887 - ETA: 13s - loss: 0.2952 - accuracy: 0.886 - ETA: 13s - loss: 0.2953 - accuracy: 0.886 - ETA: 13s - loss: 0.2965 - accuracy: 0.886 - ETA: 13s - loss: 0.2961 - accuracy: 0.887 - ETA: 12s - loss: 0.2954 - accuracy: 0.887 - ETA: 12s - loss: 0.2948 - accuracy: 0.887 - ETA: 12s - loss: 0.2947 - accuracy: 0.887 - ETA: 12s - loss: 0.2944 - accuracy: 0.887 - ETA: 12s - loss: 0.2965 - accuracy: 0.887 - ETA: 11s - loss: 0.2976 - accuracy: 0.886 - ETA: 11s - loss: 0.2991 - accuracy: 0.886 - ETA: 11s - loss: 0.2991 - accuracy: 0.886 - ETA: 11s - loss: 0.2984 - accuracy: 0.886 - ETA: 11s - loss: 0.2972 - accuracy: 0.887 - ETA: 10s - loss: 0.2960 - accuracy: 0.887 - ETA: 10s - loss: 0.2953 - accuracy: 0.888 - ETA: 10s - loss: 0.2949 - accuracy: 0.888 - ETA: 10s - loss: 0.2951 - accuracy: 0.888 - ETA: 10s - loss: 0.2957 - accuracy: 0.887 - ETA: 9s - loss: 0.2955 - accuracy: 0.887 - ETA: 9s - loss: 0.2947 - accuracy: 0.88 - ETA: 9s - loss: 0.2959 - accuracy: 0.88 - ETA: 9s - loss: 0.2958 - accuracy: 0.88 - ETA: 8s - loss: 0.2980 - accuracy: 0.88 - ETA: 8s - loss: 0.2983 - accuracy: 0.88 - ETA: 8s - loss: 0.2975 - accuracy: 0.88 - ETA: 8s - loss: 0.2988 - accuracy: 0.88 - ETA: 8s - loss: 0.2994 - accuracy: 0.88 - ETA: 7s - loss: 0.2990 - accuracy: 0.88 - ETA: 7s - loss: 0.2978 - accuracy: 0.88 - ETA: 7s - loss: 0.2972 - accuracy: 0.88 - ETA: 7s - loss: 0.2981 - accuracy: 0.88 - ETA: 7s - loss: 0.2993 - accuracy: 0.88 - ETA: 6s - loss: 0.2991 - accuracy: 0.88 - ETA: 6s - loss: 0.2988 - accuracy: 0.88 - ETA: 6s - loss: 0.2992 - accuracy: 0.88 - ETA: 6s - loss: 0.2986 - accuracy: 0.88 - ETA: 6s - loss: 0.2986 - accuracy: 0.88 - ETA: 5s - loss: 0.2985 - accuracy: 0.88 - ETA: 5s - loss: 0.2972 - accuracy: 0.88 - ETA: 5s - loss: 0.2974 - accuracy: 0.88 - ETA: 5s - loss: 0.2972 - accuracy: 0.88 - ETA: 5s - loss: 0.2974 - accuracy: 0.88 - ETA: 4s - loss: 0.2970 - accuracy: 0.88 - ETA: 4s - loss: 0.2968 - accuracy: 0.88 - ETA: 4s - loss: 0.2973 - accuracy: 0.88 - ETA: 4s - loss: 0.2968 - accuracy: 0.88 - ETA: 4s - loss: 0.2962 - accuracy: 0.88 - ETA: 3s - loss: 0.2970 - accuracy: 0.88 - ETA: 3s - loss: 0.2968 - accuracy: 0.88 - ETA: 3s - loss: 0.2964 - accuracy: 0.88 - ETA: 3s - loss: 0.2967 - accuracy: 0.88 - ETA: 3s - loss: 0.2967 - accuracy: 0.88 - ETA: 2s - loss: 0.2962 - accuracy: 0.88 - ETA: 2s - loss: 0.2958 - accuracy: 0.88 - ETA: 2s - loss: 0.2957 - accuracy: 0.88 - ETA: 2s - loss: 0.2954 - accuracy: 0.88 - ETA: 1s - loss: 0.2957 - accuracy: 0.88 - ETA: 1s - loss: 0.2958 - accuracy: 0.88 - ETA: 1s - loss: 0.2960 - accuracy: 0.88 - ETA: 1s - loss: 0.2959 - accuracy: 0.88 - ETA: 1s - loss: 0.2949 - accuracy: 0.88 - ETA: 0s - loss: 0.2947 - accuracy: 0.88 - ETA: 0s - loss: 0.2947 - accuracy: 0.88 - ETA: 0s - loss: 0.2942 - accuracy: 0.88 - ETA: 0s - loss: 0.2935 - accuracy: 0.88 - ETA: 0s - loss: 0.2935 - accuracy: 0.88 - 38s 226ms/step - loss: 0.2935 - accuracy: 0.8874 - val_loss: 0.4581 - val_accuracy: 0.8324\n",
      "Epoch 8/18\n"
     ]
    },
    {
     "name": "stdout",
     "output_type": "stream",
     "text": [
      "167/167 [==============================] - ETA: 37s - loss: 0.3602 - accuracy: 0.906 - ETA: 34s - loss: 0.2601 - accuracy: 0.921 - ETA: 34s - loss: 0.2647 - accuracy: 0.906 - ETA: 34s - loss: 0.2659 - accuracy: 0.898 - ETA: 33s - loss: 0.2478 - accuracy: 0.912 - ETA: 33s - loss: 0.2336 - accuracy: 0.921 - ETA: 33s - loss: 0.2231 - accuracy: 0.928 - ETA: 32s - loss: 0.2023 - accuracy: 0.937 - ETA: 32s - loss: 0.2232 - accuracy: 0.923 - ETA: 31s - loss: 0.2355 - accuracy: 0.921 - ETA: 31s - loss: 0.2279 - accuracy: 0.923 - ETA: 31s - loss: 0.2260 - accuracy: 0.919 - ETA: 31s - loss: 0.2305 - accuracy: 0.915 - ETA: 31s - loss: 0.2234 - accuracy: 0.917 - ETA: 30s - loss: 0.2281 - accuracy: 0.920 - ETA: 30s - loss: 0.2279 - accuracy: 0.919 - ETA: 30s - loss: 0.2259 - accuracy: 0.917 - ETA: 30s - loss: 0.2486 - accuracy: 0.908 - ETA: 30s - loss: 0.2442 - accuracy: 0.907 - ETA: 30s - loss: 0.2478 - accuracy: 0.906 - ETA: 29s - loss: 0.2451 - accuracy: 0.906 - ETA: 29s - loss: 0.2437 - accuracy: 0.903 - ETA: 29s - loss: 0.2456 - accuracy: 0.903 - ETA: 29s - loss: 0.2476 - accuracy: 0.903 - ETA: 29s - loss: 0.2482 - accuracy: 0.905 - ETA: 29s - loss: 0.2511 - accuracy: 0.903 - ETA: 28s - loss: 0.2521 - accuracy: 0.903 - ETA: 28s - loss: 0.2506 - accuracy: 0.906 - ETA: 28s - loss: 0.2466 - accuracy: 0.909 - ETA: 28s - loss: 0.2478 - accuracy: 0.909 - ETA: 28s - loss: 0.2506 - accuracy: 0.906 - ETA: 27s - loss: 0.2488 - accuracy: 0.906 - ETA: 27s - loss: 0.2442 - accuracy: 0.908 - ETA: 27s - loss: 0.2479 - accuracy: 0.905 - ETA: 27s - loss: 0.2448 - accuracy: 0.906 - ETA: 27s - loss: 0.2414 - accuracy: 0.908 - ETA: 27s - loss: 0.2445 - accuracy: 0.907 - ETA: 26s - loss: 0.2438 - accuracy: 0.907 - ETA: 26s - loss: 0.2426 - accuracy: 0.908 - ETA: 26s - loss: 0.2431 - accuracy: 0.907 - ETA: 26s - loss: 0.2411 - accuracy: 0.908 - ETA: 26s - loss: 0.2454 - accuracy: 0.907 - ETA: 26s - loss: 0.2483 - accuracy: 0.906 - ETA: 25s - loss: 0.2482 - accuracy: 0.906 - ETA: 25s - loss: 0.2475 - accuracy: 0.906 - ETA: 25s - loss: 0.2452 - accuracy: 0.907 - ETA: 25s - loss: 0.2412 - accuracy: 0.909 - ETA: 25s - loss: 0.2436 - accuracy: 0.907 - ETA: 24s - loss: 0.2428 - accuracy: 0.908 - ETA: 24s - loss: 0.2495 - accuracy: 0.906 - ETA: 24s - loss: 0.2478 - accuracy: 0.907 - ETA: 24s - loss: 0.2467 - accuracy: 0.908 - ETA: 24s - loss: 0.2501 - accuracy: 0.908 - ETA: 24s - loss: 0.2535 - accuracy: 0.906 - ETA: 23s - loss: 0.2553 - accuracy: 0.905 - ETA: 23s - loss: 0.2535 - accuracy: 0.905 - ETA: 23s - loss: 0.2523 - accuracy: 0.905 - ETA: 23s - loss: 0.2537 - accuracy: 0.905 - ETA: 22s - loss: 0.2581 - accuracy: 0.904 - ETA: 22s - loss: 0.2588 - accuracy: 0.903 - ETA: 22s - loss: 0.2584 - accuracy: 0.903 - ETA: 22s - loss: 0.2581 - accuracy: 0.903 - ETA: 22s - loss: 0.2584 - accuracy: 0.903 - ETA: 21s - loss: 0.2570 - accuracy: 0.904 - ETA: 21s - loss: 0.2567 - accuracy: 0.903 - ETA: 21s - loss: 0.2581 - accuracy: 0.902 - ETA: 21s - loss: 0.2616 - accuracy: 0.900 - ETA: 21s - loss: 0.2606 - accuracy: 0.901 - ETA: 20s - loss: 0.2611 - accuracy: 0.900 - ETA: 20s - loss: 0.2590 - accuracy: 0.901 - ETA: 20s - loss: 0.2581 - accuracy: 0.901 - ETA: 20s - loss: 0.2610 - accuracy: 0.900 - ETA: 19s - loss: 0.2623 - accuracy: 0.899 - ETA: 19s - loss: 0.2637 - accuracy: 0.898 - ETA: 19s - loss: 0.2636 - accuracy: 0.897 - ETA: 19s - loss: 0.2624 - accuracy: 0.898 - ETA: 19s - loss: 0.2614 - accuracy: 0.898 - ETA: 18s - loss: 0.2605 - accuracy: 0.899 - ETA: 18s - loss: 0.2609 - accuracy: 0.898 - ETA: 18s - loss: 0.2608 - accuracy: 0.898 - ETA: 18s - loss: 0.2610 - accuracy: 0.898 - ETA: 18s - loss: 0.2609 - accuracy: 0.898 - ETA: 17s - loss: 0.2647 - accuracy: 0.897 - ETA: 17s - loss: 0.2671 - accuracy: 0.896 - ETA: 17s - loss: 0.2672 - accuracy: 0.896 - ETA: 17s - loss: 0.2648 - accuracy: 0.897 - ETA: 16s - loss: 0.2647 - accuracy: 0.898 - ETA: 16s - loss: 0.2656 - accuracy: 0.898 - ETA: 16s - loss: 0.2642 - accuracy: 0.898 - ETA: 16s - loss: 0.2657 - accuracy: 0.898 - ETA: 16s - loss: 0.2646 - accuracy: 0.898 - ETA: 15s - loss: 0.2627 - accuracy: 0.899 - ETA: 15s - loss: 0.2625 - accuracy: 0.900 - ETA: 15s - loss: 0.2623 - accuracy: 0.899 - ETA: 15s - loss: 0.2605 - accuracy: 0.901 - ETA: 14s - loss: 0.2585 - accuracy: 0.902 - ETA: 14s - loss: 0.2614 - accuracy: 0.900 - ETA: 14s - loss: 0.2628 - accuracy: 0.899 - ETA: 14s - loss: 0.2613 - accuracy: 0.900 - ETA: 14s - loss: 0.2606 - accuracy: 0.900 - ETA: 13s - loss: 0.2601 - accuracy: 0.900 - ETA: 13s - loss: 0.2588 - accuracy: 0.901 - ETA: 13s - loss: 0.2569 - accuracy: 0.902 - ETA: 13s - loss: 0.2586 - accuracy: 0.901 - ETA: 13s - loss: 0.2575 - accuracy: 0.901 - ETA: 12s - loss: 0.2577 - accuracy: 0.901 - ETA: 12s - loss: 0.2585 - accuracy: 0.901 - ETA: 12s - loss: 0.2590 - accuracy: 0.901 - ETA: 12s - loss: 0.2585 - accuracy: 0.901 - ETA: 11s - loss: 0.2574 - accuracy: 0.902 - ETA: 11s - loss: 0.2570 - accuracy: 0.902 - ETA: 11s - loss: 0.2570 - accuracy: 0.902 - ETA: 11s - loss: 0.2583 - accuracy: 0.902 - ETA: 11s - loss: 0.2596 - accuracy: 0.902 - ETA: 10s - loss: 0.2591 - accuracy: 0.902 - ETA: 10s - loss: 0.2582 - accuracy: 0.902 - ETA: 10s - loss: 0.2581 - accuracy: 0.902 - ETA: 10s - loss: 0.2586 - accuracy: 0.902 - ETA: 10s - loss: 0.2599 - accuracy: 0.901 - ETA: 9s - loss: 0.2592 - accuracy: 0.901 - ETA: 9s - loss: 0.2597 - accuracy: 0.90 - ETA: 9s - loss: 0.2597 - accuracy: 0.90 - ETA: 9s - loss: 0.2588 - accuracy: 0.90 - ETA: 9s - loss: 0.2582 - accuracy: 0.90 - ETA: 8s - loss: 0.2600 - accuracy: 0.90 - ETA: 8s - loss: 0.2616 - accuracy: 0.90 - ETA: 8s - loss: 0.2610 - accuracy: 0.90 - ETA: 8s - loss: 0.2609 - accuracy: 0.90 - ETA: 8s - loss: 0.2627 - accuracy: 0.90 - ETA: 7s - loss: 0.2628 - accuracy: 0.90 - ETA: 7s - loss: 0.2634 - accuracy: 0.90 - ETA: 7s - loss: 0.2667 - accuracy: 0.89 - ETA: 7s - loss: 0.2666 - accuracy: 0.89 - ETA: 6s - loss: 0.2652 - accuracy: 0.89 - ETA: 6s - loss: 0.2647 - accuracy: 0.89 - ETA: 6s - loss: 0.2653 - accuracy: 0.89 - ETA: 6s - loss: 0.2648 - accuracy: 0.89 - ETA: 6s - loss: 0.2647 - accuracy: 0.89 - ETA: 5s - loss: 0.2649 - accuracy: 0.89 - ETA: 5s - loss: 0.2636 - accuracy: 0.89 - ETA: 5s - loss: 0.2657 - accuracy: 0.89 - ETA: 5s - loss: 0.2659 - accuracy: 0.89 - ETA: 5s - loss: 0.2649 - accuracy: 0.89 - ETA: 4s - loss: 0.2662 - accuracy: 0.89 - ETA: 4s - loss: 0.2651 - accuracy: 0.89 - ETA: 4s - loss: 0.2642 - accuracy: 0.89 - ETA: 4s - loss: 0.2652 - accuracy: 0.89 - ETA: 3s - loss: 0.2651 - accuracy: 0.89 - ETA: 3s - loss: 0.2672 - accuracy: 0.89 - ETA: 3s - loss: 0.2678 - accuracy: 0.89 - ETA: 3s - loss: 0.2675 - accuracy: 0.89 - ETA: 3s - loss: 0.2671 - accuracy: 0.89 - ETA: 2s - loss: 0.2688 - accuracy: 0.89 - ETA: 2s - loss: 0.2698 - accuracy: 0.89 - ETA: 2s - loss: 0.2688 - accuracy: 0.89 - ETA: 2s - loss: 0.2690 - accuracy: 0.89 - ETA: 2s - loss: 0.2688 - accuracy: 0.89 - ETA: 1s - loss: 0.2681 - accuracy: 0.89 - ETA: 1s - loss: 0.2682 - accuracy: 0.89 - ETA: 1s - loss: 0.2676 - accuracy: 0.89 - ETA: 1s - loss: 0.2670 - accuracy: 0.89 - ETA: 1s - loss: 0.2675 - accuracy: 0.89 - ETA: 0s - loss: 0.2684 - accuracy: 0.89 - ETA: 0s - loss: 0.2695 - accuracy: 0.89 - ETA: 0s - loss: 0.2700 - accuracy: 0.89 - ETA: 0s - loss: 0.2699 - accuracy: 0.89 - ETA: 0s - loss: 0.2698 - accuracy: 0.89 - 37s 219ms/step - loss: 0.2698 - accuracy: 0.8967 - val_loss: 0.4064 - val_accuracy: 0.8532\n",
      "Epoch 9/18\n"
     ]
    },
    {
     "name": "stdout",
     "output_type": "stream",
     "text": [
      "167/167 [==============================] - ETA: 34s - loss: 0.2703 - accuracy: 0.937 - ETA: 39s - loss: 0.2565 - accuracy: 0.921 - ETA: 40s - loss: 0.2371 - accuracy: 0.916 - ETA: 39s - loss: 0.2230 - accuracy: 0.914 - ETA: 38s - loss: 0.2190 - accuracy: 0.918 - ETA: 37s - loss: 0.1991 - accuracy: 0.927 - ETA: 36s - loss: 0.1862 - accuracy: 0.933 - ETA: 36s - loss: 0.1715 - accuracy: 0.941 - ETA: 35s - loss: 0.1825 - accuracy: 0.937 - ETA: 35s - loss: 0.1897 - accuracy: 0.937 - ETA: 35s - loss: 0.1761 - accuracy: 0.943 - ETA: 34s - loss: 0.1794 - accuracy: 0.940 - ETA: 34s - loss: 0.1818 - accuracy: 0.937 - ETA: 34s - loss: 0.1889 - accuracy: 0.930 - ETA: 33s - loss: 0.1978 - accuracy: 0.925 - ETA: 33s - loss: 0.1957 - accuracy: 0.927 - ETA: 32s - loss: 0.1936 - accuracy: 0.930 - ETA: 32s - loss: 0.1944 - accuracy: 0.930 - ETA: 31s - loss: 0.1969 - accuracy: 0.929 - ETA: 31s - loss: 0.1934 - accuracy: 0.929 - ETA: 31s - loss: 0.1928 - accuracy: 0.928 - ETA: 30s - loss: 0.1898 - accuracy: 0.929 - ETA: 30s - loss: 0.1950 - accuracy: 0.928 - ETA: 30s - loss: 0.1984 - accuracy: 0.928 - ETA: 30s - loss: 0.1959 - accuracy: 0.930 - ETA: 29s - loss: 0.1974 - accuracy: 0.927 - ETA: 29s - loss: 0.2039 - accuracy: 0.925 - ETA: 29s - loss: 0.2013 - accuracy: 0.926 - ETA: 28s - loss: 0.2022 - accuracy: 0.925 - ETA: 28s - loss: 0.2046 - accuracy: 0.921 - ETA: 28s - loss: 0.2045 - accuracy: 0.921 - ETA: 28s - loss: 0.2125 - accuracy: 0.919 - ETA: 27s - loss: 0.2069 - accuracy: 0.922 - ETA: 27s - loss: 0.2081 - accuracy: 0.920 - ETA: 27s - loss: 0.2112 - accuracy: 0.918 - ETA: 27s - loss: 0.2115 - accuracy: 0.918 - ETA: 26s - loss: 0.2079 - accuracy: 0.920 - ETA: 26s - loss: 0.2057 - accuracy: 0.921 - ETA: 26s - loss: 0.2117 - accuracy: 0.917 - ETA: 26s - loss: 0.2145 - accuracy: 0.916 - ETA: 25s - loss: 0.2187 - accuracy: 0.916 - ETA: 25s - loss: 0.2178 - accuracy: 0.916 - ETA: 25s - loss: 0.2181 - accuracy: 0.917 - ETA: 25s - loss: 0.2181 - accuracy: 0.916 - ETA: 25s - loss: 0.2154 - accuracy: 0.918 - ETA: 24s - loss: 0.2149 - accuracy: 0.917 - ETA: 24s - loss: 0.2159 - accuracy: 0.917 - ETA: 24s - loss: 0.2145 - accuracy: 0.918 - ETA: 24s - loss: 0.2125 - accuracy: 0.920 - ETA: 23s - loss: 0.2115 - accuracy: 0.920 - ETA: 23s - loss: 0.2109 - accuracy: 0.921 - ETA: 23s - loss: 0.2105 - accuracy: 0.920 - ETA: 23s - loss: 0.2109 - accuracy: 0.919 - ETA: 23s - loss: 0.2108 - accuracy: 0.920 - ETA: 22s - loss: 0.2110 - accuracy: 0.918 - ETA: 22s - loss: 0.2122 - accuracy: 0.918 - ETA: 22s - loss: 0.2102 - accuracy: 0.919 - ETA: 22s - loss: 0.2088 - accuracy: 0.920 - ETA: 22s - loss: 0.2095 - accuracy: 0.919 - ETA: 21s - loss: 0.2070 - accuracy: 0.919 - ETA: 21s - loss: 0.2049 - accuracy: 0.921 - ETA: 21s - loss: 0.2040 - accuracy: 0.921 - ETA: 21s - loss: 0.2019 - accuracy: 0.921 - ETA: 21s - loss: 0.2016 - accuracy: 0.921 - ETA: 20s - loss: 0.2041 - accuracy: 0.921 - ETA: 20s - loss: 0.2060 - accuracy: 0.920 - ETA: 20s - loss: 0.2051 - accuracy: 0.920 - ETA: 20s - loss: 0.2029 - accuracy: 0.921 - ETA: 19s - loss: 0.2025 - accuracy: 0.921 - ETA: 19s - loss: 0.2016 - accuracy: 0.921 - ETA: 19s - loss: 0.2011 - accuracy: 0.922 - ETA: 19s - loss: 0.2038 - accuracy: 0.921 - ETA: 19s - loss: 0.2025 - accuracy: 0.922 - ETA: 18s - loss: 0.2038 - accuracy: 0.921 - ETA: 18s - loss: 0.2022 - accuracy: 0.922 - ETA: 18s - loss: 0.2021 - accuracy: 0.922 - ETA: 18s - loss: 0.2019 - accuracy: 0.922 - ETA: 18s - loss: 0.2023 - accuracy: 0.921 - ETA: 17s - loss: 0.2036 - accuracy: 0.920 - ETA: 17s - loss: 0.2063 - accuracy: 0.920 - ETA: 17s - loss: 0.2057 - accuracy: 0.920 - ETA: 17s - loss: 0.2070 - accuracy: 0.920 - ETA: 17s - loss: 0.2060 - accuracy: 0.920 - ETA: 16s - loss: 0.2060 - accuracy: 0.920 - ETA: 16s - loss: 0.2066 - accuracy: 0.920 - ETA: 16s - loss: 0.2070 - accuracy: 0.920 - ETA: 16s - loss: 0.2057 - accuracy: 0.921 - ETA: 16s - loss: 0.2040 - accuracy: 0.921 - ETA: 15s - loss: 0.2036 - accuracy: 0.922 - ETA: 15s - loss: 0.2036 - accuracy: 0.921 - ETA: 15s - loss: 0.2041 - accuracy: 0.921 - ETA: 15s - loss: 0.2033 - accuracy: 0.921 - ETA: 15s - loss: 0.2043 - accuracy: 0.920 - ETA: 14s - loss: 0.2069 - accuracy: 0.920 - ETA: 14s - loss: 0.2070 - accuracy: 0.920 - ETA: 14s - loss: 0.2061 - accuracy: 0.919 - ETA: 14s - loss: 0.2067 - accuracy: 0.919 - ETA: 14s - loss: 0.2070 - accuracy: 0.919 - ETA: 13s - loss: 0.2072 - accuracy: 0.919 - ETA: 13s - loss: 0.2072 - accuracy: 0.919 - ETA: 13s - loss: 0.2070 - accuracy: 0.918 - ETA: 13s - loss: 0.2078 - accuracy: 0.918 - ETA: 13s - loss: 0.2088 - accuracy: 0.917 - ETA: 12s - loss: 0.2082 - accuracy: 0.918 - ETA: 12s - loss: 0.2091 - accuracy: 0.917 - ETA: 12s - loss: 0.2090 - accuracy: 0.917 - ETA: 12s - loss: 0.2100 - accuracy: 0.917 - ETA: 12s - loss: 0.2100 - accuracy: 0.917 - ETA: 11s - loss: 0.2098 - accuracy: 0.917 - ETA: 11s - loss: 0.2102 - accuracy: 0.917 - ETA: 11s - loss: 0.2090 - accuracy: 0.917 - ETA: 11s - loss: 0.2095 - accuracy: 0.917 - ETA: 11s - loss: 0.2107 - accuracy: 0.916 - ETA: 10s - loss: 0.2108 - accuracy: 0.916 - ETA: 10s - loss: 0.2097 - accuracy: 0.916 - ETA: 10s - loss: 0.2103 - accuracy: 0.915 - ETA: 10s - loss: 0.2089 - accuracy: 0.916 - ETA: 10s - loss: 0.2078 - accuracy: 0.917 - ETA: 9s - loss: 0.2080 - accuracy: 0.917 - ETA: 9s - loss: 0.2096 - accuracy: 0.91 - ETA: 9s - loss: 0.2097 - accuracy: 0.91 - ETA: 9s - loss: 0.2092 - accuracy: 0.91 - ETA: 9s - loss: 0.2099 - accuracy: 0.91 - ETA: 8s - loss: 0.2105 - accuracy: 0.91 - ETA: 8s - loss: 0.2118 - accuracy: 0.91 - ETA: 8s - loss: 0.2117 - accuracy: 0.91 - ETA: 8s - loss: 0.2118 - accuracy: 0.91 - ETA: 8s - loss: 0.2129 - accuracy: 0.91 - ETA: 7s - loss: 0.2136 - accuracy: 0.91 - ETA: 7s - loss: 0.2131 - accuracy: 0.91 - ETA: 7s - loss: 0.2131 - accuracy: 0.91 - ETA: 7s - loss: 0.2126 - accuracy: 0.91 - ETA: 7s - loss: 0.2129 - accuracy: 0.91 - ETA: 6s - loss: 0.2125 - accuracy: 0.91 - ETA: 6s - loss: 0.2137 - accuracy: 0.91 - ETA: 6s - loss: 0.2128 - accuracy: 0.91 - ETA: 6s - loss: 0.2135 - accuracy: 0.91 - ETA: 6s - loss: 0.2124 - accuracy: 0.91 - ETA: 5s - loss: 0.2123 - accuracy: 0.91 - ETA: 5s - loss: 0.2140 - accuracy: 0.91 - ETA: 5s - loss: 0.2140 - accuracy: 0.91 - ETA: 5s - loss: 0.2132 - accuracy: 0.91 - ETA: 5s - loss: 0.2124 - accuracy: 0.91 - ETA: 4s - loss: 0.2119 - accuracy: 0.91 - ETA: 4s - loss: 0.2118 - accuracy: 0.91 - ETA: 4s - loss: 0.2114 - accuracy: 0.91 - ETA: 4s - loss: 0.2127 - accuracy: 0.91 - ETA: 4s - loss: 0.2133 - accuracy: 0.91 - ETA: 3s - loss: 0.2133 - accuracy: 0.91 - ETA: 3s - loss: 0.2129 - accuracy: 0.91 - ETA: 3s - loss: 0.2123 - accuracy: 0.91 - ETA: 3s - loss: 0.2113 - accuracy: 0.91 - ETA: 2s - loss: 0.2123 - accuracy: 0.91 - ETA: 2s - loss: 0.2126 - accuracy: 0.91 - ETA: 2s - loss: 0.2125 - accuracy: 0.91 - ETA: 2s - loss: 0.2123 - accuracy: 0.91 - ETA: 2s - loss: 0.2134 - accuracy: 0.91 - ETA: 1s - loss: 0.2149 - accuracy: 0.91 - ETA: 1s - loss: 0.2156 - accuracy: 0.91 - ETA: 1s - loss: 0.2161 - accuracy: 0.91 - ETA: 1s - loss: 0.2158 - accuracy: 0.91 - ETA: 1s - loss: 0.2164 - accuracy: 0.91 - ETA: 0s - loss: 0.2173 - accuracy: 0.91 - ETA: 0s - loss: 0.2183 - accuracy: 0.91 - ETA: 0s - loss: 0.2180 - accuracy: 0.91 - ETA: 0s - loss: 0.2195 - accuracy: 0.91 - ETA: 0s - loss: 0.2198 - accuracy: 0.91 - 37s 220ms/step - loss: 0.2198 - accuracy: 0.9113 - val_loss: 0.5116 - val_accuracy: 0.8162\n",
      "Epoch 10/18\n"
     ]
    },
    {
     "name": "stdout",
     "output_type": "stream",
     "text": [
      "167/167 [==============================] - ETA: 34s - loss: 0.1565 - accuracy: 0.968 - ETA: 35s - loss: 0.2693 - accuracy: 0.859 - ETA: 34s - loss: 0.3856 - accuracy: 0.843 - ETA: 34s - loss: 0.4399 - accuracy: 0.828 - ETA: 33s - loss: 0.4958 - accuracy: 0.787 - ETA: 33s - loss: 0.5363 - accuracy: 0.750 - ETA: 33s - loss: 0.5692 - accuracy: 0.723 - ETA: 32s - loss: 0.5421 - accuracy: 0.734 - ETA: 32s - loss: 0.5067 - accuracy: 0.753 - ETA: 32s - loss: 0.4754 - accuracy: 0.771 - ETA: 31s - loss: 0.4561 - accuracy: 0.784 - ETA: 31s - loss: 0.4548 - accuracy: 0.786 - ETA: 31s - loss: 0.4457 - accuracy: 0.793 - ETA: 31s - loss: 0.4607 - accuracy: 0.792 - ETA: 31s - loss: 0.4521 - accuracy: 0.795 - ETA: 30s - loss: 0.4461 - accuracy: 0.800 - ETA: 30s - loss: 0.4370 - accuracy: 0.805 - ETA: 30s - loss: 0.4352 - accuracy: 0.805 - ETA: 30s - loss: 0.4225 - accuracy: 0.812 - ETA: 30s - loss: 0.4197 - accuracy: 0.812 - ETA: 29s - loss: 0.4105 - accuracy: 0.818 - ETA: 29s - loss: 0.4257 - accuracy: 0.816 - ETA: 29s - loss: 0.4259 - accuracy: 0.819 - ETA: 29s - loss: 0.4204 - accuracy: 0.820 - ETA: 28s - loss: 0.4169 - accuracy: 0.820 - ETA: 28s - loss: 0.4117 - accuracy: 0.823 - ETA: 28s - loss: 0.4043 - accuracy: 0.826 - ETA: 28s - loss: 0.4019 - accuracy: 0.827 - ETA: 27s - loss: 0.3975 - accuracy: 0.828 - ETA: 27s - loss: 0.3947 - accuracy: 0.829 - ETA: 27s - loss: 0.3900 - accuracy: 0.831 - ETA: 27s - loss: 0.3876 - accuracy: 0.833 - ETA: 27s - loss: 0.3906 - accuracy: 0.832 - ETA: 26s - loss: 0.3961 - accuracy: 0.830 - ETA: 26s - loss: 0.3939 - accuracy: 0.830 - ETA: 26s - loss: 0.3959 - accuracy: 0.829 - ETA: 26s - loss: 0.3902 - accuracy: 0.832 - ETA: 26s - loss: 0.3886 - accuracy: 0.832 - ETA: 25s - loss: 0.3901 - accuracy: 0.831 - ETA: 25s - loss: 0.3852 - accuracy: 0.834 - ETA: 25s - loss: 0.3861 - accuracy: 0.834 - ETA: 25s - loss: 0.3843 - accuracy: 0.837 - ETA: 25s - loss: 0.3825 - accuracy: 0.837 - ETA: 24s - loss: 0.3797 - accuracy: 0.838 - ETA: 24s - loss: 0.3772 - accuracy: 0.840 - ETA: 24s - loss: 0.3723 - accuracy: 0.843 - ETA: 24s - loss: 0.3686 - accuracy: 0.845 - ETA: 23s - loss: 0.3646 - accuracy: 0.847 - ETA: 23s - loss: 0.3656 - accuracy: 0.847 - ETA: 23s - loss: 0.3650 - accuracy: 0.847 - ETA: 23s - loss: 0.3615 - accuracy: 0.849 - ETA: 23s - loss: 0.3616 - accuracy: 0.849 - ETA: 22s - loss: 0.3607 - accuracy: 0.850 - ETA: 22s - loss: 0.3579 - accuracy: 0.851 - ETA: 22s - loss: 0.3536 - accuracy: 0.854 - ETA: 22s - loss: 0.3529 - accuracy: 0.855 - ETA: 22s - loss: 0.3537 - accuracy: 0.855 - ETA: 21s - loss: 0.3524 - accuracy: 0.856 - ETA: 21s - loss: 0.3494 - accuracy: 0.857 - ETA: 21s - loss: 0.3451 - accuracy: 0.859 - ETA: 21s - loss: 0.3455 - accuracy: 0.860 - ETA: 21s - loss: 0.3442 - accuracy: 0.860 - ETA: 20s - loss: 0.3426 - accuracy: 0.861 - ETA: 20s - loss: 0.3397 - accuracy: 0.862 - ETA: 20s - loss: 0.3361 - accuracy: 0.864 - ETA: 20s - loss: 0.3374 - accuracy: 0.864 - ETA: 20s - loss: 0.3355 - accuracy: 0.865 - ETA: 19s - loss: 0.3334 - accuracy: 0.866 - ETA: 19s - loss: 0.3324 - accuracy: 0.867 - ETA: 19s - loss: 0.3305 - accuracy: 0.868 - ETA: 19s - loss: 0.3301 - accuracy: 0.868 - ETA: 19s - loss: 0.3271 - accuracy: 0.868 - ETA: 18s - loss: 0.3264 - accuracy: 0.869 - ETA: 18s - loss: 0.3263 - accuracy: 0.868 - ETA: 18s - loss: 0.3247 - accuracy: 0.869 - ETA: 18s - loss: 0.3226 - accuracy: 0.870 - ETA: 18s - loss: 0.3199 - accuracy: 0.872 - ETA: 17s - loss: 0.3188 - accuracy: 0.872 - ETA: 17s - loss: 0.3183 - accuracy: 0.873 - ETA: 17s - loss: 0.3163 - accuracy: 0.874 - ETA: 17s - loss: 0.3135 - accuracy: 0.875 - ETA: 17s - loss: 0.3123 - accuracy: 0.876 - ETA: 16s - loss: 0.3121 - accuracy: 0.876 - ETA: 16s - loss: 0.3129 - accuracy: 0.877 - ETA: 16s - loss: 0.3114 - accuracy: 0.877 - ETA: 16s - loss: 0.3095 - accuracy: 0.877 - ETA: 16s - loss: 0.3095 - accuracy: 0.877 - ETA: 15s - loss: 0.3093 - accuracy: 0.877 - ETA: 15s - loss: 0.3071 - accuracy: 0.878 - ETA: 15s - loss: 0.3051 - accuracy: 0.878 - ETA: 15s - loss: 0.3039 - accuracy: 0.878 - ETA: 15s - loss: 0.3030 - accuracy: 0.879 - ETA: 14s - loss: 0.3024 - accuracy: 0.879 - ETA: 14s - loss: 0.3012 - accuracy: 0.879 - ETA: 14s - loss: 0.3003 - accuracy: 0.879 - ETA: 14s - loss: 0.2986 - accuracy: 0.880 - ETA: 14s - loss: 0.2976 - accuracy: 0.881 - ETA: 13s - loss: 0.2959 - accuracy: 0.882 - ETA: 13s - loss: 0.2946 - accuracy: 0.882 - ETA: 13s - loss: 0.2945 - accuracy: 0.882 - ETA: 13s - loss: 0.2933 - accuracy: 0.883 - ETA: 13s - loss: 0.2925 - accuracy: 0.883 - ETA: 13s - loss: 0.2915 - accuracy: 0.884 - ETA: 12s - loss: 0.2911 - accuracy: 0.884 - ETA: 12s - loss: 0.2891 - accuracy: 0.885 - ETA: 12s - loss: 0.2871 - accuracy: 0.886 - ETA: 12s - loss: 0.2852 - accuracy: 0.887 - ETA: 12s - loss: 0.2840 - accuracy: 0.887 - ETA: 11s - loss: 0.2821 - accuracy: 0.888 - ETA: 11s - loss: 0.2821 - accuracy: 0.888 - ETA: 11s - loss: 0.2815 - accuracy: 0.889 - ETA: 11s - loss: 0.2839 - accuracy: 0.888 - ETA: 11s - loss: 0.2822 - accuracy: 0.889 - ETA: 10s - loss: 0.2827 - accuracy: 0.889 - ETA: 10s - loss: 0.2823 - accuracy: 0.889 - ETA: 10s - loss: 0.2814 - accuracy: 0.890 - ETA: 10s - loss: 0.2800 - accuracy: 0.890 - ETA: 10s - loss: 0.2811 - accuracy: 0.890 - ETA: 9s - loss: 0.2802 - accuracy: 0.891 - ETA: 9s - loss: 0.2812 - accuracy: 0.89 - ETA: 9s - loss: 0.2808 - accuracy: 0.89 - ETA: 9s - loss: 0.2804 - accuracy: 0.89 - ETA: 9s - loss: 0.2807 - accuracy: 0.89 - ETA: 8s - loss: 0.2817 - accuracy: 0.89 - ETA: 8s - loss: 0.2812 - accuracy: 0.89 - ETA: 8s - loss: 0.2804 - accuracy: 0.89 - ETA: 8s - loss: 0.2802 - accuracy: 0.89 - ETA: 8s - loss: 0.2812 - accuracy: 0.88 - ETA: 7s - loss: 0.2803 - accuracy: 0.89 - ETA: 7s - loss: 0.2814 - accuracy: 0.89 - ETA: 7s - loss: 0.2803 - accuracy: 0.89 - ETA: 7s - loss: 0.2814 - accuracy: 0.89 - ETA: 7s - loss: 0.2811 - accuracy: 0.89 - ETA: 6s - loss: 0.2816 - accuracy: 0.89 - ETA: 6s - loss: 0.2812 - accuracy: 0.89 - ETA: 6s - loss: 0.2814 - accuracy: 0.89 - ETA: 6s - loss: 0.2818 - accuracy: 0.89 - ETA: 6s - loss: 0.2823 - accuracy: 0.88 - ETA: 5s - loss: 0.2820 - accuracy: 0.88 - ETA: 5s - loss: 0.2812 - accuracy: 0.88 - ETA: 5s - loss: 0.2812 - accuracy: 0.88 - ETA: 5s - loss: 0.2795 - accuracy: 0.89 - ETA: 5s - loss: 0.2789 - accuracy: 0.89 - ETA: 4s - loss: 0.2779 - accuracy: 0.89 - ETA: 4s - loss: 0.2795 - accuracy: 0.89 - ETA: 4s - loss: 0.2790 - accuracy: 0.89 - ETA: 4s - loss: 0.2787 - accuracy: 0.89 - ETA: 3s - loss: 0.2788 - accuracy: 0.89 - ETA: 3s - loss: 0.2783 - accuracy: 0.89 - ETA: 3s - loss: 0.2774 - accuracy: 0.89 - ETA: 3s - loss: 0.2765 - accuracy: 0.89 - ETA: 3s - loss: 0.2764 - accuracy: 0.89 - ETA: 2s - loss: 0.2758 - accuracy: 0.89 - ETA: 2s - loss: 0.2760 - accuracy: 0.89 - ETA: 2s - loss: 0.2755 - accuracy: 0.89 - ETA: 2s - loss: 0.2748 - accuracy: 0.89 - ETA: 2s - loss: 0.2758 - accuracy: 0.89 - ETA: 1s - loss: 0.2751 - accuracy: 0.89 - ETA: 1s - loss: 0.2752 - accuracy: 0.89 - ETA: 1s - loss: 0.2741 - accuracy: 0.89 - ETA: 1s - loss: 0.2750 - accuracy: 0.89 - ETA: 1s - loss: 0.2746 - accuracy: 0.89 - ETA: 0s - loss: 0.2736 - accuracy: 0.89 - ETA: 0s - loss: 0.2742 - accuracy: 0.89 - ETA: 0s - loss: 0.2730 - accuracy: 0.89 - ETA: 0s - loss: 0.2728 - accuracy: 0.89 - ETA: 0s - loss: 0.2727 - accuracy: 0.89 - 37s 221ms/step - loss: 0.2727 - accuracy: 0.8944 - val_loss: 0.4624 - val_accuracy: 0.8532\n",
      "Epoch 11/18\n"
     ]
    },
    {
     "name": "stdout",
     "output_type": "stream",
     "text": [
      "167/167 [==============================] - ETA: 33s - loss: 0.1500 - accuracy: 0.968 - ETA: 35s - loss: 0.1148 - accuracy: 0.968 - ETA: 35s - loss: 0.1153 - accuracy: 0.958 - ETA: 37s - loss: 0.1379 - accuracy: 0.937 - ETA: 37s - loss: 0.1808 - accuracy: 0.937 - ETA: 37s - loss: 0.1895 - accuracy: 0.937 - ETA: 36s - loss: 0.1773 - accuracy: 0.942 - ETA: 36s - loss: 0.1649 - accuracy: 0.945 - ETA: 35s - loss: 0.1810 - accuracy: 0.937 - ETA: 35s - loss: 0.1768 - accuracy: 0.940 - ETA: 34s - loss: 0.1820 - accuracy: 0.937 - ETA: 34s - loss: 0.1733 - accuracy: 0.940 - ETA: 34s - loss: 0.1739 - accuracy: 0.937 - ETA: 33s - loss: 0.1739 - accuracy: 0.935 - ETA: 33s - loss: 0.1750 - accuracy: 0.933 - ETA: 33s - loss: 0.1693 - accuracy: 0.935 - ETA: 32s - loss: 0.1697 - accuracy: 0.937 - ETA: 32s - loss: 0.1729 - accuracy: 0.934 - ETA: 32s - loss: 0.1746 - accuracy: 0.934 - ETA: 32s - loss: 0.1714 - accuracy: 0.935 - ETA: 31s - loss: 0.1712 - accuracy: 0.936 - ETA: 31s - loss: 0.1676 - accuracy: 0.936 - ETA: 31s - loss: 0.1714 - accuracy: 0.937 - ETA: 30s - loss: 0.1672 - accuracy: 0.937 - ETA: 30s - loss: 0.1650 - accuracy: 0.937 - ETA: 30s - loss: 0.1611 - accuracy: 0.939 - ETA: 30s - loss: 0.1627 - accuracy: 0.938 - ETA: 29s - loss: 0.1631 - accuracy: 0.939 - ETA: 29s - loss: 0.1646 - accuracy: 0.939 - ETA: 29s - loss: 0.1604 - accuracy: 0.941 - ETA: 28s - loss: 0.1614 - accuracy: 0.941 - ETA: 28s - loss: 0.1626 - accuracy: 0.940 - ETA: 28s - loss: 0.1642 - accuracy: 0.938 - ETA: 28s - loss: 0.1658 - accuracy: 0.938 - ETA: 27s - loss: 0.1615 - accuracy: 0.940 - ETA: 27s - loss: 0.1654 - accuracy: 0.936 - ETA: 27s - loss: 0.1649 - accuracy: 0.936 - ETA: 27s - loss: 0.1644 - accuracy: 0.936 - ETA: 26s - loss: 0.1652 - accuracy: 0.936 - ETA: 26s - loss: 0.1665 - accuracy: 0.936 - ETA: 26s - loss: 0.1680 - accuracy: 0.936 - ETA: 26s - loss: 0.1680 - accuracy: 0.936 - ETA: 25s - loss: 0.1676 - accuracy: 0.936 - ETA: 25s - loss: 0.1696 - accuracy: 0.936 - ETA: 25s - loss: 0.1683 - accuracy: 0.936 - ETA: 25s - loss: 0.1669 - accuracy: 0.936 - ETA: 25s - loss: 0.1641 - accuracy: 0.938 - ETA: 24s - loss: 0.1635 - accuracy: 0.938 - ETA: 24s - loss: 0.1661 - accuracy: 0.938 - ETA: 24s - loss: 0.1648 - accuracy: 0.939 - ETA: 24s - loss: 0.1668 - accuracy: 0.938 - ETA: 23s - loss: 0.1655 - accuracy: 0.939 - ETA: 23s - loss: 0.1649 - accuracy: 0.939 - ETA: 23s - loss: 0.1637 - accuracy: 0.939 - ETA: 23s - loss: 0.1691 - accuracy: 0.938 - ETA: 23s - loss: 0.1689 - accuracy: 0.938 - ETA: 22s - loss: 0.1703 - accuracy: 0.936 - ETA: 22s - loss: 0.1708 - accuracy: 0.935 - ETA: 22s - loss: 0.1695 - accuracy: 0.935 - ETA: 22s - loss: 0.1673 - accuracy: 0.937 - ETA: 21s - loss: 0.1648 - accuracy: 0.938 - ETA: 21s - loss: 0.1658 - accuracy: 0.938 - ETA: 21s - loss: 0.1648 - accuracy: 0.938 - ETA: 21s - loss: 0.1651 - accuracy: 0.939 - ETA: 21s - loss: 0.1662 - accuracy: 0.938 - ETA: 20s - loss: 0.1685 - accuracy: 0.938 - ETA: 20s - loss: 0.1667 - accuracy: 0.938 - ETA: 20s - loss: 0.1664 - accuracy: 0.938 - ETA: 20s - loss: 0.1657 - accuracy: 0.938 - ETA: 20s - loss: 0.1706 - accuracy: 0.937 - ETA: 19s - loss: 0.1705 - accuracy: 0.937 - ETA: 19s - loss: 0.1706 - accuracy: 0.937 - ETA: 19s - loss: 0.1695 - accuracy: 0.937 - ETA: 19s - loss: 0.1679 - accuracy: 0.938 - ETA: 18s - loss: 0.1686 - accuracy: 0.937 - ETA: 18s - loss: 0.1685 - accuracy: 0.937 - ETA: 18s - loss: 0.1695 - accuracy: 0.937 - ETA: 18s - loss: 0.1695 - accuracy: 0.937 - ETA: 18s - loss: 0.1686 - accuracy: 0.937 - ETA: 17s - loss: 0.1688 - accuracy: 0.937 - ETA: 17s - loss: 0.1688 - accuracy: 0.937 - ETA: 17s - loss: 0.1695 - accuracy: 0.937 - ETA: 17s - loss: 0.1694 - accuracy: 0.937 - ETA: 17s - loss: 0.1693 - accuracy: 0.936 - ETA: 16s - loss: 0.1687 - accuracy: 0.936 - ETA: 16s - loss: 0.1706 - accuracy: 0.936 - ETA: 16s - loss: 0.1699 - accuracy: 0.936 - ETA: 16s - loss: 0.1736 - accuracy: 0.935 - ETA: 16s - loss: 0.1733 - accuracy: 0.935 - ETA: 15s - loss: 0.1741 - accuracy: 0.935 - ETA: 15s - loss: 0.1752 - accuracy: 0.934 - ETA: 15s - loss: 0.1757 - accuracy: 0.934 - ETA: 15s - loss: 0.1752 - accuracy: 0.934 - ETA: 15s - loss: 0.1763 - accuracy: 0.933 - ETA: 14s - loss: 0.1761 - accuracy: 0.933 - ETA: 14s - loss: 0.1776 - accuracy: 0.933 - ETA: 14s - loss: 0.1784 - accuracy: 0.933 - ETA: 14s - loss: 0.1775 - accuracy: 0.933 - ETA: 14s - loss: 0.1777 - accuracy: 0.932 - ETA: 13s - loss: 0.1783 - accuracy: 0.932 - ETA: 13s - loss: 0.1782 - accuracy: 0.931 - ETA: 13s - loss: 0.1789 - accuracy: 0.932 - ETA: 13s - loss: 0.1798 - accuracy: 0.931 - ETA: 12s - loss: 0.1797 - accuracy: 0.931 - ETA: 12s - loss: 0.1813 - accuracy: 0.931 - ETA: 12s - loss: 0.1810 - accuracy: 0.931 - ETA: 12s - loss: 0.1810 - accuracy: 0.930 - ETA: 12s - loss: 0.1811 - accuracy: 0.930 - ETA: 11s - loss: 0.1807 - accuracy: 0.931 - ETA: 11s - loss: 0.1804 - accuracy: 0.931 - ETA: 11s - loss: 0.1807 - accuracy: 0.930 - ETA: 11s - loss: 0.1806 - accuracy: 0.931 - ETA: 11s - loss: 0.1807 - accuracy: 0.930 - ETA: 10s - loss: 0.1805 - accuracy: 0.930 - ETA: 10s - loss: 0.1810 - accuracy: 0.930 - ETA: 10s - loss: 0.1809 - accuracy: 0.930 - ETA: 10s - loss: 0.1812 - accuracy: 0.930 - ETA: 10s - loss: 0.1840 - accuracy: 0.929 - ETA: 9s - loss: 0.1833 - accuracy: 0.930 - ETA: 9s - loss: 0.1825 - accuracy: 0.93 - ETA: 9s - loss: 0.1816 - accuracy: 0.93 - ETA: 9s - loss: 0.1821 - accuracy: 0.93 - ETA: 9s - loss: 0.1817 - accuracy: 0.93 - ETA: 8s - loss: 0.1815 - accuracy: 0.93 - ETA: 8s - loss: 0.1815 - accuracy: 0.93 - ETA: 8s - loss: 0.1827 - accuracy: 0.92 - ETA: 8s - loss: 0.1831 - accuracy: 0.92 - ETA: 8s - loss: 0.1831 - accuracy: 0.92 - ETA: 7s - loss: 0.1823 - accuracy: 0.93 - ETA: 7s - loss: 0.1812 - accuracy: 0.93 - ETA: 7s - loss: 0.1813 - accuracy: 0.93 - ETA: 7s - loss: 0.1827 - accuracy: 0.92 - ETA: 6s - loss: 0.1827 - accuracy: 0.92 - ETA: 6s - loss: 0.1832 - accuracy: 0.92 - ETA: 6s - loss: 0.1844 - accuracy: 0.92 - ETA: 6s - loss: 0.1840 - accuracy: 0.92 - ETA: 6s - loss: 0.1847 - accuracy: 0.92 - ETA: 5s - loss: 0.1854 - accuracy: 0.92 - ETA: 5s - loss: 0.1868 - accuracy: 0.92 - ETA: 5s - loss: 0.1872 - accuracy: 0.92 - ETA: 5s - loss: 0.1884 - accuracy: 0.92 - ETA: 5s - loss: 0.1877 - accuracy: 0.92 - ETA: 4s - loss: 0.1868 - accuracy: 0.92 - ETA: 4s - loss: 0.1866 - accuracy: 0.92 - ETA: 4s - loss: 0.1867 - accuracy: 0.92 - ETA: 4s - loss: 0.1878 - accuracy: 0.92 - ETA: 4s - loss: 0.1887 - accuracy: 0.92 - ETA: 3s - loss: 0.1904 - accuracy: 0.92 - ETA: 3s - loss: 0.1906 - accuracy: 0.92 - ETA: 3s - loss: 0.1911 - accuracy: 0.92 - ETA: 3s - loss: 0.1914 - accuracy: 0.92 - ETA: 3s - loss: 0.1914 - accuracy: 0.92 - ETA: 2s - loss: 0.1913 - accuracy: 0.92 - ETA: 2s - loss: 0.1922 - accuracy: 0.92 - ETA: 2s - loss: 0.1920 - accuracy: 0.92 - ETA: 2s - loss: 0.1921 - accuracy: 0.92 - ETA: 2s - loss: 0.1928 - accuracy: 0.92 - ETA: 1s - loss: 0.1923 - accuracy: 0.92 - ETA: 1s - loss: 0.1929 - accuracy: 0.92 - ETA: 1s - loss: 0.1933 - accuracy: 0.92 - ETA: 1s - loss: 0.1932 - accuracy: 0.92 - ETA: 1s - loss: 0.1936 - accuracy: 0.92 - ETA: 0s - loss: 0.1930 - accuracy: 0.92 - ETA: 0s - loss: 0.1931 - accuracy: 0.92 - ETA: 0s - loss: 0.1944 - accuracy: 0.92 - ETA: 0s - loss: 0.1952 - accuracy: 0.92 - ETA: 0s - loss: 0.1951 - accuracy: 0.92 - 36s 214ms/step - loss: 0.1951 - accuracy: 0.9240 - val_loss: 0.4597 - val_accuracy: 0.8358\n",
      "Epoch 12/18\n"
     ]
    },
    {
     "name": "stdout",
     "output_type": "stream",
     "text": [
      "167/167 [==============================] - ETA: 34s - loss: 0.0932 - accuracy: 0.937 - ETA: 33s - loss: 0.1053 - accuracy: 0.953 - ETA: 33s - loss: 0.0978 - accuracy: 0.958 - ETA: 33s - loss: 0.0981 - accuracy: 0.960 - ETA: 33s - loss: 0.0923 - accuracy: 0.962 - ETA: 32s - loss: 0.0986 - accuracy: 0.963 - ETA: 32s - loss: 0.0988 - accuracy: 0.964 - ETA: 32s - loss: 0.0957 - accuracy: 0.968 - ETA: 32s - loss: 0.0910 - accuracy: 0.968 - ETA: 32s - loss: 0.0889 - accuracy: 0.971 - ETA: 32s - loss: 0.0864 - accuracy: 0.974 - ETA: 31s - loss: 0.0893 - accuracy: 0.971 - ETA: 31s - loss: 0.0866 - accuracy: 0.971 - ETA: 31s - loss: 0.0903 - accuracy: 0.966 - ETA: 31s - loss: 0.0968 - accuracy: 0.962 - ETA: 30s - loss: 0.0964 - accuracy: 0.962 - ETA: 30s - loss: 0.1094 - accuracy: 0.955 - ETA: 30s - loss: 0.1107 - accuracy: 0.954 - ETA: 30s - loss: 0.1143 - accuracy: 0.952 - ETA: 30s - loss: 0.1164 - accuracy: 0.951 - ETA: 29s - loss: 0.1177 - accuracy: 0.952 - ETA: 29s - loss: 0.1261 - accuracy: 0.948 - ETA: 29s - loss: 0.1247 - accuracy: 0.951 - ETA: 29s - loss: 0.1241 - accuracy: 0.950 - ETA: 28s - loss: 0.1236 - accuracy: 0.950 - ETA: 28s - loss: 0.1250 - accuracy: 0.949 - ETA: 28s - loss: 0.1276 - accuracy: 0.949 - ETA: 28s - loss: 0.1307 - accuracy: 0.947 - ETA: 27s - loss: 0.1301 - accuracy: 0.946 - ETA: 27s - loss: 0.1311 - accuracy: 0.944 - ETA: 27s - loss: 0.1301 - accuracy: 0.944 - ETA: 27s - loss: 0.1287 - accuracy: 0.945 - ETA: 27s - loss: 0.1293 - accuracy: 0.944 - ETA: 27s - loss: 0.1335 - accuracy: 0.943 - ETA: 26s - loss: 0.1325 - accuracy: 0.945 - ETA: 26s - loss: 0.1343 - accuracy: 0.944 - ETA: 26s - loss: 0.1327 - accuracy: 0.945 - ETA: 26s - loss: 0.1321 - accuracy: 0.944 - ETA: 26s - loss: 0.1331 - accuracy: 0.943 - ETA: 25s - loss: 0.1320 - accuracy: 0.943 - ETA: 25s - loss: 0.1315 - accuracy: 0.944 - ETA: 25s - loss: 0.1311 - accuracy: 0.944 - ETA: 25s - loss: 0.1339 - accuracy: 0.944 - ETA: 25s - loss: 0.1362 - accuracy: 0.944 - ETA: 25s - loss: 0.1377 - accuracy: 0.943 - ETA: 25s - loss: 0.1423 - accuracy: 0.942 - ETA: 24s - loss: 0.1447 - accuracy: 0.940 - ETA: 24s - loss: 0.1469 - accuracy: 0.938 - ETA: 24s - loss: 0.1463 - accuracy: 0.938 - ETA: 24s - loss: 0.1482 - accuracy: 0.936 - ETA: 24s - loss: 0.1471 - accuracy: 0.936 - ETA: 24s - loss: 0.1461 - accuracy: 0.936 - ETA: 23s - loss: 0.1464 - accuracy: 0.936 - ETA: 23s - loss: 0.1457 - accuracy: 0.936 - ETA: 23s - loss: 0.1450 - accuracy: 0.937 - ETA: 23s - loss: 0.1454 - accuracy: 0.937 - ETA: 23s - loss: 0.1451 - accuracy: 0.937 - ETA: 22s - loss: 0.1439 - accuracy: 0.938 - ETA: 22s - loss: 0.1431 - accuracy: 0.938 - ETA: 22s - loss: 0.1420 - accuracy: 0.939 - ETA: 22s - loss: 0.1442 - accuracy: 0.938 - ETA: 22s - loss: 0.1446 - accuracy: 0.938 - ETA: 22s - loss: 0.1460 - accuracy: 0.937 - ETA: 21s - loss: 0.1473 - accuracy: 0.937 - ETA: 21s - loss: 0.1476 - accuracy: 0.937 - ETA: 21s - loss: 0.1482 - accuracy: 0.937 - ETA: 21s - loss: 0.1488 - accuracy: 0.936 - ETA: 21s - loss: 0.1475 - accuracy: 0.937 - ETA: 20s - loss: 0.1472 - accuracy: 0.936 - ETA: 20s - loss: 0.1472 - accuracy: 0.936 - ETA: 20s - loss: 0.1457 - accuracy: 0.937 - ETA: 20s - loss: 0.1467 - accuracy: 0.937 - ETA: 20s - loss: 0.1460 - accuracy: 0.937 - ETA: 19s - loss: 0.1464 - accuracy: 0.937 - ETA: 19s - loss: 0.1455 - accuracy: 0.937 - ETA: 19s - loss: 0.1448 - accuracy: 0.937 - ETA: 19s - loss: 0.1442 - accuracy: 0.937 - ETA: 19s - loss: 0.1428 - accuracy: 0.938 - ETA: 18s - loss: 0.1441 - accuracy: 0.937 - ETA: 18s - loss: 0.1448 - accuracy: 0.936 - ETA: 18s - loss: 0.1442 - accuracy: 0.937 - ETA: 18s - loss: 0.1442 - accuracy: 0.937 - ETA: 17s - loss: 0.1441 - accuracy: 0.936 - ETA: 17s - loss: 0.1449 - accuracy: 0.936 - ETA: 17s - loss: 0.1444 - accuracy: 0.936 - ETA: 17s - loss: 0.1431 - accuracy: 0.936 - ETA: 16s - loss: 0.1444 - accuracy: 0.936 - ETA: 16s - loss: 0.1444 - accuracy: 0.936 - ETA: 16s - loss: 0.1436 - accuracy: 0.936 - ETA: 16s - loss: 0.1451 - accuracy: 0.936 - ETA: 16s - loss: 0.1453 - accuracy: 0.936 - ETA: 15s - loss: 0.1453 - accuracy: 0.936 - ETA: 15s - loss: 0.1461 - accuracy: 0.935 - ETA: 15s - loss: 0.1452 - accuracy: 0.936 - ETA: 15s - loss: 0.1451 - accuracy: 0.936 - ETA: 14s - loss: 0.1445 - accuracy: 0.936 - ETA: 14s - loss: 0.1447 - accuracy: 0.936 - ETA: 14s - loss: 0.1440 - accuracy: 0.936 - ETA: 14s - loss: 0.1437 - accuracy: 0.937 - ETA: 14s - loss: 0.1428 - accuracy: 0.937 - ETA: 13s - loss: 0.1428 - accuracy: 0.937 - ETA: 13s - loss: 0.1443 - accuracy: 0.937 - ETA: 13s - loss: 0.1439 - accuracy: 0.937 - ETA: 13s - loss: 0.1446 - accuracy: 0.937 - ETA: 13s - loss: 0.1470 - accuracy: 0.936 - ETA: 12s - loss: 0.1470 - accuracy: 0.936 - ETA: 12s - loss: 0.1472 - accuracy: 0.936 - ETA: 12s - loss: 0.1469 - accuracy: 0.936 - ETA: 12s - loss: 0.1460 - accuracy: 0.936 - ETA: 11s - loss: 0.1451 - accuracy: 0.937 - ETA: 11s - loss: 0.1476 - accuracy: 0.937 - ETA: 11s - loss: 0.1471 - accuracy: 0.937 - ETA: 11s - loss: 0.1475 - accuracy: 0.936 - ETA: 11s - loss: 0.1476 - accuracy: 0.936 - ETA: 10s - loss: 0.1470 - accuracy: 0.937 - ETA: 10s - loss: 0.1474 - accuracy: 0.937 - ETA: 10s - loss: 0.1475 - accuracy: 0.937 - ETA: 10s - loss: 0.1486 - accuracy: 0.937 - ETA: 10s - loss: 0.1489 - accuracy: 0.937 - ETA: 9s - loss: 0.1486 - accuracy: 0.937 - ETA: 9s - loss: 0.1477 - accuracy: 0.93 - ETA: 9s - loss: 0.1483 - accuracy: 0.93 - ETA: 9s - loss: 0.1475 - accuracy: 0.93 - ETA: 9s - loss: 0.1470 - accuracy: 0.93 - ETA: 8s - loss: 0.1461 - accuracy: 0.93 - ETA: 8s - loss: 0.1464 - accuracy: 0.93 - ETA: 8s - loss: 0.1458 - accuracy: 0.93 - ETA: 8s - loss: 0.1459 - accuracy: 0.93 - ETA: 7s - loss: 0.1455 - accuracy: 0.93 - ETA: 7s - loss: 0.1455 - accuracy: 0.93 - ETA: 7s - loss: 0.1453 - accuracy: 0.93 - ETA: 7s - loss: 0.1444 - accuracy: 0.93 - ETA: 7s - loss: 0.1443 - accuracy: 0.93 - ETA: 6s - loss: 0.1442 - accuracy: 0.93 - ETA: 6s - loss: 0.1437 - accuracy: 0.93 - ETA: 6s - loss: 0.1433 - accuracy: 0.93 - ETA: 6s - loss: 0.1427 - accuracy: 0.94 - ETA: 6s - loss: 0.1424 - accuracy: 0.94 - ETA: 5s - loss: 0.1422 - accuracy: 0.94 - ETA: 5s - loss: 0.1416 - accuracy: 0.94 - ETA: 5s - loss: 0.1428 - accuracy: 0.93 - ETA: 5s - loss: 0.1423 - accuracy: 0.94 - ETA: 5s - loss: 0.1424 - accuracy: 0.94 - ETA: 4s - loss: 0.1420 - accuracy: 0.94 - ETA: 4s - loss: 0.1427 - accuracy: 0.93 - ETA: 4s - loss: 0.1423 - accuracy: 0.93 - ETA: 4s - loss: 0.1415 - accuracy: 0.94 - ETA: 3s - loss: 0.1416 - accuracy: 0.94 - ETA: 3s - loss: 0.1419 - accuracy: 0.94 - ETA: 3s - loss: 0.1430 - accuracy: 0.93 - ETA: 3s - loss: 0.1427 - accuracy: 0.93 - ETA: 3s - loss: 0.1428 - accuracy: 0.93 - ETA: 2s - loss: 0.1431 - accuracy: 0.93 - ETA: 2s - loss: 0.1428 - accuracy: 0.93 - ETA: 2s - loss: 0.1441 - accuracy: 0.93 - ETA: 2s - loss: 0.1451 - accuracy: 0.93 - ETA: 2s - loss: 0.1453 - accuracy: 0.93 - ETA: 1s - loss: 0.1464 - accuracy: 0.93 - ETA: 1s - loss: 0.1461 - accuracy: 0.93 - ETA: 1s - loss: 0.1476 - accuracy: 0.93 - ETA: 1s - loss: 0.1479 - accuracy: 0.93 - ETA: 1s - loss: 0.1486 - accuracy: 0.93 - ETA: 0s - loss: 0.1492 - accuracy: 0.93 - ETA: 0s - loss: 0.1507 - accuracy: 0.93 - ETA: 0s - loss: 0.1503 - accuracy: 0.93 - ETA: 0s - loss: 0.1502 - accuracy: 0.93 - ETA: 0s - loss: 0.1502 - accuracy: 0.93 - 36s 217ms/step - loss: 0.1502 - accuracy: 0.9373 - val_loss: 0.4594 - val_accuracy: 0.8520\n",
      "Epoch 13/18\n"
     ]
    },
    {
     "name": "stdout",
     "output_type": "stream",
     "text": [
      "167/167 [==============================] - ETA: 35s - loss: 0.0818 - accuracy: 0.968 - ETA: 34s - loss: 0.1363 - accuracy: 0.937 - ETA: 34s - loss: 0.1652 - accuracy: 0.937 - ETA: 34s - loss: 0.1553 - accuracy: 0.953 - ETA: 33s - loss: 0.1794 - accuracy: 0.943 - ETA: 33s - loss: 0.1981 - accuracy: 0.942 - ETA: 33s - loss: 0.1778 - accuracy: 0.950 - ETA: 33s - loss: 0.1771 - accuracy: 0.949 - ETA: 32s - loss: 0.1905 - accuracy: 0.944 - ETA: 32s - loss: 0.1935 - accuracy: 0.943 - ETA: 32s - loss: 0.1876 - accuracy: 0.946 - ETA: 32s - loss: 0.1842 - accuracy: 0.947 - ETA: 31s - loss: 0.1789 - accuracy: 0.947 - ETA: 31s - loss: 0.1785 - accuracy: 0.948 - ETA: 31s - loss: 0.1736 - accuracy: 0.947 - ETA: 31s - loss: 0.1752 - accuracy: 0.943 - ETA: 31s - loss: 0.1815 - accuracy: 0.939 - ETA: 30s - loss: 0.1813 - accuracy: 0.939 - ETA: 30s - loss: 0.1766 - accuracy: 0.939 - ETA: 30s - loss: 0.1715 - accuracy: 0.940 - ETA: 30s - loss: 0.1698 - accuracy: 0.940 - ETA: 29s - loss: 0.1640 - accuracy: 0.943 - ETA: 29s - loss: 0.1639 - accuracy: 0.940 - ETA: 29s - loss: 0.1631 - accuracy: 0.942 - ETA: 28s - loss: 0.1578 - accuracy: 0.945 - ETA: 28s - loss: 0.1572 - accuracy: 0.943 - ETA: 28s - loss: 0.1569 - accuracy: 0.943 - ETA: 28s - loss: 0.1533 - accuracy: 0.945 - ETA: 27s - loss: 0.1509 - accuracy: 0.946 - ETA: 27s - loss: 0.1520 - accuracy: 0.945 - ETA: 27s - loss: 0.1551 - accuracy: 0.944 - ETA: 27s - loss: 0.1579 - accuracy: 0.942 - ETA: 27s - loss: 0.1566 - accuracy: 0.942 - ETA: 26s - loss: 0.1544 - accuracy: 0.943 - ETA: 26s - loss: 0.1528 - accuracy: 0.944 - ETA: 26s - loss: 0.1534 - accuracy: 0.944 - ETA: 26s - loss: 0.1571 - accuracy: 0.944 - ETA: 25s - loss: 0.1599 - accuracy: 0.941 - ETA: 25s - loss: 0.1598 - accuracy: 0.942 - ETA: 25s - loss: 0.1582 - accuracy: 0.943 - ETA: 25s - loss: 0.1546 - accuracy: 0.944 - ETA: 25s - loss: 0.1522 - accuracy: 0.945 - ETA: 24s - loss: 0.1525 - accuracy: 0.946 - ETA: 24s - loss: 0.1524 - accuracy: 0.945 - ETA: 24s - loss: 0.1553 - accuracy: 0.943 - ETA: 24s - loss: 0.1546 - accuracy: 0.944 - ETA: 24s - loss: 0.1517 - accuracy: 0.945 - ETA: 23s - loss: 0.1527 - accuracy: 0.944 - ETA: 23s - loss: 0.1506 - accuracy: 0.944 - ETA: 23s - loss: 0.1483 - accuracy: 0.945 - ETA: 23s - loss: 0.1490 - accuracy: 0.945 - ETA: 23s - loss: 0.1495 - accuracy: 0.944 - ETA: 22s - loss: 0.1493 - accuracy: 0.944 - ETA: 22s - loss: 0.1494 - accuracy: 0.944 - ETA: 22s - loss: 0.1472 - accuracy: 0.945 - ETA: 22s - loss: 0.1495 - accuracy: 0.945 - ETA: 22s - loss: 0.1481 - accuracy: 0.945 - ETA: 21s - loss: 0.1465 - accuracy: 0.946 - ETA: 21s - loss: 0.1462 - accuracy: 0.947 - ETA: 21s - loss: 0.1457 - accuracy: 0.947 - ETA: 21s - loss: 0.1457 - accuracy: 0.947 - ETA: 21s - loss: 0.1454 - accuracy: 0.947 - ETA: 20s - loss: 0.1454 - accuracy: 0.946 - ETA: 20s - loss: 0.1466 - accuracy: 0.946 - ETA: 20s - loss: 0.1457 - accuracy: 0.946 - ETA: 20s - loss: 0.1498 - accuracy: 0.945 - ETA: 20s - loss: 0.1521 - accuracy: 0.944 - ETA: 19s - loss: 0.1516 - accuracy: 0.943 - ETA: 19s - loss: 0.1523 - accuracy: 0.943 - ETA: 19s - loss: 0.1523 - accuracy: 0.943 - ETA: 19s - loss: 0.1535 - accuracy: 0.942 - ETA: 18s - loss: 0.1545 - accuracy: 0.942 - ETA: 18s - loss: 0.1539 - accuracy: 0.943 - ETA: 18s - loss: 0.1550 - accuracy: 0.942 - ETA: 18s - loss: 0.1554 - accuracy: 0.942 - ETA: 18s - loss: 0.1562 - accuracy: 0.941 - ETA: 17s - loss: 0.1549 - accuracy: 0.942 - ETA: 17s - loss: 0.1538 - accuracy: 0.942 - ETA: 17s - loss: 0.1545 - accuracy: 0.941 - ETA: 17s - loss: 0.1564 - accuracy: 0.940 - ETA: 17s - loss: 0.1565 - accuracy: 0.940 - ETA: 16s - loss: 0.1567 - accuracy: 0.940 - ETA: 16s - loss: 0.1573 - accuracy: 0.940 - ETA: 16s - loss: 0.1560 - accuracy: 0.940 - ETA: 16s - loss: 0.1562 - accuracy: 0.940 - ETA: 16s - loss: 0.1595 - accuracy: 0.939 - ETA: 15s - loss: 0.1582 - accuracy: 0.940 - ETA: 15s - loss: 0.1581 - accuracy: 0.940 - ETA: 15s - loss: 0.1582 - accuracy: 0.939 - ETA: 15s - loss: 0.1596 - accuracy: 0.939 - ETA: 15s - loss: 0.1604 - accuracy: 0.938 - ETA: 14s - loss: 0.1611 - accuracy: 0.938 - ETA: 14s - loss: 0.1602 - accuracy: 0.938 - ETA: 14s - loss: 0.1595 - accuracy: 0.939 - ETA: 14s - loss: 0.1590 - accuracy: 0.938 - ETA: 14s - loss: 0.1581 - accuracy: 0.938 - ETA: 13s - loss: 0.1571 - accuracy: 0.939 - ETA: 13s - loss: 0.1568 - accuracy: 0.939 - ETA: 13s - loss: 0.1562 - accuracy: 0.939 - ETA: 13s - loss: 0.1563 - accuracy: 0.939 - ETA: 13s - loss: 0.1581 - accuracy: 0.939 - ETA: 12s - loss: 0.1569 - accuracy: 0.940 - ETA: 12s - loss: 0.1558 - accuracy: 0.940 - ETA: 12s - loss: 0.1561 - accuracy: 0.940 - ETA: 12s - loss: 0.1580 - accuracy: 0.939 - ETA: 12s - loss: 0.1580 - accuracy: 0.939 - ETA: 11s - loss: 0.1582 - accuracy: 0.940 - ETA: 11s - loss: 0.1578 - accuracy: 0.940 - ETA: 11s - loss: 0.1580 - accuracy: 0.940 - ETA: 11s - loss: 0.1570 - accuracy: 0.940 - ETA: 11s - loss: 0.1564 - accuracy: 0.940 - ETA: 10s - loss: 0.1585 - accuracy: 0.939 - ETA: 10s - loss: 0.1583 - accuracy: 0.939 - ETA: 10s - loss: 0.1588 - accuracy: 0.939 - ETA: 10s - loss: 0.1581 - accuracy: 0.939 - ETA: 10s - loss: 0.1583 - accuracy: 0.939 - ETA: 10s - loss: 0.1582 - accuracy: 0.939 - ETA: 9s - loss: 0.1583 - accuracy: 0.939 - ETA: 9s - loss: 0.1587 - accuracy: 0.93 - ETA: 9s - loss: 0.1580 - accuracy: 0.93 - ETA: 9s - loss: 0.1574 - accuracy: 0.93 - ETA: 9s - loss: 0.1583 - accuracy: 0.93 - ETA: 8s - loss: 0.1606 - accuracy: 0.93 - ETA: 8s - loss: 0.1598 - accuracy: 0.93 - ETA: 8s - loss: 0.1587 - accuracy: 0.93 - ETA: 8s - loss: 0.1585 - accuracy: 0.93 - ETA: 8s - loss: 0.1579 - accuracy: 0.93 - ETA: 7s - loss: 0.1574 - accuracy: 0.93 - ETA: 7s - loss: 0.1571 - accuracy: 0.93 - ETA: 7s - loss: 0.1566 - accuracy: 0.93 - ETA: 7s - loss: 0.1562 - accuracy: 0.93 - ETA: 7s - loss: 0.1560 - accuracy: 0.93 - ETA: 6s - loss: 0.1555 - accuracy: 0.93 - ETA: 6s - loss: 0.1549 - accuracy: 0.94 - ETA: 6s - loss: 0.1553 - accuracy: 0.93 - ETA: 6s - loss: 0.1568 - accuracy: 0.93 - ETA: 6s - loss: 0.1563 - accuracy: 0.93 - ETA: 5s - loss: 0.1556 - accuracy: 0.94 - ETA: 5s - loss: 0.1551 - accuracy: 0.94 - ETA: 5s - loss: 0.1547 - accuracy: 0.94 - ETA: 5s - loss: 0.1541 - accuracy: 0.94 - ETA: 5s - loss: 0.1535 - accuracy: 0.94 - ETA: 4s - loss: 0.1538 - accuracy: 0.94 - ETA: 4s - loss: 0.1534 - accuracy: 0.94 - ETA: 4s - loss: 0.1527 - accuracy: 0.94 - ETA: 4s - loss: 0.1524 - accuracy: 0.94 - ETA: 4s - loss: 0.1531 - accuracy: 0.94 - ETA: 3s - loss: 0.1526 - accuracy: 0.94 - ETA: 3s - loss: 0.1539 - accuracy: 0.94 - ETA: 3s - loss: 0.1540 - accuracy: 0.94 - ETA: 3s - loss: 0.1535 - accuracy: 0.94 - ETA: 3s - loss: 0.1535 - accuracy: 0.94 - ETA: 2s - loss: 0.1536 - accuracy: 0.94 - ETA: 2s - loss: 0.1537 - accuracy: 0.93 - ETA: 2s - loss: 0.1535 - accuracy: 0.93 - ETA: 2s - loss: 0.1542 - accuracy: 0.93 - ETA: 2s - loss: 0.1534 - accuracy: 0.93 - ETA: 1s - loss: 0.1539 - accuracy: 0.93 - ETA: 1s - loss: 0.1535 - accuracy: 0.93 - ETA: 1s - loss: 0.1531 - accuracy: 0.94 - ETA: 1s - loss: 0.1526 - accuracy: 0.94 - ETA: 1s - loss: 0.1522 - accuracy: 0.94 - ETA: 0s - loss: 0.1524 - accuracy: 0.94 - ETA: 0s - loss: 0.1523 - accuracy: 0.94 - ETA: 0s - loss: 0.1524 - accuracy: 0.94 - ETA: 0s - loss: 0.1524 - accuracy: 0.94 - ETA: 0s - loss: 0.1524 - accuracy: 0.94 - 35s 209ms/step - loss: 0.1524 - accuracy: 0.9401 - val_loss: 0.5070 - val_accuracy: 0.8428\n",
      "Epoch 14/18\n"
     ]
    },
    {
     "name": "stdout",
     "output_type": "stream",
     "text": [
      "167/167 [==============================] - ETA: 33s - loss: 0.1469 - accuracy: 0.937 - ETA: 32s - loss: 0.0921 - accuracy: 0.968 - ETA: 31s - loss: 0.1376 - accuracy: 0.947 - ETA: 32s - loss: 0.1285 - accuracy: 0.945 - ETA: 32s - loss: 0.1390 - accuracy: 0.943 - ETA: 32s - loss: 0.1243 - accuracy: 0.953 - ETA: 32s - loss: 0.1191 - accuracy: 0.950 - ETA: 31s - loss: 0.1211 - accuracy: 0.949 - ETA: 31s - loss: 0.1334 - accuracy: 0.947 - ETA: 31s - loss: 0.1374 - accuracy: 0.950 - ETA: 30s - loss: 0.1294 - accuracy: 0.951 - ETA: 30s - loss: 0.1255 - accuracy: 0.955 - ETA: 30s - loss: 0.1216 - accuracy: 0.956 - ETA: 30s - loss: 0.1195 - accuracy: 0.957 - ETA: 30s - loss: 0.1132 - accuracy: 0.960 - ETA: 30s - loss: 0.1144 - accuracy: 0.959 - ETA: 29s - loss: 0.1105 - accuracy: 0.961 - ETA: 29s - loss: 0.1049 - accuracy: 0.963 - ETA: 29s - loss: 0.1015 - accuracy: 0.963 - ETA: 29s - loss: 0.1102 - accuracy: 0.962 - ETA: 29s - loss: 0.1122 - accuracy: 0.962 - ETA: 29s - loss: 0.1092 - accuracy: 0.964 - ETA: 28s - loss: 0.1086 - accuracy: 0.963 - ETA: 28s - loss: 0.1097 - accuracy: 0.962 - ETA: 28s - loss: 0.1115 - accuracy: 0.958 - ETA: 27s - loss: 0.1085 - accuracy: 0.960 - ETA: 27s - loss: 0.1084 - accuracy: 0.959 - ETA: 27s - loss: 0.1079 - accuracy: 0.959 - ETA: 27s - loss: 0.1145 - accuracy: 0.958 - ETA: 27s - loss: 0.1145 - accuracy: 0.956 - ETA: 26s - loss: 0.1120 - accuracy: 0.957 - ETA: 26s - loss: 0.1098 - accuracy: 0.958 - ETA: 26s - loss: 0.1075 - accuracy: 0.959 - ETA: 26s - loss: 0.1068 - accuracy: 0.959 - ETA: 26s - loss: 0.1050 - accuracy: 0.959 - ETA: 25s - loss: 0.1051 - accuracy: 0.959 - ETA: 25s - loss: 0.1085 - accuracy: 0.957 - ETA: 25s - loss: 0.1066 - accuracy: 0.958 - ETA: 25s - loss: 0.1044 - accuracy: 0.959 - ETA: 24s - loss: 0.1058 - accuracy: 0.960 - ETA: 24s - loss: 0.1091 - accuracy: 0.959 - ETA: 24s - loss: 0.1127 - accuracy: 0.956 - ETA: 24s - loss: 0.1172 - accuracy: 0.954 - ETA: 24s - loss: 0.1158 - accuracy: 0.956 - ETA: 23s - loss: 0.1190 - accuracy: 0.954 - ETA: 23s - loss: 0.1169 - accuracy: 0.955 - ETA: 23s - loss: 0.1178 - accuracy: 0.954 - ETA: 23s - loss: 0.1186 - accuracy: 0.953 - ETA: 23s - loss: 0.1174 - accuracy: 0.954 - ETA: 22s - loss: 0.1193 - accuracy: 0.953 - ETA: 22s - loss: 0.1203 - accuracy: 0.952 - ETA: 22s - loss: 0.1201 - accuracy: 0.952 - ETA: 22s - loss: 0.1192 - accuracy: 0.952 - ETA: 22s - loss: 0.1184 - accuracy: 0.952 - ETA: 21s - loss: 0.1210 - accuracy: 0.950 - ETA: 21s - loss: 0.1207 - accuracy: 0.949 - ETA: 21s - loss: 0.1247 - accuracy: 0.948 - ETA: 21s - loss: 0.1297 - accuracy: 0.947 - ETA: 21s - loss: 0.1303 - accuracy: 0.946 - ETA: 20s - loss: 0.1314 - accuracy: 0.946 - ETA: 20s - loss: 0.1301 - accuracy: 0.947 - ETA: 20s - loss: 0.1317 - accuracy: 0.946 - ETA: 20s - loss: 0.1321 - accuracy: 0.946 - ETA: 20s - loss: 0.1328 - accuracy: 0.945 - ETA: 19s - loss: 0.1313 - accuracy: 0.946 - ETA: 19s - loss: 0.1324 - accuracy: 0.945 - ETA: 19s - loss: 0.1351 - accuracy: 0.945 - ETA: 19s - loss: 0.1357 - accuracy: 0.944 - ETA: 19s - loss: 0.1352 - accuracy: 0.944 - ETA: 18s - loss: 0.1347 - accuracy: 0.945 - ETA: 18s - loss: 0.1333 - accuracy: 0.945 - ETA: 18s - loss: 0.1325 - accuracy: 0.946 - ETA: 18s - loss: 0.1317 - accuracy: 0.946 - ETA: 18s - loss: 0.1311 - accuracy: 0.947 - ETA: 17s - loss: 0.1305 - accuracy: 0.947 - ETA: 17s - loss: 0.1294 - accuracy: 0.947 - ETA: 17s - loss: 0.1302 - accuracy: 0.947 - ETA: 17s - loss: 0.1300 - accuracy: 0.947 - ETA: 17s - loss: 0.1293 - accuracy: 0.947 - ETA: 17s - loss: 0.1302 - accuracy: 0.947 - ETA: 16s - loss: 0.1292 - accuracy: 0.947 - ETA: 16s - loss: 0.1289 - accuracy: 0.948 - ETA: 16s - loss: 0.1307 - accuracy: 0.947 - ETA: 16s - loss: 0.1302 - accuracy: 0.947 - ETA: 16s - loss: 0.1320 - accuracy: 0.947 - ETA: 15s - loss: 0.1335 - accuracy: 0.947 - ETA: 15s - loss: 0.1323 - accuracy: 0.948 - ETA: 15s - loss: 0.1321 - accuracy: 0.948 - ETA: 15s - loss: 0.1309 - accuracy: 0.948 - ETA: 15s - loss: 0.1306 - accuracy: 0.949 - ETA: 14s - loss: 0.1304 - accuracy: 0.949 - ETA: 14s - loss: 0.1333 - accuracy: 0.948 - ETA: 14s - loss: 0.1333 - accuracy: 0.948 - ETA: 14s - loss: 0.1328 - accuracy: 0.948 - ETA: 14s - loss: 0.1341 - accuracy: 0.947 - ETA: 13s - loss: 0.1339 - accuracy: 0.947 - ETA: 13s - loss: 0.1345 - accuracy: 0.947 - ETA: 13s - loss: 0.1358 - accuracy: 0.946 - ETA: 13s - loss: 0.1367 - accuracy: 0.945 - ETA: 13s - loss: 0.1361 - accuracy: 0.945 - ETA: 12s - loss: 0.1351 - accuracy: 0.946 - ETA: 12s - loss: 0.1343 - accuracy: 0.946 - ETA: 12s - loss: 0.1346 - accuracy: 0.946 - ETA: 12s - loss: 0.1362 - accuracy: 0.945 - ETA: 12s - loss: 0.1371 - accuracy: 0.944 - ETA: 11s - loss: 0.1363 - accuracy: 0.944 - ETA: 11s - loss: 0.1358 - accuracy: 0.945 - ETA: 11s - loss: 0.1351 - accuracy: 0.945 - ETA: 11s - loss: 0.1344 - accuracy: 0.946 - ETA: 11s - loss: 0.1364 - accuracy: 0.945 - ETA: 11s - loss: 0.1358 - accuracy: 0.945 - ETA: 10s - loss: 0.1357 - accuracy: 0.945 - ETA: 10s - loss: 0.1365 - accuracy: 0.945 - ETA: 10s - loss: 0.1356 - accuracy: 0.945 - ETA: 10s - loss: 0.1360 - accuracy: 0.945 - ETA: 10s - loss: 0.1354 - accuracy: 0.945 - ETA: 9s - loss: 0.1347 - accuracy: 0.946 - ETA: 9s - loss: 0.1341 - accuracy: 0.94 - ETA: 9s - loss: 0.1335 - accuracy: 0.94 - ETA: 9s - loss: 0.1335 - accuracy: 0.94 - ETA: 9s - loss: 0.1328 - accuracy: 0.94 - ETA: 8s - loss: 0.1326 - accuracy: 0.94 - ETA: 8s - loss: 0.1333 - accuracy: 0.94 - ETA: 8s - loss: 0.1331 - accuracy: 0.94 - ETA: 8s - loss: 0.1333 - accuracy: 0.94 - ETA: 8s - loss: 0.1339 - accuracy: 0.94 - ETA: 7s - loss: 0.1337 - accuracy: 0.94 - ETA: 7s - loss: 0.1336 - accuracy: 0.94 - ETA: 7s - loss: 0.1335 - accuracy: 0.94 - ETA: 7s - loss: 0.1336 - accuracy: 0.94 - ETA: 7s - loss: 0.1331 - accuracy: 0.94 - ETA: 6s - loss: 0.1330 - accuracy: 0.94 - ETA: 6s - loss: 0.1327 - accuracy: 0.94 - ETA: 6s - loss: 0.1324 - accuracy: 0.94 - ETA: 6s - loss: 0.1324 - accuracy: 0.94 - ETA: 6s - loss: 0.1317 - accuracy: 0.94 - ETA: 5s - loss: 0.1317 - accuracy: 0.94 - ETA: 5s - loss: 0.1325 - accuracy: 0.94 - ETA: 5s - loss: 0.1323 - accuracy: 0.94 - ETA: 5s - loss: 0.1326 - accuracy: 0.94 - ETA: 5s - loss: 0.1330 - accuracy: 0.94 - ETA: 4s - loss: 0.1332 - accuracy: 0.94 - ETA: 4s - loss: 0.1329 - accuracy: 0.94 - ETA: 4s - loss: 0.1336 - accuracy: 0.94 - ETA: 4s - loss: 0.1328 - accuracy: 0.94 - ETA: 4s - loss: 0.1323 - accuracy: 0.94 - ETA: 3s - loss: 0.1325 - accuracy: 0.94 - ETA: 3s - loss: 0.1325 - accuracy: 0.94 - ETA: 3s - loss: 0.1332 - accuracy: 0.94 - ETA: 3s - loss: 0.1329 - accuracy: 0.94 - ETA: 3s - loss: 0.1328 - accuracy: 0.94 - ETA: 2s - loss: 0.1331 - accuracy: 0.94 - ETA: 2s - loss: 0.1326 - accuracy: 0.94 - ETA: 2s - loss: 0.1321 - accuracy: 0.94 - ETA: 2s - loss: 0.1320 - accuracy: 0.94 - ETA: 2s - loss: 0.1324 - accuracy: 0.94 - ETA: 1s - loss: 0.1321 - accuracy: 0.94 - ETA: 1s - loss: 0.1314 - accuracy: 0.94 - ETA: 1s - loss: 0.1312 - accuracy: 0.94 - ETA: 1s - loss: 0.1324 - accuracy: 0.94 - ETA: 1s - loss: 0.1323 - accuracy: 0.94 - ETA: 1s - loss: 0.1319 - accuracy: 0.94 - ETA: 0s - loss: 0.1315 - accuracy: 0.94 - ETA: 0s - loss: 0.1312 - accuracy: 0.94 - ETA: 0s - loss: 0.1314 - accuracy: 0.94 - ETA: 0s - loss: 0.1308 - accuracy: 0.94 - ETA: 0s - loss: 0.1308 - accuracy: 0.94 - 35s 212ms/step - loss: 0.1308 - accuracy: 0.9456 - val_loss: 0.4887 - val_accuracy: 0.8486\n",
      "Epoch 15/18\n"
     ]
    },
    {
     "name": "stdout",
     "output_type": "stream",
     "text": [
      "167/167 [==============================] - ETA: 32s - loss: 0.1725 - accuracy: 0.937 - ETA: 33s - loss: 0.1099 - accuracy: 0.953 - ETA: 32s - loss: 0.0966 - accuracy: 0.968 - ETA: 33s - loss: 0.1002 - accuracy: 0.960 - ETA: 35s - loss: 0.0902 - accuracy: 0.968 - ETA: 35s - loss: 0.0924 - accuracy: 0.968 - ETA: 35s - loss: 0.1041 - accuracy: 0.955 - ETA: 35s - loss: 0.0943 - accuracy: 0.960 - ETA: 34s - loss: 0.0974 - accuracy: 0.954 - ETA: 34s - loss: 0.0963 - accuracy: 0.953 - ETA: 34s - loss: 0.1008 - accuracy: 0.946 - ETA: 34s - loss: 0.0993 - accuracy: 0.947 - ETA: 35s - loss: 0.1101 - accuracy: 0.947 - ETA: 35s - loss: 0.1069 - accuracy: 0.948 - ETA: 34s - loss: 0.1054 - accuracy: 0.947 - ETA: 34s - loss: 0.1128 - accuracy: 0.947 - ETA: 34s - loss: 0.1088 - accuracy: 0.950 - ETA: 33s - loss: 0.1050 - accuracy: 0.951 - ETA: 33s - loss: 0.1040 - accuracy: 0.952 - ETA: 33s - loss: 0.1028 - accuracy: 0.953 - ETA: 32s - loss: 0.1017 - accuracy: 0.953 - ETA: 32s - loss: 0.1008 - accuracy: 0.954 - ETA: 32s - loss: 0.1020 - accuracy: 0.953 - ETA: 32s - loss: 0.1009 - accuracy: 0.954 - ETA: 31s - loss: 0.1068 - accuracy: 0.953 - ETA: 31s - loss: 0.1035 - accuracy: 0.955 - ETA: 31s - loss: 0.1044 - accuracy: 0.954 - ETA: 31s - loss: 0.1096 - accuracy: 0.954 - ETA: 30s - loss: 0.1086 - accuracy: 0.954 - ETA: 30s - loss: 0.1053 - accuracy: 0.956 - ETA: 30s - loss: 0.1115 - accuracy: 0.953 - ETA: 30s - loss: 0.1143 - accuracy: 0.952 - ETA: 29s - loss: 0.1123 - accuracy: 0.953 - ETA: 29s - loss: 0.1113 - accuracy: 0.954 - ETA: 29s - loss: 0.1138 - accuracy: 0.952 - ETA: 29s - loss: 0.1133 - accuracy: 0.952 - ETA: 28s - loss: 0.1134 - accuracy: 0.951 - ETA: 28s - loss: 0.1193 - accuracy: 0.950 - ETA: 28s - loss: 0.1202 - accuracy: 0.949 - ETA: 28s - loss: 0.1223 - accuracy: 0.949 - ETA: 27s - loss: 0.1198 - accuracy: 0.950 - ETA: 27s - loss: 0.1226 - accuracy: 0.948 - ETA: 27s - loss: 0.1266 - accuracy: 0.947 - ETA: 27s - loss: 0.1296 - accuracy: 0.946 - ETA: 26s - loss: 0.1314 - accuracy: 0.945 - ETA: 26s - loss: 0.1316 - accuracy: 0.945 - ETA: 26s - loss: 0.1310 - accuracy: 0.945 - ETA: 26s - loss: 0.1305 - accuracy: 0.945 - ETA: 26s - loss: 0.1306 - accuracy: 0.945 - ETA: 26s - loss: 0.1294 - accuracy: 0.945 - ETA: 25s - loss: 0.1276 - accuracy: 0.946 - ETA: 25s - loss: 0.1276 - accuracy: 0.946 - ETA: 25s - loss: 0.1272 - accuracy: 0.946 - ETA: 25s - loss: 0.1259 - accuracy: 0.947 - ETA: 25s - loss: 0.1256 - accuracy: 0.947 - ETA: 24s - loss: 0.1264 - accuracy: 0.945 - ETA: 24s - loss: 0.1254 - accuracy: 0.946 - ETA: 24s - loss: 0.1240 - accuracy: 0.946 - ETA: 24s - loss: 0.1226 - accuracy: 0.947 - ETA: 24s - loss: 0.1223 - accuracy: 0.946 - ETA: 23s - loss: 0.1209 - accuracy: 0.947 - ETA: 23s - loss: 0.1192 - accuracy: 0.948 - ETA: 23s - loss: 0.1175 - accuracy: 0.948 - ETA: 23s - loss: 0.1184 - accuracy: 0.948 - ETA: 23s - loss: 0.1194 - accuracy: 0.948 - ETA: 22s - loss: 0.1185 - accuracy: 0.948 - ETA: 22s - loss: 0.1178 - accuracy: 0.948 - ETA: 22s - loss: 0.1169 - accuracy: 0.949 - ETA: 22s - loss: 0.1161 - accuracy: 0.949 - ETA: 22s - loss: 0.1160 - accuracy: 0.949 - ETA: 21s - loss: 0.1156 - accuracy: 0.949 - ETA: 21s - loss: 0.1194 - accuracy: 0.948 - ETA: 21s - loss: 0.1207 - accuracy: 0.948 - ETA: 21s - loss: 0.1203 - accuracy: 0.948 - ETA: 20s - loss: 0.1197 - accuracy: 0.948 - ETA: 20s - loss: 0.1192 - accuracy: 0.949 - ETA: 20s - loss: 0.1198 - accuracy: 0.948 - ETA: 20s - loss: 0.1226 - accuracy: 0.947 - ETA: 20s - loss: 0.1222 - accuracy: 0.947 - ETA: 19s - loss: 0.1219 - accuracy: 0.947 - ETA: 19s - loss: 0.1233 - accuracy: 0.946 - ETA: 19s - loss: 0.1242 - accuracy: 0.945 - ETA: 19s - loss: 0.1251 - accuracy: 0.945 - ETA: 19s - loss: 0.1259 - accuracy: 0.944 - ETA: 18s - loss: 0.1269 - accuracy: 0.943 - ETA: 18s - loss: 0.1275 - accuracy: 0.942 - ETA: 18s - loss: 0.1274 - accuracy: 0.942 - ETA: 18s - loss: 0.1275 - accuracy: 0.942 - ETA: 18s - loss: 0.1269 - accuracy: 0.942 - ETA: 17s - loss: 0.1275 - accuracy: 0.942 - ETA: 17s - loss: 0.1269 - accuracy: 0.942 - ETA: 17s - loss: 0.1269 - accuracy: 0.941 - ETA: 17s - loss: 0.1284 - accuracy: 0.941 - ETA: 16s - loss: 0.1274 - accuracy: 0.942 - ETA: 16s - loss: 0.1291 - accuracy: 0.941 - ETA: 16s - loss: 0.1309 - accuracy: 0.940 - ETA: 16s - loss: 0.1299 - accuracy: 0.941 - ETA: 15s - loss: 0.1291 - accuracy: 0.941 - ETA: 15s - loss: 0.1289 - accuracy: 0.941 - ETA: 15s - loss: 0.1284 - accuracy: 0.941 - ETA: 15s - loss: 0.1275 - accuracy: 0.942 - ETA: 15s - loss: 0.1267 - accuracy: 0.942 - ETA: 14s - loss: 0.1260 - accuracy: 0.943 - ETA: 14s - loss: 0.1257 - accuracy: 0.943 - ETA: 14s - loss: 0.1247 - accuracy: 0.944 - ETA: 14s - loss: 0.1243 - accuracy: 0.944 - ETA: 13s - loss: 0.1242 - accuracy: 0.944 - ETA: 13s - loss: 0.1248 - accuracy: 0.944 - ETA: 13s - loss: 0.1244 - accuracy: 0.944 - ETA: 13s - loss: 0.1258 - accuracy: 0.944 - ETA: 12s - loss: 0.1260 - accuracy: 0.944 - ETA: 12s - loss: 0.1262 - accuracy: 0.944 - ETA: 12s - loss: 0.1265 - accuracy: 0.943 - ETA: 12s - loss: 0.1270 - accuracy: 0.943 - ETA: 12s - loss: 0.1268 - accuracy: 0.943 - ETA: 11s - loss: 0.1269 - accuracy: 0.943 - ETA: 11s - loss: 0.1270 - accuracy: 0.943 - ETA: 11s - loss: 0.1270 - accuracy: 0.943 - ETA: 11s - loss: 0.1268 - accuracy: 0.942 - ETA: 10s - loss: 0.1260 - accuracy: 0.943 - ETA: 10s - loss: 0.1251 - accuracy: 0.943 - ETA: 10s - loss: 0.1255 - accuracy: 0.943 - ETA: 10s - loss: 0.1251 - accuracy: 0.943 - ETA: 9s - loss: 0.1250 - accuracy: 0.943 - ETA: 9s - loss: 0.1257 - accuracy: 0.94 - ETA: 9s - loss: 0.1254 - accuracy: 0.94 - ETA: 9s - loss: 0.1250 - accuracy: 0.94 - ETA: 9s - loss: 0.1257 - accuracy: 0.94 - ETA: 8s - loss: 0.1251 - accuracy: 0.94 - ETA: 8s - loss: 0.1267 - accuracy: 0.94 - ETA: 8s - loss: 0.1263 - accuracy: 0.94 - ETA: 8s - loss: 0.1273 - accuracy: 0.94 - ETA: 7s - loss: 0.1274 - accuracy: 0.94 - ETA: 7s - loss: 0.1273 - accuracy: 0.94 - ETA: 7s - loss: 0.1269 - accuracy: 0.94 - ETA: 7s - loss: 0.1275 - accuracy: 0.94 - ETA: 6s - loss: 0.1270 - accuracy: 0.94 - ETA: 6s - loss: 0.1269 - accuracy: 0.94 - ETA: 6s - loss: 0.1276 - accuracy: 0.94 - ETA: 6s - loss: 0.1292 - accuracy: 0.94 - ETA: 6s - loss: 0.1291 - accuracy: 0.94 - ETA: 5s - loss: 0.1284 - accuracy: 0.94 - ETA: 5s - loss: 0.1284 - accuracy: 0.94 - ETA: 5s - loss: 0.1294 - accuracy: 0.94 - ETA: 5s - loss: 0.1287 - accuracy: 0.94 - ETA: 4s - loss: 0.1281 - accuracy: 0.94 - ETA: 4s - loss: 0.1288 - accuracy: 0.94 - ETA: 4s - loss: 0.1285 - accuracy: 0.94 - ETA: 4s - loss: 0.1287 - accuracy: 0.94 - ETA: 3s - loss: 0.1292 - accuracy: 0.94 - ETA: 3s - loss: 0.1294 - accuracy: 0.94 - ETA: 3s - loss: 0.1287 - accuracy: 0.94 - ETA: 3s - loss: 0.1282 - accuracy: 0.94 - ETA: 3s - loss: 0.1287 - accuracy: 0.94 - ETA: 2s - loss: 0.1282 - accuracy: 0.94 - ETA: 2s - loss: 0.1276 - accuracy: 0.94 - ETA: 2s - loss: 0.1286 - accuracy: 0.94 - ETA: 2s - loss: 0.1285 - accuracy: 0.94 - ETA: 1s - loss: 0.1279 - accuracy: 0.94 - ETA: 1s - loss: 0.1295 - accuracy: 0.94 - ETA: 1s - loss: 0.1289 - accuracy: 0.94 - ETA: 1s - loss: 0.1284 - accuracy: 0.94 - ETA: 0s - loss: 0.1281 - accuracy: 0.94 - ETA: 0s - loss: 0.1282 - accuracy: 0.94 - ETA: 0s - loss: 0.1282 - accuracy: 0.94 - ETA: 0s - loss: 0.1282 - accuracy: 0.94 - ETA: 0s - loss: 0.1282 - accuracy: 0.94 - 40s 240ms/step - loss: 0.1282 - accuracy: 0.9428 - val_loss: 0.5061 - val_accuracy: 0.8555\n",
      "Epoch 16/18\n"
     ]
    },
    {
     "name": "stdout",
     "output_type": "stream",
     "text": [
      "167/167 [==============================] - ETA: 40s - loss: 0.0845 - accuracy: 0.968 - ETA: 44s - loss: 0.1435 - accuracy: 0.937 - ETA: 43s - loss: 0.1203 - accuracy: 0.947 - ETA: 41s - loss: 0.1274 - accuracy: 0.945 - ETA: 41s - loss: 0.1234 - accuracy: 0.943 - ETA: 40s - loss: 0.1633 - accuracy: 0.942 - ETA: 40s - loss: 0.1520 - accuracy: 0.950 - ETA: 39s - loss: 0.1384 - accuracy: 0.957 - ETA: 38s - loss: 0.1300 - accuracy: 0.958 - ETA: 37s - loss: 0.1357 - accuracy: 0.956 - ETA: 36s - loss: 0.1323 - accuracy: 0.957 - ETA: 36s - loss: 0.1348 - accuracy: 0.955 - ETA: 35s - loss: 0.1340 - accuracy: 0.956 - ETA: 35s - loss: 0.1299 - accuracy: 0.957 - ETA: 34s - loss: 0.1370 - accuracy: 0.954 - ETA: 34s - loss: 0.1295 - accuracy: 0.957 - ETA: 34s - loss: 0.1287 - accuracy: 0.957 - ETA: 34s - loss: 0.1244 - accuracy: 0.960 - ETA: 34s - loss: 0.1229 - accuracy: 0.960 - ETA: 34s - loss: 0.1233 - accuracy: 0.959 - ETA: 34s - loss: 0.1212 - accuracy: 0.958 - ETA: 33s - loss: 0.1181 - accuracy: 0.960 - ETA: 33s - loss: 0.1187 - accuracy: 0.960 - ETA: 32s - loss: 0.1165 - accuracy: 0.959 - ETA: 32s - loss: 0.1176 - accuracy: 0.957 - ETA: 32s - loss: 0.1162 - accuracy: 0.956 - ETA: 31s - loss: 0.1135 - accuracy: 0.957 - ETA: 31s - loss: 0.1120 - accuracy: 0.958 - ETA: 31s - loss: 0.1103 - accuracy: 0.959 - ETA: 30s - loss: 0.1165 - accuracy: 0.958 - ETA: 30s - loss: 0.1142 - accuracy: 0.958 - ETA: 30s - loss: 0.1171 - accuracy: 0.956 - ETA: 29s - loss: 0.1179 - accuracy: 0.954 - ETA: 29s - loss: 0.1209 - accuracy: 0.954 - ETA: 29s - loss: 0.1189 - accuracy: 0.955 - ETA: 28s - loss: 0.1183 - accuracy: 0.954 - ETA: 28s - loss: 0.1154 - accuracy: 0.956 - ETA: 28s - loss: 0.1156 - accuracy: 0.955 - ETA: 28s - loss: 0.1164 - accuracy: 0.954 - ETA: 27s - loss: 0.1149 - accuracy: 0.954 - ETA: 27s - loss: 0.1145 - accuracy: 0.954 - ETA: 27s - loss: 0.1125 - accuracy: 0.955 - ETA: 27s - loss: 0.1125 - accuracy: 0.954 - ETA: 26s - loss: 0.1113 - accuracy: 0.955 - ETA: 26s - loss: 0.1100 - accuracy: 0.956 - ETA: 26s - loss: 0.1091 - accuracy: 0.957 - ETA: 26s - loss: 0.1089 - accuracy: 0.956 - ETA: 25s - loss: 0.1112 - accuracy: 0.956 - ETA: 25s - loss: 0.1091 - accuracy: 0.957 - ETA: 25s - loss: 0.1095 - accuracy: 0.956 - ETA: 25s - loss: 0.1096 - accuracy: 0.957 - ETA: 24s - loss: 0.1093 - accuracy: 0.957 - ETA: 24s - loss: 0.1077 - accuracy: 0.958 - ETA: 24s - loss: 0.1075 - accuracy: 0.958 - ETA: 24s - loss: 0.1075 - accuracy: 0.959 - ETA: 23s - loss: 0.1062 - accuracy: 0.959 - ETA: 23s - loss: 0.1058 - accuracy: 0.960 - ETA: 23s - loss: 0.1057 - accuracy: 0.960 - ETA: 23s - loss: 0.1053 - accuracy: 0.960 - ETA: 22s - loss: 0.1057 - accuracy: 0.959 - ETA: 22s - loss: 0.1050 - accuracy: 0.960 - ETA: 22s - loss: 0.1053 - accuracy: 0.959 - ETA: 22s - loss: 0.1040 - accuracy: 0.959 - ETA: 22s - loss: 0.1035 - accuracy: 0.959 - ETA: 21s - loss: 0.1056 - accuracy: 0.958 - ETA: 21s - loss: 0.1049 - accuracy: 0.958 - ETA: 21s - loss: 0.1043 - accuracy: 0.959 - ETA: 21s - loss: 0.1041 - accuracy: 0.959 - ETA: 20s - loss: 0.1038 - accuracy: 0.959 - ETA: 20s - loss: 0.1031 - accuracy: 0.959 - ETA: 20s - loss: 0.1018 - accuracy: 0.960 - ETA: 20s - loss: 0.1014 - accuracy: 0.960 - ETA: 20s - loss: 0.1026 - accuracy: 0.959 - ETA: 19s - loss: 0.1032 - accuracy: 0.959 - ETA: 19s - loss: 0.1035 - accuracy: 0.959 - ETA: 19s - loss: 0.1041 - accuracy: 0.958 - ETA: 19s - loss: 0.1061 - accuracy: 0.958 - ETA: 18s - loss: 0.1068 - accuracy: 0.957 - ETA: 18s - loss: 0.1100 - accuracy: 0.956 - ETA: 18s - loss: 0.1096 - accuracy: 0.956 - ETA: 18s - loss: 0.1091 - accuracy: 0.956 - ETA: 18s - loss: 0.1089 - accuracy: 0.956 - ETA: 17s - loss: 0.1076 - accuracy: 0.956 - ETA: 17s - loss: 0.1072 - accuracy: 0.956 - ETA: 17s - loss: 0.1062 - accuracy: 0.957 - ETA: 17s - loss: 0.1064 - accuracy: 0.957 - ETA: 16s - loss: 0.1068 - accuracy: 0.957 - ETA: 16s - loss: 0.1066 - accuracy: 0.957 - ETA: 16s - loss: 0.1074 - accuracy: 0.956 - ETA: 16s - loss: 0.1065 - accuracy: 0.956 - ETA: 16s - loss: 0.1062 - accuracy: 0.956 - ETA: 15s - loss: 0.1061 - accuracy: 0.955 - ETA: 15s - loss: 0.1055 - accuracy: 0.956 - ETA: 15s - loss: 0.1059 - accuracy: 0.956 - ETA: 15s - loss: 0.1061 - accuracy: 0.955 - ETA: 15s - loss: 0.1052 - accuracy: 0.956 - ETA: 14s - loss: 0.1062 - accuracy: 0.955 - ETA: 14s - loss: 0.1070 - accuracy: 0.955 - ETA: 14s - loss: 0.1079 - accuracy: 0.954 - ETA: 14s - loss: 0.1082 - accuracy: 0.955 - ETA: 13s - loss: 0.1091 - accuracy: 0.954 - ETA: 13s - loss: 0.1084 - accuracy: 0.954 - ETA: 13s - loss: 0.1093 - accuracy: 0.953 - ETA: 13s - loss: 0.1110 - accuracy: 0.952 - ETA: 13s - loss: 0.1110 - accuracy: 0.952 - ETA: 12s - loss: 0.1115 - accuracy: 0.952 - ETA: 12s - loss: 0.1110 - accuracy: 0.952 - ETA: 12s - loss: 0.1104 - accuracy: 0.952 - ETA: 12s - loss: 0.1105 - accuracy: 0.952 - ETA: 12s - loss: 0.1116 - accuracy: 0.952 - ETA: 11s - loss: 0.1109 - accuracy: 0.952 - ETA: 11s - loss: 0.1117 - accuracy: 0.952 - ETA: 11s - loss: 0.1111 - accuracy: 0.952 - ETA: 11s - loss: 0.1105 - accuracy: 0.952 - ETA: 11s - loss: 0.1101 - accuracy: 0.953 - ETA: 10s - loss: 0.1106 - accuracy: 0.952 - ETA: 10s - loss: 0.1100 - accuracy: 0.952 - ETA: 10s - loss: 0.1100 - accuracy: 0.952 - ETA: 10s - loss: 0.1100 - accuracy: 0.952 - ETA: 10s - loss: 0.1094 - accuracy: 0.953 - ETA: 9s - loss: 0.1100 - accuracy: 0.952 - ETA: 9s - loss: 0.1096 - accuracy: 0.95 - ETA: 9s - loss: 0.1093 - accuracy: 0.95 - ETA: 9s - loss: 0.1087 - accuracy: 0.95 - ETA: 8s - loss: 0.1089 - accuracy: 0.95 - ETA: 8s - loss: 0.1086 - accuracy: 0.95 - ETA: 8s - loss: 0.1082 - accuracy: 0.95 - ETA: 8s - loss: 0.1085 - accuracy: 0.95 - ETA: 8s - loss: 0.1082 - accuracy: 0.95 - ETA: 7s - loss: 0.1076 - accuracy: 0.95 - ETA: 7s - loss: 0.1095 - accuracy: 0.95 - ETA: 7s - loss: 0.1088 - accuracy: 0.95 - ETA: 7s - loss: 0.1106 - accuracy: 0.95 - ETA: 7s - loss: 0.1106 - accuracy: 0.95 - ETA: 6s - loss: 0.1125 - accuracy: 0.95 - ETA: 6s - loss: 0.1119 - accuracy: 0.95 - ETA: 6s - loss: 0.1120 - accuracy: 0.95 - ETA: 6s - loss: 0.1120 - accuracy: 0.95 - ETA: 5s - loss: 0.1117 - accuracy: 0.95 - ETA: 5s - loss: 0.1124 - accuracy: 0.95 - ETA: 5s - loss: 0.1130 - accuracy: 0.95 - ETA: 5s - loss: 0.1131 - accuracy: 0.95 - ETA: 5s - loss: 0.1127 - accuracy: 0.95 - ETA: 4s - loss: 0.1134 - accuracy: 0.95 - ETA: 4s - loss: 0.1134 - accuracy: 0.95 - ETA: 4s - loss: 0.1132 - accuracy: 0.95 - ETA: 4s - loss: 0.1126 - accuracy: 0.95 - ETA: 4s - loss: 0.1123 - accuracy: 0.95 - ETA: 3s - loss: 0.1126 - accuracy: 0.95 - ETA: 3s - loss: 0.1126 - accuracy: 0.95 - ETA: 3s - loss: 0.1123 - accuracy: 0.95 - ETA: 3s - loss: 0.1118 - accuracy: 0.95 - ETA: 2s - loss: 0.1120 - accuracy: 0.95 - ETA: 2s - loss: 0.1117 - accuracy: 0.95 - ETA: 2s - loss: 0.1122 - accuracy: 0.95 - ETA: 2s - loss: 0.1123 - accuracy: 0.95 - ETA: 2s - loss: 0.1120 - accuracy: 0.95 - ETA: 1s - loss: 0.1118 - accuracy: 0.95 - ETA: 1s - loss: 0.1121 - accuracy: 0.95 - ETA: 1s - loss: 0.1133 - accuracy: 0.95 - ETA: 1s - loss: 0.1136 - accuracy: 0.95 - ETA: 1s - loss: 0.1134 - accuracy: 0.95 - ETA: 0s - loss: 0.1134 - accuracy: 0.95 - ETA: 0s - loss: 0.1131 - accuracy: 0.95 - ETA: 0s - loss: 0.1130 - accuracy: 0.95 - ETA: 0s - loss: 0.1130 - accuracy: 0.95 - ETA: 0s - loss: 0.1130 - accuracy: 0.95 - 37s 223ms/step - loss: 0.1130 - accuracy: 0.9516 - val_loss: 0.4595 - val_accuracy: 0.8601\n",
      "Epoch 17/18\n"
     ]
    },
    {
     "name": "stdout",
     "output_type": "stream",
     "text": [
      "167/167 [==============================] - ETA: 39s - loss: 0.1407 - accuracy: 0.968 - ETA: 36s - loss: 0.1066 - accuracy: 0.968 - ETA: 35s - loss: 0.1163 - accuracy: 0.947 - ETA: 34s - loss: 0.1107 - accuracy: 0.945 - ETA: 34s - loss: 0.1128 - accuracy: 0.950 - ETA: 34s - loss: 0.1168 - accuracy: 0.942 - ETA: 33s - loss: 0.1316 - accuracy: 0.937 - ETA: 34s - loss: 0.1329 - accuracy: 0.933 - ETA: 34s - loss: 0.1261 - accuracy: 0.941 - ETA: 34s - loss: 0.1143 - accuracy: 0.946 - ETA: 34s - loss: 0.1127 - accuracy: 0.948 - ETA: 33s - loss: 0.1221 - accuracy: 0.942 - ETA: 33s - loss: 0.1226 - accuracy: 0.942 - ETA: 33s - loss: 0.1171 - accuracy: 0.944 - ETA: 32s - loss: 0.1141 - accuracy: 0.947 - ETA: 32s - loss: 0.1096 - accuracy: 0.949 - ETA: 32s - loss: 0.1056 - accuracy: 0.952 - ETA: 31s - loss: 0.1020 - accuracy: 0.953 - ETA: 31s - loss: 0.1035 - accuracy: 0.950 - ETA: 31s - loss: 0.1047 - accuracy: 0.948 - ETA: 31s - loss: 0.1137 - accuracy: 0.947 - ETA: 30s - loss: 0.1105 - accuracy: 0.950 - ETA: 30s - loss: 0.1095 - accuracy: 0.951 - ETA: 30s - loss: 0.1114 - accuracy: 0.951 - ETA: 29s - loss: 0.1162 - accuracy: 0.950 - ETA: 29s - loss: 0.1139 - accuracy: 0.950 - ETA: 29s - loss: 0.1104 - accuracy: 0.952 - ETA: 29s - loss: 0.1120 - accuracy: 0.952 - ETA: 29s - loss: 0.1092 - accuracy: 0.953 - ETA: 29s - loss: 0.1062 - accuracy: 0.955 - ETA: 28s - loss: 0.1080 - accuracy: 0.953 - ETA: 28s - loss: 0.1068 - accuracy: 0.954 - ETA: 28s - loss: 0.1081 - accuracy: 0.953 - ETA: 28s - loss: 0.1082 - accuracy: 0.954 - ETA: 27s - loss: 0.1103 - accuracy: 0.952 - ETA: 27s - loss: 0.1086 - accuracy: 0.954 - ETA: 27s - loss: 0.1085 - accuracy: 0.954 - ETA: 27s - loss: 0.1164 - accuracy: 0.953 - ETA: 26s - loss: 0.1169 - accuracy: 0.952 - ETA: 26s - loss: 0.1199 - accuracy: 0.952 - ETA: 26s - loss: 0.1189 - accuracy: 0.952 - ETA: 26s - loss: 0.1165 - accuracy: 0.953 - ETA: 26s - loss: 0.1173 - accuracy: 0.952 - ETA: 25s - loss: 0.1197 - accuracy: 0.951 - ETA: 25s - loss: 0.1180 - accuracy: 0.952 - ETA: 25s - loss: 0.1166 - accuracy: 0.953 - ETA: 25s - loss: 0.1177 - accuracy: 0.952 - ETA: 25s - loss: 0.1188 - accuracy: 0.951 - ETA: 24s - loss: 0.1173 - accuracy: 0.952 - ETA: 24s - loss: 0.1153 - accuracy: 0.953 - ETA: 24s - loss: 0.1179 - accuracy: 0.953 - ETA: 24s - loss: 0.1196 - accuracy: 0.952 - ETA: 24s - loss: 0.1182 - accuracy: 0.953 - ETA: 23s - loss: 0.1175 - accuracy: 0.953 - ETA: 23s - loss: 0.1181 - accuracy: 0.953 - ETA: 23s - loss: 0.1175 - accuracy: 0.953 - ETA: 23s - loss: 0.1170 - accuracy: 0.953 - ETA: 22s - loss: 0.1181 - accuracy: 0.953 - ETA: 22s - loss: 0.1189 - accuracy: 0.953 - ETA: 22s - loss: 0.1174 - accuracy: 0.954 - ETA: 22s - loss: 0.1181 - accuracy: 0.952 - ETA: 22s - loss: 0.1186 - accuracy: 0.953 - ETA: 21s - loss: 0.1197 - accuracy: 0.951 - ETA: 21s - loss: 0.1219 - accuracy: 0.950 - ETA: 21s - loss: 0.1208 - accuracy: 0.951 - ETA: 21s - loss: 0.1211 - accuracy: 0.950 - ETA: 20s - loss: 0.1200 - accuracy: 0.951 - ETA: 20s - loss: 0.1187 - accuracy: 0.952 - ETA: 20s - loss: 0.1188 - accuracy: 0.952 - ETA: 20s - loss: 0.1187 - accuracy: 0.951 - ETA: 20s - loss: 0.1171 - accuracy: 0.952 - ETA: 20s - loss: 0.1181 - accuracy: 0.951 - ETA: 19s - loss: 0.1178 - accuracy: 0.951 - ETA: 19s - loss: 0.1168 - accuracy: 0.952 - ETA: 19s - loss: 0.1156 - accuracy: 0.952 - ETA: 19s - loss: 0.1148 - accuracy: 0.953 - ETA: 18s - loss: 0.1143 - accuracy: 0.952 - ETA: 18s - loss: 0.1143 - accuracy: 0.952 - ETA: 18s - loss: 0.1148 - accuracy: 0.952 - ETA: 18s - loss: 0.1135 - accuracy: 0.952 - ETA: 18s - loss: 0.1135 - accuracy: 0.952 - ETA: 17s - loss: 0.1137 - accuracy: 0.952 - ETA: 17s - loss: 0.1134 - accuracy: 0.952 - ETA: 17s - loss: 0.1130 - accuracy: 0.952 - ETA: 17s - loss: 0.1126 - accuracy: 0.952 - ETA: 17s - loss: 0.1120 - accuracy: 0.952 - ETA: 16s - loss: 0.1117 - accuracy: 0.952 - ETA: 16s - loss: 0.1110 - accuracy: 0.953 - ETA: 16s - loss: 0.1110 - accuracy: 0.953 - ETA: 16s - loss: 0.1110 - accuracy: 0.953 - ETA: 15s - loss: 0.1105 - accuracy: 0.954 - ETA: 15s - loss: 0.1107 - accuracy: 0.953 - ETA: 15s - loss: 0.1096 - accuracy: 0.954 - ETA: 15s - loss: 0.1096 - accuracy: 0.953 - ETA: 15s - loss: 0.1099 - accuracy: 0.953 - ETA: 14s - loss: 0.1116 - accuracy: 0.952 - ETA: 14s - loss: 0.1123 - accuracy: 0.952 - ETA: 14s - loss: 0.1119 - accuracy: 0.952 - ETA: 14s - loss: 0.1119 - accuracy: 0.952 - ETA: 14s - loss: 0.1131 - accuracy: 0.950 - ETA: 13s - loss: 0.1146 - accuracy: 0.949 - ETA: 13s - loss: 0.1140 - accuracy: 0.950 - ETA: 13s - loss: 0.1146 - accuracy: 0.949 - ETA: 13s - loss: 0.1153 - accuracy: 0.949 - ETA: 13s - loss: 0.1148 - accuracy: 0.949 - ETA: 12s - loss: 0.1154 - accuracy: 0.949 - ETA: 12s - loss: 0.1149 - accuracy: 0.949 - ETA: 12s - loss: 0.1149 - accuracy: 0.949 - ETA: 12s - loss: 0.1144 - accuracy: 0.949 - ETA: 11s - loss: 0.1144 - accuracy: 0.950 - ETA: 11s - loss: 0.1138 - accuracy: 0.950 - ETA: 11s - loss: 0.1139 - accuracy: 0.950 - ETA: 11s - loss: 0.1133 - accuracy: 0.950 - ETA: 11s - loss: 0.1128 - accuracy: 0.950 - ETA: 10s - loss: 0.1124 - accuracy: 0.950 - ETA: 10s - loss: 0.1124 - accuracy: 0.950 - ETA: 10s - loss: 0.1120 - accuracy: 0.950 - ETA: 10s - loss: 0.1121 - accuracy: 0.950 - ETA: 10s - loss: 0.1121 - accuracy: 0.950 - ETA: 9s - loss: 0.1132 - accuracy: 0.950 - ETA: 9s - loss: 0.1124 - accuracy: 0.95 - ETA: 9s - loss: 0.1116 - accuracy: 0.95 - ETA: 9s - loss: 0.1111 - accuracy: 0.95 - ETA: 9s - loss: 0.1104 - accuracy: 0.95 - ETA: 8s - loss: 0.1102 - accuracy: 0.95 - ETA: 8s - loss: 0.1098 - accuracy: 0.95 - ETA: 8s - loss: 0.1109 - accuracy: 0.95 - ETA: 8s - loss: 0.1104 - accuracy: 0.95 - ETA: 7s - loss: 0.1102 - accuracy: 0.95 - ETA: 7s - loss: 0.1098 - accuracy: 0.95 - ETA: 7s - loss: 0.1092 - accuracy: 0.95 - ETA: 7s - loss: 0.1088 - accuracy: 0.95 - ETA: 7s - loss: 0.1092 - accuracy: 0.95 - ETA: 6s - loss: 0.1089 - accuracy: 0.95 - ETA: 6s - loss: 0.1090 - accuracy: 0.95 - ETA: 6s - loss: 0.1088 - accuracy: 0.95 - ETA: 6s - loss: 0.1084 - accuracy: 0.95 - ETA: 6s - loss: 0.1091 - accuracy: 0.95 - ETA: 5s - loss: 0.1088 - accuracy: 0.95 - ETA: 5s - loss: 0.1085 - accuracy: 0.95 - ETA: 5s - loss: 0.1096 - accuracy: 0.95 - ETA: 5s - loss: 0.1090 - accuracy: 0.95 - ETA: 5s - loss: 0.1088 - accuracy: 0.95 - ETA: 4s - loss: 0.1083 - accuracy: 0.95 - ETA: 4s - loss: 0.1082 - accuracy: 0.95 - ETA: 4s - loss: 0.1095 - accuracy: 0.95 - ETA: 4s - loss: 0.1095 - accuracy: 0.95 - ETA: 3s - loss: 0.1092 - accuracy: 0.95 - ETA: 3s - loss: 0.1094 - accuracy: 0.95 - ETA: 3s - loss: 0.1096 - accuracy: 0.95 - ETA: 3s - loss: 0.1091 - accuracy: 0.95 - ETA: 3s - loss: 0.1089 - accuracy: 0.95 - ETA: 2s - loss: 0.1085 - accuracy: 0.95 - ETA: 2s - loss: 0.1083 - accuracy: 0.95 - ETA: 2s - loss: 0.1099 - accuracy: 0.95 - ETA: 2s - loss: 0.1102 - accuracy: 0.95 - ETA: 2s - loss: 0.1108 - accuracy: 0.95 - ETA: 1s - loss: 0.1104 - accuracy: 0.95 - ETA: 1s - loss: 0.1101 - accuracy: 0.95 - ETA: 1s - loss: 0.1097 - accuracy: 0.95 - ETA: 1s - loss: 0.1093 - accuracy: 0.95 - ETA: 1s - loss: 0.1092 - accuracy: 0.95 - ETA: 0s - loss: 0.1090 - accuracy: 0.95 - ETA: 0s - loss: 0.1087 - accuracy: 0.95 - ETA: 0s - loss: 0.1085 - accuracy: 0.95 - ETA: 0s - loss: 0.1083 - accuracy: 0.95 - ETA: 0s - loss: 0.1087 - accuracy: 0.95 - 37s 220ms/step - loss: 0.1087 - accuracy: 0.9522 - val_loss: 0.4697 - val_accuracy: 0.8694\n",
      "Epoch 18/18\n"
     ]
    },
    {
     "name": "stdout",
     "output_type": "stream",
     "text": [
      "167/167 [==============================] - ETA: 34s - loss: 0.0050 - accuracy: 1.000 - ETA: 34s - loss: 0.0231 - accuracy: 1.000 - ETA: 37s - loss: 0.0936 - accuracy: 0.979 - ETA: 37s - loss: 0.0888 - accuracy: 0.984 - ETA: 36s - loss: 0.1195 - accuracy: 0.975 - ETA: 36s - loss: 0.1166 - accuracy: 0.974 - ETA: 35s - loss: 0.1250 - accuracy: 0.964 - ETA: 35s - loss: 0.1229 - accuracy: 0.968 - ETA: 35s - loss: 0.1358 - accuracy: 0.958 - ETA: 34s - loss: 0.1446 - accuracy: 0.946 - ETA: 34s - loss: 0.1368 - accuracy: 0.948 - ETA: 33s - loss: 0.1547 - accuracy: 0.945 - ETA: 33s - loss: 0.1502 - accuracy: 0.947 - ETA: 33s - loss: 0.1544 - accuracy: 0.944 - ETA: 32s - loss: 0.1460 - accuracy: 0.947 - ETA: 32s - loss: 0.1458 - accuracy: 0.947 - ETA: 32s - loss: 0.1424 - accuracy: 0.948 - ETA: 31s - loss: 0.1481 - accuracy: 0.946 - ETA: 31s - loss: 0.1481 - accuracy: 0.945 - ETA: 31s - loss: 0.1470 - accuracy: 0.945 - ETA: 31s - loss: 0.1435 - accuracy: 0.946 - ETA: 30s - loss: 0.1439 - accuracy: 0.947 - ETA: 30s - loss: 0.1403 - accuracy: 0.948 - ETA: 30s - loss: 0.1402 - accuracy: 0.946 - ETA: 29s - loss: 0.1459 - accuracy: 0.943 - ETA: 29s - loss: 0.1445 - accuracy: 0.944 - ETA: 29s - loss: 0.1408 - accuracy: 0.946 - ETA: 29s - loss: 0.1393 - accuracy: 0.946 - ETA: 28s - loss: 0.1392 - accuracy: 0.947 - ETA: 28s - loss: 0.1417 - accuracy: 0.944 - ETA: 28s - loss: 0.1418 - accuracy: 0.944 - ETA: 28s - loss: 0.1419 - accuracy: 0.945 - ETA: 27s - loss: 0.1389 - accuracy: 0.946 - ETA: 27s - loss: 0.1357 - accuracy: 0.947 - ETA: 27s - loss: 0.1347 - accuracy: 0.948 - ETA: 27s - loss: 0.1325 - accuracy: 0.948 - ETA: 26s - loss: 0.1358 - accuracy: 0.946 - ETA: 26s - loss: 0.1357 - accuracy: 0.945 - ETA: 26s - loss: 0.1339 - accuracy: 0.946 - ETA: 26s - loss: 0.1327 - accuracy: 0.946 - ETA: 26s - loss: 0.1315 - accuracy: 0.947 - ETA: 25s - loss: 0.1294 - accuracy: 0.948 - ETA: 25s - loss: 0.1320 - accuracy: 0.947 - ETA: 25s - loss: 0.1302 - accuracy: 0.948 - ETA: 25s - loss: 0.1293 - accuracy: 0.949 - ETA: 24s - loss: 0.1304 - accuracy: 0.947 - ETA: 24s - loss: 0.1298 - accuracy: 0.948 - ETA: 24s - loss: 0.1275 - accuracy: 0.949 - ETA: 24s - loss: 0.1262 - accuracy: 0.949 - ETA: 24s - loss: 0.1249 - accuracy: 0.949 - ETA: 23s - loss: 0.1266 - accuracy: 0.949 - ETA: 23s - loss: 0.1271 - accuracy: 0.949 - ETA: 23s - loss: 0.1253 - accuracy: 0.950 - ETA: 23s - loss: 0.1243 - accuracy: 0.951 - ETA: 22s - loss: 0.1245 - accuracy: 0.951 - ETA: 22s - loss: 0.1229 - accuracy: 0.952 - ETA: 22s - loss: 0.1215 - accuracy: 0.952 - ETA: 22s - loss: 0.1213 - accuracy: 0.952 - ETA: 22s - loss: 0.1207 - accuracy: 0.952 - ETA: 21s - loss: 0.1230 - accuracy: 0.951 - ETA: 21s - loss: 0.1257 - accuracy: 0.951 - ETA: 21s - loss: 0.1240 - accuracy: 0.952 - ETA: 21s - loss: 0.1233 - accuracy: 0.952 - ETA: 21s - loss: 0.1245 - accuracy: 0.951 - ETA: 20s - loss: 0.1286 - accuracy: 0.951 - ETA: 20s - loss: 0.1282 - accuracy: 0.950 - ETA: 20s - loss: 0.1289 - accuracy: 0.951 - ETA: 20s - loss: 0.1290 - accuracy: 0.951 - ETA: 20s - loss: 0.1290 - accuracy: 0.950 - ETA: 19s - loss: 0.1285 - accuracy: 0.950 - ETA: 19s - loss: 0.1297 - accuracy: 0.949 - ETA: 19s - loss: 0.1287 - accuracy: 0.950 - ETA: 19s - loss: 0.1288 - accuracy: 0.950 - ETA: 19s - loss: 0.1302 - accuracy: 0.949 - ETA: 18s - loss: 0.1320 - accuracy: 0.948 - ETA: 18s - loss: 0.1317 - accuracy: 0.948 - ETA: 18s - loss: 0.1307 - accuracy: 0.948 - ETA: 18s - loss: 0.1298 - accuracy: 0.949 - ETA: 17s - loss: 0.1286 - accuracy: 0.949 - ETA: 17s - loss: 0.1285 - accuracy: 0.949 - ETA: 17s - loss: 0.1285 - accuracy: 0.949 - ETA: 17s - loss: 0.1309 - accuracy: 0.948 - ETA: 17s - loss: 0.1297 - accuracy: 0.949 - ETA: 16s - loss: 0.1296 - accuracy: 0.949 - ETA: 16s - loss: 0.1300 - accuracy: 0.948 - ETA: 16s - loss: 0.1317 - accuracy: 0.948 - ETA: 16s - loss: 0.1315 - accuracy: 0.948 - ETA: 16s - loss: 0.1303 - accuracy: 0.948 - ETA: 15s - loss: 0.1297 - accuracy: 0.949 - ETA: 15s - loss: 0.1289 - accuracy: 0.949 - ETA: 15s - loss: 0.1285 - accuracy: 0.949 - ETA: 15s - loss: 0.1291 - accuracy: 0.949 - ETA: 15s - loss: 0.1296 - accuracy: 0.948 - ETA: 14s - loss: 0.1285 - accuracy: 0.948 - ETA: 14s - loss: 0.1304 - accuracy: 0.948 - ETA: 14s - loss: 0.1304 - accuracy: 0.947 - ETA: 14s - loss: 0.1305 - accuracy: 0.948 - ETA: 14s - loss: 0.1314 - accuracy: 0.947 - ETA: 13s - loss: 0.1310 - accuracy: 0.947 - ETA: 13s - loss: 0.1302 - accuracy: 0.948 - ETA: 13s - loss: 0.1316 - accuracy: 0.948 - ETA: 13s - loss: 0.1313 - accuracy: 0.947 - ETA: 13s - loss: 0.1321 - accuracy: 0.947 - ETA: 12s - loss: 0.1325 - accuracy: 0.948 - ETA: 12s - loss: 0.1321 - accuracy: 0.948 - ETA: 12s - loss: 0.1343 - accuracy: 0.947 - ETA: 12s - loss: 0.1331 - accuracy: 0.948 - ETA: 12s - loss: 0.1331 - accuracy: 0.948 - ETA: 11s - loss: 0.1322 - accuracy: 0.948 - ETA: 11s - loss: 0.1315 - accuracy: 0.948 - ETA: 11s - loss: 0.1314 - accuracy: 0.948 - ETA: 11s - loss: 0.1307 - accuracy: 0.948 - ETA: 11s - loss: 0.1304 - accuracy: 0.948 - ETA: 10s - loss: 0.1314 - accuracy: 0.947 - ETA: 10s - loss: 0.1312 - accuracy: 0.947 - ETA: 10s - loss: 0.1306 - accuracy: 0.947 - ETA: 10s - loss: 0.1311 - accuracy: 0.947 - ETA: 10s - loss: 0.1306 - accuracy: 0.948 - ETA: 9s - loss: 0.1307 - accuracy: 0.948 - ETA: 9s - loss: 0.1300 - accuracy: 0.94 - ETA: 9s - loss: 0.1296 - accuracy: 0.94 - ETA: 9s - loss: 0.1295 - accuracy: 0.94 - ETA: 9s - loss: 0.1300 - accuracy: 0.94 - ETA: 8s - loss: 0.1295 - accuracy: 0.94 - ETA: 8s - loss: 0.1292 - accuracy: 0.94 - ETA: 8s - loss: 0.1289 - accuracy: 0.94 - ETA: 8s - loss: 0.1287 - accuracy: 0.94 - ETA: 7s - loss: 0.1295 - accuracy: 0.94 - ETA: 7s - loss: 0.1295 - accuracy: 0.94 - ETA: 7s - loss: 0.1294 - accuracy: 0.94 - ETA: 7s - loss: 0.1285 - accuracy: 0.94 - ETA: 7s - loss: 0.1281 - accuracy: 0.94 - ETA: 6s - loss: 0.1276 - accuracy: 0.94 - ETA: 6s - loss: 0.1286 - accuracy: 0.94 - ETA: 6s - loss: 0.1281 - accuracy: 0.94 - ETA: 6s - loss: 0.1286 - accuracy: 0.94 - ETA: 6s - loss: 0.1304 - accuracy: 0.94 - ETA: 5s - loss: 0.1302 - accuracy: 0.94 - ETA: 5s - loss: 0.1300 - accuracy: 0.94 - ETA: 5s - loss: 0.1301 - accuracy: 0.94 - ETA: 5s - loss: 0.1294 - accuracy: 0.94 - ETA: 5s - loss: 0.1286 - accuracy: 0.94 - ETA: 4s - loss: 0.1279 - accuracy: 0.94 - ETA: 4s - loss: 0.1277 - accuracy: 0.94 - ETA: 4s - loss: 0.1281 - accuracy: 0.94 - ETA: 4s - loss: 0.1282 - accuracy: 0.94 - ETA: 4s - loss: 0.1280 - accuracy: 0.94 - ETA: 3s - loss: 0.1275 - accuracy: 0.94 - ETA: 3s - loss: 0.1273 - accuracy: 0.94 - ETA: 3s - loss: 0.1277 - accuracy: 0.94 - ETA: 3s - loss: 0.1272 - accuracy: 0.94 - ETA: 3s - loss: 0.1281 - accuracy: 0.94 - ETA: 2s - loss: 0.1278 - accuracy: 0.94 - ETA: 2s - loss: 0.1272 - accuracy: 0.94 - ETA: 2s - loss: 0.1271 - accuracy: 0.94 - ETA: 2s - loss: 0.1268 - accuracy: 0.94 - ETA: 2s - loss: 0.1263 - accuracy: 0.94 - ETA: 1s - loss: 0.1259 - accuracy: 0.94 - ETA: 1s - loss: 0.1255 - accuracy: 0.94 - ETA: 1s - loss: 0.1250 - accuracy: 0.94 - ETA: 1s - loss: 0.1245 - accuracy: 0.94 - ETA: 1s - loss: 0.1241 - accuracy: 0.95 - ETA: 0s - loss: 0.1252 - accuracy: 0.94 - ETA: 0s - loss: 0.1266 - accuracy: 0.94 - ETA: 0s - loss: 0.1264 - accuracy: 0.94 - ETA: 0s - loss: 0.1260 - accuracy: 0.94 - ETA: 0s - loss: 0.1259 - accuracy: 0.94 - 36s 214ms/step - loss: 0.1259 - accuracy: 0.9494 - val_loss: 0.5086 - val_accuracy: 0.8590\n"
     ]
    }
   ],
   "source": [
    "hypermodel = tuner.hypermodel.build(best_hps)\n",
    "\n",
    "# re-train the model\n",
    "hystory = hypermodel.fit(X_train_pad, y_train, \n",
    "                         epochs=best_number_of_epoch, \n",
    "                         validation_data=(X_val_pad, y_val))"
   ]
  },
  {
   "cell_type": "code",
   "execution_count": 54,
   "id": "789ffd76",
   "metadata": {},
   "outputs": [
    {
     "name": "stdout",
     "output_type": "stream",
     "text": [
      "Test loss: 0.5167689323425293\n",
      "Test accuracy: 0.8571428656578064\n"
     ]
    }
   ],
   "source": [
    "# check external validity on the test set\n",
    "score = hypermodel.evaluate(X_test_pad, y_test, verbose=0)\n",
    "print(\"Test loss:\", score[0])\n",
    "print(\"Test accuracy:\", score[1])"
   ]
  },
  {
   "cell_type": "code",
   "execution_count": 55,
   "id": "6a96ec42",
   "metadata": {},
   "outputs": [
    {
     "name": "stdout",
     "output_type": "stream",
     "text": [
      "              precision    recall  f1-score   support\n",
      "\n",
      "           0       0.86      0.77      0.81       248\n",
      "           1       0.80      0.87      0.83       268\n",
      "           2       0.90      0.92      0.91       206\n",
      "           3       0.82      0.81      0.82       202\n",
      "\n",
      "    accuracy                           0.84       924\n",
      "   macro avg       0.85      0.84      0.84       924\n",
      "weighted avg       0.84      0.84      0.84       924\n",
      "\n"
     ]
    }
   ],
   "source": [
    "y_pred = np.argmax(model.predict(X_test_pad), axis=1)\n",
    "y_true = np.argmax(y_test, axis=1)\n",
    "print(metrics.classification_report(y_pred, y_true))"
   ]
  },
  {
   "cell_type": "code",
   "execution_count": 56,
   "id": "ccecba34",
   "metadata": {},
   "outputs": [
    {
     "data": {
      "text/plain": [
       "<sklearn.metrics._plot.confusion_matrix.ConfusionMatrixDisplay at 0x7fb6f8d94910>"
      ]
     },
     "execution_count": 56,
     "metadata": {},
     "output_type": "execute_result"
    },
    {
     "data": {
      "image/png": "[encoded data removed]",
      "text/plain": [
       "<Figure size 432x288 with 2 Axes>"
      ]
     },
     "metadata": {
      "needs_background": "light"
     },
     "output_type": "display_data"
    }
   ],
   "source": [
    "cm = ConfusionMatrixDisplay(confusion_matrix(y_pred, y_true))\n",
    "cm.plot()"
   ]
  },
  {
   "cell_type": "markdown",
   "id": "562c3421",
   "metadata": {},
   "source": [
    "### Get the cross-validated accuracy of the selected model"
   ]
  },
  {
   "cell_type": "code",
   "execution_count": 57,
   "id": "dc4888c6",
   "metadata": {},
   "outputs": [],
   "source": [
    "def build_model():\n",
    "    model = Sequential()\n",
    "    model.add(embedding_layer)\n",
    "    model.add(Dropout(0.2))\n",
    "    model.add(Bidirectional(LSTM(best_hps.get('lstm_1'), \n",
    "                                 return_sequences=True)))\n",
    "    model.add(Dropout(0.2))\n",
    "    model.add(Bidirectional(LSTM(best_hps.get('lstm_2'), \n",
    "                                 return_sequences=True)))\n",
    "    model.add(Dropout(0.2))\n",
    "    model.add(Bidirectional(LSTM(best_hps.get('lstm_3'), \n",
    "                                 return_sequences=False)))\n",
    "    model.add(Dense(class_num, \n",
    "                    activation = 'softmax'))\n",
    "    \n",
    "    model.compile(loss='categorical_crossentropy', optimizer='adam', metrics='accuracy')\n",
    "    return model"
   ]
  },
  {
   "cell_type": "code",
   "execution_count": 58,
   "id": "e68fe207",
   "metadata": {},
   "outputs": [
    {
     "name": "stdout",
     "output_type": "stream",
     "text": [
      "------------------------------------------------------------------------\n",
      "Training for fold 1 ...\n",
      "Epoch 1/18\n",
      "33/33 [==============================] - ETA: 3:20 - loss: 1.3830 - accuracy: 0.31 - ETA: 14s - loss: 1.3787 - accuracy: 0.3203 - ETA: 13s - loss: 1.3698 - accuracy: 0.325 - ETA: 13s - loss: 1.3648 - accuracy: 0.326 - ETA: 12s - loss: 1.3547 - accuracy: 0.337 - ETA: 12s - loss: 1.3547 - accuracy: 0.341 - ETA: 11s - loss: 1.3461 - accuracy: 0.347 - ETA: 11s - loss: 1.3393 - accuracy: 0.360 - ETA: 11s - loss: 1.3330 - accuracy: 0.363 - ETA: 10s - loss: 1.3258 - accuracy: 0.366 - ETA: 10s - loss: 1.3182 - accuracy: 0.372 - ETA: 9s - loss: 1.3069 - accuracy: 0.382 - ETA: 9s - loss: 1.3017 - accuracy: 0.38 - ETA: 8s - loss: 1.2933 - accuracy: 0.39 - ETA: 8s - loss: 1.2823 - accuracy: 0.40 - ETA: 7s - loss: 1.2693 - accuracy: 0.41 - ETA: 7s - loss: 1.2646 - accuracy: 0.42 - ETA: 7s - loss: 1.2652 - accuracy: 0.42 - ETA: 6s - loss: 1.2579 - accuracy: 0.42 - ETA: 6s - loss: 1.2468 - accuracy: 0.43 - ETA: 5s - loss: 1.2409 - accuracy: 0.44 - ETA: 5s - loss: 1.2345 - accuracy: 0.44 - ETA: 4s - loss: 1.2333 - accuracy: 0.44 - ETA: 4s - loss: 1.2300 - accuracy: 0.44 - ETA: 3s - loss: 1.2247 - accuracy: 0.45 - ETA: 3s - loss: 1.2183 - accuracy: 0.45 - ETA: 2s - loss: 1.2151 - accuracy: 0.45 - ETA: 2s - loss: 1.2078 - accuracy: 0.46 - ETA: 1s - loss: 1.2039 - accuracy: 0.46 - ETA: 1s - loss: 1.2008 - accuracy: 0.46 - ETA: 0s - loss: 1.1971 - accuracy: 0.47 - ETA: 0s - loss: 1.1924 - accuracy: 0.47 - ETA: 0s - loss: 1.1916 - accuracy: 0.47 - 21s 475ms/step - loss: 1.1916 - accuracy: 0.4752\n",
      "Epoch 2/18\n",
      "33/33 [==============================] - ETA: 17s - loss: 0.9458 - accuracy: 0.640 - ETA: 16s - loss: 0.9905 - accuracy: 0.632 - ETA: 15s - loss: 0.9988 - accuracy: 0.619 - ETA: 15s - loss: 1.0046 - accuracy: 0.615 - ETA: 14s - loss: 1.0060 - accuracy: 0.601 - ETA: 14s - loss: 0.9975 - accuracy: 0.596 - ETA: 14s - loss: 0.9846 - accuracy: 0.607 - ETA: 13s - loss: 0.9772 - accuracy: 0.611 - ETA: 13s - loss: 0.9747 - accuracy: 0.614 - ETA: 12s - loss: 0.9741 - accuracy: 0.608 - ETA: 11s - loss: 0.9630 - accuracy: 0.615 - ETA: 11s - loss: 0.9594 - accuracy: 0.619 - ETA: 11s - loss: 0.9662 - accuracy: 0.616 - ETA: 10s - loss: 0.9625 - accuracy: 0.615 - ETA: 9s - loss: 0.9533 - accuracy: 0.621 - ETA: 9s - loss: 0.9500 - accuracy: 0.62 - ETA: 9s - loss: 0.9447 - accuracy: 0.62 - ETA: 8s - loss: 0.9455 - accuracy: 0.62 - ETA: 7s - loss: 0.9457 - accuracy: 0.62 - ETA: 7s - loss: 0.9409 - accuracy: 0.62 - ETA: 6s - loss: 0.9406 - accuracy: 0.63 - ETA: 6s - loss: 0.9363 - accuracy: 0.63 - ETA: 5s - loss: 0.9381 - accuracy: 0.63 - ETA: 5s - loss: 0.9419 - accuracy: 0.62 - ETA: 4s - loss: 0.9415 - accuracy: 0.62 - ETA: 3s - loss: 0.9423 - accuracy: 0.62 - ETA: 3s - loss: 0.9364 - accuracy: 0.62 - ETA: 2s - loss: 0.9320 - accuracy: 0.62 - ETA: 2s - loss: 0.9312 - accuracy: 0.62 - ETA: 1s - loss: 0.9271 - accuracy: 0.63 - ETA: 1s - loss: 0.9270 - accuracy: 0.63 - ETA: 0s - loss: 0.9269 - accuracy: 0.63 - ETA: 0s - loss: 0.9263 - accuracy: 0.63 - 18s 558ms/step - loss: 0.9263 - accuracy: 0.6321\n",
      "Epoch 3/18\n",
      "33/33 [==============================] - ETA: 18s - loss: 0.9167 - accuracy: 0.671 - ETA: 17s - loss: 0.8727 - accuracy: 0.675 - ETA: 16s - loss: 0.8720 - accuracy: 0.679 - ETA: 16s - loss: 0.8576 - accuracy: 0.677 - ETA: 15s - loss: 0.8651 - accuracy: 0.667 - ETA: 15s - loss: 0.8905 - accuracy: 0.648 - ETA: 14s - loss: 0.8885 - accuracy: 0.655 - ETA: 14s - loss: 0.8757 - accuracy: 0.661 - ETA: 13s - loss: 0.8672 - accuracy: 0.667 - ETA: 13s - loss: 0.8510 - accuracy: 0.674 - ETA: 12s - loss: 0.8338 - accuracy: 0.683 - ETA: 12s - loss: 0.8313 - accuracy: 0.684 - ETA: 11s - loss: 0.8279 - accuracy: 0.687 - ETA: 11s - loss: 0.8296 - accuracy: 0.686 - ETA: 10s - loss: 0.8379 - accuracy: 0.680 - ETA: 9s - loss: 0.8358 - accuracy: 0.683 - ETA: 9s - loss: 0.8377 - accuracy: 0.68 - ETA: 8s - loss: 0.8270 - accuracy: 0.68 - ETA: 8s - loss: 0.8292 - accuracy: 0.68 - ETA: 7s - loss: 0.8293 - accuracy: 0.68 - ETA: 6s - loss: 0.8301 - accuracy: 0.68 - ETA: 6s - loss: 0.8241 - accuracy: 0.68 - ETA: 5s - loss: 0.8190 - accuracy: 0.68 - ETA: 5s - loss: 0.8140 - accuracy: 0.68 - ETA: 4s - loss: 0.8166 - accuracy: 0.68 - ETA: 4s - loss: 0.8156 - accuracy: 0.68 - ETA: 3s - loss: 0.8125 - accuracy: 0.68 - ETA: 2s - loss: 0.8106 - accuracy: 0.69 - ETA: 2s - loss: 0.8100 - accuracy: 0.68 - ETA: 1s - loss: 0.8046 - accuracy: 0.69 - ETA: 1s - loss: 0.8027 - accuracy: 0.69 - ETA: 0s - loss: 0.8005 - accuracy: 0.69 - ETA: 0s - loss: 0.7999 - accuracy: 0.69 - 19s 565ms/step - loss: 0.7999 - accuracy: 0.6938\n",
      "Epoch 4/18\n",
      "33/33 [==============================] - ETA: 18s - loss: 0.6783 - accuracy: 0.750 - ETA: 17s - loss: 0.6676 - accuracy: 0.734 - ETA: 17s - loss: 0.6599 - accuracy: 0.742 - ETA: 17s - loss: 0.6587 - accuracy: 0.746 - ETA: 16s - loss: 0.6665 - accuracy: 0.746 - ETA: 15s - loss: 0.6908 - accuracy: 0.727 - ETA: 15s - loss: 0.6991 - accuracy: 0.725 - ETA: 14s - loss: 0.6897 - accuracy: 0.728 - ETA: 13s - loss: 0.6816 - accuracy: 0.732 - ETA: 13s - loss: 0.6832 - accuracy: 0.732 - ETA: 12s - loss: 0.6846 - accuracy: 0.734 - ETA: 12s - loss: 0.6964 - accuracy: 0.731 - ETA: 11s - loss: 0.6859 - accuracy: 0.735 - ETA: 11s - loss: 0.6911 - accuracy: 0.734 - ETA: 10s - loss: 0.6952 - accuracy: 0.733 - ETA: 9s - loss: 0.6994 - accuracy: 0.732 - ETA: 9s - loss: 0.6962 - accuracy: 0.73 - ETA: 8s - loss: 0.6926 - accuracy: 0.73 - ETA: 8s - loss: 0.6903 - accuracy: 0.74 - ETA: 7s - loss: 0.6845 - accuracy: 0.74 - ETA: 7s - loss: 0.6838 - accuracy: 0.74 - ETA: 6s - loss: 0.6900 - accuracy: 0.74 - ETA: 5s - loss: 0.6973 - accuracy: 0.74 - ETA: 5s - loss: 0.7032 - accuracy: 0.73 - ETA: 4s - loss: 0.7019 - accuracy: 0.74 - ETA: 4s - loss: 0.7008 - accuracy: 0.74 - ETA: 3s - loss: 0.6999 - accuracy: 0.74 - ETA: 2s - loss: 0.6973 - accuracy: 0.74 - ETA: 2s - loss: 0.6994 - accuracy: 0.74 - ETA: 1s - loss: 0.6961 - accuracy: 0.74 - ETA: 1s - loss: 0.6995 - accuracy: 0.73 - ETA: 0s - loss: 0.7000 - accuracy: 0.73 - ETA: 0s - loss: 0.7000 - accuracy: 0.73 - 19s 574ms/step - loss: 0.7000 - accuracy: 0.7385\n",
      "Epoch 5/18\n",
      "33/33 [==============================] - ETA: 19s - loss: 0.5461 - accuracy: 0.789 - ETA: 18s - loss: 0.6242 - accuracy: 0.757 - ETA: 17s - loss: 0.6309 - accuracy: 0.760 - ETA: 17s - loss: 0.6167 - accuracy: 0.771 - ETA: 16s - loss: 0.6031 - accuracy: 0.778 - ETA: 15s - loss: 0.6110 - accuracy: 0.778 - ETA: 15s - loss: 0.6144 - accuracy: 0.775 - ETA: 14s - loss: 0.6137 - accuracy: 0.774 - ETA: 14s - loss: 0.6104 - accuracy: 0.774 - ETA: 14s - loss: 0.6207 - accuracy: 0.771 - ETA: 13s - loss: 0.6229 - accuracy: 0.770 - ETA: 13s - loss: 0.6219 - accuracy: 0.771 - ETA: 12s - loss: 0.6164 - accuracy: 0.772 - ETA: 11s - loss: 0.6143 - accuracy: 0.768 - ETA: 11s - loss: 0.6160 - accuracy: 0.767 - ETA: 10s - loss: 0.6233 - accuracy: 0.764 - ETA: 9s - loss: 0.6201 - accuracy: 0.765 - ETA: 9s - loss: 0.6195 - accuracy: 0.76 - ETA: 8s - loss: 0.6236 - accuracy: 0.76 - ETA: 7s - loss: 0.6262 - accuracy: 0.76 - ETA: 7s - loss: 0.6231 - accuracy: 0.76 - ETA: 6s - loss: 0.6217 - accuracy: 0.76 - ETA: 6s - loss: 0.6222 - accuracy: 0.76 - ETA: 5s - loss: 0.6174 - accuracy: 0.76 - ETA: 4s - loss: 0.6166 - accuracy: 0.76 - ETA: 4s - loss: 0.6193 - accuracy: 0.76 - ETA: 3s - loss: 0.6138 - accuracy: 0.76 - ETA: 3s - loss: 0.6150 - accuracy: 0.76 - ETA: 2s - loss: 0.6171 - accuracy: 0.76 - ETA: 1s - loss: 0.6182 - accuracy: 0.76 - ETA: 1s - loss: 0.6203 - accuracy: 0.76 - ETA: 0s - loss: 0.6205 - accuracy: 0.76 - ETA: 0s - loss: 0.6205 - accuracy: 0.76 - 20s 600ms/step - loss: 0.6205 - accuracy: 0.7652\n",
      "Epoch 6/18\n"
     ]
    },
    {
     "name": "stdout",
     "output_type": "stream",
     "text": [
      "33/33 [==============================] - ETA: 21s - loss: 0.5592 - accuracy: 0.812 - ETA: 18s - loss: 0.5346 - accuracy: 0.820 - ETA: 18s - loss: 0.5288 - accuracy: 0.817 - ETA: 17s - loss: 0.5417 - accuracy: 0.808 - ETA: 16s - loss: 0.5470 - accuracy: 0.807 - ETA: 16s - loss: 0.5562 - accuracy: 0.807 - ETA: 15s - loss: 0.5423 - accuracy: 0.810 - ETA: 14s - loss: 0.5399 - accuracy: 0.809 - ETA: 14s - loss: 0.5537 - accuracy: 0.805 - ETA: 13s - loss: 0.5621 - accuracy: 0.803 - ETA: 13s - loss: 0.5740 - accuracy: 0.801 - ETA: 12s - loss: 0.5689 - accuracy: 0.800 - ETA: 12s - loss: 0.5606 - accuracy: 0.804 - ETA: 11s - loss: 0.5601 - accuracy: 0.802 - ETA: 10s - loss: 0.5652 - accuracy: 0.800 - ETA: 10s - loss: 0.5715 - accuracy: 0.797 - ETA: 9s - loss: 0.5771 - accuracy: 0.794 - ETA: 8s - loss: 0.5767 - accuracy: 0.79 - ETA: 8s - loss: 0.5719 - accuracy: 0.79 - ETA: 7s - loss: 0.5717 - accuracy: 0.79 - ETA: 7s - loss: 0.5671 - accuracy: 0.79 - ETA: 6s - loss: 0.5654 - accuracy: 0.79 - ETA: 5s - loss: 0.5684 - accuracy: 0.79 - ETA: 5s - loss: 0.5655 - accuracy: 0.79 - ETA: 4s - loss: 0.5620 - accuracy: 0.79 - ETA: 4s - loss: 0.5633 - accuracy: 0.79 - ETA: 3s - loss: 0.5589 - accuracy: 0.79 - ETA: 2s - loss: 0.5585 - accuracy: 0.79 - ETA: 2s - loss: 0.5558 - accuracy: 0.79 - ETA: 1s - loss: 0.5541 - accuracy: 0.79 - ETA: 1s - loss: 0.5536 - accuracy: 0.79 - ETA: 0s - loss: 0.5510 - accuracy: 0.79 - ETA: 0s - loss: 0.5536 - accuracy: 0.79 - 19s 580ms/step - loss: 0.5536 - accuracy: 0.7982\n",
      "Epoch 7/18\n",
      "33/33 [==============================] - ETA: 18s - loss: 0.4437 - accuracy: 0.835 - ETA: 21s - loss: 0.5143 - accuracy: 0.796 - ETA: 18s - loss: 0.5386 - accuracy: 0.791 - ETA: 17s - loss: 0.5302 - accuracy: 0.796 - ETA: 17s - loss: 0.5234 - accuracy: 0.803 - ETA: 16s - loss: 0.5488 - accuracy: 0.793 - ETA: 15s - loss: 0.5450 - accuracy: 0.789 - ETA: 15s - loss: 0.5435 - accuracy: 0.789 - ETA: 14s - loss: 0.5378 - accuracy: 0.789 - ETA: 13s - loss: 0.5421 - accuracy: 0.788 - ETA: 13s - loss: 0.5458 - accuracy: 0.788 - ETA: 12s - loss: 0.5411 - accuracy: 0.789 - ETA: 12s - loss: 0.5410 - accuracy: 0.790 - ETA: 11s - loss: 0.5378 - accuracy: 0.790 - ETA: 10s - loss: 0.5354 - accuracy: 0.791 - ETA: 10s - loss: 0.5357 - accuracy: 0.791 - ETA: 9s - loss: 0.5317 - accuracy: 0.794 - ETA: 9s - loss: 0.5241 - accuracy: 0.79 - ETA: 8s - loss: 0.5295 - accuracy: 0.79 - ETA: 7s - loss: 0.5234 - accuracy: 0.80 - ETA: 7s - loss: 0.5309 - accuracy: 0.79 - ETA: 6s - loss: 0.5281 - accuracy: 0.79 - ETA: 6s - loss: 0.5276 - accuracy: 0.79 - ETA: 5s - loss: 0.5233 - accuracy: 0.80 - ETA: 4s - loss: 0.5190 - accuracy: 0.80 - ETA: 4s - loss: 0.5235 - accuracy: 0.80 - ETA: 3s - loss: 0.5204 - accuracy: 0.80 - ETA: 2s - loss: 0.5148 - accuracy: 0.80 - ETA: 2s - loss: 0.5153 - accuracy: 0.80 - ETA: 1s - loss: 0.5139 - accuracy: 0.80 - ETA: 1s - loss: 0.5168 - accuracy: 0.80 - ETA: 0s - loss: 0.5124 - accuracy: 0.80 - ETA: 0s - loss: 0.5113 - accuracy: 0.80 - 19s 591ms/step - loss: 0.5113 - accuracy: 0.8077\n",
      "Epoch 8/18\n",
      "33/33 [==============================] - ETA: 25s - loss: 0.3401 - accuracy: 0.882 - ETA: 23s - loss: 0.4229 - accuracy: 0.843 - ETA: 20s - loss: 0.4357 - accuracy: 0.838 - ETA: 18s - loss: 0.4472 - accuracy: 0.822 - ETA: 17s - loss: 0.4231 - accuracy: 0.832 - ETA: 17s - loss: 0.4230 - accuracy: 0.835 - ETA: 16s - loss: 0.4295 - accuracy: 0.835 - ETA: 15s - loss: 0.4192 - accuracy: 0.841 - ETA: 14s - loss: 0.4170 - accuracy: 0.843 - ETA: 14s - loss: 0.4219 - accuracy: 0.842 - ETA: 13s - loss: 0.4202 - accuracy: 0.845 - ETA: 13s - loss: 0.4227 - accuracy: 0.846 - ETA: 12s - loss: 0.4196 - accuracy: 0.847 - ETA: 12s - loss: 0.4158 - accuracy: 0.847 - ETA: 11s - loss: 0.4146 - accuracy: 0.847 - ETA: 11s - loss: 0.4116 - accuracy: 0.849 - ETA: 10s - loss: 0.4170 - accuracy: 0.847 - ETA: 9s - loss: 0.4202 - accuracy: 0.845 - ETA: 9s - loss: 0.4152 - accuracy: 0.84 - ETA: 8s - loss: 0.4119 - accuracy: 0.85 - ETA: 7s - loss: 0.4131 - accuracy: 0.84 - ETA: 7s - loss: 0.4142 - accuracy: 0.84 - ETA: 6s - loss: 0.4177 - accuracy: 0.84 - ETA: 5s - loss: 0.4192 - accuracy: 0.84 - ETA: 5s - loss: 0.4209 - accuracy: 0.84 - ETA: 4s - loss: 0.4174 - accuracy: 0.84 - ETA: 3s - loss: 0.4192 - accuracy: 0.84 - ETA: 3s - loss: 0.4153 - accuracy: 0.84 - ETA: 2s - loss: 0.4167 - accuracy: 0.84 - ETA: 1s - loss: 0.4188 - accuracy: 0.84 - ETA: 1s - loss: 0.4171 - accuracy: 0.84 - ETA: 0s - loss: 0.4188 - accuracy: 0.84 - ETA: 0s - loss: 0.4183 - accuracy: 0.84 - 21s 629ms/step - loss: 0.4183 - accuracy: 0.8456\n",
      "Epoch 9/18\n",
      "33/33 [==============================] - ETA: 20s - loss: 0.3011 - accuracy: 0.859 - ETA: 22s - loss: 0.3557 - accuracy: 0.859 - ETA: 20s - loss: 0.3575 - accuracy: 0.867 - ETA: 18s - loss: 0.3661 - accuracy: 0.863 - ETA: 17s - loss: 0.3964 - accuracy: 0.854 - ETA: 17s - loss: 0.3976 - accuracy: 0.854 - ETA: 16s - loss: 0.3868 - accuracy: 0.859 - ETA: 15s - loss: 0.3788 - accuracy: 0.865 - ETA: 14s - loss: 0.3829 - accuracy: 0.862 - ETA: 14s - loss: 0.3836 - accuracy: 0.860 - ETA: 13s - loss: 0.3899 - accuracy: 0.859 - ETA: 13s - loss: 0.3984 - accuracy: 0.858 - ETA: 12s - loss: 0.3933 - accuracy: 0.860 - ETA: 11s - loss: 0.3953 - accuracy: 0.859 - ETA: 11s - loss: 0.3966 - accuracy: 0.857 - ETA: 10s - loss: 0.3951 - accuracy: 0.858 - ETA: 9s - loss: 0.3974 - accuracy: 0.857 - ETA: 9s - loss: 0.3932 - accuracy: 0.85 - ETA: 8s - loss: 0.3921 - accuracy: 0.85 - ETA: 8s - loss: 0.3860 - accuracy: 0.85 - ETA: 7s - loss: 0.3860 - accuracy: 0.86 - ETA: 6s - loss: 0.3910 - accuracy: 0.85 - ETA: 6s - loss: 0.3865 - accuracy: 0.86 - ETA: 5s - loss: 0.3858 - accuracy: 0.86 - ETA: 4s - loss: 0.3837 - accuracy: 0.86 - ETA: 4s - loss: 0.3814 - accuracy: 0.86 - ETA: 3s - loss: 0.3852 - accuracy: 0.86 - ETA: 3s - loss: 0.3863 - accuracy: 0.85 - ETA: 2s - loss: 0.3847 - accuracy: 0.85 - ETA: 1s - loss: 0.3813 - accuracy: 0.86 - ETA: 1s - loss: 0.3811 - accuracy: 0.86 - ETA: 0s - loss: 0.3814 - accuracy: 0.86 - ETA: 0s - loss: 0.3812 - accuracy: 0.86 - 20s 599ms/step - loss: 0.3812 - accuracy: 0.8611\n",
      "Epoch 10/18\n",
      "33/33 [==============================] - ETA: 19s - loss: 0.2240 - accuracy: 0.921 - ETA: 20s - loss: 0.2326 - accuracy: 0.925 - ETA: 21s - loss: 0.2528 - accuracy: 0.914 - ETA: 19s - loss: 0.2741 - accuracy: 0.900 - ETA: 19s - loss: 0.2856 - accuracy: 0.896 - ETA: 18s - loss: 0.2829 - accuracy: 0.897 - ETA: 18s - loss: 0.2917 - accuracy: 0.895 - ETA: 17s - loss: 0.3134 - accuracy: 0.883 - ETA: 16s - loss: 0.3310 - accuracy: 0.878 - ETA: 15s - loss: 0.3215 - accuracy: 0.885 - ETA: 14s - loss: 0.3189 - accuracy: 0.884 - ETA: 14s - loss: 0.3249 - accuracy: 0.881 - ETA: 13s - loss: 0.3340 - accuracy: 0.876 - ETA: 12s - loss: 0.3341 - accuracy: 0.875 - ETA: 11s - loss: 0.3280 - accuracy: 0.877 - ETA: 11s - loss: 0.3264 - accuracy: 0.878 - ETA: 10s - loss: 0.3284 - accuracy: 0.876 - ETA: 9s - loss: 0.3263 - accuracy: 0.878 - ETA: 9s - loss: 0.3374 - accuracy: 0.87 - ETA: 8s - loss: 0.3382 - accuracy: 0.87 - ETA: 7s - loss: 0.3321 - accuracy: 0.87 - ETA: 7s - loss: 0.3327 - accuracy: 0.87 - ETA: 6s - loss: 0.3334 - accuracy: 0.87 - ETA: 5s - loss: 0.3358 - accuracy: 0.87 - ETA: 5s - loss: 0.3368 - accuracy: 0.87 - ETA: 4s - loss: 0.3412 - accuracy: 0.87 - ETA: 3s - loss: 0.3388 - accuracy: 0.87 - ETA: 3s - loss: 0.3419 - accuracy: 0.87 - ETA: 2s - loss: 0.3436 - accuracy: 0.87 - ETA: 1s - loss: 0.3471 - accuracy: 0.87 - ETA: 1s - loss: 0.3493 - accuracy: 0.87 - ETA: 0s - loss: 0.3498 - accuracy: 0.87 - ETA: 0s - loss: 0.3493 - accuracy: 0.87 - 20s 618ms/step - loss: 0.3493 - accuracy: 0.8706\n",
      "Epoch 11/18\n"
     ]
    },
    {
     "name": "stdout",
     "output_type": "stream",
     "text": [
      "33/33 [==============================] - ETA: 20s - loss: 0.2635 - accuracy: 0.890 - ETA: 21s - loss: 0.2572 - accuracy: 0.906 - ETA: 21s - loss: 0.2530 - accuracy: 0.908 - ETA: 19s - loss: 0.2671 - accuracy: 0.902 - ETA: 18s - loss: 0.2602 - accuracy: 0.907 - ETA: 17s - loss: 0.2660 - accuracy: 0.902 - ETA: 17s - loss: 0.2698 - accuracy: 0.900 - ETA: 16s - loss: 0.2695 - accuracy: 0.901 - ETA: 15s - loss: 0.2678 - accuracy: 0.902 - ETA: 14s - loss: 0.2791 - accuracy: 0.899 - ETA: 14s - loss: 0.2764 - accuracy: 0.899 - ETA: 13s - loss: 0.2741 - accuracy: 0.901 - ETA: 12s - loss: 0.2761 - accuracy: 0.898 - ETA: 12s - loss: 0.2872 - accuracy: 0.892 - ETA: 11s - loss: 0.2809 - accuracy: 0.894 - ETA: 10s - loss: 0.2805 - accuracy: 0.895 - ETA: 10s - loss: 0.2856 - accuracy: 0.893 - ETA: 9s - loss: 0.2870 - accuracy: 0.892 - ETA: 8s - loss: 0.2865 - accuracy: 0.89 - ETA: 8s - loss: 0.2882 - accuracy: 0.89 - ETA: 7s - loss: 0.2859 - accuracy: 0.89 - ETA: 6s - loss: 0.2877 - accuracy: 0.89 - ETA: 6s - loss: 0.2901 - accuracy: 0.89 - ETA: 5s - loss: 0.2896 - accuracy: 0.89 - ETA: 5s - loss: 0.2936 - accuracy: 0.89 - ETA: 4s - loss: 0.2903 - accuracy: 0.89 - ETA: 3s - loss: 0.2873 - accuracy: 0.89 - ETA: 3s - loss: 0.2846 - accuracy: 0.89 - ETA: 2s - loss: 0.2839 - accuracy: 0.89 - ETA: 1s - loss: 0.2836 - accuracy: 0.89 - ETA: 1s - loss: 0.2851 - accuracy: 0.89 - ETA: 0s - loss: 0.2864 - accuracy: 0.89 - ETA: 0s - loss: 0.2863 - accuracy: 0.89 - 20s 607ms/step - loss: 0.2863 - accuracy: 0.8922\n",
      "Epoch 12/18\n",
      "33/33 [==============================] - ETA: 19s - loss: 0.3429 - accuracy: 0.890 - ETA: 18s - loss: 0.2842 - accuracy: 0.894 - ETA: 20s - loss: 0.2732 - accuracy: 0.898 - ETA: 19s - loss: 0.2839 - accuracy: 0.896 - ETA: 17s - loss: 0.2631 - accuracy: 0.904 - ETA: 17s - loss: 0.2643 - accuracy: 0.899 - ETA: 16s - loss: 0.2830 - accuracy: 0.894 - ETA: 15s - loss: 0.2832 - accuracy: 0.895 - ETA: 14s - loss: 0.2846 - accuracy: 0.893 - ETA: 14s - loss: 0.2923 - accuracy: 0.892 - ETA: 13s - loss: 0.2938 - accuracy: 0.891 - ETA: 12s - loss: 0.2992 - accuracy: 0.887 - ETA: 12s - loss: 0.2911 - accuracy: 0.890 - ETA: 11s - loss: 0.2859 - accuracy: 0.892 - ETA: 11s - loss: 0.2830 - accuracy: 0.893 - ETA: 10s - loss: 0.2850 - accuracy: 0.892 - ETA: 9s - loss: 0.2869 - accuracy: 0.892 - ETA: 9s - loss: 0.2838 - accuracy: 0.89 - ETA: 8s - loss: 0.2796 - accuracy: 0.89 - ETA: 7s - loss: 0.2792 - accuracy: 0.89 - ETA: 7s - loss: 0.2806 - accuracy: 0.89 - ETA: 6s - loss: 0.2839 - accuracy: 0.89 - ETA: 6s - loss: 0.2828 - accuracy: 0.89 - ETA: 5s - loss: 0.2838 - accuracy: 0.89 - ETA: 4s - loss: 0.2833 - accuracy: 0.89 - ETA: 4s - loss: 0.2833 - accuracy: 0.89 - ETA: 3s - loss: 0.2822 - accuracy: 0.89 - ETA: 3s - loss: 0.2813 - accuracy: 0.89 - ETA: 2s - loss: 0.2806 - accuracy: 0.89 - ETA: 1s - loss: 0.2802 - accuracy: 0.89 - ETA: 1s - loss: 0.2807 - accuracy: 0.89 - ETA: 0s - loss: 0.2800 - accuracy: 0.89 - ETA: 0s - loss: 0.2815 - accuracy: 0.89 - 20s 607ms/step - loss: 0.2815 - accuracy: 0.8949\n",
      "Epoch 13/18\n",
      "33/33 [==============================] - ETA: 21s - loss: 0.2740 - accuracy: 0.890 - ETA: 21s - loss: 0.2406 - accuracy: 0.902 - ETA: 20s - loss: 0.2390 - accuracy: 0.911 - ETA: 19s - loss: 0.2269 - accuracy: 0.912 - ETA: 18s - loss: 0.2270 - accuracy: 0.914 - ETA: 17s - loss: 0.2235 - accuracy: 0.912 - ETA: 17s - loss: 0.2295 - accuracy: 0.911 - ETA: 16s - loss: 0.2216 - accuracy: 0.915 - ETA: 15s - loss: 0.2311 - accuracy: 0.912 - ETA: 15s - loss: 0.2288 - accuracy: 0.914 - ETA: 14s - loss: 0.2374 - accuracy: 0.909 - ETA: 13s - loss: 0.2429 - accuracy: 0.907 - ETA: 13s - loss: 0.2473 - accuracy: 0.905 - ETA: 12s - loss: 0.2472 - accuracy: 0.906 - ETA: 11s - loss: 0.2460 - accuracy: 0.907 - ETA: 10s - loss: 0.2464 - accuracy: 0.907 - ETA: 10s - loss: 0.2480 - accuracy: 0.906 - ETA: 9s - loss: 0.2480 - accuracy: 0.907 - ETA: 8s - loss: 0.2470 - accuracy: 0.90 - ETA: 8s - loss: 0.2520 - accuracy: 0.90 - ETA: 7s - loss: 0.2491 - accuracy: 0.91 - ETA: 6s - loss: 0.2461 - accuracy: 0.91 - ETA: 6s - loss: 0.2461 - accuracy: 0.91 - ETA: 5s - loss: 0.2474 - accuracy: 0.91 - ETA: 4s - loss: 0.2469 - accuracy: 0.90 - ETA: 4s - loss: 0.2466 - accuracy: 0.90 - ETA: 3s - loss: 0.2459 - accuracy: 0.90 - ETA: 3s - loss: 0.2407 - accuracy: 0.90 - ETA: 2s - loss: 0.2420 - accuracy: 0.90 - ETA: 1s - loss: 0.2422 - accuracy: 0.90 - ETA: 1s - loss: 0.2415 - accuracy: 0.91 - ETA: 0s - loss: 0.2406 - accuracy: 0.91 - ETA: 0s - loss: 0.2419 - accuracy: 0.91 - 20s 605ms/step - loss: 0.2419 - accuracy: 0.9109\n",
      "Epoch 14/18\n",
      "33/33 [==============================] - ETA: 19s - loss: 0.1457 - accuracy: 0.945 - ETA: 18s - loss: 0.1729 - accuracy: 0.945 - ETA: 17s - loss: 0.1858 - accuracy: 0.937 - ETA: 17s - loss: 0.1770 - accuracy: 0.941 - ETA: 16s - loss: 0.1823 - accuracy: 0.935 - ETA: 16s - loss: 0.1827 - accuracy: 0.934 - ETA: 15s - loss: 0.1941 - accuracy: 0.929 - ETA: 14s - loss: 0.2026 - accuracy: 0.926 - ETA: 14s - loss: 0.2040 - accuracy: 0.928 - ETA: 13s - loss: 0.2065 - accuracy: 0.925 - ETA: 13s - loss: 0.2119 - accuracy: 0.920 - ETA: 12s - loss: 0.2138 - accuracy: 0.920 - ETA: 11s - loss: 0.2113 - accuracy: 0.921 - ETA: 11s - loss: 0.2052 - accuracy: 0.923 - ETA: 10s - loss: 0.2074 - accuracy: 0.922 - ETA: 10s - loss: 0.2074 - accuracy: 0.921 - ETA: 9s - loss: 0.2087 - accuracy: 0.921 - ETA: 9s - loss: 0.2092 - accuracy: 0.92 - ETA: 8s - loss: 0.2114 - accuracy: 0.92 - ETA: 7s - loss: 0.2157 - accuracy: 0.91 - ETA: 7s - loss: 0.2122 - accuracy: 0.91 - ETA: 6s - loss: 0.2125 - accuracy: 0.91 - ETA: 6s - loss: 0.2138 - accuracy: 0.91 - ETA: 5s - loss: 0.2154 - accuracy: 0.91 - ETA: 4s - loss: 0.2175 - accuracy: 0.91 - ETA: 4s - loss: 0.2209 - accuracy: 0.91 - ETA: 3s - loss: 0.2203 - accuracy: 0.91 - ETA: 3s - loss: 0.2216 - accuracy: 0.91 - ETA: 2s - loss: 0.2188 - accuracy: 0.91 - ETA: 1s - loss: 0.2191 - accuracy: 0.91 - ETA: 1s - loss: 0.2190 - accuracy: 0.91 - ETA: 0s - loss: 0.2234 - accuracy: 0.91 - ETA: 0s - loss: 0.2249 - accuracy: 0.91 - 19s 589ms/step - loss: 0.2249 - accuracy: 0.9126\n",
      "Epoch 15/18\n",
      "33/33 [==============================] - ETA: 18s - loss: 0.1920 - accuracy: 0.929 - ETA: 18s - loss: 0.1669 - accuracy: 0.941 - ETA: 17s - loss: 0.1838 - accuracy: 0.927 - ETA: 16s - loss: 0.1974 - accuracy: 0.923 - ETA: 16s - loss: 0.2035 - accuracy: 0.925 - ETA: 16s - loss: 0.1947 - accuracy: 0.927 - ETA: 15s - loss: 0.1969 - accuracy: 0.928 - ETA: 14s - loss: 0.2058 - accuracy: 0.926 - ETA: 14s - loss: 0.2106 - accuracy: 0.924 - ETA: 13s - loss: 0.2075 - accuracy: 0.922 - ETA: 13s - loss: 0.2063 - accuracy: 0.922 - ETA: 13s - loss: 0.2074 - accuracy: 0.922 - ETA: 12s - loss: 0.2091 - accuracy: 0.923 - ETA: 12s - loss: 0.2097 - accuracy: 0.921 - ETA: 11s - loss: 0.2088 - accuracy: 0.922 - ETA: 10s - loss: 0.2041 - accuracy: 0.924 - ETA: 10s - loss: 0.2043 - accuracy: 0.925 - ETA: 9s - loss: 0.2068 - accuracy: 0.924 - ETA: 9s - loss: 0.2036 - accuracy: 0.92 - ETA: 8s - loss: 0.2056 - accuracy: 0.92 - ETA: 7s - loss: 0.2074 - accuracy: 0.92 - ETA: 7s - loss: 0.2079 - accuracy: 0.92 - ETA: 6s - loss: 0.2087 - accuracy: 0.92 - ETA: 5s - loss: 0.2100 - accuracy: 0.92 - ETA: 5s - loss: 0.2097 - accuracy: 0.92 - ETA: 4s - loss: 0.2113 - accuracy: 0.92 - ETA: 3s - loss: 0.2134 - accuracy: 0.92 - ETA: 3s - loss: 0.2145 - accuracy: 0.92 - ETA: 2s - loss: 0.2150 - accuracy: 0.92 - ETA: 1s - loss: 0.2139 - accuracy: 0.92 - ETA: 1s - loss: 0.2130 - accuracy: 0.92 - ETA: 0s - loss: 0.2125 - accuracy: 0.92 - ETA: 0s - loss: 0.2128 - accuracy: 0.92 - 21s 623ms/step - loss: 0.2128 - accuracy: 0.9213\n",
      "Epoch 16/18\n"
     ]
    },
    {
     "name": "stdout",
     "output_type": "stream",
     "text": [
      "33/33 [==============================] - ETA: 19s - loss: 0.1029 - accuracy: 0.976 - ETA: 20s - loss: 0.1508 - accuracy: 0.953 - ETA: 20s - loss: 0.1424 - accuracy: 0.953 - ETA: 19s - loss: 0.1634 - accuracy: 0.941 - ETA: 18s - loss: 0.1604 - accuracy: 0.942 - ETA: 17s - loss: 0.1552 - accuracy: 0.944 - ETA: 16s - loss: 0.1762 - accuracy: 0.936 - ETA: 16s - loss: 0.1761 - accuracy: 0.935 - ETA: 15s - loss: 0.1745 - accuracy: 0.938 - ETA: 14s - loss: 0.1793 - accuracy: 0.935 - ETA: 14s - loss: 0.1864 - accuracy: 0.933 - ETA: 13s - loss: 0.1865 - accuracy: 0.933 - ETA: 12s - loss: 0.1893 - accuracy: 0.930 - ETA: 12s - loss: 0.1870 - accuracy: 0.931 - ETA: 11s - loss: 0.1896 - accuracy: 0.931 - ETA: 10s - loss: 0.1840 - accuracy: 0.933 - ETA: 10s - loss: 0.1789 - accuracy: 0.935 - ETA: 9s - loss: 0.1793 - accuracy: 0.934 - ETA: 8s - loss: 0.1816 - accuracy: 0.93 - ETA: 8s - loss: 0.1796 - accuracy: 0.93 - ETA: 7s - loss: 0.1804 - accuracy: 0.93 - ETA: 6s - loss: 0.1816 - accuracy: 0.93 - ETA: 6s - loss: 0.1804 - accuracy: 0.93 - ETA: 5s - loss: 0.1801 - accuracy: 0.93 - ETA: 5s - loss: 0.1822 - accuracy: 0.93 - ETA: 4s - loss: 0.1859 - accuracy: 0.93 - ETA: 3s - loss: 0.1884 - accuracy: 0.93 - ETA: 3s - loss: 0.1854 - accuracy: 0.93 - ETA: 2s - loss: 0.1893 - accuracy: 0.93 - ETA: 1s - loss: 0.1917 - accuracy: 0.92 - ETA: 1s - loss: 0.1915 - accuracy: 0.92 - ETA: 0s - loss: 0.1907 - accuracy: 0.92 - ETA: 0s - loss: 0.1915 - accuracy: 0.92 - 20s 609ms/step - loss: 0.1915 - accuracy: 0.9284\n",
      "Epoch 17/18\n",
      "33/33 [==============================] - ETA: 19s - loss: 0.1897 - accuracy: 0.921 - ETA: 18s - loss: 0.1633 - accuracy: 0.933 - ETA: 18s - loss: 0.1607 - accuracy: 0.937 - ETA: 17s - loss: 0.1557 - accuracy: 0.941 - ETA: 17s - loss: 0.1681 - accuracy: 0.939 - ETA: 16s - loss: 0.1664 - accuracy: 0.941 - ETA: 15s - loss: 0.1741 - accuracy: 0.937 - ETA: 15s - loss: 0.1713 - accuracy: 0.940 - ETA: 14s - loss: 0.1716 - accuracy: 0.940 - ETA: 14s - loss: 0.1674 - accuracy: 0.941 - ETA: 13s - loss: 0.1708 - accuracy: 0.939 - ETA: 13s - loss: 0.1705 - accuracy: 0.940 - ETA: 12s - loss: 0.1736 - accuracy: 0.938 - ETA: 11s - loss: 0.1696 - accuracy: 0.940 - ETA: 11s - loss: 0.1717 - accuracy: 0.939 - ETA: 10s - loss: 0.1781 - accuracy: 0.936 - ETA: 9s - loss: 0.1819 - accuracy: 0.935 - ETA: 9s - loss: 0.1846 - accuracy: 0.93 - ETA: 8s - loss: 0.1826 - accuracy: 0.93 - ETA: 8s - loss: 0.1822 - accuracy: 0.93 - ETA: 7s - loss: 0.1796 - accuracy: 0.93 - ETA: 6s - loss: 0.1830 - accuracy: 0.93 - ETA: 6s - loss: 0.1831 - accuracy: 0.93 - ETA: 5s - loss: 0.1814 - accuracy: 0.93 - ETA: 4s - loss: 0.1795 - accuracy: 0.93 - ETA: 4s - loss: 0.1786 - accuracy: 0.93 - ETA: 3s - loss: 0.1753 - accuracy: 0.93 - ETA: 3s - loss: 0.1740 - accuracy: 0.93 - ETA: 2s - loss: 0.1740 - accuracy: 0.93 - ETA: 1s - loss: 0.1754 - accuracy: 0.93 - ETA: 1s - loss: 0.1782 - accuracy: 0.93 - ETA: 0s - loss: 0.1773 - accuracy: 0.93 - ETA: 0s - loss: 0.1769 - accuracy: 0.93 - 20s 600ms/step - loss: 0.1769 - accuracy: 0.9364\n",
      "Epoch 18/18\n",
      "33/33 [==============================] - ETA: 19s - loss: 0.1149 - accuracy: 0.960 - ETA: 19s - loss: 0.1195 - accuracy: 0.957 - ETA: 18s - loss: 0.1295 - accuracy: 0.958 - ETA: 17s - loss: 0.1212 - accuracy: 0.959 - ETA: 16s - loss: 0.1250 - accuracy: 0.956 - ETA: 16s - loss: 0.1244 - accuracy: 0.957 - ETA: 15s - loss: 0.1358 - accuracy: 0.953 - ETA: 15s - loss: 0.1359 - accuracy: 0.952 - ETA: 14s - loss: 0.1399 - accuracy: 0.951 - ETA: 13s - loss: 0.1419 - accuracy: 0.951 - ETA: 13s - loss: 0.1407 - accuracy: 0.952 - ETA: 12s - loss: 0.1370 - accuracy: 0.952 - ETA: 12s - loss: 0.1445 - accuracy: 0.948 - ETA: 11s - loss: 0.1493 - accuracy: 0.947 - ETA: 10s - loss: 0.1485 - accuracy: 0.946 - ETA: 10s - loss: 0.1449 - accuracy: 0.948 - ETA: 9s - loss: 0.1472 - accuracy: 0.946 - ETA: 9s - loss: 0.1467 - accuracy: 0.94 - ETA: 8s - loss: 0.1473 - accuracy: 0.94 - ETA: 7s - loss: 0.1519 - accuracy: 0.94 - ETA: 7s - loss: 0.1519 - accuracy: 0.94 - ETA: 6s - loss: 0.1572 - accuracy: 0.94 - ETA: 6s - loss: 0.1602 - accuracy: 0.94 - ETA: 5s - loss: 0.1635 - accuracy: 0.93 - ETA: 4s - loss: 0.1659 - accuracy: 0.93 - ETA: 4s - loss: 0.1669 - accuracy: 0.93 - ETA: 3s - loss: 0.1662 - accuracy: 0.93 - ETA: 3s - loss: 0.1660 - accuracy: 0.93 - ETA: 2s - loss: 0.1671 - accuracy: 0.93 - ETA: 1s - loss: 0.1672 - accuracy: 0.93 - ETA: 1s - loss: 0.1683 - accuracy: 0.93 - ETA: 0s - loss: 0.1694 - accuracy: 0.93 - ETA: 0s - loss: 0.1690 - accuracy: 0.93 - 20s 612ms/step - loss: 0.1690 - accuracy: 0.9339\n",
      "Score for fold 1: loss of 0.5805109143257141; accuracy of 82.2330117225647%\n",
      "------------------------------------------------------------------------\n",
      "Training for fold 2 ...\n",
      "Epoch 1/18\n",
      "33/33 [==============================] - ETA: 4:15 - loss: 1.3894 - accuracy: 0.20 - ETA: 20s - loss: 1.3711 - accuracy: 0.2852 - ETA: 20s - loss: 1.3668 - accuracy: 0.304 - ETA: 19s - loss: 1.3613 - accuracy: 0.314 - ETA: 18s - loss: 1.3633 - accuracy: 0.312 - ETA: 17s - loss: 1.3552 - accuracy: 0.322 - ETA: 16s - loss: 1.3502 - accuracy: 0.334 - ETA: 16s - loss: 1.3399 - accuracy: 0.354 - ETA: 15s - loss: 1.3310 - accuracy: 0.363 - ETA: 15s - loss: 1.3196 - accuracy: 0.377 - ETA: 14s - loss: 1.3125 - accuracy: 0.386 - ETA: 13s - loss: 1.3085 - accuracy: 0.386 - ETA: 12s - loss: 1.2977 - accuracy: 0.391 - ETA: 12s - loss: 1.2949 - accuracy: 0.394 - ETA: 11s - loss: 1.2884 - accuracy: 0.397 - ETA: 10s - loss: 1.2809 - accuracy: 0.403 - ETA: 10s - loss: 1.2716 - accuracy: 0.409 - ETA: 9s - loss: 1.2627 - accuracy: 0.418 - ETA: 8s - loss: 1.2564 - accuracy: 0.42 - ETA: 8s - loss: 1.2495 - accuracy: 0.42 - ETA: 7s - loss: 1.2461 - accuracy: 0.43 - ETA: 7s - loss: 1.2405 - accuracy: 0.43 - ETA: 6s - loss: 1.2345 - accuracy: 0.44 - ETA: 5s - loss: 1.2253 - accuracy: 0.44 - ETA: 5s - loss: 1.2218 - accuracy: 0.45 - ETA: 4s - loss: 1.2142 - accuracy: 0.45 - ETA: 3s - loss: 1.2076 - accuracy: 0.45 - ETA: 3s - loss: 1.2038 - accuracy: 0.46 - ETA: 2s - loss: 1.1967 - accuracy: 0.46 - ETA: 1s - loss: 1.1919 - accuracy: 0.47 - ETA: 1s - loss: 1.1875 - accuracy: 0.47 - ETA: 0s - loss: 1.1773 - accuracy: 0.47 - ETA: 0s - loss: 1.1759 - accuracy: 0.48 - 28s 618ms/step - loss: 1.1759 - accuracy: 0.4800\n",
      "Epoch 2/18\n",
      "33/33 [==============================] - ETA: 19s - loss: 0.8306 - accuracy: 0.703 - ETA: 19s - loss: 0.8632 - accuracy: 0.687 - ETA: 18s - loss: 0.9025 - accuracy: 0.651 - ETA: 18s - loss: 0.8937 - accuracy: 0.658 - ETA: 17s - loss: 0.8867 - accuracy: 0.670 - ETA: 16s - loss: 0.8782 - accuracy: 0.665 - ETA: 16s - loss: 0.8759 - accuracy: 0.662 - ETA: 15s - loss: 0.8778 - accuracy: 0.666 - ETA: 14s - loss: 0.8737 - accuracy: 0.667 - ETA: 14s - loss: 0.8885 - accuracy: 0.653 - ETA: 13s - loss: 0.9001 - accuracy: 0.649 - ETA: 12s - loss: 0.8980 - accuracy: 0.651 - ETA: 12s - loss: 0.8978 - accuracy: 0.649 - ETA: 11s - loss: 0.9000 - accuracy: 0.647 - ETA: 11s - loss: 0.8992 - accuracy: 0.650 - ETA: 10s - loss: 0.8919 - accuracy: 0.652 - ETA: 9s - loss: 0.8860 - accuracy: 0.654 - ETA: 9s - loss: 0.8845 - accuracy: 0.65 - ETA: 8s - loss: 0.8835 - accuracy: 0.65 - ETA: 7s - loss: 0.8821 - accuracy: 0.65 - ETA: 7s - loss: 0.8864 - accuracy: 0.65 - ETA: 6s - loss: 0.8822 - accuracy: 0.65 - ETA: 6s - loss: 0.8817 - accuracy: 0.65 - ETA: 5s - loss: 0.8852 - accuracy: 0.65 - ETA: 4s - loss: 0.8861 - accuracy: 0.64 - ETA: 4s - loss: 0.8854 - accuracy: 0.64 - ETA: 3s - loss: 0.8815 - accuracy: 0.65 - ETA: 3s - loss: 0.8773 - accuracy: 0.65 - ETA: 2s - loss: 0.8749 - accuracy: 0.65 - ETA: 1s - loss: 0.8729 - accuracy: 0.65 - ETA: 1s - loss: 0.8733 - accuracy: 0.65 - ETA: 0s - loss: 0.8750 - accuracy: 0.65 - ETA: 0s - loss: 0.8744 - accuracy: 0.65 - 20s 603ms/step - loss: 0.8744 - accuracy: 0.6574\n",
      "Epoch 3/18\n"
     ]
    },
    {
     "name": "stdout",
     "output_type": "stream",
     "text": [
      "33/33 [==============================] - ETA: 19s - loss: 0.8287 - accuracy: 0.687 - ETA: 19s - loss: 0.8714 - accuracy: 0.652 - ETA: 18s - loss: 0.8496 - accuracy: 0.658 - ETA: 18s - loss: 0.8442 - accuracy: 0.668 - ETA: 17s - loss: 0.8278 - accuracy: 0.679 - ETA: 17s - loss: 0.8218 - accuracy: 0.679 - ETA: 17s - loss: 0.8046 - accuracy: 0.692 - ETA: 16s - loss: 0.7964 - accuracy: 0.697 - ETA: 15s - loss: 0.8092 - accuracy: 0.690 - ETA: 14s - loss: 0.8059 - accuracy: 0.691 - ETA: 14s - loss: 0.8072 - accuracy: 0.687 - ETA: 13s - loss: 0.8051 - accuracy: 0.688 - ETA: 12s - loss: 0.7976 - accuracy: 0.690 - ETA: 12s - loss: 0.7947 - accuracy: 0.694 - ETA: 11s - loss: 0.7967 - accuracy: 0.693 - ETA: 10s - loss: 0.7856 - accuracy: 0.699 - ETA: 10s - loss: 0.7852 - accuracy: 0.699 - ETA: 9s - loss: 0.7785 - accuracy: 0.700 - ETA: 8s - loss: 0.7763 - accuracy: 0.70 - ETA: 8s - loss: 0.7690 - accuracy: 0.70 - ETA: 7s - loss: 0.7651 - accuracy: 0.70 - ETA: 6s - loss: 0.7658 - accuracy: 0.70 - ETA: 6s - loss: 0.7625 - accuracy: 0.70 - ETA: 5s - loss: 0.7567 - accuracy: 0.70 - ETA: 4s - loss: 0.7541 - accuracy: 0.71 - ETA: 4s - loss: 0.7537 - accuracy: 0.71 - ETA: 3s - loss: 0.7511 - accuracy: 0.71 - ETA: 3s - loss: 0.7485 - accuracy: 0.71 - ETA: 2s - loss: 0.7519 - accuracy: 0.71 - ETA: 1s - loss: 0.7492 - accuracy: 0.71 - ETA: 1s - loss: 0.7429 - accuracy: 0.71 - ETA: 0s - loss: 0.7384 - accuracy: 0.71 - ETA: 0s - loss: 0.7394 - accuracy: 0.71 - 20s 610ms/step - loss: 0.7394 - accuracy: 0.7184\n",
      "Epoch 4/18\n",
      "33/33 [==============================] - ETA: 19s - loss: 0.7748 - accuracy: 0.726 - ETA: 19s - loss: 0.7637 - accuracy: 0.718 - ETA: 18s - loss: 0.7496 - accuracy: 0.726 - ETA: 17s - loss: 0.7240 - accuracy: 0.730 - ETA: 17s - loss: 0.7292 - accuracy: 0.726 - ETA: 16s - loss: 0.7199 - accuracy: 0.735 - ETA: 15s - loss: 0.7170 - accuracy: 0.736 - ETA: 15s - loss: 0.7040 - accuracy: 0.741 - ETA: 14s - loss: 0.7034 - accuracy: 0.737 - ETA: 13s - loss: 0.6969 - accuracy: 0.739 - ETA: 13s - loss: 0.6919 - accuracy: 0.740 - ETA: 12s - loss: 0.6877 - accuracy: 0.741 - ETA: 12s - loss: 0.6891 - accuracy: 0.741 - ETA: 11s - loss: 0.6897 - accuracy: 0.742 - ETA: 10s - loss: 0.6785 - accuracy: 0.747 - ETA: 10s - loss: 0.6843 - accuracy: 0.741 - ETA: 9s - loss: 0.6858 - accuracy: 0.739 - ETA: 9s - loss: 0.6781 - accuracy: 0.74 - ETA: 8s - loss: 0.6723 - accuracy: 0.74 - ETA: 7s - loss: 0.6738 - accuracy: 0.74 - ETA: 7s - loss: 0.6775 - accuracy: 0.74 - ETA: 6s - loss: 0.6799 - accuracy: 0.74 - ETA: 6s - loss: 0.6822 - accuracy: 0.74 - ETA: 5s - loss: 0.6787 - accuracy: 0.74 - ETA: 4s - loss: 0.6750 - accuracy: 0.74 - ETA: 4s - loss: 0.6792 - accuracy: 0.74 - ETA: 3s - loss: 0.6747 - accuracy: 0.74 - ETA: 3s - loss: 0.6711 - accuracy: 0.74 - ETA: 2s - loss: 0.6728 - accuracy: 0.74 - ETA: 1s - loss: 0.6697 - accuracy: 0.74 - ETA: 1s - loss: 0.6680 - accuracy: 0.74 - ETA: 0s - loss: 0.6656 - accuracy: 0.74 - ETA: 0s - loss: 0.6647 - accuracy: 0.74 - 19s 590ms/step - loss: 0.6647 - accuracy: 0.7465\n",
      "Epoch 5/18\n",
      "33/33 [==============================] - ETA: 19s - loss: 0.6882 - accuracy: 0.726 - ETA: 18s - loss: 0.5697 - accuracy: 0.785 - ETA: 18s - loss: 0.5864 - accuracy: 0.773 - ETA: 17s - loss: 0.6011 - accuracy: 0.769 - ETA: 17s - loss: 0.5797 - accuracy: 0.775 - ETA: 16s - loss: 0.5898 - accuracy: 0.777 - ETA: 15s - loss: 0.5880 - accuracy: 0.775 - ETA: 15s - loss: 0.5834 - accuracy: 0.774 - ETA: 14s - loss: 0.5743 - accuracy: 0.776 - ETA: 14s - loss: 0.5847 - accuracy: 0.771 - ETA: 13s - loss: 0.5850 - accuracy: 0.774 - ETA: 12s - loss: 0.5783 - accuracy: 0.777 - ETA: 12s - loss: 0.5826 - accuracy: 0.774 - ETA: 11s - loss: 0.5811 - accuracy: 0.774 - ETA: 10s - loss: 0.5708 - accuracy: 0.780 - ETA: 10s - loss: 0.5705 - accuracy: 0.782 - ETA: 9s - loss: 0.5735 - accuracy: 0.781 - ETA: 9s - loss: 0.5743 - accuracy: 0.77 - ETA: 8s - loss: 0.5709 - accuracy: 0.78 - ETA: 7s - loss: 0.5730 - accuracy: 0.78 - ETA: 7s - loss: 0.5704 - accuracy: 0.78 - ETA: 6s - loss: 0.5678 - accuracy: 0.78 - ETA: 6s - loss: 0.5695 - accuracy: 0.78 - ETA: 5s - loss: 0.5688 - accuracy: 0.78 - ETA: 4s - loss: 0.5691 - accuracy: 0.78 - ETA: 4s - loss: 0.5650 - accuracy: 0.78 - ETA: 3s - loss: 0.5638 - accuracy: 0.78 - ETA: 3s - loss: 0.5597 - accuracy: 0.78 - ETA: 2s - loss: 0.5602 - accuracy: 0.78 - ETA: 1s - loss: 0.5600 - accuracy: 0.78 - ETA: 1s - loss: 0.5606 - accuracy: 0.78 - ETA: 0s - loss: 0.5609 - accuracy: 0.78 - ETA: 0s - loss: 0.5608 - accuracy: 0.78 - 20s 596ms/step - loss: 0.5608 - accuracy: 0.7868\n",
      "Epoch 6/18\n",
      "33/33 [==============================] - ETA: 19s - loss: 0.5313 - accuracy: 0.773 - ETA: 18s - loss: 0.5760 - accuracy: 0.761 - ETA: 17s - loss: 0.5760 - accuracy: 0.770 - ETA: 17s - loss: 0.5567 - accuracy: 0.783 - ETA: 17s - loss: 0.5225 - accuracy: 0.800 - ETA: 16s - loss: 0.5319 - accuracy: 0.791 - ETA: 15s - loss: 0.5288 - accuracy: 0.790 - ETA: 15s - loss: 0.5271 - accuracy: 0.794 - ETA: 14s - loss: 0.5285 - accuracy: 0.793 - ETA: 14s - loss: 0.5267 - accuracy: 0.794 - ETA: 13s - loss: 0.5227 - accuracy: 0.797 - ETA: 12s - loss: 0.5291 - accuracy: 0.794 - ETA: 12s - loss: 0.5315 - accuracy: 0.793 - ETA: 11s - loss: 0.5414 - accuracy: 0.789 - ETA: 11s - loss: 0.5380 - accuracy: 0.789 - ETA: 10s - loss: 0.5409 - accuracy: 0.790 - ETA: 10s - loss: 0.5451 - accuracy: 0.788 - ETA: 9s - loss: 0.5467 - accuracy: 0.789 - ETA: 8s - loss: 0.5513 - accuracy: 0.78 - ETA: 8s - loss: 0.5476 - accuracy: 0.79 - ETA: 7s - loss: 0.5419 - accuracy: 0.79 - ETA: 6s - loss: 0.5351 - accuracy: 0.79 - ETA: 6s - loss: 0.5344 - accuracy: 0.79 - ETA: 5s - loss: 0.5321 - accuracy: 0.79 - ETA: 4s - loss: 0.5304 - accuracy: 0.79 - ETA: 4s - loss: 0.5272 - accuracy: 0.79 - ETA: 3s - loss: 0.5258 - accuracy: 0.80 - ETA: 3s - loss: 0.5299 - accuracy: 0.79 - ETA: 2s - loss: 0.5310 - accuracy: 0.79 - ETA: 1s - loss: 0.5293 - accuracy: 0.79 - ETA: 1s - loss: 0.5279 - accuracy: 0.79 - ETA: 0s - loss: 0.5280 - accuracy: 0.79 - ETA: 0s - loss: 0.5279 - accuracy: 0.79 - 20s 605ms/step - loss: 0.5279 - accuracy: 0.7985\n",
      "Epoch 7/18\n",
      "33/33 [==============================] - ETA: 19s - loss: 0.4544 - accuracy: 0.796 - ETA: 18s - loss: 0.4838 - accuracy: 0.804 - ETA: 18s - loss: 0.4672 - accuracy: 0.802 - ETA: 17s - loss: 0.4953 - accuracy: 0.798 - ETA: 17s - loss: 0.4852 - accuracy: 0.803 - ETA: 16s - loss: 0.4848 - accuracy: 0.807 - ETA: 15s - loss: 0.4746 - accuracy: 0.814 - ETA: 15s - loss: 0.4634 - accuracy: 0.823 - ETA: 14s - loss: 0.4598 - accuracy: 0.822 - ETA: 14s - loss: 0.4463 - accuracy: 0.830 - ETA: 13s - loss: 0.4532 - accuracy: 0.827 - ETA: 12s - loss: 0.4463 - accuracy: 0.831 - ETA: 12s - loss: 0.4529 - accuracy: 0.829 - ETA: 11s - loss: 0.4573 - accuracy: 0.829 - ETA: 11s - loss: 0.4562 - accuracy: 0.829 - ETA: 10s - loss: 0.4531 - accuracy: 0.830 - ETA: 9s - loss: 0.4479 - accuracy: 0.833 - ETA: 9s - loss: 0.4517 - accuracy: 0.83 - ETA: 8s - loss: 0.4537 - accuracy: 0.83 - ETA: 7s - loss: 0.4551 - accuracy: 0.83 - ETA: 7s - loss: 0.4516 - accuracy: 0.83 - ETA: 6s - loss: 0.4532 - accuracy: 0.83 - ETA: 6s - loss: 0.4540 - accuracy: 0.83 - ETA: 5s - loss: 0.4580 - accuracy: 0.83 - ETA: 4s - loss: 0.4603 - accuracy: 0.82 - ETA: 4s - loss: 0.4628 - accuracy: 0.82 - ETA: 3s - loss: 0.4600 - accuracy: 0.82 - ETA: 3s - loss: 0.4599 - accuracy: 0.82 - ETA: 2s - loss: 0.4606 - accuracy: 0.82 - ETA: 1s - loss: 0.4630 - accuracy: 0.82 - ETA: 1s - loss: 0.4632 - accuracy: 0.82 - ETA: 0s - loss: 0.4611 - accuracy: 0.82 - ETA: 0s - loss: 0.4621 - accuracy: 0.82 - 20s 605ms/step - loss: 0.4621 - accuracy: 0.8293\n",
      "Epoch 8/18\n"
     ]
    },
    {
     "name": "stdout",
     "output_type": "stream",
     "text": [
      "33/33 [==============================] - ETA: 19s - loss: 0.3642 - accuracy: 0.867 - ETA: 19s - loss: 0.4182 - accuracy: 0.839 - ETA: 18s - loss: 0.4009 - accuracy: 0.854 - ETA: 18s - loss: 0.3990 - accuracy: 0.859 - ETA: 17s - loss: 0.3885 - accuracy: 0.862 - ETA: 16s - loss: 0.3895 - accuracy: 0.859 - ETA: 16s - loss: 0.3849 - accuracy: 0.862 - ETA: 15s - loss: 0.4079 - accuracy: 0.853 - ETA: 15s - loss: 0.4060 - accuracy: 0.855 - ETA: 14s - loss: 0.4024 - accuracy: 0.857 - ETA: 14s - loss: 0.4006 - accuracy: 0.858 - ETA: 13s - loss: 0.3920 - accuracy: 0.862 - ETA: 12s - loss: 0.3877 - accuracy: 0.864 - ETA: 12s - loss: 0.3824 - accuracy: 0.864 - ETA: 11s - loss: 0.3820 - accuracy: 0.864 - ETA: 10s - loss: 0.3861 - accuracy: 0.861 - ETA: 10s - loss: 0.3881 - accuracy: 0.861 - ETA: 9s - loss: 0.3872 - accuracy: 0.861 - ETA: 8s - loss: 0.3924 - accuracy: 0.85 - ETA: 8s - loss: 0.3958 - accuracy: 0.85 - ETA: 7s - loss: 0.3856 - accuracy: 0.86 - ETA: 6s - loss: 0.3832 - accuracy: 0.86 - ETA: 6s - loss: 0.3813 - accuracy: 0.86 - ETA: 5s - loss: 0.3846 - accuracy: 0.86 - ETA: 5s - loss: 0.3820 - accuracy: 0.86 - ETA: 4s - loss: 0.3777 - accuracy: 0.86 - ETA: 3s - loss: 0.3771 - accuracy: 0.86 - ETA: 3s - loss: 0.3750 - accuracy: 0.86 - ETA: 2s - loss: 0.3780 - accuracy: 0.86 - ETA: 1s - loss: 0.3794 - accuracy: 0.86 - ETA: 1s - loss: 0.3778 - accuracy: 0.86 - ETA: 0s - loss: 0.3817 - accuracy: 0.86 - ETA: 0s - loss: 0.3812 - accuracy: 0.86 - 21s 633ms/step - loss: 0.3812 - accuracy: 0.8655\n",
      "Epoch 9/18\n",
      "33/33 [==============================] - ETA: 21s - loss: 0.3290 - accuracy: 0.898 - ETA: 22s - loss: 0.3313 - accuracy: 0.886 - ETA: 19s - loss: 0.3383 - accuracy: 0.880 - ETA: 19s - loss: 0.3510 - accuracy: 0.875 - ETA: 18s - loss: 0.3445 - accuracy: 0.879 - ETA: 17s - loss: 0.3428 - accuracy: 0.873 - ETA: 17s - loss: 0.3441 - accuracy: 0.871 - ETA: 16s - loss: 0.3421 - accuracy: 0.870 - ETA: 15s - loss: 0.3395 - accuracy: 0.871 - ETA: 15s - loss: 0.3385 - accuracy: 0.874 - ETA: 14s - loss: 0.3359 - accuracy: 0.879 - ETA: 13s - loss: 0.3360 - accuracy: 0.880 - ETA: 12s - loss: 0.3300 - accuracy: 0.884 - ETA: 12s - loss: 0.3366 - accuracy: 0.882 - ETA: 11s - loss: 0.3421 - accuracy: 0.879 - ETA: 10s - loss: 0.3442 - accuracy: 0.878 - ETA: 10s - loss: 0.3472 - accuracy: 0.879 - ETA: 9s - loss: 0.3461 - accuracy: 0.878 - ETA: 8s - loss: 0.3487 - accuracy: 0.87 - ETA: 8s - loss: 0.3478 - accuracy: 0.87 - ETA: 7s - loss: 0.3436 - accuracy: 0.87 - ETA: 7s - loss: 0.3434 - accuracy: 0.87 - ETA: 6s - loss: 0.3404 - accuracy: 0.87 - ETA: 5s - loss: 0.3407 - accuracy: 0.87 - ETA: 5s - loss: 0.3374 - accuracy: 0.87 - ETA: 4s - loss: 0.3371 - accuracy: 0.87 - ETA: 3s - loss: 0.3377 - accuracy: 0.87 - ETA: 3s - loss: 0.3418 - accuracy: 0.87 - ETA: 2s - loss: 0.3419 - accuracy: 0.87 - ETA: 1s - loss: 0.3457 - accuracy: 0.87 - ETA: 1s - loss: 0.3489 - accuracy: 0.87 - ETA: 0s - loss: 0.3480 - accuracy: 0.87 - ETA: 0s - loss: 0.3484 - accuracy: 0.87 - 20s 613ms/step - loss: 0.3484 - accuracy: 0.8755\n",
      "Epoch 10/18\n",
      "33/33 [==============================] - ETA: 19s - loss: 0.2149 - accuracy: 0.906 - ETA: 18s - loss: 0.2327 - accuracy: 0.898 - ETA: 18s - loss: 0.2547 - accuracy: 0.898 - ETA: 17s - loss: 0.2552 - accuracy: 0.902 - ETA: 17s - loss: 0.2695 - accuracy: 0.895 - ETA: 16s - loss: 0.2637 - accuracy: 0.898 - ETA: 15s - loss: 0.2689 - accuracy: 0.896 - ETA: 15s - loss: 0.2942 - accuracy: 0.893 - ETA: 14s - loss: 0.2935 - accuracy: 0.895 - ETA: 14s - loss: 0.2890 - accuracy: 0.896 - ETA: 13s - loss: 0.2923 - accuracy: 0.894 - ETA: 12s - loss: 0.2916 - accuracy: 0.892 - ETA: 12s - loss: 0.2900 - accuracy: 0.893 - ETA: 11s - loss: 0.2915 - accuracy: 0.891 - ETA: 11s - loss: 0.2878 - accuracy: 0.893 - ETA: 10s - loss: 0.2896 - accuracy: 0.893 - ETA: 9s - loss: 0.2913 - accuracy: 0.894 - ETA: 9s - loss: 0.2890 - accuracy: 0.89 - ETA: 8s - loss: 0.2887 - accuracy: 0.89 - ETA: 7s - loss: 0.2904 - accuracy: 0.89 - ETA: 7s - loss: 0.2906 - accuracy: 0.89 - ETA: 6s - loss: 0.2886 - accuracy: 0.89 - ETA: 6s - loss: 0.2880 - accuracy: 0.89 - ETA: 5s - loss: 0.2903 - accuracy: 0.89 - ETA: 4s - loss: 0.2924 - accuracy: 0.89 - ETA: 4s - loss: 0.2942 - accuracy: 0.89 - ETA: 3s - loss: 0.2949 - accuracy: 0.89 - ETA: 3s - loss: 0.2996 - accuracy: 0.89 - ETA: 2s - loss: 0.3014 - accuracy: 0.89 - ETA: 1s - loss: 0.3019 - accuracy: 0.89 - ETA: 1s - loss: 0.3000 - accuracy: 0.89 - ETA: 0s - loss: 0.2977 - accuracy: 0.89 - ETA: 0s - loss: 0.2995 - accuracy: 0.89 - 20s 600ms/step - loss: 0.2995 - accuracy: 0.8934\n",
      "Epoch 11/18\n",
      "33/33 [==============================] - ETA: 20s - loss: 0.2720 - accuracy: 0.890 - ETA: 19s - loss: 0.2714 - accuracy: 0.910 - ETA: 18s - loss: 0.2811 - accuracy: 0.898 - ETA: 17s - loss: 0.2921 - accuracy: 0.900 - ETA: 17s - loss: 0.2738 - accuracy: 0.906 - ETA: 16s - loss: 0.2778 - accuracy: 0.903 - ETA: 15s - loss: 0.2946 - accuracy: 0.898 - ETA: 15s - loss: 0.2903 - accuracy: 0.898 - ETA: 14s - loss: 0.2939 - accuracy: 0.895 - ETA: 14s - loss: 0.3016 - accuracy: 0.892 - ETA: 13s - loss: 0.2961 - accuracy: 0.893 - ETA: 12s - loss: 0.2897 - accuracy: 0.896 - ETA: 12s - loss: 0.2852 - accuracy: 0.896 - ETA: 11s - loss: 0.2839 - accuracy: 0.897 - ETA: 11s - loss: 0.2892 - accuracy: 0.894 - ETA: 10s - loss: 0.2939 - accuracy: 0.892 - ETA: 9s - loss: 0.2906 - accuracy: 0.894 - ETA: 9s - loss: 0.2895 - accuracy: 0.89 - ETA: 8s - loss: 0.2915 - accuracy: 0.89 - ETA: 8s - loss: 0.2872 - accuracy: 0.89 - ETA: 7s - loss: 0.2796 - accuracy: 0.89 - ETA: 6s - loss: 0.2834 - accuracy: 0.89 - ETA: 6s - loss: 0.2843 - accuracy: 0.89 - ETA: 5s - loss: 0.2866 - accuracy: 0.89 - ETA: 5s - loss: 0.2836 - accuracy: 0.89 - ETA: 4s - loss: 0.2845 - accuracy: 0.89 - ETA: 3s - loss: 0.2820 - accuracy: 0.89 - ETA: 3s - loss: 0.2825 - accuracy: 0.89 - ETA: 2s - loss: 0.2845 - accuracy: 0.89 - ETA: 1s - loss: 0.2825 - accuracy: 0.89 - ETA: 1s - loss: 0.2834 - accuracy: 0.89 - ETA: 0s - loss: 0.2891 - accuracy: 0.89 - ETA: 0s - loss: 0.2897 - accuracy: 0.89 - 20s 611ms/step - loss: 0.2897 - accuracy: 0.8924\n",
      "Epoch 12/18\n",
      "33/33 [==============================] - ETA: 20s - loss: 0.2743 - accuracy: 0.882 - ETA: 18s - loss: 0.2994 - accuracy: 0.875 - ETA: 18s - loss: 0.3009 - accuracy: 0.885 - ETA: 17s - loss: 0.2676 - accuracy: 0.906 - ETA: 17s - loss: 0.2702 - accuracy: 0.903 - ETA: 16s - loss: 0.2739 - accuracy: 0.907 - ETA: 16s - loss: 0.2564 - accuracy: 0.915 - ETA: 15s - loss: 0.2534 - accuracy: 0.916 - ETA: 14s - loss: 0.2593 - accuracy: 0.911 - ETA: 14s - loss: 0.2547 - accuracy: 0.910 - ETA: 13s - loss: 0.2558 - accuracy: 0.910 - ETA: 13s - loss: 0.2580 - accuracy: 0.907 - ETA: 12s - loss: 0.2658 - accuracy: 0.905 - ETA: 11s - loss: 0.2672 - accuracy: 0.904 - ETA: 11s - loss: 0.2707 - accuracy: 0.900 - ETA: 10s - loss: 0.2714 - accuracy: 0.899 - ETA: 9s - loss: 0.2711 - accuracy: 0.899 - ETA: 9s - loss: 0.2700 - accuracy: 0.89 - ETA: 8s - loss: 0.2719 - accuracy: 0.89 - ETA: 8s - loss: 0.2702 - accuracy: 0.89 - ETA: 7s - loss: 0.2725 - accuracy: 0.89 - ETA: 6s - loss: 0.2692 - accuracy: 0.90 - ETA: 6s - loss: 0.2704 - accuracy: 0.89 - ETA: 5s - loss: 0.2670 - accuracy: 0.90 - ETA: 4s - loss: 0.2672 - accuracy: 0.90 - ETA: 4s - loss: 0.2642 - accuracy: 0.90 - ETA: 3s - loss: 0.2652 - accuracy: 0.90 - ETA: 3s - loss: 0.2656 - accuracy: 0.90 - ETA: 2s - loss: 0.2613 - accuracy: 0.90 - ETA: 1s - loss: 0.2594 - accuracy: 0.90 - ETA: 1s - loss: 0.2582 - accuracy: 0.90 - ETA: 0s - loss: 0.2585 - accuracy: 0.90 - ETA: 0s - loss: 0.2574 - accuracy: 0.90 - 20s 609ms/step - loss: 0.2574 - accuracy: 0.9056\n",
      "Epoch 13/18\n"
     ]
    },
    {
     "name": "stdout",
     "output_type": "stream",
     "text": [
      "33/33 [==============================] - ETA: 19s - loss: 0.2456 - accuracy: 0.914 - ETA: 19s - loss: 0.2129 - accuracy: 0.921 - ETA: 18s - loss: 0.2557 - accuracy: 0.898 - ETA: 18s - loss: 0.2385 - accuracy: 0.906 - ETA: 17s - loss: 0.2215 - accuracy: 0.915 - ETA: 16s - loss: 0.2298 - accuracy: 0.914 - ETA: 16s - loss: 0.2317 - accuracy: 0.909 - ETA: 15s - loss: 0.2384 - accuracy: 0.906 - ETA: 15s - loss: 0.2242 - accuracy: 0.912 - ETA: 14s - loss: 0.2353 - accuracy: 0.907 - ETA: 13s - loss: 0.2401 - accuracy: 0.907 - ETA: 13s - loss: 0.2334 - accuracy: 0.910 - ETA: 12s - loss: 0.2295 - accuracy: 0.912 - ETA: 11s - loss: 0.2281 - accuracy: 0.911 - ETA: 11s - loss: 0.2248 - accuracy: 0.912 - ETA: 10s - loss: 0.2281 - accuracy: 0.911 - ETA: 9s - loss: 0.2258 - accuracy: 0.913 - ETA: 9s - loss: 0.2237 - accuracy: 0.91 - ETA: 8s - loss: 0.2236 - accuracy: 0.91 - ETA: 8s - loss: 0.2216 - accuracy: 0.91 - ETA: 7s - loss: 0.2244 - accuracy: 0.91 - ETA: 6s - loss: 0.2278 - accuracy: 0.91 - ETA: 6s - loss: 0.2264 - accuracy: 0.91 - ETA: 5s - loss: 0.2222 - accuracy: 0.91 - ETA: 4s - loss: 0.2245 - accuracy: 0.91 - ETA: 4s - loss: 0.2236 - accuracy: 0.91 - ETA: 3s - loss: 0.2277 - accuracy: 0.91 - ETA: 3s - loss: 0.2240 - accuracy: 0.91 - ETA: 2s - loss: 0.2229 - accuracy: 0.91 - ETA: 1s - loss: 0.2214 - accuracy: 0.91 - ETA: 1s - loss: 0.2208 - accuracy: 0.91 - ETA: 0s - loss: 0.2242 - accuracy: 0.91 - ETA: 0s - loss: 0.2238 - accuracy: 0.91 - 20s 608ms/step - loss: 0.2238 - accuracy: 0.9162\n",
      "Epoch 14/18\n",
      "33/33 [==============================] - ETA: 20s - loss: 0.2330 - accuracy: 0.921 - ETA: 19s - loss: 0.2101 - accuracy: 0.929 - ETA: 18s - loss: 0.1804 - accuracy: 0.937 - ETA: 17s - loss: 0.1720 - accuracy: 0.943 - ETA: 17s - loss: 0.1920 - accuracy: 0.935 - ETA: 16s - loss: 0.1959 - accuracy: 0.934 - ETA: 16s - loss: 0.1914 - accuracy: 0.935 - ETA: 15s - loss: 0.1883 - accuracy: 0.933 - ETA: 14s - loss: 0.1854 - accuracy: 0.936 - ETA: 14s - loss: 0.1852 - accuracy: 0.935 - ETA: 13s - loss: 0.1808 - accuracy: 0.936 - ETA: 12s - loss: 0.1801 - accuracy: 0.936 - ETA: 12s - loss: 0.1851 - accuracy: 0.934 - ETA: 11s - loss: 0.1872 - accuracy: 0.934 - ETA: 10s - loss: 0.1858 - accuracy: 0.935 - ETA: 10s - loss: 0.1835 - accuracy: 0.937 - ETA: 9s - loss: 0.1847 - accuracy: 0.937 - ETA: 9s - loss: 0.1858 - accuracy: 0.93 - ETA: 8s - loss: 0.1937 - accuracy: 0.93 - ETA: 7s - loss: 0.1911 - accuracy: 0.93 - ETA: 7s - loss: 0.1915 - accuracy: 0.93 - ETA: 6s - loss: 0.1915 - accuracy: 0.93 - ETA: 6s - loss: 0.1925 - accuracy: 0.93 - ETA: 5s - loss: 0.1912 - accuracy: 0.93 - ETA: 4s - loss: 0.1927 - accuracy: 0.92 - ETA: 4s - loss: 0.1919 - accuracy: 0.92 - ETA: 3s - loss: 0.1965 - accuracy: 0.92 - ETA: 3s - loss: 0.1950 - accuracy: 0.92 - ETA: 2s - loss: 0.1988 - accuracy: 0.92 - ETA: 1s - loss: 0.1983 - accuracy: 0.92 - ETA: 1s - loss: 0.1972 - accuracy: 0.92 - ETA: 0s - loss: 0.1951 - accuracy: 0.92 - ETA: 0s - loss: 0.1951 - accuracy: 0.92 - 20s 612ms/step - loss: 0.1951 - accuracy: 0.9274\n",
      "Epoch 15/18\n",
      "33/33 [==============================] - ETA: 20s - loss: 0.1811 - accuracy: 0.929 - ETA: 19s - loss: 0.1801 - accuracy: 0.933 - ETA: 18s - loss: 0.2024 - accuracy: 0.916 - ETA: 17s - loss: 0.2141 - accuracy: 0.914 - ETA: 17s - loss: 0.2119 - accuracy: 0.921 - ETA: 16s - loss: 0.2077 - accuracy: 0.925 - ETA: 15s - loss: 0.2051 - accuracy: 0.928 - ETA: 15s - loss: 0.2076 - accuracy: 0.923 - ETA: 14s - loss: 0.2046 - accuracy: 0.923 - ETA: 14s - loss: 0.2005 - accuracy: 0.926 - ETA: 13s - loss: 0.1948 - accuracy: 0.930 - ETA: 12s - loss: 0.1919 - accuracy: 0.931 - ETA: 12s - loss: 0.1934 - accuracy: 0.929 - ETA: 11s - loss: 0.1945 - accuracy: 0.929 - ETA: 11s - loss: 0.1925 - accuracy: 0.930 - ETA: 10s - loss: 0.1945 - accuracy: 0.929 - ETA: 9s - loss: 0.1935 - accuracy: 0.931 - ETA: 9s - loss: 0.1919 - accuracy: 0.93 - ETA: 8s - loss: 0.1949 - accuracy: 0.93 - ETA: 8s - loss: 0.1934 - accuracy: 0.93 - ETA: 7s - loss: 0.1958 - accuracy: 0.93 - ETA: 6s - loss: 0.1947 - accuracy: 0.93 - ETA: 6s - loss: 0.1909 - accuracy: 0.93 - ETA: 5s - loss: 0.1899 - accuracy: 0.93 - ETA: 4s - loss: 0.1881 - accuracy: 0.93 - ETA: 4s - loss: 0.1867 - accuracy: 0.93 - ETA: 3s - loss: 0.1899 - accuracy: 0.93 - ETA: 3s - loss: 0.1939 - accuracy: 0.92 - ETA: 2s - loss: 0.1946 - accuracy: 0.92 - ETA: 1s - loss: 0.1954 - accuracy: 0.92 - ETA: 1s - loss: 0.1967 - accuracy: 0.92 - ETA: 0s - loss: 0.1971 - accuracy: 0.92 - ETA: 0s - loss: 0.1966 - accuracy: 0.92 - 20s 605ms/step - loss: 0.1966 - accuracy: 0.9267\n",
      "Epoch 16/18\n",
      "33/33 [==============================] - ETA: 20s - loss: 0.1589 - accuracy: 0.960 - ETA: 18s - loss: 0.1390 - accuracy: 0.953 - ETA: 18s - loss: 0.1688 - accuracy: 0.940 - ETA: 18s - loss: 0.1712 - accuracy: 0.933 - ETA: 17s - loss: 0.1780 - accuracy: 0.928 - ETA: 17s - loss: 0.1706 - accuracy: 0.932 - ETA: 17s - loss: 0.1736 - accuracy: 0.934 - ETA: 16s - loss: 0.1801 - accuracy: 0.931 - ETA: 15s - loss: 0.1756 - accuracy: 0.934 - ETA: 14s - loss: 0.1756 - accuracy: 0.934 - ETA: 14s - loss: 0.1733 - accuracy: 0.936 - ETA: 13s - loss: 0.1760 - accuracy: 0.936 - ETA: 12s - loss: 0.1771 - accuracy: 0.936 - ETA: 12s - loss: 0.1709 - accuracy: 0.938 - ETA: 11s - loss: 0.1725 - accuracy: 0.937 - ETA: 10s - loss: 0.1681 - accuracy: 0.939 - ETA: 10s - loss: 0.1661 - accuracy: 0.939 - ETA: 9s - loss: 0.1683 - accuracy: 0.939 - ETA: 8s - loss: 0.1675 - accuracy: 0.94 - ETA: 8s - loss: 0.1713 - accuracy: 0.93 - ETA: 7s - loss: 0.1705 - accuracy: 0.93 - ETA: 6s - loss: 0.1710 - accuracy: 0.93 - ETA: 6s - loss: 0.1725 - accuracy: 0.93 - ETA: 5s - loss: 0.1692 - accuracy: 0.94 - ETA: 5s - loss: 0.1722 - accuracy: 0.93 - ETA: 4s - loss: 0.1688 - accuracy: 0.94 - ETA: 3s - loss: 0.1683 - accuracy: 0.94 - ETA: 3s - loss: 0.1691 - accuracy: 0.94 - ETA: 2s - loss: 0.1699 - accuracy: 0.94 - ETA: 1s - loss: 0.1698 - accuracy: 0.94 - ETA: 1s - loss: 0.1679 - accuracy: 0.94 - ETA: 0s - loss: 0.1676 - accuracy: 0.94 - ETA: 0s - loss: 0.1671 - accuracy: 0.94 - 20s 617ms/step - loss: 0.1671 - accuracy: 0.9415\n",
      "Epoch 17/18\n",
      "33/33 [==============================] - ETA: 20s - loss: 0.1177 - accuracy: 0.968 - ETA: 19s - loss: 0.1200 - accuracy: 0.957 - ETA: 19s - loss: 0.1357 - accuracy: 0.950 - ETA: 19s - loss: 0.1447 - accuracy: 0.951 - ETA: 18s - loss: 0.1388 - accuracy: 0.950 - ETA: 18s - loss: 0.1413 - accuracy: 0.947 - ETA: 17s - loss: 0.1379 - accuracy: 0.949 - ETA: 16s - loss: 0.1336 - accuracy: 0.950 - ETA: 16s - loss: 0.1346 - accuracy: 0.947 - ETA: 15s - loss: 0.1365 - accuracy: 0.948 - ETA: 14s - loss: 0.1424 - accuracy: 0.944 - ETA: 13s - loss: 0.1419 - accuracy: 0.944 - ETA: 13s - loss: 0.1407 - accuracy: 0.944 - ETA: 12s - loss: 0.1375 - accuracy: 0.944 - ETA: 11s - loss: 0.1400 - accuracy: 0.943 - ETA: 11s - loss: 0.1400 - accuracy: 0.944 - ETA: 10s - loss: 0.1384 - accuracy: 0.945 - ETA: 9s - loss: 0.1384 - accuracy: 0.945 - ETA: 9s - loss: 0.1372 - accuracy: 0.94 - ETA: 8s - loss: 0.1368 - accuracy: 0.94 - ETA: 7s - loss: 0.1386 - accuracy: 0.94 - ETA: 7s - loss: 0.1392 - accuracy: 0.94 - ETA: 6s - loss: 0.1420 - accuracy: 0.94 - ETA: 5s - loss: 0.1423 - accuracy: 0.94 - ETA: 5s - loss: 0.1433 - accuracy: 0.94 - ETA: 4s - loss: 0.1428 - accuracy: 0.94 - ETA: 3s - loss: 0.1440 - accuracy: 0.94 - ETA: 3s - loss: 0.1464 - accuracy: 0.94 - ETA: 2s - loss: 0.1448 - accuracy: 0.94 - ETA: 1s - loss: 0.1443 - accuracy: 0.94 - ETA: 1s - loss: 0.1463 - accuracy: 0.94 - ETA: 0s - loss: 0.1441 - accuracy: 0.94 - ETA: 0s - loss: 0.1436 - accuracy: 0.94 - 21s 621ms/step - loss: 0.1436 - accuracy: 0.9478\n",
      "Epoch 18/18\n"
     ]
    },
    {
     "name": "stdout",
     "output_type": "stream",
     "text": [
      "33/33 [==============================] - ETA: 24s - loss: 0.0980 - accuracy: 0.953 - ETA: 19s - loss: 0.1250 - accuracy: 0.949 - ETA: 19s - loss: 0.1317 - accuracy: 0.947 - ETA: 19s - loss: 0.1237 - accuracy: 0.953 - ETA: 18s - loss: 0.1174 - accuracy: 0.954 - ETA: 17s - loss: 0.1261 - accuracy: 0.951 - ETA: 16s - loss: 0.1292 - accuracy: 0.954 - ETA: 16s - loss: 0.1274 - accuracy: 0.957 - ETA: 15s - loss: 0.1279 - accuracy: 0.957 - ETA: 14s - loss: 0.1243 - accuracy: 0.960 - ETA: 14s - loss: 0.1283 - accuracy: 0.956 - ETA: 13s - loss: 0.1288 - accuracy: 0.955 - ETA: 12s - loss: 0.1348 - accuracy: 0.951 - ETA: 12s - loss: 0.1408 - accuracy: 0.948 - ETA: 11s - loss: 0.1451 - accuracy: 0.945 - ETA: 10s - loss: 0.1448 - accuracy: 0.945 - ETA: 10s - loss: 0.1406 - accuracy: 0.946 - ETA: 9s - loss: 0.1393 - accuracy: 0.947 - ETA: 9s - loss: 0.1431 - accuracy: 0.94 - ETA: 8s - loss: 0.1454 - accuracy: 0.94 - ETA: 7s - loss: 0.1449 - accuracy: 0.94 - ETA: 7s - loss: 0.1435 - accuracy: 0.94 - ETA: 6s - loss: 0.1444 - accuracy: 0.94 - ETA: 5s - loss: 0.1413 - accuracy: 0.94 - ETA: 5s - loss: 0.1432 - accuracy: 0.94 - ETA: 4s - loss: 0.1444 - accuracy: 0.94 - ETA: 3s - loss: 0.1447 - accuracy: 0.94 - ETA: 3s - loss: 0.1464 - accuracy: 0.94 - ETA: 2s - loss: 0.1462 - accuracy: 0.94 - ETA: 1s - loss: 0.1447 - accuracy: 0.94 - ETA: 1s - loss: 0.1455 - accuracy: 0.94 - ETA: 0s - loss: 0.1433 - accuracy: 0.94 - ETA: 0s - loss: 0.1437 - accuracy: 0.94 - 21s 640ms/step - loss: 0.1437 - accuracy: 0.9432\n",
      "Score for fold 2: loss of 0.7853479385375977; accuracy of 78.72753739356995%\n",
      "------------------------------------------------------------------------\n",
      "Training for fold 3 ...\n",
      "Epoch 1/18\n",
      "33/33 [==============================] - ETA: 3:55 - loss: 1.3786 - accuracy: 0.34 - ETA: 20s - loss: 1.3731 - accuracy: 0.3320 - ETA: 20s - loss: 1.3713 - accuracy: 0.315 - ETA: 19s - loss: 1.3609 - accuracy: 0.328 - ETA: 19s - loss: 1.3526 - accuracy: 0.340 - ETA: 18s - loss: 1.3511 - accuracy: 0.339 - ETA: 17s - loss: 1.3469 - accuracy: 0.338 - ETA: 16s - loss: 1.3388 - accuracy: 0.341 - ETA: 16s - loss: 1.3314 - accuracy: 0.356 - ETA: 15s - loss: 1.3256 - accuracy: 0.367 - ETA: 14s - loss: 1.3165 - accuracy: 0.382 - ETA: 14s - loss: 1.3092 - accuracy: 0.386 - ETA: 13s - loss: 1.3021 - accuracy: 0.393 - ETA: 12s - loss: 1.2912 - accuracy: 0.402 - ETA: 11s - loss: 1.2841 - accuracy: 0.412 - ETA: 11s - loss: 1.2808 - accuracy: 0.416 - ETA: 10s - loss: 1.2740 - accuracy: 0.423 - ETA: 9s - loss: 1.2669 - accuracy: 0.429 - ETA: 9s - loss: 1.2556 - accuracy: 0.43 - ETA: 8s - loss: 1.2445 - accuracy: 0.44 - ETA: 7s - loss: 1.2405 - accuracy: 0.44 - ETA: 7s - loss: 1.2357 - accuracy: 0.45 - ETA: 6s - loss: 1.2252 - accuracy: 0.46 - ETA: 5s - loss: 1.2198 - accuracy: 0.46 - ETA: 5s - loss: 1.2158 - accuracy: 0.46 - ETA: 4s - loss: 1.2119 - accuracy: 0.46 - ETA: 3s - loss: 1.2049 - accuracy: 0.47 - ETA: 3s - loss: 1.1998 - accuracy: 0.47 - ETA: 2s - loss: 1.1913 - accuracy: 0.48 - ETA: 1s - loss: 1.1891 - accuracy: 0.48 - ETA: 1s - loss: 1.1836 - accuracy: 0.48 - ETA: 0s - loss: 1.1792 - accuracy: 0.48 - ETA: 0s - loss: 1.1782 - accuracy: 0.48 - 27s 619ms/step - loss: 1.1782 - accuracy: 0.4870\n",
      "Epoch 2/18\n",
      "33/33 [==============================] - ETA: 20s - loss: 0.9648 - accuracy: 0.617 - ETA: 19s - loss: 0.9772 - accuracy: 0.625 - ETA: 18s - loss: 0.9742 - accuracy: 0.630 - ETA: 17s - loss: 0.9700 - accuracy: 0.625 - ETA: 17s - loss: 0.9629 - accuracy: 0.621 - ETA: 16s - loss: 0.9543 - accuracy: 0.621 - ETA: 16s - loss: 0.9434 - accuracy: 0.627 - ETA: 15s - loss: 0.9371 - accuracy: 0.633 - ETA: 14s - loss: 0.9261 - accuracy: 0.640 - ETA: 14s - loss: 0.9190 - accuracy: 0.639 - ETA: 13s - loss: 0.9174 - accuracy: 0.635 - ETA: 13s - loss: 0.9151 - accuracy: 0.638 - ETA: 12s - loss: 0.9138 - accuracy: 0.637 - ETA: 11s - loss: 0.9153 - accuracy: 0.638 - ETA: 11s - loss: 0.9094 - accuracy: 0.639 - ETA: 10s - loss: 0.9038 - accuracy: 0.641 - ETA: 9s - loss: 0.8993 - accuracy: 0.642 - ETA: 9s - loss: 0.9046 - accuracy: 0.63 - ETA: 8s - loss: 0.9023 - accuracy: 0.64 - ETA: 8s - loss: 0.9086 - accuracy: 0.63 - ETA: 7s - loss: 0.9096 - accuracy: 0.63 - ETA: 6s - loss: 0.9029 - accuracy: 0.64 - ETA: 6s - loss: 0.9016 - accuracy: 0.64 - ETA: 5s - loss: 0.9012 - accuracy: 0.64 - ETA: 4s - loss: 0.9030 - accuracy: 0.64 - ETA: 4s - loss: 0.9045 - accuracy: 0.64 - ETA: 3s - loss: 0.9050 - accuracy: 0.64 - ETA: 3s - loss: 0.8998 - accuracy: 0.64 - ETA: 2s - loss: 0.8966 - accuracy: 0.64 - ETA: 1s - loss: 0.8931 - accuracy: 0.65 - ETA: 1s - loss: 0.8939 - accuracy: 0.65 - ETA: 0s - loss: 0.8925 - accuracy: 0.65 - ETA: 0s - loss: 0.8917 - accuracy: 0.65 - 20s 609ms/step - loss: 0.8917 - accuracy: 0.6516\n",
      "Epoch 3/18\n",
      "33/33 [==============================] - ETA: 20s - loss: 0.7848 - accuracy: 0.703 - ETA: 19s - loss: 0.7934 - accuracy: 0.687 - ETA: 18s - loss: 0.7691 - accuracy: 0.710 - ETA: 18s - loss: 0.8026 - accuracy: 0.695 - ETA: 17s - loss: 0.8099 - accuracy: 0.692 - ETA: 16s - loss: 0.8079 - accuracy: 0.690 - ETA: 16s - loss: 0.8095 - accuracy: 0.688 - ETA: 15s - loss: 0.8205 - accuracy: 0.683 - ETA: 14s - loss: 0.8247 - accuracy: 0.686 - ETA: 14s - loss: 0.8263 - accuracy: 0.682 - ETA: 13s - loss: 0.8333 - accuracy: 0.680 - ETA: 13s - loss: 0.8273 - accuracy: 0.684 - ETA: 12s - loss: 0.8211 - accuracy: 0.686 - ETA: 11s - loss: 0.8150 - accuracy: 0.689 - ETA: 11s - loss: 0.8089 - accuracy: 0.692 - ETA: 10s - loss: 0.8094 - accuracy: 0.692 - ETA: 9s - loss: 0.8025 - accuracy: 0.696 - ETA: 9s - loss: 0.8018 - accuracy: 0.69 - ETA: 8s - loss: 0.8005 - accuracy: 0.69 - ETA: 8s - loss: 0.8015 - accuracy: 0.69 - ETA: 7s - loss: 0.7971 - accuracy: 0.69 - ETA: 6s - loss: 0.7998 - accuracy: 0.69 - ETA: 6s - loss: 0.8001 - accuracy: 0.69 - ETA: 5s - loss: 0.8014 - accuracy: 0.69 - ETA: 4s - loss: 0.7995 - accuracy: 0.69 - ETA: 4s - loss: 0.7986 - accuracy: 0.69 - ETA: 3s - loss: 0.7979 - accuracy: 0.69 - ETA: 3s - loss: 0.7933 - accuracy: 0.69 - ETA: 2s - loss: 0.7942 - accuracy: 0.69 - ETA: 1s - loss: 0.7925 - accuracy: 0.69 - ETA: 1s - loss: 0.7955 - accuracy: 0.69 - ETA: 0s - loss: 0.7932 - accuracy: 0.69 - ETA: 0s - loss: 0.7926 - accuracy: 0.69 - 20s 607ms/step - loss: 0.7926 - accuracy: 0.6960\n",
      "Epoch 4/18\n",
      "33/33 [==============================] - ETA: 19s - loss: 0.6892 - accuracy: 0.742 - ETA: 19s - loss: 0.7343 - accuracy: 0.710 - ETA: 18s - loss: 0.7436 - accuracy: 0.718 - ETA: 18s - loss: 0.7244 - accuracy: 0.720 - ETA: 17s - loss: 0.7068 - accuracy: 0.729 - ETA: 16s - loss: 0.7149 - accuracy: 0.727 - ETA: 16s - loss: 0.6960 - accuracy: 0.734 - ETA: 15s - loss: 0.6891 - accuracy: 0.741 - ETA: 14s - loss: 0.6884 - accuracy: 0.739 - ETA: 14s - loss: 0.6847 - accuracy: 0.740 - ETA: 13s - loss: 0.6778 - accuracy: 0.744 - ETA: 12s - loss: 0.6811 - accuracy: 0.740 - ETA: 12s - loss: 0.6756 - accuracy: 0.746 - ETA: 11s - loss: 0.6782 - accuracy: 0.746 - ETA: 11s - loss: 0.6720 - accuracy: 0.747 - ETA: 10s - loss: 0.6727 - accuracy: 0.748 - ETA: 9s - loss: 0.6783 - accuracy: 0.744 - ETA: 9s - loss: 0.6768 - accuracy: 0.74 - ETA: 8s - loss: 0.6813 - accuracy: 0.74 - ETA: 8s - loss: 0.6803 - accuracy: 0.74 - ETA: 7s - loss: 0.6780 - accuracy: 0.74 - ETA: 6s - loss: 0.6821 - accuracy: 0.74 - ETA: 6s - loss: 0.6810 - accuracy: 0.74 - ETA: 5s - loss: 0.6807 - accuracy: 0.74 - ETA: 4s - loss: 0.6843 - accuracy: 0.74 - ETA: 4s - loss: 0.6907 - accuracy: 0.74 - ETA: 3s - loss: 0.6921 - accuracy: 0.73 - ETA: 3s - loss: 0.6934 - accuracy: 0.73 - ETA: 2s - loss: 0.6925 - accuracy: 0.73 - ETA: 1s - loss: 0.6944 - accuracy: 0.73 - ETA: 1s - loss: 0.6898 - accuracy: 0.73 - ETA: 0s - loss: 0.6880 - accuracy: 0.74 - ETA: 0s - loss: 0.6867 - accuracy: 0.74 - 20s 607ms/step - loss: 0.6867 - accuracy: 0.7419\n",
      "Epoch 5/18\n"
     ]
    },
    {
     "name": "stdout",
     "output_type": "stream",
     "text": [
      "33/33 [==============================] - ETA: 20s - loss: 0.6545 - accuracy: 0.710 - ETA: 19s - loss: 0.5597 - accuracy: 0.789 - ETA: 19s - loss: 0.5706 - accuracy: 0.789 - ETA: 18s - loss: 0.5726 - accuracy: 0.791 - ETA: 17s - loss: 0.5803 - accuracy: 0.787 - ETA: 16s - loss: 0.5771 - accuracy: 0.791 - ETA: 16s - loss: 0.5853 - accuracy: 0.783 - ETA: 15s - loss: 0.5840 - accuracy: 0.787 - ETA: 15s - loss: 0.5971 - accuracy: 0.782 - ETA: 14s - loss: 0.6003 - accuracy: 0.777 - ETA: 13s - loss: 0.5970 - accuracy: 0.781 - ETA: 13s - loss: 0.5986 - accuracy: 0.780 - ETA: 12s - loss: 0.6005 - accuracy: 0.777 - ETA: 11s - loss: 0.5969 - accuracy: 0.780 - ETA: 11s - loss: 0.6026 - accuracy: 0.778 - ETA: 10s - loss: 0.6058 - accuracy: 0.776 - ETA: 9s - loss: 0.6133 - accuracy: 0.773 - ETA: 9s - loss: 0.6206 - accuracy: 0.77 - ETA: 8s - loss: 0.6266 - accuracy: 0.77 - ETA: 8s - loss: 0.6177 - accuracy: 0.77 - ETA: 7s - loss: 0.6164 - accuracy: 0.77 - ETA: 6s - loss: 0.6185 - accuracy: 0.77 - ETA: 6s - loss: 0.6134 - accuracy: 0.77 - ETA: 5s - loss: 0.6097 - accuracy: 0.77 - ETA: 4s - loss: 0.6143 - accuracy: 0.77 - ETA: 4s - loss: 0.6150 - accuracy: 0.77 - ETA: 3s - loss: 0.6142 - accuracy: 0.77 - ETA: 3s - loss: 0.6120 - accuracy: 0.77 - ETA: 2s - loss: 0.6094 - accuracy: 0.77 - ETA: 1s - loss: 0.6071 - accuracy: 0.77 - ETA: 1s - loss: 0.6061 - accuracy: 0.77 - ETA: 0s - loss: 0.6049 - accuracy: 0.77 - ETA: 0s - loss: 0.6032 - accuracy: 0.77 - 20s 602ms/step - loss: 0.6032 - accuracy: 0.7752\n",
      "Epoch 6/18\n",
      "33/33 [==============================] - ETA: 19s - loss: 0.5971 - accuracy: 0.757 - ETA: 19s - loss: 0.6182 - accuracy: 0.746 - ETA: 18s - loss: 0.5778 - accuracy: 0.765 - ETA: 17s - loss: 0.5370 - accuracy: 0.793 - ETA: 17s - loss: 0.5411 - accuracy: 0.790 - ETA: 16s - loss: 0.5288 - accuracy: 0.796 - ETA: 16s - loss: 0.5340 - accuracy: 0.794 - ETA: 15s - loss: 0.5300 - accuracy: 0.795 - ETA: 14s - loss: 0.5253 - accuracy: 0.800 - ETA: 14s - loss: 0.5288 - accuracy: 0.800 - ETA: 13s - loss: 0.5297 - accuracy: 0.798 - ETA: 12s - loss: 0.5214 - accuracy: 0.802 - ETA: 12s - loss: 0.5229 - accuracy: 0.803 - ETA: 11s - loss: 0.5269 - accuracy: 0.803 - ETA: 11s - loss: 0.5267 - accuracy: 0.804 - ETA: 10s - loss: 0.5387 - accuracy: 0.799 - ETA: 9s - loss: 0.5427 - accuracy: 0.798 - ETA: 9s - loss: 0.5385 - accuracy: 0.80 - ETA: 8s - loss: 0.5342 - accuracy: 0.80 - ETA: 7s - loss: 0.5338 - accuracy: 0.80 - ETA: 7s - loss: 0.5338 - accuracy: 0.80 - ETA: 6s - loss: 0.5393 - accuracy: 0.80 - ETA: 6s - loss: 0.5397 - accuracy: 0.79 - ETA: 5s - loss: 0.5378 - accuracy: 0.80 - ETA: 4s - loss: 0.5365 - accuracy: 0.80 - ETA: 4s - loss: 0.5343 - accuracy: 0.80 - ETA: 3s - loss: 0.5371 - accuracy: 0.80 - ETA: 3s - loss: 0.5417 - accuracy: 0.79 - ETA: 2s - loss: 0.5428 - accuracy: 0.79 - ETA: 1s - loss: 0.5374 - accuracy: 0.80 - ETA: 1s - loss: 0.5327 - accuracy: 0.80 - ETA: 0s - loss: 0.5341 - accuracy: 0.80 - ETA: 0s - loss: 0.5326 - accuracy: 0.80 - 20s 601ms/step - loss: 0.5326 - accuracy: 0.8050\n",
      "Epoch 7/18\n",
      "33/33 [==============================] - ETA: 19s - loss: 0.4095 - accuracy: 0.828 - ETA: 18s - loss: 0.4818 - accuracy: 0.804 - ETA: 18s - loss: 0.4923 - accuracy: 0.807 - ETA: 17s - loss: 0.4665 - accuracy: 0.826 - ETA: 17s - loss: 0.4844 - accuracy: 0.815 - ETA: 16s - loss: 0.4876 - accuracy: 0.817 - ETA: 15s - loss: 0.4910 - accuracy: 0.817 - ETA: 15s - loss: 0.4867 - accuracy: 0.820 - ETA: 14s - loss: 0.4936 - accuracy: 0.816 - ETA: 14s - loss: 0.4842 - accuracy: 0.821 - ETA: 13s - loss: 0.4823 - accuracy: 0.822 - ETA: 12s - loss: 0.4805 - accuracy: 0.822 - ETA: 12s - loss: 0.4873 - accuracy: 0.819 - ETA: 11s - loss: 0.4854 - accuracy: 0.819 - ETA: 10s - loss: 0.4814 - accuracy: 0.821 - ETA: 10s - loss: 0.4872 - accuracy: 0.819 - ETA: 9s - loss: 0.4855 - accuracy: 0.818 - ETA: 9s - loss: 0.4822 - accuracy: 0.82 - ETA: 8s - loss: 0.4828 - accuracy: 0.82 - ETA: 7s - loss: 0.4829 - accuracy: 0.82 - ETA: 7s - loss: 0.4872 - accuracy: 0.81 - ETA: 6s - loss: 0.4899 - accuracy: 0.81 - ETA: 6s - loss: 0.4902 - accuracy: 0.81 - ETA: 5s - loss: 0.4836 - accuracy: 0.82 - ETA: 4s - loss: 0.4824 - accuracy: 0.82 - ETA: 4s - loss: 0.4792 - accuracy: 0.82 - ETA: 3s - loss: 0.4753 - accuracy: 0.82 - ETA: 3s - loss: 0.4730 - accuracy: 0.82 - ETA: 2s - loss: 0.4754 - accuracy: 0.82 - ETA: 1s - loss: 0.4726 - accuracy: 0.82 - ETA: 1s - loss: 0.4700 - accuracy: 0.83 - ETA: 0s - loss: 0.4726 - accuracy: 0.82 - ETA: 0s - loss: 0.4732 - accuracy: 0.82 - 20s 598ms/step - loss: 0.4732 - accuracy: 0.8293\n",
      "Epoch 8/18\n",
      "33/33 [==============================] - ETA: 19s - loss: 0.5898 - accuracy: 0.765 - ETA: 20s - loss: 0.4696 - accuracy: 0.812 - ETA: 20s - loss: 0.4048 - accuracy: 0.835 - ETA: 20s - loss: 0.4049 - accuracy: 0.845 - ETA: 18s - loss: 0.3999 - accuracy: 0.846 - ETA: 17s - loss: 0.3862 - accuracy: 0.856 - ETA: 17s - loss: 0.3772 - accuracy: 0.861 - ETA: 16s - loss: 0.3775 - accuracy: 0.858 - ETA: 15s - loss: 0.3795 - accuracy: 0.861 - ETA: 14s - loss: 0.3789 - accuracy: 0.860 - ETA: 14s - loss: 0.3837 - accuracy: 0.860 - ETA: 13s - loss: 0.3862 - accuracy: 0.860 - ETA: 12s - loss: 0.3887 - accuracy: 0.858 - ETA: 12s - loss: 0.4041 - accuracy: 0.853 - ETA: 11s - loss: 0.4059 - accuracy: 0.852 - ETA: 10s - loss: 0.4098 - accuracy: 0.851 - ETA: 10s - loss: 0.4089 - accuracy: 0.852 - ETA: 9s - loss: 0.4123 - accuracy: 0.850 - ETA: 8s - loss: 0.4148 - accuracy: 0.84 - ETA: 8s - loss: 0.4204 - accuracy: 0.84 - ETA: 7s - loss: 0.4182 - accuracy: 0.84 - ETA: 6s - loss: 0.4193 - accuracy: 0.84 - ETA: 6s - loss: 0.4176 - accuracy: 0.84 - ETA: 5s - loss: 0.4172 - accuracy: 0.84 - ETA: 5s - loss: 0.4162 - accuracy: 0.85 - ETA: 4s - loss: 0.4192 - accuracy: 0.84 - ETA: 3s - loss: 0.4173 - accuracy: 0.84 - ETA: 3s - loss: 0.4195 - accuracy: 0.84 - ETA: 2s - loss: 0.4169 - accuracy: 0.84 - ETA: 1s - loss: 0.4174 - accuracy: 0.84 - ETA: 1s - loss: 0.4203 - accuracy: 0.84 - ETA: 0s - loss: 0.4228 - accuracy: 0.84 - ETA: 0s - loss: 0.4223 - accuracy: 0.84 - 20s 617ms/step - loss: 0.4223 - accuracy: 0.8458\n",
      "Epoch 9/18\n",
      "33/33 [==============================] - ETA: 20s - loss: 0.3068 - accuracy: 0.914 - ETA: 19s - loss: 0.3789 - accuracy: 0.875 - ETA: 18s - loss: 0.3525 - accuracy: 0.893 - ETA: 18s - loss: 0.3803 - accuracy: 0.882 - ETA: 17s - loss: 0.3791 - accuracy: 0.876 - ETA: 16s - loss: 0.3851 - accuracy: 0.865 - ETA: 16s - loss: 0.3949 - accuracy: 0.859 - ETA: 15s - loss: 0.3974 - accuracy: 0.857 - ETA: 14s - loss: 0.3869 - accuracy: 0.862 - ETA: 14s - loss: 0.3938 - accuracy: 0.859 - ETA: 13s - loss: 0.3811 - accuracy: 0.865 - ETA: 13s - loss: 0.3817 - accuracy: 0.863 - ETA: 12s - loss: 0.3711 - accuracy: 0.867 - ETA: 11s - loss: 0.3679 - accuracy: 0.868 - ETA: 11s - loss: 0.3689 - accuracy: 0.870 - ETA: 10s - loss: 0.3751 - accuracy: 0.867 - ETA: 10s - loss: 0.3740 - accuracy: 0.867 - ETA: 9s - loss: 0.3745 - accuracy: 0.868 - ETA: 8s - loss: 0.3731 - accuracy: 0.86 - ETA: 8s - loss: 0.3761 - accuracy: 0.86 - ETA: 7s - loss: 0.3758 - accuracy: 0.86 - ETA: 7s - loss: 0.3732 - accuracy: 0.86 - ETA: 6s - loss: 0.3726 - accuracy: 0.86 - ETA: 5s - loss: 0.3700 - accuracy: 0.86 - ETA: 5s - loss: 0.3683 - accuracy: 0.86 - ETA: 4s - loss: 0.3678 - accuracy: 0.86 - ETA: 3s - loss: 0.3685 - accuracy: 0.86 - ETA: 3s - loss: 0.3694 - accuracy: 0.86 - ETA: 2s - loss: 0.3713 - accuracy: 0.86 - ETA: 1s - loss: 0.3700 - accuracy: 0.86 - ETA: 1s - loss: 0.3685 - accuracy: 0.86 - ETA: 0s - loss: 0.3668 - accuracy: 0.86 - ETA: 0s - loss: 0.3687 - accuracy: 0.86 - 21s 622ms/step - loss: 0.3687 - accuracy: 0.8640\n",
      "Epoch 10/18\n"
     ]
    },
    {
     "name": "stdout",
     "output_type": "stream",
     "text": [
      "33/33 [==============================] - ETA: 21s - loss: 0.3449 - accuracy: 0.875 - ETA: 23s - loss: 0.3160 - accuracy: 0.890 - ETA: 21s - loss: 0.3146 - accuracy: 0.895 - ETA: 19s - loss: 0.3184 - accuracy: 0.888 - ETA: 18s - loss: 0.3065 - accuracy: 0.895 - ETA: 18s - loss: 0.2998 - accuracy: 0.901 - ETA: 17s - loss: 0.2959 - accuracy: 0.900 - ETA: 16s - loss: 0.2883 - accuracy: 0.904 - ETA: 15s - loss: 0.3021 - accuracy: 0.899 - ETA: 14s - loss: 0.3056 - accuracy: 0.895 - ETA: 14s - loss: 0.3068 - accuracy: 0.895 - ETA: 13s - loss: 0.3065 - accuracy: 0.895 - ETA: 12s - loss: 0.3006 - accuracy: 0.896 - ETA: 12s - loss: 0.2979 - accuracy: 0.895 - ETA: 11s - loss: 0.3027 - accuracy: 0.894 - ETA: 10s - loss: 0.3048 - accuracy: 0.893 - ETA: 10s - loss: 0.3064 - accuracy: 0.892 - ETA: 9s - loss: 0.3068 - accuracy: 0.892 - ETA: 8s - loss: 0.3028 - accuracy: 0.89 - ETA: 8s - loss: 0.3062 - accuracy: 0.89 - ETA: 7s - loss: 0.3104 - accuracy: 0.89 - ETA: 7s - loss: 0.3125 - accuracy: 0.89 - ETA: 6s - loss: 0.3101 - accuracy: 0.89 - ETA: 5s - loss: 0.3114 - accuracy: 0.89 - ETA: 5s - loss: 0.3179 - accuracy: 0.88 - ETA: 4s - loss: 0.3192 - accuracy: 0.88 - ETA: 3s - loss: 0.3210 - accuracy: 0.88 - ETA: 3s - loss: 0.3201 - accuracy: 0.88 - ETA: 2s - loss: 0.3205 - accuracy: 0.88 - ETA: 1s - loss: 0.3214 - accuracy: 0.88 - ETA: 1s - loss: 0.3186 - accuracy: 0.88 - ETA: 0s - loss: 0.3238 - accuracy: 0.88 - ETA: 0s - loss: 0.3242 - accuracy: 0.88 - 21s 620ms/step - loss: 0.3242 - accuracy: 0.8849\n",
      "Epoch 11/18\n",
      "33/33 [==============================] - ETA: 19s - loss: 0.2517 - accuracy: 0.906 - ETA: 18s - loss: 0.3134 - accuracy: 0.886 - ETA: 18s - loss: 0.2858 - accuracy: 0.895 - ETA: 17s - loss: 0.2854 - accuracy: 0.892 - ETA: 17s - loss: 0.2814 - accuracy: 0.901 - ETA: 16s - loss: 0.2941 - accuracy: 0.893 - ETA: 15s - loss: 0.2930 - accuracy: 0.894 - ETA: 15s - loss: 0.3049 - accuracy: 0.892 - ETA: 14s - loss: 0.3030 - accuracy: 0.894 - ETA: 14s - loss: 0.3019 - accuracy: 0.896 - ETA: 13s - loss: 0.2980 - accuracy: 0.896 - ETA: 12s - loss: 0.2986 - accuracy: 0.897 - ETA: 12s - loss: 0.3017 - accuracy: 0.895 - ETA: 11s - loss: 0.2984 - accuracy: 0.894 - ETA: 11s - loss: 0.2929 - accuracy: 0.895 - ETA: 10s - loss: 0.2928 - accuracy: 0.895 - ETA: 9s - loss: 0.2883 - accuracy: 0.895 - ETA: 9s - loss: 0.2851 - accuracy: 0.89 - ETA: 8s - loss: 0.2873 - accuracy: 0.89 - ETA: 8s - loss: 0.2888 - accuracy: 0.89 - ETA: 7s - loss: 0.2837 - accuracy: 0.89 - ETA: 6s - loss: 0.2833 - accuracy: 0.89 - ETA: 6s - loss: 0.2796 - accuracy: 0.89 - ETA: 5s - loss: 0.2812 - accuracy: 0.89 - ETA: 5s - loss: 0.2820 - accuracy: 0.89 - ETA: 4s - loss: 0.2836 - accuracy: 0.89 - ETA: 3s - loss: 0.2847 - accuracy: 0.89 - ETA: 3s - loss: 0.2834 - accuracy: 0.89 - ETA: 2s - loss: 0.2861 - accuracy: 0.89 - ETA: 1s - loss: 0.2875 - accuracy: 0.89 - ETA: 1s - loss: 0.2905 - accuracy: 0.89 - ETA: 0s - loss: 0.2891 - accuracy: 0.89 - ETA: 0s - loss: 0.2901 - accuracy: 0.89 - 21s 627ms/step - loss: 0.2901 - accuracy: 0.8932\n",
      "Epoch 12/18\n",
      "33/33 [==============================] - ETA: 22s - loss: 0.2524 - accuracy: 0.914 - ETA: 21s - loss: 0.2448 - accuracy: 0.910 - ETA: 20s - loss: 0.2491 - accuracy: 0.903 - ETA: 19s - loss: 0.2363 - accuracy: 0.910 - ETA: 19s - loss: 0.2402 - accuracy: 0.915 - ETA: 19s - loss: 0.2673 - accuracy: 0.910 - ETA: 18s - loss: 0.2715 - accuracy: 0.901 - ETA: 18s - loss: 0.2689 - accuracy: 0.905 - ETA: 17s - loss: 0.2665 - accuracy: 0.907 - ETA: 16s - loss: 0.2579 - accuracy: 0.910 - ETA: 15s - loss: 0.2547 - accuracy: 0.910 - ETA: 14s - loss: 0.2560 - accuracy: 0.909 - ETA: 13s - loss: 0.2481 - accuracy: 0.912 - ETA: 12s - loss: 0.2467 - accuracy: 0.912 - ETA: 12s - loss: 0.2489 - accuracy: 0.911 - ETA: 11s - loss: 0.2498 - accuracy: 0.912 - ETA: 10s - loss: 0.2575 - accuracy: 0.908 - ETA: 9s - loss: 0.2573 - accuracy: 0.907 - ETA: 9s - loss: 0.2547 - accuracy: 0.90 - ETA: 8s - loss: 0.2510 - accuracy: 0.90 - ETA: 8s - loss: 0.2579 - accuracy: 0.90 - ETA: 7s - loss: 0.2547 - accuracy: 0.90 - ETA: 6s - loss: 0.2541 - accuracy: 0.91 - ETA: 6s - loss: 0.2534 - accuracy: 0.91 - ETA: 5s - loss: 0.2523 - accuracy: 0.91 - ETA: 4s - loss: 0.2516 - accuracy: 0.91 - ETA: 4s - loss: 0.2539 - accuracy: 0.91 - ETA: 3s - loss: 0.2572 - accuracy: 0.91 - ETA: 2s - loss: 0.2578 - accuracy: 0.91 - ETA: 2s - loss: 0.2602 - accuracy: 0.90 - ETA: 1s - loss: 0.2594 - accuracy: 0.90 - ETA: 0s - loss: 0.2596 - accuracy: 0.90 - ETA: 0s - loss: 0.2597 - accuracy: 0.90 - 23s 684ms/step - loss: 0.2597 - accuracy: 0.9090\n",
      "Epoch 13/18\n",
      "33/33 [==============================] - ETA: 22s - loss: 0.3043 - accuracy: 0.875 - ETA: 21s - loss: 0.3097 - accuracy: 0.886 - ETA: 20s - loss: 0.3305 - accuracy: 0.885 - ETA: 20s - loss: 0.3079 - accuracy: 0.892 - ETA: 19s - loss: 0.2877 - accuracy: 0.893 - ETA: 18s - loss: 0.2826 - accuracy: 0.893 - ETA: 17s - loss: 0.2849 - accuracy: 0.894 - ETA: 16s - loss: 0.2750 - accuracy: 0.898 - ETA: 15s - loss: 0.2729 - accuracy: 0.899 - ETA: 15s - loss: 0.2624 - accuracy: 0.903 - ETA: 14s - loss: 0.2511 - accuracy: 0.907 - ETA: 13s - loss: 0.2446 - accuracy: 0.908 - ETA: 13s - loss: 0.2408 - accuracy: 0.909 - ETA: 12s - loss: 0.2458 - accuracy: 0.907 - ETA: 11s - loss: 0.2479 - accuracy: 0.906 - ETA: 10s - loss: 0.2466 - accuracy: 0.908 - ETA: 10s - loss: 0.2474 - accuracy: 0.905 - ETA: 9s - loss: 0.2476 - accuracy: 0.904 - ETA: 9s - loss: 0.2424 - accuracy: 0.90 - ETA: 8s - loss: 0.2363 - accuracy: 0.91 - ETA: 7s - loss: 0.2378 - accuracy: 0.90 - ETA: 7s - loss: 0.2375 - accuracy: 0.90 - ETA: 6s - loss: 0.2364 - accuracy: 0.91 - ETA: 5s - loss: 0.2376 - accuracy: 0.91 - ETA: 5s - loss: 0.2354 - accuracy: 0.91 - ETA: 4s - loss: 0.2322 - accuracy: 0.91 - ETA: 3s - loss: 0.2327 - accuracy: 0.91 - ETA: 3s - loss: 0.2339 - accuracy: 0.91 - ETA: 2s - loss: 0.2335 - accuracy: 0.91 - ETA: 1s - loss: 0.2355 - accuracy: 0.91 - ETA: 1s - loss: 0.2325 - accuracy: 0.91 - ETA: 0s - loss: 0.2344 - accuracy: 0.91 - ETA: 0s - loss: 0.2353 - accuracy: 0.91 - 21s 629ms/step - loss: 0.2353 - accuracy: 0.9114\n",
      "Epoch 14/18\n",
      "33/33 [==============================] - ETA: 20s - loss: 0.2109 - accuracy: 0.921 - ETA: 19s - loss: 0.2064 - accuracy: 0.921 - ETA: 18s - loss: 0.1968 - accuracy: 0.929 - ETA: 18s - loss: 0.2093 - accuracy: 0.921 - ETA: 17s - loss: 0.2082 - accuracy: 0.921 - ETA: 16s - loss: 0.2054 - accuracy: 0.923 - ETA: 16s - loss: 0.2068 - accuracy: 0.921 - ETA: 15s - loss: 0.2190 - accuracy: 0.918 - ETA: 15s - loss: 0.2193 - accuracy: 0.919 - ETA: 14s - loss: 0.2233 - accuracy: 0.917 - ETA: 13s - loss: 0.2214 - accuracy: 0.916 - ETA: 13s - loss: 0.2223 - accuracy: 0.916 - ETA: 12s - loss: 0.2157 - accuracy: 0.918 - ETA: 12s - loss: 0.2212 - accuracy: 0.918 - ETA: 11s - loss: 0.2183 - accuracy: 0.919 - ETA: 10s - loss: 0.2142 - accuracy: 0.921 - ETA: 10s - loss: 0.2145 - accuracy: 0.921 - ETA: 9s - loss: 0.2153 - accuracy: 0.921 - ETA: 8s - loss: 0.2168 - accuracy: 0.92 - ETA: 8s - loss: 0.2168 - accuracy: 0.91 - ETA: 7s - loss: 0.2196 - accuracy: 0.91 - ETA: 7s - loss: 0.2198 - accuracy: 0.91 - ETA: 6s - loss: 0.2214 - accuracy: 0.91 - ETA: 5s - loss: 0.2183 - accuracy: 0.91 - ETA: 5s - loss: 0.2172 - accuracy: 0.91 - ETA: 4s - loss: 0.2158 - accuracy: 0.91 - ETA: 3s - loss: 0.2153 - accuracy: 0.92 - ETA: 3s - loss: 0.2149 - accuracy: 0.92 - ETA: 2s - loss: 0.2157 - accuracy: 0.92 - ETA: 1s - loss: 0.2158 - accuracy: 0.92 - ETA: 1s - loss: 0.2135 - accuracy: 0.92 - ETA: 0s - loss: 0.2124 - accuracy: 0.92 - ETA: 0s - loss: 0.2117 - accuracy: 0.92 - 21s 638ms/step - loss: 0.2117 - accuracy: 0.9226\n",
      "Epoch 15/18\n"
     ]
    },
    {
     "name": "stdout",
     "output_type": "stream",
     "text": [
      "33/33 [==============================] - ETA: 20s - loss: 0.1512 - accuracy: 0.953 - ETA: 19s - loss: 0.1895 - accuracy: 0.941 - ETA: 19s - loss: 0.1703 - accuracy: 0.942 - ETA: 18s - loss: 0.1714 - accuracy: 0.939 - ETA: 17s - loss: 0.1862 - accuracy: 0.932 - ETA: 17s - loss: 0.1927 - accuracy: 0.932 - ETA: 17s - loss: 0.1905 - accuracy: 0.933 - ETA: 16s - loss: 0.1888 - accuracy: 0.931 - ETA: 15s - loss: 0.1778 - accuracy: 0.936 - ETA: 15s - loss: 0.1825 - accuracy: 0.932 - ETA: 14s - loss: 0.1875 - accuracy: 0.931 - ETA: 13s - loss: 0.1876 - accuracy: 0.930 - ETA: 13s - loss: 0.1852 - accuracy: 0.930 - ETA: 12s - loss: 0.1794 - accuracy: 0.933 - ETA: 11s - loss: 0.1813 - accuracy: 0.932 - ETA: 11s - loss: 0.1831 - accuracy: 0.931 - ETA: 10s - loss: 0.1840 - accuracy: 0.931 - ETA: 9s - loss: 0.1872 - accuracy: 0.930 - ETA: 9s - loss: 0.1875 - accuracy: 0.92 - ETA: 8s - loss: 0.1887 - accuracy: 0.92 - ETA: 7s - loss: 0.1887 - accuracy: 0.93 - ETA: 7s - loss: 0.1905 - accuracy: 0.93 - ETA: 6s - loss: 0.1873 - accuracy: 0.93 - ETA: 5s - loss: 0.1857 - accuracy: 0.93 - ETA: 5s - loss: 0.1876 - accuracy: 0.93 - ETA: 4s - loss: 0.1899 - accuracy: 0.93 - ETA: 3s - loss: 0.1908 - accuracy: 0.93 - ETA: 3s - loss: 0.1913 - accuracy: 0.93 - ETA: 2s - loss: 0.1893 - accuracy: 0.93 - ETA: 1s - loss: 0.1896 - accuracy: 0.93 - ETA: 1s - loss: 0.1881 - accuracy: 0.93 - ETA: 0s - loss: 0.1888 - accuracy: 0.93 - ETA: 0s - loss: 0.1883 - accuracy: 0.93 - 21s 634ms/step - loss: 0.1883 - accuracy: 0.9313\n",
      "Epoch 16/18\n",
      "33/33 [==============================] - ETA: 22s - loss: 0.1184 - accuracy: 0.953 - ETA: 21s - loss: 0.1478 - accuracy: 0.945 - ETA: 19s - loss: 0.1295 - accuracy: 0.953 - ETA: 18s - loss: 0.1341 - accuracy: 0.947 - ETA: 18s - loss: 0.1384 - accuracy: 0.951 - ETA: 18s - loss: 0.1375 - accuracy: 0.953 - ETA: 17s - loss: 0.1346 - accuracy: 0.953 - ETA: 16s - loss: 0.1373 - accuracy: 0.950 - ETA: 16s - loss: 0.1391 - accuracy: 0.949 - ETA: 15s - loss: 0.1417 - accuracy: 0.949 - ETA: 14s - loss: 0.1399 - accuracy: 0.948 - ETA: 13s - loss: 0.1359 - accuracy: 0.949 - ETA: 13s - loss: 0.1369 - accuracy: 0.949 - ETA: 12s - loss: 0.1417 - accuracy: 0.947 - ETA: 11s - loss: 0.1457 - accuracy: 0.945 - ETA: 11s - loss: 0.1471 - accuracy: 0.945 - ETA: 10s - loss: 0.1491 - accuracy: 0.944 - ETA: 9s - loss: 0.1507 - accuracy: 0.942 - ETA: 9s - loss: 0.1567 - accuracy: 0.94 - ETA: 8s - loss: 0.1592 - accuracy: 0.93 - ETA: 7s - loss: 0.1643 - accuracy: 0.93 - ETA: 7s - loss: 0.1662 - accuracy: 0.93 - ETA: 6s - loss: 0.1671 - accuracy: 0.93 - ETA: 5s - loss: 0.1678 - accuracy: 0.93 - ETA: 5s - loss: 0.1738 - accuracy: 0.93 - ETA: 4s - loss: 0.1763 - accuracy: 0.93 - ETA: 3s - loss: 0.1794 - accuracy: 0.93 - ETA: 3s - loss: 0.1794 - accuracy: 0.93 - ETA: 2s - loss: 0.1808 - accuracy: 0.93 - ETA: 1s - loss: 0.1833 - accuracy: 0.92 - ETA: 1s - loss: 0.1845 - accuracy: 0.92 - ETA: 0s - loss: 0.1833 - accuracy: 0.93 - ETA: 0s - loss: 0.1835 - accuracy: 0.93 - 21s 628ms/step - loss: 0.1835 - accuracy: 0.9311\n",
      "Epoch 17/18\n",
      "33/33 [==============================] - ETA: 20s - loss: 0.1719 - accuracy: 0.929 - ETA: 19s - loss: 0.1649 - accuracy: 0.933 - ETA: 18s - loss: 0.1428 - accuracy: 0.945 - ETA: 18s - loss: 0.1449 - accuracy: 0.943 - ETA: 17s - loss: 0.1423 - accuracy: 0.943 - ETA: 16s - loss: 0.1425 - accuracy: 0.941 - ETA: 16s - loss: 0.1386 - accuracy: 0.944 - ETA: 16s - loss: 0.1324 - accuracy: 0.948 - ETA: 15s - loss: 0.1303 - accuracy: 0.952 - ETA: 15s - loss: 0.1329 - accuracy: 0.951 - ETA: 14s - loss: 0.1392 - accuracy: 0.946 - ETA: 14s - loss: 0.1366 - accuracy: 0.946 - ETA: 13s - loss: 0.1373 - accuracy: 0.947 - ETA: 12s - loss: 0.1406 - accuracy: 0.945 - ETA: 12s - loss: 0.1419 - accuracy: 0.945 - ETA: 11s - loss: 0.1397 - accuracy: 0.946 - ETA: 10s - loss: 0.1373 - accuracy: 0.948 - ETA: 10s - loss: 0.1361 - accuracy: 0.948 - ETA: 9s - loss: 0.1363 - accuracy: 0.949 - ETA: 8s - loss: 0.1370 - accuracy: 0.94 - ETA: 8s - loss: 0.1381 - accuracy: 0.94 - ETA: 7s - loss: 0.1387 - accuracy: 0.94 - ETA: 6s - loss: 0.1402 - accuracy: 0.94 - ETA: 6s - loss: 0.1443 - accuracy: 0.94 - ETA: 5s - loss: 0.1450 - accuracy: 0.94 - ETA: 4s - loss: 0.1480 - accuracy: 0.94 - ETA: 3s - loss: 0.1461 - accuracy: 0.94 - ETA: 3s - loss: 0.1482 - accuracy: 0.94 - ETA: 2s - loss: 0.1491 - accuracy: 0.94 - ETA: 1s - loss: 0.1476 - accuracy: 0.94 - ETA: 1s - loss: 0.1515 - accuracy: 0.94 - ETA: 0s - loss: 0.1549 - accuracy: 0.94 - ETA: 0s - loss: 0.1552 - accuracy: 0.94 - 21s 642ms/step - loss: 0.1552 - accuracy: 0.9446\n",
      "Epoch 18/18\n",
      "33/33 [==============================] - ETA: 20s - loss: 0.1251 - accuracy: 0.960 - ETA: 19s - loss: 0.1561 - accuracy: 0.937 - ETA: 18s - loss: 0.1648 - accuracy: 0.932 - ETA: 17s - loss: 0.1778 - accuracy: 0.927 - ETA: 17s - loss: 0.1712 - accuracy: 0.931 - ETA: 16s - loss: 0.1760 - accuracy: 0.929 - ETA: 16s - loss: 0.1679 - accuracy: 0.934 - ETA: 15s - loss: 0.1652 - accuracy: 0.936 - ETA: 15s - loss: 0.1652 - accuracy: 0.935 - ETA: 14s - loss: 0.1733 - accuracy: 0.935 - ETA: 14s - loss: 0.1889 - accuracy: 0.930 - ETA: 13s - loss: 0.1894 - accuracy: 0.929 - ETA: 13s - loss: 0.1939 - accuracy: 0.926 - ETA: 12s - loss: 0.1859 - accuracy: 0.929 - ETA: 11s - loss: 0.1827 - accuracy: 0.930 - ETA: 11s - loss: 0.1800 - accuracy: 0.931 - ETA: 10s - loss: 0.1765 - accuracy: 0.932 - ETA: 9s - loss: 0.1777 - accuracy: 0.933 - ETA: 9s - loss: 0.1781 - accuracy: 0.93 - ETA: 8s - loss: 0.1757 - accuracy: 0.93 - ETA: 7s - loss: 0.1736 - accuracy: 0.93 - ETA: 7s - loss: 0.1720 - accuracy: 0.93 - ETA: 6s - loss: 0.1758 - accuracy: 0.93 - ETA: 5s - loss: 0.1741 - accuracy: 0.93 - ETA: 5s - loss: 0.1732 - accuracy: 0.93 - ETA: 4s - loss: 0.1739 - accuracy: 0.93 - ETA: 3s - loss: 0.1762 - accuracy: 0.93 - ETA: 3s - loss: 0.1758 - accuracy: 0.93 - ETA: 2s - loss: 0.1757 - accuracy: 0.93 - ETA: 1s - loss: 0.1746 - accuracy: 0.93 - ETA: 1s - loss: 0.1753 - accuracy: 0.93 - ETA: 0s - loss: 0.1739 - accuracy: 0.93 - ETA: 0s - loss: 0.1737 - accuracy: 0.93 - 21s 640ms/step - loss: 0.1737 - accuracy: 0.9337\n",
      "Score for fold 3: loss of 0.6688239574432373; accuracy of 80.52452802658081%\n"
     ]
    }
   ],
   "source": [
    "# set up the 3-fold cross validation to get a more accurate estimate of the accuracy of the model\n",
    "\n",
    "num_folds = 3\n",
    "\n",
    "# Define per-fold score containers\n",
    "acc_per_fold = []\n",
    "loss_per_fold = []\n",
    "\n",
    "# Merge inputs and targets\n",
    "inputs = np.concatenate((X_train_pad, X_val_pad), axis=0)\n",
    "targets = np.concatenate((y_train, y_val), axis=0)\n",
    "\n",
    "# Define the K-fold Cross Validator\n",
    "kfold = KFold(n_splits=num_folds, shuffle=True)\n",
    "fold_no = 1\n",
    "\n",
    "for train, test in kfold.split(inputs, targets):\n",
    "    model = build_model()\n",
    "    # Generate a print\n",
    "    print('------------------------------------------------------------------------')\n",
    "    print(f'Training for fold {fold_no} ...')\n",
    "    # Fit data to model\n",
    "    history = model.fit(inputs[train], targets[train],\n",
    "              batch_size=128,\n",
    "              epochs=best_number_of_epoch)\n",
    "    # Generate generalization metrics\n",
    "    scores = model.evaluate(inputs[test], targets[test], verbose=0)\n",
    "    print(f'Score for fold {fold_no}: {model.metrics_names[0]} of {scores[0]}; {model.metrics_names[1]} of {scores[1]*100}%')\n",
    "    acc_per_fold.append(scores[1] * 100)\n",
    "    loss_per_fold.append(scores[0])\n",
    "    \n",
    "    # Increase fold number\n",
    "    fold_no = fold_no + 1"
   ]
  },
  {
   "cell_type": "code",
   "execution_count": 59,
   "id": "ea6ff0e0",
   "metadata": {},
   "outputs": [
    {
     "name": "stdout",
     "output_type": "stream",
     "text": [
      "------------------------------------------------------------------------\n",
      "Score per fold\n",
      "------------------------------------------------------------------------\n",
      "> Fold 1 - Loss: 0.5805109143257141 - Accuracy: 82.2330117225647%\n",
      "------------------------------------------------------------------------\n",
      "> Fold 2 - Loss: 0.7853479385375977 - Accuracy: 78.72753739356995%\n",
      "------------------------------------------------------------------------\n",
      "> Fold 3 - Loss: 0.6688239574432373 - Accuracy: 80.52452802658081%\n",
      "------------------------------------------------------------------------\n",
      "Average scores for all folds:\n",
      "> Accuracy: 80.49502571423848 (+- 1.4312559420861708)\n",
      "> Loss: 0.6782276034355164\n",
      "------------------------------------------------------------------------\n"
     ]
    }
   ],
   "source": [
    "# == Provide average scores ==\n",
    "print('------------------------------------------------------------------------')\n",
    "print('Score per fold')\n",
    "for i in range(0, len(acc_per_fold)):\n",
    "    print('------------------------------------------------------------------------')\n",
    "    print(f'> Fold {i+1} - Loss: {loss_per_fold[i]} - Accuracy: {acc_per_fold[i]}%')\n",
    "print('------------------------------------------------------------------------')\n",
    "print('Average scores for all folds:')\n",
    "print(f'> Accuracy: {np.mean(acc_per_fold)} (+- {np.std(acc_per_fold)})')\n",
    "print(f'> Loss: {np.mean(loss_per_fold)}')\n",
    "print('------------------------------------------------------------------------')"
   ]
  },
  {
   "cell_type": "markdown",
   "id": "103f0cb0",
   "metadata": {},
   "source": [
    "### Save the model to use it for the subsequent tasks"
   ]
  },
  {
   "cell_type": "code",
   "execution_count": 60,
   "id": "5a0c21b1",
   "metadata": {},
   "outputs": [],
   "source": [
    "# serialize model to JSON\n",
    "model_json = model.to_json()\n",
    "with open(\"model.json\", \"w\") as json_file:\n",
    "    json_file.write(model_json)"
   ]
  },
  {
   "cell_type": "code",
   "execution_count": 61,
   "id": "1f8fbc99",
   "metadata": {},
   "outputs": [
    {
     "name": "stdout",
     "output_type": "stream",
     "text": [
      "Saved model to disk\n"
     ]
    }
   ],
   "source": [
    "# serialize weights to HDF5\n",
    "model.save_weights(\"model.h5\")\n",
    "print(\"Saved model to disk\")"
   ]
  },
  {
   "cell_type": "code",
   "execution_count": 62,
   "id": "e7697506",
   "metadata": {},
   "outputs": [],
   "source": [
    "# load json and create model\n",
    "json_file = open('model.json', 'r')\n",
    "loaded_model_json = json_file.read()\n",
    "json_file.close()\n",
    "loaded_model = model_from_json(loaded_model_json)"
   ]
  },
  {
   "cell_type": "code",
   "execution_count": 63,
   "id": "e94ebee7",
   "metadata": {},
   "outputs": [
    {
     "name": "stdout",
     "output_type": "stream",
     "text": [
      "Loaded model from disk\n"
     ]
    }
   ],
   "source": [
    "# load weights into new model\n",
    "loaded_model.load_weights(\"model.h5\")\n",
    "print(\"Loaded model from disk\")"
   ]
  },
  {
   "cell_type": "code",
   "execution_count": 64,
   "id": "f7a9c6be",
   "metadata": {},
   "outputs": [
    {
     "name": "stdout",
     "output_type": "stream",
     "text": [
      "accuracy: 81.39%\n"
     ]
    }
   ],
   "source": [
    "# evaluate loaded model on test data\n",
    "loaded_model.compile(loss='binary_crossentropy', optimizer='adam', metrics=['accuracy'])\n",
    "score = loaded_model.evaluate(X_test_pad, y_test, verbose=0)\n",
    "print(\"%s: %.2f%%\" % (loaded_model.metrics_names[1], score[1]*100))"
   ]
  },
  {
   "cell_type": "markdown",
   "id": "590cc0e8",
   "metadata": {},
   "source": [
    "## 2. Model with Embedding, Convolutional layer and LSTM"
   ]
  },
  {
   "cell_type": "code",
   "execution_count": 65,
   "id": "hKkULGA7VveR",
   "metadata": {
    "colab": {
     "base_uri": "https://localhost:8080/"
    },
    "id": "hKkULGA7VveR",
    "outputId": "f9e8b898-7421-4d81-dc18-9bdf7829cb4f"
   },
   "outputs": [],
   "source": [
    "#model = Sequential()\n",
    "#model.add(embedding_layer)\n",
    "#model.add(Conv1D(128, 3, activation=\"relu\"))\n",
    "#model.add(MaxPooling1D(2))\n",
    "#model.add(LSTM(200, return_sequences=True))\n",
    "#model.add(Dropout(0.6))\n",
    "#model.add(Flatten())\n",
    "#model.add(Dense(100, activation='relu'))\n",
    "#model.add(Dropout(0.5))\n",
    "#model.add(Dense(50, activation='relu'))\n",
    "#model.add(Dense(class_num, activation='softmax'))\n",
    "#\n",
    "#model.compile(loss='categorical_crossentropy', optimizer='adam', metrics='accuracy')\n",
    "#\n",
    "#model.summary()"
   ]
  },
  {
   "cell_type": "code",
   "execution_count": 66,
   "id": "a304cda2",
   "metadata": {
    "colab": {
     "base_uri": "https://localhost:8080/",
     "height": 664
    },
    "id": "a304cda2",
    "outputId": "3447de74-fed6-4d36-abf5-83d116b46fd0",
    "scrolled": true
   },
   "outputs": [],
   "source": [
    "#history = model.fit(X_train_pad, \n",
    "#                    y_train, \n",
    "#                    epochs=20, \n",
    "#                    batch_size=128,\n",
    "#                    validation_data=(X_val_pad, y_val))"
   ]
  },
  {
   "cell_type": "code",
   "execution_count": 67,
   "id": "5b0bdefa",
   "metadata": {
    "colab": {
     "base_uri": "https://localhost:8080/",
     "height": 573
    },
    "id": "5b0bdefa",
    "outputId": "49b096da-2bb6-4f1c-c783-6ea12df51125"
   },
   "outputs": [],
   "source": [
    "#plot_history()"
   ]
  },
  {
   "cell_type": "code",
   "execution_count": 68,
   "id": "6e3ad9a9",
   "metadata": {
    "id": "6e3ad9a9"
   },
   "outputs": [],
   "source": [
    "#y_pred = np.argmax(model.predict(X_test_pad), axis=1)\n",
    "#y_true = np.argmax(y_test, axis=1)\n",
    "#\n",
    "#print(metrics.classification_report(y_pred, y_true))"
   ]
  },
  {
   "cell_type": "code",
   "execution_count": 69,
   "id": "a20bc2b5",
   "metadata": {},
   "outputs": [],
   "source": [
    "#cm = ConfusionMatrixDisplay(confusion_matrix(y_pred, y_true))\n",
    "#cm.plot()"
   ]
  },
  {
   "cell_type": "markdown",
   "id": "c264b1be",
   "metadata": {},
   "source": [
    "## 3. Model with LSTM and Convvolutional layers"
   ]
  },
  {
   "cell_type": "code",
   "execution_count": 70,
   "id": "5dc8617d",
   "metadata": {
    "id": "5dc8617d"
   },
   "outputs": [],
   "source": [
    "#model = Sequential()\n",
    "#model.add(embedding_layer)\n",
    "#model.add(LSTM(100, return_sequences=True))\n",
    "#model.add(Dropout(0.2))\n",
    "#model.add(Conv1D(128, 7, padding=\"valid\", activation=\"relu\", strides=3))\n",
    "#model.add(Conv1D(128, 7, padding=\"valid\", activation=\"relu\", strides=3))\n",
    "#model.add(GlobalMaxPooling1D())\n",
    "#model.add(Flatten())\n",
    "##model.add(Dropout(0.2))\n",
    "#model.add(Dense(128,activation='relu'))\n",
    "#model.add(Dense(class_num, activation='softmax'))\n",
    "#\n",
    "#model.compile(loss='categorical_crossentropy', optimizer='adam', metrics='accuracy')\n",
    "#\n",
    "#model.summary()"
   ]
  },
  {
   "cell_type": "code",
   "execution_count": 71,
   "id": "7dc7e03e",
   "metadata": {
    "id": "7dc7e03e"
   },
   "outputs": [],
   "source": [
    "#history = model.fit(X_train_pad, \n",
    "#                    y_train, \n",
    "#                    epochs=20, \n",
    "#                    batch_size=128,\n",
    "#                    validation_data=(X_val_pad, y_val))"
   ]
  },
  {
   "cell_type": "code",
   "execution_count": 72,
   "id": "179c8467",
   "metadata": {
    "id": "179c8467"
   },
   "outputs": [],
   "source": [
    "#plot_history()"
   ]
  },
  {
   "cell_type": "code",
   "execution_count": 73,
   "id": "8424577f",
   "metadata": {},
   "outputs": [],
   "source": [
    "#y_pred = np.argmax(model.predict(X_test_pad), axis=1)\n",
    "#y_true = np.argmax(y_test, axis=1)\n",
    "#\n",
    "#print(metrics.classification_report(y_pred, y_true))"
   ]
  },
  {
   "cell_type": "code",
   "execution_count": 74,
   "id": "f36f68b6",
   "metadata": {},
   "outputs": [],
   "source": [
    "#cm = ConfusionMatrixDisplay(confusion_matrix(y_pred, y_true))\n",
    "#cm.plot()"
   ]
  },
  {
   "cell_type": "code",
   "execution_count": null,
   "id": "ad4aab2f",
   "metadata": {
    "id": "ad4aab2f"
   },
   "outputs": [],
   "source": []
  },
  {
   "cell_type": "code",
   "execution_count": null,
   "id": "a0175de4",
   "metadata": {
    "id": "a0175de4"
   },
   "outputs": [],
   "source": []
  },
  {
   "cell_type": "code",
   "execution_count": null,
   "id": "7df34285",
   "metadata": {
    "id": "7df34285"
   },
   "outputs": [],
   "source": []
  },
  {
   "cell_type": "code",
   "execution_count": null,
   "id": "d751d5d3",
   "metadata": {
    "id": "d751d5d3"
   },
   "outputs": [],
   "source": []
  },
  {
   "cell_type": "code",
   "execution_count": null,
   "id": "0bca3563",
   "metadata": {
    "id": "0bca3563"
   },
   "outputs": [],
   "source": []
  }
 ],
 "metadata": {
  "accelerator": "GPU",
  "colab": {
   "collapsed_sections": [
    "3699cf52"
   ],
   "name": "text_mining.ipynb",
   "provenance": []
  },
  "kernelspec": {
   "display_name": "Python 3 (ipykernel)",
   "language": "python",
   "name": "python3"
  },
  "language_info": {
   "codemirror_mode": {
    "name": "ipython",
    "version": 3
   },
   "file_extension": ".py",
   "mimetype": "text/x-python",
   "name": "python",
   "nbconvert_exporter": "python",
   "pygments_lexer": "ipython3",
   "version": "3.8.5"
  },
  "latex_envs": {
   "LaTeX_envs_menu_present": true,
   "autoclose": false,
   "autocomplete": true,
   "bibliofile": "biblio.bib",
   "cite_by": "apalike",
   "current_citInitial": 1,
   "eqLabelWithNumbers": true,
   "eqNumInitial": 1,
   "hotkeys": {
    "equation": "Ctrl-E",
    "itemize": "Ctrl-I"
   },
   "labels_anchors": false,
   "latex_user_defs": false,
   "report_style_numbering": false,
   "user_envs_cfg": false
  }
 },
 "nbformat": 4,
 "nbformat_minor": 5
}
