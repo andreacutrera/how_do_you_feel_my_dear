{
 "cells": [
  {
   "cell_type": "markdown",
   "id": "acc79a1c",
   "metadata": {},
   "source": [
    "## Try to write down some texts and get the predictions"
   ]
  },
  {
   "cell_type": "code",
   "execution_count": 1,
   "id": "67fc0f9c",
   "metadata": {},
   "outputs": [
    {
     "name": "stderr",
     "output_type": "stream",
     "text": [
      "/var/folders/24/nqjd68556n7_t8xcfyl1lvpc0000gn/T/ipykernel_60108/2035162933.py:18: FutureWarning: The demoji.download_codes attribute is deprecated and will be removed from demoji in a future version. It is an unused attribute as emoji codes are now distributed directly with the demoji package.\n",
      "  demoji.download_codes()\n"
     ]
    }
   ],
   "source": [
    "import os\n",
    "import re\n",
    "import json\n",
    "import numpy as np\n",
    "import pandas as pd\n",
    "import matplotlib.pyplot as plt\n",
    "\n",
    "#!pip install neattext\n",
    "import neattext.functions as nfx\n",
    "\n",
    "from sklearn.utils import shuffle\n",
    "from sklearn.model_selection import train_test_split, KFold\n",
    "from sklearn.preprocessing import LabelEncoder\n",
    "from sklearn import metrics\n",
    "from sklearn.metrics import confusion_matrix, ConfusionMatrixDisplay\n",
    "\n",
    "import demoji\n",
    "demoji.download_codes()\n",
    "\n",
    "import nltk\n",
    "# nltk.download('wordnet')\n",
    "from nltk.tokenize import TweetTokenizer\n",
    "from nltk.stem import WordNetLemmatizer\n",
    "from nltk.tokenize.treebank import TreebankWordDetokenizer\n",
    "\n",
    "from keras.preprocessing.text import Tokenizer, tokenizer_from_json\n",
    "from keras.preprocessing.sequence import pad_sequences\n",
    "from tensorflow.keras.utils import to_categorical\n",
    "\n",
    "from tensorflow.keras.models import Sequential, model_from_json\n",
    "from tensorflow.keras.layers import Dense, LSTM, Embedding, Bidirectional, Dropout, Input, Conv1D, MaxPooling1D, Flatten, GlobalMaxPooling1D\n",
    "from keras.models import load_model\n",
    "import tensorflow as tf"
   ]
  },
  {
   "cell_type": "markdown",
   "id": "e49a1ace",
   "metadata": {},
   "source": [
    "## Load the model trained for the emotions prediction"
   ]
  },
  {
   "cell_type": "code",
   "execution_count": 2,
   "id": "3e2a5cce",
   "metadata": {},
   "outputs": [
    {
     "name": "stderr",
     "output_type": "stream",
     "text": [
      "2022-04-26 22:44:21.705123: I tensorflow/core/platform/cpu_feature_guard.cc:151] This TensorFlow binary is optimized with oneAPI Deep Neural Network Library (oneDNN) to use the following CPU instructions in performance-critical operations:  AVX2 AVX512F FMA\n",
      "To enable them in other operations, rebuild TensorFlow with the appropriate compiler flags.\n"
     ]
    },
    {
     "name": "stdout",
     "output_type": "stream",
     "text": [
      "Model: \"sequential_9\"\n",
      "_________________________________________________________________\n",
      " Layer (type)                Output Shape              Param #   \n",
      "=================================================================\n",
      " embedding (Embedding)       (None, 50, 200)           2180000   \n",
      "                                                                 \n",
      " dropout_27 (Dropout)        (None, 50, 200)           0         \n",
      "                                                                 \n",
      " bidirectional_27 (Bidirecti  (None, 50, 100)          100400    \n",
      " onal)                                                           \n",
      "                                                                 \n",
      " dropout_28 (Dropout)        (None, 50, 100)           0         \n",
      "                                                                 \n",
      " bidirectional_28 (Bidirecti  (None, 50, 300)          301200    \n",
      " onal)                                                           \n",
      "                                                                 \n",
      " dropout_29 (Dropout)        (None, 50, 300)           0         \n",
      "                                                                 \n",
      " bidirectional_29 (Bidirecti  (None, 100)              140400    \n",
      " onal)                                                           \n",
      "                                                                 \n",
      " dense_9 (Dense)             (None, 4)                 404       \n",
      "                                                                 \n",
      "=================================================================\n",
      "Total params: 2,722,404\n",
      "Trainable params: 542,404\n",
      "Non-trainable params: 2,180,000\n",
      "_________________________________________________________________\n"
     ]
    }
   ],
   "source": [
    "# load model\n",
    "model = load_model('how_do_you_feel_my_dear/final_model/model.h5')\n",
    "# summarize model\n",
    "model.summary()"
   ]
  },
  {
   "cell_type": "code",
   "execution_count": 3,
   "id": "8411a7a0",
   "metadata": {},
   "outputs": [],
   "source": [
    "# alphabetical order\n",
    "# 0: anger\n",
    "# 1: fear\n",
    "# 2: joy\n",
    "# 3: sadness"
   ]
  },
  {
   "cell_type": "markdown",
   "id": "c9b24a75",
   "metadata": {},
   "source": [
    "## Load the tokenizer on which we trained our model\n",
    "If you use another tokenizer it is not going to work"
   ]
  },
  {
   "cell_type": "code",
   "execution_count": 4,
   "id": "9d2243c5",
   "metadata": {},
   "outputs": [],
   "source": [
    "with open('how_do_you_feel_my_dear/tokenizer/tokenizer.json') as f:\n",
    "    data_json = json.load(f)\n",
    "\n",
    "tokenizer = tokenizer_from_json(data_json)"
   ]
  },
  {
   "cell_type": "code",
   "execution_count": 7,
   "id": "5c7ea636",
   "metadata": {},
   "outputs": [],
   "source": [
    "def clean_emoji_output(text):\n",
    "    return re.sub(\":\", \" \", text)\n",
    "\n",
    "def strip_lowercase(text):\n",
    "    return text.strip().lower()\n",
    "\n",
    "# tokenize\n",
    "tt = TweetTokenizer()\n",
    "\n",
    "# lemmatize\n",
    "def lemmatize_text(text):\n",
    "    lemmatizer = WordNetLemmatizer()\n",
    "    return [lemmatizer.lemmatize(w) for w in text]\n",
    "\n",
    "# function which cleans texts\n",
    "def clean_text(data):\n",
    "    data['clean_text'] = data['text'].apply(nfx.remove_emails)\n",
    "    data['clean_text'] = data['clean_text'].apply(nfx.remove_numbers)\n",
    "    data['clean_text'] = data['clean_text'].apply(nfx.remove_urls)\n",
    "    data['clean_text'] = data['clean_text'].apply(nfx.remove_userhandles)\n",
    "    data['clean_text'] = data['clean_text'].apply(demoji.replace_with_desc)\n",
    "    data['clean_text'] = data['clean_text'].apply(clean_emoji_output)\n",
    "    data['clean_text'] = data['clean_text'].apply(nfx.remove_special_characters)\n",
    "    data['clean_text'] = data['clean_text'].apply(nfx.remove_bad_quotes)\n",
    "    data['clean_text'] = data['clean_text'].apply(nfx.remove_html_tags)\n",
    "    data['clean_text'] = data['clean_text'].apply(nfx.remove_punctuations)\n",
    "    data['clean_text'] = data['clean_text'].apply(nfx.remove_stopwords)\n",
    "    data['clean_text'] = data['clean_text'].apply(nfx.remove_multiple_spaces)\n",
    "    data['clean_text'] = data['clean_text'].apply(strip_lowercase)\n",
    "    \n",
    "    data['tokenize'] = data.clean_text.str.lower().apply(tt.tokenize)\n",
    "    data['tokenize_lemmatized'] = data['tokenize'].apply(lemmatize_text)\n",
    "    \n",
    "    # detokenize\n",
    "    data['final_text'] = data.tokenize_lemmatized.apply(TreebankWordDetokenizer().detokenize)"
   ]
  },
  {
   "cell_type": "code",
   "execution_count": 8,
   "id": "adb8bbbb",
   "metadata": {},
   "outputs": [
    {
     "data": {
      "text/html": [
       "<div>\n",
       "<style scoped>\n",
       "    .dataframe tbody tr th:only-of-type {\n",
       "        vertical-align: middle;\n",
       "    }\n",
       "\n",
       "    .dataframe tbody tr th {\n",
       "        vertical-align: top;\n",
       "    }\n",
       "\n",
       "    .dataframe thead th {\n",
       "        text-align: right;\n",
       "    }\n",
       "</style>\n",
       "<table border=\"1\" class=\"dataframe\">\n",
       "  <thead>\n",
       "    <tr style=\"text-align: right;\">\n",
       "      <th></th>\n",
       "      <th>text</th>\n",
       "    </tr>\n",
       "  </thead>\n",
       "  <tbody>\n",
       "    <tr>\n",
       "      <th>0</th>\n",
       "      <td>hello to EVERYbody, I'm here because I'm happy</td>\n",
       "    </tr>\n",
       "    <tr>\n",
       "      <th>1</th>\n",
       "      <td>So sad, what Happened yesterday, many #deaths</td>\n",
       "    </tr>\n",
       "    <tr>\n",
       "      <th>2</th>\n",
       "      <td>@andrea I want to kill you, no matter how far ...</td>\n",
       "    </tr>\n",
       "    <tr>\n",
       "      <th>3</th>\n",
       "      <td>@mathias that way scares me a lot°çççéé</td>\n",
       "    </tr>\n",
       "  </tbody>\n",
       "</table>\n",
       "</div>"
      ],
      "text/plain": [
       "                                                text\n",
       "0     hello to EVERYbody, I'm here because I'm happy\n",
       "1      So sad, what Happened yesterday, many #deaths\n",
       "2  @andrea I want to kill you, no matter how far ...\n",
       "3            @mathias that way scares me a lot°çççéé"
      ]
     },
     "execution_count": 8,
     "metadata": {},
     "output_type": "execute_result"
    }
   ],
   "source": [
    "stringhe = [\"hello to EVERYbody, I'm here because I'm happy\",\n",
    "            \"So sad, what Happened yesterday, many #deaths\",\n",
    "            \"@andrea I want to kill you, no matter how far you are, I will find you\",\n",
    "            \"@mathias that way scares me a lot°çççéé\"]\n",
    "\n",
    "data = pd.DataFrame({\"text\": stringhe})\n",
    "data"
   ]
  },
  {
   "cell_type": "code",
   "execution_count": 9,
   "id": "0d154749",
   "metadata": {},
   "outputs": [
    {
     "data": {
      "text/html": [
       "<div>\n",
       "<style scoped>\n",
       "    .dataframe tbody tr th:only-of-type {\n",
       "        vertical-align: middle;\n",
       "    }\n",
       "\n",
       "    .dataframe tbody tr th {\n",
       "        vertical-align: top;\n",
       "    }\n",
       "\n",
       "    .dataframe thead th {\n",
       "        text-align: right;\n",
       "    }\n",
       "</style>\n",
       "<table border=\"1\" class=\"dataframe\">\n",
       "  <thead>\n",
       "    <tr style=\"text-align: right;\">\n",
       "      <th></th>\n",
       "      <th>text</th>\n",
       "      <th>clean_text</th>\n",
       "      <th>tokenize</th>\n",
       "      <th>tokenize_lemmatized</th>\n",
       "      <th>final_text</th>\n",
       "    </tr>\n",
       "  </thead>\n",
       "  <tbody>\n",
       "    <tr>\n",
       "      <th>0</th>\n",
       "      <td>hello to EVERYbody, I'm here because I'm happy</td>\n",
       "      <td>hello everybody im im happy</td>\n",
       "      <td>[hello, everybody, im, im, happy]</td>\n",
       "      <td>[hello, everybody, im, im, happy]</td>\n",
       "      <td>hello everybody im im happy</td>\n",
       "    </tr>\n",
       "    <tr>\n",
       "      <th>1</th>\n",
       "      <td>So sad, what Happened yesterday, many #deaths</td>\n",
       "      <td>sad happened yesterday deaths</td>\n",
       "      <td>[sad, happened, yesterday, deaths]</td>\n",
       "      <td>[sad, happened, yesterday, death]</td>\n",
       "      <td>sad happened yesterday death</td>\n",
       "    </tr>\n",
       "    <tr>\n",
       "      <th>2</th>\n",
       "      <td>@andrea I want to kill you, no matter how far ...</td>\n",
       "      <td>want kill matter far find</td>\n",
       "      <td>[want, kill, matter, far, find]</td>\n",
       "      <td>[want, kill, matter, far, find]</td>\n",
       "      <td>want kill matter far find</td>\n",
       "    </tr>\n",
       "    <tr>\n",
       "      <th>3</th>\n",
       "      <td>@mathias that way scares me a lot°çççéé</td>\n",
       "      <td>way scares lot</td>\n",
       "      <td>[way, scares, lot]</td>\n",
       "      <td>[way, scare, lot]</td>\n",
       "      <td>way scare lot</td>\n",
       "    </tr>\n",
       "  </tbody>\n",
       "</table>\n",
       "</div>"
      ],
      "text/plain": [
       "                                                text  \\\n",
       "0     hello to EVERYbody, I'm here because I'm happy   \n",
       "1      So sad, what Happened yesterday, many #deaths   \n",
       "2  @andrea I want to kill you, no matter how far ...   \n",
       "3            @mathias that way scares me a lot°çççéé   \n",
       "\n",
       "                      clean_text                            tokenize  \\\n",
       "0    hello everybody im im happy   [hello, everybody, im, im, happy]   \n",
       "1  sad happened yesterday deaths  [sad, happened, yesterday, deaths]   \n",
       "2      want kill matter far find     [want, kill, matter, far, find]   \n",
       "3                 way scares lot                  [way, scares, lot]   \n",
       "\n",
       "                 tokenize_lemmatized                    final_text  \n",
       "0  [hello, everybody, im, im, happy]   hello everybody im im happy  \n",
       "1  [sad, happened, yesterday, death]  sad happened yesterday death  \n",
       "2    [want, kill, matter, far, find]     want kill matter far find  \n",
       "3                  [way, scare, lot]                 way scare lot  "
      ]
     },
     "execution_count": 9,
     "metadata": {},
     "output_type": "execute_result"
    }
   ],
   "source": [
    "# clean and shuffle\n",
    "\n",
    "clean_text(data)\n",
    "data"
   ]
  },
  {
   "cell_type": "code",
   "execution_count": 10,
   "id": "e3512e70",
   "metadata": {},
   "outputs": [
    {
     "data": {
      "text/plain": [
       "array([[ 995, 1332,    2,    2,   15,    0,    0,    0,    0,    0,    0,\n",
       "           0,    0,    0,    0,    0,    0,    0,    0,    0,    0,    0,\n",
       "           0,    0,    0,    0,    0,    0,    0,    0,    0,    0,    0,\n",
       "           0,    0,    0,    0,    0,    0,    0,    0,    0,    0,    0,\n",
       "           0,    0,    0,    0,    0,    0],\n",
       "       [  31,  570,  468,  491,    0,    0,    0,    0,    0,    0,    0,\n",
       "           0,    0,    0,    0,    0,    0,    0,    0,    0,    0,    0,\n",
       "           0,    0,    0,    0,    0,    0,    0,    0,    0,    0,    0,\n",
       "           0,    0,    0,    0,    0,    0,    0,    0,    0,    0,    0,\n",
       "           0,    0,    0,    0,    0,    0],\n",
       "       [  16,  342,  467,  310,   98,    0,    0,    0,    0,    0,    0,\n",
       "           0,    0,    0,    0,    0,    0,    0,    0,    0,    0,    0,\n",
       "           0,    0,    0,    0,    0,    0,    0,    0,    0,    0,    0,\n",
       "           0,    0,    0,    0,    0,    0,    0,    0,    0,    0,    0,\n",
       "           0,    0,    0,    0,    0,    0]], dtype=int32)"
      ]
     },
     "execution_count": 10,
     "metadata": {},
     "output_type": "execute_result"
    }
   ],
   "source": [
    "# Convert texts into some numeric sequences and make the length of all numeric sequences equal \n",
    "\n",
    "X_seq = tokenizer.texts_to_sequences(data.final_text) \n",
    "X_pad = pad_sequences(X_seq, maxlen = 50, padding = 'post') \n",
    "\n",
    "X_pad = np.array(X_pad)\n",
    "X_pad[:3]"
   ]
  },
  {
   "cell_type": "code",
   "execution_count": 11,
   "id": "01c84fca",
   "metadata": {},
   "outputs": [
    {
     "data": {
      "text/plain": [
       "0     hello everybody im im happy\n",
       "1    sad happened yesterday death\n",
       "2       want kill matter far find\n",
       "Name: final_text, dtype: object"
      ]
     },
     "execution_count": 11,
     "metadata": {},
     "output_type": "execute_result"
    }
   ],
   "source": [
    "data.final_text[:3]"
   ]
  },
  {
   "cell_type": "code",
   "execution_count": 12,
   "id": "4e23d9ed",
   "metadata": {},
   "outputs": [
    {
     "data": {
      "text/plain": [
       "array([[0.00932676, 0.00625352, 0.97586864, 0.00855107],\n",
       "       [0.02307396, 0.13095938, 0.11437412, 0.7315926 ],\n",
       "       [0.9695867 , 0.01440939, 0.00753933, 0.00846465],\n",
       "       [0.00296482, 0.9935203 , 0.00148988, 0.00202487]], dtype=float32)"
      ]
     },
     "execution_count": 12,
     "metadata": {},
     "output_type": "execute_result"
    }
   ],
   "source": [
    "model.predict(X_pad)"
   ]
  },
  {
   "cell_type": "code",
   "execution_count": 13,
   "id": "14ca1f3a",
   "metadata": {},
   "outputs": [
    {
     "data": {
      "text/html": [
       "<div>\n",
       "<style scoped>\n",
       "    .dataframe tbody tr th:only-of-type {\n",
       "        vertical-align: middle;\n",
       "    }\n",
       "\n",
       "    .dataframe tbody tr th {\n",
       "        vertical-align: top;\n",
       "    }\n",
       "\n",
       "    .dataframe thead th {\n",
       "        text-align: right;\n",
       "    }\n",
       "</style>\n",
       "<table border=\"1\" class=\"dataframe\">\n",
       "  <thead>\n",
       "    <tr style=\"text-align: right;\">\n",
       "      <th></th>\n",
       "      <th>text</th>\n",
       "      <th>clean_text</th>\n",
       "      <th>tokenize</th>\n",
       "      <th>tokenize_lemmatized</th>\n",
       "      <th>final_text</th>\n",
       "      <th>prediction</th>\n",
       "    </tr>\n",
       "  </thead>\n",
       "  <tbody>\n",
       "    <tr>\n",
       "      <th>0</th>\n",
       "      <td>hello to EVERYbody, I'm here because I'm happy</td>\n",
       "      <td>hello everybody im im happy</td>\n",
       "      <td>[hello, everybody, im, im, happy]</td>\n",
       "      <td>[hello, everybody, im, im, happy]</td>\n",
       "      <td>hello everybody im im happy</td>\n",
       "      <td>joy</td>\n",
       "    </tr>\n",
       "    <tr>\n",
       "      <th>1</th>\n",
       "      <td>So sad, what Happened yesterday, many #deaths</td>\n",
       "      <td>sad happened yesterday deaths</td>\n",
       "      <td>[sad, happened, yesterday, deaths]</td>\n",
       "      <td>[sad, happened, yesterday, death]</td>\n",
       "      <td>sad happened yesterday death</td>\n",
       "      <td>sadness</td>\n",
       "    </tr>\n",
       "    <tr>\n",
       "      <th>2</th>\n",
       "      <td>@andrea I want to kill you, no matter how far ...</td>\n",
       "      <td>want kill matter far find</td>\n",
       "      <td>[want, kill, matter, far, find]</td>\n",
       "      <td>[want, kill, matter, far, find]</td>\n",
       "      <td>want kill matter far find</td>\n",
       "      <td>anger</td>\n",
       "    </tr>\n",
       "    <tr>\n",
       "      <th>3</th>\n",
       "      <td>@mathias that way scares me a lot°çççéé</td>\n",
       "      <td>way scares lot</td>\n",
       "      <td>[way, scares, lot]</td>\n",
       "      <td>[way, scare, lot]</td>\n",
       "      <td>way scare lot</td>\n",
       "      <td>fear</td>\n",
       "    </tr>\n",
       "  </tbody>\n",
       "</table>\n",
       "</div>"
      ],
      "text/plain": [
       "                                                text  \\\n",
       "0     hello to EVERYbody, I'm here because I'm happy   \n",
       "1      So sad, what Happened yesterday, many #deaths   \n",
       "2  @andrea I want to kill you, no matter how far ...   \n",
       "3            @mathias that way scares me a lot°çççéé   \n",
       "\n",
       "                      clean_text                            tokenize  \\\n",
       "0    hello everybody im im happy   [hello, everybody, im, im, happy]   \n",
       "1  sad happened yesterday deaths  [sad, happened, yesterday, deaths]   \n",
       "2      want kill matter far find     [want, kill, matter, far, find]   \n",
       "3                 way scares lot                  [way, scares, lot]   \n",
       "\n",
       "                 tokenize_lemmatized                    final_text prediction  \n",
       "0  [hello, everybody, im, im, happy]   hello everybody im im happy        joy  \n",
       "1  [sad, happened, yesterday, death]  sad happened yesterday death    sadness  \n",
       "2    [want, kill, matter, far, find]     want kill matter far find      anger  \n",
       "3                  [way, scare, lot]                 way scare lot       fear  "
      ]
     },
     "execution_count": 13,
     "metadata": {},
     "output_type": "execute_result"
    }
   ],
   "source": [
    "data['prediction'] = np.argmax(model.predict(X_pad), axis=1)\n",
    "\n",
    "# alphabetical order\n",
    "# 0: anger\n",
    "# 1: fear\n",
    "# 2: joy\n",
    "# 3: sadness\n",
    "\n",
    "code_to_strings = {0: \"anger\",\n",
    "                   1: \"fear\",\n",
    "                   2: \"joy\",\n",
    "                   3: \"sadness\"}\n",
    "\n",
    "data[\"prediction\"] = data[\"prediction\"].map(code_to_strings)\n",
    "data.head()"
   ]
  },
  {
   "cell_type": "code",
   "execution_count": 14,
   "id": "b981882b",
   "metadata": {},
   "outputs": [
    {
     "data": {
      "text/plain": [
       "<AxesSubplot:>"
      ]
     },
     "execution_count": 14,
     "metadata": {},
     "output_type": "execute_result"
    },
    {
     "data": {
      "image/png": "[encoded data removed]",
      "text/plain": [
       "<Figure size 432x288 with 1 Axes>"
      ]
     },
     "metadata": {
      "needs_background": "light"
     },
     "output_type": "display_data"
    }
   ],
   "source": [
    "data.prediction.value_counts().sort_index(ascending=True).plot(kind='barh')"
   ]
  }
 ],
 "metadata": {
  "kernelspec": {
   "display_name": "Python 3 (ipykernel)",
   "language": "python",
   "name": "python3"
  },
  "language_info": {
   "codemirror_mode": {
    "name": "ipython",
    "version": 3
   },
   "file_extension": ".py",
   "mimetype": "text/x-python",
   "name": "python",
   "nbconvert_exporter": "python",
   "pygments_lexer": "ipython3",
   "version": "3.8.5"
  },
  "latex_envs": {
   "LaTeX_envs_menu_present": true,
   "autoclose": false,
   "autocomplete": true,
   "bibliofile": "biblio.bib",
   "cite_by": "apalike",
   "current_citInitial": 1,
   "eqLabelWithNumbers": true,
   "eqNumInitial": 1,
   "hotkeys": {
    "equation": "Ctrl-E",
    "itemize": "Ctrl-I"
   },
   "labels_anchors": false,
   "latex_user_defs": false,
   "report_style_numbering": false,
   "user_envs_cfg": false
  }
 },
 "nbformat": 4,
 "nbformat_minor": 5
}
