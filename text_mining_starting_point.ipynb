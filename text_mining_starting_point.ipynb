{
 "cells": [
  {
   "cell_type": "markdown",
   "id": "276fbc01",
   "metadata": {
    "id": "2db7863b"
   },
   "source": [
    "# How do you feel my dear? (P8)"
   ]
  },
  {
   "cell_type": "markdown",
   "id": "87cf335a",
   "metadata": {},
   "source": [
    "## Andrea Pio Cutrera - 965591\n",
    "### Università degli Studi di Milano - _Data Science and Economics_"
   ]
  },
  {
   "cell_type": "markdown",
   "id": "48d1ff10",
   "metadata": {},
   "source": [
    "**Text Mining and Sentiment Analysis**\n",
    "\n",
    "Recently, **emotion detection in text** has received attention in the literature on **sentiment analysis**. Detecting emotions is important for studying human communication in different domains, including fictional scripts for TV series and movies. The project aims at studying fictional scripts of several movies and TV series under the emotional profile. In particular, the task of the project is threefold:\n",
    "\n",
    "1. Create a **model to predict emotions in text** using available datasets as EmoBank or WASSA-2017 or Emotion Detection from Text as training sets (see below);\n",
    "2. Emotions may be represented either as **categorical classes** or in a continuous space such as Valence-Arousal-Dominance (see for example Warriner, A. B., Kuperman, V., & Brysbaert, M. (2013). Norms of valence, arousal, and dominance for 13,915 English lemmas. Behavior research methods, 45(4), 1191-1207.)\n",
    "3. Exploit the model to **study an emotional profile** of the **main characters** in **one of the movies** included in the Cornell Movie--Dialogs Corpus;\n",
    "4. Study how this **emotional profile changes in time along** the evolution of the movie story and how it is affected by the various relations among the different characters."
   ]
  },
  {
   "cell_type": "markdown",
   "id": "cd913b95",
   "metadata": {},
   "source": [
    "### Import all the libraries we need"
   ]
  },
  {
   "cell_type": "code",
   "execution_count": 256,
   "id": "2b148f22",
   "metadata": {},
   "outputs": [],
   "source": [
    "import os\n",
    "import re\n",
    "import numpy as np\n",
    "import pandas as pd\n",
    "import matplotlib.pyplot as plt\n",
    "\n",
    "#!pip install neattext\n",
    "import neattext.functions as nfx\n",
    "\n",
    "from sklearn.utils import shuffle\n",
    "from sklearn.model_selection import train_test_split\n",
    "from sklearn.preprocessing import LabelEncoder\n",
    "from sklearn import metrics\n",
    "from sklearn.metrics import confusion_matrix, ConfusionMatrixDisplay\n",
    "\n",
    "import demoji\n",
    "demoji.download_codes()\n",
    "\n",
    "import nltk\n",
    "# nltk.download('wordnet')\n",
    "from nltk.tokenize import TweetTokenizer\n",
    "from nltk.stem import WordNetLemmatizer\n",
    "from nltk.tokenize.treebank import TreebankWordDetokenizer\n",
    "\n",
    "from keras.preprocessing.text import Tokenizer\n",
    "from keras.preprocessing.sequence import pad_sequences\n",
    "from tensorflow.keras.utils import to_categorical\n",
    "\n",
    "#from keras.layers import Embedding\n",
    "from tensorflow.keras.models import Sequential \n",
    "from tensorflow.keras.layers import Dense, LSTM, Embedding, Bidirectional, Dropout, Input, Conv1D, MaxPooling1D, Flatten, GlobalMaxPooling1D\n",
    "\n",
    "from tensorflow.compat.v1.keras.layers import CuDNNLSTM\n",
    "\n",
    "import warnings \n",
    "warnings.filterwarnings(\"ignore\")\n",
    "\n",
    "# to plot accuracy of neural nets training\n",
    "def plot_history():\n",
    "    # summarize history for accuracy\n",
    "    plt.plot(history.history['accuracy'])\n",
    "    plt.plot(history.history['val_accuracy'])\n",
    "    plt.title('model accuracy')\n",
    "    plt.ylabel('accuracy')\n",
    "    plt.xlabel('epoch')\n",
    "    plt.legend(['train', 'test'], loc='upper left')\n",
    "    plt.show()\n",
    "    # summarize history for loss\n",
    "    plt.plot(history.history['loss'])\n",
    "    plt.plot(history.history['val_loss'])\n",
    "    plt.title('model loss')\n",
    "    plt.ylabel('loss')\n",
    "    plt.xlabel('epoch')\n",
    "    plt.legend(['train', 'test'], loc='upper left')\n",
    "    plt.show()"
   ]
  },
  {
   "cell_type": "markdown",
   "id": "49567a89",
   "metadata": {
    "id": "49567a89"
   },
   "source": [
    "### Dataset: WASSA-2017 Shared Task on Emotion Intensity (EmoInt)\n",
    "link: http://saifmohammad.com/WebPages/EmotionIntensity-SharedTask.html\n",
    "\n",
    "- With the commands below you can get a folder with all the data they provide\n",
    "1. Train, Development and Test data for each of the 4 emotions\n",
    "2. Emotions are: **anger**, **fear**, **joy** and **sadness**"
   ]
  },
  {
   "cell_type": "code",
   "execution_count": 288,
   "id": "295dc5fb",
   "metadata": {},
   "outputs": [
    {
     "name": "stdout",
     "output_type": "stream",
     "text": [
      "mkdir: emotions: File exists\n",
      "  % Total    % Received % Xferd  Average Speed   Time    Time     Time  Current\n",
      "                                 Dload  Upload   Total   Spent    Left  Speed\n",
      "100 95686  100 95686    0     0   126k      0 --:--:-- --:--:-- --:--:--  126k\n",
      "  % Total    % Received % Xferd  Average Speed   Time    Time     Time  Current\n",
      "                                 Dload  Upload   Total   Spent    Left  Speed\n",
      "100  130k  100  130k    0     0   160k      0 --:--:-- --:--:-- --:--:--  160k\n",
      "  % Total    % Received % Xferd  Average Speed   Time    Time     Time  Current\n",
      "                                 Dload  Upload   Total   Spent    Left  Speed\n",
      "100 92266  100 92266    0     0   160k      0 --:--:-- --:--:-- --:--:--  160k\n",
      "  % Total    % Received % Xferd  Average Speed   Time    Time     Time  Current\n",
      "                                 Dload  Upload   Total   Spent    Left  Speed\n",
      "100 92977  100 92977    0     0   162k      0 --:--:-- --:--:-- --:--:--  161k\n",
      "  % Total    % Received % Xferd  Average Speed   Time    Time     Time  Current\n",
      "                                 Dload  Upload   Total   Spent    Left  Speed\n",
      "100  9687  100  9687    0     0  33382      0 --:--:-- --:--:-- --:--:-- 33288\n",
      "  % Total    % Received % Xferd  Average Speed   Time    Time     Time  Current\n",
      "                                 Dload  Upload   Total   Spent    Left  Speed\n",
      "100 12903  100 12903    0     0  42780      0 --:--:-- --:--:-- --:--:-- 42867\n",
      "  % Total    % Received % Xferd  Average Speed   Time    Time     Time  Current\n",
      "                                 Dload  Upload   Total   Spent    Left  Speed\n",
      "100  8744  100  8744    0     0  21843      0 --:--:-- --:--:-- --:--:-- 21860\n",
      "  % Total    % Received % Xferd  Average Speed   Time    Time     Time  Current\n",
      "                                 Dload  Upload   Total   Spent    Left  Speed\n",
      "100  9043  100  9043    0     0  26288      0 --:--:-- --:--:-- --:--:-- 26287\n",
      "  % Total    % Received % Xferd  Average Speed   Time    Time     Time  Current\n",
      "                                 Dload  Upload   Total   Spent    Left  Speed\n",
      "100 87266  100 87266    0     0   133k      0 --:--:-- --:--:-- --:--:--  133k\n",
      "  % Total    % Received % Xferd  Average Speed   Time    Time     Time  Current\n",
      "                                 Dload  Upload   Total   Spent    Left  Speed\n",
      "100  111k  100  111k    0     0   158k      0 --:--:-- --:--:-- --:--:--  158k\n",
      "  % Total    % Received % Xferd  Average Speed   Time    Time     Time  Current\n",
      "                                 Dload  Upload   Total   Spent    Left  Speed\n",
      "100 80025  100 80025    0     0   143k      0 --:--:-- --:--:-- --:--:--  143k\n",
      "  % Total    % Received % Xferd  Average Speed   Time    Time     Time  Current\n",
      "                                 Dload  Upload   Total   Spent    Left  Speed\n",
      "100 78906  100 78906    0     0   143k      0 --:--:-- --:--:-- --:--:--  143k\n"
     ]
    }
   ],
   "source": [
    "!mkdir emotions # create a folder called emotions\n",
    "\n",
    "# training data\n",
    "!curl -O http://saifmohammad.com/WebDocs/EmoInt%20Train%20Data/anger-ratings-0to1.train.txt\n",
    "!mv anger-ratings-0to1.train.txt emotions/anger_train # move and change name\n",
    "\n",
    "!curl -O http://saifmohammad.com/WebDocs/EmoInt%20Train%20Data/fear-ratings-0to1.train.txt\n",
    "!mv fear-ratings-0to1.train.txt emotions/fear_train # move and change name\n",
    "\n",
    "!curl -O http://saifmohammad.com/WebDocs/EmoInt%20Train%20Data/joy-ratings-0to1.train.txt\n",
    "!mv joy-ratings-0to1.train.txt emotions/joy_train # move and change name\n",
    "\n",
    "!curl -O http://saifmohammad.com/WebDocs/EmoInt%20Train%20Data/sadness-ratings-0to1.train.txt\n",
    "!mv sadness-ratings-0to1.train.txt emotions/sadness_train # move and change name\n",
    "\n",
    "# validation data\n",
    "!curl -O http://saifmohammad.com/WebDocs/EmoInt%20Dev%20Data%20With%20Gold/anger-ratings-0to1.dev.gold.txt\n",
    "!mv anger-ratings-0to1.dev.gold.txt emotions/anger_val # move and change name\n",
    "\n",
    "!curl -O http://saifmohammad.com/WebDocs/EmoInt%20Dev%20Data%20With%20Gold/fear-ratings-0to1.dev.gold.txt\n",
    "!mv fear-ratings-0to1.dev.gold.txt emotions/fear_val # move and change name\n",
    "\n",
    "!curl -O http://saifmohammad.com/WebDocs/EmoInt%20Dev%20Data%20With%20Gold/joy-ratings-0to1.dev.gold.txt\n",
    "!mv joy-ratings-0to1.dev.gold.txt emotions/joy_val # move and change name\n",
    "\n",
    "!curl -O http://saifmohammad.com/WebDocs/EmoInt%20Dev%20Data%20With%20Gold/sadness-ratings-0to1.dev.gold.txt\n",
    "!mv sadness-ratings-0to1.dev.gold.txt emotions/sadness_val # move and change name\n",
    "\n",
    "# testing data\n",
    "!curl -O http://saifmohammad.com/WebDocs/EmoInt%20Test%20Gold%20Data/anger-ratings-0to1.test.gold.txt\n",
    "!mv anger-ratings-0to1.test.gold.txt emotions/anger_test # move and change name\n",
    "\n",
    "!curl -O http://saifmohammad.com/WebDocs/EmoInt%20Test%20Gold%20Data/fear-ratings-0to1.test.gold.txt\n",
    "!mv fear-ratings-0to1.test.gold.txt emotions/fear_test # move and change name\n",
    "\n",
    "!curl -O http://saifmohammad.com/WebDocs/EmoInt%20Test%20Gold%20Data/joy-ratings-0to1.test.gold.txt\n",
    "!mv joy-ratings-0to1.test.gold.txt emotions/joy_test # move and change name\n",
    "\n",
    "!curl -O http://saifmohammad.com/WebDocs/EmoInt%20Test%20Gold%20Data/sadness-ratings-0to1.test.gold.txt\n",
    "!mv sadness-ratings-0to1.test.gold.txt emotions/sadness_test # move and change name"
   ]
  },
  {
   "cell_type": "code",
   "execution_count": 179,
   "id": "b78929c3",
   "metadata": {},
   "outputs": [
    {
     "data": {
      "text/plain": [
       "'/Users/andreacutrera/Desktop'"
      ]
     },
     "execution_count": 179,
     "metadata": {},
     "output_type": "execute_result"
    }
   ],
   "source": [
    "working_directory = !pwd                 # get present working directory\n",
    "working_directory = working_directory[0] # get the full string \n",
    "working_directory"
   ]
  },
  {
   "cell_type": "code",
   "execution_count": 181,
   "id": "0c4f01e7",
   "metadata": {},
   "outputs": [
    {
     "data": {
      "text/plain": [
       "'/Users/andreacutrera/Desktop/emotions'"
      ]
     },
     "execution_count": 181,
     "metadata": {},
     "output_type": "execute_result"
    }
   ],
   "source": [
    "DIR = working_directory + \"/emotions\"    # go inside the folder created\n",
    "#CATEGORIES = [\"joy\", \"sadness\", \"fear\", \"anger\"]\n",
    "DIR"
   ]
  },
  {
   "cell_type": "code",
   "execution_count": 182,
   "id": "6101bb19",
   "metadata": {},
   "outputs": [],
   "source": [
    "# load in variables the data just downloaded\n",
    "\n",
    "joy_train = pd.read_csv(os.path.join(DIR, \"joy_train\"), sep=\"\\t\", header=None)\n",
    "sadness_train = pd.read_csv(os.path.join(DIR, \"sadness_train\"), sep=\"\\t\", header=None)\n",
    "fear_train = pd.read_csv(os.path.join(DIR, \"fear_train\"), sep=\"\\t\", header=None)\n",
    "anger_train = pd.read_csv(os.path.join(DIR, \"anger_train\"), sep=\"\\t\", header=None)\n",
    "\n",
    "joy_val = pd.read_csv(os.path.join(DIR, \"joy_val\"), sep=\"\\t\", header=None)\n",
    "sadness_val = pd.read_csv(os.path.join(DIR, \"sadness_val\"), sep=\"\\t\", header=None)\n",
    "fear_val = pd.read_csv(os.path.join(DIR, \"fear_val\"), sep=\"\\t\", header=None)\n",
    "anger_val = pd.read_csv(os.path.join(DIR, \"anger_val\"), sep=\"\\t\", header=None)\n",
    "\n",
    "joy_test = pd.read_csv(os.path.join(DIR, \"joy_test\"), sep=\"\\t\", header=None)\n",
    "sadness_test = pd.read_csv(os.path.join(DIR, \"sadness_test\"), sep=\"\\t\", header=None)\n",
    "fear_test = pd.read_csv(os.path.join(DIR, \"fear_test\"), sep=\"\\t\", header=None)\n",
    "anger_test = pd.read_csv(os.path.join(DIR, \"anger_test\"), sep=\"\\t\", header=None)"
   ]
  },
  {
   "cell_type": "code",
   "execution_count": 183,
   "id": "34043d16",
   "metadata": {},
   "outputs": [
    {
     "name": "stdout",
     "output_type": "stream",
     "text": [
      "(823, 4) (786, 4) (1147, 4) (857, 4)\n"
     ]
    }
   ],
   "source": [
    "print(joy_train.shape, sadness_train.shape, fear_train.shape, anger_train.shape)"
   ]
  },
  {
   "cell_type": "code",
   "execution_count": 184,
   "id": "7e3ebd77",
   "metadata": {},
   "outputs": [
    {
     "name": "stdout",
     "output_type": "stream",
     "text": [
      "(79, 4) (74, 4) (110, 4) (84, 4)\n"
     ]
    }
   ],
   "source": [
    "print(joy_val.shape, sadness_val.shape, fear_val.shape, anger_val.shape)"
   ]
  },
  {
   "cell_type": "code",
   "execution_count": 185,
   "id": "c423eb09",
   "metadata": {},
   "outputs": [
    {
     "name": "stdout",
     "output_type": "stream",
     "text": [
      "(714, 4) (673, 4) (995, 4) (760, 4)\n"
     ]
    }
   ],
   "source": [
    "print(joy_test.shape, sadness_test.shape, fear_test.shape, anger_test.shape)"
   ]
  },
  {
   "cell_type": "code",
   "execution_count": 186,
   "id": "034b1303",
   "metadata": {},
   "outputs": [],
   "source": [
    "# rename columns all in the same way to get homogeneous datasets which could be concatenated\n",
    "\n",
    "joy_train.rename(columns={0: 'id', 1: 'text', 2: 'sentiment', 3: 'j'}, inplace=True)\n",
    "joy_train['s'] = 0\n",
    "joy_train['a'] = 0\n",
    "joy_train['f'] = 0\n",
    "joy_train = joy_train[['id', 'text', 'sentiment', 'j', 's', 'f', 'a']]\n",
    "\n",
    "joy_val.rename(columns={0: 'id', 1: 'text', 2: 'sentiment', 3: 'j'}, inplace=True)\n",
    "joy_val['s'] = 0\n",
    "joy_val['a'] = 0\n",
    "joy_val['f'] = 0\n",
    "joy_val = joy_val[['id', 'text', 'sentiment', 'j', 's', 'f', 'a']]\n",
    "\n",
    "joy_test.rename(columns={0: 'id', 1: 'text', 2: 'sentiment', 3: 'j'}, inplace=True)\n",
    "joy_test['s'] = 0\n",
    "joy_test['a'] = 0\n",
    "joy_test['f'] = 0\n",
    "joy_test = joy_test[['id', 'text', 'sentiment', 'j', 's', 'f', 'a']]\n",
    "\n",
    "sadness_train.rename(columns={0: 'id', 1: 'text', 2: 'sentiment', 3: 's'}, inplace=True)\n",
    "sadness_train['j'] = 0\n",
    "sadness_train['a'] = 0\n",
    "sadness_train['f'] = 0\n",
    "sadness_train = sadness_train[['id', 'text', 'sentiment', 'j', 's', 'f', 'a']]\n",
    "\n",
    "sadness_val.rename(columns={0: 'id', 1: 'text', 2: 'sentiment', 3: 's'}, inplace=True)\n",
    "sadness_val['j'] = 0\n",
    "sadness_val['a'] = 0\n",
    "sadness_val['f'] = 0\n",
    "sadness_val = sadness_val[['id', 'text', 'sentiment', 'j', 's', 'f', 'a']]\n",
    "\n",
    "sadness_test.rename(columns={0: 'id', 1: 'text', 2: 'sentiment', 3: 's'}, inplace=True)\n",
    "sadness_test['j'] = 0\n",
    "sadness_test['a'] = 0\n",
    "sadness_test['f'] = 0\n",
    "sadness_test = sadness_test[['id', 'text', 'sentiment', 'j', 's', 'f', 'a']]\n",
    "\n",
    "anger_train.rename(columns={0: 'id', 1: 'text', 2: 'sentiment', 3: 'a'}, inplace=True)\n",
    "anger_train['j'] = 0\n",
    "anger_train['s'] = 0\n",
    "anger_train['f'] = 0\n",
    "anger_train = anger_train[['id', 'text', 'sentiment', 'j', 's', 'f', 'a']]\n",
    "\n",
    "anger_val.rename(columns={0: 'id', 1: 'text', 2: 'sentiment', 3: 'a'}, inplace=True)\n",
    "anger_val['j'] = 0\n",
    "anger_val['s'] = 0\n",
    "anger_val['f'] = 0\n",
    "anger_val = anger_val[['id', 'text', 'sentiment', 'j', 's', 'f', 'a']]\n",
    "\n",
    "anger_test.rename(columns={0: 'id', 1: 'text', 2: 'sentiment', 3: 'a'}, inplace=True)\n",
    "anger_test['j'] = 0\n",
    "anger_test['s'] = 0\n",
    "anger_test['f'] = 0\n",
    "anger_test = anger_test[['id', 'text', 'sentiment', 'j', 's', 'f', 'a']]\n",
    "\n",
    "fear_train.rename(columns={0: 'id', 1: 'text', 2: 'sentiment', 3: 'f'}, inplace=True)\n",
    "fear_train['j'] = 0\n",
    "fear_train['s'] = 0\n",
    "fear_train['a'] = 0\n",
    "fear_train = fear_train[['id', 'text', 'sentiment', 'j', 's', 'f', 'a']]\n",
    "\n",
    "fear_val.rename(columns={0: 'id', 1: 'text', 2: 'sentiment', 3: 'f'}, inplace=True)\n",
    "fear_val['j'] = 0\n",
    "fear_val['s'] = 0\n",
    "fear_val['a'] = 0\n",
    "fear_val = fear_val[['id', 'text', 'sentiment', 'j', 's', 'f', 'a']]\n",
    "\n",
    "fear_test.rename(columns={0: 'id', 1: 'text', 2: 'sentiment', 3: 'f'}, inplace=True)\n",
    "fear_test['j'] = 0\n",
    "fear_test['s'] = 0\n",
    "fear_test['a'] = 0\n",
    "fear_test = fear_test[['id', 'text', 'sentiment', 'j', 's', 'f', 'a']]"
   ]
  },
  {
   "cell_type": "code",
   "execution_count": 187,
   "id": "7776c527",
   "metadata": {},
   "outputs": [],
   "source": [
    "# concatenate the datasets in order to get 3 separated datasets: train, test, validation\n",
    "\n",
    "data_train = pd.concat([joy_train,\n",
    "                        sadness_train,\n",
    "                        fear_train,\n",
    "                        anger_train])\n",
    "\n",
    "data_val = pd.concat([joy_val,\n",
    "                      sadness_val,\n",
    "                      fear_val,\n",
    "                      anger_val])\n",
    "\n",
    "data_test = pd.concat([joy_test,\n",
    "                       sadness_test,\n",
    "                       fear_test,\n",
    "                       anger_test])"
   ]
  },
  {
   "cell_type": "code",
   "execution_count": 188,
   "id": "41423893",
   "metadata": {},
   "outputs": [
    {
     "data": {
      "text/html": [
       "<div>\n",
       "<style scoped>\n",
       "    .dataframe tbody tr th:only-of-type {\n",
       "        vertical-align: middle;\n",
       "    }\n",
       "\n",
       "    .dataframe tbody tr th {\n",
       "        vertical-align: top;\n",
       "    }\n",
       "\n",
       "    .dataframe thead th {\n",
       "        text-align: right;\n",
       "    }\n",
       "</style>\n",
       "<table border=\"1\" class=\"dataframe\">\n",
       "  <thead>\n",
       "    <tr style=\"text-align: right;\">\n",
       "      <th></th>\n",
       "      <th>id</th>\n",
       "      <th>text</th>\n",
       "      <th>sentiment</th>\n",
       "      <th>j</th>\n",
       "      <th>s</th>\n",
       "      <th>f</th>\n",
       "      <th>a</th>\n",
       "    </tr>\n",
       "  </thead>\n",
       "  <tbody>\n",
       "    <tr>\n",
       "      <th>0</th>\n",
       "      <td>30000</td>\n",
       "      <td>Just got back from seeing @GaryDelaney in Burs...</td>\n",
       "      <td>joy</td>\n",
       "      <td>0.980</td>\n",
       "      <td>0.0</td>\n",
       "      <td>0.0</td>\n",
       "      <td>0.0</td>\n",
       "    </tr>\n",
       "    <tr>\n",
       "      <th>1</th>\n",
       "      <td>30001</td>\n",
       "      <td>Oh dear an evening of absolute hilarity I don'...</td>\n",
       "      <td>joy</td>\n",
       "      <td>0.958</td>\n",
       "      <td>0.0</td>\n",
       "      <td>0.0</td>\n",
       "      <td>0.0</td>\n",
       "    </tr>\n",
       "  </tbody>\n",
       "</table>\n",
       "</div>"
      ],
      "text/plain": [
       "      id                                               text sentiment      j  \\\n",
       "0  30000  Just got back from seeing @GaryDelaney in Burs...       joy  0.980   \n",
       "1  30001  Oh dear an evening of absolute hilarity I don'...       joy  0.958   \n",
       "\n",
       "     s    f    a  \n",
       "0  0.0  0.0  0.0  \n",
       "1  0.0  0.0  0.0  "
      ]
     },
     "execution_count": 188,
     "metadata": {},
     "output_type": "execute_result"
    }
   ],
   "source": [
    "data_train.head(2)"
   ]
  },
  {
   "cell_type": "code",
   "execution_count": 189,
   "id": "cd8c6c56",
   "metadata": {},
   "outputs": [
    {
     "data": {
      "text/html": [
       "<div>\n",
       "<style scoped>\n",
       "    .dataframe tbody tr th:only-of-type {\n",
       "        vertical-align: middle;\n",
       "    }\n",
       "\n",
       "    .dataframe tbody tr th {\n",
       "        vertical-align: top;\n",
       "    }\n",
       "\n",
       "    .dataframe thead th {\n",
       "        text-align: right;\n",
       "    }\n",
       "</style>\n",
       "<table border=\"1\" class=\"dataframe\">\n",
       "  <thead>\n",
       "    <tr style=\"text-align: right;\">\n",
       "      <th></th>\n",
       "      <th>id</th>\n",
       "      <th>text</th>\n",
       "      <th>sentiment</th>\n",
       "      <th>j</th>\n",
       "      <th>s</th>\n",
       "      <th>f</th>\n",
       "      <th>a</th>\n",
       "    </tr>\n",
       "  </thead>\n",
       "  <tbody>\n",
       "    <tr>\n",
       "      <th>0</th>\n",
       "      <td>30823</td>\n",
       "      <td>@theclobra lol I thought maybe, couldn't decid...</td>\n",
       "      <td>joy</td>\n",
       "      <td>0.312</td>\n",
       "      <td>0.0</td>\n",
       "      <td>0.0</td>\n",
       "      <td>0.0</td>\n",
       "    </tr>\n",
       "    <tr>\n",
       "      <th>1</th>\n",
       "      <td>30824</td>\n",
       "      <td>Nawaz Sharif is getting more funnier than @kap...</td>\n",
       "      <td>joy</td>\n",
       "      <td>0.700</td>\n",
       "      <td>0.0</td>\n",
       "      <td>0.0</td>\n",
       "      <td>0.0</td>\n",
       "    </tr>\n",
       "  </tbody>\n",
       "</table>\n",
       "</div>"
      ],
      "text/plain": [
       "      id                                               text sentiment      j  \\\n",
       "0  30823  @theclobra lol I thought maybe, couldn't decid...       joy  0.312   \n",
       "1  30824  Nawaz Sharif is getting more funnier than @kap...       joy  0.700   \n",
       "\n",
       "     s    f    a  \n",
       "0  0.0  0.0  0.0  \n",
       "1  0.0  0.0  0.0  "
      ]
     },
     "execution_count": 189,
     "metadata": {},
     "output_type": "execute_result"
    }
   ],
   "source": [
    "data_val.head(2)"
   ]
  },
  {
   "cell_type": "code",
   "execution_count": 190,
   "id": "5a387314",
   "metadata": {},
   "outputs": [
    {
     "data": {
      "text/html": [
       "<div>\n",
       "<style scoped>\n",
       "    .dataframe tbody tr th:only-of-type {\n",
       "        vertical-align: middle;\n",
       "    }\n",
       "\n",
       "    .dataframe tbody tr th {\n",
       "        vertical-align: top;\n",
       "    }\n",
       "\n",
       "    .dataframe thead th {\n",
       "        text-align: right;\n",
       "    }\n",
       "</style>\n",
       "<table border=\"1\" class=\"dataframe\">\n",
       "  <thead>\n",
       "    <tr style=\"text-align: right;\">\n",
       "      <th></th>\n",
       "      <th>id</th>\n",
       "      <th>text</th>\n",
       "      <th>sentiment</th>\n",
       "      <th>j</th>\n",
       "      <th>s</th>\n",
       "      <th>f</th>\n",
       "      <th>a</th>\n",
       "    </tr>\n",
       "  </thead>\n",
       "  <tbody>\n",
       "    <tr>\n",
       "      <th>0</th>\n",
       "      <td>30902</td>\n",
       "      <td>You must be knowing #blithe means (adj.)  Happ...</td>\n",
       "      <td>joy</td>\n",
       "      <td>0.583</td>\n",
       "      <td>0.0</td>\n",
       "      <td>0.0</td>\n",
       "      <td>0.0</td>\n",
       "    </tr>\n",
       "    <tr>\n",
       "      <th>1</th>\n",
       "      <td>30903</td>\n",
       "      <td>Old saying 'A #smile shared is one gained for ...</td>\n",
       "      <td>joy</td>\n",
       "      <td>0.500</td>\n",
       "      <td>0.0</td>\n",
       "      <td>0.0</td>\n",
       "      <td>0.0</td>\n",
       "    </tr>\n",
       "  </tbody>\n",
       "</table>\n",
       "</div>"
      ],
      "text/plain": [
       "      id                                               text sentiment      j  \\\n",
       "0  30902  You must be knowing #blithe means (adj.)  Happ...       joy  0.583   \n",
       "1  30903  Old saying 'A #smile shared is one gained for ...       joy  0.500   \n",
       "\n",
       "     s    f    a  \n",
       "0  0.0  0.0  0.0  \n",
       "1  0.0  0.0  0.0  "
      ]
     },
     "execution_count": 190,
     "metadata": {},
     "output_type": "execute_result"
    }
   ],
   "source": [
    "data_test.head(2)"
   ]
  },
  {
   "cell_type": "code",
   "execution_count": 191,
   "id": "81455368",
   "metadata": {
    "colab": {
     "base_uri": "https://localhost:8080/",
     "height": 232
    },
    "id": "81455368",
    "outputId": "fe6463c2-0494-4de3-e6d2-572dfc267e13"
   },
   "outputs": [
    {
     "data": {
      "text/plain": [
       "((3613, 7), (347, 7), (3142, 7))"
      ]
     },
     "execution_count": 191,
     "metadata": {},
     "output_type": "execute_result"
    }
   ],
   "source": [
    "data_train.shape, data_val.shape, data_test.shape, "
   ]
  },
  {
   "cell_type": "code",
   "execution_count": 192,
   "id": "8cf0e079",
   "metadata": {},
   "outputs": [
    {
     "data": {
      "image/png": "[encoded data removed]",
      "text/plain": [
       "<Figure size 432x288 with 1 Axes>"
      ]
     },
     "metadata": {
      "needs_background": "light"
     },
     "output_type": "display_data"
    }
   ],
   "source": [
    "# datasets are pretty balanced\n",
    "\n",
    "train = data_train['sentiment'].value_counts()\n",
    "test = data_test['sentiment'].value_counts()\n",
    "val = data_val['sentiment'].value_counts()\n",
    "\n",
    "index = ['fear', 'anger', 'joy', 'sadness']\n",
    "df = pd.DataFrame({'train': train,\n",
    "                   'test': test,\n",
    "                   'val': val}, index=index)\n",
    "ax = df.plot.bar(rot=0)"
   ]
  },
  {
   "cell_type": "markdown",
   "id": "292f76c9",
   "metadata": {
    "id": "1ad5af60"
   },
   "source": [
    "### Now we start to clean up our texts"
   ]
  },
  {
   "cell_type": "code",
   "execution_count": 288,
   "id": "ed9bd911",
   "metadata": {},
   "outputs": [
    {
     "data": {
      "text/plain": [
       "0     Just got back from seeing @GaryDelaney in Burs...\n",
       "1     Oh dear an evening of absolute hilarity I don'...\n",
       "2     Been waiting all week for this game ❤️❤️❤️ #ch...\n",
       "3     @gardiner_love : Thank you so much, Gloria! Yo...\n",
       "4     I feel so blessed to work with the family that...\n",
       "5     Today I reached 1000 subscribers on YT!! , #go...\n",
       "6     @Singaholic121 Good morning, love! Happy first...\n",
       "7     #BridgetJonesBaby is the best thing I've seen ...\n",
       "8     Just got back from seeing @GaryDelaney in Burs...\n",
       "9     @IndyMN I thought the holidays could not get a...\n",
       "10                 I'm just still . So happy .\\nA blast\n",
       "11                     It's meant to be!! #happy #happy\n",
       "12                 💥⚖️Yeah‼️ PAUL‼️⚖️💥  #glorious #BB18\n",
       "13    My morning started off amazing!! Hopefully the...\n",
       "14    😱 @cailamarsai you've had me 😂 😂 the whole tim...\n",
       "15             @iamTinaDatta love you so much #smile 😊😊\n",
       "16    @WyoWiseGuy @LivingVertical however, REI did o...\n",
       "17    2 days until #GoPackGo and 23 days until #GoGi...\n",
       "18    @TheMandyMoore You are beyond wonderful.  Your...\n",
       "19    @luckiiCHARM_ Luckii, I'm changing in so many ...\n",
       "Name: text, dtype: object"
      ]
     },
     "execution_count": 288,
     "metadata": {},
     "output_type": "execute_result"
    }
   ],
   "source": [
    "data_train['text'][:20]"
   ]
  },
  {
   "cell_type": "code",
   "execution_count": 289,
   "id": "9a23d353",
   "metadata": {},
   "outputs": [
    {
     "data": {
      "text/plain": [
       "'@andreacutrera ToDAy 20-04-2022 I\\'m \"very happy\" 💥⚖️Yeah‼️, If you ,..* want \\'to\\' < wrITE to me use my #email andreacutrera@gmail.com or reach me in the following link: https://github.com/andreacutrera/comics_faces_recognizer otherwise call me: +393335243648569 #machinelearning #deeplearning #itworks ❤️❤️❤️'"
      ]
     },
     "execution_count": 289,
     "metadata": {},
     "output_type": "execute_result"
    }
   ],
   "source": [
    "sample_text = \"@andreacutrera ToDAy 20-04-2022 I'm \\\"very happy\\\" 💥⚖️Yeah‼️, If you ,..* want 'to' < wrITE to me use my #email andreacutrera@gmail.com or reach me in the following link: https://github.com/andreacutrera/comics_faces_recognizer otherwise call me: +393335243648569 #machinelearning #deeplearning #itworks ❤️❤️❤️\"\n",
    "sample_text"
   ]
  },
  {
   "cell_type": "code",
   "execution_count": 290,
   "id": "5e90c212",
   "metadata": {},
   "outputs": [
    {
     "data": {
      "text/plain": [
       "'@andreacutrera ToDAy 20-04-2022 I\\'m \"very happy\" 💥⚖️Yeah‼️, If you ,..* want \\'to\\' < wrITE to me use my #email  or reach me in the following link: https://github.com/andreacutrera/comics_faces_recognizer otherwise call me: +393335243648569 #machinelearning #deeplearning #itworks ❤️❤️❤️'"
      ]
     },
     "execution_count": 290,
     "metadata": {},
     "output_type": "execute_result"
    }
   ],
   "source": [
    "sample_text = nfx.remove_emails(sample_text)\n",
    "sample_text"
   ]
  },
  {
   "cell_type": "code",
   "execution_count": 291,
   "id": "1c525ca4",
   "metadata": {},
   "outputs": [
    {
     "data": {
      "text/plain": [
       "'@andreacutrera ToDAy -- I\\'m \"very happy\" 💥⚖️Yeah‼️, If you ,..* want \\'to\\' < wrITE to me use my #email  or reach me in the following link: https://github.com/andreacutrera/comics_faces_recognizer otherwise call me: + #machinelearning #deeplearning #itworks ❤️❤️❤️'"
      ]
     },
     "execution_count": 291,
     "metadata": {},
     "output_type": "execute_result"
    }
   ],
   "source": [
    "sample_text = nfx.remove_numbers(sample_text)\n",
    "sample_text"
   ]
  },
  {
   "cell_type": "code",
   "execution_count": 292,
   "id": "900bf1a7",
   "metadata": {},
   "outputs": [
    {
     "data": {
      "text/plain": [
       "'@andreacutrera ToDAy -- I\\'m \"very happy\" 💥⚖️Yeah‼️, If you ,..* want \\'to\\' < wrITE to me use my #email  or reach me in the following link:  otherwise call me: + #machinelearning #deeplearning #itworks ❤️❤️❤️'"
      ]
     },
     "execution_count": 292,
     "metadata": {},
     "output_type": "execute_result"
    }
   ],
   "source": [
    "sample_text = nfx.remove_urls(sample_text)\n",
    "sample_text"
   ]
  },
  {
   "cell_type": "code",
   "execution_count": 293,
   "id": "8f696d22",
   "metadata": {},
   "outputs": [
    {
     "data": {
      "text/plain": [
       "'  ToDAy -- I\\'m \"very happy\" 💥⚖️Yeah‼️, If you ,..* want \\'to\\' < wrITE to me use my #email  or reach me in the following link:  otherwise call me: + #machinelearning #deeplearning #itworks ❤️❤️❤️'"
      ]
     },
     "execution_count": 293,
     "metadata": {},
     "output_type": "execute_result"
    }
   ],
   "source": [
    "sample_text = nfx.remove_userhandles(sample_text)\n",
    "sample_text"
   ]
  },
  {
   "cell_type": "code",
   "execution_count": 294,
   "id": "66d39f5e",
   "metadata": {},
   "outputs": [
    {
     "data": {
      "text/plain": [
       "'  ToDAy -- I\\'m \"very happy\" :collision::balance scale:Yeah:double exclamation mark:, If you ,..* want \\'to\\' < wrITE to me use my #email  or reach me in the following link:  otherwise call me: + #machinelearning #deeplearning #itworks :red heart::red heart::red heart:'"
      ]
     },
     "execution_count": 294,
     "metadata": {},
     "output_type": "execute_result"
    }
   ],
   "source": [
    "sample_text = demoji.replace_with_desc(sample_text)\n",
    "sample_text"
   ]
  },
  {
   "cell_type": "code",
   "execution_count": 295,
   "id": "52c62fb4",
   "metadata": {},
   "outputs": [
    {
     "data": {
      "text/plain": [
       "'  ToDAy -- I\\'m \"very happy\"  collision  balance scale Yeah double exclamation mark , If you ,..* want \\'to\\' < wrITE to me use my #email  or reach me in the following link   otherwise call me  + #machinelearning #deeplearning #itworks  red heart  red heart  red heart '"
      ]
     },
     "execution_count": 295,
     "metadata": {},
     "output_type": "execute_result"
    }
   ],
   "source": [
    "# separate the description of emoji which are linke by \":\"\n",
    "sample_text = re.sub(\":\", \" \", sample_text)\n",
    "sample_text"
   ]
  },
  {
   "cell_type": "code",
   "execution_count": 296,
   "id": "e9fdbf80",
   "metadata": {},
   "outputs": [
    {
     "data": {
      "text/plain": [
       "'  ToDAy  Im very happy  collision  balance scale Yeah double exclamation mark  If you  want to  wrITE to me use my email  or reach me in the following link   otherwise call me   machinelearning deeplearning itworks  red heart  red heart  red heart '"
      ]
     },
     "execution_count": 296,
     "metadata": {},
     "output_type": "execute_result"
    }
   ],
   "source": [
    "sample_text = nfx.remove_special_characters(sample_text)\n",
    "sample_text"
   ]
  },
  {
   "cell_type": "code",
   "execution_count": 297,
   "id": "324d5729",
   "metadata": {},
   "outputs": [
    {
     "data": {
      "text/plain": [
       "'  ToDAy  Im very happy  collision  balance scale Yeah double exclamation mark  If you  want to  wrITE to me use my email  or reach me in the following link   otherwise call me   machinelearning deeplearning itworks  red heart  red heart  red heart '"
      ]
     },
     "execution_count": 297,
     "metadata": {},
     "output_type": "execute_result"
    }
   ],
   "source": [
    "sample_text = nfx.remove_bad_quotes(sample_text)\n",
    "sample_text"
   ]
  },
  {
   "cell_type": "code",
   "execution_count": 298,
   "id": "98fe9d75",
   "metadata": {},
   "outputs": [
    {
     "data": {
      "text/plain": [
       "'  ToDAy  Im very happy  collision  balance scale Yeah double exclamation mark  If you  want to  wrITE to me use my email  or reach me in the following link   otherwise call me   machinelearning deeplearning itworks  red heart  red heart  red heart '"
      ]
     },
     "execution_count": 298,
     "metadata": {},
     "output_type": "execute_result"
    }
   ],
   "source": [
    "sample_text = nfx.remove_html_tags(sample_text)\n",
    "sample_text"
   ]
  },
  {
   "cell_type": "code",
   "execution_count": 299,
   "id": "5dd82f29",
   "metadata": {},
   "outputs": [
    {
     "data": {
      "text/plain": [
       "'  ToDAy  Im very happy  collision  balance scale Yeah double exclamation mark  If you  want to  wrITE to me use my email  or reach me in the following link   otherwise call me   machinelearning deeplearning itworks  red heart  red heart  red heart '"
      ]
     },
     "execution_count": 299,
     "metadata": {},
     "output_type": "execute_result"
    }
   ],
   "source": [
    "sample_text = nfx.remove_punctuations(sample_text)\n",
    "sample_text"
   ]
  },
  {
   "cell_type": "code",
   "execution_count": 300,
   "id": "d7490667",
   "metadata": {},
   "outputs": [
    {
     "data": {
      "text/plain": [
       "'ToDAy Im happy collision balance scale Yeah double exclamation mark want wrITE use email reach following link machinelearning deeplearning itworks red heart red heart red heart'"
      ]
     },
     "execution_count": 300,
     "metadata": {},
     "output_type": "execute_result"
    }
   ],
   "source": [
    "sample_text = nfx.remove_stopwords(sample_text)\n",
    "sample_text"
   ]
  },
  {
   "cell_type": "code",
   "execution_count": 301,
   "id": "d6e99dae",
   "metadata": {},
   "outputs": [
    {
     "data": {
      "text/plain": [
       "'ToDAy Im happy collision balance scale Yeah double exclamation mark want wrITE use email reach following link machinelearning deeplearning itworks red heart red heart red heart'"
      ]
     },
     "execution_count": 301,
     "metadata": {},
     "output_type": "execute_result"
    }
   ],
   "source": [
    "sample_text = nfx.remove_multiple_spaces(sample_text)\n",
    "sample_text"
   ]
  },
  {
   "cell_type": "code",
   "execution_count": 302,
   "id": "6febb477",
   "metadata": {},
   "outputs": [
    {
     "data": {
      "text/plain": [
       "'today im happy collision balance scale yeah double exclamation mark want write use email reach following link machinelearning deeplearning itworks red heart red heart red heart'"
      ]
     },
     "execution_count": 302,
     "metadata": {},
     "output_type": "execute_result"
    }
   ],
   "source": [
    "sample_text = strip_lowercase_text(sample_text)\n",
    "sample_text"
   ]
  },
  {
   "cell_type": "code",
   "execution_count": 303,
   "id": "f6c63086",
   "metadata": {},
   "outputs": [],
   "source": [
    "# clean text functions\n",
    "# https://github.com/Jcharis/neattext/blob/master/neattext/functions/functions.py\n",
    "\n",
    "def clean_emoji_output(text):\n",
    "    return re.sub(\":\", \" \", text)\n",
    "\n",
    "def strip_lowercase(text):\n",
    "    return text.strip().lower()\n",
    "\n",
    "\n",
    "def clean_text(data):\n",
    "    data['clean_text'] = data['text'].apply(nfx.remove_emails)\n",
    "    data['clean_text'] = data['clean_text'].apply(nfx.remove_numbers)\n",
    "    data['clean_text'] = data['clean_text'].apply(nfx.remove_urls)\n",
    "    data['clean_text'] = data['clean_text'].apply(nfx.remove_userhandles)\n",
    "    data['clean_text'] = data['clean_text'].apply(demoji.replace_with_desc)\n",
    "    data['clean_text'] = data['clean_text'].apply(clean_emoji_output)\n",
    "    data['clean_text'] = data['clean_text'].apply(nfx.remove_special_characters)\n",
    "    data['clean_text'] = data['clean_text'].apply(nfx.remove_bad_quotes)\n",
    "    data['clean_text'] = data['clean_text'].apply(nfx.remove_html_tags)\n",
    "    data['clean_text'] = data['clean_text'].apply(nfx.remove_punctuations)\n",
    "    data['clean_text'] = data['clean_text'].apply(nfx.remove_stopwords)\n",
    "    data['clean_text'] = data['clean_text'].apply(nfx.remove_multiple_spaces)\n",
    "    data['clean_text'] = data['clean_text'].apply(strip_lowercase)"
   ]
  },
  {
   "cell_type": "code",
   "execution_count": 304,
   "id": "e1dc9fdb",
   "metadata": {},
   "outputs": [],
   "source": [
    "# apply the functions above defined\n",
    "\n",
    "clean_text(data_train)\n",
    "clean_text(data_val)\n",
    "clean_text(data_test)"
   ]
  },
  {
   "cell_type": "code",
   "execution_count": 305,
   "id": "1f129671",
   "metadata": {
    "colab": {
     "base_uri": "https://localhost:8080/",
     "height": 204
    },
    "id": "1f129671",
    "outputId": "0febe9b9-eedb-4504-9d6f-3a3c6351f3c3"
   },
   "outputs": [],
   "source": [
    "# shuffle our data\n",
    "\n",
    "data_train = shuffle(data_train, random_state=42)\n",
    "data_val = shuffle(data_val, random_state=42)\n",
    "data_test = shuffle(data_test, random_state=42)"
   ]
  },
  {
   "cell_type": "code",
   "execution_count": 307,
   "id": "dfea3274",
   "metadata": {
    "colab": {
     "base_uri": "https://localhost:8080/"
    },
    "id": "dfea3274",
    "outputId": "4103c115-45ac-4ccc-d5e7-ab63bbe5e06f"
   },
   "outputs": [
    {
     "data": {
      "text/plain": [
       "array(['happy birthday seed double exclamation mark double exclamation mark double exclamation mark renewtherivalry imyourdaddy cantbeatme madden tater',\n",
       "       'n word normalized media wow words words frog boiling pot media',\n",
       "       'depressing freaking close',\n",
       "       'talkin shit trying offend youre petty fuck',\n",
       "       'ultimately keithscott wasnt man hand arrest warrant thats know thats cause outrage',\n",
       "       'new madden video gonna xbox ahole going face rolling eyes face rolling eyes struggles',\n",
       "       'didnt bad situation great mate cant believe makes despair humanity',\n",
       "       'magpies gathering help im going swooped terrorism',\n",
       "       'need pout time getting nerves gbbo',\n",
       "       'lol dk actually dropped table surprisingly arms warrior dps moment',\n",
       "       'gabriel eventually start frowning gaining conciousness apparently painful tears formed',\n",
       "       'sure yous young breadrins sling quick vote murky skeng votage',\n",
       "       'literally dying amp living time catch twitter arent following life basic hilarity',\n",
       "       'im furious',\n",
       "       'beginning process working option mentalhealth complexptsd',\n",
       "       'offend u trust cop police car color especially white evidence clear klan awoke',\n",
       "       'attempt levity winking face', 'everton playing fume day',\n",
       "       'yall bitches angry bitter truly suck lol',\n",
       "       'great opportunity settle globe fear wonders'], dtype=object)"
      ]
     },
     "execution_count": 307,
     "metadata": {},
     "output_type": "execute_result"
    }
   ],
   "source": [
    "data_test['clean_text'].values[:20]"
   ]
  },
  {
   "cell_type": "markdown",
   "id": "2b22f6f6",
   "metadata": {},
   "source": [
    "### Tokenize the text we have cleaned in order to make a further normalization on words with the Lemmatizer"
   ]
  },
  {
   "cell_type": "code",
   "execution_count": 308,
   "id": "b5d5423c",
   "metadata": {
    "id": "b5d5423c"
   },
   "outputs": [],
   "source": [
    "# tokenize\n",
    "tt = TweetTokenizer()\n",
    "\n",
    "data_train['tokenize'] = data_train.clean_text.str.lower().apply(tt.tokenize)\n",
    "data_val['tokenize'] = data_val.clean_text.str.lower().apply(tt.tokenize)\n",
    "data_test['tokenize'] = data_test.clean_text.str.lower().apply(tt.tokenize)\n",
    "\n",
    "# lemmatize\n",
    "def lemmatize_text(text):\n",
    "    lemmatizer = WordNetLemmatizer()\n",
    "    return [lemmatizer.lemmatize(w) for w in text]\n",
    "    \n",
    "data_train['tokenize_lemmatized'] = data_train['tokenize'].apply(lemmatize_text)\n",
    "data_val['tokenize_lemmatized'] = data_val['tokenize'].apply(lemmatize_text)\n",
    "data_test['tokenize_lemmatized'] = data_test['tokenize'].apply(lemmatize_text)"
   ]
  },
  {
   "cell_type": "code",
   "execution_count": 309,
   "id": "5cf9b513",
   "metadata": {
    "colab": {
     "base_uri": "https://localhost:8080/",
     "height": 204
    },
    "id": "5cf9b513",
    "outputId": "f69e58c8-bf38-47cf-d68e-679ae2d7d9d9"
   },
   "outputs": [
    {
     "data": {
      "text/html": [
       "<div>\n",
       "<style scoped>\n",
       "    .dataframe tbody tr th:only-of-type {\n",
       "        vertical-align: middle;\n",
       "    }\n",
       "\n",
       "    .dataframe tbody tr th {\n",
       "        vertical-align: top;\n",
       "    }\n",
       "\n",
       "    .dataframe thead th {\n",
       "        text-align: right;\n",
       "    }\n",
       "</style>\n",
       "<table border=\"1\" class=\"dataframe\">\n",
       "  <thead>\n",
       "    <tr style=\"text-align: right;\">\n",
       "      <th></th>\n",
       "      <th>id</th>\n",
       "      <th>text</th>\n",
       "      <th>sentiment</th>\n",
       "      <th>j</th>\n",
       "      <th>s</th>\n",
       "      <th>f</th>\n",
       "      <th>a</th>\n",
       "      <th>clean_text</th>\n",
       "      <th>tokenize</th>\n",
       "      <th>tokenize_lemmatized</th>\n",
       "    </tr>\n",
       "  </thead>\n",
       "  <tbody>\n",
       "    <tr>\n",
       "      <th>59</th>\n",
       "      <td>10916</td>\n",
       "      <td>Note to self ~ Stop laughing at things that of...</td>\n",
       "      <td>anger</td>\n",
       "      <td>0.0</td>\n",
       "      <td>0.000</td>\n",
       "      <td>0.0</td>\n",
       "      <td>0.542</td>\n",
       "      <td>note self stop laughing things offend ok mad p...</td>\n",
       "      <td>[note, self, stop, laughing, things, offend, o...</td>\n",
       "      <td>[note, self, stop, laughing, thing, offend, ok...</td>\n",
       "    </tr>\n",
       "    <tr>\n",
       "      <th>35</th>\n",
       "      <td>40821</td>\n",
       "      <td>It feel like we lost a family member🙄😂</td>\n",
       "      <td>sadness</td>\n",
       "      <td>0.0</td>\n",
       "      <td>0.708</td>\n",
       "      <td>0.0</td>\n",
       "      <td>0.000</td>\n",
       "      <td>feel like lost family member face rolling eyes...</td>\n",
       "      <td>[feel, like, lost, family, member, face, rolli...</td>\n",
       "      <td>[feel, like, lost, family, member, face, rolli...</td>\n",
       "    </tr>\n",
       "    <tr>\n",
       "      <th>62</th>\n",
       "      <td>10919</td>\n",
       "      <td>Why to have vanity sizes?Now sizes S,XS(evenXX...</td>\n",
       "      <td>anger</td>\n",
       "      <td>0.0</td>\n",
       "      <td>0.000</td>\n",
       "      <td>0.0</td>\n",
       "      <td>0.708</td>\n",
       "      <td>vanity sizesnow sizes sxsevenxxs big wtf dear ...</td>\n",
       "      <td>[vanity, sizesnow, sizes, sxsevenxxs, big, wtf...</td>\n",
       "      <td>[vanity, sizesnow, size, sxsevenxxs, big, wtf,...</td>\n",
       "    </tr>\n",
       "    <tr>\n",
       "      <th>4</th>\n",
       "      <td>10861</td>\n",
       "      <td>Sometimes I get mad over something so minuscul...</td>\n",
       "      <td>anger</td>\n",
       "      <td>0.0</td>\n",
       "      <td>0.000</td>\n",
       "      <td>0.0</td>\n",
       "      <td>0.708</td>\n",
       "      <td>mad minuscule try ruin somebodies life like lo...</td>\n",
       "      <td>[mad, minuscule, try, ruin, somebodies, life, ...</td>\n",
       "      <td>[mad, minuscule, try, ruin, somebody, life, li...</td>\n",
       "    </tr>\n",
       "    <tr>\n",
       "      <th>44</th>\n",
       "      <td>10901</td>\n",
       "      <td>You're so thirsty for the chance to disagree w...</td>\n",
       "      <td>anger</td>\n",
       "      <td>0.0</td>\n",
       "      <td>0.000</td>\n",
       "      <td>0.0</td>\n",
       "      <td>0.500</td>\n",
       "      <td>youre thirsty chance disagree w left dont real...</td>\n",
       "      <td>[youre, thirsty, chance, disagree, w, left, do...</td>\n",
       "      <td>[youre, thirsty, chance, disagree, w, left, do...</td>\n",
       "    </tr>\n",
       "  </tbody>\n",
       "</table>\n",
       "</div>"
      ],
      "text/plain": [
       "       id                                               text sentiment    j  \\\n",
       "59  10916  Note to self ~ Stop laughing at things that of...     anger  0.0   \n",
       "35  40821             It feel like we lost a family member🙄😂   sadness  0.0   \n",
       "62  10919  Why to have vanity sizes?Now sizes S,XS(evenXX...     anger  0.0   \n",
       "4   10861  Sometimes I get mad over something so minuscul...     anger  0.0   \n",
       "44  10901  You're so thirsty for the chance to disagree w...     anger  0.0   \n",
       "\n",
       "        s    f      a                                         clean_text  \\\n",
       "59  0.000  0.0  0.542  note self stop laughing things offend ok mad p...   \n",
       "35  0.708  0.0  0.000  feel like lost family member face rolling eyes...   \n",
       "62  0.000  0.0  0.708  vanity sizesnow sizes sxsevenxxs big wtf dear ...   \n",
       "4   0.000  0.0  0.708  mad minuscule try ruin somebodies life like lo...   \n",
       "44  0.000  0.0  0.500  youre thirsty chance disagree w left dont real...   \n",
       "\n",
       "                                             tokenize  \\\n",
       "59  [note, self, stop, laughing, things, offend, o...   \n",
       "35  [feel, like, lost, family, member, face, rolli...   \n",
       "62  [vanity, sizesnow, sizes, sxsevenxxs, big, wtf...   \n",
       "4   [mad, minuscule, try, ruin, somebodies, life, ...   \n",
       "44  [youre, thirsty, chance, disagree, w, left, do...   \n",
       "\n",
       "                                  tokenize_lemmatized  \n",
       "59  [note, self, stop, laughing, thing, offend, ok...  \n",
       "35  [feel, like, lost, family, member, face, rolli...  \n",
       "62  [vanity, sizesnow, size, sxsevenxxs, big, wtf,...  \n",
       "4   [mad, minuscule, try, ruin, somebody, life, li...  \n",
       "44  [youre, thirsty, chance, disagree, w, left, do...  "
      ]
     },
     "execution_count": 309,
     "metadata": {},
     "output_type": "execute_result"
    }
   ],
   "source": [
    "data_val.head()"
   ]
  },
  {
   "cell_type": "code",
   "execution_count": 320,
   "id": "5ac1eb55",
   "metadata": {},
   "outputs": [
    {
     "name": "stdout",
     "output_type": "stream",
     "text": [
      "79 19 32\n"
     ]
    }
   ],
   "source": [
    "lengths_train = []\n",
    "lengths_val = []\n",
    "lengths_test = []\n",
    "\n",
    "for i in range(len(data_train)):\n",
    "    lengths_train.append(len(data_train['tokenize'].values[i]))\n",
    "for i in range(len(data_val)):\n",
    "    lengths_val.append(len(data_val['tokenize'].values[i]))\n",
    "for i in range(len(data_test)):\n",
    "    lengths_test.append(len(data_test['tokenize'].values[i]))\n",
    "\n",
    "print(max(lengths_train), max(lengths_val), max(lengths_test))"
   ]
  },
  {
   "cell_type": "code",
   "execution_count": 321,
   "id": "7218ae94",
   "metadata": {},
   "outputs": [
    {
     "data": {
      "text/plain": [
       "[7,\n",
       " 2,\n",
       " 5,\n",
       " 14,\n",
       " 4,\n",
       " 10,\n",
       " 14,\n",
       " 6,\n",
       " 12,\n",
       " 9,\n",
       " 12,\n",
       " 6,\n",
       " 3,\n",
       " 6,\n",
       " 5,\n",
       " 6,\n",
       " 4,\n",
       " 8,\n",
       " 5,\n",
       " 3,\n",
       " 5,\n",
       " 6,\n",
       " 8,\n",
       " 14,\n",
       " 10,\n",
       " 2,\n",
       " 4,\n",
       " 10,\n",
       " 11,\n",
       " 6,\n",
       " 7,\n",
       " 6,\n",
       " 10,\n",
       " 10,\n",
       " 9,\n",
       " 6,\n",
       " 9,\n",
       " 8,\n",
       " 2,\n",
       " 8,\n",
       " 13,\n",
       " 6,\n",
       " 9,\n",
       " 8,\n",
       " 8,\n",
       " 2,\n",
       " 6,\n",
       " 10,\n",
       " 3,\n",
       " 10,\n",
       " 8,\n",
       " 11,\n",
       " 2,\n",
       " 11,\n",
       " 14,\n",
       " 4,\n",
       " 13,\n",
       " 5,\n",
       " 9,\n",
       " 4,\n",
       " 13,\n",
       " 8,\n",
       " 4,\n",
       " 4,\n",
       " 16,\n",
       " 8,\n",
       " 15,\n",
       " 8,\n",
       " 7,\n",
       " 7,\n",
       " 14,\n",
       " 2,\n",
       " 7,\n",
       " 12,\n",
       " 5,\n",
       " 6,\n",
       " 3,\n",
       " 9,\n",
       " 13,\n",
       " 14,\n",
       " 13,\n",
       " 11,\n",
       " 7,\n",
       " 10,\n",
       " 17,\n",
       " 11,\n",
       " 8,\n",
       " 6,\n",
       " 4,\n",
       " 11,\n",
       " 11,\n",
       " 2,\n",
       " 11,\n",
       " 8,\n",
       " 12,\n",
       " 8,\n",
       " 3,\n",
       " 13,\n",
       " 31,\n",
       " 14,\n",
       " 10,\n",
       " 7,\n",
       " 6,\n",
       " 8,\n",
       " 11,\n",
       " 6,\n",
       " 9,\n",
       " 7,\n",
       " 7,\n",
       " 5,\n",
       " 7,\n",
       " 11,\n",
       " 11,\n",
       " 4,\n",
       " 8,\n",
       " 1,\n",
       " 13,\n",
       " 6,\n",
       " 5,\n",
       " 4,\n",
       " 11,\n",
       " 14,\n",
       " 6,\n",
       " 6,\n",
       " 9,\n",
       " 5,\n",
       " 7,\n",
       " 8,\n",
       " 4,\n",
       " 6,\n",
       " 9,\n",
       " 7,\n",
       " 9,\n",
       " 12,\n",
       " 8,\n",
       " 9,\n",
       " 9,\n",
       " 5,\n",
       " 11,\n",
       " 9,\n",
       " 8,\n",
       " 4,\n",
       " 11,\n",
       " 7,\n",
       " 6,\n",
       " 15,\n",
       " 3,\n",
       " 5,\n",
       " 10,\n",
       " 11,\n",
       " 9,\n",
       " 7,\n",
       " 4,\n",
       " 11,\n",
       " 12,\n",
       " 15,\n",
       " 13,\n",
       " 8,\n",
       " 6,\n",
       " 2,\n",
       " 11,\n",
       " 13,\n",
       " 11,\n",
       " 4,\n",
       " 7,\n",
       " 13,\n",
       " 7,\n",
       " 15,\n",
       " 3,\n",
       " 10,\n",
       " 10,\n",
       " 13,\n",
       " 8,\n",
       " 5,\n",
       " 9,\n",
       " 8,\n",
       " 7,\n",
       " 10,\n",
       " 4,\n",
       " 9,\n",
       " 13,\n",
       " 12,\n",
       " 8,\n",
       " 15,\n",
       " 5,\n",
       " 13,\n",
       " 14,\n",
       " 6,\n",
       " 8,\n",
       " 2,\n",
       " 11,\n",
       " 11,\n",
       " 14,\n",
       " 5,\n",
       " 11,\n",
       " 5,\n",
       " 6,\n",
       " 10,\n",
       " 8,\n",
       " 6,\n",
       " 4,\n",
       " 8,\n",
       " 2,\n",
       " 7,\n",
       " 10,\n",
       " 9,\n",
       " 14,\n",
       " 2,\n",
       " 13,\n",
       " 6,\n",
       " 1,\n",
       " 10,\n",
       " 10,\n",
       " 4,\n",
       " 5,\n",
       " 10,\n",
       " 7,\n",
       " 8,\n",
       " 9,\n",
       " 7,\n",
       " 5,\n",
       " 1,\n",
       " 7,\n",
       " 13,\n",
       " 4,\n",
       " 13,\n",
       " 12,\n",
       " 7,\n",
       " 10,\n",
       " 12,\n",
       " 9,\n",
       " 10,\n",
       " 6,\n",
       " 2,\n",
       " 9,\n",
       " 6,\n",
       " 13,\n",
       " 10,\n",
       " 13,\n",
       " 7,\n",
       " 10,\n",
       " 9,\n",
       " 10,\n",
       " 4,\n",
       " 12,\n",
       " 3,\n",
       " 11,\n",
       " 10,\n",
       " 8,\n",
       " 7,\n",
       " 3,\n",
       " 3,\n",
       " 5,\n",
       " 5,\n",
       " 4,\n",
       " 16,\n",
       " 2,\n",
       " 5,\n",
       " 4,\n",
       " 9,\n",
       " 8,\n",
       " 4,\n",
       " 8,\n",
       " 8,\n",
       " 12,\n",
       " 9,\n",
       " 10,\n",
       " 8,\n",
       " 5,\n",
       " 14,\n",
       " 5,\n",
       " 3,\n",
       " 4,\n",
       " 11,\n",
       " 1,\n",
       " 11,\n",
       " 4,\n",
       " 3,\n",
       " 13,\n",
       " 10,\n",
       " 10,\n",
       " 11,\n",
       " 4,\n",
       " 12,\n",
       " 9,\n",
       " 11,\n",
       " 7,\n",
       " 8,\n",
       " 4,\n",
       " 11,\n",
       " 10,\n",
       " 5,\n",
       " 9,\n",
       " 10,\n",
       " 9,\n",
       " 11,\n",
       " 7,\n",
       " 12,\n",
       " 26,\n",
       " 12,\n",
       " 15,\n",
       " 4,\n",
       " 11,\n",
       " 6,\n",
       " 12,\n",
       " 4,\n",
       " 9,\n",
       " 7,\n",
       " 15,\n",
       " 11,\n",
       " 6,\n",
       " 11,\n",
       " 8,\n",
       " 9,\n",
       " 3,\n",
       " 7,\n",
       " 13,\n",
       " 7,\n",
       " 7,\n",
       " 2,\n",
       " 13,\n",
       " 9,\n",
       " 2,\n",
       " 12,\n",
       " 3,\n",
       " 10,\n",
       " 13,\n",
       " 7,\n",
       " 8,\n",
       " 14,\n",
       " 14,\n",
       " 6,\n",
       " 22,\n",
       " 2,\n",
       " 9,\n",
       " 10,\n",
       " 4,\n",
       " 2,\n",
       " 9,\n",
       " 12,\n",
       " 3,\n",
       " 9,\n",
       " 6,\n",
       " 12,\n",
       " 5,\n",
       " 5,\n",
       " 7,\n",
       " 9,\n",
       " 10,\n",
       " 8,\n",
       " 10,\n",
       " 11,\n",
       " 11,\n",
       " 12,\n",
       " 16,\n",
       " 9,\n",
       " 14,\n",
       " 11,\n",
       " 8,\n",
       " 8,\n",
       " 9,\n",
       " 9,\n",
       " 4,\n",
       " 12,\n",
       " 9,\n",
       " 4,\n",
       " 13,\n",
       " 7,\n",
       " 6,\n",
       " 4,\n",
       " 7,\n",
       " 9,\n",
       " 4,\n",
       " 7,\n",
       " 5,\n",
       " 15,\n",
       " 11,\n",
       " 4,\n",
       " 10,\n",
       " 10,\n",
       " 5,\n",
       " 11,\n",
       " 7,\n",
       " 13,\n",
       " 12,\n",
       " 5,\n",
       " 8,\n",
       " 9,\n",
       " 8,\n",
       " 8,\n",
       " 9,\n",
       " 12,\n",
       " 13,\n",
       " 5,\n",
       " 9,\n",
       " 2,\n",
       " 3,\n",
       " 4,\n",
       " 9,\n",
       " 5,\n",
       " 8,\n",
       " 11,\n",
       " 10,\n",
       " 0,\n",
       " 12,\n",
       " 7,\n",
       " 15,\n",
       " 10,\n",
       " 4,\n",
       " 5,\n",
       " 18,\n",
       " 11,\n",
       " 5,\n",
       " 1,\n",
       " 12,\n",
       " 12,\n",
       " 12,\n",
       " 12,\n",
       " 11,\n",
       " 10,\n",
       " 2,\n",
       " 6,\n",
       " 7,\n",
       " 3,\n",
       " 10,\n",
       " 10,\n",
       " 6,\n",
       " 3,\n",
       " 8,\n",
       " 5,\n",
       " 5,\n",
       " 12,\n",
       " 11,\n",
       " 10,\n",
       " 5,\n",
       " 6,\n",
       " 11,\n",
       " 6,\n",
       " 7,\n",
       " 9,\n",
       " 7,\n",
       " 3,\n",
       " 9,\n",
       " 8,\n",
       " 8,\n",
       " 9,\n",
       " 9,\n",
       " 12,\n",
       " 3,\n",
       " 10,\n",
       " 8,\n",
       " 14,\n",
       " 12,\n",
       " 2,\n",
       " 11,\n",
       " 7,\n",
       " 11,\n",
       " 9,\n",
       " 3,\n",
       " 7,\n",
       " 16,\n",
       " 9,\n",
       " 8,\n",
       " 7,\n",
       " 9,\n",
       " 8,\n",
       " 9,\n",
       " 5,\n",
       " 13,\n",
       " 14,\n",
       " 5,\n",
       " 11,\n",
       " 6,\n",
       " 14,\n",
       " 7,\n",
       " 2,\n",
       " 12,\n",
       " 15,\n",
       " 3,\n",
       " 3,\n",
       " 18,\n",
       " 5,\n",
       " 6,\n",
       " 18,\n",
       " 9,\n",
       " 12,\n",
       " 4,\n",
       " 10,\n",
       " 3,\n",
       " 2,\n",
       " 7,\n",
       " 1,\n",
       " 2,\n",
       " 5,\n",
       " 6,\n",
       " 16,\n",
       " 12,\n",
       " 7,\n",
       " 11,\n",
       " 3,\n",
       " 12,\n",
       " 2,\n",
       " 14,\n",
       " 3,\n",
       " 9,\n",
       " 10,\n",
       " 12,\n",
       " 7,\n",
       " 7,\n",
       " 8,\n",
       " 4,\n",
       " 8,\n",
       " 1,\n",
       " 5,\n",
       " 13,\n",
       " 9,\n",
       " 10,\n",
       " 7,\n",
       " 10,\n",
       " 4,\n",
       " 12,\n",
       " 3,\n",
       " 9,\n",
       " 5,\n",
       " 7,\n",
       " 11,\n",
       " 8,\n",
       " 10,\n",
       " 7,\n",
       " 5,\n",
       " 11,\n",
       " 3,\n",
       " 9,\n",
       " 6,\n",
       " 10,\n",
       " 8,\n",
       " 15,\n",
       " 2,\n",
       " 10,\n",
       " 14,\n",
       " 4,\n",
       " 2,\n",
       " 7,\n",
       " 11,\n",
       " 13,\n",
       " 13,\n",
       " 13,\n",
       " 10,\n",
       " 11,\n",
       " 4,\n",
       " 13,\n",
       " 3,\n",
       " 15,\n",
       " 12,\n",
       " 5,\n",
       " 14,\n",
       " 5,\n",
       " 7,\n",
       " 10,\n",
       " 11,\n",
       " 12,\n",
       " 9,\n",
       " 7,\n",
       " 9,\n",
       " 11,\n",
       " 8,\n",
       " 3,\n",
       " 10,\n",
       " 6,\n",
       " 4,\n",
       " 7,\n",
       " 10,\n",
       " 8,\n",
       " 16,\n",
       " 12,\n",
       " 15,\n",
       " 1,\n",
       " 10,\n",
       " 6,\n",
       " 7,\n",
       " 10,\n",
       " 12,\n",
       " 4,\n",
       " 7,\n",
       " 10,\n",
       " 5,\n",
       " 5,\n",
       " 3,\n",
       " 5,\n",
       " 10,\n",
       " 6,\n",
       " 5,\n",
       " 7,\n",
       " 13,\n",
       " 13,\n",
       " 9,\n",
       " 5,\n",
       " 5,\n",
       " 3,\n",
       " 4,\n",
       " 7,\n",
       " 6,\n",
       " 6,\n",
       " 10,\n",
       " 9,\n",
       " 10,\n",
       " 12,\n",
       " 10,\n",
       " 2,\n",
       " 8,\n",
       " 7,\n",
       " 6,\n",
       " 13,\n",
       " 15,\n",
       " 17,\n",
       " 13,\n",
       " 11,\n",
       " 8,\n",
       " 8,\n",
       " 6,\n",
       " 10,\n",
       " 5,\n",
       " 8,\n",
       " 16,\n",
       " 13,\n",
       " 9,\n",
       " 12,\n",
       " 6,\n",
       " 11,\n",
       " 6,\n",
       " 11,\n",
       " 11,\n",
       " 2,\n",
       " 3,\n",
       " 9,\n",
       " 10,\n",
       " 4,\n",
       " 12,\n",
       " 10,\n",
       " 10,\n",
       " 14,\n",
       " 4,\n",
       " 15,\n",
       " 5,\n",
       " 8,\n",
       " 12,\n",
       " 5,\n",
       " 4,\n",
       " 3,\n",
       " 3,\n",
       " 13,\n",
       " 15,\n",
       " 10,\n",
       " 5,\n",
       " 11,\n",
       " 7,\n",
       " 5,\n",
       " 3,\n",
       " 12,\n",
       " 10,\n",
       " 10,\n",
       " 10,\n",
       " 7,\n",
       " 7,\n",
       " 3,\n",
       " 7,\n",
       " 7,\n",
       " 6,\n",
       " 5,\n",
       " 4,\n",
       " 10,\n",
       " 4,\n",
       " 5,\n",
       " 12,\n",
       " 15,\n",
       " 7,\n",
       " 10,\n",
       " 13,\n",
       " 4,\n",
       " 12,\n",
       " 8,\n",
       " 11,\n",
       " 7,\n",
       " 16,\n",
       " 7,\n",
       " 17,\n",
       " 3,\n",
       " 10,\n",
       " 14,\n",
       " 10,\n",
       " 4,\n",
       " 13,\n",
       " 8,\n",
       " 7,\n",
       " 7,\n",
       " 8,\n",
       " 15,\n",
       " 6,\n",
       " 5,\n",
       " 3,\n",
       " 10,\n",
       " 1,\n",
       " 6,\n",
       " 12,\n",
       " 6,\n",
       " 6,\n",
       " 5,\n",
       " 8,\n",
       " 3,\n",
       " 9,\n",
       " 5,\n",
       " 3,\n",
       " 5,\n",
       " 7,\n",
       " 6,\n",
       " 9,\n",
       " 6,\n",
       " 9,\n",
       " 9,\n",
       " 8,\n",
       " 6,\n",
       " 10,\n",
       " 3,\n",
       " 9,\n",
       " 8,\n",
       " 6,\n",
       " 11,\n",
       " 11,\n",
       " 16,\n",
       " 4,\n",
       " 7,\n",
       " 8,\n",
       " 6,\n",
       " 6,\n",
       " 4,\n",
       " 12,\n",
       " 9,\n",
       " 11,\n",
       " 10,\n",
       " 16,\n",
       " 5,\n",
       " 6,\n",
       " 5,\n",
       " 12,\n",
       " 4,\n",
       " 15,\n",
       " 10,\n",
       " 4,\n",
       " 7,\n",
       " 7,\n",
       " 12,\n",
       " 8,\n",
       " 7,\n",
       " 7,\n",
       " 6,\n",
       " 8,\n",
       " 11,\n",
       " 7,\n",
       " 11,\n",
       " 9,\n",
       " 12,\n",
       " 9,\n",
       " 7,\n",
       " 11,\n",
       " 4,\n",
       " 13,\n",
       " 9,\n",
       " 3,\n",
       " 15,\n",
       " 13,\n",
       " 6,\n",
       " 6,\n",
       " 9,\n",
       " 4,\n",
       " 9,\n",
       " 5,\n",
       " 14,\n",
       " 8,\n",
       " 6,\n",
       " 7,\n",
       " 10,\n",
       " 5,\n",
       " 10,\n",
       " 6,\n",
       " 14,\n",
       " 12,\n",
       " 9,\n",
       " 4,\n",
       " 6,\n",
       " 7,\n",
       " 15,\n",
       " 7,\n",
       " 7,\n",
       " 4,\n",
       " 12,\n",
       " 12,\n",
       " 7,\n",
       " 17,\n",
       " 9,\n",
       " 7,\n",
       " 8,\n",
       " 12,\n",
       " 4,\n",
       " 8,\n",
       " 13,\n",
       " 7,\n",
       " 13,\n",
       " 10,\n",
       " 1,\n",
       " 13,\n",
       " 21,\n",
       " 10,\n",
       " 6,\n",
       " 7,\n",
       " 6,\n",
       " 7,\n",
       " 14,\n",
       " 9,\n",
       " 6,\n",
       " 5,\n",
       " 15,\n",
       " 10,\n",
       " 4,\n",
       " 7,\n",
       " 10,\n",
       " 10,\n",
       " 14,\n",
       " 3,\n",
       " 5,\n",
       " 5,\n",
       " 3,\n",
       " 5,\n",
       " 1,\n",
       " 8,\n",
       " 10,\n",
       " 8,\n",
       " 7,\n",
       " 15,\n",
       " 13,\n",
       " 6,\n",
       " 10,\n",
       " 3,\n",
       " 12,\n",
       " 11,\n",
       " 8,\n",
       " 8,\n",
       " 8,\n",
       " 3,\n",
       " 11,\n",
       " 9,\n",
       " 5,\n",
       " 14,\n",
       " 9,\n",
       " 15,\n",
       " 12,\n",
       " 5,\n",
       " 15,\n",
       " 3,\n",
       " 8,\n",
       " 8,\n",
       " 10,\n",
       " 3,\n",
       " 14,\n",
       " 9,\n",
       " 9,\n",
       " 10,\n",
       " 7,\n",
       " 9,\n",
       " 9,\n",
       " 6,\n",
       " 2,\n",
       " 5,\n",
       " 13,\n",
       " 15,\n",
       " 5,\n",
       " 7,\n",
       " 14,\n",
       " 8,\n",
       " 12,\n",
       " 12,\n",
       " 5,\n",
       " 3,\n",
       " 12,\n",
       " 11,\n",
       " 13,\n",
       " 15,\n",
       " 9,\n",
       " 4,\n",
       " 5,\n",
       " 6,\n",
       " 9,\n",
       " 5,\n",
       " 9,\n",
       " 14,\n",
       " 1,\n",
       " 11,\n",
       " 11,\n",
       " 9,\n",
       " 11,\n",
       " 14,\n",
       " 7,\n",
       " 6,\n",
       " 5,\n",
       " 3,\n",
       " 9,\n",
       " 9,\n",
       " 12,\n",
       " 5,\n",
       " 5,\n",
       " 13,\n",
       " 13,\n",
       " 10,\n",
       " 10,\n",
       " 1,\n",
       " 6,\n",
       " 2,\n",
       " 4,\n",
       " 11,\n",
       " 12,\n",
       " 3,\n",
       " 3,\n",
       " 9,\n",
       " 11,\n",
       " 12,\n",
       " 4,\n",
       " 10,\n",
       " 8,\n",
       " 13,\n",
       " 9,\n",
       " 12,\n",
       " 17,\n",
       " 9,\n",
       " 10,\n",
       " 13,\n",
       " 7,\n",
       " 6,\n",
       " 4,\n",
       " 9,\n",
       " 7,\n",
       " 6,\n",
       " 9,\n",
       " 5,\n",
       " 6,\n",
       " 5,\n",
       " 10,\n",
       " 14,\n",
       " 3,\n",
       " 16,\n",
       " 3,\n",
       " 11,\n",
       " 6,\n",
       " 16,\n",
       " 11,\n",
       " 7,\n",
       " 7,\n",
       " 10,\n",
       " 10,\n",
       " 11,\n",
       " 9,\n",
       " 6,\n",
       " 6,\n",
       " 9,\n",
       " 10,\n",
       " 5,\n",
       " 11,\n",
       " 9,\n",
       " 9,\n",
       " 8,\n",
       " 7,\n",
       " 9,\n",
       " 6,\n",
       " 2,\n",
       " 6,\n",
       " 14,\n",
       " 9,\n",
       " 15,\n",
       " 10,\n",
       " 6,\n",
       " 4,\n",
       " 9,\n",
       " 3,\n",
       " 47,\n",
       " 6,\n",
       " 8,\n",
       " 10,\n",
       " 6,\n",
       " 16,\n",
       " 12,\n",
       " 11,\n",
       " 10,\n",
       " 9,\n",
       " 8,\n",
       " 16,\n",
       " 12,\n",
       " 9,\n",
       " 5,\n",
       " 8,\n",
       " 13,\n",
       " 9,\n",
       " 5,\n",
       " ...]"
      ]
     },
     "execution_count": 321,
     "metadata": {},
     "output_type": "execute_result"
    }
   ],
   "source": [
    "lengths_train"
   ]
  },
  {
   "cell_type": "markdown",
   "id": "72b27c08",
   "metadata": {},
   "source": [
    "### DeTokenize to get again a sequence of words as they were written, but with all our preprocessing applied"
   ]
  },
  {
   "cell_type": "code",
   "execution_count": 322,
   "id": "c0e250c3",
   "metadata": {
    "id": "c0e250c3"
   },
   "outputs": [],
   "source": [
    "# detokenize\n",
    "\n",
    "data_train['final_text'] = data_train.tokenize_lemmatized.apply(TreebankWordDetokenizer().detokenize)\n",
    "data_val['final_text'] = data_val.tokenize_lemmatized.apply(TreebankWordDetokenizer().detokenize)\n",
    "data_test['final_text'] = data_test.tokenize_lemmatized.apply(TreebankWordDetokenizer().detokenize)"
   ]
  },
  {
   "cell_type": "code",
   "execution_count": 323,
   "id": "95856b49",
   "metadata": {
    "colab": {
     "base_uri": "https://localhost:8080/",
     "height": 333
    },
    "id": "95856b49",
    "outputId": "02c744cb-57c9-4d77-b283-215992ff2f65"
   },
   "outputs": [
    {
     "data": {
      "text/html": [
       "<div>\n",
       "<style scoped>\n",
       "    .dataframe tbody tr th:only-of-type {\n",
       "        vertical-align: middle;\n",
       "    }\n",
       "\n",
       "    .dataframe tbody tr th {\n",
       "        vertical-align: top;\n",
       "    }\n",
       "\n",
       "    .dataframe thead th {\n",
       "        text-align: right;\n",
       "    }\n",
       "</style>\n",
       "<table border=\"1\" class=\"dataframe\">\n",
       "  <thead>\n",
       "    <tr style=\"text-align: right;\">\n",
       "      <th></th>\n",
       "      <th>id</th>\n",
       "      <th>text</th>\n",
       "      <th>sentiment</th>\n",
       "      <th>j</th>\n",
       "      <th>s</th>\n",
       "      <th>f</th>\n",
       "      <th>a</th>\n",
       "      <th>clean_text</th>\n",
       "      <th>tokenize</th>\n",
       "      <th>tokenize_lemmatized</th>\n",
       "      <th>final_text</th>\n",
       "    </tr>\n",
       "  </thead>\n",
       "  <tbody>\n",
       "    <tr>\n",
       "      <th>307</th>\n",
       "      <td>40307</td>\n",
       "      <td>Itching something #serious RN haven't slept bu...</td>\n",
       "      <td>sadness</td>\n",
       "      <td>0.0</td>\n",
       "      <td>0.542</td>\n",
       "      <td>0.0</td>\n",
       "      <td>0.000</td>\n",
       "      <td>itching rn havent slept considering taking lik...</td>\n",
       "      <td>[itching, rn, havent, slept, considering, taki...</td>\n",
       "      <td>[itching, rn, havent, slept, considering, taki...</td>\n",
       "      <td>itching rn havent slept considering taking lik...</td>\n",
       "    </tr>\n",
       "    <tr>\n",
       "      <th>471</th>\n",
       "      <td>40471</td>\n",
       "      <td>LORD MAKE ME AN INSTRUMENT OF YOUR PEACE — Whe...</td>\n",
       "      <td>sadness</td>\n",
       "      <td>0.0</td>\n",
       "      <td>0.427</td>\n",
       "      <td>0.0</td>\n",
       "      <td>0.000</td>\n",
       "      <td>lord instrument peace theres hate let sow love...</td>\n",
       "      <td>[lord, instrument, peace, theres, hate, let, s...</td>\n",
       "      <td>[lord, instrument, peace, there, hate, let, so...</td>\n",
       "      <td>lord instrument peace there hate let sow love ...</td>\n",
       "    </tr>\n",
       "    <tr>\n",
       "      <th>37</th>\n",
       "      <td>40037</td>\n",
       "      <td>@Markgatiss I'm surrounded by those Trump vote...</td>\n",
       "      <td>sadness</td>\n",
       "      <td>0.0</td>\n",
       "      <td>0.833</td>\n",
       "      <td>0.0</td>\n",
       "      <td>0.000</td>\n",
       "      <td>im surrounded trump voters youre right fucking...</td>\n",
       "      <td>[im, surrounded, trump, voters, youre, right, ...</td>\n",
       "      <td>[im, surrounded, trump, voter, youre, right, f...</td>\n",
       "      <td>im surrounded trump voter youre right fucking ...</td>\n",
       "    </tr>\n",
       "    <tr>\n",
       "      <th>751</th>\n",
       "      <td>10751</td>\n",
       "      <td>@pianimadi regarde tes snap</td>\n",
       "      <td>anger</td>\n",
       "      <td>0.0</td>\n",
       "      <td>0.000</td>\n",
       "      <td>0.0</td>\n",
       "      <td>0.312</td>\n",
       "      <td>regarde tes snap</td>\n",
       "      <td>[regarde, tes, snap]</td>\n",
       "      <td>[regarde, te, snap]</td>\n",
       "      <td>regarde te snap</td>\n",
       "    </tr>\n",
       "    <tr>\n",
       "      <th>418</th>\n",
       "      <td>10418</td>\n",
       "      <td>@AgentTinsley I believe that's what you call t...</td>\n",
       "      <td>anger</td>\n",
       "      <td>0.0</td>\n",
       "      <td>0.000</td>\n",
       "      <td>0.0</td>\n",
       "      <td>0.500</td>\n",
       "      <td>believe thats fury righteous</td>\n",
       "      <td>[believe, thats, fury, righteous]</td>\n",
       "      <td>[believe, thats, fury, righteous]</td>\n",
       "      <td>believe thats fury righteous</td>\n",
       "    </tr>\n",
       "  </tbody>\n",
       "</table>\n",
       "</div>"
      ],
      "text/plain": [
       "        id                                               text sentiment    j  \\\n",
       "307  40307  Itching something #serious RN haven't slept bu...   sadness  0.0   \n",
       "471  40471  LORD MAKE ME AN INSTRUMENT OF YOUR PEACE — Whe...   sadness  0.0   \n",
       "37   40037  @Markgatiss I'm surrounded by those Trump vote...   sadness  0.0   \n",
       "751  10751                        @pianimadi regarde tes snap     anger  0.0   \n",
       "418  10418  @AgentTinsley I believe that's what you call t...     anger  0.0   \n",
       "\n",
       "         s    f      a                                         clean_text  \\\n",
       "307  0.542  0.0  0.000  itching rn havent slept considering taking lik...   \n",
       "471  0.427  0.0  0.000  lord instrument peace theres hate let sow love...   \n",
       "37   0.833  0.0  0.000  im surrounded trump voters youre right fucking...   \n",
       "751  0.000  0.0  0.312                                   regarde tes snap   \n",
       "418  0.000  0.0  0.500                       believe thats fury righteous   \n",
       "\n",
       "                                              tokenize  \\\n",
       "307  [itching, rn, havent, slept, considering, taki...   \n",
       "471  [lord, instrument, peace, theres, hate, let, s...   \n",
       "37   [im, surrounded, trump, voters, youre, right, ...   \n",
       "751                               [regarde, tes, snap]   \n",
       "418                  [believe, thats, fury, righteous]   \n",
       "\n",
       "                                   tokenize_lemmatized  \\\n",
       "307  [itching, rn, havent, slept, considering, taki...   \n",
       "471  [lord, instrument, peace, there, hate, let, so...   \n",
       "37   [im, surrounded, trump, voter, youre, right, f...   \n",
       "751                                [regarde, te, snap]   \n",
       "418                  [believe, thats, fury, righteous]   \n",
       "\n",
       "                                            final_text  \n",
       "307  itching rn havent slept considering taking lik...  \n",
       "471  lord instrument peace there hate let sow love ...  \n",
       "37   im surrounded trump voter youre right fucking ...  \n",
       "751                                    regarde te snap  \n",
       "418                       believe thats fury righteous  "
      ]
     },
     "execution_count": 323,
     "metadata": {},
     "output_type": "execute_result"
    }
   ],
   "source": [
    "data_train.tail()"
   ]
  },
  {
   "cell_type": "code",
   "execution_count": 324,
   "id": "ed8f62ac",
   "metadata": {},
   "outputs": [
    {
     "data": {
      "text/plain": [
       "'chris williams yard shy joining yard club bowman walker amp roosevelt cfl'"
      ]
     },
     "execution_count": 324,
     "metadata": {},
     "output_type": "execute_result"
    }
   ],
   "source": [
    "data_train.final_text.values[10]"
   ]
  },
  {
   "cell_type": "markdown",
   "id": "0342822c",
   "metadata": {
    "id": "0342822c"
   },
   "source": [
    "### Once we have cleaned our text, we can split our training texts from labels"
   ]
  },
  {
   "cell_type": "code",
   "execution_count": 325,
   "id": "05151678",
   "metadata": {
    "id": "05151678"
   },
   "outputs": [],
   "source": [
    "# train-validation-test split has been already done\n",
    "\n",
    "#X_train, X_test, y_train, y_test = train_test_split(data.final_text,\n",
    "#                                                    data.sentiment,\n",
    "#                                                    test_size = 0.1,\n",
    "#                                                    random_state = 42,\n",
    "#                                                    stratify = data.sentiment)\n",
    "\n",
    "#X_train, X_val, y_train, y_val = train_test_split(X_train,\n",
    "#                                                  y_train,\n",
    "#                                                  test_size = 0.1,\n",
    "#                                                  random_state = 42,\n",
    "#                                                  stratify = y_train)"
   ]
  },
  {
   "cell_type": "code",
   "execution_count": 326,
   "id": "ec6fd95a",
   "metadata": {},
   "outputs": [
    {
     "name": "stdout",
     "output_type": "stream",
     "text": [
      "(3613,) (3613,) (3142,) (3142,) (347,) (347,)\n"
     ]
    }
   ],
   "source": [
    "# split texts from labels\n",
    "\n",
    "X_train = data_train.final_text\n",
    "y_train = data_train.sentiment\n",
    "\n",
    "X_val = data_val.final_text\n",
    "y_val = data_val.sentiment\n",
    "\n",
    "X_test = data_test.final_text\n",
    "y_test = data_test.sentiment\n",
    "\n",
    "print(X_train.shape,y_train.shape,X_test.shape,y_test.shape,X_val.shape,y_val.shape)"
   ]
  },
  {
   "cell_type": "code",
   "execution_count": 327,
   "id": "23f8d334",
   "metadata": {
    "colab": {
     "base_uri": "https://localhost:8080/"
    },
    "id": "23f8d334",
    "outputId": "8137ce5e-1ee7-4ff0-a53e-43dffadd4212"
   },
   "outputs": [
    {
     "data": {
      "text/plain": [
       "16               cant grieve black body pop pig brutality\n",
       "1021                                            pop round\n",
       "32                     love love love fun relaxationiskey\n",
       "789     monday face punch monday face punch fight joke...\n",
       "411                         lively amp lovely buffnpolish\n",
       "Name: final_text, dtype: object"
      ]
     },
     "execution_count": 327,
     "metadata": {},
     "output_type": "execute_result"
    }
   ],
   "source": [
    "X_train.head()"
   ]
  },
  {
   "cell_type": "code",
   "execution_count": 328,
   "id": "da0e1229",
   "metadata": {
    "colab": {
     "base_uri": "https://localhost:8080/"
    },
    "id": "da0e1229",
    "outputId": "750b0a4a-15d2-4e1c-f0e4-66ddee0bbacb"
   },
   "outputs": [
    {
     "data": {
      "text/plain": [
       "16      sadness\n",
       "1021       fear\n",
       "32          joy\n",
       "789        fear\n",
       "411         joy\n",
       "Name: sentiment, dtype: object"
      ]
     },
     "execution_count": 328,
     "metadata": {},
     "output_type": "execute_result"
    }
   ],
   "source": [
    "y_train.head()"
   ]
  },
  {
   "cell_type": "markdown",
   "id": "5d38c029",
   "metadata": {},
   "source": [
    "### Now encode our labels into numbers from 0 to 3, this would allow us to one-hot-encode them"
   ]
  },
  {
   "cell_type": "code",
   "execution_count": 329,
   "id": "ce1a7821",
   "metadata": {
    "id": "ce1a7821"
   },
   "outputs": [],
   "source": [
    "# numerical encoding of our labels\n",
    "\n",
    "label_encoder = LabelEncoder()\n",
    "\n",
    "y_train_enc = label_encoder.fit_transform(y_train)\n",
    "y_test_enc = label_encoder.fit_transform(y_test)\n",
    "y_val_enc = label_encoder.fit_transform(y_val)"
   ]
  },
  {
   "cell_type": "code",
   "execution_count": 339,
   "id": "73b6454e",
   "metadata": {
    "colab": {
     "base_uri": "https://localhost:8080/"
    },
    "id": "73b6454e",
    "outputId": "1934f210-cdbe-404b-dbaf-fd840f781769"
   },
   "outputs": [
    {
     "name": "stdout",
     "output_type": "stream",
     "text": [
      "[[1. 0. 0. 0.]\n",
      " [0. 1. 0. 0.]\n",
      " [0. 0. 0. 1.]\n",
      " [0. 0. 1. 0.]]\n",
      "[0 1 3 2]\n"
     ]
    }
   ],
   "source": [
    "# alphabetical order\n",
    "# 0: anger\n",
    "# 1: fear\n",
    "# 2: joy\n",
    "# 3: sadness\n",
    "\n",
    "print(y_train[199:203])\n",
    "print(y_train_enc[199:203])"
   ]
  },
  {
   "cell_type": "code",
   "execution_count": 340,
   "id": "993a2f91",
   "metadata": {},
   "outputs": [
    {
     "data": {
      "text/plain": [
       "array([[1., 0., 0., 0.],\n",
       "       [0., 1., 0., 0.],\n",
       "       [0., 0., 0., 1.],\n",
       "       [0., 0., 1., 0.]], dtype=float32)"
      ]
     },
     "execution_count": 340,
     "metadata": {},
     "output_type": "execute_result"
    }
   ],
   "source": [
    "# one-hot-encode them\n",
    "\n",
    "y_train = to_categorical(y_train_enc)\n",
    "y_val = to_categorical(y_val_enc)\n",
    "y_test = to_categorical(y_test_enc)\n",
    "\n",
    "y_train[199:203]"
   ]
  },
  {
   "cell_type": "code",
   "execution_count": 341,
   "id": "eb760bc3",
   "metadata": {
    "colab": {
     "base_uri": "https://localhost:8080/"
    },
    "id": "eb760bc3",
    "outputId": "685c8040-8829-4efc-ce64-366178f8a1d1"
   },
   "outputs": [
    {
     "name": "stdout",
     "output_type": "stream",
     "text": [
      "Found 8197 unique tokens.\n"
     ]
    }
   ],
   "source": [
    "# here we use the Tokenizer of keras, fitting it on all our training and validation data, \n",
    "# getting the sequences and the words with the corresponding index (unique words)\n",
    "\n",
    "num_words = 15000\n",
    "tokenizer = Tokenizer(nb_words=num_words)\n",
    "tokenizer.fit_on_texts(pd.concat([data_train, data_val]).final_text)\n",
    "sequences = tokenizer.texts_to_sequences(pd.concat([data_train, data_val]).final_text)\n",
    "\n",
    "word_index = tokenizer.word_index\n",
    "print('Found %s unique tokens.' % len(word_index))\n",
    "\n",
    "data = pad_sequences(sequences, maxlen=50)"
   ]
  },
  {
   "cell_type": "code",
   "execution_count": 342,
   "id": "NgammNzcMvVY",
   "metadata": {
    "id": "NgammNzcMvVY"
   },
   "outputs": [],
   "source": [
    "# from these commands you can download the pre-trained word embeddings\n",
    "\n",
    "# !curl -O http://nlp.stanford.edu/data/glove.6B.zip\n",
    "# !unzip -q glove.6B.zip"
   ]
  },
  {
   "cell_type": "markdown",
   "id": "91fa3c14",
   "metadata": {},
   "source": [
    "### Use the embedding with 200 features for each unique word"
   ]
  },
  {
   "cell_type": "code",
   "execution_count": 343,
   "id": "f8ddddff",
   "metadata": {
    "colab": {
     "base_uri": "https://localhost:8080/"
    },
    "id": "f8ddddff",
    "outputId": "c8fdfb96-fa84-45cd-f128-6e859c9adfa9"
   },
   "outputs": [
    {
     "name": "stdout",
     "output_type": "stream",
     "text": [
      "Found 400000 word vectors.\n"
     ]
    }
   ],
   "source": [
    "GLOVE_DIR = os.getcwd()\n",
    "embeddings_index = {}\n",
    "\n",
    "f = open(os.path.join(GLOVE_DIR, 'glove/glove.6B.200d.txt'))\n",
    "for line in f:\n",
    "    values = line.split()\n",
    "    word = values[0]\n",
    "    coefs = np.asarray(values[1:], dtype='float32')\n",
    "    embeddings_index[word] = coefs\n",
    "f.close()\n",
    "\n",
    "print('Found %s word vectors.' % len(embeddings_index))"
   ]
  },
  {
   "cell_type": "code",
   "execution_count": 344,
   "id": "6c98d9eb",
   "metadata": {
    "id": "6c98d9eb"
   },
   "outputs": [],
   "source": [
    "# Get the embedding matrix which is going to be put in the Embedding layer of the neural network architecture\n",
    "\n",
    "embedding_matrix = np.zeros((len(word_index) + 1, 200))\n",
    "for word, i in word_index.items():\n",
    "    embedding_vector = embeddings_index.get(word)\n",
    "    if embedding_vector is not None:\n",
    "        # words not found in embedding index will be all-zeros.\n",
    "        embedding_matrix[i] = embedding_vector"
   ]
  },
  {
   "cell_type": "code",
   "execution_count": 345,
   "id": "c80377ce",
   "metadata": {
    "id": "c80377ce"
   },
   "outputs": [],
   "source": [
    "# Create the keras Embedding layer with 10K words specifying that the weights here are not trainable\n",
    "# because we are using a pre-trained model (glove twitter words with 200 features)\n",
    "\n",
    "embedding_layer = Embedding(len(word_index) + 1,\n",
    "                            200,\n",
    "                            weights=[embedding_matrix],\n",
    "                            input_length=50,\n",
    "                            trainable=False)"
   ]
  },
  {
   "cell_type": "code",
   "execution_count": 346,
   "id": "14393354",
   "metadata": {},
   "outputs": [],
   "source": [
    "# Convert texts into some numeric sequences and make the length of all numeric sequences equal \n",
    "\n",
    "X_train_seq = tokenizer.texts_to_sequences(X_train) \n",
    "X_train_pad = pad_sequences(X_train_seq, maxlen = 50, padding = 'post') \n",
    "\n",
    "X_test_seq = tokenizer.texts_to_sequences(X_test)\n",
    "X_test_pad = pad_sequences(X_test_seq, maxlen = 50, padding = 'post')\n",
    "\n",
    "X_val_seq = tokenizer.texts_to_sequences(X_val)\n",
    "X_val_pad = pad_sequences(X_val_seq, maxlen = 50, padding = 'post')\n",
    "\n",
    "X_train_pad = np.array(X_train_pad)\n",
    "X_test_pad = np.array(X_test_pad)\n",
    "X_val_pad = np.array(X_val_pad)"
   ]
  },
  {
   "cell_type": "markdown",
   "id": "254b5fee",
   "metadata": {
    "id": "e39781ab"
   },
   "source": [
    "## 1. Model with Embedding and 3 LSTMs\n",
    "Note that if you have a GPU available, just specify **CuDNNLSTM** instead of **LSTM**. It does the same things but **5x** faster."
   ]
  },
  {
   "cell_type": "code",
   "execution_count": 347,
   "id": "c90c58f3",
   "metadata": {},
   "outputs": [],
   "source": [
    "# number of classes\n",
    "\n",
    "class_num = 4"
   ]
  },
  {
   "cell_type": "code",
   "execution_count": 380,
   "id": "a31c8ef9",
   "metadata": {
    "colab": {
     "base_uri": "https://localhost:8080/"
    },
    "id": "a31c8ef9",
    "outputId": "7b3d6298-c371-4c52-aa18-95cfb20d41ce"
   },
   "outputs": [
    {
     "name": "stdout",
     "output_type": "stream",
     "text": [
      "Model: \"sequential_11\"\n",
      "_________________________________________________________________\n",
      " Layer (type)                Output Shape              Param #   \n",
      "=================================================================\n",
      " embedding_1 (Embedding)     (None, 50, 200)           1639600   \n",
      "                                                                 \n",
      " dropout_27 (Dropout)        (None, 50, 200)           0         \n",
      "                                                                 \n",
      " bidirectional_21 (Bidirecti  (None, 50, 100)          100400    \n",
      " onal)                                                           \n",
      "                                                                 \n",
      " dropout_28 (Dropout)        (None, 50, 100)           0         \n",
      "                                                                 \n",
      " bidirectional_22 (Bidirecti  (None, 50, 200)          160800    \n",
      " onal)                                                           \n",
      "                                                                 \n",
      " dropout_29 (Dropout)        (None, 50, 200)           0         \n",
      "                                                                 \n",
      " bidirectional_23 (Bidirecti  (None, 100)              100400    \n",
      " onal)                                                           \n",
      "                                                                 \n",
      " dense_16 (Dense)            (None, 4)                 404       \n",
      "                                                                 \n",
      "=================================================================\n",
      "Total params: 2,001,604\n",
      "Trainable params: 362,004\n",
      "Non-trainable params: 1,639,600\n",
      "_________________________________________________________________\n"
     ]
    }
   ],
   "source": [
    "model = Sequential()\n",
    "model.add(embedding_layer)\n",
    "model.add(Dropout(0.2))\n",
    "model.add(Bidirectional(LSTM(50, \n",
    "                             return_sequences=True)))\n",
    "model.add(Dropout(0.2))\n",
    "model.add(Bidirectional(LSTM(100, \n",
    "                             return_sequences=True)))\n",
    "model.add(Dropout(0.2))\n",
    "model.add(Bidirectional(LSTM(50, \n",
    "                             return_sequences=False)))\n",
    "model.add(Dense(class_num, \n",
    "                activation = 'softmax'))\n",
    "\n",
    "model.compile(loss='categorical_crossentropy', optimizer='adam', metrics='accuracy')\n",
    "\n",
    "model.summary()"
   ]
  },
  {
   "cell_type": "code",
   "execution_count": 381,
   "id": "904ab567",
   "metadata": {
    "colab": {
     "base_uri": "https://localhost:8080/"
    },
    "id": "904ab567",
    "outputId": "9808624c-db7e-42f4-b8fe-9871350833cf"
   },
   "outputs": [
    {
     "name": "stdout",
     "output_type": "stream",
     "text": [
      "Epoch 1/20\n",
      "29/29 [==============================] - 16s 350ms/step - loss: 1.2644 - accuracy: 0.4085 - val_loss: 1.1168 - val_accuracy: 0.5562\n",
      "Epoch 2/20\n",
      "29/29 [==============================] - 12s 403ms/step - loss: 0.9988 - accuracy: 0.5929 - val_loss: 0.9361 - val_accuracy: 0.6715\n",
      "Epoch 3/20\n",
      "29/29 [==============================] - 12s 398ms/step - loss: 0.8525 - accuracy: 0.6640 - val_loss: 0.8424 - val_accuracy: 0.6888\n",
      "Epoch 4/20\n",
      "29/29 [==============================] - 12s 401ms/step - loss: 0.7346 - accuracy: 0.7241 - val_loss: 0.8292 - val_accuracy: 0.7032\n",
      "Epoch 5/20\n",
      "29/29 [==============================] - 12s 410ms/step - loss: 0.6860 - accuracy: 0.7351 - val_loss: 0.7288 - val_accuracy: 0.7233\n",
      "Epoch 6/20\n",
      "29/29 [==============================] - 12s 405ms/step - loss: 0.5894 - accuracy: 0.7813 - val_loss: 0.6990 - val_accuracy: 0.7493\n",
      "Epoch 7/20\n",
      "29/29 [==============================] - 12s 408ms/step - loss: 0.5313 - accuracy: 0.8049 - val_loss: 0.7332 - val_accuracy: 0.7291\n",
      "Epoch 8/20\n",
      "29/29 [==============================] - 12s 425ms/step - loss: 0.4807 - accuracy: 0.8231 - val_loss: 0.6637 - val_accuracy: 0.7464\n",
      "Epoch 9/20\n",
      "29/29 [==============================] - 12s 424ms/step - loss: 0.4231 - accuracy: 0.8467 - val_loss: 0.6581 - val_accuracy: 0.7752\n",
      "Epoch 10/20\n",
      "29/29 [==============================] - 12s 426ms/step - loss: 0.3888 - accuracy: 0.8566 - val_loss: 0.6856 - val_accuracy: 0.7723\n",
      "Epoch 11/20\n",
      "29/29 [==============================] - 12s 426ms/step - loss: 0.3519 - accuracy: 0.8721 - val_loss: 0.6762 - val_accuracy: 0.7493\n",
      "Epoch 12/20\n",
      "29/29 [==============================] - 12s 420ms/step - loss: 0.3282 - accuracy: 0.8840 - val_loss: 0.6404 - val_accuracy: 0.7810\n",
      "Epoch 13/20\n",
      "29/29 [==============================] - 13s 440ms/step - loss: 0.3032 - accuracy: 0.8932 - val_loss: 0.6329 - val_accuracy: 0.7752\n",
      "Epoch 14/20\n",
      "29/29 [==============================] - 12s 423ms/step - loss: 0.2491 - accuracy: 0.9145 - val_loss: 0.6579 - val_accuracy: 0.7608\n",
      "Epoch 15/20\n",
      "29/29 [==============================] - 12s 423ms/step - loss: 0.2510 - accuracy: 0.9114 - val_loss: 0.6934 - val_accuracy: 0.7723\n",
      "Epoch 16/20\n",
      "29/29 [==============================] - 12s 420ms/step - loss: 0.2243 - accuracy: 0.9200 - val_loss: 0.6575 - val_accuracy: 0.7781\n",
      "Epoch 17/20\n",
      "29/29 [==============================] - 12s 423ms/step - loss: 0.2122 - accuracy: 0.9206 - val_loss: 0.6474 - val_accuracy: 0.7925\n",
      "Epoch 18/20\n",
      "29/29 [==============================] - 12s 429ms/step - loss: 0.1650 - accuracy: 0.9405 - val_loss: 0.6778 - val_accuracy: 0.7896\n",
      "Epoch 19/20\n",
      "29/29 [==============================] - 12s 416ms/step - loss: 0.1681 - accuracy: 0.9386 - val_loss: 0.7928 - val_accuracy: 0.7550\n",
      "Epoch 20/20\n",
      "29/29 [==============================] - 12s 409ms/step - loss: 0.1611 - accuracy: 0.9410 - val_loss: 0.6198 - val_accuracy: 0.8127\n"
     ]
    }
   ],
   "source": [
    "history = model.fit(X_train_pad, \n",
    "                    y_train, \n",
    "                    epochs=20,\n",
    "                    batch_size=128,\n",
    "                    validation_data=(X_val_pad, y_val))"
   ]
  },
  {
   "cell_type": "code",
   "execution_count": 382,
   "id": "6961dc05",
   "metadata": {},
   "outputs": [
    {
     "data": {
      "image/png": "[encoded data removed]",
      "text/plain": [
       "<Figure size 432x288 with 1 Axes>"
      ]
     },
     "metadata": {
      "needs_background": "light"
     },
     "output_type": "display_data"
    },
    {
     "data": {
      "image/png": "[encoded data removed]",
      "text/plain": [
       "<Figure size 432x288 with 1 Axes>"
      ]
     },
     "metadata": {
      "needs_background": "light"
     },
     "output_type": "display_data"
    }
   ],
   "source": [
    "# call the function above defined to plot the training history among the epochs\n",
    "\n",
    "plot_history()"
   ]
  },
  {
   "cell_type": "code",
   "execution_count": 383,
   "id": "83ae499b",
   "metadata": {
    "colab": {
     "base_uri": "https://localhost:8080/"
    },
    "id": "83ae499b",
    "outputId": "2debee2d-9210-4de4-d9ff-d31f285a6773"
   },
   "outputs": [
    {
     "name": "stdout",
     "output_type": "stream",
     "text": [
      "              precision    recall  f1-score   support\n",
      "\n",
      "           0       0.77      0.85      0.80       688\n",
      "           1       0.82      0.77      0.80      1061\n",
      "           2       0.83      0.87      0.85       679\n",
      "           3       0.78      0.73      0.75       714\n",
      "\n",
      "    accuracy                           0.80      3142\n",
      "   macro avg       0.80      0.81      0.80      3142\n",
      "weighted avg       0.80      0.80      0.80      3142\n",
      "\n"
     ]
    }
   ],
   "source": [
    "y_pred = np.argmax(model.predict(X_test_pad), axis=1)\n",
    "y_true = np.argmax(y_test, axis=1)\n",
    "print(metrics.classification_report(y_pred, y_true))"
   ]
  },
  {
   "cell_type": "code",
   "execution_count": 384,
   "id": "6ae60ff4",
   "metadata": {},
   "outputs": [
    {
     "data": {
      "text/plain": [
       "<sklearn.metrics._plot.confusion_matrix.ConfusionMatrixDisplay at 0x7f85d94367c0>"
      ]
     },
     "execution_count": 384,
     "metadata": {},
     "output_type": "execute_result"
    },
    {
     "data": {
      "image/png": "[encoded data removed]",
      "text/plain": [
       "<Figure size 432x288 with 2 Axes>"
      ]
     },
     "metadata": {
      "needs_background": "light"
     },
     "output_type": "display_data"
    }
   ],
   "source": [
    "cm = ConfusionMatrixDisplay(confusion_matrix(y_pred, y_true))\n",
    "cm.plot()"
   ]
  },
  {
   "cell_type": "markdown",
   "id": "590cc0e8",
   "metadata": {},
   "source": [
    "## 2. Model with Embedding, Convolutional layer and LSTM"
   ]
  },
  {
   "cell_type": "code",
   "execution_count": 385,
   "id": "hKkULGA7VveR",
   "metadata": {
    "colab": {
     "base_uri": "https://localhost:8080/"
    },
    "id": "hKkULGA7VveR",
    "outputId": "f9e8b898-7421-4d81-dc18-9bdf7829cb4f"
   },
   "outputs": [
    {
     "name": "stdout",
     "output_type": "stream",
     "text": [
      "Model: \"sequential_12\"\n",
      "_________________________________________________________________\n",
      " Layer (type)                Output Shape              Param #   \n",
      "=================================================================\n",
      " embedding_1 (Embedding)     (None, 50, 200)           1639600   \n",
      "                                                                 \n",
      " conv1d_6 (Conv1D)           (None, 48, 128)           76928     \n",
      "                                                                 \n",
      " max_pooling1d_2 (MaxPooling  (None, 24, 128)          0         \n",
      " 1D)                                                             \n",
      "                                                                 \n",
      " lstm_28 (LSTM)              (None, 24, 200)           263200    \n",
      "                                                                 \n",
      " dropout_30 (Dropout)        (None, 24, 200)           0         \n",
      "                                                                 \n",
      " flatten_4 (Flatten)         (None, 4800)              0         \n",
      "                                                                 \n",
      " dense_17 (Dense)            (None, 100)               480100    \n",
      "                                                                 \n",
      " dropout_31 (Dropout)        (None, 100)               0         \n",
      "                                                                 \n",
      " dense_18 (Dense)            (None, 50)                5050      \n",
      "                                                                 \n",
      " dense_19 (Dense)            (None, 4)                 204       \n",
      "                                                                 \n",
      "=================================================================\n",
      "Total params: 2,465,082\n",
      "Trainable params: 825,482\n",
      "Non-trainable params: 1,639,600\n",
      "_________________________________________________________________\n"
     ]
    }
   ],
   "source": [
    "model = Sequential()\n",
    "model.add(embedding_layer)\n",
    "model.add(Conv1D(128, 3, activation=\"relu\"))\n",
    "model.add(MaxPooling1D(2))\n",
    "model.add(LSTM(200, return_sequences=True))\n",
    "model.add(Dropout(0.6))\n",
    "model.add(Flatten())\n",
    "model.add(Dense(100, activation='relu'))\n",
    "model.add(Dropout(0.5))\n",
    "model.add(Dense(50, activation='relu'))\n",
    "model.add(Dense(class_num, activation='softmax'))\n",
    "\n",
    "model.compile(loss='categorical_crossentropy', optimizer='adam', metrics='accuracy')\n",
    "\n",
    "model.summary()"
   ]
  },
  {
   "cell_type": "code",
   "execution_count": 386,
   "id": "a304cda2",
   "metadata": {
    "colab": {
     "base_uri": "https://localhost:8080/",
     "height": 664
    },
    "id": "a304cda2",
    "outputId": "3447de74-fed6-4d36-abf5-83d116b46fd0",
    "scrolled": true
   },
   "outputs": [
    {
     "name": "stdout",
     "output_type": "stream",
     "text": [
      "Epoch 1/20\n",
      "29/29 [==============================] - 4s 90ms/step - loss: 1.3114 - accuracy: 0.3767 - val_loss: 1.2783 - val_accuracy: 0.4150\n",
      "Epoch 2/20\n",
      "29/29 [==============================] - 2s 79ms/step - loss: 1.1210 - accuracy: 0.5004 - val_loss: 1.1097 - val_accuracy: 0.4841\n",
      "Epoch 3/20\n",
      "29/29 [==============================] - 2s 78ms/step - loss: 0.8188 - accuracy: 0.6823 - val_loss: 0.8672 - val_accuracy: 0.6542\n",
      "Epoch 4/20\n",
      "29/29 [==============================] - 2s 78ms/step - loss: 0.5705 - accuracy: 0.8013 - val_loss: 0.8673 - val_accuracy: 0.6801\n",
      "Epoch 5/20\n",
      "29/29 [==============================] - 3s 90ms/step - loss: 0.3897 - accuracy: 0.8688 - val_loss: 0.9027 - val_accuracy: 0.6974\n",
      "Epoch 6/20\n",
      "29/29 [==============================] - 3s 104ms/step - loss: 0.2629 - accuracy: 0.9078 - val_loss: 1.0998 - val_accuracy: 0.7147\n",
      "Epoch 7/20\n",
      "29/29 [==============================] - 3s 100ms/step - loss: 0.2144 - accuracy: 0.9341 - val_loss: 1.0233 - val_accuracy: 0.7262\n",
      "Epoch 8/20\n",
      "29/29 [==============================] - 3s 95ms/step - loss: 0.1642 - accuracy: 0.9502 - val_loss: 1.1578 - val_accuracy: 0.7061\n",
      "Epoch 9/20\n",
      "29/29 [==============================] - 3s 91ms/step - loss: 0.1314 - accuracy: 0.9621 - val_loss: 1.0419 - val_accuracy: 0.7522\n",
      "Epoch 10/20\n",
      "29/29 [==============================] - 3s 91ms/step - loss: 0.1374 - accuracy: 0.9613 - val_loss: 1.0489 - val_accuracy: 0.7320\n",
      "Epoch 11/20\n",
      "29/29 [==============================] - 3s 94ms/step - loss: 0.1067 - accuracy: 0.9732 - val_loss: 1.3041 - val_accuracy: 0.7579\n",
      "Epoch 12/20\n",
      "29/29 [==============================] - 3s 110ms/step - loss: 0.0889 - accuracy: 0.9779 - val_loss: 1.3492 - val_accuracy: 0.7291\n",
      "Epoch 13/20\n",
      "29/29 [==============================] - 3s 114ms/step - loss: 0.0791 - accuracy: 0.9759 - val_loss: 1.2878 - val_accuracy: 0.7493\n",
      "Epoch 14/20\n",
      "29/29 [==============================] - 3s 117ms/step - loss: 0.0689 - accuracy: 0.9762 - val_loss: 1.4046 - val_accuracy: 0.7493\n",
      "Epoch 15/20\n",
      "29/29 [==============================] - 4s 121ms/step - loss: 0.0710 - accuracy: 0.9773 - val_loss: 1.1929 - val_accuracy: 0.7522\n",
      "Epoch 16/20\n",
      "29/29 [==============================] - 4s 126ms/step - loss: 0.0958 - accuracy: 0.9682 - val_loss: 1.3294 - val_accuracy: 0.6859\n",
      "Epoch 17/20\n",
      "29/29 [==============================] - 4s 122ms/step - loss: 0.0922 - accuracy: 0.9679 - val_loss: 1.3529 - val_accuracy: 0.7349\n",
      "Epoch 18/20\n",
      "29/29 [==============================] - 3s 120ms/step - loss: 0.0722 - accuracy: 0.9776 - val_loss: 1.5077 - val_accuracy: 0.7291\n",
      "Epoch 19/20\n",
      "29/29 [==============================] - 3s 120ms/step - loss: 0.0597 - accuracy: 0.9795 - val_loss: 1.2863 - val_accuracy: 0.7464\n",
      "Epoch 20/20\n",
      "29/29 [==============================] - 4s 123ms/step - loss: 0.0414 - accuracy: 0.9826 - val_loss: 1.6802 - val_accuracy: 0.7349\n"
     ]
    }
   ],
   "source": [
    "history = model.fit(X_train_pad, \n",
    "                    y_train, \n",
    "                    epochs=20, \n",
    "                    batch_size=128,\n",
    "                    validation_data=(X_val_pad, y_val))"
   ]
  },
  {
   "cell_type": "code",
   "execution_count": 387,
   "id": "5b0bdefa",
   "metadata": {
    "colab": {
     "base_uri": "https://localhost:8080/",
     "height": 573
    },
    "id": "5b0bdefa",
    "outputId": "49b096da-2bb6-4f1c-c783-6ea12df51125"
   },
   "outputs": [
    {
     "data": {
      "image/png": "[encoded data removed]",
      "text/plain": [
       "<Figure size 432x288 with 1 Axes>"
      ]
     },
     "metadata": {
      "needs_background": "light"
     },
     "output_type": "display_data"
    },
    {
     "data": {
      "image/png": "[encoded data removed]",
      "text/plain": [
       "<Figure size 432x288 with 1 Axes>"
      ]
     },
     "metadata": {
      "needs_background": "light"
     },
     "output_type": "display_data"
    }
   ],
   "source": [
    "plot_history()"
   ]
  },
  {
   "cell_type": "code",
   "execution_count": 388,
   "id": "6e3ad9a9",
   "metadata": {
    "id": "6e3ad9a9"
   },
   "outputs": [
    {
     "name": "stdout",
     "output_type": "stream",
     "text": [
      "              precision    recall  f1-score   support\n",
      "\n",
      "           0       0.77      0.77      0.77       763\n",
      "           1       0.69      0.78      0.74       882\n",
      "           2       0.86      0.74      0.79       830\n",
      "           3       0.66      0.67      0.66       667\n",
      "\n",
      "    accuracy                           0.74      3142\n",
      "   macro avg       0.75      0.74      0.74      3142\n",
      "weighted avg       0.75      0.74      0.74      3142\n",
      "\n"
     ]
    }
   ],
   "source": [
    "y_pred = np.argmax(model.predict(X_test_pad), axis=1)\n",
    "y_true = np.argmax(y_test, axis=1)\n",
    "\n",
    "print(metrics.classification_report(y_pred, y_true))"
   ]
  },
  {
   "cell_type": "code",
   "execution_count": 389,
   "id": "a20bc2b5",
   "metadata": {},
   "outputs": [
    {
     "data": {
      "text/plain": [
       "<sklearn.metrics._plot.confusion_matrix.ConfusionMatrixDisplay at 0x7f85e27a61f0>"
      ]
     },
     "execution_count": 389,
     "metadata": {},
     "output_type": "execute_result"
    },
    {
     "data": {
      "image/png": "[encoded data removed]",
      "text/plain": [
       "<Figure size 432x288 with 2 Axes>"
      ]
     },
     "metadata": {
      "needs_background": "light"
     },
     "output_type": "display_data"
    }
   ],
   "source": [
    "cm = ConfusionMatrixDisplay(confusion_matrix(y_pred, y_true))\n",
    "cm.plot()"
   ]
  },
  {
   "cell_type": "markdown",
   "id": "c264b1be",
   "metadata": {},
   "source": [
    "## 3. Model with LSTM and Convvolutional layers"
   ]
  },
  {
   "cell_type": "code",
   "execution_count": 358,
   "id": "5dc8617d",
   "metadata": {
    "id": "5dc8617d"
   },
   "outputs": [
    {
     "name": "stdout",
     "output_type": "stream",
     "text": [
      "Model: \"sequential_5\"\n",
      "_________________________________________________________________\n",
      " Layer (type)                Output Shape              Param #   \n",
      "=================================================================\n",
      " embedding_1 (Embedding)     (None, 50, 200)           1639600   \n",
      "                                                                 \n",
      " lstm_10 (LSTM)              (None, 50, 100)           120400    \n",
      "                                                                 \n",
      " dropout_12 (Dropout)        (None, 50, 100)           0         \n",
      "                                                                 \n",
      " conv1d_4 (Conv1D)           (None, 15, 128)           89728     \n",
      "                                                                 \n",
      " conv1d_5 (Conv1D)           (None, 3, 128)            114816    \n",
      "                                                                 \n",
      " global_max_pooling1d_1 (Glo  (None, 128)              0         \n",
      " balMaxPooling1D)                                                \n",
      "                                                                 \n",
      " flatten_3 (Flatten)         (None, 128)               0         \n",
      "                                                                 \n",
      " dense_10 (Dense)            (None, 128)               16512     \n",
      "                                                                 \n",
      " dense_11 (Dense)            (None, 4)                 516       \n",
      "                                                                 \n",
      "=================================================================\n",
      "Total params: 1,981,572\n",
      "Trainable params: 341,972\n",
      "Non-trainable params: 1,639,600\n",
      "_________________________________________________________________\n"
     ]
    }
   ],
   "source": [
    "model = Sequential()\n",
    "model.add(embedding_layer)\n",
    "model.add(LSTM(100, return_sequences=True))\n",
    "model.add(Dropout(0.2))\n",
    "model.add(Conv1D(128, 7, padding=\"valid\", activation=\"relu\", strides=3))\n",
    "model.add(Conv1D(128, 7, padding=\"valid\", activation=\"relu\", strides=3))\n",
    "model.add(GlobalMaxPooling1D())\n",
    "model.add(Flatten())\n",
    "#model.add(Dropout(0.2))\n",
    "model.add(Dense(128,activation='relu'))\n",
    "model.add(Dense(class_num, activation='softmax'))\n",
    "\n",
    "model.compile(loss='categorical_crossentropy', optimizer='adam', metrics='accuracy')\n",
    "\n",
    "model.summary()"
   ]
  },
  {
   "cell_type": "code",
   "execution_count": 359,
   "id": "7dc7e03e",
   "metadata": {
    "id": "7dc7e03e"
   },
   "outputs": [
    {
     "name": "stdout",
     "output_type": "stream",
     "text": [
      "Epoch 1/20\n",
      "29/29 [==============================] - 5s 130ms/step - loss: 1.2373 - accuracy: 0.4343 - val_loss: 1.1146 - val_accuracy: 0.5476\n",
      "Epoch 2/20\n",
      "29/29 [==============================] - 3s 114ms/step - loss: 0.9027 - accuracy: 0.6396 - val_loss: 0.9176 - val_accuracy: 0.6369\n",
      "Epoch 3/20\n",
      "29/29 [==============================] - 3s 114ms/step - loss: 0.7237 - accuracy: 0.7191 - val_loss: 0.8452 - val_accuracy: 0.6830\n",
      "Epoch 4/20\n",
      "29/29 [==============================] - 3s 114ms/step - loss: 0.5766 - accuracy: 0.7805 - val_loss: 0.8085 - val_accuracy: 0.7003\n",
      "Epoch 5/20\n",
      "29/29 [==============================] - 3s 117ms/step - loss: 0.4608 - accuracy: 0.8262 - val_loss: 0.8200 - val_accuracy: 0.7233\n",
      "Epoch 6/20\n",
      "29/29 [==============================] - 3s 118ms/step - loss: 0.3553 - accuracy: 0.8660 - val_loss: 0.8251 - val_accuracy: 0.7579\n",
      "Epoch 7/20\n",
      "29/29 [==============================] - 3s 118ms/step - loss: 0.2700 - accuracy: 0.9006 - val_loss: 0.9018 - val_accuracy: 0.7406\n",
      "Epoch 8/20\n",
      "29/29 [==============================] - 4s 121ms/step - loss: 0.2431 - accuracy: 0.9034 - val_loss: 0.9617 - val_accuracy: 0.6974\n",
      "Epoch 9/20\n",
      "29/29 [==============================] - 4s 120ms/step - loss: 0.1833 - accuracy: 0.9386 - val_loss: 0.9468 - val_accuracy: 0.7464\n",
      "Epoch 10/20\n",
      "29/29 [==============================] - 4s 121ms/step - loss: 0.1389 - accuracy: 0.9529 - val_loss: 1.0406 - val_accuracy: 0.7291\n",
      "Epoch 11/20\n",
      "29/29 [==============================] - 4s 122ms/step - loss: 0.1085 - accuracy: 0.9637 - val_loss: 1.2488 - val_accuracy: 0.7061\n",
      "Epoch 12/20\n",
      "29/29 [==============================] - 4s 121ms/step - loss: 0.0907 - accuracy: 0.9684 - val_loss: 1.1493 - val_accuracy: 0.7233\n",
      "Epoch 13/20\n",
      "29/29 [==============================] - 4s 122ms/step - loss: 0.0950 - accuracy: 0.9687 - val_loss: 1.1327 - val_accuracy: 0.7522\n",
      "Epoch 14/20\n",
      "29/29 [==============================] - 4s 122ms/step - loss: 0.0849 - accuracy: 0.9709 - val_loss: 1.3438 - val_accuracy: 0.7176\n",
      "Epoch 15/20\n",
      "29/29 [==============================] - 4s 123ms/step - loss: 0.0831 - accuracy: 0.9698 - val_loss: 1.2577 - val_accuracy: 0.7176\n",
      "Epoch 16/20\n",
      "29/29 [==============================] - 4s 123ms/step - loss: 0.0742 - accuracy: 0.9745 - val_loss: 1.3087 - val_accuracy: 0.7176\n",
      "Epoch 17/20\n",
      "29/29 [==============================] - 4s 127ms/step - loss: 0.0670 - accuracy: 0.9768 - val_loss: 1.2921 - val_accuracy: 0.7406\n",
      "Epoch 18/20\n",
      "29/29 [==============================] - 4s 126ms/step - loss: 0.0505 - accuracy: 0.9776 - val_loss: 1.5108 - val_accuracy: 0.7378\n",
      "Epoch 19/20\n",
      "29/29 [==============================] - 4s 125ms/step - loss: 0.0702 - accuracy: 0.9720 - val_loss: 1.4304 - val_accuracy: 0.7032\n",
      "Epoch 20/20\n",
      "29/29 [==============================] - 4s 126ms/step - loss: 0.0621 - accuracy: 0.9759 - val_loss: 1.3188 - val_accuracy: 0.7262\n"
     ]
    }
   ],
   "source": [
    "history = model.fit(X_train_pad, \n",
    "                    y_train, \n",
    "                    epochs=20, \n",
    "                    batch_size=128,\n",
    "                    validation_data=(X_val_pad, y_val))"
   ]
  },
  {
   "cell_type": "code",
   "execution_count": 360,
   "id": "179c8467",
   "metadata": {
    "id": "179c8467"
   },
   "outputs": [
    {
     "data": {
      "image/png": "[encoded data removed]",
      "text/plain": [
       "<Figure size 432x288 with 1 Axes>"
      ]
     },
     "metadata": {
      "needs_background": "light"
     },
     "output_type": "display_data"
    },
    {
     "data": {
      "image/png": "[encoded data removed]",
      "text/plain": [
       "<Figure size 432x288 with 1 Axes>"
      ]
     },
     "metadata": {
      "needs_background": "light"
     },
     "output_type": "display_data"
    }
   ],
   "source": [
    "plot_history()"
   ]
  },
  {
   "cell_type": "code",
   "execution_count": 361,
   "id": "8424577f",
   "metadata": {},
   "outputs": [
    {
     "name": "stdout",
     "output_type": "stream",
     "text": [
      "              precision    recall  f1-score   support\n",
      "\n",
      "           0       0.81      0.75      0.78       820\n",
      "           1       0.66      0.81      0.73       807\n",
      "           2       0.82      0.83      0.82       706\n",
      "           3       0.77      0.64      0.70       809\n",
      "\n",
      "    accuracy                           0.75      3142\n",
      "   macro avg       0.76      0.76      0.76      3142\n",
      "weighted avg       0.76      0.75      0.75      3142\n",
      "\n"
     ]
    }
   ],
   "source": [
    "y_pred = np.argmax(model.predict(X_test_pad), axis=1)\n",
    "y_true = np.argmax(y_test, axis=1)\n",
    "\n",
    "print(metrics.classification_report(y_pred, y_true))"
   ]
  },
  {
   "cell_type": "code",
   "execution_count": 362,
   "id": "f36f68b6",
   "metadata": {},
   "outputs": [
    {
     "data": {
      "text/plain": [
       "<sklearn.metrics._plot.confusion_matrix.ConfusionMatrixDisplay at 0x7f85ca09f820>"
      ]
     },
     "execution_count": 362,
     "metadata": {},
     "output_type": "execute_result"
    },
    {
     "data": {
      "image/png": "[encoded data removed]",
      "text/plain": [
       "<Figure size 432x288 with 2 Axes>"
      ]
     },
     "metadata": {
      "needs_background": "light"
     },
     "output_type": "display_data"
    }
   ],
   "source": [
    "cm = ConfusionMatrixDisplay(confusion_matrix(y_pred, y_true))\n",
    "cm.plot()"
   ]
  },
  {
   "cell_type": "code",
   "execution_count": null,
   "id": "ad4aab2f",
   "metadata": {
    "id": "ad4aab2f"
   },
   "outputs": [],
   "source": []
  },
  {
   "cell_type": "code",
   "execution_count": null,
   "id": "a0175de4",
   "metadata": {
    "id": "a0175de4"
   },
   "outputs": [],
   "source": []
  },
  {
   "cell_type": "code",
   "execution_count": null,
   "id": "7df34285",
   "metadata": {
    "id": "7df34285"
   },
   "outputs": [],
   "source": []
  },
  {
   "cell_type": "code",
   "execution_count": null,
   "id": "d751d5d3",
   "metadata": {
    "id": "d751d5d3"
   },
   "outputs": [],
   "source": []
  },
  {
   "cell_type": "code",
   "execution_count": null,
   "id": "0bca3563",
   "metadata": {
    "id": "0bca3563"
   },
   "outputs": [],
   "source": []
  }
 ],
 "metadata": {
  "accelerator": "GPU",
  "colab": {
   "collapsed_sections": [
    "3699cf52"
   ],
   "name": "text_mining.ipynb",
   "provenance": []
  },
  "kernelspec": {
   "display_name": "Python 3 (ipykernel)",
   "language": "python",
   "name": "python3"
  },
  "language_info": {
   "codemirror_mode": {
    "name": "ipython",
    "version": 3
   },
   "file_extension": ".py",
   "mimetype": "text/x-python",
   "name": "python",
   "nbconvert_exporter": "python",
   "pygments_lexer": "ipython3",
   "version": "3.8.5"
  },
  "latex_envs": {
   "LaTeX_envs_menu_present": true,
   "autoclose": false,
   "autocomplete": true,
   "bibliofile": "biblio.bib",
   "cite_by": "apalike",
   "current_citInitial": 1,
   "eqLabelWithNumbers": true,
   "eqNumInitial": 1,
   "hotkeys": {
    "equation": "Ctrl-E",
    "itemize": "Ctrl-I"
   },
   "labels_anchors": false,
   "latex_user_defs": false,
   "report_style_numbering": false,
   "user_envs_cfg": false
  }
 },
 "nbformat": 4,
 "nbformat_minor": 5
}
