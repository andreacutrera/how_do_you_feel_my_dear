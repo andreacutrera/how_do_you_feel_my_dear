{
  "cells": [
    {
      "cell_type": "markdown",
      "id": "276fbc01",
      "metadata": {
        "id": "276fbc01"
      },
      "source": [
        "# How do you feel my dear? (P8)"
      ]
    },
    {
      "cell_type": "markdown",
      "id": "caa40ff8",
      "metadata": {
        "id": "caa40ff8"
      },
      "source": [
        "## Andrea Pio Cutrera - 965591\n",
        "### Università degli Studi di Milano - _Data Science and Economics_"
      ]
    },
    {
      "cell_type": "markdown",
      "id": "48d1ff10",
      "metadata": {
        "id": "48d1ff10"
      },
      "source": [
        "**Text Mining and Sentiment Analysis**\n",
        "\n",
        "Recently, **emotion detection in text** has received attention in the literature on **sentiment analysis**. Detecting emotions is important for studying human communication in different domains, including fictional scripts for TV series and movies. The project aims at studying fictional scripts of several movies and TV series under the emotional profile. In particular, the task of the project is threefold:\n",
        "\n",
        "1. Create a **model to predict emotions in text** using available datasets as EmoBank or WASSA-2017 or Emotion Detection from Text as training sets (see below);\n",
        "2. Emotions may be represented either as **categorical classes** or in a continuous space such as Valence-Arousal-Dominance (see for example Warriner, A. B., Kuperman, V., & Brysbaert, M. (2013). Norms of valence, arousal, and dominance for 13,915 English lemmas. Behavior research methods, 45(4), 1191-1207.)\n",
        "3. Exploit the model to **study an emotional profile** of the **main characters** in **one of the movies** included in the Cornell Movie--Dialogs Corpus;\n",
        "4. Study how this **emotional profile changes in time along** the evolution of the movie story and how it is affected by the various relations among the different characters."
      ]
    },
    {
      "cell_type": "markdown",
      "id": "cd913b95",
      "metadata": {
        "id": "cd913b95"
      },
      "source": [
        "### Import all the libraries we need"
      ]
    },
    {
      "cell_type": "code",
      "execution_count": 1,
      "id": "2b148f22",
      "metadata": {
        "colab": {
          "base_uri": "https://localhost:8080/"
        },
        "id": "2b148f22",
        "outputId": "5fe1df0f-3071-4fcf-8f16-f1c166eeb24c"
      },
      "outputs": [
        {
          "output_type": "stream",
          "name": "stdout",
          "text": [
            "Collecting neattext\n",
            "  Downloading neattext-0.1.3-py3-none-any.whl (114 kB)\n",
            "\u001b[?25l\r\u001b[K     |██▉                             | 10 kB 28.0 MB/s eta 0:00:01\r\u001b[K     |█████▊                          | 20 kB 18.7 MB/s eta 0:00:01\r\u001b[K     |████████▋                       | 30 kB 14.9 MB/s eta 0:00:01\r\u001b[K     |███████████▍                    | 40 kB 13.5 MB/s eta 0:00:01\r\u001b[K     |██████████████▎                 | 51 kB 6.2 MB/s eta 0:00:01\r\u001b[K     |█████████████████▏              | 61 kB 7.3 MB/s eta 0:00:01\r\u001b[K     |████████████████████            | 71 kB 7.4 MB/s eta 0:00:01\r\u001b[K     |██████████████████████▉         | 81 kB 7.6 MB/s eta 0:00:01\r\u001b[K     |█████████████████████████▊      | 92 kB 8.5 MB/s eta 0:00:01\r\u001b[K     |████████████████████████████▋   | 102 kB 6.9 MB/s eta 0:00:01\r\u001b[K     |███████████████████████████████▍| 112 kB 6.9 MB/s eta 0:00:01\r\u001b[K     |████████████████████████████████| 114 kB 6.9 MB/s \n",
            "\u001b[?25hInstalling collected packages: neattext\n",
            "Successfully installed neattext-0.1.3\n",
            "Collecting demoji\n",
            "  Downloading demoji-1.1.0-py3-none-any.whl (42 kB)\n",
            "\u001b[K     |████████████████████████████████| 42 kB 863 kB/s \n",
            "\u001b[?25hInstalling collected packages: demoji\n",
            "Successfully installed demoji-1.1.0\n"
          ]
        },
        {
          "output_type": "stream",
          "name": "stderr",
          "text": [
            "/usr/local/lib/python3.7/dist-packages/ipykernel_launcher.py:19: FutureWarning: The demoji.download_codes attribute is deprecated and will be removed from demoji in a future version. It is an unused attribute as emoji codes are now distributed directly with the demoji package.\n"
          ]
        },
        {
          "output_type": "stream",
          "name": "stdout",
          "text": [
            "[nltk_data] Downloading package wordnet to /root/nltk_data...\n",
            "[nltk_data]   Unzipping corpora/wordnet.zip.\n",
            "Collecting keras-tuner\n",
            "  Downloading keras_tuner-1.1.2-py3-none-any.whl (133 kB)\n",
            "\u001b[K     |████████████████████████████████| 133 kB 6.6 MB/s \n",
            "\u001b[?25hCollecting kt-legacy\n",
            "  Downloading kt_legacy-1.0.4-py3-none-any.whl (9.6 kB)\n",
            "Requirement already satisfied: tensorboard in /usr/local/lib/python3.7/dist-packages (from keras-tuner) (2.8.0)\n",
            "Requirement already satisfied: numpy in /usr/local/lib/python3.7/dist-packages (from keras-tuner) (1.21.6)\n",
            "Requirement already satisfied: requests in /usr/local/lib/python3.7/dist-packages (from keras-tuner) (2.23.0)\n",
            "Requirement already satisfied: ipython in /usr/local/lib/python3.7/dist-packages (from keras-tuner) (5.5.0)\n",
            "Requirement already satisfied: packaging in /usr/local/lib/python3.7/dist-packages (from keras-tuner) (21.3)\n",
            "Requirement already satisfied: simplegeneric>0.8 in /usr/local/lib/python3.7/dist-packages (from ipython->keras-tuner) (0.8.1)\n",
            "Requirement already satisfied: prompt-toolkit<2.0.0,>=1.0.4 in /usr/local/lib/python3.7/dist-packages (from ipython->keras-tuner) (1.0.18)\n",
            "Requirement already satisfied: traitlets>=4.2 in /usr/local/lib/python3.7/dist-packages (from ipython->keras-tuner) (5.1.1)\n",
            "Requirement already satisfied: pexpect in /usr/local/lib/python3.7/dist-packages (from ipython->keras-tuner) (4.8.0)\n",
            "Requirement already satisfied: decorator in /usr/local/lib/python3.7/dist-packages (from ipython->keras-tuner) (4.4.2)\n",
            "Requirement already satisfied: setuptools>=18.5 in /usr/local/lib/python3.7/dist-packages (from ipython->keras-tuner) (57.4.0)\n",
            "Requirement already satisfied: pygments in /usr/local/lib/python3.7/dist-packages (from ipython->keras-tuner) (2.6.1)\n",
            "Requirement already satisfied: pickleshare in /usr/local/lib/python3.7/dist-packages (from ipython->keras-tuner) (0.7.5)\n",
            "Requirement already satisfied: six>=1.9.0 in /usr/local/lib/python3.7/dist-packages (from prompt-toolkit<2.0.0,>=1.0.4->ipython->keras-tuner) (1.15.0)\n",
            "Requirement already satisfied: wcwidth in /usr/local/lib/python3.7/dist-packages (from prompt-toolkit<2.0.0,>=1.0.4->ipython->keras-tuner) (0.2.5)\n",
            "Requirement already satisfied: pyparsing!=3.0.5,>=2.0.2 in /usr/local/lib/python3.7/dist-packages (from packaging->keras-tuner) (3.0.8)\n",
            "Requirement already satisfied: ptyprocess>=0.5 in /usr/local/lib/python3.7/dist-packages (from pexpect->ipython->keras-tuner) (0.7.0)\n",
            "Requirement already satisfied: urllib3!=1.25.0,!=1.25.1,<1.26,>=1.21.1 in /usr/local/lib/python3.7/dist-packages (from requests->keras-tuner) (1.24.3)\n",
            "Requirement already satisfied: chardet<4,>=3.0.2 in /usr/local/lib/python3.7/dist-packages (from requests->keras-tuner) (3.0.4)\n",
            "Requirement already satisfied: idna<3,>=2.5 in /usr/local/lib/python3.7/dist-packages (from requests->keras-tuner) (2.10)\n",
            "Requirement already satisfied: certifi>=2017.4.17 in /usr/local/lib/python3.7/dist-packages (from requests->keras-tuner) (2021.10.8)\n",
            "Requirement already satisfied: tensorboard-plugin-wit>=1.6.0 in /usr/local/lib/python3.7/dist-packages (from tensorboard->keras-tuner) (1.8.1)\n",
            "Requirement already satisfied: google-auth<3,>=1.6.3 in /usr/local/lib/python3.7/dist-packages (from tensorboard->keras-tuner) (1.35.0)\n",
            "Requirement already satisfied: grpcio>=1.24.3 in /usr/local/lib/python3.7/dist-packages (from tensorboard->keras-tuner) (1.44.0)\n",
            "Requirement already satisfied: tensorboard-data-server<0.7.0,>=0.6.0 in /usr/local/lib/python3.7/dist-packages (from tensorboard->keras-tuner) (0.6.1)\n",
            "Requirement already satisfied: werkzeug>=0.11.15 in /usr/local/lib/python3.7/dist-packages (from tensorboard->keras-tuner) (1.0.1)\n",
            "Requirement already satisfied: absl-py>=0.4 in /usr/local/lib/python3.7/dist-packages (from tensorboard->keras-tuner) (1.0.0)\n",
            "Requirement already satisfied: wheel>=0.26 in /usr/local/lib/python3.7/dist-packages (from tensorboard->keras-tuner) (0.37.1)\n",
            "Requirement already satisfied: markdown>=2.6.8 in /usr/local/lib/python3.7/dist-packages (from tensorboard->keras-tuner) (3.3.6)\n",
            "Requirement already satisfied: protobuf>=3.6.0 in /usr/local/lib/python3.7/dist-packages (from tensorboard->keras-tuner) (3.17.3)\n",
            "Requirement already satisfied: google-auth-oauthlib<0.5,>=0.4.1 in /usr/local/lib/python3.7/dist-packages (from tensorboard->keras-tuner) (0.4.6)\n",
            "Requirement already satisfied: rsa<5,>=3.1.4 in /usr/local/lib/python3.7/dist-packages (from google-auth<3,>=1.6.3->tensorboard->keras-tuner) (4.8)\n",
            "Requirement already satisfied: pyasn1-modules>=0.2.1 in /usr/local/lib/python3.7/dist-packages (from google-auth<3,>=1.6.3->tensorboard->keras-tuner) (0.2.8)\n",
            "Requirement already satisfied: cachetools<5.0,>=2.0.0 in /usr/local/lib/python3.7/dist-packages (from google-auth<3,>=1.6.3->tensorboard->keras-tuner) (4.2.4)\n",
            "Requirement already satisfied: requests-oauthlib>=0.7.0 in /usr/local/lib/python3.7/dist-packages (from google-auth-oauthlib<0.5,>=0.4.1->tensorboard->keras-tuner) (1.3.1)\n",
            "Requirement already satisfied: importlib-metadata>=4.4 in /usr/local/lib/python3.7/dist-packages (from markdown>=2.6.8->tensorboard->keras-tuner) (4.11.3)\n",
            "Requirement already satisfied: typing-extensions>=3.6.4 in /usr/local/lib/python3.7/dist-packages (from importlib-metadata>=4.4->markdown>=2.6.8->tensorboard->keras-tuner) (4.1.1)\n",
            "Requirement already satisfied: zipp>=0.5 in /usr/local/lib/python3.7/dist-packages (from importlib-metadata>=4.4->markdown>=2.6.8->tensorboard->keras-tuner) (3.8.0)\n",
            "Requirement already satisfied: pyasn1<0.5.0,>=0.4.6 in /usr/local/lib/python3.7/dist-packages (from pyasn1-modules>=0.2.1->google-auth<3,>=1.6.3->tensorboard->keras-tuner) (0.4.8)\n",
            "Requirement already satisfied: oauthlib>=3.0.0 in /usr/local/lib/python3.7/dist-packages (from requests-oauthlib>=0.7.0->google-auth-oauthlib<0.5,>=0.4.1->tensorboard->keras-tuner) (3.2.0)\n",
            "Installing collected packages: kt-legacy, keras-tuner\n",
            "Successfully installed keras-tuner-1.1.2 kt-legacy-1.0.4\n"
          ]
        },
        {
          "output_type": "stream",
          "name": "stderr",
          "text": [
            "/usr/local/lib/python3.7/dist-packages/ipykernel_launcher.py:34: DeprecationWarning: `import kerastuner` is deprecated, please use `import keras_tuner`.\n"
          ]
        }
      ],
      "source": [
        "import os\n",
        "import re\n",
        "import numpy as np\n",
        "import pandas as pd\n",
        "import matplotlib.pyplot as plt\n",
        "from google.colab import drive\n",
        "\n",
        "!pip install neattext\n",
        "import neattext.functions as nfx\n",
        "\n",
        "from sklearn.utils import shuffle\n",
        "from sklearn.model_selection import train_test_split, KFold\n",
        "from sklearn.preprocessing import LabelEncoder\n",
        "from sklearn import metrics\n",
        "from sklearn.metrics import confusion_matrix, ConfusionMatrixDisplay\n",
        "\n",
        "!pip install demoji\n",
        "import demoji\n",
        "demoji.download_codes()\n",
        "\n",
        "import nltk\n",
        "nltk.download('wordnet')\n",
        "from nltk.tokenize import TweetTokenizer\n",
        "from nltk.stem import WordNetLemmatizer\n",
        "from nltk.tokenize.treebank import TreebankWordDetokenizer\n",
        "\n",
        "from keras.preprocessing.text import Tokenizer\n",
        "from keras.preprocessing.sequence import pad_sequences\n",
        "from tensorflow.keras.utils import to_categorical\n",
        "\n",
        "from tensorflow.keras.models import Sequential, model_from_json\n",
        "from tensorflow.keras.layers import Dense, LSTM, Embedding, Bidirectional, Dropout, Input, Conv1D, MaxPooling1D, Flatten, GlobalMaxPooling1D\n",
        "!pip install keras-tuner --upgrade\n",
        "from kerastuner.tuners import RandomSearch, Hyperband\n",
        "from kerastuner.engine.hyperparameters import HyperParameters\n",
        "import tensorflow as tf\n",
        "\n",
        "from tensorflow.compat.v1.keras.layers import CuDNNLSTM\n",
        "\n",
        "import warnings \n",
        "warnings.filterwarnings(\"ignore\")\n",
        "\n",
        "# to plot accuracy of neural nets training\n",
        "def plot_history():\n",
        "    # summarize history for accuracy\n",
        "    plt.plot(history.history['accuracy'])\n",
        "    plt.plot(history.history['val_accuracy'])\n",
        "    plt.title('model accuracy')\n",
        "    plt.ylabel('accuracy')\n",
        "    plt.xlabel('epoch')\n",
        "    plt.legend(['train', 'test'], loc='upper left')\n",
        "    plt.show()\n",
        "    # summarize history for loss\n",
        "    plt.plot(history.history['loss'])\n",
        "    plt.plot(history.history['val_loss'])\n",
        "    plt.title('model loss')\n",
        "    plt.ylabel('loss')\n",
        "    plt.xlabel('epoch')\n",
        "    plt.legend(['train', 'test'], loc='upper left')\n",
        "    plt.show()"
      ]
    },
    {
      "cell_type": "markdown",
      "id": "49567a89",
      "metadata": {
        "id": "49567a89"
      },
      "source": [
        "### Dataset: WASSA-2017 Shared Task on Emotion Intensity (EmoInt)\n",
        "link: http://saifmohammad.com/WebPages/EmotionIntensity-SharedTask.html\n",
        "\n",
        "- With the commands below you can get a folder with all the data they provide\n",
        "1. Train, Development and Test data for each of the 4 emotions\n",
        "2. Emotions are: **anger**, **fear**, **joy** and **sadness**"
      ]
    },
    {
      "cell_type": "code",
      "execution_count": 2,
      "id": "295dc5fb",
      "metadata": {
        "colab": {
          "base_uri": "https://localhost:8080/"
        },
        "id": "295dc5fb",
        "outputId": "33366663-a2dd-42ad-d7c1-3f2926d8f8ed"
      },
      "outputs": [
        {
          "output_type": "stream",
          "name": "stdout",
          "text": [
            "  % Total    % Received % Xferd  Average Speed   Time    Time     Time  Current\n",
            "                                 Dload  Upload   Total   Spent    Left  Speed\n",
            "100 95686  100 95686    0     0   227k      0 --:--:-- --:--:-- --:--:--  227k\n",
            "  % Total    % Received % Xferd  Average Speed   Time    Time     Time  Current\n",
            "                                 Dload  Upload   Total   Spent    Left  Speed\n",
            "100  130k  100  130k    0     0   362k      0 --:--:-- --:--:-- --:--:--  361k\n",
            "  % Total    % Received % Xferd  Average Speed   Time    Time     Time  Current\n",
            "                                 Dload  Upload   Total   Spent    Left  Speed\n",
            "100 92266  100 92266    0     0   309k      0 --:--:-- --:--:-- --:--:--  309k\n",
            "  % Total    % Received % Xferd  Average Speed   Time    Time     Time  Current\n",
            "                                 Dload  Upload   Total   Spent    Left  Speed\n",
            "100 92977  100 92977    0     0   313k      0 --:--:-- --:--:-- --:--:--  312k\n",
            "  % Total    % Received % Xferd  Average Speed   Time    Time     Time  Current\n",
            "                                 Dload  Upload   Total   Spent    Left  Speed\n",
            "100  9687  100  9687    0     0  56319      0 --:--:-- --:--:-- --:--:-- 56319\n",
            "  % Total    % Received % Xferd  Average Speed   Time    Time     Time  Current\n",
            "                                 Dload  Upload   Total   Spent    Left  Speed\n",
            "100 12903  100 12903    0     0  81664      0 --:--:-- --:--:-- --:--:-- 81664\n",
            "  % Total    % Received % Xferd  Average Speed   Time    Time     Time  Current\n",
            "                                 Dload  Upload   Total   Spent    Left  Speed\n",
            "100  8744  100  8744    0     0  40294      0 --:--:-- --:--:-- --:--:-- 40110\n",
            "  % Total    % Received % Xferd  Average Speed   Time    Time     Time  Current\n",
            "                                 Dload  Upload   Total   Spent    Left  Speed\n",
            "100  9043  100  9043    0     0  46374      0 --:--:-- --:--:-- --:--:-- 46374\n",
            "  % Total    % Received % Xferd  Average Speed   Time    Time     Time  Current\n",
            "                                 Dload  Upload   Total   Spent    Left  Speed\n",
            "100 87266  100 87266    0     0   259k      0 --:--:-- --:--:-- --:--:--  259k\n",
            "  % Total    % Received % Xferd  Average Speed   Time    Time     Time  Current\n",
            "                                 Dload  Upload   Total   Spent    Left  Speed\n",
            "100  111k  100  111k    0     0   311k      0 --:--:-- --:--:-- --:--:--  311k\n",
            "  % Total    % Received % Xferd  Average Speed   Time    Time     Time  Current\n",
            "                                 Dload  Upload   Total   Spent    Left  Speed\n",
            "100 80025  100 80025    0     0   284k      0 --:--:-- --:--:-- --:--:--  283k\n",
            "  % Total    % Received % Xferd  Average Speed   Time    Time     Time  Current\n",
            "                                 Dload  Upload   Total   Spent    Left  Speed\n",
            "100 78906  100 78906    0     0   255k      0 --:--:-- --:--:-- --:--:--  255k\n"
          ]
        }
      ],
      "source": [
        "!mkdir emotions # create a folder called emotions\n",
        "\n",
        "# training data\n",
        "!curl -O http://saifmohammad.com/WebDocs/EmoInt%20Train%20Data/anger-ratings-0to1.train.txt\n",
        "!mv anger-ratings-0to1.train.txt emotions/anger_train # move and change name\n",
        "\n",
        "!curl -O http://saifmohammad.com/WebDocs/EmoInt%20Train%20Data/fear-ratings-0to1.train.txt\n",
        "!mv fear-ratings-0to1.train.txt emotions/fear_train # move and change name\n",
        "\n",
        "!curl -O http://saifmohammad.com/WebDocs/EmoInt%20Train%20Data/joy-ratings-0to1.train.txt\n",
        "!mv joy-ratings-0to1.train.txt emotions/joy_train # move and change name\n",
        "\n",
        "!curl -O http://saifmohammad.com/WebDocs/EmoInt%20Train%20Data/sadness-ratings-0to1.train.txt\n",
        "!mv sadness-ratings-0to1.train.txt emotions/sadness_train # move and change name\n",
        "\n",
        "# validation data\n",
        "!curl -O http://saifmohammad.com/WebDocs/EmoInt%20Dev%20Data%20With%20Gold/anger-ratings-0to1.dev.gold.txt\n",
        "!mv anger-ratings-0to1.dev.gold.txt emotions/anger_val # move and change name\n",
        "\n",
        "!curl -O http://saifmohammad.com/WebDocs/EmoInt%20Dev%20Data%20With%20Gold/fear-ratings-0to1.dev.gold.txt\n",
        "!mv fear-ratings-0to1.dev.gold.txt emotions/fear_val # move and change name\n",
        "\n",
        "!curl -O http://saifmohammad.com/WebDocs/EmoInt%20Dev%20Data%20With%20Gold/joy-ratings-0to1.dev.gold.txt\n",
        "!mv joy-ratings-0to1.dev.gold.txt emotions/joy_val # move and change name\n",
        "\n",
        "!curl -O http://saifmohammad.com/WebDocs/EmoInt%20Dev%20Data%20With%20Gold/sadness-ratings-0to1.dev.gold.txt\n",
        "!mv sadness-ratings-0to1.dev.gold.txt emotions/sadness_val # move and change name\n",
        "\n",
        "# testing data\n",
        "!curl -O http://saifmohammad.com/WebDocs/EmoInt%20Test%20Gold%20Data/anger-ratings-0to1.test.gold.txt\n",
        "!mv anger-ratings-0to1.test.gold.txt emotions/anger_test # move and change name\n",
        "\n",
        "!curl -O http://saifmohammad.com/WebDocs/EmoInt%20Test%20Gold%20Data/fear-ratings-0to1.test.gold.txt\n",
        "!mv fear-ratings-0to1.test.gold.txt emotions/fear_test # move and change name\n",
        "\n",
        "!curl -O http://saifmohammad.com/WebDocs/EmoInt%20Test%20Gold%20Data/joy-ratings-0to1.test.gold.txt\n",
        "!mv joy-ratings-0to1.test.gold.txt emotions/joy_test # move and change name\n",
        "\n",
        "!curl -O http://saifmohammad.com/WebDocs/EmoInt%20Test%20Gold%20Data/sadness-ratings-0to1.test.gold.txt\n",
        "!mv sadness-ratings-0to1.test.gold.txt emotions/sadness_test # move and change name"
      ]
    },
    {
      "cell_type": "code",
      "execution_count": 3,
      "id": "b78929c3",
      "metadata": {
        "colab": {
          "base_uri": "https://localhost:8080/",
          "height": 37
        },
        "id": "b78929c3",
        "outputId": "2afbc9d8-9517-46cc-868f-b7a0c09b3d56"
      },
      "outputs": [
        {
          "output_type": "execute_result",
          "data": {
            "text/plain": [
              "'/content'"
            ],
            "application/vnd.google.colaboratory.intrinsic+json": {
              "type": "string"
            }
          },
          "metadata": {},
          "execution_count": 3
        }
      ],
      "source": [
        "working_directory = !pwd                 # get present working directory\n",
        "working_directory = working_directory[0] # get the full string \n",
        "working_directory"
      ]
    },
    {
      "cell_type": "code",
      "execution_count": 4,
      "id": "0c4f01e7",
      "metadata": {
        "id": "0c4f01e7",
        "colab": {
          "base_uri": "https://localhost:8080/",
          "height": 37
        },
        "outputId": "729171e7-beae-4904-cb96-173ae74f3cfa"
      },
      "outputs": [
        {
          "output_type": "execute_result",
          "data": {
            "text/plain": [
              "'/content/emotions'"
            ],
            "application/vnd.google.colaboratory.intrinsic+json": {
              "type": "string"
            }
          },
          "metadata": {},
          "execution_count": 4
        }
      ],
      "source": [
        "DIR = working_directory + \"/emotions\"    # go inside the folder created\n",
        "#CATEGORIES = [\"joy\", \"sadness\", \"fear\", \"anger\"]\n",
        "DIR"
      ]
    },
    {
      "cell_type": "code",
      "execution_count": 5,
      "id": "6101bb19",
      "metadata": {
        "id": "6101bb19"
      },
      "outputs": [],
      "source": [
        "# load in variables the data just downloaded\n",
        "\n",
        "joy_train = pd.read_csv(os.path.join(DIR, \"joy_train\"), sep=\"\\t\", header=None)\n",
        "sadness_train = pd.read_csv(os.path.join(DIR, \"sadness_train\"), sep=\"\\t\", header=None)\n",
        "fear_train = pd.read_csv(os.path.join(DIR, \"fear_train\"), sep=\"\\t\", header=None)\n",
        "anger_train = pd.read_csv(os.path.join(DIR, \"anger_train\"), sep=\"\\t\", header=None)\n",
        "\n",
        "joy_val = pd.read_csv(os.path.join(DIR, \"joy_val\"), sep=\"\\t\", header=None)\n",
        "sadness_val = pd.read_csv(os.path.join(DIR, \"sadness_val\"), sep=\"\\t\", header=None)\n",
        "fear_val = pd.read_csv(os.path.join(DIR, \"fear_val\"), sep=\"\\t\", header=None)\n",
        "anger_val = pd.read_csv(os.path.join(DIR, \"anger_val\"), sep=\"\\t\", header=None)\n",
        "\n",
        "joy_test = pd.read_csv(os.path.join(DIR, \"joy_test\"), sep=\"\\t\", header=None)\n",
        "sadness_test = pd.read_csv(os.path.join(DIR, \"sadness_test\"), sep=\"\\t\", header=None)\n",
        "fear_test = pd.read_csv(os.path.join(DIR, \"fear_test\"), sep=\"\\t\", header=None)\n",
        "anger_test = pd.read_csv(os.path.join(DIR, \"anger_test\"), sep=\"\\t\", header=None)"
      ]
    },
    {
      "cell_type": "code",
      "execution_count": 6,
      "id": "34043d16",
      "metadata": {
        "colab": {
          "base_uri": "https://localhost:8080/"
        },
        "id": "34043d16",
        "outputId": "3ab4b7d0-d96c-47e5-af5e-5b7c6c3618d9"
      },
      "outputs": [
        {
          "output_type": "stream",
          "name": "stdout",
          "text": [
            "(823, 4) (786, 4) (1147, 4) (857, 4)\n"
          ]
        }
      ],
      "source": [
        "print(joy_train.shape, sadness_train.shape, fear_train.shape, anger_train.shape)"
      ]
    },
    {
      "cell_type": "code",
      "execution_count": 7,
      "id": "7e3ebd77",
      "metadata": {
        "colab": {
          "base_uri": "https://localhost:8080/"
        },
        "id": "7e3ebd77",
        "outputId": "ce05ec3a-c01c-48c4-9bce-22c4ffe3dc18"
      },
      "outputs": [
        {
          "output_type": "stream",
          "name": "stdout",
          "text": [
            "(79, 4) (74, 4) (110, 4) (84, 4)\n"
          ]
        }
      ],
      "source": [
        "print(joy_val.shape, sadness_val.shape, fear_val.shape, anger_val.shape)"
      ]
    },
    {
      "cell_type": "code",
      "execution_count": 8,
      "id": "c423eb09",
      "metadata": {
        "colab": {
          "base_uri": "https://localhost:8080/"
        },
        "id": "c423eb09",
        "outputId": "89a4608b-cfcd-49dd-b30d-145d5efa504e"
      },
      "outputs": [
        {
          "output_type": "stream",
          "name": "stdout",
          "text": [
            "(714, 4) (673, 4) (995, 4) (760, 4)\n"
          ]
        }
      ],
      "source": [
        "print(joy_test.shape, sadness_test.shape, fear_test.shape, anger_test.shape)"
      ]
    },
    {
      "cell_type": "code",
      "execution_count": 9,
      "id": "034b1303",
      "metadata": {
        "id": "034b1303"
      },
      "outputs": [],
      "source": [
        "# rename columns all in the same way to get homogeneous datasets which could be concatenated\n",
        "\n",
        "joy_train.rename(columns={0: 'id', 1: 'text', 2: 'sentiment', 3: 'j'}, inplace=True)\n",
        "joy_train['s'] = 0\n",
        "joy_train['a'] = 0\n",
        "joy_train['f'] = 0\n",
        "joy_train = joy_train[['id', 'text', 'sentiment', 'j', 's', 'f', 'a']]\n",
        "\n",
        "joy_val.rename(columns={0: 'id', 1: 'text', 2: 'sentiment', 3: 'j'}, inplace=True)\n",
        "joy_val['s'] = 0\n",
        "joy_val['a'] = 0\n",
        "joy_val['f'] = 0\n",
        "joy_val = joy_val[['id', 'text', 'sentiment', 'j', 's', 'f', 'a']]\n",
        "\n",
        "joy_test.rename(columns={0: 'id', 1: 'text', 2: 'sentiment', 3: 'j'}, inplace=True)\n",
        "joy_test['s'] = 0\n",
        "joy_test['a'] = 0\n",
        "joy_test['f'] = 0\n",
        "joy_test = joy_test[['id', 'text', 'sentiment', 'j', 's', 'f', 'a']]\n",
        "\n",
        "sadness_train.rename(columns={0: 'id', 1: 'text', 2: 'sentiment', 3: 's'}, inplace=True)\n",
        "sadness_train['j'] = 0\n",
        "sadness_train['a'] = 0\n",
        "sadness_train['f'] = 0\n",
        "sadness_train = sadness_train[['id', 'text', 'sentiment', 'j', 's', 'f', 'a']]\n",
        "\n",
        "sadness_val.rename(columns={0: 'id', 1: 'text', 2: 'sentiment', 3: 's'}, inplace=True)\n",
        "sadness_val['j'] = 0\n",
        "sadness_val['a'] = 0\n",
        "sadness_val['f'] = 0\n",
        "sadness_val = sadness_val[['id', 'text', 'sentiment', 'j', 's', 'f', 'a']]\n",
        "\n",
        "sadness_test.rename(columns={0: 'id', 1: 'text', 2: 'sentiment', 3: 's'}, inplace=True)\n",
        "sadness_test['j'] = 0\n",
        "sadness_test['a'] = 0\n",
        "sadness_test['f'] = 0\n",
        "sadness_test = sadness_test[['id', 'text', 'sentiment', 'j', 's', 'f', 'a']]\n",
        "\n",
        "anger_train.rename(columns={0: 'id', 1: 'text', 2: 'sentiment', 3: 'a'}, inplace=True)\n",
        "anger_train['j'] = 0\n",
        "anger_train['s'] = 0\n",
        "anger_train['f'] = 0\n",
        "anger_train = anger_train[['id', 'text', 'sentiment', 'j', 's', 'f', 'a']]\n",
        "\n",
        "anger_val.rename(columns={0: 'id', 1: 'text', 2: 'sentiment', 3: 'a'}, inplace=True)\n",
        "anger_val['j'] = 0\n",
        "anger_val['s'] = 0\n",
        "anger_val['f'] = 0\n",
        "anger_val = anger_val[['id', 'text', 'sentiment', 'j', 's', 'f', 'a']]\n",
        "\n",
        "anger_test.rename(columns={0: 'id', 1: 'text', 2: 'sentiment', 3: 'a'}, inplace=True)\n",
        "anger_test['j'] = 0\n",
        "anger_test['s'] = 0\n",
        "anger_test['f'] = 0\n",
        "anger_test = anger_test[['id', 'text', 'sentiment', 'j', 's', 'f', 'a']]\n",
        "\n",
        "fear_train.rename(columns={0: 'id', 1: 'text', 2: 'sentiment', 3: 'f'}, inplace=True)\n",
        "fear_train['j'] = 0\n",
        "fear_train['s'] = 0\n",
        "fear_train['a'] = 0\n",
        "fear_train = fear_train[['id', 'text', 'sentiment', 'j', 's', 'f', 'a']]\n",
        "\n",
        "fear_val.rename(columns={0: 'id', 1: 'text', 2: 'sentiment', 3: 'f'}, inplace=True)\n",
        "fear_val['j'] = 0\n",
        "fear_val['s'] = 0\n",
        "fear_val['a'] = 0\n",
        "fear_val = fear_val[['id', 'text', 'sentiment', 'j', 's', 'f', 'a']]\n",
        "\n",
        "fear_test.rename(columns={0: 'id', 1: 'text', 2: 'sentiment', 3: 'f'}, inplace=True)\n",
        "fear_test['j'] = 0\n",
        "fear_test['s'] = 0\n",
        "fear_test['a'] = 0\n",
        "fear_test = fear_test[['id', 'text', 'sentiment', 'j', 's', 'f', 'a']]"
      ]
    },
    {
      "cell_type": "code",
      "execution_count": 10,
      "id": "7776c527",
      "metadata": {
        "id": "7776c527"
      },
      "outputs": [],
      "source": [
        "# concatenate the datasets in order to get 3 separated datasets: train, test, validation\n",
        "\n",
        "data = pd.concat([joy_train,\n",
        "                  sadness_train,\n",
        "                  fear_train,\n",
        "                  anger_train,\n",
        "                  joy_test,\n",
        "                  sadness_test,\n",
        "                  fear_test,\n",
        "                  anger_test,\n",
        "                  joy_val,\n",
        "                  sadness_val,\n",
        "                  fear_val,\n",
        "                  anger_val])"
      ]
    },
    {
      "cell_type": "code",
      "execution_count": 11,
      "id": "41423893",
      "metadata": {
        "colab": {
          "base_uri": "https://localhost:8080/",
          "height": 111
        },
        "id": "41423893",
        "outputId": "52e057fb-0795-4140-f5b9-2aa7b94d3781"
      },
      "outputs": [
        {
          "output_type": "execute_result",
          "data": {
            "text/plain": [
              "      id                                               text sentiment      j  \\\n",
              "0  30000  Just got back from seeing @GaryDelaney in Burs...       joy  0.980   \n",
              "1  30001  Oh dear an evening of absolute hilarity I don'...       joy  0.958   \n",
              "\n",
              "     s    f    a  \n",
              "0  0.0  0.0  0.0  \n",
              "1  0.0  0.0  0.0  "
            ],
            "text/html": [
              "\n",
              "  <div id=\"df-79403e0f-2aed-4d15-9eaa-8369264df808\">\n",
              "    <div class=\"colab-df-container\">\n",
              "      <div>\n",
              "<style scoped>\n",
              "    .dataframe tbody tr th:only-of-type {\n",
              "        vertical-align: middle;\n",
              "    }\n",
              "\n",
              "    .dataframe tbody tr th {\n",
              "        vertical-align: top;\n",
              "    }\n",
              "\n",
              "    .dataframe thead th {\n",
              "        text-align: right;\n",
              "    }\n",
              "</style>\n",
              "<table border=\"1\" class=\"dataframe\">\n",
              "  <thead>\n",
              "    <tr style=\"text-align: right;\">\n",
              "      <th></th>\n",
              "      <th>id</th>\n",
              "      <th>text</th>\n",
              "      <th>sentiment</th>\n",
              "      <th>j</th>\n",
              "      <th>s</th>\n",
              "      <th>f</th>\n",
              "      <th>a</th>\n",
              "    </tr>\n",
              "  </thead>\n",
              "  <tbody>\n",
              "    <tr>\n",
              "      <th>0</th>\n",
              "      <td>30000</td>\n",
              "      <td>Just got back from seeing @GaryDelaney in Burs...</td>\n",
              "      <td>joy</td>\n",
              "      <td>0.980</td>\n",
              "      <td>0.0</td>\n",
              "      <td>0.0</td>\n",
              "      <td>0.0</td>\n",
              "    </tr>\n",
              "    <tr>\n",
              "      <th>1</th>\n",
              "      <td>30001</td>\n",
              "      <td>Oh dear an evening of absolute hilarity I don'...</td>\n",
              "      <td>joy</td>\n",
              "      <td>0.958</td>\n",
              "      <td>0.0</td>\n",
              "      <td>0.0</td>\n",
              "      <td>0.0</td>\n",
              "    </tr>\n",
              "  </tbody>\n",
              "</table>\n",
              "</div>\n",
              "      <button class=\"colab-df-convert\" onclick=\"convertToInteractive('df-79403e0f-2aed-4d15-9eaa-8369264df808')\"\n",
              "              title=\"Convert this dataframe to an interactive table.\"\n",
              "              style=\"display:none;\">\n",
              "        \n",
              "  <svg xmlns=\"http://www.w3.org/2000/svg\" height=\"24px\"viewBox=\"0 0 24 24\"\n",
              "       width=\"24px\">\n",
              "    <path d=\"M0 0h24v24H0V0z\" fill=\"none\"/>\n",
              "    <path d=\"M18.56 5.44l.94 2.06.94-2.06 2.06-.94-2.06-.94-.94-2.06-.94 2.06-2.06.94zm-11 1L8.5 8.5l.94-2.06 2.06-.94-2.06-.94L8.5 2.5l-.94 2.06-2.06.94zm10 10l.94 2.06.94-2.06 2.06-.94-2.06-.94-.94-2.06-.94 2.06-2.06.94z\"/><path d=\"M17.41 7.96l-1.37-1.37c-.4-.4-.92-.59-1.43-.59-.52 0-1.04.2-1.43.59L10.3 9.45l-7.72 7.72c-.78.78-.78 2.05 0 2.83L4 21.41c.39.39.9.59 1.41.59.51 0 1.02-.2 1.41-.59l7.78-7.78 2.81-2.81c.8-.78.8-2.07 0-2.86zM5.41 20L4 18.59l7.72-7.72 1.47 1.35L5.41 20z\"/>\n",
              "  </svg>\n",
              "      </button>\n",
              "      \n",
              "  <style>\n",
              "    .colab-df-container {\n",
              "      display:flex;\n",
              "      flex-wrap:wrap;\n",
              "      gap: 12px;\n",
              "    }\n",
              "\n",
              "    .colab-df-convert {\n",
              "      background-color: #E8F0FE;\n",
              "      border: none;\n",
              "      border-radius: 50%;\n",
              "      cursor: pointer;\n",
              "      display: none;\n",
              "      fill: #1967D2;\n",
              "      height: 32px;\n",
              "      padding: 0 0 0 0;\n",
              "      width: 32px;\n",
              "    }\n",
              "\n",
              "    .colab-df-convert:hover {\n",
              "      background-color: #E2EBFA;\n",
              "      box-shadow: 0px 1px 2px rgba(60, 64, 67, 0.3), 0px 1px 3px 1px rgba(60, 64, 67, 0.15);\n",
              "      fill: #174EA6;\n",
              "    }\n",
              "\n",
              "    [theme=dark] .colab-df-convert {\n",
              "      background-color: #3B4455;\n",
              "      fill: #D2E3FC;\n",
              "    }\n",
              "\n",
              "    [theme=dark] .colab-df-convert:hover {\n",
              "      background-color: #434B5C;\n",
              "      box-shadow: 0px 1px 3px 1px rgba(0, 0, 0, 0.15);\n",
              "      filter: drop-shadow(0px 1px 2px rgba(0, 0, 0, 0.3));\n",
              "      fill: #FFFFFF;\n",
              "    }\n",
              "  </style>\n",
              "\n",
              "      <script>\n",
              "        const buttonEl =\n",
              "          document.querySelector('#df-79403e0f-2aed-4d15-9eaa-8369264df808 button.colab-df-convert');\n",
              "        buttonEl.style.display =\n",
              "          google.colab.kernel.accessAllowed ? 'block' : 'none';\n",
              "\n",
              "        async function convertToInteractive(key) {\n",
              "          const element = document.querySelector('#df-79403e0f-2aed-4d15-9eaa-8369264df808');\n",
              "          const dataTable =\n",
              "            await google.colab.kernel.invokeFunction('convertToInteractive',\n",
              "                                                     [key], {});\n",
              "          if (!dataTable) return;\n",
              "\n",
              "          const docLinkHtml = 'Like what you see? Visit the ' +\n",
              "            '<a target=\"_blank\" href=https://colab.research.google.com/notebooks/data_table.ipynb>data table notebook</a>'\n",
              "            + ' to learn more about interactive tables.';\n",
              "          element.innerHTML = '';\n",
              "          dataTable['output_type'] = 'display_data';\n",
              "          await google.colab.output.renderOutput(dataTable, element);\n",
              "          const docLink = document.createElement('div');\n",
              "          docLink.innerHTML = docLinkHtml;\n",
              "          element.appendChild(docLink);\n",
              "        }\n",
              "      </script>\n",
              "    </div>\n",
              "  </div>\n",
              "  "
            ]
          },
          "metadata": {},
          "execution_count": 11
        }
      ],
      "source": [
        "data.head(2)"
      ]
    },
    {
      "cell_type": "code",
      "execution_count": 12,
      "id": "81455368",
      "metadata": {
        "colab": {
          "base_uri": "https://localhost:8080/"
        },
        "id": "81455368",
        "outputId": "73f0c9cf-2ff0-4fa5-a8e4-a1cad479c652"
      },
      "outputs": [
        {
          "output_type": "execute_result",
          "data": {
            "text/plain": [
              "(7102, 7)"
            ]
          },
          "metadata": {},
          "execution_count": 12
        }
      ],
      "source": [
        "data.shape"
      ]
    },
    {
      "cell_type": "markdown",
      "id": "292f76c9",
      "metadata": {
        "id": "292f76c9"
      },
      "source": [
        "### Now we start to clean up our texts"
      ]
    },
    {
      "cell_type": "code",
      "execution_count": 13,
      "id": "6c2cfcbe",
      "metadata": {
        "id": "6c2cfcbe"
      },
      "outputs": [],
      "source": [
        "# clean text functions\n",
        "# https://github.com/Jcharis/neattext/blob/master/neattext/functions/functions.py\n",
        "\n",
        "def clean_emoji_output(text):\n",
        "    return re.sub(\":\", \" \", text)\n",
        "\n",
        "def strip_lowercase(text):\n",
        "    return text.strip().lower()\n",
        "\n",
        "\n",
        "def clean_text(data):\n",
        "    data['clean_text'] = data['text'].apply(nfx.remove_emails)\n",
        "    data['clean_text'] = data['clean_text'].apply(nfx.remove_numbers)\n",
        "    data['clean_text'] = data['clean_text'].apply(nfx.remove_urls)\n",
        "    data['clean_text'] = data['clean_text'].apply(nfx.remove_userhandles)\n",
        "    data['clean_text'] = data['clean_text'].apply(demoji.replace_with_desc)\n",
        "    data['clean_text'] = data['clean_text'].apply(clean_emoji_output)\n",
        "    data['clean_text'] = data['clean_text'].apply(nfx.remove_special_characters)\n",
        "    data['clean_text'] = data['clean_text'].apply(nfx.remove_bad_quotes)\n",
        "    data['clean_text'] = data['clean_text'].apply(nfx.remove_html_tags)\n",
        "    data['clean_text'] = data['clean_text'].apply(nfx.remove_punctuations)\n",
        "    data['clean_text'] = data['clean_text'].apply(nfx.remove_stopwords)\n",
        "    data['clean_text'] = data['clean_text'].apply(nfx.remove_multiple_spaces)\n",
        "    data['clean_text'] = data['clean_text'].apply(strip_lowercase)"
      ]
    },
    {
      "cell_type": "code",
      "execution_count": 14,
      "id": "e1dc9fdb",
      "metadata": {
        "id": "e1dc9fdb"
      },
      "outputs": [],
      "source": [
        "# apply the functions above defined\n",
        "\n",
        "clean_text(data)"
      ]
    },
    {
      "cell_type": "code",
      "execution_count": 15,
      "id": "1f129671",
      "metadata": {
        "id": "1f129671"
      },
      "outputs": [],
      "source": [
        "# shuffle our data\n",
        "\n",
        "data = shuffle(data, random_state=42)"
      ]
    },
    {
      "cell_type": "markdown",
      "id": "2b22f6f6",
      "metadata": {
        "id": "2b22f6f6"
      },
      "source": [
        "### Tokenize the text we have cleaned in order to make a further normalization on words with the Lemmatizer"
      ]
    },
    {
      "cell_type": "code",
      "execution_count": 16,
      "id": "b5d5423c",
      "metadata": {
        "id": "b5d5423c"
      },
      "outputs": [],
      "source": [
        "# tokenize\n",
        "tt = TweetTokenizer()\n",
        "\n",
        "data['tokenize'] = data.clean_text.str.lower().apply(tt.tokenize)\n",
        "\n",
        "# lemmatize\n",
        "def lemmatize_text(text):\n",
        "    lemmatizer = WordNetLemmatizer()\n",
        "    return [lemmatizer.lemmatize(w) for w in text]\n",
        "    \n",
        "data['tokenize_lemmatized'] = data['tokenize'].apply(lemmatize_text)"
      ]
    },
    {
      "cell_type": "code",
      "execution_count": 17,
      "id": "5cf9b513",
      "metadata": {
        "colab": {
          "base_uri": "https://localhost:8080/",
          "height": 401
        },
        "id": "5cf9b513",
        "outputId": "c0bb6eb6-b0e1-40a4-de29-d3318c766ffe"
      },
      "outputs": [
        {
          "output_type": "execute_result",
          "data": {
            "text/plain": [
              "        id                                               text sentiment  \\\n",
              "100  11041  Nothing is more relentless than a dog begging ...     anger   \n",
              "120  40980  Ok it really just sunk in that I'm seeing the ...   sadness   \n",
              "350  41210  @MariamVeiszadeh #depressing it's so freaking ...   sadness   \n",
              "505  41365  I feel like a burden every day that I waste bu...   sadness   \n",
              "183  31085  @partydelightsUK it's 5679787. Cannot DM you a...       joy   \n",
              "\n",
              "         j      s    f      a  \\\n",
              "100  0.000  0.000  0.0  0.479   \n",
              "120  0.000  0.417  0.0  0.000   \n",
              "350  0.000  0.679  0.0  0.000   \n",
              "505  0.000  0.896  0.0  0.000   \n",
              "183  0.164  0.000  0.0  0.000   \n",
              "\n",
              "                                            clean_text  \\\n",
              "100                        relentless dog begging food   \n",
              "120  ok sunk im seeing goat hours wow face rolling ...   \n",
              "350                          depressing freaking close   \n",
              "505  feel like burden day waste dont know bc discou...   \n",
              "183          dm dont follow delight party fail letdown   \n",
              "\n",
              "                                              tokenize  \\\n",
              "100                   [relentless, dog, begging, food]   \n",
              "120  [ok, sunk, im, seeing, goat, hours, wow, face,...   \n",
              "350                      [depressing, freaking, close]   \n",
              "505  [feel, like, burden, day, waste, dont, know, b...   \n",
              "183  [dm, dont, follow, delight, party, fail, letdown]   \n",
              "\n",
              "                                   tokenize_lemmatized  \n",
              "100                   [relentless, dog, begging, food]  \n",
              "120  [ok, sunk, im, seeing, goat, hour, wow, face, ...  \n",
              "350                      [depressing, freaking, close]  \n",
              "505  [feel, like, burden, day, waste, dont, know, b...  \n",
              "183  [dm, dont, follow, delight, party, fail, letdown]  "
            ],
            "text/html": [
              "\n",
              "  <div id=\"df-7ed37818-1331-4424-b72d-8a279fe07318\">\n",
              "    <div class=\"colab-df-container\">\n",
              "      <div>\n",
              "<style scoped>\n",
              "    .dataframe tbody tr th:only-of-type {\n",
              "        vertical-align: middle;\n",
              "    }\n",
              "\n",
              "    .dataframe tbody tr th {\n",
              "        vertical-align: top;\n",
              "    }\n",
              "\n",
              "    .dataframe thead th {\n",
              "        text-align: right;\n",
              "    }\n",
              "</style>\n",
              "<table border=\"1\" class=\"dataframe\">\n",
              "  <thead>\n",
              "    <tr style=\"text-align: right;\">\n",
              "      <th></th>\n",
              "      <th>id</th>\n",
              "      <th>text</th>\n",
              "      <th>sentiment</th>\n",
              "      <th>j</th>\n",
              "      <th>s</th>\n",
              "      <th>f</th>\n",
              "      <th>a</th>\n",
              "      <th>clean_text</th>\n",
              "      <th>tokenize</th>\n",
              "      <th>tokenize_lemmatized</th>\n",
              "    </tr>\n",
              "  </thead>\n",
              "  <tbody>\n",
              "    <tr>\n",
              "      <th>100</th>\n",
              "      <td>11041</td>\n",
              "      <td>Nothing is more relentless than a dog begging ...</td>\n",
              "      <td>anger</td>\n",
              "      <td>0.000</td>\n",
              "      <td>0.000</td>\n",
              "      <td>0.0</td>\n",
              "      <td>0.479</td>\n",
              "      <td>relentless dog begging food</td>\n",
              "      <td>[relentless, dog, begging, food]</td>\n",
              "      <td>[relentless, dog, begging, food]</td>\n",
              "    </tr>\n",
              "    <tr>\n",
              "      <th>120</th>\n",
              "      <td>40980</td>\n",
              "      <td>Ok it really just sunk in that I'm seeing the ...</td>\n",
              "      <td>sadness</td>\n",
              "      <td>0.000</td>\n",
              "      <td>0.417</td>\n",
              "      <td>0.0</td>\n",
              "      <td>0.000</td>\n",
              "      <td>ok sunk im seeing goat hours wow face rolling ...</td>\n",
              "      <td>[ok, sunk, im, seeing, goat, hours, wow, face,...</td>\n",
              "      <td>[ok, sunk, im, seeing, goat, hour, wow, face, ...</td>\n",
              "    </tr>\n",
              "    <tr>\n",
              "      <th>350</th>\n",
              "      <td>41210</td>\n",
              "      <td>@MariamVeiszadeh #depressing it's so freaking ...</td>\n",
              "      <td>sadness</td>\n",
              "      <td>0.000</td>\n",
              "      <td>0.679</td>\n",
              "      <td>0.0</td>\n",
              "      <td>0.000</td>\n",
              "      <td>depressing freaking close</td>\n",
              "      <td>[depressing, freaking, close]</td>\n",
              "      <td>[depressing, freaking, close]</td>\n",
              "    </tr>\n",
              "    <tr>\n",
              "      <th>505</th>\n",
              "      <td>41365</td>\n",
              "      <td>I feel like a burden every day that I waste bu...</td>\n",
              "      <td>sadness</td>\n",
              "      <td>0.000</td>\n",
              "      <td>0.896</td>\n",
              "      <td>0.0</td>\n",
              "      <td>0.000</td>\n",
              "      <td>feel like burden day waste dont know bc discou...</td>\n",
              "      <td>[feel, like, burden, day, waste, dont, know, b...</td>\n",
              "      <td>[feel, like, burden, day, waste, dont, know, b...</td>\n",
              "    </tr>\n",
              "    <tr>\n",
              "      <th>183</th>\n",
              "      <td>31085</td>\n",
              "      <td>@partydelightsUK it's 5679787. Cannot DM you a...</td>\n",
              "      <td>joy</td>\n",
              "      <td>0.164</td>\n",
              "      <td>0.000</td>\n",
              "      <td>0.0</td>\n",
              "      <td>0.000</td>\n",
              "      <td>dm dont follow delight party fail letdown</td>\n",
              "      <td>[dm, dont, follow, delight, party, fail, letdown]</td>\n",
              "      <td>[dm, dont, follow, delight, party, fail, letdown]</td>\n",
              "    </tr>\n",
              "  </tbody>\n",
              "</table>\n",
              "</div>\n",
              "      <button class=\"colab-df-convert\" onclick=\"convertToInteractive('df-7ed37818-1331-4424-b72d-8a279fe07318')\"\n",
              "              title=\"Convert this dataframe to an interactive table.\"\n",
              "              style=\"display:none;\">\n",
              "        \n",
              "  <svg xmlns=\"http://www.w3.org/2000/svg\" height=\"24px\"viewBox=\"0 0 24 24\"\n",
              "       width=\"24px\">\n",
              "    <path d=\"M0 0h24v24H0V0z\" fill=\"none\"/>\n",
              "    <path d=\"M18.56 5.44l.94 2.06.94-2.06 2.06-.94-2.06-.94-.94-2.06-.94 2.06-2.06.94zm-11 1L8.5 8.5l.94-2.06 2.06-.94-2.06-.94L8.5 2.5l-.94 2.06-2.06.94zm10 10l.94 2.06.94-2.06 2.06-.94-2.06-.94-.94-2.06-.94 2.06-2.06.94z\"/><path d=\"M17.41 7.96l-1.37-1.37c-.4-.4-.92-.59-1.43-.59-.52 0-1.04.2-1.43.59L10.3 9.45l-7.72 7.72c-.78.78-.78 2.05 0 2.83L4 21.41c.39.39.9.59 1.41.59.51 0 1.02-.2 1.41-.59l7.78-7.78 2.81-2.81c.8-.78.8-2.07 0-2.86zM5.41 20L4 18.59l7.72-7.72 1.47 1.35L5.41 20z\"/>\n",
              "  </svg>\n",
              "      </button>\n",
              "      \n",
              "  <style>\n",
              "    .colab-df-container {\n",
              "      display:flex;\n",
              "      flex-wrap:wrap;\n",
              "      gap: 12px;\n",
              "    }\n",
              "\n",
              "    .colab-df-convert {\n",
              "      background-color: #E8F0FE;\n",
              "      border: none;\n",
              "      border-radius: 50%;\n",
              "      cursor: pointer;\n",
              "      display: none;\n",
              "      fill: #1967D2;\n",
              "      height: 32px;\n",
              "      padding: 0 0 0 0;\n",
              "      width: 32px;\n",
              "    }\n",
              "\n",
              "    .colab-df-convert:hover {\n",
              "      background-color: #E2EBFA;\n",
              "      box-shadow: 0px 1px 2px rgba(60, 64, 67, 0.3), 0px 1px 3px 1px rgba(60, 64, 67, 0.15);\n",
              "      fill: #174EA6;\n",
              "    }\n",
              "\n",
              "    [theme=dark] .colab-df-convert {\n",
              "      background-color: #3B4455;\n",
              "      fill: #D2E3FC;\n",
              "    }\n",
              "\n",
              "    [theme=dark] .colab-df-convert:hover {\n",
              "      background-color: #434B5C;\n",
              "      box-shadow: 0px 1px 3px 1px rgba(0, 0, 0, 0.15);\n",
              "      filter: drop-shadow(0px 1px 2px rgba(0, 0, 0, 0.3));\n",
              "      fill: #FFFFFF;\n",
              "    }\n",
              "  </style>\n",
              "\n",
              "      <script>\n",
              "        const buttonEl =\n",
              "          document.querySelector('#df-7ed37818-1331-4424-b72d-8a279fe07318 button.colab-df-convert');\n",
              "        buttonEl.style.display =\n",
              "          google.colab.kernel.accessAllowed ? 'block' : 'none';\n",
              "\n",
              "        async function convertToInteractive(key) {\n",
              "          const element = document.querySelector('#df-7ed37818-1331-4424-b72d-8a279fe07318');\n",
              "          const dataTable =\n",
              "            await google.colab.kernel.invokeFunction('convertToInteractive',\n",
              "                                                     [key], {});\n",
              "          if (!dataTable) return;\n",
              "\n",
              "          const docLinkHtml = 'Like what you see? Visit the ' +\n",
              "            '<a target=\"_blank\" href=https://colab.research.google.com/notebooks/data_table.ipynb>data table notebook</a>'\n",
              "            + ' to learn more about interactive tables.';\n",
              "          element.innerHTML = '';\n",
              "          dataTable['output_type'] = 'display_data';\n",
              "          await google.colab.output.renderOutput(dataTable, element);\n",
              "          const docLink = document.createElement('div');\n",
              "          docLink.innerHTML = docLinkHtml;\n",
              "          element.appendChild(docLink);\n",
              "        }\n",
              "      </script>\n",
              "    </div>\n",
              "  </div>\n",
              "  "
            ]
          },
          "metadata": {},
          "execution_count": 17
        }
      ],
      "source": [
        "data.head()"
      ]
    },
    {
      "cell_type": "markdown",
      "id": "72b27c08",
      "metadata": {
        "id": "72b27c08"
      },
      "source": [
        "### DeTokenize to get again a sequence of words as they were written, but with all our preprocessing applied"
      ]
    },
    {
      "cell_type": "code",
      "execution_count": 18,
      "id": "c0e250c3",
      "metadata": {
        "id": "c0e250c3"
      },
      "outputs": [],
      "source": [
        "# detokenize\n",
        "\n",
        "data['final_text'] = data.tokenize_lemmatized.apply(TreebankWordDetokenizer().detokenize)"
      ]
    },
    {
      "cell_type": "code",
      "execution_count": 19,
      "id": "95856b49",
      "metadata": {
        "colab": {
          "base_uri": "https://localhost:8080/",
          "height": 503
        },
        "id": "95856b49",
        "outputId": "11275397-1c10-44e2-9723-3ce020dd639a"
      },
      "outputs": [
        {
          "output_type": "execute_result",
          "data": {
            "text/plain": [
              "        id                                               text sentiment  \\\n",
              "159  31061                Be content .... Life is too short.        joy   \n",
              "191  21448  @bt_uk appointment booked between 1-6 today, w...      fear   \n",
              "226  21483  @Darren32895836 @FatimaFatwa it would be a gre...      fear   \n",
              "390  21647    quentin i sait aps dire eastpak i dit aspak msk      fear   \n",
              "37   40037  @Markgatiss I'm surrounded by those Trump vote...   sadness   \n",
              "\n",
              "         j      s      f    a  \\\n",
              "159  0.354  0.000  0.000  0.0   \n",
              "191  0.000  0.000  0.417  0.0   \n",
              "226  0.000  0.000  0.500  0.0   \n",
              "390  0.000  0.000  0.312  0.0   \n",
              "37   0.000  0.833  0.000  0.0   \n",
              "\n",
              "                                            clean_text  \\\n",
              "159                                 content life short   \n",
              "191  appointment booked today waited day showed req...   \n",
              "226        great opportunity settle globe fear wonders   \n",
              "390        quentin sait aps dire eastpak dit aspak msk   \n",
              "37   im surrounded trump voters youre right fucking...   \n",
              "\n",
              "                                              tokenize  \\\n",
              "159                             [content, life, short]   \n",
              "191  [appointment, booked, today, waited, day, show...   \n",
              "226  [great, opportunity, settle, globe, fear, wond...   \n",
              "390  [quentin, sait, aps, dire, eastpak, dit, aspak...   \n",
              "37   [im, surrounded, trump, voters, youre, right, ...   \n",
              "\n",
              "                                   tokenize_lemmatized  \\\n",
              "159                             [content, life, short]   \n",
              "191  [appointment, booked, today, waited, day, show...   \n",
              "226  [great, opportunity, settle, globe, fear, wonder]   \n",
              "390  [quentin, sait, aps, dire, eastpak, dit, aspak...   \n",
              "37   [im, surrounded, trump, voter, youre, right, f...   \n",
              "\n",
              "                                            final_text  \n",
              "159                                 content life short  \n",
              "191  appointment booked today waited day showed req...  \n",
              "226         great opportunity settle globe fear wonder  \n",
              "390        quentin sait aps dire eastpak dit aspak msk  \n",
              "37   im surrounded trump voter youre right fucking ...  "
            ],
            "text/html": [
              "\n",
              "  <div id=\"df-e7214769-26af-4f66-af01-83d26672cecc\">\n",
              "    <div class=\"colab-df-container\">\n",
              "      <div>\n",
              "<style scoped>\n",
              "    .dataframe tbody tr th:only-of-type {\n",
              "        vertical-align: middle;\n",
              "    }\n",
              "\n",
              "    .dataframe tbody tr th {\n",
              "        vertical-align: top;\n",
              "    }\n",
              "\n",
              "    .dataframe thead th {\n",
              "        text-align: right;\n",
              "    }\n",
              "</style>\n",
              "<table border=\"1\" class=\"dataframe\">\n",
              "  <thead>\n",
              "    <tr style=\"text-align: right;\">\n",
              "      <th></th>\n",
              "      <th>id</th>\n",
              "      <th>text</th>\n",
              "      <th>sentiment</th>\n",
              "      <th>j</th>\n",
              "      <th>s</th>\n",
              "      <th>f</th>\n",
              "      <th>a</th>\n",
              "      <th>clean_text</th>\n",
              "      <th>tokenize</th>\n",
              "      <th>tokenize_lemmatized</th>\n",
              "      <th>final_text</th>\n",
              "    </tr>\n",
              "  </thead>\n",
              "  <tbody>\n",
              "    <tr>\n",
              "      <th>159</th>\n",
              "      <td>31061</td>\n",
              "      <td>Be content .... Life is too short.</td>\n",
              "      <td>joy</td>\n",
              "      <td>0.354</td>\n",
              "      <td>0.000</td>\n",
              "      <td>0.000</td>\n",
              "      <td>0.0</td>\n",
              "      <td>content life short</td>\n",
              "      <td>[content, life, short]</td>\n",
              "      <td>[content, life, short]</td>\n",
              "      <td>content life short</td>\n",
              "    </tr>\n",
              "    <tr>\n",
              "      <th>191</th>\n",
              "      <td>21448</td>\n",
              "      <td>@bt_uk appointment booked between 1-6 today, w...</td>\n",
              "      <td>fear</td>\n",
              "      <td>0.000</td>\n",
              "      <td>0.000</td>\n",
              "      <td>0.417</td>\n",
              "      <td>0.0</td>\n",
              "      <td>appointment booked today waited day showed req...</td>\n",
              "      <td>[appointment, booked, today, waited, day, show...</td>\n",
              "      <td>[appointment, booked, today, waited, day, show...</td>\n",
              "      <td>appointment booked today waited day showed req...</td>\n",
              "    </tr>\n",
              "    <tr>\n",
              "      <th>226</th>\n",
              "      <td>21483</td>\n",
              "      <td>@Darren32895836 @FatimaFatwa it would be a gre...</td>\n",
              "      <td>fear</td>\n",
              "      <td>0.000</td>\n",
              "      <td>0.000</td>\n",
              "      <td>0.500</td>\n",
              "      <td>0.0</td>\n",
              "      <td>great opportunity settle globe fear wonders</td>\n",
              "      <td>[great, opportunity, settle, globe, fear, wond...</td>\n",
              "      <td>[great, opportunity, settle, globe, fear, wonder]</td>\n",
              "      <td>great opportunity settle globe fear wonder</td>\n",
              "    </tr>\n",
              "    <tr>\n",
              "      <th>390</th>\n",
              "      <td>21647</td>\n",
              "      <td>quentin i sait aps dire eastpak i dit aspak msk</td>\n",
              "      <td>fear</td>\n",
              "      <td>0.000</td>\n",
              "      <td>0.000</td>\n",
              "      <td>0.312</td>\n",
              "      <td>0.0</td>\n",
              "      <td>quentin sait aps dire eastpak dit aspak msk</td>\n",
              "      <td>[quentin, sait, aps, dire, eastpak, dit, aspak...</td>\n",
              "      <td>[quentin, sait, aps, dire, eastpak, dit, aspak...</td>\n",
              "      <td>quentin sait aps dire eastpak dit aspak msk</td>\n",
              "    </tr>\n",
              "    <tr>\n",
              "      <th>37</th>\n",
              "      <td>40037</td>\n",
              "      <td>@Markgatiss I'm surrounded by those Trump vote...</td>\n",
              "      <td>sadness</td>\n",
              "      <td>0.000</td>\n",
              "      <td>0.833</td>\n",
              "      <td>0.000</td>\n",
              "      <td>0.0</td>\n",
              "      <td>im surrounded trump voters youre right fucking...</td>\n",
              "      <td>[im, surrounded, trump, voters, youre, right, ...</td>\n",
              "      <td>[im, surrounded, trump, voter, youre, right, f...</td>\n",
              "      <td>im surrounded trump voter youre right fucking ...</td>\n",
              "    </tr>\n",
              "  </tbody>\n",
              "</table>\n",
              "</div>\n",
              "      <button class=\"colab-df-convert\" onclick=\"convertToInteractive('df-e7214769-26af-4f66-af01-83d26672cecc')\"\n",
              "              title=\"Convert this dataframe to an interactive table.\"\n",
              "              style=\"display:none;\">\n",
              "        \n",
              "  <svg xmlns=\"http://www.w3.org/2000/svg\" height=\"24px\"viewBox=\"0 0 24 24\"\n",
              "       width=\"24px\">\n",
              "    <path d=\"M0 0h24v24H0V0z\" fill=\"none\"/>\n",
              "    <path d=\"M18.56 5.44l.94 2.06.94-2.06 2.06-.94-2.06-.94-.94-2.06-.94 2.06-2.06.94zm-11 1L8.5 8.5l.94-2.06 2.06-.94-2.06-.94L8.5 2.5l-.94 2.06-2.06.94zm10 10l.94 2.06.94-2.06 2.06-.94-2.06-.94-.94-2.06-.94 2.06-2.06.94z\"/><path d=\"M17.41 7.96l-1.37-1.37c-.4-.4-.92-.59-1.43-.59-.52 0-1.04.2-1.43.59L10.3 9.45l-7.72 7.72c-.78.78-.78 2.05 0 2.83L4 21.41c.39.39.9.59 1.41.59.51 0 1.02-.2 1.41-.59l7.78-7.78 2.81-2.81c.8-.78.8-2.07 0-2.86zM5.41 20L4 18.59l7.72-7.72 1.47 1.35L5.41 20z\"/>\n",
              "  </svg>\n",
              "      </button>\n",
              "      \n",
              "  <style>\n",
              "    .colab-df-container {\n",
              "      display:flex;\n",
              "      flex-wrap:wrap;\n",
              "      gap: 12px;\n",
              "    }\n",
              "\n",
              "    .colab-df-convert {\n",
              "      background-color: #E8F0FE;\n",
              "      border: none;\n",
              "      border-radius: 50%;\n",
              "      cursor: pointer;\n",
              "      display: none;\n",
              "      fill: #1967D2;\n",
              "      height: 32px;\n",
              "      padding: 0 0 0 0;\n",
              "      width: 32px;\n",
              "    }\n",
              "\n",
              "    .colab-df-convert:hover {\n",
              "      background-color: #E2EBFA;\n",
              "      box-shadow: 0px 1px 2px rgba(60, 64, 67, 0.3), 0px 1px 3px 1px rgba(60, 64, 67, 0.15);\n",
              "      fill: #174EA6;\n",
              "    }\n",
              "\n",
              "    [theme=dark] .colab-df-convert {\n",
              "      background-color: #3B4455;\n",
              "      fill: #D2E3FC;\n",
              "    }\n",
              "\n",
              "    [theme=dark] .colab-df-convert:hover {\n",
              "      background-color: #434B5C;\n",
              "      box-shadow: 0px 1px 3px 1px rgba(0, 0, 0, 0.15);\n",
              "      filter: drop-shadow(0px 1px 2px rgba(0, 0, 0, 0.3));\n",
              "      fill: #FFFFFF;\n",
              "    }\n",
              "  </style>\n",
              "\n",
              "      <script>\n",
              "        const buttonEl =\n",
              "          document.querySelector('#df-e7214769-26af-4f66-af01-83d26672cecc button.colab-df-convert');\n",
              "        buttonEl.style.display =\n",
              "          google.colab.kernel.accessAllowed ? 'block' : 'none';\n",
              "\n",
              "        async function convertToInteractive(key) {\n",
              "          const element = document.querySelector('#df-e7214769-26af-4f66-af01-83d26672cecc');\n",
              "          const dataTable =\n",
              "            await google.colab.kernel.invokeFunction('convertToInteractive',\n",
              "                                                     [key], {});\n",
              "          if (!dataTable) return;\n",
              "\n",
              "          const docLinkHtml = 'Like what you see? Visit the ' +\n",
              "            '<a target=\"_blank\" href=https://colab.research.google.com/notebooks/data_table.ipynb>data table notebook</a>'\n",
              "            + ' to learn more about interactive tables.';\n",
              "          element.innerHTML = '';\n",
              "          dataTable['output_type'] = 'display_data';\n",
              "          await google.colab.output.renderOutput(dataTable, element);\n",
              "          const docLink = document.createElement('div');\n",
              "          docLink.innerHTML = docLinkHtml;\n",
              "          element.appendChild(docLink);\n",
              "        }\n",
              "      </script>\n",
              "    </div>\n",
              "  </div>\n",
              "  "
            ]
          },
          "metadata": {},
          "execution_count": 19
        }
      ],
      "source": [
        "data.tail()"
      ]
    },
    {
      "cell_type": "code",
      "execution_count": 20,
      "id": "9e3fd762",
      "metadata": {
        "colab": {
          "base_uri": "https://localhost:8080/",
          "height": 37
        },
        "id": "9e3fd762",
        "outputId": "576f2f64-9bce-4d87-9270-4f1960e1052d"
      },
      "outputs": [
        {
          "output_type": "execute_result",
          "data": {
            "text/plain": [
              "'english pundit afraid criticise'"
            ],
            "application/vnd.google.colaboratory.intrinsic+json": {
              "type": "string"
            }
          },
          "metadata": {},
          "execution_count": 20
        }
      ],
      "source": [
        "data.final_text.values[100]"
      ]
    },
    {
      "cell_type": "markdown",
      "id": "0342822c",
      "metadata": {
        "id": "0342822c"
      },
      "source": [
        "### Once we have cleaned our text, we can split our training texts from labels"
      ]
    },
    {
      "cell_type": "code",
      "execution_count": 21,
      "id": "05151678",
      "metadata": {
        "id": "05151678"
      },
      "outputs": [],
      "source": [
        "# train-validation-test split has been already done\n",
        "\n",
        "X_train, X_test, y_train, y_test = train_test_split(data.final_text,\n",
        "                                                    data.sentiment,\n",
        "                                                    test_size = 0.13,\n",
        "                                                    random_state = 42,\n",
        "                                                    stratify = data.sentiment)\n",
        "\n",
        "X_train, X_val, y_train, y_val = train_test_split(X_train,\n",
        "                                                  y_train,\n",
        "                                                  test_size = 0.14,\n",
        "                                                  random_state = 42,\n",
        "                                                  stratify = y_train)"
      ]
    },
    {
      "cell_type": "code",
      "execution_count": 22,
      "id": "ec6fd95a",
      "metadata": {
        "colab": {
          "base_uri": "https://localhost:8080/"
        },
        "id": "ec6fd95a",
        "outputId": "fe78eb26-dcb5-4658-d869-1e3082943b16"
      },
      "outputs": [
        {
          "output_type": "stream",
          "name": "stdout",
          "text": [
            "(5313,) (5313,) (924,) (924,) (865,) (865,)\n"
          ]
        }
      ],
      "source": [
        "print(X_train.shape,y_train.shape,X_test.shape,y_test.shape,X_val.shape,y_val.shape)"
      ]
    },
    {
      "cell_type": "code",
      "execution_count": 23,
      "id": "23f8d334",
      "metadata": {
        "colab": {
          "base_uri": "https://localhost:8080/"
        },
        "id": "23f8d334",
        "outputId": "2645dfee-9d86-4302-983a-88841bc38dc3"
      },
      "outputs": [
        {
          "output_type": "execute_result",
          "data": {
            "text/plain": [
              "172    dear future big brother player chase dick seas...\n",
              "61                       rooney shocking attempted cross\n",
              "482    good thing sick coughing like ab workout maybe...\n",
              "718    learning trust god quiet troubled amp restless...\n",
              "56     cant wait listen new single mystery new album ...\n",
              "Name: final_text, dtype: object"
            ]
          },
          "metadata": {},
          "execution_count": 23
        }
      ],
      "source": [
        "X_train.head()"
      ]
    },
    {
      "cell_type": "code",
      "execution_count": 24,
      "id": "da0e1229",
      "metadata": {
        "colab": {
          "base_uri": "https://localhost:8080/"
        },
        "id": "da0e1229",
        "outputId": "a8df2b81-4f99-4201-c8c3-df99f889ee19"
      },
      "outputs": [
        {
          "output_type": "execute_result",
          "data": {
            "text/plain": [
              "172      anger\n",
              "61        fear\n",
              "482        joy\n",
              "718    sadness\n",
              "56     sadness\n",
              "Name: sentiment, dtype: object"
            ]
          },
          "metadata": {},
          "execution_count": 24
        }
      ],
      "source": [
        "y_train.head()"
      ]
    },
    {
      "cell_type": "markdown",
      "id": "5d38c029",
      "metadata": {
        "id": "5d38c029"
      },
      "source": [
        "### Now encode our labels into numbers from 0 to 3, this would allow us to one-hot-encode them"
      ]
    },
    {
      "cell_type": "code",
      "execution_count": 25,
      "id": "ce1a7821",
      "metadata": {
        "id": "ce1a7821"
      },
      "outputs": [],
      "source": [
        "# numerical encoding of our labels\n",
        "\n",
        "label_encoder = LabelEncoder()\n",
        "\n",
        "y_train_enc = label_encoder.fit_transform(y_train)\n",
        "y_test_enc = label_encoder.fit_transform(y_test)\n",
        "y_val_enc = label_encoder.fit_transform(y_val)"
      ]
    },
    {
      "cell_type": "code",
      "execution_count": 26,
      "id": "73b6454e",
      "metadata": {
        "colab": {
          "base_uri": "https://localhost:8080/"
        },
        "id": "73b6454e",
        "outputId": "89474b72-ab81-4981-8ab5-89812f622f14"
      },
      "outputs": [
        {
          "output_type": "stream",
          "name": "stdout",
          "text": [
            "599       fear\n",
            "528        joy\n",
            "131    sadness\n",
            "445      anger\n",
            "Name: sentiment, dtype: object\n",
            "[1 2 3 0]\n"
          ]
        }
      ],
      "source": [
        "# alphabetical order\n",
        "# 0: anger\n",
        "# 1: fear\n",
        "# 2: joy\n",
        "# 3: sadness\n",
        "\n",
        "print(y_train[29:33])\n",
        "print(y_train_enc[29:33])"
      ]
    },
    {
      "cell_type": "code",
      "execution_count": 27,
      "id": "993a2f91",
      "metadata": {
        "colab": {
          "base_uri": "https://localhost:8080/"
        },
        "id": "993a2f91",
        "outputId": "311262b7-3c93-4c32-f635-ce6a7b6816e1"
      },
      "outputs": [
        {
          "output_type": "execute_result",
          "data": {
            "text/plain": [
              "array([[0., 1., 0., 0.],\n",
              "       [0., 0., 1., 0.],\n",
              "       [0., 0., 0., 1.],\n",
              "       [1., 0., 0., 0.]], dtype=float32)"
            ]
          },
          "metadata": {},
          "execution_count": 27
        }
      ],
      "source": [
        "# one-hot-encode them\n",
        "\n",
        "y_train = to_categorical(y_train_enc)\n",
        "y_val = to_categorical(y_val_enc)\n",
        "y_test = to_categorical(y_test_enc)\n",
        "\n",
        "y_train[29:33]"
      ]
    },
    {
      "cell_type": "code",
      "execution_count": 28,
      "id": "6d776c29",
      "metadata": {
        "colab": {
          "base_uri": "https://localhost:8080/"
        },
        "id": "6d776c29",
        "outputId": "71dee0d7-6f58-43f3-8f94-5b80b706c83d"
      },
      "outputs": [
        {
          "output_type": "execute_result",
          "data": {
            "text/plain": [
              "172    dear future big brother player chase dick seas...\n",
              "61                       rooney shocking attempted cross\n",
              "482    good thing sick coughing like ab workout maybe...\n",
              "718    learning trust god quiet troubled amp restless...\n",
              "56     cant wait listen new single mystery new album ...\n",
              "                             ...                        \n",
              "214    amazing get stuck head cant shake memory miss ...\n",
              "273    ok movie good time whilst young face tear joy ...\n",
              "555             dont discouraged simple mind dont vision\n",
              "371    traditionalist bored bored bored rule cheerful...\n",
              "153    conversion random fellow passenger melbourne y...\n",
              "Name: final_text, Length: 6178, dtype: object"
            ]
          },
          "metadata": {},
          "execution_count": 28
        }
      ],
      "source": [
        "pd.concat([X_train, X_val])"
      ]
    },
    {
      "cell_type": "code",
      "execution_count": 29,
      "id": "eb760bc3",
      "metadata": {
        "colab": {
          "base_uri": "https://localhost:8080/"
        },
        "id": "eb760bc3",
        "outputId": "0747c607-6a37-4001-b1e3-44394226be8f"
      },
      "outputs": [
        {
          "output_type": "stream",
          "name": "stdout",
          "text": [
            "Found 10899 unique tokens.\n"
          ]
        }
      ],
      "source": [
        "# here we use the Tokenizer of keras, fitting it on all our training and validation data, \n",
        "# getting the sequences and the words with the corresponding index (unique words)\n",
        "\n",
        "num_words = 10000\n",
        "\n",
        "tokenizer = Tokenizer(nb_words=num_words)\n",
        "tokenizer.fit_on_texts(pd.concat([X_train, X_val]))\n",
        "\n",
        "sequences = tokenizer.texts_to_sequences(pd.concat([X_train, X_val]))\n",
        "word_index = tokenizer.word_index\n",
        "\n",
        "print('Found %s unique tokens.' % len(word_index))\n",
        "data = pad_sequences(sequences, maxlen=50)"
      ]
    },
    {
      "cell_type": "code",
      "execution_count": 30,
      "id": "NgammNzcMvVY",
      "metadata": {
        "id": "NgammNzcMvVY"
      },
      "outputs": [],
      "source": [
        "# from these commands you can download the pre-trained word embeddings\n",
        "\n",
        "# !curl -O http://nlp.stanford.edu/data/glove.6B.zip\n",
        "# !unzip -q glove.6B.zip"
      ]
    },
    {
      "cell_type": "markdown",
      "id": "91fa3c14",
      "metadata": {
        "id": "91fa3c14"
      },
      "source": [
        "### Use the embedding with 200 features for each unique word\n",
        "Put the file of the pretrained embedding of 400K vectors with 200 features into your drive.\n",
        "\n",
        "Grant access to the following command which woul bring your drive folder into colab environment"
      ]
    },
    {
      "cell_type": "code",
      "source": [
        "# get the drive folder into the environment\n",
        "drive.mount('/content/drive')"
      ],
      "metadata": {
        "colab": {
          "base_uri": "https://localhost:8080/"
        },
        "id": "pqte8gdKyx_O",
        "outputId": "39bf89f6-f5d8-4e89-851c-683846d2b31c"
      },
      "id": "pqte8gdKyx_O",
      "execution_count": 31,
      "outputs": [
        {
          "output_type": "stream",
          "name": "stdout",
          "text": [
            "Mounted at /content/drive\n"
          ]
        }
      ]
    },
    {
      "cell_type": "code",
      "execution_count": 32,
      "id": "f8ddddff",
      "metadata": {
        "colab": {
          "base_uri": "https://localhost:8080/"
        },
        "id": "f8ddddff",
        "outputId": "f873cbf8-c9c2-4d74-a7ab-ba2bbef1dc0f"
      },
      "outputs": [
        {
          "output_type": "stream",
          "name": "stdout",
          "text": [
            "Found 400000 word vectors.\n"
          ]
        }
      ],
      "source": [
        "#GLOVE_DIR = os.getcwd()\n",
        "embeddings_index = {}\n",
        "\n",
        "f = open(\"/content/drive/MyDrive/glove.6B.200d.txt\")\n",
        "for line in f:\n",
        "    values = line.split()\n",
        "    word = values[0]\n",
        "    coefs = np.asarray(values[1:], dtype='float32')\n",
        "    embeddings_index[word] = coefs\n",
        "f.close()\n",
        "\n",
        "print('Found %s word vectors.' % len(embeddings_index))"
      ]
    },
    {
      "cell_type": "code",
      "execution_count": 33,
      "id": "6c98d9eb",
      "metadata": {
        "id": "6c98d9eb"
      },
      "outputs": [],
      "source": [
        "# Get the embedding matrix which is going to be put in the Embedding layer of the neural network architecture\n",
        "\n",
        "embedding_matrix = np.zeros((len(word_index) + 1, 200))\n",
        "for word, i in word_index.items():\n",
        "    embedding_vector = embeddings_index.get(word)\n",
        "    if embedding_vector is not None:\n",
        "        # words not found in embedding index will be all-zeros.\n",
        "        embedding_matrix[i] = embedding_vector"
      ]
    },
    {
      "cell_type": "code",
      "execution_count": 34,
      "id": "c80377ce",
      "metadata": {
        "id": "c80377ce"
      },
      "outputs": [],
      "source": [
        "# Create the keras Embedding layer with 10K words specifying that the weights here are not trainable\n",
        "# because we are using a pre-trained model (glove twitter words with 200 features)\n",
        "\n",
        "embedding_layer = Embedding(len(word_index) + 1,\n",
        "                            200,\n",
        "                            weights=[embedding_matrix],\n",
        "                            input_length=50,\n",
        "                            trainable=False)"
      ]
    },
    {
      "cell_type": "code",
      "execution_count": 35,
      "id": "14393354",
      "metadata": {
        "id": "14393354"
      },
      "outputs": [],
      "source": [
        "# Convert texts into some numeric sequences and make the length of all numeric sequences equal \n",
        "\n",
        "X_train_seq = tokenizer.texts_to_sequences(X_train) \n",
        "X_train_pad = pad_sequences(X_train_seq, maxlen = 50, padding = 'post') \n",
        "\n",
        "X_test_seq = tokenizer.texts_to_sequences(X_test)\n",
        "X_test_pad = pad_sequences(X_test_seq, maxlen = 50, padding = 'post')\n",
        "\n",
        "X_val_seq = tokenizer.texts_to_sequences(X_val)\n",
        "X_val_pad = pad_sequences(X_val_seq, maxlen = 50, padding = 'post')\n",
        "\n",
        "X_train_pad = np.array(X_train_pad)\n",
        "X_test_pad = np.array(X_test_pad)\n",
        "X_val_pad = np.array(X_val_pad)"
      ]
    },
    {
      "cell_type": "markdown",
      "id": "254b5fee",
      "metadata": {
        "id": "254b5fee"
      },
      "source": [
        "## 1. Model with Embedding and 3 LSTMs\n",
        "Note that if you have a GPU available, just specify **CuDNNLSTM** instead of **LSTM**. It does the same things but **5x** faster."
      ]
    },
    {
      "cell_type": "code",
      "execution_count": 37,
      "id": "c90c58f3",
      "metadata": {
        "id": "c90c58f3"
      },
      "outputs": [],
      "source": [
        "# number of classes\n",
        "\n",
        "class_num = 4"
      ]
    },
    {
      "cell_type": "code",
      "execution_count": 38,
      "id": "a31c8ef9",
      "metadata": {
        "id": "a31c8ef9"
      },
      "outputs": [],
      "source": [
        "def build_model(hp):\n",
        "    model = tf.keras.Sequential(\n",
        "        [\n",
        "            embedding_layer,\n",
        "            Dropout(0.2),\n",
        "            Bidirectional(CuDNNLSTM(hp.Choice('lstm_1', values=[50, 100, 150]), \n",
        "                               return_sequences=True)),\n",
        "            Dropout(0.2),\n",
        "            Bidirectional(CuDNNLSTM(hp.Choice('lstm_2', values=[50, 100, 150]), \n",
        "                               return_sequences=True)),\n",
        "            Dropout(0.2),\n",
        "            Bidirectional(CuDNNLSTM(hp.Choice('lstm_3', values=[50, 100, 150]), \n",
        "                               return_sequences=False)),\n",
        "            Dense(class_num, \n",
        "                  activation = 'softmax')\n",
        "        ])\n",
        "\n",
        "    \n",
        "    model.compile(loss='categorical_crossentropy', optimizer='adam', metrics='accuracy')\n",
        "        \n",
        "    return model"
      ]
    },
    {
      "cell_type": "code",
      "execution_count": 39,
      "id": "7051141e",
      "metadata": {
        "id": "7051141e"
      },
      "outputs": [],
      "source": [
        "tuner = Hyperband(build_model, \n",
        "                  objective='val_accuracy', \n",
        "                  max_epochs=20,\n",
        "                  hyperband_iterations=1,\n",
        "                  directory=DIR,\n",
        "                  project_name='deep-learning-experiment')"
      ]
    },
    {
      "cell_type": "code",
      "execution_count": 41,
      "id": "d38aa188",
      "metadata": {
        "id": "d38aa188"
      },
      "outputs": [],
      "source": [
        "early_stop = tf.keras.callbacks.EarlyStopping(monitor='val_loss', \n",
        "                                              patience=5, \n",
        "                                              min_delta=0.001)"
      ]
    },
    {
      "cell_type": "code",
      "execution_count": 42,
      "id": "c71ddb3e",
      "metadata": {
        "id": "c71ddb3e"
      },
      "outputs": [],
      "source": [
        "tuner.search(x=X_train_pad,\n",
        "             y=y_train,\n",
        "             epochs=20,\n",
        "             batch_size=64,\n",
        "             use_multiprocessing=True,\n",
        "             validation_data=(X_val_pad, y_val),\n",
        "             callbacks=[early_stop])"
      ]
    },
    {
      "cell_type": "code",
      "execution_count": 43,
      "id": "06a34570",
      "metadata": {
        "colab": {
          "base_uri": "https://localhost:8080/"
        },
        "id": "06a34570",
        "outputId": "5a0ba16c-1d55-44ad-eaab-dc088b8442c5"
      },
      "outputs": [
        {
          "output_type": "stream",
          "name": "stdout",
          "text": [
            "Hyperparameter for LSTM 1: 50\n",
            "Hyperparameter for LSTM 2: 150\n",
            "Hyperparameter for LSTM 3: 50\n"
          ]
        }
      ],
      "source": [
        "# Get the optimal hyperparameters\n",
        "best_hps=tuner.get_best_hyperparameters(num_trials=1)[0]\n",
        "\n",
        "print(\"Hyperparameter for LSTM 1:\", best_hps.get('lstm_1'))\n",
        "print(\"Hyperparameter for LSTM 2:\", best_hps.get('lstm_2'))\n",
        "print(\"Hyperparameter for LSTM 3:\", best_hps.get('lstm_3'))\n",
        "\n",
        "#print(\"Hyperparameter for Dropout rate 1:\", best_hps.get('dropout_rate_1'))\n",
        "#print(\"Hyperparameter for Dropout rate 2:\", best_hps.get('dropout_rate_2'))\n",
        "#print(\"Hyperparameter for Dropout rate 3:\", best_hps.get('dropout_rate_3'))"
      ]
    },
    {
      "cell_type": "code",
      "execution_count": 44,
      "id": "6eb27914",
      "metadata": {
        "colab": {
          "base_uri": "https://localhost:8080/"
        },
        "id": "6eb27914",
        "outputId": "11d245d2-ab3e-478f-8a2d-7cb723e9cbce"
      },
      "outputs": [
        {
          "output_type": "stream",
          "name": "stdout",
          "text": [
            "Epoch 1/20\n",
            "167/167 [==============================] - 9s 24ms/step - loss: 1.0734 - accuracy: 0.5481 - val_loss: 0.8018 - val_accuracy: 0.6879\n",
            "Epoch 2/20\n",
            "167/167 [==============================] - 3s 19ms/step - loss: 0.7586 - accuracy: 0.7156 - val_loss: 0.6413 - val_accuracy: 0.7538\n",
            "Epoch 3/20\n",
            "167/167 [==============================] - 3s 19ms/step - loss: 0.6053 - accuracy: 0.7788 - val_loss: 0.5578 - val_accuracy: 0.8012\n",
            "Epoch 4/20\n",
            "167/167 [==============================] - 3s 20ms/step - loss: 0.5189 - accuracy: 0.8067 - val_loss: 0.4890 - val_accuracy: 0.8220\n",
            "Epoch 5/20\n",
            "167/167 [==============================] - 3s 19ms/step - loss: 0.4294 - accuracy: 0.8443 - val_loss: 0.4809 - val_accuracy: 0.8231\n",
            "Epoch 6/20\n",
            "167/167 [==============================] - 3s 19ms/step - loss: 0.3961 - accuracy: 0.8547 - val_loss: 0.4880 - val_accuracy: 0.8162\n",
            "Epoch 7/20\n",
            "167/167 [==============================] - 3s 20ms/step - loss: 0.3882 - accuracy: 0.8592 - val_loss: 0.4271 - val_accuracy: 0.8370\n",
            "Epoch 8/20\n",
            "167/167 [==============================] - 3s 19ms/step - loss: 0.3045 - accuracy: 0.8880 - val_loss: 0.4082 - val_accuracy: 0.8405\n",
            "Epoch 9/20\n",
            "167/167 [==============================] - 3s 20ms/step - loss: 0.2656 - accuracy: 0.9008 - val_loss: 0.4128 - val_accuracy: 0.8405\n",
            "Epoch 10/20\n",
            "167/167 [==============================] - 3s 19ms/step - loss: 0.2715 - accuracy: 0.8982 - val_loss: 0.4170 - val_accuracy: 0.8462\n",
            "Epoch 11/20\n",
            "167/167 [==============================] - 3s 19ms/step - loss: 0.2535 - accuracy: 0.9063 - val_loss: 0.4238 - val_accuracy: 0.8405\n",
            "Epoch 12/20\n",
            "167/167 [==============================] - 3s 19ms/step - loss: 0.2219 - accuracy: 0.9134 - val_loss: 0.4166 - val_accuracy: 0.8428\n",
            "Epoch 13/20\n",
            "167/167 [==============================] - 3s 19ms/step - loss: 0.1856 - accuracy: 0.9277 - val_loss: 0.4380 - val_accuracy: 0.8439\n",
            "Epoch 14/20\n",
            "167/167 [==============================] - 3s 19ms/step - loss: 0.1779 - accuracy: 0.9315 - val_loss: 0.4493 - val_accuracy: 0.8578\n",
            "Epoch 15/20\n",
            "167/167 [==============================] - 3s 19ms/step - loss: 0.1479 - accuracy: 0.9375 - val_loss: 0.4186 - val_accuracy: 0.8520\n",
            "Epoch 16/20\n",
            "167/167 [==============================] - 4s 22ms/step - loss: 0.1714 - accuracy: 0.9337 - val_loss: 0.4404 - val_accuracy: 0.8509\n",
            "Epoch 17/20\n",
            "167/167 [==============================] - 3s 19ms/step - loss: 0.1456 - accuracy: 0.9409 - val_loss: 0.4278 - val_accuracy: 0.8451\n",
            "Epoch 18/20\n",
            "167/167 [==============================] - 3s 19ms/step - loss: 0.1324 - accuracy: 0.9454 - val_loss: 0.4745 - val_accuracy: 0.8451\n",
            "Epoch 19/20\n",
            "167/167 [==============================] - 3s 19ms/step - loss: 0.1273 - accuracy: 0.9458 - val_loss: 0.4696 - val_accuracy: 0.8543\n",
            "Epoch 20/20\n",
            "167/167 [==============================] - 3s 19ms/step - loss: 0.1140 - accuracy: 0.9524 - val_loss: 0.5145 - val_accuracy: 0.8497\n"
          ]
        }
      ],
      "source": [
        "model = tuner.hypermodel.build(best_hps)\n",
        "history = model.fit(X_train_pad, y_train, epochs=20, validation_data=(X_val_pad, y_val))"
      ]
    },
    {
      "cell_type": "code",
      "execution_count": 45,
      "id": "54d4f732",
      "metadata": {
        "colab": {
          "base_uri": "https://localhost:8080/",
          "height": 573
        },
        "id": "54d4f732",
        "outputId": "1a6debda-59d6-498f-951f-fef2f1869e9f"
      },
      "outputs": [
        {
          "output_type": "display_data",
          "data": {
            "text/plain": [
              "<Figure size 432x288 with 1 Axes>"
            ],
            "image/png": "[encoded data removed]"
          },
          "metadata": {
            "needs_background": "light"
          }
        },
        {
          "output_type": "display_data",
          "data": {
            "text/plain": [
              "<Figure size 432x288 with 1 Axes>"
            ],
            "image/png": "[encoded data removed]"
          },
          "metadata": {
            "needs_background": "light"
          }
        }
      ],
      "source": [
        "plot_history()"
      ]
    },
    {
      "cell_type": "code",
      "execution_count": 46,
      "id": "b7d5c7e7",
      "metadata": {
        "colab": {
          "base_uri": "https://localhost:8080/"
        },
        "id": "b7d5c7e7",
        "outputId": "e122b681-385a-4e72-bec5-c0c3cf718913"
      },
      "outputs": [
        {
          "output_type": "stream",
          "name": "stdout",
          "text": [
            "Best epoch: 14\n"
          ]
        }
      ],
      "source": [
        "val_acc_per_epoch = history.history['val_accuracy']\n",
        "best_number_of_epoch = val_acc_per_epoch.index(max(val_acc_per_epoch)) + 1\n",
        "print('Best epoch: %d' % (best_number_of_epoch,))"
      ]
    },
    {
      "cell_type": "code",
      "execution_count": 47,
      "id": "db3cc8f2",
      "metadata": {
        "colab": {
          "base_uri": "https://localhost:8080/"
        },
        "id": "db3cc8f2",
        "outputId": "d9ce0429-3941-42c1-c38d-f5bb2ffa7a77"
      },
      "outputs": [
        {
          "output_type": "stream",
          "name": "stdout",
          "text": [
            "Epoch 1/14\n",
            "167/167 [==============================] - 7s 24ms/step - loss: 1.0647 - accuracy: 0.5547 - val_loss: 0.8393 - val_accuracy: 0.6717\n",
            "Epoch 2/14\n",
            "167/167 [==============================] - 3s 19ms/step - loss: 0.7757 - accuracy: 0.7015 - val_loss: 0.7157 - val_accuracy: 0.7283\n",
            "Epoch 3/14\n",
            "167/167 [==============================] - 3s 19ms/step - loss: 0.6606 - accuracy: 0.7529 - val_loss: 0.5846 - val_accuracy: 0.7653\n",
            "Epoch 4/14\n",
            "167/167 [==============================] - 3s 19ms/step - loss: 0.5301 - accuracy: 0.8063 - val_loss: 0.5201 - val_accuracy: 0.8000\n",
            "Epoch 5/14\n",
            "167/167 [==============================] - 3s 19ms/step - loss: 0.4757 - accuracy: 0.8251 - val_loss: 0.4744 - val_accuracy: 0.8289\n",
            "Epoch 6/14\n",
            "167/167 [==============================] - 3s 19ms/step - loss: 0.4028 - accuracy: 0.8526 - val_loss: 0.4476 - val_accuracy: 0.8324\n",
            "Epoch 7/14\n",
            "167/167 [==============================] - 4s 23ms/step - loss: 0.3613 - accuracy: 0.8669 - val_loss: 0.4237 - val_accuracy: 0.8347\n",
            "Epoch 8/14\n",
            "167/167 [==============================] - 3s 21ms/step - loss: 0.3186 - accuracy: 0.8818 - val_loss: 0.4170 - val_accuracy: 0.8439\n",
            "Epoch 9/14\n",
            "167/167 [==============================] - 3s 19ms/step - loss: 0.2751 - accuracy: 0.8963 - val_loss: 0.4259 - val_accuracy: 0.8393\n",
            "Epoch 10/14\n",
            "167/167 [==============================] - 3s 19ms/step - loss: 0.2616 - accuracy: 0.9010 - val_loss: 0.4064 - val_accuracy: 0.8439\n",
            "Epoch 11/14\n",
            "167/167 [==============================] - 3s 19ms/step - loss: 0.2320 - accuracy: 0.9095 - val_loss: 0.4140 - val_accuracy: 0.8474\n",
            "Epoch 12/14\n",
            "167/167 [==============================] - 3s 19ms/step - loss: 0.2154 - accuracy: 0.9176 - val_loss: 0.4258 - val_accuracy: 0.8509\n",
            "Epoch 13/14\n",
            "167/167 [==============================] - 3s 19ms/step - loss: 0.1870 - accuracy: 0.9262 - val_loss: 0.4509 - val_accuracy: 0.8451\n",
            "Epoch 14/14\n",
            "167/167 [==============================] - 3s 19ms/step - loss: 0.1739 - accuracy: 0.9339 - val_loss: 0.4625 - val_accuracy: 0.8382\n"
          ]
        }
      ],
      "source": [
        "hypermodel = tuner.hypermodel.build(best_hps)\n",
        "\n",
        "# re-train the model\n",
        "hystory = hypermodel.fit(X_train_pad, y_train, epochs=best_number_of_epoch, validation_data=(X_val_pad, y_val))"
      ]
    },
    {
      "cell_type": "code",
      "execution_count": 48,
      "id": "51a9a73a",
      "metadata": {
        "colab": {
          "base_uri": "https://localhost:8080/"
        },
        "id": "51a9a73a",
        "outputId": "445df8c1-9d9b-413f-d33f-6ab301146636"
      },
      "outputs": [
        {
          "output_type": "stream",
          "name": "stdout",
          "text": [
            "Test loss: 0.47706708312034607\n",
            "Test accuracy: 0.8538960814476013\n"
          ]
        }
      ],
      "source": [
        "# check external validity on the test set\n",
        "score = hypermodel.evaluate(X_test_pad, y_test, verbose=0)\n",
        "print(\"Test loss:\", score[0])\n",
        "print(\"Test accuracy:\", score[1])"
      ]
    },
    {
      "cell_type": "code",
      "execution_count": 49,
      "id": "3712990f",
      "metadata": {
        "colab": {
          "base_uri": "https://localhost:8080/"
        },
        "id": "3712990f",
        "outputId": "82cba410-7724-44d4-b3f1-e3ae3ce47f29"
      },
      "outputs": [
        {
          "output_type": "stream",
          "name": "stdout",
          "text": [
            "              precision    recall  f1-score   support\n",
            "\n",
            "           0       0.81      0.88      0.84       204\n",
            "           1       0.86      0.84      0.85       300\n",
            "           2       0.90      0.90      0.90       210\n",
            "           3       0.84      0.80      0.82       210\n",
            "\n",
            "    accuracy                           0.85       924\n",
            "   macro avg       0.85      0.86      0.85       924\n",
            "weighted avg       0.85      0.85      0.85       924\n",
            "\n"
          ]
        }
      ],
      "source": [
        "y_pred = np.argmax(hypermodel.predict(X_test_pad), axis=1)\n",
        "y_true = np.argmax(y_test, axis=1)\n",
        "print(metrics.classification_report(y_pred, y_true))"
      ]
    },
    {
      "cell_type": "code",
      "execution_count": 50,
      "id": "6f9e30cf",
      "metadata": {
        "colab": {
          "base_uri": "https://localhost:8080/",
          "height": 298
        },
        "id": "6f9e30cf",
        "outputId": "12d8878e-a005-4633-de97-21ffab04689c"
      },
      "outputs": [
        {
          "output_type": "execute_result",
          "data": {
            "text/plain": [
              "<sklearn.metrics._plot.confusion_matrix.ConfusionMatrixDisplay at 0x7f6d1a4f3b90>"
            ]
          },
          "metadata": {},
          "execution_count": 50
        },
        {
          "output_type": "display_data",
          "data": {
            "text/plain": [
              "<Figure size 432x288 with 2 Axes>"
            ],
            "image/png": "[encoded data removed]"
          },
          "metadata": {
            "needs_background": "light"
          }
        }
      ],
      "source": [
        "cm = ConfusionMatrixDisplay(confusion_matrix(y_pred, y_true))\n",
        "cm.plot()"
      ]
    },
    {
      "cell_type": "code",
      "source": [
        "def build_model():\n",
        "    model = Sequential()\n",
        "    model.add(embedding_layer)\n",
        "    model.add(Dropout(0.2))\n",
        "    model.add(Bidirectional(CuDNNLSTM(best_hps.get('lstm_1'), \n",
        "                                 return_sequences=True)))\n",
        "    model.add(Dropout(0.2))\n",
        "    model.add(Bidirectional(CuDNNLSTM(best_hps.get('lstm_2'), \n",
        "                                 return_sequences=True)))\n",
        "    model.add(Dropout(0.2))\n",
        "    model.add(Bidirectional(CuDNNLSTM(best_hps.get('lstm_3'), \n",
        "                                 return_sequences=False)))\n",
        "    model.add(Dense(class_num, \n",
        "                    activation = 'softmax'))\n",
        "    \n",
        "    model.compile(loss='categorical_crossentropy', optimizer='adam', metrics='accuracy')\n",
        "    return model"
      ],
      "metadata": {
        "id": "_L5iULDq9ui4"
      },
      "id": "_L5iULDq9ui4",
      "execution_count": 52,
      "outputs": []
    },
    {
      "cell_type": "code",
      "source": [
        "# set up the 3-fold cross validation to get a more accurate estimate of the accuracy of the model\n",
        "\n",
        "num_folds = 5\n",
        "\n",
        "# Define per-fold score containers\n",
        "acc_per_fold = []\n",
        "loss_per_fold = []\n",
        "\n",
        "# Merge inputs and targets\n",
        "inputs = np.concatenate((X_train_pad, X_val_pad), axis=0)\n",
        "targets = np.concatenate((y_train, y_val), axis=0)\n",
        "\n",
        "# Define the K-fold Cross Validator\n",
        "kfold = KFold(n_splits=num_folds, shuffle=True)\n",
        "fold_no = 1\n",
        "\n",
        "for train, test in kfold.split(inputs, targets):\n",
        "    model = build_model()\n",
        "    # Generate a print\n",
        "    print('------------------------------------------------------------------------')\n",
        "    print(f'Training for fold {fold_no} ...')\n",
        "    # Fit data to model\n",
        "    history = model.fit(inputs[train], targets[train],\n",
        "              batch_size=128,\n",
        "              epochs=best_number_of_epoch)\n",
        "    # Generate generalization metrics\n",
        "    scores = model.evaluate(inputs[test], targets[test], verbose=0)\n",
        "    print(f'Score for fold {fold_no}: {model.metrics_names[0]} of {scores[0]}; {model.metrics_names[1]} of {scores[1]*100}%')\n",
        "    acc_per_fold.append(scores[1] * 100)\n",
        "    loss_per_fold.append(scores[0])\n",
        "    \n",
        "    # Increase fold number\n",
        "    fold_no = fold_no + 1"
      ],
      "metadata": {
        "colab": {
          "base_uri": "https://localhost:8080/"
        },
        "id": "a5SVTBZ81YEw",
        "outputId": "49589bf0-d3fa-4512-d272-a60aa0b52934"
      },
      "id": "a5SVTBZ81YEw",
      "execution_count": 53,
      "outputs": [
        {
          "output_type": "stream",
          "name": "stdout",
          "text": [
            "------------------------------------------------------------------------\n",
            "Training for fold 1 ...\n",
            "Epoch 1/14\n",
            "39/39 [==============================] - 5s 26ms/step - loss: 1.2160 - accuracy: 0.4488\n",
            "Epoch 2/14\n",
            "39/39 [==============================] - 1s 23ms/step - loss: 0.9194 - accuracy: 0.6350\n",
            "Epoch 3/14\n",
            "39/39 [==============================] - 1s 24ms/step - loss: 0.7751 - accuracy: 0.7003\n",
            "Epoch 4/14\n",
            "39/39 [==============================] - 1s 23ms/step - loss: 0.6564 - accuracy: 0.7507\n",
            "Epoch 5/14\n",
            "39/39 [==============================] - 1s 23ms/step - loss: 0.5973 - accuracy: 0.7776\n",
            "Epoch 6/14\n",
            "39/39 [==============================] - 1s 23ms/step - loss: 0.5198 - accuracy: 0.8070\n",
            "Epoch 7/14\n",
            "39/39 [==============================] - 1s 23ms/step - loss: 0.4785 - accuracy: 0.8213\n",
            "Epoch 8/14\n",
            "39/39 [==============================] - 1s 23ms/step - loss: 0.4197 - accuracy: 0.8470\n",
            "Epoch 9/14\n",
            "39/39 [==============================] - 1s 23ms/step - loss: 0.3806 - accuracy: 0.8630\n",
            "Epoch 10/14\n",
            "39/39 [==============================] - 1s 23ms/step - loss: 0.3423 - accuracy: 0.8719\n",
            "Epoch 11/14\n",
            "39/39 [==============================] - 1s 23ms/step - loss: 0.3192 - accuracy: 0.8816\n",
            "Epoch 12/14\n",
            "39/39 [==============================] - 1s 24ms/step - loss: 0.2822 - accuracy: 0.8958\n",
            "Epoch 13/14\n",
            "39/39 [==============================] - 1s 23ms/step - loss: 0.2534 - accuracy: 0.9031\n",
            "Epoch 14/14\n",
            "39/39 [==============================] - 1s 24ms/step - loss: 0.2445 - accuracy: 0.9043\n",
            "Score for fold 1: loss of 0.5317317843437195; accuracy of 81.1488687992096%\n",
            "------------------------------------------------------------------------\n",
            "Training for fold 2 ...\n",
            "Epoch 1/14\n",
            "39/39 [==============================] - 4s 26ms/step - loss: 1.2035 - accuracy: 0.4611\n",
            "Epoch 2/14\n",
            "39/39 [==============================] - 1s 24ms/step - loss: 0.9292 - accuracy: 0.6297\n",
            "Epoch 3/14\n",
            "39/39 [==============================] - 1s 24ms/step - loss: 0.7687 - accuracy: 0.7052\n",
            "Epoch 4/14\n",
            "39/39 [==============================] - 1s 23ms/step - loss: 0.6576 - accuracy: 0.7562\n",
            "Epoch 5/14\n",
            "39/39 [==============================] - 1s 23ms/step - loss: 0.6088 - accuracy: 0.7740\n",
            "Epoch 6/14\n",
            "39/39 [==============================] - 1s 24ms/step - loss: 0.5214 - accuracy: 0.8126\n",
            "Epoch 7/14\n",
            "39/39 [==============================] - 1s 24ms/step - loss: 0.4727 - accuracy: 0.8227\n",
            "Epoch 8/14\n",
            "39/39 [==============================] - 1s 24ms/step - loss: 0.4078 - accuracy: 0.8523\n",
            "Epoch 9/14\n",
            "39/39 [==============================] - 1s 24ms/step - loss: 0.4021 - accuracy: 0.8531\n",
            "Epoch 10/14\n",
            "39/39 [==============================] - 1s 24ms/step - loss: 0.3448 - accuracy: 0.8745\n",
            "Epoch 11/14\n",
            "39/39 [==============================] - 1s 24ms/step - loss: 0.3094 - accuracy: 0.8830\n",
            "Epoch 12/14\n",
            "39/39 [==============================] - 1s 24ms/step - loss: 0.2873 - accuracy: 0.8936\n",
            "Epoch 13/14\n",
            "39/39 [==============================] - 1s 24ms/step - loss: 0.2668 - accuracy: 0.9033\n",
            "Epoch 14/14\n",
            "39/39 [==============================] - 1s 24ms/step - loss: 0.2370 - accuracy: 0.9104\n",
            "Score for fold 2: loss of 0.5410548448562622; accuracy of 81.47249221801758%\n",
            "------------------------------------------------------------------------\n",
            "Training for fold 3 ...\n",
            "Epoch 1/14\n",
            "39/39 [==============================] - 4s 27ms/step - loss: 1.2087 - accuracy: 0.4593\n",
            "Epoch 2/14\n",
            "39/39 [==============================] - 1s 23ms/step - loss: 0.9384 - accuracy: 0.6287\n",
            "Epoch 3/14\n",
            "39/39 [==============================] - 1s 23ms/step - loss: 0.7822 - accuracy: 0.7036\n",
            "Epoch 4/14\n",
            "39/39 [==============================] - 1s 24ms/step - loss: 0.6941 - accuracy: 0.7416\n",
            "Epoch 5/14\n",
            "39/39 [==============================] - 1s 24ms/step - loss: 0.6207 - accuracy: 0.7687\n",
            "Epoch 6/14\n",
            "39/39 [==============================] - 1s 23ms/step - loss: 0.5424 - accuracy: 0.8021\n",
            "Epoch 7/14\n",
            "39/39 [==============================] - 1s 23ms/step - loss: 0.4897 - accuracy: 0.8213\n",
            "Epoch 8/14\n",
            "39/39 [==============================] - 1s 24ms/step - loss: 0.4574 - accuracy: 0.8294\n",
            "Epoch 9/14\n",
            "39/39 [==============================] - 1s 24ms/step - loss: 0.3862 - accuracy: 0.8596\n",
            "Epoch 10/14\n",
            "39/39 [==============================] - 1s 24ms/step - loss: 0.3663 - accuracy: 0.8630\n",
            "Epoch 11/14\n",
            "39/39 [==============================] - 1s 23ms/step - loss: 0.3337 - accuracy: 0.8774\n",
            "Epoch 12/14\n",
            "39/39 [==============================] - 1s 23ms/step - loss: 0.3003 - accuracy: 0.8919\n",
            "Epoch 13/14\n",
            "39/39 [==============================] - 1s 24ms/step - loss: 0.2800 - accuracy: 0.8966\n",
            "Epoch 14/14\n",
            "39/39 [==============================] - 1s 23ms/step - loss: 0.2534 - accuracy: 0.9039\n",
            "Score for fold 3: loss of 0.5002970695495605; accuracy of 81.31067752838135%\n",
            "------------------------------------------------------------------------\n",
            "Training for fold 4 ...\n",
            "Epoch 1/14\n",
            "39/39 [==============================] - 4s 27ms/step - loss: 1.1992 - accuracy: 0.4675\n",
            "Epoch 2/14\n",
            "39/39 [==============================] - 1s 23ms/step - loss: 0.9027 - accuracy: 0.6389\n",
            "Epoch 3/14\n",
            "39/39 [==============================] - 1s 23ms/step - loss: 0.7633 - accuracy: 0.7040\n",
            "Epoch 4/14\n",
            "39/39 [==============================] - 1s 23ms/step - loss: 0.6550 - accuracy: 0.7487\n",
            "Epoch 5/14\n",
            "39/39 [==============================] - 1s 24ms/step - loss: 0.5631 - accuracy: 0.7924\n",
            "Epoch 6/14\n",
            "39/39 [==============================] - 1s 24ms/step - loss: 0.5188 - accuracy: 0.8082\n",
            "Epoch 7/14\n",
            "39/39 [==============================] - 1s 24ms/step - loss: 0.4643 - accuracy: 0.8280\n",
            "Epoch 8/14\n",
            "39/39 [==============================] - 1s 24ms/step - loss: 0.4111 - accuracy: 0.8515\n",
            "Epoch 9/14\n",
            "39/39 [==============================] - 1s 24ms/step - loss: 0.3498 - accuracy: 0.8713\n",
            "Epoch 10/14\n",
            "39/39 [==============================] - 1s 24ms/step - loss: 0.3395 - accuracy: 0.8705\n",
            "Epoch 11/14\n",
            "39/39 [==============================] - 1s 24ms/step - loss: 0.2793 - accuracy: 0.8954\n",
            "Epoch 12/14\n",
            "39/39 [==============================] - 1s 24ms/step - loss: 0.2841 - accuracy: 0.8962\n",
            "Epoch 13/14\n",
            "39/39 [==============================] - 1s 24ms/step - loss: 0.2429 - accuracy: 0.9088\n",
            "Epoch 14/14\n",
            "39/39 [==============================] - 1s 24ms/step - loss: 0.2268 - accuracy: 0.9140\n",
            "Score for fold 4: loss of 0.6460394859313965; accuracy of 79.91902828216553%\n",
            "------------------------------------------------------------------------\n",
            "Training for fold 5 ...\n",
            "Epoch 1/14\n",
            "39/39 [==============================] - 5s 26ms/step - loss: 1.1909 - accuracy: 0.4657\n",
            "Epoch 2/14\n",
            "39/39 [==============================] - 1s 24ms/step - loss: 0.8992 - accuracy: 0.6472\n",
            "Epoch 3/14\n",
            "39/39 [==============================] - 1s 23ms/step - loss: 0.7648 - accuracy: 0.7166\n",
            "Epoch 4/14\n",
            "39/39 [==============================] - 1s 24ms/step - loss: 0.6786 - accuracy: 0.7465\n",
            "Epoch 5/14\n",
            "39/39 [==============================] - 1s 23ms/step - loss: 0.6070 - accuracy: 0.7736\n",
            "Epoch 6/14\n",
            "39/39 [==============================] - 1s 24ms/step - loss: 0.5251 - accuracy: 0.8100\n",
            "Epoch 7/14\n",
            "39/39 [==============================] - 1s 23ms/step - loss: 0.4689 - accuracy: 0.8264\n",
            "Epoch 8/14\n",
            "39/39 [==============================] - 1s 24ms/step - loss: 0.4332 - accuracy: 0.8373\n",
            "Epoch 9/14\n",
            "39/39 [==============================] - 1s 23ms/step - loss: 0.3970 - accuracy: 0.8562\n",
            "Epoch 10/14\n",
            "39/39 [==============================] - 1s 23ms/step - loss: 0.3393 - accuracy: 0.8758\n",
            "Epoch 11/14\n",
            "39/39 [==============================] - 1s 23ms/step - loss: 0.3115 - accuracy: 0.8831\n",
            "Epoch 12/14\n",
            "39/39 [==============================] - 1s 23ms/step - loss: 0.2912 - accuracy: 0.8950\n",
            "Epoch 13/14\n",
            "39/39 [==============================] - 1s 24ms/step - loss: 0.2668 - accuracy: 0.9005\n",
            "Epoch 14/14\n",
            "39/39 [==============================] - 1s 24ms/step - loss: 0.2445 - accuracy: 0.9100\n",
            "Score for fold 5: loss of 0.5595213174819946; accuracy of 80.72874546051025%\n"
          ]
        }
      ]
    },
    {
      "cell_type": "code",
      "source": [
        "# == Provide average scores ==\n",
        "print('------------------------------------------------------------------------')\n",
        "print('Score per fold')\n",
        "for i in range(0, len(acc_per_fold)):\n",
        "    print('------------------------------------------------------------------------')\n",
        "    print(f'> Fold {i+1} - Loss: {loss_per_fold[i]} - Accuracy: {acc_per_fold[i]}%')\n",
        "print('------------------------------------------------------------------------')\n",
        "print('Average scores for all folds:')\n",
        "print(f'> Accuracy: {np.mean(acc_per_fold)} (+- {np.std(acc_per_fold)})')\n",
        "print(f'> Loss: {np.mean(loss_per_fold)}')\n",
        "print('------------------------------------------------------------------------')"
      ],
      "metadata": {
        "colab": {
          "base_uri": "https://localhost:8080/"
        },
        "id": "sxDyo25b1X7Z",
        "outputId": "02198f43-aec3-48cf-e176-5857fceb6459"
      },
      "id": "sxDyo25b1X7Z",
      "execution_count": 54,
      "outputs": [
        {
          "output_type": "stream",
          "name": "stdout",
          "text": [
            "------------------------------------------------------------------------\n",
            "Score per fold\n",
            "------------------------------------------------------------------------\n",
            "> Fold 1 - Loss: 0.5317317843437195 - Accuracy: 81.1488687992096%\n",
            "------------------------------------------------------------------------\n",
            "> Fold 2 - Loss: 0.5410548448562622 - Accuracy: 81.47249221801758%\n",
            "------------------------------------------------------------------------\n",
            "> Fold 3 - Loss: 0.5002970695495605 - Accuracy: 81.31067752838135%\n",
            "------------------------------------------------------------------------\n",
            "> Fold 4 - Loss: 0.6460394859313965 - Accuracy: 79.91902828216553%\n",
            "------------------------------------------------------------------------\n",
            "> Fold 5 - Loss: 0.5595213174819946 - Accuracy: 80.72874546051025%\n",
            "------------------------------------------------------------------------\n",
            "Average scores for all folds:\n",
            "> Accuracy: 80.91596245765686 (+- 0.5565426631342562)\n",
            "> Loss: 0.5557289004325867\n",
            "------------------------------------------------------------------------\n"
          ]
        }
      ]
    },
    {
      "cell_type": "code",
      "source": [
        "# build a model which can be used also without a GPU, with just lstm\n",
        "\n",
        "model = Sequential()\n",
        "model.add(embedding_layer)\n",
        "model.add(Dropout(0.2))\n",
        "model.add(Bidirectional(LSTM(best_hps.get('lstm_1'), \n",
        "                          return_sequences=True)))\n",
        "model.add(Dropout(0.2))\n",
        "model.add(Bidirectional(LSTM(best_hps.get('lstm_2'), \n",
        "                          return_sequences=True)))\n",
        "model.add(Dropout(0.2))\n",
        "model.add(Bidirectional(LSTM(best_hps.get('lstm_3'), \n",
        "                          return_sequences=False)))\n",
        "model.add(Dense(class_num, \n",
        "                    activation = 'softmax'))\n",
        "\n",
        "model.compile(loss='categorical_crossentropy', optimizer='adam', metrics='accuracy')\n",
        "\n",
        "\n",
        "history = model.fit(X_train_pad, y_train, \n",
        "                    epochs=best_number_of_epoch, \n",
        "                    validation_data=(X_val_pad, y_val))"
      ],
      "metadata": {
        "id": "1okGg39A5yPN",
        "colab": {
          "base_uri": "https://localhost:8080/"
        },
        "outputId": "b32fecf7-8723-4657-d1ff-72b0ca60dcfc"
      },
      "id": "1okGg39A5yPN",
      "execution_count": 61,
      "outputs": [
        {
          "output_type": "stream",
          "name": "stdout",
          "text": [
            "Epoch 1/14\n",
            "167/167 [==============================] - 14s 39ms/step - loss: 1.0464 - accuracy: 0.5571 - val_loss: 0.7926 - val_accuracy: 0.7029\n",
            "Epoch 2/14\n",
            "167/167 [==============================] - 4s 22ms/step - loss: 0.7816 - accuracy: 0.6985 - val_loss: 0.6697 - val_accuracy: 0.7457\n",
            "Epoch 3/14\n",
            "167/167 [==============================] - 4s 22ms/step - loss: 0.6205 - accuracy: 0.7726 - val_loss: 0.5629 - val_accuracy: 0.7942\n",
            "Epoch 4/14\n",
            "167/167 [==============================] - 4s 22ms/step - loss: 0.5351 - accuracy: 0.8073 - val_loss: 0.4991 - val_accuracy: 0.8208\n",
            "Epoch 5/14\n",
            "167/167 [==============================] - 4s 23ms/step - loss: 0.4558 - accuracy: 0.8361 - val_loss: 0.4684 - val_accuracy: 0.8231\n",
            "Epoch 6/14\n",
            "167/167 [==============================] - 4s 22ms/step - loss: 0.4168 - accuracy: 0.8417 - val_loss: 0.4842 - val_accuracy: 0.8243\n",
            "Epoch 7/14\n",
            "167/167 [==============================] - 4s 23ms/step - loss: 0.3846 - accuracy: 0.8568 - val_loss: 0.3977 - val_accuracy: 0.8462\n",
            "Epoch 8/14\n",
            "167/167 [==============================] - 4s 22ms/step - loss: 0.3261 - accuracy: 0.8777 - val_loss: 0.4198 - val_accuracy: 0.8393\n",
            "Epoch 9/14\n",
            "167/167 [==============================] - 5s 30ms/step - loss: 0.2905 - accuracy: 0.8882 - val_loss: 0.4475 - val_accuracy: 0.8428\n",
            "Epoch 10/14\n",
            "167/167 [==============================] - 5s 29ms/step - loss: 0.2594 - accuracy: 0.9002 - val_loss: 0.4028 - val_accuracy: 0.8497\n",
            "Epoch 11/14\n",
            "167/167 [==============================] - 4s 23ms/step - loss: 0.2259 - accuracy: 0.9136 - val_loss: 0.5093 - val_accuracy: 0.8208\n",
            "Epoch 12/14\n",
            "167/167 [==============================] - 4s 23ms/step - loss: 0.2438 - accuracy: 0.9080 - val_loss: 0.4119 - val_accuracy: 0.8462\n",
            "Epoch 13/14\n",
            "167/167 [==============================] - 4s 22ms/step - loss: 0.2183 - accuracy: 0.9155 - val_loss: 0.4621 - val_accuracy: 0.8358\n",
            "Epoch 14/14\n",
            "167/167 [==============================] - 4s 26ms/step - loss: 0.1945 - accuracy: 0.9228 - val_loss: 0.4656 - val_accuracy: 0.8393\n"
          ]
        }
      ]
    },
    {
      "cell_type": "code",
      "source": [
        "# save model and architecture to single file\n",
        "model.save(\"model.h5\")\n",
        "print(\"Saved model to disk\")"
      ],
      "metadata": {
        "colab": {
          "base_uri": "https://localhost:8080/"
        },
        "id": "2X3fCwFt9w1L",
        "outputId": "344e6410-dd61-4d75-baa3-88238f18a757"
      },
      "id": "2X3fCwFt9w1L",
      "execution_count": 62,
      "outputs": [
        {
          "output_type": "stream",
          "name": "stdout",
          "text": [
            "Saved model to disk\n"
          ]
        }
      ]
    },
    {
      "cell_type": "code",
      "source": [
        "from keras.models import load_model\n",
        "\n",
        "# load model\n",
        "model = load_model('model.h5')\n",
        "# summarize model.\n",
        "model.summary()\n",
        "\n",
        "# evaluate the model\n",
        "score = model.evaluate(X_test_pad, y_test, verbose=0)\n",
        "print(\"%s: %.2f%%\" % (model.metrics_names[1], score[1]*100))"
      ],
      "metadata": {
        "colab": {
          "base_uri": "https://localhost:8080/"
        },
        "id": "LYIkHYbs9ydS",
        "outputId": "4fad4b86-c8af-45c3-b670-3961b2cdd581"
      },
      "id": "LYIkHYbs9ydS",
      "execution_count": 63,
      "outputs": [
        {
          "output_type": "stream",
          "name": "stdout",
          "text": [
            "Model: \"sequential_9\"\n",
            "_________________________________________________________________\n",
            " Layer (type)                Output Shape              Param #   \n",
            "=================================================================\n",
            " embedding (Embedding)       (None, 50, 200)           2180000   \n",
            "                                                                 \n",
            " dropout_27 (Dropout)        (None, 50, 200)           0         \n",
            "                                                                 \n",
            " bidirectional_27 (Bidirecti  (None, 50, 100)          100400    \n",
            " onal)                                                           \n",
            "                                                                 \n",
            " dropout_28 (Dropout)        (None, 50, 100)           0         \n",
            "                                                                 \n",
            " bidirectional_28 (Bidirecti  (None, 50, 300)          301200    \n",
            " onal)                                                           \n",
            "                                                                 \n",
            " dropout_29 (Dropout)        (None, 50, 300)           0         \n",
            "                                                                 \n",
            " bidirectional_29 (Bidirecti  (None, 100)              140400    \n",
            " onal)                                                           \n",
            "                                                                 \n",
            " dense_9 (Dense)             (None, 4)                 404       \n",
            "                                                                 \n",
            "=================================================================\n",
            "Total params: 2,722,404\n",
            "Trainable params: 542,404\n",
            "Non-trainable params: 2,180,000\n",
            "_________________________________________________________________\n",
            "accuracy: 84.09%\n"
          ]
        }
      ]
    },
    {
      "cell_type": "code",
      "source": [
        ""
      ],
      "metadata": {
        "id": "rGvKAGMR-gsh"
      },
      "id": "rGvKAGMR-gsh",
      "execution_count": 58,
      "outputs": []
    }
  ],
  "metadata": {
    "accelerator": "GPU",
    "colab": {
      "collapsed_sections": [],
      "name": "text_mining_model_selection-colab.ipynb",
      "provenance": []
    },
    "kernelspec": {
      "display_name": "Python 3 (ipykernel)",
      "language": "python",
      "name": "python3"
    },
    "language_info": {
      "codemirror_mode": {
        "name": "ipython",
        "version": 3
      },
      "file_extension": ".py",
      "mimetype": "text/x-python",
      "name": "python",
      "nbconvert_exporter": "python",
      "pygments_lexer": "ipython3",
      "version": "3.8.5"
    },
    "latex_envs": {
      "LaTeX_envs_menu_present": true,
      "autoclose": false,
      "autocomplete": true,
      "bibliofile": "biblio.bib",
      "cite_by": "apalike",
      "current_citInitial": 1,
      "eqLabelWithNumbers": true,
      "eqNumInitial": 1,
      "hotkeys": {
        "equation": "Ctrl-E",
        "itemize": "Ctrl-I"
      },
      "labels_anchors": false,
      "latex_user_defs": false,
      "report_style_numbering": false,
      "user_envs_cfg": false
    }
  },
  "nbformat": 4,
  "nbformat_minor": 5
}